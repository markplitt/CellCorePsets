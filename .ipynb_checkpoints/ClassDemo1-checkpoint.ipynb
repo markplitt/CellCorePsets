{
 "cells": [
  {
   "cell_type": "code",
   "execution_count": 1,
   "metadata": {
    "collapsed": true
   },
   "outputs": [],
   "source": [
    "from neuron import h, gui\n",
    "import bokeh as bk\n",
    "import matplotlib.pyplot as plt\n",
    "import numpy as np\n",
    "\n",
    "%matplotlib inline"
   ]
  },
  {
   "cell_type": "code",
   "execution_count": 2,
   "metadata": {
    "collapsed": true
   },
   "outputs": [],
   "source": [
    "def soma_vclamp(soma):\n",
    "    vclamp = h.VClamp(soma(0.5))\n",
    "\n",
    "    vclamp.dur[0]= 50\n",
    "    vclamp.dur[1] =  100\n",
    "    vclamp.dur[2] =  50\n",
    "\n",
    "    v0 = -80.\n",
    "    dV = 40.\n",
    "    numSteps = 5\n",
    "\n",
    "    vclamp.amp[0] = -70\n",
    "    vclamp.amp[2] = -70\n",
    "    for i in range(numSteps):\n",
    "        vclamp.amp[1] = v0 + dV*i\n",
    "        i_pas_vec = h.Vector()\n",
    "        i_cap_vec = h.Vector()\n",
    "        t_vec = h.Vector()\n",
    "        v_vec = h.Vector()\n",
    "\n",
    "        i_pas_vec.record(soma(.5)._ref_i_pas)\n",
    "        i_cap_vec.record(soma(.5)._ref_i_cap)\n",
    "        t_vec.record(h._ref_t)\n",
    "        v_vec.record(soma(.5)._ref_v)\n",
    "\n",
    "        h.tstop=200\n",
    "        h.run()\n",
    "\n",
    "        i_membrane = (i_pas_vec.as_numpy() + i_cap_vec.as_numpy())*1000 #pA\n",
    "        v = v_vec.as_numpy()\n",
    "        if i == 0:\n",
    "            I_membrane =  np.zeros([numSteps, i_membrane.size])\n",
    "            V = np.zeros([numSteps, i_membrane.size])\n",
    "        I_membrane[i,:] = i_membrane\n",
    "        V[i,:]=v\n",
    "    return V, I_membrane\n",
    "\n",
    "def soma_iclamp(soma):\n",
    "    iclamp = h.IClamp(soma(0.5))\n",
    "    iclamp.dur= 1\n",
    "    iclamp.delay = 50\n",
    "    i0 = -200.\n",
    "    dI = 50.\n",
    "    numSteps = 9\n",
    "\n",
    "    for i in range(numSteps):\n",
    "\n",
    "\n",
    "        iclamp.amp = i0 + dI*i\n",
    "\n",
    "\n",
    "        \n",
    "        t_vec = h.Vector()\n",
    "        v_vec = h.Vector()\n",
    "\n",
    "        t_vec.record(h._ref_t)\n",
    "        v_vec.record(soma(.5)._ref_v)\n",
    "\n",
    "        h.tstop=150\n",
    "        h.run()\n",
    "\n",
    "        \n",
    "        v = v_vec.as_numpy()\n",
    "        if i == 0:\n",
    "            #I_membrane =  np.zeros([numSteps, i_membrane.size])\n",
    "            V = np.zeros([numSteps, v.size])\n",
    "        #I_membrane[i,:] = i_membrane\n",
    "        V[i,:]=v\n",
    "    return V"
   ]
  },
  {
   "cell_type": "markdown",
   "metadata": {},
   "source": [
    "Passive RC response"
   ]
  },
  {
   "cell_type": "code",
   "execution_count": 5,
   "metadata": {},
   "outputs": [
    {
     "ename": "AttributeError",
     "evalue": "'nrn.Segment' object has no attribute 'g_na'",
     "output_type": "error",
     "traceback": [
      "\u001b[0;31m---------------------------------------------------------------------------\u001b[0m",
      "\u001b[0;31mAttributeError\u001b[0m                            Traceback (most recent call last)",
      "\u001b[0;32m<ipython-input-5-61e303b91814>\u001b[0m in \u001b[0;36m<module>\u001b[0;34m()\u001b[0m\n\u001b[1;32m      3\u001b[0m \u001b[0;31m#soma1.insert('hh')\u001b[0m\u001b[0;34m\u001b[0m\u001b[0;34m\u001b[0m\u001b[0m\n\u001b[1;32m      4\u001b[0m \u001b[0msoma1\u001b[0m\u001b[0;34m.\u001b[0m\u001b[0minsert\u001b[0m\u001b[0;34m(\u001b[0m\u001b[0;34m'na'\u001b[0m\u001b[0;34m)\u001b[0m\u001b[0;34m\u001b[0m\u001b[0m\n\u001b[0;32m----> 5\u001b[0;31m \u001b[0msoma1\u001b[0m\u001b[0;34m(\u001b[0m\u001b[0;36m0.5\u001b[0m\u001b[0;34m)\u001b[0m\u001b[0;34m.\u001b[0m\u001b[0mg_na\u001b[0m \u001b[0;34m=\u001b[0m \u001b[0;36m.05\u001b[0m\u001b[0;34m\u001b[0m\u001b[0m\n\u001b[0m\u001b[1;32m      6\u001b[0m \u001b[0msoma1\u001b[0m\u001b[0;34m.\u001b[0m\u001b[0minsert\u001b[0m\u001b[0;34m(\u001b[0m\u001b[0;34m'kv'\u001b[0m\u001b[0;34m)\u001b[0m\u001b[0;34m\u001b[0m\u001b[0m\n\u001b[1;32m      7\u001b[0m \u001b[0msoma1\u001b[0m\u001b[0;34m.\u001b[0m\u001b[0minsert\u001b[0m\u001b[0;34m(\u001b[0m\u001b[0;34m'km'\u001b[0m\u001b[0;34m)\u001b[0m\u001b[0;34m\u001b[0m\u001b[0m\n",
      "\u001b[0;31mAttributeError\u001b[0m: 'nrn.Segment' object has no attribute 'g_na'"
     ]
    }
   ],
   "source": [
    "soma1 = h.Section(name='soma')\n",
    "soma1.insert('pas')\n",
    "#soma1.insert('hh')\n",
    "soma1.insert('na')\n",
    "soma1(0.5).gbar_na = 10\n",
    "soma1.insert('kv')\n",
    "soma1.insert('km')\n",
    "soma1.nseg = 1\n",
    "\n",
    "V = soma_iclamp(soma1)\n",
    "\n",
    "print(V.shape)\n",
    "plt.plot(V[:,1500:3000].T)\n",
    "plt.show()\n",
    "\n",
    "\n",
    "\n"
   ]
  },
  {
   "cell_type": "code",
   "execution_count": null,
   "metadata": {
    "collapsed": true
   },
   "outputs": [],
   "source": []
  }
 ],
 "metadata": {
  "kernelspec": {
   "display_name": "Python 3",
   "language": "python",
   "name": "python3"
  },
  "language_info": {
   "codemirror_mode": {
    "name": "ipython",
    "version": 3
   },
   "file_extension": ".py",
   "mimetype": "text/x-python",
   "name": "python",
   "nbconvert_exporter": "python",
   "pygments_lexer": "ipython3",
   "version": "3.6.3"
  }
 },
 "nbformat": 4,
 "nbformat_minor": 2
}
