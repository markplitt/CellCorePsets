{
 "cells": [
  {
   "cell_type": "code",
   "execution_count": 17,
   "metadata": {},
   "outputs": [
    {
     "data": {
      "text/html": [
       "\n",
       "    <div class=\"bk-root\">\n",
       "        <a href=\"https://bokeh.pydata.org\" target=\"_blank\" class=\"bk-logo bk-logo-small bk-logo-notebook\"></a>\n",
       "        <span id=\"289bb66d-ea88-4cc2-a5e8-382cfa5633f4\">Loading BokehJS ...</span>\n",
       "    </div>"
      ]
     },
     "metadata": {},
     "output_type": "display_data"
    },
    {
     "data": {
      "application/javascript": [
       "\n",
       "(function(root) {\n",
       "  function now() {\n",
       "    return new Date();\n",
       "  }\n",
       "\n",
       "  var force = true;\n",
       "\n",
       "  if (typeof (root._bokeh_onload_callbacks) === \"undefined\" || force === true) {\n",
       "    root._bokeh_onload_callbacks = [];\n",
       "    root._bokeh_is_loading = undefined;\n",
       "  }\n",
       "\n",
       "  var JS_MIME_TYPE = 'application/javascript';\n",
       "  var HTML_MIME_TYPE = 'text/html';\n",
       "  var EXEC_MIME_TYPE = 'application/vnd.bokehjs_exec.v0+json';\n",
       "  var CLASS_NAME = 'output_bokeh rendered_html';\n",
       "\n",
       "  /**\n",
       "   * Render data to the DOM node\n",
       "   */\n",
       "  function render(props, node) {\n",
       "    var script = document.createElement(\"script\");\n",
       "    node.appendChild(script);\n",
       "  }\n",
       "\n",
       "  /**\n",
       "   * Handle when an output is cleared or removed\n",
       "   */\n",
       "  function handleClearOutput(event, handle) {\n",
       "    var cell = handle.cell;\n",
       "\n",
       "    var id = cell.output_area._bokeh_element_id;\n",
       "    var server_id = cell.output_area._bokeh_server_id;\n",
       "    // Clean up Bokeh references\n",
       "    if (id !== undefined) {\n",
       "      Bokeh.index[id].model.document.clear();\n",
       "      delete Bokeh.index[id];\n",
       "    }\n",
       "\n",
       "    if (server_id !== undefined) {\n",
       "      // Clean up Bokeh references\n",
       "      var cmd = \"from bokeh.io.state import curstate; print(curstate().uuid_to_server['\" + server_id + \"'].get_sessions()[0].document.roots[0]._id)\";\n",
       "      cell.notebook.kernel.execute(cmd, {\n",
       "        iopub: {\n",
       "          output: function(msg) {\n",
       "            var element_id = msg.content.text.trim();\n",
       "            Bokeh.index[element_id].model.document.clear();\n",
       "            delete Bokeh.index[element_id];\n",
       "          }\n",
       "        }\n",
       "      });\n",
       "      // Destroy server and session\n",
       "      var cmd = \"import bokeh.io.notebook as ion; ion.destroy_server('\" + server_id + \"')\";\n",
       "      cell.notebook.kernel.execute(cmd);\n",
       "    }\n",
       "  }\n",
       "\n",
       "  /**\n",
       "   * Handle when a new output is added\n",
       "   */\n",
       "  function handleAddOutput(event, handle) {\n",
       "    var output_area = handle.output_area;\n",
       "    var output = handle.output;\n",
       "\n",
       "    // limit handleAddOutput to display_data with EXEC_MIME_TYPE content only\n",
       "    if ((output.output_type != \"display_data\") || (!output.data.hasOwnProperty(EXEC_MIME_TYPE))) {\n",
       "      return\n",
       "    }\n",
       "\n",
       "    var toinsert = output_area.element.find(`.${CLASS_NAME.split(' ')[0]}`);\n",
       "\n",
       "    if (output.metadata[EXEC_MIME_TYPE][\"id\"] !== undefined) {\n",
       "      toinsert[0].firstChild.textContent = output.data[JS_MIME_TYPE];\n",
       "      // store reference to embed id on output_area\n",
       "      output_area._bokeh_element_id = output.metadata[EXEC_MIME_TYPE][\"id\"];\n",
       "    }\n",
       "    if (output.metadata[EXEC_MIME_TYPE][\"server_id\"] !== undefined) {\n",
       "      var bk_div = document.createElement(\"div\");\n",
       "      bk_div.innerHTML = output.data[HTML_MIME_TYPE];\n",
       "      var script_attrs = bk_div.children[0].attributes;\n",
       "      for (var i = 0; i < script_attrs.length; i++) {\n",
       "        toinsert[0].firstChild.setAttribute(script_attrs[i].name, script_attrs[i].value);\n",
       "      }\n",
       "      // store reference to server id on output_area\n",
       "      output_area._bokeh_server_id = output.metadata[EXEC_MIME_TYPE][\"server_id\"];\n",
       "    }\n",
       "  }\n",
       "\n",
       "  function register_renderer(events, OutputArea) {\n",
       "\n",
       "    function append_mime(data, metadata, element) {\n",
       "      // create a DOM node to render to\n",
       "      var toinsert = this.create_output_subarea(\n",
       "        metadata,\n",
       "        CLASS_NAME,\n",
       "        EXEC_MIME_TYPE\n",
       "      );\n",
       "      this.keyboard_manager.register_events(toinsert);\n",
       "      // Render to node\n",
       "      var props = {data: data, metadata: metadata[EXEC_MIME_TYPE]};\n",
       "      render(props, toinsert[0]);\n",
       "      element.append(toinsert);\n",
       "      return toinsert\n",
       "    }\n",
       "\n",
       "    /* Handle when an output is cleared or removed */\n",
       "    events.on('clear_output.CodeCell', handleClearOutput);\n",
       "    events.on('delete.Cell', handleClearOutput);\n",
       "\n",
       "    /* Handle when a new output is added */\n",
       "    events.on('output_added.OutputArea', handleAddOutput);\n",
       "\n",
       "    /**\n",
       "     * Register the mime type and append_mime function with output_area\n",
       "     */\n",
       "    OutputArea.prototype.register_mime_type(EXEC_MIME_TYPE, append_mime, {\n",
       "      /* Is output safe? */\n",
       "      safe: true,\n",
       "      /* Index of renderer in `output_area.display_order` */\n",
       "      index: 0\n",
       "    });\n",
       "  }\n",
       "\n",
       "  // register the mime type if in Jupyter Notebook environment and previously unregistered\n",
       "  if (root.Jupyter !== undefined) {\n",
       "    var events = require('base/js/events');\n",
       "    var OutputArea = require('notebook/js/outputarea').OutputArea;\n",
       "\n",
       "    if (OutputArea.prototype.mime_types().indexOf(EXEC_MIME_TYPE) == -1) {\n",
       "      register_renderer(events, OutputArea);\n",
       "    }\n",
       "  }\n",
       "\n",
       "  \n",
       "  if (typeof (root._bokeh_timeout) === \"undefined\" || force === true) {\n",
       "    root._bokeh_timeout = Date.now() + 5000;\n",
       "    root._bokeh_failed_load = false;\n",
       "  }\n",
       "\n",
       "  var NB_LOAD_WARNING = {'data': {'text/html':\n",
       "     \"<div style='background-color: #fdd'>\\n\"+\n",
       "     \"<p>\\n\"+\n",
       "     \"BokehJS does not appear to have successfully loaded. If loading BokehJS from CDN, this \\n\"+\n",
       "     \"may be due to a slow or bad network connection. Possible fixes:\\n\"+\n",
       "     \"</p>\\n\"+\n",
       "     \"<ul>\\n\"+\n",
       "     \"<li>re-rerun `output_notebook()` to attempt to load from CDN again, or</li>\\n\"+\n",
       "     \"<li>use INLINE resources instead, as so:</li>\\n\"+\n",
       "     \"</ul>\\n\"+\n",
       "     \"<code>\\n\"+\n",
       "     \"from bokeh.resources import INLINE\\n\"+\n",
       "     \"output_notebook(resources=INLINE)\\n\"+\n",
       "     \"</code>\\n\"+\n",
       "     \"</div>\"}};\n",
       "\n",
       "  function display_loaded() {\n",
       "    var el = document.getElementById(\"289bb66d-ea88-4cc2-a5e8-382cfa5633f4\");\n",
       "    if (el != null) {\n",
       "      el.textContent = \"BokehJS is loading...\";\n",
       "    }\n",
       "    if (root.Bokeh !== undefined) {\n",
       "      if (el != null) {\n",
       "        el.textContent = \"BokehJS \" + root.Bokeh.version + \" successfully loaded.\";\n",
       "      }\n",
       "    } else if (Date.now() < root._bokeh_timeout) {\n",
       "      setTimeout(display_loaded, 100)\n",
       "    }\n",
       "  }\n",
       "\n",
       "\n",
       "  function run_callbacks() {\n",
       "    try {\n",
       "      root._bokeh_onload_callbacks.forEach(function(callback) { callback() });\n",
       "    }\n",
       "    finally {\n",
       "      delete root._bokeh_onload_callbacks\n",
       "    }\n",
       "    console.info(\"Bokeh: all callbacks have finished\");\n",
       "  }\n",
       "\n",
       "  function load_libs(js_urls, callback) {\n",
       "    root._bokeh_onload_callbacks.push(callback);\n",
       "    if (root._bokeh_is_loading > 0) {\n",
       "      console.log(\"Bokeh: BokehJS is being loaded, scheduling callback at\", now());\n",
       "      return null;\n",
       "    }\n",
       "    if (js_urls == null || js_urls.length === 0) {\n",
       "      run_callbacks();\n",
       "      return null;\n",
       "    }\n",
       "    console.log(\"Bokeh: BokehJS not loaded, scheduling load and callback at\", now());\n",
       "    root._bokeh_is_loading = js_urls.length;\n",
       "    for (var i = 0; i < js_urls.length; i++) {\n",
       "      var url = js_urls[i];\n",
       "      var s = document.createElement('script');\n",
       "      s.src = url;\n",
       "      s.async = false;\n",
       "      s.onreadystatechange = s.onload = function() {\n",
       "        root._bokeh_is_loading--;\n",
       "        if (root._bokeh_is_loading === 0) {\n",
       "          console.log(\"Bokeh: all BokehJS libraries loaded\");\n",
       "          run_callbacks()\n",
       "        }\n",
       "      };\n",
       "      s.onerror = function() {\n",
       "        console.warn(\"failed to load library \" + url);\n",
       "      };\n",
       "      console.log(\"Bokeh: injecting script tag for BokehJS library: \", url);\n",
       "      document.getElementsByTagName(\"head\")[0].appendChild(s);\n",
       "    }\n",
       "  };var element = document.getElementById(\"289bb66d-ea88-4cc2-a5e8-382cfa5633f4\");\n",
       "  if (element == null) {\n",
       "    console.log(\"Bokeh: ERROR: autoload.js configured with elementid '289bb66d-ea88-4cc2-a5e8-382cfa5633f4' but no matching script tag was found. \")\n",
       "    return false;\n",
       "  }\n",
       "\n",
       "  var js_urls = [\"https://cdn.pydata.org/bokeh/release/bokeh-0.12.10.min.js\", \"https://cdn.pydata.org/bokeh/release/bokeh-widgets-0.12.10.min.js\", \"https://cdn.pydata.org/bokeh/release/bokeh-tables-0.12.10.min.js\", \"https://cdn.pydata.org/bokeh/release/bokeh-gl-0.12.10.min.js\"];\n",
       "\n",
       "  var inline_js = [\n",
       "    function(Bokeh) {\n",
       "      Bokeh.set_log_level(\"info\");\n",
       "    },\n",
       "    \n",
       "    function(Bokeh) {\n",
       "      \n",
       "    },\n",
       "    function(Bokeh) {\n",
       "      console.log(\"Bokeh: injecting CSS: https://cdn.pydata.org/bokeh/release/bokeh-0.12.10.min.css\");\n",
       "      Bokeh.embed.inject_css(\"https://cdn.pydata.org/bokeh/release/bokeh-0.12.10.min.css\");\n",
       "      console.log(\"Bokeh: injecting CSS: https://cdn.pydata.org/bokeh/release/bokeh-widgets-0.12.10.min.css\");\n",
       "      Bokeh.embed.inject_css(\"https://cdn.pydata.org/bokeh/release/bokeh-widgets-0.12.10.min.css\");\n",
       "      console.log(\"Bokeh: injecting CSS: https://cdn.pydata.org/bokeh/release/bokeh-tables-0.12.10.min.css\");\n",
       "      Bokeh.embed.inject_css(\"https://cdn.pydata.org/bokeh/release/bokeh-tables-0.12.10.min.css\");\n",
       "    }\n",
       "  ];\n",
       "\n",
       "  function run_inline_js() {\n",
       "    \n",
       "    if ((root.Bokeh !== undefined) || (force === true)) {\n",
       "      for (var i = 0; i < inline_js.length; i++) {\n",
       "        inline_js[i].call(root, root.Bokeh);\n",
       "      }if (force === true) {\n",
       "        display_loaded();\n",
       "      }} else if (Date.now() < root._bokeh_timeout) {\n",
       "      setTimeout(run_inline_js, 100);\n",
       "    } else if (!root._bokeh_failed_load) {\n",
       "      console.log(\"Bokeh: BokehJS failed to load within specified timeout.\");\n",
       "      root._bokeh_failed_load = true;\n",
       "    } else if (force !== true) {\n",
       "      var cell = $(document.getElementById(\"289bb66d-ea88-4cc2-a5e8-382cfa5633f4\")).parents('.cell').data().cell;\n",
       "      cell.output_area.append_execute_result(NB_LOAD_WARNING)\n",
       "    }\n",
       "\n",
       "  }\n",
       "\n",
       "  if (root._bokeh_is_loading === 0) {\n",
       "    console.log(\"Bokeh: BokehJS loaded, going straight to plotting\");\n",
       "    run_inline_js();\n",
       "  } else {\n",
       "    load_libs(js_urls, function() {\n",
       "      console.log(\"Bokeh: BokehJS plotting callback run at\", now());\n",
       "      run_inline_js();\n",
       "    });\n",
       "  }\n",
       "}(window));"
      ],
      "application/vnd.bokehjs_load.v0+json": "\n(function(root) {\n  function now() {\n    return new Date();\n  }\n\n  var force = true;\n\n  if (typeof (root._bokeh_onload_callbacks) === \"undefined\" || force === true) {\n    root._bokeh_onload_callbacks = [];\n    root._bokeh_is_loading = undefined;\n  }\n\n  \n\n  \n  if (typeof (root._bokeh_timeout) === \"undefined\" || force === true) {\n    root._bokeh_timeout = Date.now() + 5000;\n    root._bokeh_failed_load = false;\n  }\n\n  var NB_LOAD_WARNING = {'data': {'text/html':\n     \"<div style='background-color: #fdd'>\\n\"+\n     \"<p>\\n\"+\n     \"BokehJS does not appear to have successfully loaded. If loading BokehJS from CDN, this \\n\"+\n     \"may be due to a slow or bad network connection. Possible fixes:\\n\"+\n     \"</p>\\n\"+\n     \"<ul>\\n\"+\n     \"<li>re-rerun `output_notebook()` to attempt to load from CDN again, or</li>\\n\"+\n     \"<li>use INLINE resources instead, as so:</li>\\n\"+\n     \"</ul>\\n\"+\n     \"<code>\\n\"+\n     \"from bokeh.resources import INLINE\\n\"+\n     \"output_notebook(resources=INLINE)\\n\"+\n     \"</code>\\n\"+\n     \"</div>\"}};\n\n  function display_loaded() {\n    var el = document.getElementById(\"289bb66d-ea88-4cc2-a5e8-382cfa5633f4\");\n    if (el != null) {\n      el.textContent = \"BokehJS is loading...\";\n    }\n    if (root.Bokeh !== undefined) {\n      if (el != null) {\n        el.textContent = \"BokehJS \" + root.Bokeh.version + \" successfully loaded.\";\n      }\n    } else if (Date.now() < root._bokeh_timeout) {\n      setTimeout(display_loaded, 100)\n    }\n  }\n\n\n  function run_callbacks() {\n    try {\n      root._bokeh_onload_callbacks.forEach(function(callback) { callback() });\n    }\n    finally {\n      delete root._bokeh_onload_callbacks\n    }\n    console.info(\"Bokeh: all callbacks have finished\");\n  }\n\n  function load_libs(js_urls, callback) {\n    root._bokeh_onload_callbacks.push(callback);\n    if (root._bokeh_is_loading > 0) {\n      console.log(\"Bokeh: BokehJS is being loaded, scheduling callback at\", now());\n      return null;\n    }\n    if (js_urls == null || js_urls.length === 0) {\n      run_callbacks();\n      return null;\n    }\n    console.log(\"Bokeh: BokehJS not loaded, scheduling load and callback at\", now());\n    root._bokeh_is_loading = js_urls.length;\n    for (var i = 0; i < js_urls.length; i++) {\n      var url = js_urls[i];\n      var s = document.createElement('script');\n      s.src = url;\n      s.async = false;\n      s.onreadystatechange = s.onload = function() {\n        root._bokeh_is_loading--;\n        if (root._bokeh_is_loading === 0) {\n          console.log(\"Bokeh: all BokehJS libraries loaded\");\n          run_callbacks()\n        }\n      };\n      s.onerror = function() {\n        console.warn(\"failed to load library \" + url);\n      };\n      console.log(\"Bokeh: injecting script tag for BokehJS library: \", url);\n      document.getElementsByTagName(\"head\")[0].appendChild(s);\n    }\n  };var element = document.getElementById(\"289bb66d-ea88-4cc2-a5e8-382cfa5633f4\");\n  if (element == null) {\n    console.log(\"Bokeh: ERROR: autoload.js configured with elementid '289bb66d-ea88-4cc2-a5e8-382cfa5633f4' but no matching script tag was found. \")\n    return false;\n  }\n\n  var js_urls = [\"https://cdn.pydata.org/bokeh/release/bokeh-0.12.10.min.js\", \"https://cdn.pydata.org/bokeh/release/bokeh-widgets-0.12.10.min.js\", \"https://cdn.pydata.org/bokeh/release/bokeh-tables-0.12.10.min.js\", \"https://cdn.pydata.org/bokeh/release/bokeh-gl-0.12.10.min.js\"];\n\n  var inline_js = [\n    function(Bokeh) {\n      Bokeh.set_log_level(\"info\");\n    },\n    \n    function(Bokeh) {\n      \n    },\n    function(Bokeh) {\n      console.log(\"Bokeh: injecting CSS: https://cdn.pydata.org/bokeh/release/bokeh-0.12.10.min.css\");\n      Bokeh.embed.inject_css(\"https://cdn.pydata.org/bokeh/release/bokeh-0.12.10.min.css\");\n      console.log(\"Bokeh: injecting CSS: https://cdn.pydata.org/bokeh/release/bokeh-widgets-0.12.10.min.css\");\n      Bokeh.embed.inject_css(\"https://cdn.pydata.org/bokeh/release/bokeh-widgets-0.12.10.min.css\");\n      console.log(\"Bokeh: injecting CSS: https://cdn.pydata.org/bokeh/release/bokeh-tables-0.12.10.min.css\");\n      Bokeh.embed.inject_css(\"https://cdn.pydata.org/bokeh/release/bokeh-tables-0.12.10.min.css\");\n    }\n  ];\n\n  function run_inline_js() {\n    \n    if ((root.Bokeh !== undefined) || (force === true)) {\n      for (var i = 0; i < inline_js.length; i++) {\n        inline_js[i].call(root, root.Bokeh);\n      }if (force === true) {\n        display_loaded();\n      }} else if (Date.now() < root._bokeh_timeout) {\n      setTimeout(run_inline_js, 100);\n    } else if (!root._bokeh_failed_load) {\n      console.log(\"Bokeh: BokehJS failed to load within specified timeout.\");\n      root._bokeh_failed_load = true;\n    } else if (force !== true) {\n      var cell = $(document.getElementById(\"289bb66d-ea88-4cc2-a5e8-382cfa5633f4\")).parents('.cell').data().cell;\n      cell.output_area.append_execute_result(NB_LOAD_WARNING)\n    }\n\n  }\n\n  if (root._bokeh_is_loading === 0) {\n    console.log(\"Bokeh: BokehJS loaded, going straight to plotting\");\n    run_inline_js();\n  } else {\n    load_libs(js_urls, function() {\n      console.log(\"Bokeh: BokehJS plotting callback run at\", now());\n      run_inline_js();\n    });\n  }\n}(window));"
     },
     "metadata": {},
     "output_type": "display_data"
    }
   ],
   "source": [
    "from neuron import h, gui\n",
    "import bokeh as bk\n",
    "import bokeh.plotting as bkp\n",
    "import matplotlib.pyplot as plt\n",
    "import numpy as np\n",
    "from bokeh.palettes import Dark2_5 as palette\n",
    "import itertools \n",
    "import ipywidgets as widgets\n",
    "\n",
    "colors = itertools.cycle(palette)  \n",
    "bkp.output_notebook()\n",
    "%matplotlib inline"
   ]
  },
  {
   "cell_type": "code",
   "execution_count": 2,
   "metadata": {
    "collapsed": true
   },
   "outputs": [],
   "source": [
    "# define branched cable class\n",
    "class branched_cable(object):\n",
    "    def __init__(self,):\n",
    "        '''initialize dictionaries for storing information about cell'''\n",
    "        self.segments = {}\n",
    "        self.stims = {}\n",
    "        self.record_vecs = {}\n",
    "           \n",
    "    def make_cable(self,L,diam,segname='cable',cm = 1, Ra = 150,Rm = 2800, Vrest = -65.,nseg=None):\n",
    "        '''make a cable with specified distributed properties (approximate a sphere by setting diam=L= x)'''\n",
    "        cable = h.Section(name=segname,cell=self)\n",
    "        cable.L = L #micro-m\n",
    "        cable.diam = diam # micro-m\n",
    "        cable.cm = cm  # picofarads/cm^2\n",
    "        cable.Ra = Ra # megaOhms/cm^2\n",
    "        \n",
    "        if nseg is None: # use d_lambda rule to get good guess of best number of segments\n",
    "            cable.nseg = int((L/(0.1*h.lambda_f(100))+.999)/2.)*2 + 1 #int(L) #50*(int((L/(0.1*h.lambda_f(100))+.999)/2.)*2 + 1)\n",
    "        else:\n",
    "            cable.nseg = nseg\n",
    "\n",
    "        cable.insert('pas')\n",
    "        cable.g_pas = 1/Rm # picoSiemens/cm^2\n",
    "        cable.e_pas = Vrest # milliVolts\n",
    "        self.segments[segname] = cable\n",
    "        \n",
    "        \n",
    "        \n",
    "    def add_branch(self,seg,pos,L,diam,segname='branch',cm = 1, Ra = 150,Rm = 2800, Vrest = -65.):\n",
    "        '''add a branch to seg at pos with specified distributed properites'''\n",
    "        self.make_cable(L,diam,segname=segname,cm = cm, Ra = Ra,Rm = Rm, Vrest = Vrest)\n",
    "        self.segments[segname].connect(self.segments[seg](pos))\n",
    "        #self.segments[segname]\n",
    "                  \n",
    "    def add_IClamp(self,seg,pos,amp,dur,delay = 50,stimname = 'iclamp'):\n",
    "        '''insert current clamp on cell compartment seg at position pos (0 to 1: percent down the process) \n",
    "        amp: amplitude (milliamps)\n",
    "        dur: duration (milliseconds)\n",
    "        delay: delay before stimulus (milliseconds)'''\n",
    "        iclamp = h.IClamp(self.segments[seg](pos)) \n",
    "        iclamp.amp = amp\n",
    "        iclamp.dur= dur\n",
    "        iclamp.delay = delay\n",
    "        self.stims[stimname]=iclamp\n",
    "        \n",
    "    def add_stim(self,seg,pos):\n",
    "        '''add a synapse on cell compartment seg at position pos (0 to 1: percent down the process)\n",
    "        \n",
    "        Not fully functional yet'''\n",
    "        stim = h.NetStim() # Make a new stimulator\n",
    "\n",
    "        # Attach it to a synapse in the middle of the dendrite\n",
    "        # of the first cell in the network. (Named 'syn_' to avoid\n",
    "        # being overwritten with the 'syn' var assigned later.)\n",
    "        syn_ = h.ExpSyn(self.segments[seg](pos), name='syn_')\n",
    "\n",
    "        stim.number = 1\n",
    "        stim.start = 9\n",
    "        ncstim = h.NetCon(stim, syn_)\n",
    "        ncstim.delay = 1\n",
    "        ncstim.weight[0] = 0.04 # NetCon weight is a vector.\n",
    "        \n",
    "    def recording_vecs(self,locations):\n",
    "        ''' add NEURON vectors to record desired parameters specified by list of lists locations\n",
    "        \n",
    "        each entry in locations is a list with 3 entries: segment name, location on segment (0-1), and the variable \n",
    "        name you wish to record (e.g. v for membrane potential)'''\n",
    "        # locations is list of lists with segname, location, variable\n",
    "        currKeys = self.record_vecs.keys()\n",
    "        if 'time' not in currKeys:\n",
    "            t_vec = h.Vector()\n",
    "            t_vec.record(h._ref_t)\n",
    "            self.record_vecs['time']= t_vec\n",
    "        \n",
    "        for v in locations:\n",
    "            try:\n",
    "                keyname = \"%s:%.2f:%s\" % (v[0],v[1],v[2])\n",
    "            except:\n",
    "                raise(\"invalid specification of recording locations\")\n",
    "                \n",
    "            \n",
    "            if keyname in currKeys:\n",
    "                print(keyname+\"is a already a recording vec\")\n",
    "                \n",
    "            else:\n",
    "                self.record_vecs[keyname] = h.Vector()\n",
    "                eval(\"self.record_vecs[keyname].record(self.segments[v[0]](v[1])._ref_\" + v[2]+\")\")   \n",
    "                \n",
    "def run_current_clamp(cell,stimname,stimVals,tstop = 130):\n",
    "    \n",
    "    results = {}\n",
    "    for i, amp in enumerate(stimVals):\n",
    "        cell.stims[stimname].amp = amp\n",
    "        h.tstop=tstop\n",
    "        h.run()\n",
    "        \n",
    "        if i == 0:\n",
    "            t = cell.record_vecs['time'].as_numpy()\n",
    "            for key in cell.record_vecs.keys():\n",
    "                results[key] = np.zeros([t.shape[0],len(stimVals)])\n",
    "        \n",
    "        for key in cell.record_vecs.keys():\n",
    "            results[key][:,i] = cell.record_vecs[key].as_numpy()\n",
    "            \n",
    "    return t, results"
   ]
  },
  {
   "cell_type": "code",
   "execution_count": 20,
   "metadata": {
    "collapsed": true
   },
   "outputs": [],
   "source": [
    "def plot_cable(L,diam,Ra,Rm,cm,I,stim_loc):\n",
    "    # make a cable, insert stimulus halfway down the process\n",
    "    cell = branched_cable()\n",
    "    cell.make_cable(L,diam,Ra=Ra,Rm=Rm,cm=cm)\n",
    "    cell.add_IClamp('cable',stim_loc,.001,50)\n",
    "\n",
    "    # record at a few different points along the cable\n",
    "    positions = list(np.linspace(0,1,num=51))\n",
    "    for pos in positions:   \n",
    "        cell.recording_vecs([['cable',pos,'v']])\n",
    "\n",
    "    #print(cell.record_vecs.keys())\n",
    "    t,results = run_current_clamp(cell,'iclamp',[I],tstop=200)\n",
    "\n",
    "    RC = bkp.figure(plot_height=400,plot_width=400)\n",
    "    #keys = list(results.record_vecs.keys())\n",
    "    for i, color in zip(range(0,len(positions),5),colors):\n",
    "        key = \"cable:%.2f:v\" % positions[i]\n",
    "        RC.line(t,np.squeeze(results[key][:,-1]),color=color,legend=str(positions[i]))\n",
    "    RC.xaxis.axis_label=\"I (mA)\"\n",
    "    RC.yaxis.axis_label=\"mV\"\n",
    "\n",
    "\n",
    "    # steady state V as a function of distance\n",
    "    ss_ind = np.where(t>95)[0][0]\n",
    "    V_ss = np.zeros([len(positions),])\n",
    "    \n",
    "    V_half = np.zeros([len(positions),])\n",
    "    tau = np.zeros([len(positions),])\n",
    "    for i,pos in enumerate(positions):\n",
    "        #print(pos)\n",
    "        key = \"cable:%.2f:v\" % pos\n",
    "        V_ss[i] = results[key][ss_ind,-1]\n",
    "        V_half[i] = .5*(V_ss[i]+65)-65\n",
    "        tau[i] = np.where(results[key][:,-1]>V_half[i])[0][0]/t.size*200. -20\n",
    "        \n",
    "        \n",
    "    VX = bkp.figure(plot_height = 400, plot_width=400)\n",
    "    VX.line(positions,V_ss)\n",
    "    VX.xaxis.axis_label = \"position\"\n",
    "    VX.yaxis.axis_label = \"Steady-state V (mV)\"\n",
    "    \n",
    "    \n",
    "    T = bkp.figure(plot_height=400, plot_width=400)\n",
    "    T.line(positions,tau)\n",
    "    T.xaxis.axis_label = \"position\"\n",
    "    T.yaxis.axis_label = \"tau\"\n",
    "    \n",
    "\n",
    "    bkp.show(bk.layouts.layout([[RC,VX],[T]]))\n",
    "             "
   ]
  },
  {
   "cell_type": "code",
   "execution_count": 21,
   "metadata": {},
   "outputs": [
    {
     "data": {
      "application/vnd.jupyter.widget-view+json": {
       "model_id": "3153d7a9eb454820b2c2e88c064cc427",
       "version_major": 2,
       "version_minor": 0
      },
      "text/plain": [
       "A Jupyter Widget"
      ]
     },
     "metadata": {},
     "output_type": "display_data"
    },
    {
     "data": {
      "text/plain": [
       "<function __main__.plot_cable>"
      ]
     },
     "execution_count": 21,
     "metadata": {},
     "output_type": "execute_result"
    }
   ],
   "source": [
    "widgets.interact_manual(plot_cable,\n",
    "                 L=widgets.FloatSlider(min=50,max=1000,continoust_update=False),\n",
    "                 diam=widgets.FloatSlider(min=.1,max=100,continuous_update=False),\n",
    "                 Rm=widgets.FloatSlider(min=100,max=5000,continuous_update=False),\n",
    "                 Ra = widgets.FloatSlider(min=10,max=1000,continuous_update=False),\n",
    "                 cm = widgets.FloatSlider(min=.1,max=10,continous_update=False),\n",
    "                 I = widgets.FloatSlider(min=.1,max=5,continuous_update=False),\n",
    "                 stim_loc = widgets.FloatSlider(min=0,max=1,contiuous_update=False))"
   ]
  },
  {
   "cell_type": "code",
   "execution_count": 5,
   "metadata": {},
   "outputs": [
    {
     "data": {
      "text/html": [
       "\n",
       "<div class=\"bk-root\">\n",
       "    <div class=\"bk-plotdiv\" id=\"c202f0a2-66f1-4781-a8f3-d8e9da8e4ead\"></div>\n",
       "</div>"
      ]
     },
     "metadata": {},
     "output_type": "display_data"
    },
    {
     "data": {
      "application/javascript": [
       "(function(root) {\n",
       "  function embed_document(root) {\n",
       "    var docs_json = {\"f20cf0d1-8e5c-438a-aa80-508485ecca17\":{\"roots\":{\"references\":[{\"attributes\":{},\"id\":\"0bc3178e-6e7d-4176-bbff-7931a3362ddf\",\"type\":\"BasicTickFormatter\"},{\"attributes\":{},\"id\":\"836e0121-c3ce-4628-ab1c-4d97f83a7555\",\"type\":\"SaveTool\"},{\"attributes\":{\"bottom_units\":\"screen\",\"fill_alpha\":{\"value\":0.5},\"fill_color\":{\"value\":\"lightgrey\"},\"left_units\":\"screen\",\"level\":\"overlay\",\"line_alpha\":{\"value\":1.0},\"line_color\":{\"value\":\"black\"},\"line_dash\":[4,4],\"line_width\":{\"value\":2},\"plot\":null,\"render_mode\":\"css\",\"right_units\":\"screen\",\"top_units\":\"screen\"},\"id\":\"5d54f0a9-ce38-4488-9e94-44220c3ff3ff\",\"type\":\"BoxAnnotation\"},{\"attributes\":{\"source\":{\"id\":\"a472b8aa-e3b5-4d46-b250-c48bc9e3be72\",\"type\":\"ColumnDataSource\"}},\"id\":\"1ead7eea-93b7-4ae6-9df4-1aa3e77ac1a8\",\"type\":\"CDSView\"},{\"attributes\":{\"active_drag\":\"auto\",\"active_inspect\":\"auto\",\"active_scroll\":\"auto\",\"active_tap\":\"auto\",\"tools\":[{\"id\":\"9ca507d6-0a15-4542-a311-64a052c33cad\",\"type\":\"PanTool\"},{\"id\":\"9b12274c-eccb-496a-95b3-c979a00d6c93\",\"type\":\"WheelZoomTool\"},{\"id\":\"c110ad57-63c6-4857-9f35-9cc4c32c4d54\",\"type\":\"BoxZoomTool\"},{\"id\":\"5ebbc476-50f5-4f54-af3f-40b901e76d82\",\"type\":\"SaveTool\"},{\"id\":\"cdd9a942-e125-4276-9b19-253cd273d1ed\",\"type\":\"ResetTool\"},{\"id\":\"5ca7eeb7-24e8-490d-8a85-c7c5f3974aa6\",\"type\":\"HelpTool\"}]},\"id\":\"259e47b1-dd19-4215-bbb3-4e75642a9c8d\",\"type\":\"Toolbar\"},{\"attributes\":{},\"id\":\"5fc82544-4d24-401f-b03e-6a7c143deb36\",\"type\":\"ResetTool\"},{\"attributes\":{\"callback\":null},\"id\":\"c3cb4ab8-c93e-42e6-bf8f-01c563cfed31\",\"type\":\"DataRange1d\"},{\"attributes\":{},\"id\":\"dc0bed7c-326a-430f-9dd3-f3f40cc47dd9\",\"type\":\"HelpTool\"},{\"attributes\":{\"line_alpha\":{\"value\":0.1},\"line_color\":{\"value\":\"#1f77b4\"},\"x\":{\"field\":\"x\"},\"y\":{\"field\":\"y\"}},\"id\":\"cc5182d3-27bd-4400-a9d3-2068bd2cd11e\",\"type\":\"Line\"},{\"attributes\":{},\"id\":\"e77e2b29-d81e-45f6-84b4-8600f962688a\",\"type\":\"LinearScale\"},{\"attributes\":{},\"id\":\"883af75f-7fc6-47b6-b36c-830f2f101698\",\"type\":\"BasicTickFormatter\"},{\"attributes\":{},\"id\":\"6dda1250-711a-4af0-ab92-9bae523f6d13\",\"type\":\"LinearScale\"},{\"attributes\":{\"children\":[{\"id\":\"f0c7022d-65ea-41fc-b6e5-7c4a0d5b9afb\",\"subtype\":\"Figure\",\"type\":\"Plot\"},{\"id\":\"5f3b6f20-6013-4f1e-834c-674b2213fab4\",\"subtype\":\"Figure\",\"type\":\"Plot\"}]},\"id\":\"60ee5596-90bc-4ff2-b9ef-463948223a15\",\"type\":\"Row\"},{\"attributes\":{\"plot\":{\"id\":\"f0c7022d-65ea-41fc-b6e5-7c4a0d5b9afb\",\"subtype\":\"Figure\",\"type\":\"Plot\"},\"ticker\":{\"id\":\"48d83573-9222-4274-ad1f-0fd69e33750e\",\"type\":\"BasicTicker\"}},\"id\":\"ba7d359a-0ce5-40f9-af05-5c49f13a034c\",\"type\":\"Grid\"},{\"attributes\":{\"below\":[{\"id\":\"9f1d3476-c7d7-43b2-8b1c-f411e49d6172\",\"type\":\"LinearAxis\"}],\"left\":[{\"id\":\"c53cd94f-714e-4857-9195-21f38d566155\",\"type\":\"LinearAxis\"}],\"plot_height\":400,\"plot_width\":400,\"renderers\":[{\"id\":\"9f1d3476-c7d7-43b2-8b1c-f411e49d6172\",\"type\":\"LinearAxis\"},{\"id\":\"ba7d359a-0ce5-40f9-af05-5c49f13a034c\",\"type\":\"Grid\"},{\"id\":\"c53cd94f-714e-4857-9195-21f38d566155\",\"type\":\"LinearAxis\"},{\"id\":\"2e6fd0c0-73e8-4002-9c27-c66315e94ad0\",\"type\":\"Grid\"},{\"id\":\"ec4ab75e-56a6-4268-9298-3004fc308d43\",\"type\":\"BoxAnnotation\"},{\"id\":\"66a0ff48-ec57-459d-9044-29c7e3880fdc\",\"type\":\"GlyphRenderer\"},{\"id\":\"c5b21e51-d259-4d86-8965-5a7006ed5b7f\",\"type\":\"GlyphRenderer\"},{\"id\":\"6385a60b-7c7c-4372-8ac0-37a8a85ebc24\",\"type\":\"GlyphRenderer\"},{\"id\":\"ebdc60e3-3137-47f0-a134-11a1c451d3b0\",\"type\":\"GlyphRenderer\"},{\"id\":\"b3432245-ca40-4089-9687-c39a05de9d11\",\"type\":\"GlyphRenderer\"},{\"id\":\"cfa10e78-0f15-41f7-8ab3-c4a8bd2229f1\",\"type\":\"GlyphRenderer\"}],\"title\":{\"id\":\"c49a79e1-6fd6-49b3-a4e3-1b44e19fd7c4\",\"type\":\"Title\"},\"toolbar\":{\"id\":\"259e47b1-dd19-4215-bbb3-4e75642a9c8d\",\"type\":\"Toolbar\"},\"x_range\":{\"id\":\"c46b1285-534f-4270-873b-5d1efcbed32d\",\"type\":\"DataRange1d\"},\"x_scale\":{\"id\":\"e77e2b29-d81e-45f6-84b4-8600f962688a\",\"type\":\"LinearScale\"},\"y_range\":{\"id\":\"c3cb4ab8-c93e-42e6-bf8f-01c563cfed31\",\"type\":\"DataRange1d\"},\"y_scale\":{\"id\":\"6dda1250-711a-4af0-ab92-9bae523f6d13\",\"type\":\"LinearScale\"}},\"id\":\"f0c7022d-65ea-41fc-b6e5-7c4a0d5b9afb\",\"subtype\":\"Figure\",\"type\":\"Plot\"},{\"attributes\":{\"axis_label\":\"I (mA)\",\"formatter\":{\"id\":\"0bc3178e-6e7d-4176-bbff-7931a3362ddf\",\"type\":\"BasicTickFormatter\"},\"plot\":{\"id\":\"f0c7022d-65ea-41fc-b6e5-7c4a0d5b9afb\",\"subtype\":\"Figure\",\"type\":\"Plot\"},\"ticker\":{\"id\":\"48d83573-9222-4274-ad1f-0fd69e33750e\",\"type\":\"BasicTicker\"}},\"id\":\"9f1d3476-c7d7-43b2-8b1c-f411e49d6172\",\"type\":\"LinearAxis\"},{\"attributes\":{},\"id\":\"48d83573-9222-4274-ad1f-0fd69e33750e\",\"type\":\"BasicTicker\"},{\"attributes\":{\"axis_label\":\"Steady-State V (mV)\",\"formatter\":{\"id\":\"26173071-4f3e-4527-8ff8-bc106e0f1dd4\",\"type\":\"BasicTickFormatter\"},\"plot\":{\"id\":\"f0c7022d-65ea-41fc-b6e5-7c4a0d5b9afb\",\"subtype\":\"Figure\",\"type\":\"Plot\"},\"ticker\":{\"id\":\"cd9436ed-d96d-4b28-af42-932f96c78860\",\"type\":\"BasicTicker\"}},\"id\":\"c53cd94f-714e-4857-9195-21f38d566155\",\"type\":\"LinearAxis\"},{\"attributes\":{},\"id\":\"cd9436ed-d96d-4b28-af42-932f96c78860\",\"type\":\"BasicTicker\"},{\"attributes\":{\"dimension\":1,\"plot\":{\"id\":\"f0c7022d-65ea-41fc-b6e5-7c4a0d5b9afb\",\"subtype\":\"Figure\",\"type\":\"Plot\"},\"ticker\":{\"id\":\"cd9436ed-d96d-4b28-af42-932f96c78860\",\"type\":\"BasicTicker\"}},\"id\":\"2e6fd0c0-73e8-4002-9c27-c66315e94ad0\",\"type\":\"Grid\"},{\"attributes\":{\"callback\":null,\"column_names\":[\"x\",\"y\"],\"data\":{\"x\":{\"__ndarray__\":\"AAAAAAAA8L+amZmZmZnpvzMzMzMzM+O/mJmZmZmZ2b+YmZmZmZnJvwAAAAAAAAAAoJmZmZmZyT+cmZmZmZnZPzQzMzMzM+M/mpmZmZmZ6T8AAAAAAADwPw==\",\"dtype\":\"float64\",\"shape\":[11]},\"y\":{\"__ndarray__\":\"WvxRA2QUasDiyXTPHH1mwGmXl5vV5WLA4cl0zxydXsDxZLpnjm5XwAAAAAAAQFDAGzaLMOMiQsDMYbMIMy4ewE67vNysLjVAiSfTPXP0SEC1+KMGyKhTQA==\",\"dtype\":\"float64\",\"shape\":[11]}}},\"id\":\"a472b8aa-e3b5-4d46-b250-c48bc9e3be72\",\"type\":\"ColumnDataSource\"},{\"attributes\":{\"data_source\":{\"id\":\"a472b8aa-e3b5-4d46-b250-c48bc9e3be72\",\"type\":\"ColumnDataSource\"},\"glyph\":{\"id\":\"5007323b-c554-4519-a4ee-b7cf4ee1a313\",\"type\":\"Line\"},\"hover_glyph\":null,\"muted_glyph\":null,\"nonselection_glyph\":{\"id\":\"cc5182d3-27bd-4400-a9d3-2068bd2cd11e\",\"type\":\"Line\"},\"selection_glyph\":null,\"view\":{\"id\":\"1ead7eea-93b7-4ae6-9df4-1aa3e77ac1a8\",\"type\":\"CDSView\"}},\"id\":\"66a0ff48-ec57-459d-9044-29c7e3880fdc\",\"type\":\"GlyphRenderer\"},{\"attributes\":{\"line_color\":{\"value\":\"#d95f02\"},\"x\":{\"field\":\"x\"},\"y\":{\"field\":\"y\"}},\"id\":\"5007323b-c554-4519-a4ee-b7cf4ee1a313\",\"type\":\"Line\"},{\"attributes\":{\"below\":[{\"id\":\"cf4f47db-026d-46ee-aad2-27f55f65faab\",\"type\":\"LinearAxis\"}],\"left\":[{\"id\":\"4268fdc4-69c0-4790-9c9b-3a87ecea5930\",\"type\":\"LinearAxis\"}],\"plot_height\":400,\"plot_width\":400,\"renderers\":[{\"id\":\"cf4f47db-026d-46ee-aad2-27f55f65faab\",\"type\":\"LinearAxis\"},{\"id\":\"39c0c342-837e-4ca3-bed6-4ba59187d44f\",\"type\":\"Grid\"},{\"id\":\"4268fdc4-69c0-4790-9c9b-3a87ecea5930\",\"type\":\"LinearAxis\"},{\"id\":\"888f1b43-1c00-4369-967a-32b375a2d588\",\"type\":\"Grid\"},{\"id\":\"5d54f0a9-ce38-4488-9e94-44220c3ff3ff\",\"type\":\"BoxAnnotation\"},{\"id\":\"847fda67-323b-4fed-8a73-8f07813b2710\",\"type\":\"GlyphRenderer\"}],\"title\":{\"id\":\"d219ea52-97d9-448e-87fe-271ca488d14b\",\"type\":\"Title\"},\"toolbar\":{\"id\":\"a2dc995a-8870-446c-ad41-f60c1de97e55\",\"type\":\"Toolbar\"},\"x_range\":{\"id\":\"40c67820-4386-4dd0-a3d1-2c326745698d\",\"type\":\"DataRange1d\"},\"x_scale\":{\"id\":\"54dc6016-f7ee-472b-8c12-2b7d698ad6ae\",\"type\":\"LinearScale\"},\"y_range\":{\"id\":\"23ef415c-085a-4bc3-8536-dc3f5636b9c8\",\"type\":\"DataRange1d\"},\"y_scale\":{\"id\":\"aab2e0ba-1d3d-4c7a-ab0a-d30f559263ac\",\"type\":\"LinearScale\"}},\"id\":\"5f3b6f20-6013-4f1e-834c-674b2213fab4\",\"subtype\":\"Figure\",\"type\":\"Plot\"},{\"attributes\":{\"bottom_units\":\"screen\",\"fill_alpha\":{\"value\":0.5},\"fill_color\":{\"value\":\"lightgrey\"},\"left_units\":\"screen\",\"level\":\"overlay\",\"line_alpha\":{\"value\":1.0},\"line_color\":{\"value\":\"black\"},\"line_dash\":[4,4],\"line_width\":{\"value\":2},\"plot\":null,\"render_mode\":\"css\",\"right_units\":\"screen\",\"top_units\":\"screen\"},\"id\":\"ec4ab75e-56a6-4268-9298-3004fc308d43\",\"type\":\"BoxAnnotation\"},{\"attributes\":{},\"id\":\"9ca507d6-0a15-4542-a311-64a052c33cad\",\"type\":\"PanTool\"},{\"attributes\":{\"line_alpha\":{\"value\":0.1},\"line_color\":{\"value\":\"#1f77b4\"},\"x\":{\"field\":\"x\"},\"y\":{\"field\":\"y\"}},\"id\":\"ad7a9bc5-847f-4f13-b802-ce08f25a8a4a\",\"type\":\"Line\"},{\"attributes\":{},\"id\":\"9b12274c-eccb-496a-95b3-c979a00d6c93\",\"type\":\"WheelZoomTool\"},{\"attributes\":{\"overlay\":{\"id\":\"ec4ab75e-56a6-4268-9298-3004fc308d43\",\"type\":\"BoxAnnotation\"}},\"id\":\"c110ad57-63c6-4857-9f35-9cc4c32c4d54\",\"type\":\"BoxZoomTool\"},{\"attributes\":{},\"id\":\"5ebbc476-50f5-4f54-af3f-40b901e76d82\",\"type\":\"SaveTool\"},{\"attributes\":{},\"id\":\"cdd9a942-e125-4276-9b19-253cd273d1ed\",\"type\":\"ResetTool\"},{\"attributes\":{},\"id\":\"5ca7eeb7-24e8-490d-8a85-c7c5f3974aa6\",\"type\":\"HelpTool\"},{\"attributes\":{\"line_color\":{\"value\":\"#66a61e\"},\"x\":{\"field\":\"x\"},\"y\":{\"field\":\"y\"}},\"id\":\"ddec6eff-1e53-4e83-bf69-ac1991bcc539\",\"type\":\"Line\"},{\"attributes\":{\"plot\":null,\"text\":\"\"},\"id\":\"c49a79e1-6fd6-49b3-a4e3-1b44e19fd7c4\",\"type\":\"Title\"},{\"attributes\":{},\"id\":\"26173071-4f3e-4527-8ff8-bc106e0f1dd4\",\"type\":\"BasicTickFormatter\"},{\"attributes\":{\"callback\":null,\"column_names\":[\"x\",\"y\"],\"data\":{\"x\":{\"__ndarray__\":\"AAAAAAAA8L+amZmZmZnpvzMzMzMzM+O/mJmZmZmZ2b+YmZmZmZnJvwAAAAAAAAAAoJmZmZmZyT+cmZmZmZnZPzQzMzMzM+M/mpmZmZmZ6T8AAAAAAADwPw==\",\"dtype\":\"float64\",\"shape\":[11]},\"y\":{\"__ndarray__\":\"JRRaB4uSasCFdq7SCOJmwOPYAp6GMWPAg3au0ggCX8BCO1dpBKFXwAAAAAAAQFDAeIlRLfe9QcCklxjVct8XwBzHFvA0jDdAEtq5SiOISkBLKLQOFqVUQA==\",\"dtype\":\"float64\",\"shape\":[11]}}},\"id\":\"42111f18-9b21-46b4-96a6-360a782d9c66\",\"type\":\"ColumnDataSource\"},{\"attributes\":{\"source\":{\"id\":\"42111f18-9b21-46b4-96a6-360a782d9c66\",\"type\":\"ColumnDataSource\"}},\"id\":\"c8d71e46-8bcd-4eda-b00e-507ed81fa324\",\"type\":\"CDSView\"},{\"attributes\":{\"line_color\":{\"value\":\"#7570b3\"},\"x\":{\"field\":\"x\"},\"y\":{\"field\":\"y\"}},\"id\":\"43f7d5ff-91f2-408c-b666-926f2a9a892e\",\"type\":\"Line\"},{\"attributes\":{\"callback\":null,\"column_names\":[\"x\",\"y\"],\"data\":{\"x\":{\"__ndarray__\":\"AAAAAAAA8L+amZmZmZnpvzMzMzMzM+O/mJmZmZmZ2b+YmZmZmZnJvwAAAAAAAAAAoJmZmZmZyT+cmZmZmZnZPzQzMzMzM+M/mpmZmZmZ6T8AAAAAAADwPw==\",\"dtype\":\"float64\",\"shape\":[11]},\"y\":{\"__ndarray__\":\"f9vR5NEObMAAFtuDQRJowH9Q5CKxFWTA/4rtwSAZYMD/iu3BIDlYwAAAAAAAQFDA/ekkfL6NQMC/fzoJn2/zv/+DIheJrT5A/1dsDwZJT0D/tqPJo51XQA==\",\"dtype\":\"float64\",\"shape\":[11]}}},\"id\":\"afe8dc69-8249-4aa3-b7f3-0104e15ced43\",\"type\":\"ColumnDataSource\"},{\"attributes\":{\"data_source\":{\"id\":\"42111f18-9b21-46b4-96a6-360a782d9c66\",\"type\":\"ColumnDataSource\"},\"glyph\":{\"id\":\"43f7d5ff-91f2-408c-b666-926f2a9a892e\",\"type\":\"Line\"},\"hover_glyph\":null,\"muted_glyph\":null,\"nonselection_glyph\":{\"id\":\"ad7a9bc5-847f-4f13-b802-ce08f25a8a4a\",\"type\":\"Line\"},\"selection_glyph\":null,\"view\":{\"id\":\"c8d71e46-8bcd-4eda-b00e-507ed81fa324\",\"type\":\"CDSView\"}},\"id\":\"c5b21e51-d259-4d86-8965-5a7006ed5b7f\",\"type\":\"GlyphRenderer\"},{\"attributes\":{\"line_color\":{\"value\":\"#e7298a\"},\"x\":{\"field\":\"x\"},\"y\":{\"field\":\"y\"}},\"id\":\"2ab58505-c6db-457d-84e7-9afbf3093b8d\",\"type\":\"Line\"},{\"attributes\":{\"callback\":null,\"column_names\":[\"x\",\"y\"],\"data\":{\"x\":{\"__ndarray__\":\"AAAAAAAA8L+amZmZmZnpvzMzMzMzM+O/mJmZmZmZ2b+YmZmZmZnJvwAAAAAAAAAAoJmZmZmZyT+cmZmZmZnZPzQzMzMzM+M/mpmZmZmZ6T8AAAAAAADwPw==\",\"dtype\":\"float64\",\"shape\":[11]},\"y\":{\"__ndarray__\":\"88LOJa+dbsD2m9i3JR5qwPh04kmcnmXA+k3s2xIfYcD6TezbEj9ZwAAAAAAAQFDAC8hOkLQDPcB6v4l9W+IbQOPTiSdxekVA7Dexb0u8U0DnhZ1LXrtcQA==\",\"dtype\":\"float64\",\"shape\":[11]}}},\"id\":\"055cad2e-ee3f-46ec-849d-53d0f524e411\",\"type\":\"ColumnDataSource\"},{\"attributes\":{\"callback\":null,\"column_names\":[\"x\",\"y\"],\"data\":{\"x\":{\"__ndarray__\":\"AAAAAAAA8L+amZmZmZnpvzMzMzMzM+O/mJmZmZmZ2b+YmZmZmZnJvwAAAAAAAAAAoJmZmZmZyT+cmZmZmZnZPzQzMzMzM+M/mpmZmZmZ6T8AAAAAAADwPw==\",\"dtype\":\"float64\",\"shape\":[11]},\"y\":{\"__ndarray__\":\"2Ve29y8xccDCvyNZ5iFtwNHP2sJs4WfA4N+RLPOgYsDg35Es88BawAAAAAAAQFDAcoC4TTP8NsAP/45kmQczQEY/awuzhU5AhH9HsszDWUCyr2zvXyJiQA==\",\"dtype\":\"float64\",\"shape\":[11]}}},\"id\":\"7182e182-f99c-4793-b1bd-eaac32ce9988\",\"type\":\"ColumnDataSource\"},{\"attributes\":{\"line_alpha\":{\"value\":0.1},\"line_color\":{\"value\":\"#1f77b4\"},\"x\":{\"field\":\"x\"},\"y\":{\"field\":\"y\"}},\"id\":\"d3d4ca6b-c621-4474-a566-491edd49e828\",\"type\":\"Line\"},{\"attributes\":{\"line_color\":{\"value\":\"#d95f02\"},\"x\":{\"field\":\"x\"},\"y\":{\"field\":\"y\"}},\"id\":\"4ae79606-7dd7-47af-a3b7-d254bd6f79ca\",\"type\":\"Line\"},{\"attributes\":{\"data_source\":{\"id\":\"afe8dc69-8249-4aa3-b7f3-0104e15ced43\",\"type\":\"ColumnDataSource\"},\"glyph\":{\"id\":\"2ab58505-c6db-457d-84e7-9afbf3093b8d\",\"type\":\"Line\"},\"hover_glyph\":null,\"muted_glyph\":null,\"nonselection_glyph\":{\"id\":\"d3d4ca6b-c621-4474-a566-491edd49e828\",\"type\":\"Line\"},\"selection_glyph\":null,\"view\":{\"id\":\"c16dd557-76d4-49b7-8436-af0d1af56f62\",\"type\":\"CDSView\"}},\"id\":\"6385a60b-7c7c-4372-8ac0-37a8a85ebc24\",\"type\":\"GlyphRenderer\"},{\"attributes\":{\"source\":{\"id\":\"afe8dc69-8249-4aa3-b7f3-0104e15ced43\",\"type\":\"ColumnDataSource\"}},\"id\":\"c16dd557-76d4-49b7-8436-af0d1af56f62\",\"type\":\"CDSView\"},{\"attributes\":{\"source\":{\"id\":\"055cad2e-ee3f-46ec-849d-53d0f524e411\",\"type\":\"ColumnDataSource\"}},\"id\":\"2665f957-0c1a-4ce2-9386-55194efd2690\",\"type\":\"CDSView\"},{\"attributes\":{\"callback\":null,\"column_names\":[\"x\",\"y\"],\"data\":{\"x\":{\"__ndarray__\":\"AAAAAAAA8L+amZmZmZnpvzMzMzMzM+O/mJmZmZmZ2b+YmZmZmZnJvwAAAAAAAAAAoJmZmZmZyT+cmZmZmZnZPzQzMzMzM+M/mpmZmZmZ6T8AAAAAAADwPw==\",\"dtype\":\"float64\",\"shape\":[11]},\"y\":{\"__ndarray__\":\"fb+4uGbIc8BkzJNghaNwwJay3RBI/WrAY8yTYIWzZMBjzJNghdNcwAAAAAAAQFDAxZxh+9RjLcCVMU+CFc5BQC1luyGQelVAyZgnwQoHYUD6fnFxzVBnQA==\",\"dtype\":\"float64\",\"shape\":[11]}}},\"id\":\"2a6b2d90-2b4b-40af-9157-df8485481a18\",\"type\":\"ColumnDataSource\"},{\"attributes\":{\"line_color\":{\"value\":\"#1b9e77\"},\"x\":{\"field\":\"x\"},\"y\":{\"field\":\"y\"}},\"id\":\"ce68310b-13bd-495e-b71d-6387de0eba06\",\"type\":\"Line\"},{\"attributes\":{\"line_alpha\":{\"value\":0.1},\"line_color\":{\"value\":\"#1f77b4\"},\"x\":{\"field\":\"x\"},\"y\":{\"field\":\"y\"}},\"id\":\"c47223e0-0bc5-450c-9c49-f74a29a90fec\",\"type\":\"Line\"},{\"attributes\":{\"data_source\":{\"id\":\"055cad2e-ee3f-46ec-849d-53d0f524e411\",\"type\":\"ColumnDataSource\"},\"glyph\":{\"id\":\"ddec6eff-1e53-4e83-bf69-ac1991bcc539\",\"type\":\"Line\"},\"hover_glyph\":null,\"muted_glyph\":null,\"nonselection_glyph\":{\"id\":\"c47223e0-0bc5-450c-9c49-f74a29a90fec\",\"type\":\"Line\"},\"selection_glyph\":null,\"view\":{\"id\":\"2665f957-0c1a-4ce2-9386-55194efd2690\",\"type\":\"CDSView\"}},\"id\":\"ebdc60e3-3137-47f0-a134-11a1c451d3b0\",\"type\":\"GlyphRenderer\"},{\"attributes\":{\"data_source\":{\"id\":\"7182e182-f99c-4793-b1bd-eaac32ce9988\",\"type\":\"ColumnDataSource\"},\"glyph\":{\"id\":\"ce68310b-13bd-495e-b71d-6387de0eba06\",\"type\":\"Line\"},\"hover_glyph\":null,\"muted_glyph\":null,\"nonselection_glyph\":{\"id\":\"d1b3560e-814b-44de-9062-97b3c8185f4b\",\"type\":\"Line\"},\"selection_glyph\":null,\"view\":{\"id\":\"9e54ca08-a273-433d-a596-63d978b0e8fe\",\"type\":\"CDSView\"}},\"id\":\"b3432245-ca40-4089-9687-c39a05de9d11\",\"type\":\"GlyphRenderer\"},{\"attributes\":{\"source\":{\"id\":\"7182e182-f99c-4793-b1bd-eaac32ce9988\",\"type\":\"ColumnDataSource\"}},\"id\":\"9e54ca08-a273-433d-a596-63d978b0e8fe\",\"type\":\"CDSView\"},{\"attributes\":{\"callback\":null,\"column_names\":[\"x\",\"y\"],\"data\":{\"x\":[0.52,0.54,0.56,0.58,0.6,0.62,0.64,0.66,0.68,0.7000000000000001,0.72,0.74,0.76,0.78,0.8,0.8200000000000001,0.84,0.86,0.88,0.9,0.92,0.9400000000000001,0.96,0.98,1.0],\"y\":{\"__ndarray__\":\"UbT0o545SEAXWtYofVlHQKhkllYrhkZAMMVwOzW/RUDyEHatLQRFQPpzpg6uVERAQiykFFawQ0AZqd6TyxZDQBpSGU66h0JAqNAyxNMCQkC4fxMLz4dBQJhgq6NoFkFAHKHpVWKuQECaYZkOg09AQKP/IYAt8z9AO3BFi9xYP0Ab432Tvs8+QFoHdF2IVz5ADm9R9PfvPUDyYZCF1Jg9QMKlzkHuUT1AQiGSQh4bPUBg9fB0RvQ8QKBWEYlR3TxAIxl45jLWPEA=\",\"dtype\":\"float64\",\"shape\":[25]}}},\"id\":\"3ac336d9-7477-4bee-98d4-52ac7cb11250\",\"type\":\"ColumnDataSource\"},{\"attributes\":{},\"id\":\"8efa55a1-cbe4-47ac-9009-3ba8c96da6e9\",\"type\":\"BasicTickFormatter\"},{\"attributes\":{\"line_alpha\":{\"value\":0.1},\"line_color\":{\"value\":\"#1f77b4\"},\"x\":{\"field\":\"x\"},\"y\":{\"field\":\"y\"}},\"id\":\"d1b3560e-814b-44de-9062-97b3c8185f4b\",\"type\":\"Line\"},{\"attributes\":{\"line_alpha\":{\"value\":0.1},\"line_color\":{\"value\":\"#1f77b4\"},\"x\":{\"field\":\"x\"},\"y\":{\"field\":\"y\"}},\"id\":\"3d54e7ac-bf67-4e61-bee6-0fc57014c7cb\",\"type\":\"Line\"},{\"attributes\":{\"data_source\":{\"id\":\"2a6b2d90-2b4b-40af-9157-df8485481a18\",\"type\":\"ColumnDataSource\"},\"glyph\":{\"id\":\"4ae79606-7dd7-47af-a3b7-d254bd6f79ca\",\"type\":\"Line\"},\"hover_glyph\":null,\"muted_glyph\":null,\"nonselection_glyph\":{\"id\":\"3d54e7ac-bf67-4e61-bee6-0fc57014c7cb\",\"type\":\"Line\"},\"selection_glyph\":null,\"view\":{\"id\":\"33f7c25a-d5cf-4e4d-bde4-4d7b4c5c8dd3\",\"type\":\"CDSView\"}},\"id\":\"cfa10e78-0f15-41f7-8ab3-c4a8bd2229f1\",\"type\":\"GlyphRenderer\"},{\"attributes\":{\"callback\":null},\"id\":\"c46b1285-534f-4270-873b-5d1efcbed32d\",\"type\":\"DataRange1d\"},{\"attributes\":{\"source\":{\"id\":\"3ac336d9-7477-4bee-98d4-52ac7cb11250\",\"type\":\"ColumnDataSource\"}},\"id\":\"caf507a1-e408-4832-8a13-38690ef80279\",\"type\":\"CDSView\"},{\"attributes\":{\"source\":{\"id\":\"2a6b2d90-2b4b-40af-9157-df8485481a18\",\"type\":\"ColumnDataSource\"}},\"id\":\"33f7c25a-d5cf-4e4d-bde4-4d7b4c5c8dd3\",\"type\":\"CDSView\"},{\"attributes\":{},\"id\":\"54dc6016-f7ee-472b-8c12-2b7d698ad6ae\",\"type\":\"LinearScale\"},{\"attributes\":{\"callback\":null},\"id\":\"23ef415c-085a-4bc3-8536-dc3f5636b9c8\",\"type\":\"DataRange1d\"},{\"attributes\":{\"active_drag\":\"auto\",\"active_inspect\":\"auto\",\"active_scroll\":\"auto\",\"active_tap\":\"auto\",\"tools\":[{\"id\":\"febd758c-b689-4cec-8760-3122e24bbc53\",\"type\":\"PanTool\"},{\"id\":\"80a172fc-3555-4d15-982a-48455e16a414\",\"type\":\"WheelZoomTool\"},{\"id\":\"4e470183-5cd9-4128-81cb-5ac23f2f217f\",\"type\":\"BoxZoomTool\"},{\"id\":\"836e0121-c3ce-4628-ab1c-4d97f83a7555\",\"type\":\"SaveTool\"},{\"id\":\"5fc82544-4d24-401f-b03e-6a7c143deb36\",\"type\":\"ResetTool\"},{\"id\":\"dc0bed7c-326a-430f-9dd3-f3f40cc47dd9\",\"type\":\"HelpTool\"}]},\"id\":\"a2dc995a-8870-446c-ad41-f60c1de97e55\",\"type\":\"Toolbar\"},{\"attributes\":{},\"id\":\"aab2e0ba-1d3d-4c7a-ab0a-d30f559263ac\",\"type\":\"LinearScale\"},{\"attributes\":{\"callback\":null},\"id\":\"40c67820-4386-4dd0-a3d1-2c326745698d\",\"type\":\"DataRange1d\"},{\"attributes\":{\"line_alpha\":{\"value\":0.1},\"line_color\":{\"value\":\"#1f77b4\"},\"x\":{\"field\":\"x\"},\"y\":{\"field\":\"y\"}},\"id\":\"34d05df3-b4e0-4d02-9a07-d39559b6d72b\",\"type\":\"Line\"},{\"attributes\":{\"plot\":{\"id\":\"5f3b6f20-6013-4f1e-834c-674b2213fab4\",\"subtype\":\"Figure\",\"type\":\"Plot\"},\"ticker\":{\"id\":\"e97e4c85-fd26-42ad-987d-62a591fa34f5\",\"type\":\"BasicTicker\"}},\"id\":\"39c0c342-837e-4ca3-bed6-4ba59187d44f\",\"type\":\"Grid\"},{\"attributes\":{\"axis_label\":\"Distance\",\"formatter\":{\"id\":\"8efa55a1-cbe4-47ac-9009-3ba8c96da6e9\",\"type\":\"BasicTickFormatter\"},\"plot\":{\"id\":\"5f3b6f20-6013-4f1e-834c-674b2213fab4\",\"subtype\":\"Figure\",\"type\":\"Plot\"},\"ticker\":{\"id\":\"e97e4c85-fd26-42ad-987d-62a591fa34f5\",\"type\":\"BasicTicker\"}},\"id\":\"cf4f47db-026d-46ee-aad2-27f55f65faab\",\"type\":\"LinearAxis\"},{\"attributes\":{},\"id\":\"e97e4c85-fd26-42ad-987d-62a591fa34f5\",\"type\":\"BasicTicker\"},{\"attributes\":{\"axis_label\":\"Input Resistance\",\"formatter\":{\"id\":\"883af75f-7fc6-47b6-b36c-830f2f101698\",\"type\":\"BasicTickFormatter\"},\"plot\":{\"id\":\"5f3b6f20-6013-4f1e-834c-674b2213fab4\",\"subtype\":\"Figure\",\"type\":\"Plot\"},\"ticker\":{\"id\":\"054b4889-6abf-44c3-8ace-6a46825dc8c4\",\"type\":\"BasicTicker\"}},\"id\":\"4268fdc4-69c0-4790-9c9b-3a87ecea5930\",\"type\":\"LinearAxis\"},{\"attributes\":{},\"id\":\"054b4889-6abf-44c3-8ace-6a46825dc8c4\",\"type\":\"BasicTicker\"},{\"attributes\":{\"dimension\":1,\"plot\":{\"id\":\"5f3b6f20-6013-4f1e-834c-674b2213fab4\",\"subtype\":\"Figure\",\"type\":\"Plot\"},\"ticker\":{\"id\":\"054b4889-6abf-44c3-8ace-6a46825dc8c4\",\"type\":\"BasicTicker\"}},\"id\":\"888f1b43-1c00-4369-967a-32b375a2d588\",\"type\":\"Grid\"},{\"attributes\":{\"data_source\":{\"id\":\"3ac336d9-7477-4bee-98d4-52ac7cb11250\",\"type\":\"ColumnDataSource\"},\"glyph\":{\"id\":\"eeab76c1-0080-403d-a6f7-a67c37896a20\",\"type\":\"Line\"},\"hover_glyph\":null,\"muted_glyph\":null,\"nonselection_glyph\":{\"id\":\"34d05df3-b4e0-4d02-9a07-d39559b6d72b\",\"type\":\"Line\"},\"selection_glyph\":null,\"view\":{\"id\":\"caf507a1-e408-4832-8a13-38690ef80279\",\"type\":\"CDSView\"}},\"id\":\"847fda67-323b-4fed-8a73-8f07813b2710\",\"type\":\"GlyphRenderer\"},{\"attributes\":{\"line_color\":{\"value\":\"#1f77b4\"},\"x\":{\"field\":\"x\"},\"y\":{\"field\":\"y\"}},\"id\":\"eeab76c1-0080-403d-a6f7-a67c37896a20\",\"type\":\"Line\"},{\"attributes\":{\"children\":[{\"id\":\"60ee5596-90bc-4ff2-b9ef-463948223a15\",\"type\":\"Row\"}]},\"id\":\"77c0800a-1fe1-4451-a9fd-90a689fce120\",\"type\":\"Column\"},{\"attributes\":{\"plot\":null,\"text\":\"\"},\"id\":\"d219ea52-97d9-448e-87fe-271ca488d14b\",\"type\":\"Title\"},{\"attributes\":{},\"id\":\"febd758c-b689-4cec-8760-3122e24bbc53\",\"type\":\"PanTool\"},{\"attributes\":{\"overlay\":{\"id\":\"5d54f0a9-ce38-4488-9e94-44220c3ff3ff\",\"type\":\"BoxAnnotation\"}},\"id\":\"4e470183-5cd9-4128-81cb-5ac23f2f217f\",\"type\":\"BoxZoomTool\"},{\"attributes\":{},\"id\":\"80a172fc-3555-4d15-982a-48455e16a414\",\"type\":\"WheelZoomTool\"}],\"root_ids\":[\"77c0800a-1fe1-4451-a9fd-90a689fce120\"]},\"title\":\"Bokeh Application\",\"version\":\"0.12.10\"}};\n",
       "    var render_items = [{\"docid\":\"f20cf0d1-8e5c-438a-aa80-508485ecca17\",\"elementid\":\"c202f0a2-66f1-4781-a8f3-d8e9da8e4ead\",\"modelid\":\"77c0800a-1fe1-4451-a9fd-90a689fce120\"}];\n",
       "\n",
       "    root.Bokeh.embed.embed_items(docs_json, render_items);\n",
       "  }\n",
       "\n",
       "  if (root.Bokeh !== undefined) {\n",
       "    embed_document(root);\n",
       "  } else {\n",
       "    var attempts = 0;\n",
       "    var timer = setInterval(function(root) {\n",
       "      if (root.Bokeh !== undefined) {\n",
       "        embed_document(root);\n",
       "        clearInterval(timer);\n",
       "      }\n",
       "      attempts++;\n",
       "      if (attempts > 100) {\n",
       "        console.log(\"Bokeh: ERROR: Unable to embed document because BokehJS library is missing\")\n",
       "        clearInterval(timer);\n",
       "      }\n",
       "    }, 10, root)\n",
       "  }\n",
       "})(window);"
      ],
      "application/vnd.bokehjs_exec.v0+json": ""
     },
     "metadata": {
      "application/vnd.bokehjs_exec.v0+json": {
       "id": "77c0800a-1fe1-4451-a9fd-90a689fce120"
      }
     },
     "output_type": "display_data"
    }
   ],
   "source": [
    "#def get_cable_VI(L,diam,Ra,Rm,cm,I):\n",
    "I = np.linspace(-1,1,num=11)\n",
    "cell = branched_cable()\n",
    "cell.make_cable(500,1)\n",
    "cell.add_IClamp('cable',.5,.001,100)\n",
    "\n",
    "# record at a few different points along the cable\n",
    "positions = list(np.linspace(0,1,num=51))\n",
    "keys = []\n",
    "for pos in positions:   \n",
    "    keys.append('cable:%.2f:v' % pos)\n",
    "    cell.recording_vecs([['cable',pos,'v']])\n",
    "\n",
    "t,results = run_current_clamp(cell,'iclamp',I,tstop=400)\n",
    "\n",
    "V_ss = np.zeros([I.size,len(keys)])\n",
    "ss_ind = np.where(t>95)[0][0]\n",
    "for j,key in enumerate(keys):\n",
    "    V_ss[:,j] = np.squeeze(results[key][ss_ind,:])\n",
    "slope = np.squeeze(np.diff(V_ss,axis=0).mean(axis=0))\n",
    "\n",
    "\n",
    "VI = bkp.figure(plot_height=400,plot_width=400)\n",
    "for i, color in zip(range(0,int((len(positions)+1)/2),5),colors):\n",
    "    VI.line(I,V_ss[:,i],color=color)\n",
    "VI.xaxis.axis_label = \"I (mA)\"\n",
    "VI.yaxis.axis_label = \"Steady-State V (mV)\"\n",
    "    \n",
    "S = bkp.figure(plot_height=400,plot_width=400)\n",
    "S.line(positions[int((len(positions)+1)/2):],slope[int((len(positions)+1)/2):])\n",
    "S.xaxis.axis_label = \"Distance\"\n",
    "S.yaxis.axis_label = \"Input Resistance\"\n",
    "bkp.show(bk.layouts.layout([[VI,S]]))\n"
   ]
  },
  {
   "cell_type": "code",
   "execution_count": 24,
   "metadata": {
    "collapsed": true
   },
   "outputs": [],
   "source": [
    "def get_rho(L,diam,Ra,Rm,cm,I):\n",
    "    cell = branched_cable()\n",
    "    cell.make_cable(L,diam,Ra=Ra,Rm=Rm,cm=cm)\n",
    "    cell.add_IClamp('cable',0,.001,100)\n",
    "\n",
    "    # record at a few different points along the cable\n",
    "    positions = list(np.linspace(0,1,num=101))\n",
    "    keys = []\n",
    "    for pos in positions:   \n",
    "        keys.append('cable:%.2f:v' % pos)\n",
    "        cell.recording_vecs([['cable',pos,'v']])\n",
    "\n",
    "    t,results = run_current_clamp(cell,'iclamp',[I],tstop=400)\n",
    "    ss_ind = np.where(t>95)[0][0]\n",
    "    V_half = (1-.37)*(results['cable:0.00:v'][ss_ind,:]+65)-65\n",
    "    \n",
    "    V_ss = np.zeros([101,])\n",
    "    for j,key in enumerate(keys):\n",
    "        V_ss[j] = np.squeeze(results[key][ss_ind,:])\n",
    "    \n",
    "    if I<0:\n",
    "        rho = np.where(V_ss>=V_half)[0][0]/101.*L\n",
    "    if I>0:\n",
    "        rho = np.where(V_ss<=V_half)[0][0]/101.*L\n",
    "    else:\n",
    "        rho = np.nan\n",
    "    return rho"
   ]
  },
  {
   "cell_type": "code",
   "execution_count": 27,
   "metadata": {},
   "outputs": [
    {
     "data": {
      "text/html": [
       "\n",
       "<div class=\"bk-root\">\n",
       "    <div class=\"bk-plotdiv\" id=\"993b8d54-29b7-4fe1-9fb7-79a71d6e1a06\"></div>\n",
       "</div>"
      ]
     },
     "metadata": {},
     "output_type": "display_data"
    },
    {
     "data": {
      "application/javascript": [
       "(function(root) {\n",
       "  function embed_document(root) {\n",
       "    var docs_json = {\"c365cf08-fd73-4e7c-b221-40d5905ad505\":{\"roots\":{\"references\":[{\"attributes\":{\"plot\":null,\"text\":\"\"},\"id\":\"4ccd4e1b-4c40-4cc5-89e7-ac74c3e17b86\",\"type\":\"Title\"},{\"attributes\":{\"axis_label\":\"I (mA)\",\"formatter\":{\"id\":\"21dd166b-2e74-4ef9-8782-e9c1049bce99\",\"type\":\"BasicTickFormatter\"},\"plot\":{\"id\":\"b59bdfba-928b-4410-962f-4db27637b82f\",\"subtype\":\"Figure\",\"type\":\"Plot\"},\"ticker\":{\"id\":\"e8d4511b-312d-459f-b89d-6cb57715c1b7\",\"type\":\"BasicTicker\"}},\"id\":\"1c14ced4-4e0a-47df-9ef6-29539af15e70\",\"type\":\"LinearAxis\"},{\"attributes\":{},\"id\":\"e8d4511b-312d-459f-b89d-6cb57715c1b7\",\"type\":\"BasicTicker\"},{\"attributes\":{\"axis_label\":\"rho\",\"formatter\":{\"id\":\"264d9cd9-ed0b-43b7-a162-6c54667539b9\",\"type\":\"BasicTickFormatter\"},\"plot\":{\"id\":\"b59bdfba-928b-4410-962f-4db27637b82f\",\"subtype\":\"Figure\",\"type\":\"Plot\"},\"ticker\":{\"id\":\"288a5ce7-4097-4182-96aa-28854a92030c\",\"type\":\"BasicTicker\"}},\"id\":\"ea594fb1-f038-4514-90cf-9a1ba3a3131c\",\"type\":\"LinearAxis\"},{\"attributes\":{\"callback\":null,\"column_names\":[\"x\",\"y\"],\"data\":{\"x\":{\"__ndarray__\":\"AAAAAAAA8L8AAAAAAADgvwAAAAAAAAAAAAAAAAAA4D8AAAAAAADwPw==\",\"dtype\":\"float64\",\"shape\":[5]},\"y\":{\"__ndarray__\":\"AAAAAAAA+H8AAAAAAAD4fwAAAAAAAPh/UWDSqXmQUkBRYNKpeZBSQA==\",\"dtype\":\"float64\",\"shape\":[5]}}},\"id\":\"a7d396e2-29b0-4f66-8e0b-e8c0e4b66126\",\"type\":\"ColumnDataSource\"},{\"attributes\":{},\"id\":\"288a5ce7-4097-4182-96aa-28854a92030c\",\"type\":\"BasicTicker\"},{\"attributes\":{\"dimension\":1,\"plot\":{\"id\":\"b59bdfba-928b-4410-962f-4db27637b82f\",\"subtype\":\"Figure\",\"type\":\"Plot\"},\"ticker\":{\"id\":\"288a5ce7-4097-4182-96aa-28854a92030c\",\"type\":\"BasicTicker\"}},\"id\":\"9e43f363-71ea-43cf-a96e-a931c578e80c\",\"type\":\"Grid\"},{\"attributes\":{\"line_alpha\":{\"value\":0.1},\"line_color\":{\"value\":\"#1f77b4\"},\"x\":{\"field\":\"x\"},\"y\":{\"field\":\"y\"}},\"id\":\"8876b691-ea0a-4eae-a8e4-6ade3be043dd\",\"type\":\"Line\"},{\"attributes\":{\"bottom_units\":\"screen\",\"fill_alpha\":{\"value\":0.5},\"fill_color\":{\"value\":\"lightgrey\"},\"left_units\":\"screen\",\"level\":\"overlay\",\"line_alpha\":{\"value\":1.0},\"line_color\":{\"value\":\"black\"},\"line_dash\":[4,4],\"line_width\":{\"value\":2},\"plot\":null,\"render_mode\":\"css\",\"right_units\":\"screen\",\"top_units\":\"screen\"},\"id\":\"16cf660e-ad83-48e3-a405-a75fbeeea150\",\"type\":\"BoxAnnotation\"},{\"attributes\":{\"below\":[{\"id\":\"1c14ced4-4e0a-47df-9ef6-29539af15e70\",\"type\":\"LinearAxis\"}],\"left\":[{\"id\":\"ea594fb1-f038-4514-90cf-9a1ba3a3131c\",\"type\":\"LinearAxis\"}],\"plot_height\":400,\"plot_width\":400,\"renderers\":[{\"id\":\"1c14ced4-4e0a-47df-9ef6-29539af15e70\",\"type\":\"LinearAxis\"},{\"id\":\"fc041fbf-4500-4aab-9058-0f5c3828e96f\",\"type\":\"Grid\"},{\"id\":\"ea594fb1-f038-4514-90cf-9a1ba3a3131c\",\"type\":\"LinearAxis\"},{\"id\":\"9e43f363-71ea-43cf-a96e-a931c578e80c\",\"type\":\"Grid\"},{\"id\":\"16cf660e-ad83-48e3-a405-a75fbeeea150\",\"type\":\"BoxAnnotation\"},{\"id\":\"1fc59c1a-66f0-4e47-a5c6-29b7cde139a0\",\"type\":\"GlyphRenderer\"}],\"title\":{\"id\":\"4ccd4e1b-4c40-4cc5-89e7-ac74c3e17b86\",\"type\":\"Title\"},\"toolbar\":{\"id\":\"bdf39e6e-0bf2-4acd-895e-42a0dd9650c9\",\"type\":\"Toolbar\"},\"x_range\":{\"id\":\"137c4440-d8db-4082-a0cc-887c3d123dd0\",\"type\":\"DataRange1d\"},\"x_scale\":{\"id\":\"064cd9fb-202f-45e3-bfe3-5a30ea4b3250\",\"type\":\"LinearScale\"},\"y_range\":{\"id\":\"673b895e-9d88-461d-a583-598df476615d\",\"type\":\"DataRange1d\"},\"y_scale\":{\"id\":\"2c25ac4b-59e9-421d-97e4-7ab665e0b192\",\"type\":\"LinearScale\"}},\"id\":\"b59bdfba-928b-4410-962f-4db27637b82f\",\"subtype\":\"Figure\",\"type\":\"Plot\"},{\"attributes\":{},\"id\":\"a6e8c953-85b0-43ca-89d8-f040d5524450\",\"type\":\"PanTool\"},{\"attributes\":{\"callback\":null},\"id\":\"137c4440-d8db-4082-a0cc-887c3d123dd0\",\"type\":\"DataRange1d\"},{\"attributes\":{\"source\":{\"id\":\"a7d396e2-29b0-4f66-8e0b-e8c0e4b66126\",\"type\":\"ColumnDataSource\"}},\"id\":\"cb0cef10-113e-40ab-b17c-20422f7208ad\",\"type\":\"CDSView\"},{\"attributes\":{\"active_drag\":\"auto\",\"active_inspect\":\"auto\",\"active_scroll\":\"auto\",\"active_tap\":\"auto\",\"tools\":[{\"id\":\"a6e8c953-85b0-43ca-89d8-f040d5524450\",\"type\":\"PanTool\"},{\"id\":\"5c89a2d6-01dd-4228-a45b-3f28eb819b67\",\"type\":\"WheelZoomTool\"},{\"id\":\"3297d1b6-26d4-43c4-94f6-5b07fb621ea7\",\"type\":\"BoxZoomTool\"},{\"id\":\"fed20397-cfdf-47b3-8b8f-357afece6ecc\",\"type\":\"SaveTool\"},{\"id\":\"3d86dbd6-b6f0-4677-9d88-7eddf63d4a64\",\"type\":\"ResetTool\"},{\"id\":\"a2141c95-e375-4f32-a245-a2f8cda85ba7\",\"type\":\"HelpTool\"}]},\"id\":\"bdf39e6e-0bf2-4acd-895e-42a0dd9650c9\",\"type\":\"Toolbar\"},{\"attributes\":{},\"id\":\"5c89a2d6-01dd-4228-a45b-3f28eb819b67\",\"type\":\"WheelZoomTool\"},{\"attributes\":{\"data_source\":{\"id\":\"a7d396e2-29b0-4f66-8e0b-e8c0e4b66126\",\"type\":\"ColumnDataSource\"},\"glyph\":{\"id\":\"8c93687e-7470-4c28-9b86-770eaa1140e8\",\"type\":\"Line\"},\"hover_glyph\":null,\"muted_glyph\":null,\"nonselection_glyph\":{\"id\":\"8876b691-ea0a-4eae-a8e4-6ade3be043dd\",\"type\":\"Line\"},\"selection_glyph\":null,\"view\":{\"id\":\"cb0cef10-113e-40ab-b17c-20422f7208ad\",\"type\":\"CDSView\"}},\"id\":\"1fc59c1a-66f0-4e47-a5c6-29b7cde139a0\",\"type\":\"GlyphRenderer\"},{\"attributes\":{\"overlay\":{\"id\":\"16cf660e-ad83-48e3-a405-a75fbeeea150\",\"type\":\"BoxAnnotation\"}},\"id\":\"3297d1b6-26d4-43c4-94f6-5b07fb621ea7\",\"type\":\"BoxZoomTool\"},{\"attributes\":{},\"id\":\"21dd166b-2e74-4ef9-8782-e9c1049bce99\",\"type\":\"BasicTickFormatter\"},{\"attributes\":{},\"id\":\"fed20397-cfdf-47b3-8b8f-357afece6ecc\",\"type\":\"SaveTool\"},{\"attributes\":{\"line_color\":{\"value\":\"#1f77b4\"},\"x\":{\"field\":\"x\"},\"y\":{\"field\":\"y\"}},\"id\":\"8c93687e-7470-4c28-9b86-770eaa1140e8\",\"type\":\"Line\"},{\"attributes\":{},\"id\":\"3d86dbd6-b6f0-4677-9d88-7eddf63d4a64\",\"type\":\"ResetTool\"},{\"attributes\":{\"callback\":null},\"id\":\"673b895e-9d88-461d-a583-598df476615d\",\"type\":\"DataRange1d\"},{\"attributes\":{},\"id\":\"a2141c95-e375-4f32-a245-a2f8cda85ba7\",\"type\":\"HelpTool\"},{\"attributes\":{},\"id\":\"064cd9fb-202f-45e3-bfe3-5a30ea4b3250\",\"type\":\"LinearScale\"},{\"attributes\":{},\"id\":\"264d9cd9-ed0b-43b7-a162-6c54667539b9\",\"type\":\"BasicTickFormatter\"},{\"attributes\":{},\"id\":\"2c25ac4b-59e9-421d-97e4-7ab665e0b192\",\"type\":\"LinearScale\"},{\"attributes\":{\"plot\":{\"id\":\"b59bdfba-928b-4410-962f-4db27637b82f\",\"subtype\":\"Figure\",\"type\":\"Plot\"},\"ticker\":{\"id\":\"e8d4511b-312d-459f-b89d-6cb57715c1b7\",\"type\":\"BasicTicker\"}},\"id\":\"fc041fbf-4500-4aab-9058-0f5c3828e96f\",\"type\":\"Grid\"}],\"root_ids\":[\"b59bdfba-928b-4410-962f-4db27637b82f\"]},\"title\":\"Bokeh Application\",\"version\":\"0.12.10\"}};\n",
       "    var render_items = [{\"docid\":\"c365cf08-fd73-4e7c-b221-40d5905ad505\",\"elementid\":\"993b8d54-29b7-4fe1-9fb7-79a71d6e1a06\",\"modelid\":\"b59bdfba-928b-4410-962f-4db27637b82f\"}];\n",
       "\n",
       "    root.Bokeh.embed.embed_items(docs_json, render_items);\n",
       "  }\n",
       "\n",
       "  if (root.Bokeh !== undefined) {\n",
       "    embed_document(root);\n",
       "  } else {\n",
       "    var attempts = 0;\n",
       "    var timer = setInterval(function(root) {\n",
       "      if (root.Bokeh !== undefined) {\n",
       "        embed_document(root);\n",
       "        clearInterval(timer);\n",
       "      }\n",
       "      attempts++;\n",
       "      if (attempts > 100) {\n",
       "        console.log(\"Bokeh: ERROR: Unable to embed document because BokehJS library is missing\")\n",
       "        clearInterval(timer);\n",
       "      }\n",
       "    }, 10, root)\n",
       "  }\n",
       "})(window);"
      ],
      "application/vnd.bokehjs_exec.v0+json": ""
     },
     "metadata": {
      "application/vnd.bokehjs_exec.v0+json": {
       "id": "b59bdfba-928b-4410-962f-4db27637b82f"
      }
     },
     "output_type": "display_data"
    }
   ],
   "source": [
    "# show rho (length constant) is invariant to current strength\n",
    "I = np.linspace(-1,1,num=5)\n",
    "RHO = np.zeros([I.size,])\n",
    "for i,curr in enumerate(list(I)):\n",
    "    RHO[i] = get_rho(500,1,300,2800,1,curr)\n",
    "\n",
    "R = bkp.figure(plot_height = 400,plot_width=400)\n",
    "R.line(I,RHO)\n",
    "R.xaxis.axis_label= \"I (mA)\"\n",
    "R.yaxis.axis_label = \"rho\"\n",
    "bkp.show(R)"
   ]
  },
  {
   "cell_type": "code",
   "execution_count": 29,
   "metadata": {},
   "outputs": [
    {
     "data": {
      "text/html": [
       "\n",
       "<div class=\"bk-root\">\n",
       "    <div class=\"bk-plotdiv\" id=\"2bd73e4e-dc8e-422a-b410-456a55a2c96a\"></div>\n",
       "</div>"
      ]
     },
     "metadata": {},
     "output_type": "display_data"
    },
    {
     "data": {
      "application/javascript": [
       "(function(root) {\n",
       "  function embed_document(root) {\n",
       "    var docs_json = {\"39b0dee2-bbb7-4a52-b2e9-f126578ac274\":{\"roots\":{\"references\":[{\"attributes\":{},\"id\":\"45178a7f-750c-4ecc-b4d0-6c5b2e0ebfdc\",\"type\":\"WheelZoomTool\"},{\"attributes\":{\"callback\":null},\"id\":\"7d78f02d-cb5e-4b97-8a5d-2ca8f198503c\",\"type\":\"DataRange1d\"},{\"attributes\":{\"overlay\":{\"id\":\"be0c649d-0c97-4bf7-9c9a-be6df0c24bd1\",\"type\":\"BoxAnnotation\"}},\"id\":\"75c00b8b-b1a5-4e98-a0c2-10568365887f\",\"type\":\"BoxZoomTool\"},{\"attributes\":{\"active_drag\":\"auto\",\"active_inspect\":\"auto\",\"active_scroll\":\"auto\",\"active_tap\":\"auto\",\"tools\":[{\"id\":\"617f2aee-ef11-4081-8a6b-8b93b1d5de4d\",\"type\":\"PanTool\"},{\"id\":\"45178a7f-750c-4ecc-b4d0-6c5b2e0ebfdc\",\"type\":\"WheelZoomTool\"},{\"id\":\"75c00b8b-b1a5-4e98-a0c2-10568365887f\",\"type\":\"BoxZoomTool\"},{\"id\":\"4c63bd46-d411-4d91-ab5a-8fa733e0fe54\",\"type\":\"SaveTool\"},{\"id\":\"9454d0c6-9fca-4707-a776-55142532e0c1\",\"type\":\"ResetTool\"},{\"id\":\"08f63f35-b99a-4a3f-a3ec-abc74edca047\",\"type\":\"HelpTool\"}]},\"id\":\"5a4aa81d-7c3b-4067-98ad-4e0f1ef7287e\",\"type\":\"Toolbar\"},{\"attributes\":{},\"id\":\"4c63bd46-d411-4d91-ab5a-8fa733e0fe54\",\"type\":\"SaveTool\"},{\"attributes\":{\"line_alpha\":{\"value\":0.1},\"line_color\":{\"value\":\"#1f77b4\"},\"x\":{\"field\":\"x\"},\"y\":{\"field\":\"y\"}},\"id\":\"81368a5a-a53a-4fcc-afa4-27d9b481715b\",\"type\":\"Line\"},{\"attributes\":{},\"id\":\"9454d0c6-9fca-4707-a776-55142532e0c1\",\"type\":\"ResetTool\"},{\"attributes\":{},\"id\":\"079ae7d3-8c7f-4f13-93e7-1138c076b0ce\",\"type\":\"LinearScale\"},{\"attributes\":{},\"id\":\"08f63f35-b99a-4a3f-a3ec-abc74edca047\",\"type\":\"HelpTool\"},{\"attributes\":{\"plot\":{\"id\":\"3ef5a45b-eea5-402a-8380-8d6672ed47e9\",\"subtype\":\"Figure\",\"type\":\"Plot\"},\"ticker\":{\"id\":\"b0c4ca0e-d757-4e10-982c-918bc8b1ee93\",\"type\":\"BasicTicker\"}},\"id\":\"592f7db3-0540-44ef-9275-7762d9def7a3\",\"type\":\"Grid\"},{\"attributes\":{\"line_color\":{\"value\":\"#1f77b4\"},\"x\":{\"field\":\"x\"},\"y\":{\"field\":\"y\"}},\"id\":\"501f743f-69cd-4693-aae7-b011db94ed10\",\"type\":\"Line\"},{\"attributes\":{\"callback\":null,\"column_names\":[\"x\",\"y\"],\"data\":{\"x\":{\"__ndarray__\":\"mpmZmZmZuT80MzMzMzP1P2dmZmZmZgRANDMzMzMzDkAAAAAAAAAUQA==\",\"dtype\":\"float64\",\"shape\":[5]},\"y\":{\"__ndarray__\":\"34gCk07NM0A1D3LXzxZQQPvZYmX4RlZAwaRT8yB3XEB8IwpMOrVgQA==\",\"dtype\":\"float64\",\"shape\":[5]}}},\"id\":\"1bda635c-0fde-40c0-9e14-1855033ddcee\",\"type\":\"ColumnDataSource\"},{\"attributes\":{\"callback\":null},\"id\":\"8b39a658-b3dc-4879-8f1c-8dad4fd2b39f\",\"type\":\"DataRange1d\"},{\"attributes\":{},\"id\":\"cd608b27-21ba-4380-9a91-3d6087395159\",\"type\":\"LinearScale\"},{\"attributes\":{\"axis_label\":\"diameter (microns)\",\"formatter\":{\"id\":\"eae14b8f-d7ce-499f-b0aa-4661c42babab\",\"type\":\"BasicTickFormatter\"},\"plot\":{\"id\":\"3ef5a45b-eea5-402a-8380-8d6672ed47e9\",\"subtype\":\"Figure\",\"type\":\"Plot\"},\"ticker\":{\"id\":\"b0c4ca0e-d757-4e10-982c-918bc8b1ee93\",\"type\":\"BasicTicker\"}},\"id\":\"1ec86321-3584-4236-9454-7dcbe13800d8\",\"type\":\"LinearAxis\"},{\"attributes\":{\"plot\":null,\"text\":\"\"},\"id\":\"b023cb34-2dfe-4d0b-9624-e7b55ecd998f\",\"type\":\"Title\"},{\"attributes\":{},\"id\":\"b0c4ca0e-d757-4e10-982c-918bc8b1ee93\",\"type\":\"BasicTicker\"},{\"attributes\":{\"axis_label\":\"rho\",\"formatter\":{\"id\":\"fbfd2ce7-e715-4c6d-9220-9009d5df99fb\",\"type\":\"BasicTickFormatter\"},\"plot\":{\"id\":\"3ef5a45b-eea5-402a-8380-8d6672ed47e9\",\"subtype\":\"Figure\",\"type\":\"Plot\"},\"ticker\":{\"id\":\"8a3d1fb7-1535-4e7a-b9e7-b7b5dbf8a910\",\"type\":\"BasicTicker\"}},\"id\":\"2f0348bd-2899-4c69-8f15-7c65cae537b2\",\"type\":\"LinearAxis\"},{\"attributes\":{},\"id\":\"8a3d1fb7-1535-4e7a-b9e7-b7b5dbf8a910\",\"type\":\"BasicTicker\"},{\"attributes\":{\"dimension\":1,\"plot\":{\"id\":\"3ef5a45b-eea5-402a-8380-8d6672ed47e9\",\"subtype\":\"Figure\",\"type\":\"Plot\"},\"ticker\":{\"id\":\"8a3d1fb7-1535-4e7a-b9e7-b7b5dbf8a910\",\"type\":\"BasicTicker\"}},\"id\":\"1cccf79f-66ec-4b52-8448-fae3aa0af37f\",\"type\":\"Grid\"},{\"attributes\":{},\"id\":\"eae14b8f-d7ce-499f-b0aa-4661c42babab\",\"type\":\"BasicTickFormatter\"},{\"attributes\":{},\"id\":\"fbfd2ce7-e715-4c6d-9220-9009d5df99fb\",\"type\":\"BasicTickFormatter\"},{\"attributes\":{\"source\":{\"id\":\"1bda635c-0fde-40c0-9e14-1855033ddcee\",\"type\":\"ColumnDataSource\"}},\"id\":\"e5274509-a4a0-42e8-87e4-31ea7112a3b5\",\"type\":\"CDSView\"},{\"attributes\":{\"data_source\":{\"id\":\"1bda635c-0fde-40c0-9e14-1855033ddcee\",\"type\":\"ColumnDataSource\"},\"glyph\":{\"id\":\"501f743f-69cd-4693-aae7-b011db94ed10\",\"type\":\"Line\"},\"hover_glyph\":null,\"muted_glyph\":null,\"nonselection_glyph\":{\"id\":\"81368a5a-a53a-4fcc-afa4-27d9b481715b\",\"type\":\"Line\"},\"selection_glyph\":null,\"view\":{\"id\":\"e5274509-a4a0-42e8-87e4-31ea7112a3b5\",\"type\":\"CDSView\"}},\"id\":\"4fdf068f-c8b4-4a2c-931d-c3d1703224be\",\"type\":\"GlyphRenderer\"},{\"attributes\":{\"bottom_units\":\"screen\",\"fill_alpha\":{\"value\":0.5},\"fill_color\":{\"value\":\"lightgrey\"},\"left_units\":\"screen\",\"level\":\"overlay\",\"line_alpha\":{\"value\":1.0},\"line_color\":{\"value\":\"black\"},\"line_dash\":[4,4],\"line_width\":{\"value\":2},\"plot\":null,\"render_mode\":\"css\",\"right_units\":\"screen\",\"top_units\":\"screen\"},\"id\":\"be0c649d-0c97-4bf7-9c9a-be6df0c24bd1\",\"type\":\"BoxAnnotation\"},{\"attributes\":{},\"id\":\"617f2aee-ef11-4081-8a6b-8b93b1d5de4d\",\"type\":\"PanTool\"},{\"attributes\":{\"below\":[{\"id\":\"1ec86321-3584-4236-9454-7dcbe13800d8\",\"type\":\"LinearAxis\"}],\"left\":[{\"id\":\"2f0348bd-2899-4c69-8f15-7c65cae537b2\",\"type\":\"LinearAxis\"}],\"plot_height\":400,\"plot_width\":400,\"renderers\":[{\"id\":\"1ec86321-3584-4236-9454-7dcbe13800d8\",\"type\":\"LinearAxis\"},{\"id\":\"592f7db3-0540-44ef-9275-7762d9def7a3\",\"type\":\"Grid\"},{\"id\":\"2f0348bd-2899-4c69-8f15-7c65cae537b2\",\"type\":\"LinearAxis\"},{\"id\":\"1cccf79f-66ec-4b52-8448-fae3aa0af37f\",\"type\":\"Grid\"},{\"id\":\"be0c649d-0c97-4bf7-9c9a-be6df0c24bd1\",\"type\":\"BoxAnnotation\"},{\"id\":\"4fdf068f-c8b4-4a2c-931d-c3d1703224be\",\"type\":\"GlyphRenderer\"}],\"title\":{\"id\":\"b023cb34-2dfe-4d0b-9624-e7b55ecd998f\",\"type\":\"Title\"},\"toolbar\":{\"id\":\"5a4aa81d-7c3b-4067-98ad-4e0f1ef7287e\",\"type\":\"Toolbar\"},\"x_range\":{\"id\":\"7d78f02d-cb5e-4b97-8a5d-2ca8f198503c\",\"type\":\"DataRange1d\"},\"x_scale\":{\"id\":\"cd608b27-21ba-4380-9a91-3d6087395159\",\"type\":\"LinearScale\"},\"y_range\":{\"id\":\"8b39a658-b3dc-4879-8f1c-8dad4fd2b39f\",\"type\":\"DataRange1d\"},\"y_scale\":{\"id\":\"079ae7d3-8c7f-4f13-93e7-1138c076b0ce\",\"type\":\"LinearScale\"}},\"id\":\"3ef5a45b-eea5-402a-8380-8d6672ed47e9\",\"subtype\":\"Figure\",\"type\":\"Plot\"}],\"root_ids\":[\"3ef5a45b-eea5-402a-8380-8d6672ed47e9\"]},\"title\":\"Bokeh Application\",\"version\":\"0.12.10\"}};\n",
       "    var render_items = [{\"docid\":\"39b0dee2-bbb7-4a52-b2e9-f126578ac274\",\"elementid\":\"2bd73e4e-dc8e-422a-b410-456a55a2c96a\",\"modelid\":\"3ef5a45b-eea5-402a-8380-8d6672ed47e9\"}];\n",
       "\n",
       "    root.Bokeh.embed.embed_items(docs_json, render_items);\n",
       "  }\n",
       "\n",
       "  if (root.Bokeh !== undefined) {\n",
       "    embed_document(root);\n",
       "  } else {\n",
       "    var attempts = 0;\n",
       "    var timer = setInterval(function(root) {\n",
       "      if (root.Bokeh !== undefined) {\n",
       "        embed_document(root);\n",
       "        clearInterval(timer);\n",
       "      }\n",
       "      attempts++;\n",
       "      if (attempts > 100) {\n",
       "        console.log(\"Bokeh: ERROR: Unable to embed document because BokehJS library is missing\")\n",
       "        clearInterval(timer);\n",
       "      }\n",
       "    }, 10, root)\n",
       "  }\n",
       "})(window);"
      ],
      "application/vnd.bokehjs_exec.v0+json": ""
     },
     "metadata": {
      "application/vnd.bokehjs_exec.v0+json": {
       "id": "3ef5a45b-eea5-402a-8380-8d6672ed47e9"
      }
     },
     "output_type": "display_data"
    }
   ],
   "source": [
    "# rho as a function of diam\n",
    "diams = np.linspace(.1,5,num=5)\n",
    "RHO = np.zeros([diams.size,])\n",
    "for i,d in enumerate(list(diams)):\n",
    "    RHO[i] = get_rho(500,d,500,2800,1,1)\n",
    "    \n",
    "R = bkp.figure(plot_height = 400,plot_width=400)\n",
    "R.line(diams,RHO)\n",
    "R.xaxis.axis_label= \"diameter (microns)\"\n",
    "R.yaxis.axis_label = \"rho\"\n",
    "bkp.show(R)"
   ]
  },
  {
   "cell_type": "code",
   "execution_count": 32,
   "metadata": {},
   "outputs": [
    {
     "data": {
      "text/html": [
       "\n",
       "<div class=\"bk-root\">\n",
       "    <div class=\"bk-plotdiv\" id=\"fcdba700-7442-4101-a469-e402ed1a2acb\"></div>\n",
       "</div>"
      ]
     },
     "metadata": {},
     "output_type": "display_data"
    },
    {
     "data": {
      "application/javascript": [
       "(function(root) {\n",
       "  function embed_document(root) {\n",
       "    var docs_json = {\"19af9888-311f-46e6-b06f-f80740fc52f1\":{\"roots\":{\"references\":[{\"attributes\":{\"overlay\":{\"id\":\"34f2535b-e8b7-4e5e-848a-0a878c57af35\",\"type\":\"BoxAnnotation\"}},\"id\":\"b48a2516-23ea-417e-bd37-0330d76872b0\",\"type\":\"BoxZoomTool\"},{\"attributes\":{},\"id\":\"701cdee8-ce1e-4679-9aee-0798afe3b1fe\",\"type\":\"SaveTool\"},{\"attributes\":{\"line_alpha\":{\"value\":0.1},\"line_color\":{\"value\":\"#1f77b4\"},\"x\":{\"field\":\"x\"},\"y\":{\"field\":\"y\"}},\"id\":\"e7a4e25d-1c4a-4e1d-b4ab-b49c92bd252f\",\"type\":\"Line\"},{\"attributes\":{\"active_drag\":\"auto\",\"active_inspect\":\"auto\",\"active_scroll\":\"auto\",\"active_tap\":\"auto\",\"tools\":[{\"id\":\"2770d0a3-ae77-4af5-93a8-cfb1eb172d3f\",\"type\":\"PanTool\"},{\"id\":\"7f061510-dc2c-4d95-887b-922985ed1095\",\"type\":\"WheelZoomTool\"},{\"id\":\"b48a2516-23ea-417e-bd37-0330d76872b0\",\"type\":\"BoxZoomTool\"},{\"id\":\"701cdee8-ce1e-4679-9aee-0798afe3b1fe\",\"type\":\"SaveTool\"},{\"id\":\"125b57d5-575d-4022-9ff6-d023bcfa298f\",\"type\":\"ResetTool\"},{\"id\":\"2a92798f-4da7-479d-878a-8de4b791f1b9\",\"type\":\"HelpTool\"}]},\"id\":\"3928839f-87a5-4bf1-a798-803bb7e77376\",\"type\":\"Toolbar\"},{\"attributes\":{\"callback\":null},\"id\":\"a9ba658f-9a3f-4f93-a64e-2ef26a0775a3\",\"type\":\"DataRange1d\"},{\"attributes\":{},\"id\":\"125b57d5-575d-4022-9ff6-d023bcfa298f\",\"type\":\"ResetTool\"},{\"attributes\":{\"callback\":null},\"id\":\"180b169e-3dcb-4b15-be77-41b2ae9bab59\",\"type\":\"DataRange1d\"},{\"attributes\":{},\"id\":\"2a92798f-4da7-479d-878a-8de4b791f1b9\",\"type\":\"HelpTool\"},{\"attributes\":{},\"id\":\"6b509b19-31e7-400f-870c-355e76d232a5\",\"type\":\"LinearScale\"},{\"attributes\":{},\"id\":\"8e9a6516-e29e-487c-9546-98e00fe15885\",\"type\":\"BasicTickFormatter\"},{\"attributes\":{},\"id\":\"7d6f1585-8796-4476-af4a-7bee372f5dd6\",\"type\":\"LinearScale\"},{\"attributes\":{\"plot\":{\"id\":\"46d1bca7-40da-4802-b686-fec065a4a20c\",\"subtype\":\"Figure\",\"type\":\"Plot\"},\"ticker\":{\"id\":\"40faf161-4753-4eb2-b810-db89edf0ff88\",\"type\":\"BasicTicker\"}},\"id\":\"15adc050-2c78-49da-9a51-3b9b67754637\",\"type\":\"Grid\"},{\"attributes\":{\"callback\":null,\"column_names\":[\"x\",\"y\"],\"data\":{\"x\":{\"__ndarray__\":\"AAAAAAAAWUB+L+jlMO5qQBCJR8mKAn1AAAAAAABAj0CqHbGP3tSgQKq1zL2WIbJAAAAAAACIw0AUZZ0zFgrVQA7jP238qeZAAAAAAABq+EA=\",\"dtype\":\"float64\",\"shape\":[10]},\"y\":{\"__ndarray__\":\"34gCk07NI0BOzYPc9bMtQBcrwzeiwDhAxDeiwKRTQUAXK8M3osBIQFFg0ql5kFJAM3wjCkw6W0AmnZoHuWtkQHqQu3622GtAxDeiwKRTcUA=\",\"dtype\":\"float64\",\"shape\":[10]}}},\"id\":\"bdfc6472-f867-46f6-835b-a2a497406f94\",\"type\":\"ColumnDataSource\"},{\"attributes\":{\"plot\":null,\"text\":\"\"},\"id\":\"bcfdb26f-9b3b-4105-a57b-ce4f22552786\",\"type\":\"Title\"},{\"attributes\":{\"axis_label\":\"membrane resistance\",\"formatter\":{\"id\":\"60be74d3-0186-4a1e-bc08-9b5f8694a375\",\"type\":\"BasicTickFormatter\"},\"plot\":{\"id\":\"46d1bca7-40da-4802-b686-fec065a4a20c\",\"subtype\":\"Figure\",\"type\":\"Plot\"},\"ticker\":{\"id\":\"40faf161-4753-4eb2-b810-db89edf0ff88\",\"type\":\"BasicTicker\"}},\"id\":\"23125b94-894a-4997-bc40-691d59545a68\",\"type\":\"LinearAxis\"},{\"attributes\":{},\"id\":\"40faf161-4753-4eb2-b810-db89edf0ff88\",\"type\":\"BasicTicker\"},{\"attributes\":{\"axis_label\":\"rho\",\"formatter\":{\"id\":\"8e9a6516-e29e-487c-9546-98e00fe15885\",\"type\":\"BasicTickFormatter\"},\"plot\":{\"id\":\"46d1bca7-40da-4802-b686-fec065a4a20c\",\"subtype\":\"Figure\",\"type\":\"Plot\"},\"ticker\":{\"id\":\"987e6d12-b509-4ee7-bc65-73ff824caae0\",\"type\":\"BasicTicker\"}},\"id\":\"05dd75b2-807c-4ce6-9707-917f11f92019\",\"type\":\"LinearAxis\"},{\"attributes\":{},\"id\":\"987e6d12-b509-4ee7-bc65-73ff824caae0\",\"type\":\"BasicTicker\"},{\"attributes\":{\"below\":[{\"id\":\"23125b94-894a-4997-bc40-691d59545a68\",\"type\":\"LinearAxis\"}],\"left\":[{\"id\":\"05dd75b2-807c-4ce6-9707-917f11f92019\",\"type\":\"LinearAxis\"}],\"plot_height\":400,\"plot_width\":400,\"renderers\":[{\"id\":\"23125b94-894a-4997-bc40-691d59545a68\",\"type\":\"LinearAxis\"},{\"id\":\"15adc050-2c78-49da-9a51-3b9b67754637\",\"type\":\"Grid\"},{\"id\":\"05dd75b2-807c-4ce6-9707-917f11f92019\",\"type\":\"LinearAxis\"},{\"id\":\"a3033541-164b-421b-911e-fdb30a3765b0\",\"type\":\"Grid\"},{\"id\":\"34f2535b-e8b7-4e5e-848a-0a878c57af35\",\"type\":\"BoxAnnotation\"},{\"id\":\"61137263-be98-4178-b043-7295557286ab\",\"type\":\"GlyphRenderer\"}],\"title\":{\"id\":\"bcfdb26f-9b3b-4105-a57b-ce4f22552786\",\"type\":\"Title\"},\"toolbar\":{\"id\":\"3928839f-87a5-4bf1-a798-803bb7e77376\",\"type\":\"Toolbar\"},\"x_range\":{\"id\":\"a9ba658f-9a3f-4f93-a64e-2ef26a0775a3\",\"type\":\"DataRange1d\"},\"x_scale\":{\"id\":\"6b509b19-31e7-400f-870c-355e76d232a5\",\"type\":\"LinearScale\"},\"y_range\":{\"id\":\"180b169e-3dcb-4b15-be77-41b2ae9bab59\",\"type\":\"DataRange1d\"},\"y_scale\":{\"id\":\"7d6f1585-8796-4476-af4a-7bee372f5dd6\",\"type\":\"LinearScale\"}},\"id\":\"46d1bca7-40da-4802-b686-fec065a4a20c\",\"subtype\":\"Figure\",\"type\":\"Plot\"},{\"attributes\":{\"dimension\":1,\"plot\":{\"id\":\"46d1bca7-40da-4802-b686-fec065a4a20c\",\"subtype\":\"Figure\",\"type\":\"Plot\"},\"ticker\":{\"id\":\"987e6d12-b509-4ee7-bc65-73ff824caae0\",\"type\":\"BasicTicker\"}},\"id\":\"a3033541-164b-421b-911e-fdb30a3765b0\",\"type\":\"Grid\"},{\"attributes\":{\"line_color\":{\"value\":\"#1f77b4\"},\"x\":{\"field\":\"x\"},\"y\":{\"field\":\"y\"}},\"id\":\"8355c2cd-5408-4449-b912-9ff6ed96358c\",\"type\":\"Line\"},{\"attributes\":{\"data_source\":{\"id\":\"bdfc6472-f867-46f6-835b-a2a497406f94\",\"type\":\"ColumnDataSource\"},\"glyph\":{\"id\":\"8355c2cd-5408-4449-b912-9ff6ed96358c\",\"type\":\"Line\"},\"hover_glyph\":null,\"muted_glyph\":null,\"nonselection_glyph\":{\"id\":\"e7a4e25d-1c4a-4e1d-b4ab-b49c92bd252f\",\"type\":\"Line\"},\"selection_glyph\":null,\"view\":{\"id\":\"8801c3c6-320b-499c-8897-b30d715b16ea\",\"type\":\"CDSView\"}},\"id\":\"61137263-be98-4178-b043-7295557286ab\",\"type\":\"GlyphRenderer\"},{\"attributes\":{},\"id\":\"60be74d3-0186-4a1e-bc08-9b5f8694a375\",\"type\":\"BasicTickFormatter\"},{\"attributes\":{\"bottom_units\":\"screen\",\"fill_alpha\":{\"value\":0.5},\"fill_color\":{\"value\":\"lightgrey\"},\"left_units\":\"screen\",\"level\":\"overlay\",\"line_alpha\":{\"value\":1.0},\"line_color\":{\"value\":\"black\"},\"line_dash\":[4,4],\"line_width\":{\"value\":2},\"plot\":null,\"render_mode\":\"css\",\"right_units\":\"screen\",\"top_units\":\"screen\"},\"id\":\"34f2535b-e8b7-4e5e-848a-0a878c57af35\",\"type\":\"BoxAnnotation\"},{\"attributes\":{},\"id\":\"2770d0a3-ae77-4af5-93a8-cfb1eb172d3f\",\"type\":\"PanTool\"},{\"attributes\":{\"source\":{\"id\":\"bdfc6472-f867-46f6-835b-a2a497406f94\",\"type\":\"ColumnDataSource\"}},\"id\":\"8801c3c6-320b-499c-8897-b30d715b16ea\",\"type\":\"CDSView\"},{\"attributes\":{},\"id\":\"7f061510-dc2c-4d95-887b-922985ed1095\",\"type\":\"WheelZoomTool\"}],\"root_ids\":[\"46d1bca7-40da-4802-b686-fec065a4a20c\"]},\"title\":\"Bokeh Application\",\"version\":\"0.12.10\"}};\n",
       "    var render_items = [{\"docid\":\"19af9888-311f-46e6-b06f-f80740fc52f1\",\"elementid\":\"fcdba700-7442-4101-a469-e402ed1a2acb\",\"modelid\":\"46d1bca7-40da-4802-b686-fec065a4a20c\"}];\n",
       "\n",
       "    root.Bokeh.embed.embed_items(docs_json, render_items);\n",
       "  }\n",
       "\n",
       "  if (root.Bokeh !== undefined) {\n",
       "    embed_document(root);\n",
       "  } else {\n",
       "    var attempts = 0;\n",
       "    var timer = setInterval(function(root) {\n",
       "      if (root.Bokeh !== undefined) {\n",
       "        embed_document(root);\n",
       "        clearInterval(timer);\n",
       "      }\n",
       "      attempts++;\n",
       "      if (attempts > 100) {\n",
       "        console.log(\"Bokeh: ERROR: Unable to embed document because BokehJS library is missing\")\n",
       "        clearInterval(timer);\n",
       "      }\n",
       "    }, 10, root)\n",
       "  }\n",
       "})(window);"
      ],
      "application/vnd.bokehjs_exec.v0+json": ""
     },
     "metadata": {
      "application/vnd.bokehjs_exec.v0+json": {
       "id": "46d1bca7-40da-4802-b686-fec065a4a20c"
      }
     },
     "output_type": "display_data"
    }
   ],
   "source": [
    "# rho as a function of Rm\n",
    "Rms = np.logspace(2,5,num=10)\n",
    "RHO = np.zeros([Rms.size,])\n",
    "for i,Rm in enumerate(list(Rms)):\n",
    "    RHO[i] = get_rho(500,1,500,Rm,1,1)\n",
    "    \n",
    "R = bkp.figure(plot_height = 400,plot_width=400)\n",
    "R.line(Rms,RHO)\n",
    "R.xaxis.axis_label= \"membrane resistance\"\n",
    "R.yaxis.axis_label = \"rho\"\n",
    "bkp.show(R)"
   ]
  },
  {
   "cell_type": "code",
   "execution_count": 34,
   "metadata": {},
   "outputs": [
    {
     "data": {
      "text/html": [
       "\n",
       "<div class=\"bk-root\">\n",
       "    <div class=\"bk-plotdiv\" id=\"c1a50bd6-10e4-4e17-9a30-26eb25c064cd\"></div>\n",
       "</div>"
      ]
     },
     "metadata": {},
     "output_type": "display_data"
    },
    {
     "data": {
      "application/javascript": [
       "(function(root) {\n",
       "  function embed_document(root) {\n",
       "    var docs_json = {\"b900c470-7691-4a13-909f-25120f3de620\":{\"roots\":{\"references\":[{\"attributes\":{\"bottom_units\":\"screen\",\"fill_alpha\":{\"value\":0.5},\"fill_color\":{\"value\":\"lightgrey\"},\"left_units\":\"screen\",\"level\":\"overlay\",\"line_alpha\":{\"value\":1.0},\"line_color\":{\"value\":\"black\"},\"line_dash\":[4,4],\"line_width\":{\"value\":2},\"plot\":null,\"render_mode\":\"css\",\"right_units\":\"screen\",\"top_units\":\"screen\"},\"id\":\"c879d9fe-7821-4364-910d-16bd8b81779b\",\"type\":\"BoxAnnotation\"},{\"attributes\":{\"dimension\":1,\"plot\":{\"id\":\"5172e167-9a17-4be6-bc62-9b83b07128a1\",\"subtype\":\"Figure\",\"type\":\"Plot\"},\"ticker\":{\"id\":\"b64d107f-dbc2-4830-92d1-515098ead093\",\"type\":\"BasicTicker\"}},\"id\":\"55b7b920-0d75-415c-9a2a-6f798591b9cf\",\"type\":\"Grid\"},{\"attributes\":{\"callback\":null,\"column_names\":[\"x\",\"y\"],\"data\":{\"x\":{\"__ndarray__\":\"exSuR+F6hD/sUbgehevxP9ejcD0K1wFAuB6F61G4CkDNzMzMzMwRQD4K16NwPRZArkfhehSuGkAfhetRuB4fQEjhehSuxyFAAAAAAAAAJEA=\",\"dtype\":\"float64\",\"shape\":[10]},\"y\":{\"__ndarray__\":\"0BYrwzciaEDQFivDNyJoQNAWK8M3ImhA0BYrwzciaECJApNOzYNnQELu+tli5WZA+9liZfhGZkC0xcrwjahlQCadmge5a2RA34gCk07NY0A=\",\"dtype\":\"float64\",\"shape\":[10]}}},\"id\":\"6cccfd0a-c554-4c1f-b4e0-c2ce5e22a3e7\",\"type\":\"ColumnDataSource\"},{\"attributes\":{\"line_alpha\":{\"value\":0.1},\"line_color\":{\"value\":\"#1f77b4\"},\"x\":{\"field\":\"x\"},\"y\":{\"field\":\"y\"}},\"id\":\"08dc5da8-b9dd-47f8-a623-68737eea04a2\",\"type\":\"Line\"},{\"attributes\":{},\"id\":\"d023d83c-f290-4300-97f2-bc5ec563eaf3\",\"type\":\"PanTool\"},{\"attributes\":{},\"id\":\"48403d32-64c1-4c02-8350-263d85f55daf\",\"type\":\"LinearScale\"},{\"attributes\":{},\"id\":\"a1fadf4f-f776-480f-8ba4-d0dddcf4b5bb\",\"type\":\"BasicTickFormatter\"},{\"attributes\":{},\"id\":\"96aec1ec-1f75-4c4e-879f-1a46ee0d4e32\",\"type\":\"LinearScale\"},{\"attributes\":{},\"id\":\"995b094c-6eba-4869-bf43-91cfe86076e9\",\"type\":\"WheelZoomTool\"},{\"attributes\":{\"overlay\":{\"id\":\"c879d9fe-7821-4364-910d-16bd8b81779b\",\"type\":\"BoxAnnotation\"}},\"id\":\"9da94143-8ac2-4862-b7c0-d01604f3963f\",\"type\":\"BoxZoomTool\"},{\"attributes\":{},\"id\":\"b64d107f-dbc2-4830-92d1-515098ead093\",\"type\":\"BasicTicker\"},{\"attributes\":{},\"id\":\"504aa751-594a-4752-adf8-934fdb458c28\",\"type\":\"SaveTool\"},{\"attributes\":{},\"id\":\"2c775d7b-2a61-420f-923a-27ba3eaf6dc3\",\"type\":\"ResetTool\"},{\"attributes\":{},\"id\":\"725ed366-25a1-4e1e-b86a-49672dc4531d\",\"type\":\"BasicTicker\"},{\"attributes\":{},\"id\":\"9b655846-5062-40b2-b6ca-ab976dc5065a\",\"type\":\"HelpTool\"},{\"attributes\":{\"source\":{\"id\":\"6cccfd0a-c554-4c1f-b4e0-c2ce5e22a3e7\",\"type\":\"ColumnDataSource\"}},\"id\":\"1759150b-6bc5-4ee8-84db-6b4cb15722fc\",\"type\":\"CDSView\"},{\"attributes\":{},\"id\":\"1531cb5c-cd64-4905-b036-d9945bb77700\",\"type\":\"BasicTickFormatter\"},{\"attributes\":{\"below\":[{\"id\":\"e91fec17-f686-48fb-a44f-f1a73294ddfe\",\"type\":\"LinearAxis\"}],\"left\":[{\"id\":\"7852971e-e9cd-46d6-b660-25bf5fbcd2ed\",\"type\":\"LinearAxis\"}],\"plot_height\":400,\"plot_width\":400,\"renderers\":[{\"id\":\"e91fec17-f686-48fb-a44f-f1a73294ddfe\",\"type\":\"LinearAxis\"},{\"id\":\"2c89464a-10cb-44a9-a02c-ba70d173b754\",\"type\":\"Grid\"},{\"id\":\"7852971e-e9cd-46d6-b660-25bf5fbcd2ed\",\"type\":\"LinearAxis\"},{\"id\":\"55b7b920-0d75-415c-9a2a-6f798591b9cf\",\"type\":\"Grid\"},{\"id\":\"c879d9fe-7821-4364-910d-16bd8b81779b\",\"type\":\"BoxAnnotation\"},{\"id\":\"04abf8dc-8615-4f7f-a622-360a8d0bc5f6\",\"type\":\"GlyphRenderer\"}],\"title\":{\"id\":\"683653bb-9c66-4d9f-b19c-f7d82d987a29\",\"type\":\"Title\"},\"toolbar\":{\"id\":\"5ea9d3da-8068-4fdb-95ee-fc41ed27ec7d\",\"type\":\"Toolbar\"},\"x_range\":{\"id\":\"d03a781e-d7a9-4914-8b9f-cc6adaea7735\",\"type\":\"DataRange1d\"},\"x_scale\":{\"id\":\"96aec1ec-1f75-4c4e-879f-1a46ee0d4e32\",\"type\":\"LinearScale\"},\"y_range\":{\"id\":\"ccbd1961-c493-497c-93ca-25c6f9982406\",\"type\":\"DataRange1d\"},\"y_scale\":{\"id\":\"48403d32-64c1-4c02-8350-263d85f55daf\",\"type\":\"LinearScale\"}},\"id\":\"5172e167-9a17-4be6-bc62-9b83b07128a1\",\"subtype\":\"Figure\",\"type\":\"Plot\"},{\"attributes\":{\"callback\":null},\"id\":\"ccbd1961-c493-497c-93ca-25c6f9982406\",\"type\":\"DataRange1d\"},{\"attributes\":{\"plot\":null,\"text\":\"\"},\"id\":\"683653bb-9c66-4d9f-b19c-f7d82d987a29\",\"type\":\"Title\"},{\"attributes\":{\"plot\":{\"id\":\"5172e167-9a17-4be6-bc62-9b83b07128a1\",\"subtype\":\"Figure\",\"type\":\"Plot\"},\"ticker\":{\"id\":\"725ed366-25a1-4e1e-b86a-49672dc4531d\",\"type\":\"BasicTicker\"}},\"id\":\"2c89464a-10cb-44a9-a02c-ba70d173b754\",\"type\":\"Grid\"},{\"attributes\":{\"data_source\":{\"id\":\"6cccfd0a-c554-4c1f-b4e0-c2ce5e22a3e7\",\"type\":\"ColumnDataSource\"},\"glyph\":{\"id\":\"93d2b13b-3eb1-4257-b285-8cd25e9732cb\",\"type\":\"Line\"},\"hover_glyph\":null,\"muted_glyph\":null,\"nonselection_glyph\":{\"id\":\"08dc5da8-b9dd-47f8-a623-68737eea04a2\",\"type\":\"Line\"},\"selection_glyph\":null,\"view\":{\"id\":\"1759150b-6bc5-4ee8-84db-6b4cb15722fc\",\"type\":\"CDSView\"}},\"id\":\"04abf8dc-8615-4f7f-a622-360a8d0bc5f6\",\"type\":\"GlyphRenderer\"},{\"attributes\":{\"callback\":null},\"id\":\"d03a781e-d7a9-4914-8b9f-cc6adaea7735\",\"type\":\"DataRange1d\"},{\"attributes\":{\"axis_label\":\"rho\",\"formatter\":{\"id\":\"1531cb5c-cd64-4905-b036-d9945bb77700\",\"type\":\"BasicTickFormatter\"},\"plot\":{\"id\":\"5172e167-9a17-4be6-bc62-9b83b07128a1\",\"subtype\":\"Figure\",\"type\":\"Plot\"},\"ticker\":{\"id\":\"b64d107f-dbc2-4830-92d1-515098ead093\",\"type\":\"BasicTicker\"}},\"id\":\"7852971e-e9cd-46d6-b660-25bf5fbcd2ed\",\"type\":\"LinearAxis\"},{\"attributes\":{\"active_drag\":\"auto\",\"active_inspect\":\"auto\",\"active_scroll\":\"auto\",\"active_tap\":\"auto\",\"tools\":[{\"id\":\"d023d83c-f290-4300-97f2-bc5ec563eaf3\",\"type\":\"PanTool\"},{\"id\":\"995b094c-6eba-4869-bf43-91cfe86076e9\",\"type\":\"WheelZoomTool\"},{\"id\":\"9da94143-8ac2-4862-b7c0-d01604f3963f\",\"type\":\"BoxZoomTool\"},{\"id\":\"504aa751-594a-4752-adf8-934fdb458c28\",\"type\":\"SaveTool\"},{\"id\":\"2c775d7b-2a61-420f-923a-27ba3eaf6dc3\",\"type\":\"ResetTool\"},{\"id\":\"9b655846-5062-40b2-b6ca-ab976dc5065a\",\"type\":\"HelpTool\"}]},\"id\":\"5ea9d3da-8068-4fdb-95ee-fc41ed27ec7d\",\"type\":\"Toolbar\"},{\"attributes\":{\"axis_label\":\"Cm\",\"formatter\":{\"id\":\"a1fadf4f-f776-480f-8ba4-d0dddcf4b5bb\",\"type\":\"BasicTickFormatter\"},\"plot\":{\"id\":\"5172e167-9a17-4be6-bc62-9b83b07128a1\",\"subtype\":\"Figure\",\"type\":\"Plot\"},\"ticker\":{\"id\":\"725ed366-25a1-4e1e-b86a-49672dc4531d\",\"type\":\"BasicTicker\"}},\"id\":\"e91fec17-f686-48fb-a44f-f1a73294ddfe\",\"type\":\"LinearAxis\"},{\"attributes\":{\"line_color\":{\"value\":\"#1f77b4\"},\"x\":{\"field\":\"x\"},\"y\":{\"field\":\"y\"}},\"id\":\"93d2b13b-3eb1-4257-b285-8cd25e9732cb\",\"type\":\"Line\"}],\"root_ids\":[\"5172e167-9a17-4be6-bc62-9b83b07128a1\"]},\"title\":\"Bokeh Application\",\"version\":\"0.12.10\"}};\n",
       "    var render_items = [{\"docid\":\"b900c470-7691-4a13-909f-25120f3de620\",\"elementid\":\"c1a50bd6-10e4-4e17-9a30-26eb25c064cd\",\"modelid\":\"5172e167-9a17-4be6-bc62-9b83b07128a1\"}];\n",
       "\n",
       "    root.Bokeh.embed.embed_items(docs_json, render_items);\n",
       "  }\n",
       "\n",
       "  if (root.Bokeh !== undefined) {\n",
       "    embed_document(root);\n",
       "  } else {\n",
       "    var attempts = 0;\n",
       "    var timer = setInterval(function(root) {\n",
       "      if (root.Bokeh !== undefined) {\n",
       "        embed_document(root);\n",
       "        clearInterval(timer);\n",
       "      }\n",
       "      attempts++;\n",
       "      if (attempts > 100) {\n",
       "        console.log(\"Bokeh: ERROR: Unable to embed document because BokehJS library is missing\")\n",
       "        clearInterval(timer);\n",
       "      }\n",
       "    }, 10, root)\n",
       "  }\n",
       "})(window);"
      ],
      "application/vnd.bokehjs_exec.v0+json": ""
     },
     "metadata": {
      "application/vnd.bokehjs_exec.v0+json": {
       "id": "5172e167-9a17-4be6-bc62-9b83b07128a1"
      }
     },
     "output_type": "display_data"
    }
   ],
   "source": [
    "# rho as a function of cm\n",
    "cms = np.linspace(.01,10,num=10)\n",
    "RHO = np.zeros([cms.size,])\n",
    "for i,cm in enumerate(list(cms)):\n",
    "    RHO[i] = get_rho(500,5,300,2800,cm,1)\n",
    "    \n",
    "R = bkp.figure(plot_height = 400,plot_width=400)\n",
    "R.line(cms,RHO)\n",
    "R.xaxis.axis_label= \"Cm\"\n",
    "R.yaxis.axis_label = \"rho\"\n",
    "bkp.show(R)"
   ]
  },
  {
   "cell_type": "code",
   "execution_count": 15,
   "metadata": {},
   "outputs": [
    {
     "data": {
      "text/html": [
       "\n",
       "<div class=\"bk-root\">\n",
       "    <div class=\"bk-plotdiv\" id=\"5f494bd5-d475-4997-a68c-13963f0638a6\"></div>\n",
       "</div>"
      ]
     },
     "metadata": {},
     "output_type": "display_data"
    },
    {
     "data": {
      "application/javascript": [
       "(function(root) {\n",
       "  function embed_document(root) {\n",
       "    var docs_json = {\"f2c0a6ee-e0a1-4339-b1c5-46d0e0427221\":{\"roots\":{\"references\":[{\"attributes\":{},\"id\":\"72a033ab-d7eb-4418-8a7f-bb8336f15055\",\"type\":\"PanTool\"},{\"attributes\":{\"source\":{\"id\":\"36ad5f60-742e-4042-8253-65c0a70998e1\",\"type\":\"ColumnDataSource\"}},\"id\":\"1c253e27-17b8-4348-b0b7-ea8e9f9a6fec\",\"type\":\"CDSView\"},{\"attributes\":{\"data_source\":{\"id\":\"36ad5f60-742e-4042-8253-65c0a70998e1\",\"type\":\"ColumnDataSource\"},\"glyph\":{\"id\":\"db7388bc-8e08-4944-90ea-d109117f84c0\",\"type\":\"Line\"},\"hover_glyph\":null,\"muted_glyph\":null,\"nonselection_glyph\":{\"id\":\"96e59729-c505-4443-abff-5ae3491d159a\",\"type\":\"Line\"},\"selection_glyph\":null,\"view\":{\"id\":\"1c253e27-17b8-4348-b0b7-ea8e9f9a6fec\",\"type\":\"CDSView\"}},\"id\":\"cefa53e4-c88e-4b1a-bb2a-732a476b4e9d\",\"type\":\"GlyphRenderer\"},{\"attributes\":{},\"id\":\"65a777ca-7136-4164-bf4d-fb5650005be5\",\"type\":\"WheelZoomTool\"},{\"attributes\":{\"active_drag\":\"auto\",\"active_inspect\":\"auto\",\"active_scroll\":\"auto\",\"active_tap\":\"auto\",\"tools\":[{\"id\":\"72a033ab-d7eb-4418-8a7f-bb8336f15055\",\"type\":\"PanTool\"},{\"id\":\"65a777ca-7136-4164-bf4d-fb5650005be5\",\"type\":\"WheelZoomTool\"},{\"id\":\"c9d65dad-df2d-458f-899b-6267fafda109\",\"type\":\"BoxZoomTool\"},{\"id\":\"631f6b8c-cdf3-4d21-bcf0-8081db0832b7\",\"type\":\"SaveTool\"},{\"id\":\"3b3faef5-ad1f-4a55-9d7f-172e57fa5c2e\",\"type\":\"ResetTool\"},{\"id\":\"55208945-ce81-4b04-962c-60778cc51731\",\"type\":\"HelpTool\"}]},\"id\":\"c5441397-eb0e-4cac-8153-36f0987b9466\",\"type\":\"Toolbar\"},{\"attributes\":{\"line_color\":{\"value\":\"#1f77b4\"},\"x\":{\"field\":\"x\"},\"y\":{\"field\":\"y\"}},\"id\":\"db7388bc-8e08-4944-90ea-d109117f84c0\",\"type\":\"Line\"},{\"attributes\":{\"overlay\":{\"id\":\"ac1b35bb-dd10-491c-8a2d-3986729c98e9\",\"type\":\"BoxAnnotation\"}},\"id\":\"c9d65dad-df2d-458f-899b-6267fafda109\",\"type\":\"BoxZoomTool\"},{\"attributes\":{\"callback\":null},\"id\":\"4bb2982d-2773-402d-87ec-d202b4c01a76\",\"type\":\"DataRange1d\"},{\"attributes\":{},\"id\":\"631f6b8c-cdf3-4d21-bcf0-8081db0832b7\",\"type\":\"SaveTool\"},{\"attributes\":{},\"id\":\"2f131be8-ce4f-4566-8037-d2be08aceae5\",\"type\":\"BasicTickFormatter\"},{\"attributes\":{},\"id\":\"3b3faef5-ad1f-4a55-9d7f-172e57fa5c2e\",\"type\":\"ResetTool\"},{\"attributes\":{\"callback\":null},\"id\":\"f005520e-93b9-4a68-b601-c7699b138919\",\"type\":\"DataRange1d\"},{\"attributes\":{},\"id\":\"55208945-ce81-4b04-962c-60778cc51731\",\"type\":\"HelpTool\"},{\"attributes\":{},\"id\":\"12b2ce8e-55e3-4034-8719-8bbdcdf78e50\",\"type\":\"LinearScale\"},{\"attributes\":{},\"id\":\"f0ae9e2e-9ba4-40a2-8d79-c6527e916ed3\",\"type\":\"BasicTickFormatter\"},{\"attributes\":{},\"id\":\"266f2c5e-5959-4c9d-823e-a8f917a9bb80\",\"type\":\"LinearScale\"},{\"attributes\":{\"plot\":{\"id\":\"a9b8fa91-78b7-4c01-9487-af6e1a3f3e13\",\"subtype\":\"Figure\",\"type\":\"Plot\"},\"ticker\":{\"id\":\"bffd96b0-e5f9-4bd4-8caa-c7fda6cb5176\",\"type\":\"BasicTicker\"}},\"id\":\"30f47daf-2b28-4762-b609-98f31b88f15f\",\"type\":\"Grid\"},{\"attributes\":{\"plot\":null,\"text\":\"\"},\"id\":\"1e360e07-4e78-4ea8-92e1-8efbcb74bd5f\",\"type\":\"Title\"},{\"attributes\":{\"axis_label\":\"axial resistance\",\"formatter\":{\"id\":\"2f131be8-ce4f-4566-8037-d2be08aceae5\",\"type\":\"BasicTickFormatter\"},\"plot\":{\"id\":\"a9b8fa91-78b7-4c01-9487-af6e1a3f3e13\",\"subtype\":\"Figure\",\"type\":\"Plot\"},\"ticker\":{\"id\":\"bffd96b0-e5f9-4bd4-8caa-c7fda6cb5176\",\"type\":\"BasicTicker\"}},\"id\":\"4ae07163-cfce-40ed-a0bb-c43ea07fbdfa\",\"type\":\"LinearAxis\"},{\"attributes\":{},\"id\":\"bffd96b0-e5f9-4bd4-8caa-c7fda6cb5176\",\"type\":\"BasicTicker\"},{\"attributes\":{\"callback\":null,\"column_names\":[\"x\",\"y\"],\"data\":{\"x\":{\"__ndarray__\":\"AAAAAAAAJEDHcRzHcRxQQI7jOI7juF1AqqqqqqqqZUCO4ziO43hsQDmO4ziOo3FAqqqqqqoKdUAcx3Ecx3F4QI7jOI7j2HtAAAAAAABAf0A=\",\"dtype\":\"float64\",\"shape\":[10]},\"y\":{\"__ndarray__\":\"34gCk07NE0DfiAKTTs0jQE7Ng9z1sy1ATs2D3PWzLUBOzYPc9bMtQN+IApNOzTNA34gCk07NM0DfiAKTTs0zQBcrwzeiwDhAFyvDN6LAOEA=\",\"dtype\":\"float64\",\"shape\":[10]}}},\"id\":\"36ad5f60-742e-4042-8253-65c0a70998e1\",\"type\":\"ColumnDataSource\"},{\"attributes\":{\"axis_label\":\"rho\",\"formatter\":{\"id\":\"f0ae9e2e-9ba4-40a2-8d79-c6527e916ed3\",\"type\":\"BasicTickFormatter\"},\"plot\":{\"id\":\"a9b8fa91-78b7-4c01-9487-af6e1a3f3e13\",\"subtype\":\"Figure\",\"type\":\"Plot\"},\"ticker\":{\"id\":\"243d44ec-0c31-43e3-b43d-bd6c8aea8a85\",\"type\":\"BasicTicker\"}},\"id\":\"53848e66-8c57-4f2c-acb5-da0255284c3c\",\"type\":\"LinearAxis\"},{\"attributes\":{},\"id\":\"243d44ec-0c31-43e3-b43d-bd6c8aea8a85\",\"type\":\"BasicTicker\"},{\"attributes\":{\"below\":[{\"id\":\"4ae07163-cfce-40ed-a0bb-c43ea07fbdfa\",\"type\":\"LinearAxis\"}],\"left\":[{\"id\":\"53848e66-8c57-4f2c-acb5-da0255284c3c\",\"type\":\"LinearAxis\"}],\"plot_height\":400,\"plot_width\":400,\"renderers\":[{\"id\":\"4ae07163-cfce-40ed-a0bb-c43ea07fbdfa\",\"type\":\"LinearAxis\"},{\"id\":\"30f47daf-2b28-4762-b609-98f31b88f15f\",\"type\":\"Grid\"},{\"id\":\"53848e66-8c57-4f2c-acb5-da0255284c3c\",\"type\":\"LinearAxis\"},{\"id\":\"258a2719-d352-4cfc-90b9-1edd060f0a73\",\"type\":\"Grid\"},{\"id\":\"ac1b35bb-dd10-491c-8a2d-3986729c98e9\",\"type\":\"BoxAnnotation\"},{\"id\":\"cefa53e4-c88e-4b1a-bb2a-732a476b4e9d\",\"type\":\"GlyphRenderer\"}],\"title\":{\"id\":\"1e360e07-4e78-4ea8-92e1-8efbcb74bd5f\",\"type\":\"Title\"},\"toolbar\":{\"id\":\"c5441397-eb0e-4cac-8153-36f0987b9466\",\"type\":\"Toolbar\"},\"x_range\":{\"id\":\"4bb2982d-2773-402d-87ec-d202b4c01a76\",\"type\":\"DataRange1d\"},\"x_scale\":{\"id\":\"12b2ce8e-55e3-4034-8719-8bbdcdf78e50\",\"type\":\"LinearScale\"},\"y_range\":{\"id\":\"f005520e-93b9-4a68-b601-c7699b138919\",\"type\":\"DataRange1d\"},\"y_scale\":{\"id\":\"266f2c5e-5959-4c9d-823e-a8f917a9bb80\",\"type\":\"LinearScale\"}},\"id\":\"a9b8fa91-78b7-4c01-9487-af6e1a3f3e13\",\"subtype\":\"Figure\",\"type\":\"Plot\"},{\"attributes\":{\"dimension\":1,\"plot\":{\"id\":\"a9b8fa91-78b7-4c01-9487-af6e1a3f3e13\",\"subtype\":\"Figure\",\"type\":\"Plot\"},\"ticker\":{\"id\":\"243d44ec-0c31-43e3-b43d-bd6c8aea8a85\",\"type\":\"BasicTicker\"}},\"id\":\"258a2719-d352-4cfc-90b9-1edd060f0a73\",\"type\":\"Grid\"},{\"attributes\":{\"line_alpha\":{\"value\":0.1},\"line_color\":{\"value\":\"#1f77b4\"},\"x\":{\"field\":\"x\"},\"y\":{\"field\":\"y\"}},\"id\":\"96e59729-c505-4443-abff-5ae3491d159a\",\"type\":\"Line\"},{\"attributes\":{\"bottom_units\":\"screen\",\"fill_alpha\":{\"value\":0.5},\"fill_color\":{\"value\":\"lightgrey\"},\"left_units\":\"screen\",\"level\":\"overlay\",\"line_alpha\":{\"value\":1.0},\"line_color\":{\"value\":\"black\"},\"line_dash\":[4,4],\"line_width\":{\"value\":2},\"plot\":null,\"render_mode\":\"css\",\"right_units\":\"screen\",\"top_units\":\"screen\"},\"id\":\"ac1b35bb-dd10-491c-8a2d-3986729c98e9\",\"type\":\"BoxAnnotation\"}],\"root_ids\":[\"a9b8fa91-78b7-4c01-9487-af6e1a3f3e13\"]},\"title\":\"Bokeh Application\",\"version\":\"0.12.10\"}};\n",
       "    var render_items = [{\"docid\":\"f2c0a6ee-e0a1-4339-b1c5-46d0e0427221\",\"elementid\":\"5f494bd5-d475-4997-a68c-13963f0638a6\",\"modelid\":\"a9b8fa91-78b7-4c01-9487-af6e1a3f3e13\"}];\n",
       "\n",
       "    root.Bokeh.embed.embed_items(docs_json, render_items);\n",
       "  }\n",
       "\n",
       "  if (root.Bokeh !== undefined) {\n",
       "    embed_document(root);\n",
       "  } else {\n",
       "    var attempts = 0;\n",
       "    var timer = setInterval(function(root) {\n",
       "      if (root.Bokeh !== undefined) {\n",
       "        embed_document(root);\n",
       "        clearInterval(timer);\n",
       "      }\n",
       "      attempts++;\n",
       "      if (attempts > 100) {\n",
       "        console.log(\"Bokeh: ERROR: Unable to embed document because BokehJS library is missing\")\n",
       "        clearInterval(timer);\n",
       "      }\n",
       "    }, 10, root)\n",
       "  }\n",
       "})(window);"
      ],
      "application/vnd.bokehjs_exec.v0+json": ""
     },
     "metadata": {
      "application/vnd.bokehjs_exec.v0+json": {
       "id": "a9b8fa91-78b7-4c01-9487-af6e1a3f3e13"
      }
     },
     "output_type": "display_data"
    }
   ],
   "source": [
    "# rho as function of Ra\n",
    "Ras = np.linspace(300,1000,num=10)\n",
    "RHO = np.zeros([Ras.size,])\n",
    "for i,Ra in enumerate(list(Ras)):\n",
    "    RHO[i] = get_rho(500,5,Ra,2800,1,1)\n",
    "    \n",
    "R = bkp.figure(plot_height = 400,plot_width=400)\n",
    "R.line(Ras,RHO)\n",
    "R.xaxis.axis_label= \"axial resistance\"\n",
    "R.yaxis.axis_label = \"rho\"\n",
    "bkp.show(R)"
   ]
  },
  {
   "cell_type": "code",
   "execution_count": 19,
   "metadata": {},
   "outputs": [
    {
     "name": "stderr",
     "output_type": "stream",
     "text": [
      "/anaconda3/lib/python3.6/site-packages/ipykernel_launcher.py:2: RuntimeWarning: divide by zero encountered in true_divide\n",
      "  \n"
     ]
    },
    {
     "data": {
      "text/plain": [
       "[<matplotlib.lines.Line2D at 0x10fb56080>]"
      ]
     },
     "execution_count": 19,
     "metadata": {},
     "output_type": "execute_result"
    },
    {
     "data": {
      "image/png": "[encoded data removed]",
      "text/plain": [
       "<matplotlib.figure.Figure at 0x10a1330b8>"
      ]
     },
     "metadata": {},
     "output_type": "display_data"
    }
   ],
   "source": [
    "a = np.linspace(0,500)\n",
    "plt.plot(a,1./a**.5)"
   ]
  },
  {
   "cell_type": "code",
   "execution_count": null,
   "metadata": {
    "collapsed": true
   },
   "outputs": [],
   "source": []
  }
 ],
 "metadata": {
  "kernelspec": {
   "display_name": "Python 3",
   "language": "python",
   "name": "python3"
  },
  "language_info": {
   "codemirror_mode": {
    "name": "ipython",
    "version": 3
   },
   "file_extension": ".py",
   "mimetype": "text/x-python",
   "name": "python",
   "nbconvert_exporter": "python",
   "pygments_lexer": "ipython3",
   "version": "3.6.3"
  }
 },
 "nbformat": 4,
 "nbformat_minor": 2
}
