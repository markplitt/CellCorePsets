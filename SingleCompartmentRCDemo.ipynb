{
 "cells": [
  {
   "cell_type": "code",
   "execution_count": 4,
   "metadata": {},
   "outputs": [
    {
     "data": {
      "text/html": [
       "\n",
       "    <div class=\"bk-root\">\n",
       "        <a href=\"https://bokeh.pydata.org\" target=\"_blank\" class=\"bk-logo bk-logo-small bk-logo-notebook\"></a>\n",
       "        <span id=\"54b08754-e643-4f90-a098-4f6e0b9b3b0e\">Loading BokehJS ...</span>\n",
       "    </div>"
      ]
     },
     "metadata": {},
     "output_type": "display_data"
    },
    {
     "data": {
      "application/javascript": [
       "\n",
       "(function(root) {\n",
       "  function now() {\n",
       "    return new Date();\n",
       "  }\n",
       "\n",
       "  var force = true;\n",
       "\n",
       "  if (typeof (root._bokeh_onload_callbacks) === \"undefined\" || force === true) {\n",
       "    root._bokeh_onload_callbacks = [];\n",
       "    root._bokeh_is_loading = undefined;\n",
       "  }\n",
       "\n",
       "  var JS_MIME_TYPE = 'application/javascript';\n",
       "  var HTML_MIME_TYPE = 'text/html';\n",
       "  var EXEC_MIME_TYPE = 'application/vnd.bokehjs_exec.v0+json';\n",
       "  var CLASS_NAME = 'output_bokeh rendered_html';\n",
       "\n",
       "  /**\n",
       "   * Render data to the DOM node\n",
       "   */\n",
       "  function render(props, node) {\n",
       "    var script = document.createElement(\"script\");\n",
       "    node.appendChild(script);\n",
       "  }\n",
       "\n",
       "  /**\n",
       "   * Handle when an output is cleared or removed\n",
       "   */\n",
       "  function handleClearOutput(event, handle) {\n",
       "    var cell = handle.cell;\n",
       "\n",
       "    var id = cell.output_area._bokeh_element_id;\n",
       "    var server_id = cell.output_area._bokeh_server_id;\n",
       "    // Clean up Bokeh references\n",
       "    if (id !== undefined) {\n",
       "      Bokeh.index[id].model.document.clear();\n",
       "      delete Bokeh.index[id];\n",
       "    }\n",
       "\n",
       "    if (server_id !== undefined) {\n",
       "      // Clean up Bokeh references\n",
       "      var cmd = \"from bokeh.io.state import curstate; print(curstate().uuid_to_server['\" + server_id + \"'].get_sessions()[0].document.roots[0]._id)\";\n",
       "      cell.notebook.kernel.execute(cmd, {\n",
       "        iopub: {\n",
       "          output: function(msg) {\n",
       "            var element_id = msg.content.text.trim();\n",
       "            Bokeh.index[element_id].model.document.clear();\n",
       "            delete Bokeh.index[element_id];\n",
       "          }\n",
       "        }\n",
       "      });\n",
       "      // Destroy server and session\n",
       "      var cmd = \"import bokeh.io.notebook as ion; ion.destroy_server('\" + server_id + \"')\";\n",
       "      cell.notebook.kernel.execute(cmd);\n",
       "    }\n",
       "  }\n",
       "\n",
       "  /**\n",
       "   * Handle when a new output is added\n",
       "   */\n",
       "  function handleAddOutput(event, handle) {\n",
       "    var output_area = handle.output_area;\n",
       "    var output = handle.output;\n",
       "\n",
       "    // limit handleAddOutput to display_data with EXEC_MIME_TYPE content only\n",
       "    if ((output.output_type != \"display_data\") || (!output.data.hasOwnProperty(EXEC_MIME_TYPE))) {\n",
       "      return\n",
       "    }\n",
       "\n",
       "    var toinsert = output_area.element.find(`.${CLASS_NAME.split(' ')[0]}`);\n",
       "\n",
       "    if (output.metadata[EXEC_MIME_TYPE][\"id\"] !== undefined) {\n",
       "      toinsert[0].firstChild.textContent = output.data[JS_MIME_TYPE];\n",
       "      // store reference to embed id on output_area\n",
       "      output_area._bokeh_element_id = output.metadata[EXEC_MIME_TYPE][\"id\"];\n",
       "    }\n",
       "    if (output.metadata[EXEC_MIME_TYPE][\"server_id\"] !== undefined) {\n",
       "      var bk_div = document.createElement(\"div\");\n",
       "      bk_div.innerHTML = output.data[HTML_MIME_TYPE];\n",
       "      var script_attrs = bk_div.children[0].attributes;\n",
       "      for (var i = 0; i < script_attrs.length; i++) {\n",
       "        toinsert[0].firstChild.setAttribute(script_attrs[i].name, script_attrs[i].value);\n",
       "      }\n",
       "      // store reference to server id on output_area\n",
       "      output_area._bokeh_server_id = output.metadata[EXEC_MIME_TYPE][\"server_id\"];\n",
       "    }\n",
       "  }\n",
       "\n",
       "  function register_renderer(events, OutputArea) {\n",
       "\n",
       "    function append_mime(data, metadata, element) {\n",
       "      // create a DOM node to render to\n",
       "      var toinsert = this.create_output_subarea(\n",
       "        metadata,\n",
       "        CLASS_NAME,\n",
       "        EXEC_MIME_TYPE\n",
       "      );\n",
       "      this.keyboard_manager.register_events(toinsert);\n",
       "      // Render to node\n",
       "      var props = {data: data, metadata: metadata[EXEC_MIME_TYPE]};\n",
       "      render(props, toinsert[0]);\n",
       "      element.append(toinsert);\n",
       "      return toinsert\n",
       "    }\n",
       "\n",
       "    /* Handle when an output is cleared or removed */\n",
       "    events.on('clear_output.CodeCell', handleClearOutput);\n",
       "    events.on('delete.Cell', handleClearOutput);\n",
       "\n",
       "    /* Handle when a new output is added */\n",
       "    events.on('output_added.OutputArea', handleAddOutput);\n",
       "\n",
       "    /**\n",
       "     * Register the mime type and append_mime function with output_area\n",
       "     */\n",
       "    OutputArea.prototype.register_mime_type(EXEC_MIME_TYPE, append_mime, {\n",
       "      /* Is output safe? */\n",
       "      safe: true,\n",
       "      /* Index of renderer in `output_area.display_order` */\n",
       "      index: 0\n",
       "    });\n",
       "  }\n",
       "\n",
       "  // register the mime type if in Jupyter Notebook environment and previously unregistered\n",
       "  if (root.Jupyter !== undefined) {\n",
       "    var events = require('base/js/events');\n",
       "    var OutputArea = require('notebook/js/outputarea').OutputArea;\n",
       "\n",
       "    if (OutputArea.prototype.mime_types().indexOf(EXEC_MIME_TYPE) == -1) {\n",
       "      register_renderer(events, OutputArea);\n",
       "    }\n",
       "  }\n",
       "\n",
       "  \n",
       "  if (typeof (root._bokeh_timeout) === \"undefined\" || force === true) {\n",
       "    root._bokeh_timeout = Date.now() + 5000;\n",
       "    root._bokeh_failed_load = false;\n",
       "  }\n",
       "\n",
       "  var NB_LOAD_WARNING = {'data': {'text/html':\n",
       "     \"<div style='background-color: #fdd'>\\n\"+\n",
       "     \"<p>\\n\"+\n",
       "     \"BokehJS does not appear to have successfully loaded. If loading BokehJS from CDN, this \\n\"+\n",
       "     \"may be due to a slow or bad network connection. Possible fixes:\\n\"+\n",
       "     \"</p>\\n\"+\n",
       "     \"<ul>\\n\"+\n",
       "     \"<li>re-rerun `output_notebook()` to attempt to load from CDN again, or</li>\\n\"+\n",
       "     \"<li>use INLINE resources instead, as so:</li>\\n\"+\n",
       "     \"</ul>\\n\"+\n",
       "     \"<code>\\n\"+\n",
       "     \"from bokeh.resources import INLINE\\n\"+\n",
       "     \"output_notebook(resources=INLINE)\\n\"+\n",
       "     \"</code>\\n\"+\n",
       "     \"</div>\"}};\n",
       "\n",
       "  function display_loaded() {\n",
       "    var el = document.getElementById(\"54b08754-e643-4f90-a098-4f6e0b9b3b0e\");\n",
       "    if (el != null) {\n",
       "      el.textContent = \"BokehJS is loading...\";\n",
       "    }\n",
       "    if (root.Bokeh !== undefined) {\n",
       "      if (el != null) {\n",
       "        el.textContent = \"BokehJS \" + root.Bokeh.version + \" successfully loaded.\";\n",
       "      }\n",
       "    } else if (Date.now() < root._bokeh_timeout) {\n",
       "      setTimeout(display_loaded, 100)\n",
       "    }\n",
       "  }\n",
       "\n",
       "\n",
       "  function run_callbacks() {\n",
       "    try {\n",
       "      root._bokeh_onload_callbacks.forEach(function(callback) { callback() });\n",
       "    }\n",
       "    finally {\n",
       "      delete root._bokeh_onload_callbacks\n",
       "    }\n",
       "    console.info(\"Bokeh: all callbacks have finished\");\n",
       "  }\n",
       "\n",
       "  function load_libs(js_urls, callback) {\n",
       "    root._bokeh_onload_callbacks.push(callback);\n",
       "    if (root._bokeh_is_loading > 0) {\n",
       "      console.log(\"Bokeh: BokehJS is being loaded, scheduling callback at\", now());\n",
       "      return null;\n",
       "    }\n",
       "    if (js_urls == null || js_urls.length === 0) {\n",
       "      run_callbacks();\n",
       "      return null;\n",
       "    }\n",
       "    console.log(\"Bokeh: BokehJS not loaded, scheduling load and callback at\", now());\n",
       "    root._bokeh_is_loading = js_urls.length;\n",
       "    for (var i = 0; i < js_urls.length; i++) {\n",
       "      var url = js_urls[i];\n",
       "      var s = document.createElement('script');\n",
       "      s.src = url;\n",
       "      s.async = false;\n",
       "      s.onreadystatechange = s.onload = function() {\n",
       "        root._bokeh_is_loading--;\n",
       "        if (root._bokeh_is_loading === 0) {\n",
       "          console.log(\"Bokeh: all BokehJS libraries loaded\");\n",
       "          run_callbacks()\n",
       "        }\n",
       "      };\n",
       "      s.onerror = function() {\n",
       "        console.warn(\"failed to load library \" + url);\n",
       "      };\n",
       "      console.log(\"Bokeh: injecting script tag for BokehJS library: \", url);\n",
       "      document.getElementsByTagName(\"head\")[0].appendChild(s);\n",
       "    }\n",
       "  };var element = document.getElementById(\"54b08754-e643-4f90-a098-4f6e0b9b3b0e\");\n",
       "  if (element == null) {\n",
       "    console.log(\"Bokeh: ERROR: autoload.js configured with elementid '54b08754-e643-4f90-a098-4f6e0b9b3b0e' but no matching script tag was found. \")\n",
       "    return false;\n",
       "  }\n",
       "\n",
       "  var js_urls = [\"https://cdn.pydata.org/bokeh/release/bokeh-0.12.10.min.js\", \"https://cdn.pydata.org/bokeh/release/bokeh-widgets-0.12.10.min.js\", \"https://cdn.pydata.org/bokeh/release/bokeh-tables-0.12.10.min.js\", \"https://cdn.pydata.org/bokeh/release/bokeh-gl-0.12.10.min.js\"];\n",
       "\n",
       "  var inline_js = [\n",
       "    function(Bokeh) {\n",
       "      Bokeh.set_log_level(\"info\");\n",
       "    },\n",
       "    \n",
       "    function(Bokeh) {\n",
       "      \n",
       "    },\n",
       "    function(Bokeh) {\n",
       "      console.log(\"Bokeh: injecting CSS: https://cdn.pydata.org/bokeh/release/bokeh-0.12.10.min.css\");\n",
       "      Bokeh.embed.inject_css(\"https://cdn.pydata.org/bokeh/release/bokeh-0.12.10.min.css\");\n",
       "      console.log(\"Bokeh: injecting CSS: https://cdn.pydata.org/bokeh/release/bokeh-widgets-0.12.10.min.css\");\n",
       "      Bokeh.embed.inject_css(\"https://cdn.pydata.org/bokeh/release/bokeh-widgets-0.12.10.min.css\");\n",
       "      console.log(\"Bokeh: injecting CSS: https://cdn.pydata.org/bokeh/release/bokeh-tables-0.12.10.min.css\");\n",
       "      Bokeh.embed.inject_css(\"https://cdn.pydata.org/bokeh/release/bokeh-tables-0.12.10.min.css\");\n",
       "    }\n",
       "  ];\n",
       "\n",
       "  function run_inline_js() {\n",
       "    \n",
       "    if ((root.Bokeh !== undefined) || (force === true)) {\n",
       "      for (var i = 0; i < inline_js.length; i++) {\n",
       "        inline_js[i].call(root, root.Bokeh);\n",
       "      }if (force === true) {\n",
       "        display_loaded();\n",
       "      }} else if (Date.now() < root._bokeh_timeout) {\n",
       "      setTimeout(run_inline_js, 100);\n",
       "    } else if (!root._bokeh_failed_load) {\n",
       "      console.log(\"Bokeh: BokehJS failed to load within specified timeout.\");\n",
       "      root._bokeh_failed_load = true;\n",
       "    } else if (force !== true) {\n",
       "      var cell = $(document.getElementById(\"54b08754-e643-4f90-a098-4f6e0b9b3b0e\")).parents('.cell').data().cell;\n",
       "      cell.output_area.append_execute_result(NB_LOAD_WARNING)\n",
       "    }\n",
       "\n",
       "  }\n",
       "\n",
       "  if (root._bokeh_is_loading === 0) {\n",
       "    console.log(\"Bokeh: BokehJS loaded, going straight to plotting\");\n",
       "    run_inline_js();\n",
       "  } else {\n",
       "    load_libs(js_urls, function() {\n",
       "      console.log(\"Bokeh: BokehJS plotting callback run at\", now());\n",
       "      run_inline_js();\n",
       "    });\n",
       "  }\n",
       "}(window));"
      ],
      "application/vnd.bokehjs_load.v0+json": "\n(function(root) {\n  function now() {\n    return new Date();\n  }\n\n  var force = true;\n\n  if (typeof (root._bokeh_onload_callbacks) === \"undefined\" || force === true) {\n    root._bokeh_onload_callbacks = [];\n    root._bokeh_is_loading = undefined;\n  }\n\n  \n\n  \n  if (typeof (root._bokeh_timeout) === \"undefined\" || force === true) {\n    root._bokeh_timeout = Date.now() + 5000;\n    root._bokeh_failed_load = false;\n  }\n\n  var NB_LOAD_WARNING = {'data': {'text/html':\n     \"<div style='background-color: #fdd'>\\n\"+\n     \"<p>\\n\"+\n     \"BokehJS does not appear to have successfully loaded. If loading BokehJS from CDN, this \\n\"+\n     \"may be due to a slow or bad network connection. Possible fixes:\\n\"+\n     \"</p>\\n\"+\n     \"<ul>\\n\"+\n     \"<li>re-rerun `output_notebook()` to attempt to load from CDN again, or</li>\\n\"+\n     \"<li>use INLINE resources instead, as so:</li>\\n\"+\n     \"</ul>\\n\"+\n     \"<code>\\n\"+\n     \"from bokeh.resources import INLINE\\n\"+\n     \"output_notebook(resources=INLINE)\\n\"+\n     \"</code>\\n\"+\n     \"</div>\"}};\n\n  function display_loaded() {\n    var el = document.getElementById(\"54b08754-e643-4f90-a098-4f6e0b9b3b0e\");\n    if (el != null) {\n      el.textContent = \"BokehJS is loading...\";\n    }\n    if (root.Bokeh !== undefined) {\n      if (el != null) {\n        el.textContent = \"BokehJS \" + root.Bokeh.version + \" successfully loaded.\";\n      }\n    } else if (Date.now() < root._bokeh_timeout) {\n      setTimeout(display_loaded, 100)\n    }\n  }\n\n\n  function run_callbacks() {\n    try {\n      root._bokeh_onload_callbacks.forEach(function(callback) { callback() });\n    }\n    finally {\n      delete root._bokeh_onload_callbacks\n    }\n    console.info(\"Bokeh: all callbacks have finished\");\n  }\n\n  function load_libs(js_urls, callback) {\n    root._bokeh_onload_callbacks.push(callback);\n    if (root._bokeh_is_loading > 0) {\n      console.log(\"Bokeh: BokehJS is being loaded, scheduling callback at\", now());\n      return null;\n    }\n    if (js_urls == null || js_urls.length === 0) {\n      run_callbacks();\n      return null;\n    }\n    console.log(\"Bokeh: BokehJS not loaded, scheduling load and callback at\", now());\n    root._bokeh_is_loading = js_urls.length;\n    for (var i = 0; i < js_urls.length; i++) {\n      var url = js_urls[i];\n      var s = document.createElement('script');\n      s.src = url;\n      s.async = false;\n      s.onreadystatechange = s.onload = function() {\n        root._bokeh_is_loading--;\n        if (root._bokeh_is_loading === 0) {\n          console.log(\"Bokeh: all BokehJS libraries loaded\");\n          run_callbacks()\n        }\n      };\n      s.onerror = function() {\n        console.warn(\"failed to load library \" + url);\n      };\n      console.log(\"Bokeh: injecting script tag for BokehJS library: \", url);\n      document.getElementsByTagName(\"head\")[0].appendChild(s);\n    }\n  };var element = document.getElementById(\"54b08754-e643-4f90-a098-4f6e0b9b3b0e\");\n  if (element == null) {\n    console.log(\"Bokeh: ERROR: autoload.js configured with elementid '54b08754-e643-4f90-a098-4f6e0b9b3b0e' but no matching script tag was found. \")\n    return false;\n  }\n\n  var js_urls = [\"https://cdn.pydata.org/bokeh/release/bokeh-0.12.10.min.js\", \"https://cdn.pydata.org/bokeh/release/bokeh-widgets-0.12.10.min.js\", \"https://cdn.pydata.org/bokeh/release/bokeh-tables-0.12.10.min.js\", \"https://cdn.pydata.org/bokeh/release/bokeh-gl-0.12.10.min.js\"];\n\n  var inline_js = [\n    function(Bokeh) {\n      Bokeh.set_log_level(\"info\");\n    },\n    \n    function(Bokeh) {\n      \n    },\n    function(Bokeh) {\n      console.log(\"Bokeh: injecting CSS: https://cdn.pydata.org/bokeh/release/bokeh-0.12.10.min.css\");\n      Bokeh.embed.inject_css(\"https://cdn.pydata.org/bokeh/release/bokeh-0.12.10.min.css\");\n      console.log(\"Bokeh: injecting CSS: https://cdn.pydata.org/bokeh/release/bokeh-widgets-0.12.10.min.css\");\n      Bokeh.embed.inject_css(\"https://cdn.pydata.org/bokeh/release/bokeh-widgets-0.12.10.min.css\");\n      console.log(\"Bokeh: injecting CSS: https://cdn.pydata.org/bokeh/release/bokeh-tables-0.12.10.min.css\");\n      Bokeh.embed.inject_css(\"https://cdn.pydata.org/bokeh/release/bokeh-tables-0.12.10.min.css\");\n    }\n  ];\n\n  function run_inline_js() {\n    \n    if ((root.Bokeh !== undefined) || (force === true)) {\n      for (var i = 0; i < inline_js.length; i++) {\n        inline_js[i].call(root, root.Bokeh);\n      }if (force === true) {\n        display_loaded();\n      }} else if (Date.now() < root._bokeh_timeout) {\n      setTimeout(run_inline_js, 100);\n    } else if (!root._bokeh_failed_load) {\n      console.log(\"Bokeh: BokehJS failed to load within specified timeout.\");\n      root._bokeh_failed_load = true;\n    } else if (force !== true) {\n      var cell = $(document.getElementById(\"54b08754-e643-4f90-a098-4f6e0b9b3b0e\")).parents('.cell').data().cell;\n      cell.output_area.append_execute_result(NB_LOAD_WARNING)\n    }\n\n  }\n\n  if (root._bokeh_is_loading === 0) {\n    console.log(\"Bokeh: BokehJS loaded, going straight to plotting\");\n    run_inline_js();\n  } else {\n    load_libs(js_urls, function() {\n      console.log(\"Bokeh: BokehJS plotting callback run at\", now());\n      run_inline_js();\n    });\n  }\n}(window));"
     },
     "metadata": {},
     "output_type": "display_data"
    }
   ],
   "source": [
    "from neuron import h, gui\n",
    "import bokeh as bk\n",
    "import bokeh.plotting as bkp\n",
    "import numpy as np\n",
    "from bokeh.palettes import Dark2_5 as palette\n",
    "import itertools \n",
    "import ipywidgets as widgets\n",
    "from branched_cable import branched_cable, run_current_clamp\n",
    "\n",
    "colors = itertools.cycle(palette)  \n",
    "bkp.output_notebook()"
   ]
  },
  {
   "cell_type": "code",
   "execution_count": 5,
   "metadata": {
    "collapsed": true
   },
   "outputs": [],
   "source": [
    "def plot_single_compartment_IClamp(diam=10,Rm=2800,cm=1):\n",
    "    \n",
    "    #t, vArr, I = run_single_compartment_IClamp(diam,Rm,cm)\n",
    "    cell = branched_cable()\n",
    "    cell.make_cable(diam,diam,nseg = 1,Rm=Rm,cm=cm)\n",
    "    cell.add_IClamp('cable',.5,.001,25,delay = 20)\n",
    "    cell.recording_vecs([['cable',.5,'v']])\n",
    "\n",
    "    I = np.linspace(-.2,.2,num=7)\n",
    "    t, results = run_current_clamp(cell,'iclamp',I,tstop=80)\n",
    "    \n",
    "    vArr =  results['cable:0.50:v']\n",
    "    \n",
    "    RC= bkp.figure(plot_width=400,plot_height=400)\n",
    "    RC.xaxis.axis_label=\"time\"\n",
    "    RC.yaxis.axis_label=\"V (mV)\"\n",
    "    colors = itertools.cycle(palette)  \n",
    "    \n",
    "    \n",
    "    for i, color in zip(range(vArr.shape[1]),colors):\n",
    "        RC.line(t,vArr[:,i],color=color) #,legend=str(I[i]))\n",
    "    #RC.legend.location=\"top_right\"\n",
    "    \n",
    "    #find steady state voltage\n",
    "    VI = bkp.figure(plot_height=400,plot_width=400)\n",
    "    VI.xaxis.axis_label=\"I (mA)\"\n",
    "    VI.yaxis.axis_label=\"V (mV)\"\n",
    "    ss_ind = np.where(t>43)[0][0]\n",
    "    V_ss = vArr[ss_ind,:]\n",
    "    VI.line(I,V_ss)\n",
    "    \n",
    "    \n",
    "    # time constant\n",
    "    vArr = vArr +65\n",
    "    V_half = (V_ss+65.)/2.\n",
    "    tau = np.zeros([7,])\n",
    "    for col in range(I.size):\n",
    "        tau[col] = np.where(vArr[:,i]>V_half[i])[0][0]/t.size*80. -20\n",
    "        \n",
    "    T = bkp.figure(plot_height=400,plot_width=400)\n",
    "    T.xaxis.axis_label=\"I (mA)\"\n",
    "    T.yaxis.axis_label= \"tau V_1/2\"\n",
    "    T.line(I,tau)\n",
    "    \n",
    "    bkp.show(bk.layouts.layout([[RC,VI],[T]]))\n",
    "    \n",
    "             \n",
    "\n",
    "\n"
   ]
  },
  {
   "cell_type": "code",
   "execution_count": 6,
   "metadata": {},
   "outputs": [
    {
     "data": {
      "application/vnd.jupyter.widget-view+json": {
       "model_id": "47b56672a2824afda2ad7c366dece29b",
       "version_major": 2,
       "version_minor": 0
      },
      "text/plain": [
       "A Jupyter Widget"
      ]
     },
     "metadata": {},
     "output_type": "display_data"
    },
    {
     "data": {
      "text/plain": [
       "<function __main__.plot_single_compartment_IClamp>"
      ]
     },
     "execution_count": 6,
     "metadata": {},
     "output_type": "execute_result"
    }
   ],
   "source": [
    "widgets.interact_manual(plot_single_compartment_IClamp,\n",
    "                 diam=widgets.FloatSlider(min=.1,max=100,continuous_update=False),\n",
    "                 Rm=widgets.FloatSlider(min=100,max=5000,continuous_update=False),\n",
    "                 cm = widgets.FloatSlider(min=.1,max=10,continous_update=False))"
   ]
  },
  {
   "cell_type": "markdown",
   "metadata": {},
   "source": [
    "Insert JPeg of circuit diagram\n",
    "\n",
    "Insert Latex of current equation"
   ]
  },
  {
   "cell_type": "markdown",
   "metadata": {},
   "source": [
    "# Steady State Properties\n",
    "## V-I curve analysis"
   ]
  },
  {
   "cell_type": "code",
   "execution_count": 7,
   "metadata": {
    "collapsed": true
   },
   "outputs": [],
   "source": [
    "I = np.linspace(-.2,.2,num=7)\n",
    "def get_VI(diam,Rm,cm):\n",
    "    cell = branched_cable()  \n",
    "    cell.make_cable(diam,diam,nseg = 1,Rm=Rm,cm=cm)\n",
    "    cell.add_IClamp('cable',.5,.001,25,delay = 20)\n",
    "    cell.recording_vecs([['cable',.5,'v']])\n",
    "\n",
    "    t, results = run_current_clamp(cell,'iclamp',I,tstop=80)\n",
    "    \n",
    "    vArr =  results['cable:0.50:v']\n",
    "    ss_ind = np.where(t>43)[0][0]\n",
    "    V_ss = vArr[ss_ind,:]\n",
    "    \n",
    "    slope = np.diff(V_ss).mean()\n",
    "    return V_ss,slope"
   ]
  },
  {
   "cell_type": "code",
   "execution_count": 8,
   "metadata": {},
   "outputs": [
    {
     "data": {
      "text/html": [
       "\n",
       "<div class=\"bk-root\">\n",
       "    <div class=\"bk-plotdiv\" id=\"f658037f-9056-4bfd-b448-9f9ccdced275\"></div>\n",
       "</div>"
      ]
     },
     "metadata": {},
     "output_type": "display_data"
    },
    {
     "data": {
      "application/javascript": [
       "(function(root) {\n",
       "  function embed_document(root) {\n",
       "    var docs_json = {\"8f2e6ff2-ad54-4311-8743-ed6b54783395\":{\"roots\":{\"references\":[{\"attributes\":{},\"id\":\"29ff69df-f8f4-4311-a020-f9ccc6d83ac1\",\"type\":\"LinearScale\"},{\"attributes\":{\"callback\":null,\"column_names\":[\"x\",\"y\"],\"data\":{\"x\":{\"__ndarray__\":\"mpmZmZmZyb8SERERERHBvxIREREREbG/AAAAAAAAAAAQERERERGxPxAREREREcE/mpmZmZmZyT8=\",\"dtype\":\"float64\",\"shape\":[7]},\"y\":{\"__ndarray__\":\"UYnYS9JoU8A2BjvdNltSwBuDnW6bTVHAAAAAAABAUMDK+cQiyWROwJDziUWSSUzAXO1OaFsuSsA=\",\"dtype\":\"float64\",\"shape\":[7]}}},\"id\":\"93a4f0c2-cc78-45ca-b8f5-26d37b5b797f\",\"type\":\"ColumnDataSource\"},{\"attributes\":{\"data_source\":{\"id\":\"54cde420-fce8-497c-aa52-a59a735a31a0\",\"type\":\"ColumnDataSource\"},\"glyph\":{\"id\":\"e32a83a1-2c24-4185-be3e-ced2f03c54e1\",\"type\":\"Line\"},\"hover_glyph\":null,\"muted_glyph\":null,\"nonselection_glyph\":{\"id\":\"ae09f604-6732-487e-8281-76bc4fea4282\",\"type\":\"Line\"},\"selection_glyph\":null,\"view\":{\"id\":\"4f825498-611e-4ff9-b534-781e9dc5e614\",\"type\":\"CDSView\"}},\"id\":\"39f78f13-09b0-4f47-a3ad-cbd936f4b52a\",\"type\":\"GlyphRenderer\"},{\"attributes\":{\"line_alpha\":{\"value\":0.1},\"line_color\":{\"value\":\"#1f77b4\"},\"x\":{\"field\":\"x\"},\"y\":{\"field\":\"y\"}},\"id\":\"1b000d87-7fa8-4741-b5f0-927d7f390b96\",\"type\":\"Line\"},{\"attributes\":{\"children\":[{\"id\":\"d4eff5dc-29e2-4085-b9a4-9750b372dcb9\",\"type\":\"Row\"}]},\"id\":\"69c3b277-d2e2-402a-bd1e-fd9c6aa206d8\",\"type\":\"Column\"},{\"attributes\":{},\"id\":\"c6de0579-3b81-4ec2-be2c-ac55ae145a47\",\"type\":\"LinearScale\"},{\"attributes\":{},\"id\":\"e41a370a-987e-4579-adde-f78a39806173\",\"type\":\"BasicTicker\"},{\"attributes\":{\"source\":{\"id\":\"4dd3ff82-48b7-4568-9a2d-8e412a280145\",\"type\":\"ColumnDataSource\"}},\"id\":\"7fec00e7-fe5a-4133-9de0-b10356a952b3\",\"type\":\"CDSView\"},{\"attributes\":{\"data_source\":{\"id\":\"2b0bef3b-1803-4262-99a3-caf22a2c97ec\",\"type\":\"ColumnDataSource\"},\"glyph\":{\"id\":\"5cff8bd6-0615-4347-9882-fdb983f692a6\",\"type\":\"Line\"},\"hover_glyph\":null,\"muted_glyph\":null,\"nonselection_glyph\":{\"id\":\"afa9c624-74f6-48dc-aeef-6de5bf505ef5\",\"type\":\"Line\"},\"selection_glyph\":null,\"view\":{\"id\":\"793068d4-5f76-4f55-8aab-03e11f01a14e\",\"type\":\"CDSView\"}},\"id\":\"e92ee974-10be-4739-80ca-85fde1824ac9\",\"type\":\"GlyphRenderer\"},{\"attributes\":{\"source\":{\"id\":\"54cde420-fce8-497c-aa52-a59a735a31a0\",\"type\":\"ColumnDataSource\"}},\"id\":\"4f825498-611e-4ff9-b534-781e9dc5e614\",\"type\":\"CDSView\"},{\"attributes\":{\"line_alpha\":{\"value\":0.1},\"line_color\":{\"value\":\"#1f77b4\"},\"x\":{\"field\":\"x\"},\"y\":{\"field\":\"y\"}},\"id\":\"ae09f604-6732-487e-8281-76bc4fea4282\",\"type\":\"Line\"},{\"attributes\":{\"line_alpha\":{\"value\":0.1},\"line_color\":{\"value\":\"#1f77b4\"},\"x\":{\"field\":\"x\"},\"y\":{\"field\":\"y\"}},\"id\":\"d377c055-9259-4c8d-a018-aca6578be99f\",\"type\":\"Line\"},{\"attributes\":{\"axis_label\":\"mV\",\"formatter\":{\"id\":\"84571142-b410-4d4e-b45d-659d3a800401\",\"type\":\"BasicTickFormatter\"},\"plot\":{\"id\":\"f039ad7b-9d0d-44f8-8156-da2559ed0b0d\",\"subtype\":\"Figure\",\"type\":\"Plot\"},\"ticker\":{\"id\":\"c6c2c4ff-8f30-4aae-a3ca-4a7044c10386\",\"type\":\"BasicTicker\"}},\"id\":\"85bd5690-7533-4589-bf73-c4f9d8c90903\",\"type\":\"LinearAxis\"},{\"attributes\":{\"callback\":null},\"id\":\"50f435ab-0730-40a6-b13d-149c7dd1ec72\",\"type\":\"DataRange1d\"},{\"attributes\":{\"dimension\":1,\"plot\":{\"id\":\"f039ad7b-9d0d-44f8-8156-da2559ed0b0d\",\"subtype\":\"Figure\",\"type\":\"Plot\"},\"ticker\":{\"id\":\"c6c2c4ff-8f30-4aae-a3ca-4a7044c10386\",\"type\":\"BasicTicker\"}},\"id\":\"f75a4700-7428-4ec5-a5bf-bca25606cbbf\",\"type\":\"Grid\"},{\"attributes\":{},\"id\":\"7287aa89-a2f2-4860-84ed-fd5d5e4f9b92\",\"type\":\"LinearScale\"},{\"attributes\":{\"line_color\":{\"value\":\"#1b9e77\"},\"x\":{\"field\":\"x\"},\"y\":{\"field\":\"y\"}},\"id\":\"e32a83a1-2c24-4185-be3e-ced2f03c54e1\",\"type\":\"Line\"},{\"attributes\":{\"axis_label\":\"V-I slope\",\"formatter\":{\"id\":\"79d7c325-a217-4ad7-893c-75ac064b633d\",\"type\":\"BasicTickFormatter\"},\"plot\":{\"id\":\"89dc8f19-8128-4a5a-8a09-c10dcc36cf08\",\"subtype\":\"Figure\",\"type\":\"Plot\"},\"ticker\":{\"id\":\"a6ea3fe5-2233-4bfc-9e8f-f3e94ea3f8fa\",\"type\":\"BasicTicker\"}},\"id\":\"4c815687-b7f2-49ee-9ac2-b36308fd9d3a\",\"type\":\"LinearAxis\"},{\"attributes\":{},\"id\":\"c6c2c4ff-8f30-4aae-a3ca-4a7044c10386\",\"type\":\"BasicTicker\"},{\"attributes\":{\"callback\":null},\"id\":\"53f39a7c-b143-4542-8e38-52ea66655681\",\"type\":\"DataRange1d\"},{\"attributes\":{\"plot\":{\"id\":\"f039ad7b-9d0d-44f8-8156-da2559ed0b0d\",\"subtype\":\"Figure\",\"type\":\"Plot\"},\"ticker\":{\"id\":\"e41a370a-987e-4579-adde-f78a39806173\",\"type\":\"BasicTicker\"}},\"id\":\"039a5322-17e5-409d-afe4-3c6357cec9a7\",\"type\":\"Grid\"},{\"attributes\":{},\"id\":\"a6ea3fe5-2233-4bfc-9e8f-f3e94ea3f8fa\",\"type\":\"BasicTicker\"},{\"attributes\":{\"axis_label\":\"I (mA)\",\"formatter\":{\"id\":\"44b6d7a5-73fd-4d61-abba-2e40257a52c6\",\"type\":\"BasicTickFormatter\"},\"plot\":{\"id\":\"f039ad7b-9d0d-44f8-8156-da2559ed0b0d\",\"subtype\":\"Figure\",\"type\":\"Plot\"},\"ticker\":{\"id\":\"e41a370a-987e-4579-adde-f78a39806173\",\"type\":\"BasicTicker\"}},\"id\":\"8ea10946-852a-4ae4-a597-24b9371e3643\",\"type\":\"LinearAxis\"},{\"attributes\":{\"callback\":null},\"id\":\"105375db-a9ac-43d4-8970-0a7c7aa88ab6\",\"type\":\"DataRange1d\"},{\"attributes\":{\"callback\":null},\"id\":\"00536964-e85a-48bf-a3f5-7610cf7f31ab\",\"type\":\"DataRange1d\"},{\"attributes\":{\"line_color\":{\"value\":\"#1f77b4\"},\"x\":{\"field\":\"x\"},\"y\":{\"field\":\"y\"}},\"id\":\"5cff8bd6-0615-4347-9882-fdb983f692a6\",\"type\":\"Line\"},{\"attributes\":{},\"id\":\"46ba03fe-0198-4f94-858c-1bedbab6807b\",\"type\":\"LinearScale\"},{\"attributes\":{\"plot\":{\"id\":\"89dc8f19-8128-4a5a-8a09-c10dcc36cf08\",\"subtype\":\"Figure\",\"type\":\"Plot\"},\"ticker\":{\"id\":\"787c89cc-358c-4050-8aa8-354959635963\",\"type\":\"BasicTicker\"}},\"id\":\"d57d1cb7-07d0-4189-b79f-2ba4155cd3bc\",\"type\":\"Grid\"},{\"attributes\":{\"bottom_units\":\"screen\",\"fill_alpha\":{\"value\":0.5},\"fill_color\":{\"value\":\"lightgrey\"},\"left_units\":\"screen\",\"level\":\"overlay\",\"line_alpha\":{\"value\":1.0},\"line_color\":{\"value\":\"black\"},\"line_dash\":[4,4],\"line_width\":{\"value\":2},\"plot\":null,\"render_mode\":\"css\",\"right_units\":\"screen\",\"top_units\":\"screen\"},\"id\":\"085b28fe-9bdb-4e0c-8f7d-9e6b96a898d5\",\"type\":\"BoxAnnotation\"},{\"attributes\":{\"axis_label\":\"diameter\",\"formatter\":{\"id\":\"1298db28-48b9-4f7f-9149-ab4e5ed6040d\",\"type\":\"BasicTickFormatter\"},\"plot\":{\"id\":\"89dc8f19-8128-4a5a-8a09-c10dcc36cf08\",\"subtype\":\"Figure\",\"type\":\"Plot\"},\"ticker\":{\"id\":\"787c89cc-358c-4050-8aa8-354959635963\",\"type\":\"BasicTicker\"}},\"id\":\"0b3d58be-db9a-4f30-b7d0-98afac9d6ca2\",\"type\":\"LinearAxis\"},{\"attributes\":{},\"id\":\"3f31cf58-ff0c-4fb2-b93f-78da3bb8c881\",\"type\":\"HelpTool\"},{\"attributes\":{\"line_alpha\":{\"value\":0.1},\"line_color\":{\"value\":\"#1f77b4\"},\"x\":{\"field\":\"x\"},\"y\":{\"field\":\"y\"}},\"id\":\"d44b1cc5-ba16-4e31-b574-139a90c60be3\",\"type\":\"Line\"},{\"attributes\":{},\"id\":\"b72a8fc0-6c43-4b56-b54a-ea0290798337\",\"type\":\"PanTool\"},{\"attributes\":{\"line_alpha\":{\"value\":0.1},\"line_color\":{\"value\":\"#1f77b4\"},\"x\":{\"field\":\"x\"},\"y\":{\"field\":\"y\"}},\"id\":\"1d7f132a-de89-46af-b47d-1a6387a09c7d\",\"type\":\"Line\"},{\"attributes\":{},\"id\":\"e4138100-3475-4ddb-b23f-4d41bed112b4\",\"type\":\"ResetTool\"},{\"attributes\":{\"line_color\":{\"value\":\"#66a61e\"},\"x\":{\"field\":\"x\"},\"y\":{\"field\":\"y\"}},\"id\":\"49b78404-b382-4542-bff5-f412623f8f55\",\"type\":\"Line\"},{\"attributes\":{\"line_color\":{\"value\":\"#7570b3\"},\"x\":{\"field\":\"x\"},\"y\":{\"field\":\"y\"}},\"id\":\"cf4aa2c8-f6f5-4c51-8e54-cf2af74b0a3c\",\"type\":\"Line\"},{\"attributes\":{\"line_alpha\":{\"value\":0.1},\"line_color\":{\"value\":\"#1f77b4\"},\"x\":{\"field\":\"x\"},\"y\":{\"field\":\"y\"}},\"id\":\"5e8bf02e-3646-41cb-9572-b18c87addc62\",\"type\":\"Line\"},{\"attributes\":{},\"id\":\"9048b7a6-68e7-4656-a895-13b37e0b02fe\",\"type\":\"WheelZoomTool\"},{\"attributes\":{\"line_alpha\":{\"value\":0.1},\"line_color\":{\"value\":\"#1f77b4\"},\"x\":{\"field\":\"x\"},\"y\":{\"field\":\"y\"}},\"id\":\"745dbc30-7c2c-43e1-8222-5ed219dfaab4\",\"type\":\"Line\"},{\"attributes\":{\"active_drag\":\"auto\",\"active_inspect\":\"auto\",\"active_scroll\":\"auto\",\"active_tap\":\"auto\",\"tools\":[{\"id\":\"b72a8fc0-6c43-4b56-b54a-ea0290798337\",\"type\":\"PanTool\"},{\"id\":\"9048b7a6-68e7-4656-a895-13b37e0b02fe\",\"type\":\"WheelZoomTool\"},{\"id\":\"7e315578-592d-4271-84bb-0b50d081380f\",\"type\":\"BoxZoomTool\"},{\"id\":\"62a649d1-ad4c-4663-bbc6-ed63ead652cf\",\"type\":\"SaveTool\"},{\"id\":\"e4138100-3475-4ddb-b23f-4d41bed112b4\",\"type\":\"ResetTool\"},{\"id\":\"3f31cf58-ff0c-4fb2-b93f-78da3bb8c881\",\"type\":\"HelpTool\"}]},\"id\":\"afd8302b-4ce9-4c06-beb5-d8dc0834b66e\",\"type\":\"Toolbar\"},{\"attributes\":{\"overlay\":{\"id\":\"085b28fe-9bdb-4e0c-8f7d-9e6b96a898d5\",\"type\":\"BoxAnnotation\"}},\"id\":\"7e315578-592d-4271-84bb-0b50d081380f\",\"type\":\"BoxZoomTool\"},{\"attributes\":{\"line_color\":{\"value\":\"#d95f02\"},\"x\":{\"field\":\"x\"},\"y\":{\"field\":\"y\"}},\"id\":\"851ad40d-f202-4081-85bb-d75b5aed5fec\",\"type\":\"Line\"},{\"attributes\":{},\"id\":\"62a649d1-ad4c-4663-bbc6-ed63ead652cf\",\"type\":\"SaveTool\"},{\"attributes\":{\"callback\":null,\"column_names\":[\"x\",\"y\"],\"data\":{\"x\":{\"__ndarray__\":\"mpmZmZmZyb8SERERERHBvxIREREREbG/AAAAAAAAAAAQERERERGxPxAREREREcE/mpmZmZmZyT8=\",\"dtype\":\"float64\",\"shape\":[7]},\"y\":{\"__ndarray__\":\"cCBI6oJmbsCiFTCcrPlmwKIVMJysGV/AAAAAAABAUMD6pf48NmUWwIdWwHCy5kpA5UCQ1AVNXEA=\",\"dtype\":\"float64\",\"shape\":[7]}}},\"id\":\"54cde420-fce8-497c-aa52-a59a735a31a0\",\"type\":\"ColumnDataSource\"},{\"attributes\":{\"data_source\":{\"id\":\"5fd2a414-c8f9-4602-aab4-c39d3bf4e6bd\",\"type\":\"ColumnDataSource\"},\"glyph\":{\"id\":\"8fa420b8-6194-431a-a7fe-4e329157ae46\",\"type\":\"Line\"},\"hover_glyph\":null,\"muted_glyph\":null,\"nonselection_glyph\":{\"id\":\"51632e8b-e72b-4b12-b2c6-e3444a50f8c4\",\"type\":\"Line\"},\"selection_glyph\":null,\"view\":{\"id\":\"0e064c06-4bb5-4f7e-9bea-5a25b82a72bc\",\"type\":\"CDSView\"}},\"id\":\"ba1ae18a-a5c7-4e0b-a59b-ceb07b249b47\",\"type\":\"GlyphRenderer\"},{\"attributes\":{\"data_source\":{\"id\":\"34c16267-a75d-45f3-ab78-46fbbd0a8f56\",\"type\":\"ColumnDataSource\"},\"glyph\":{\"id\":\"773a7dc7-88ba-4407-af71-35ff97b80b3c\",\"type\":\"Line\"},\"hover_glyph\":null,\"muted_glyph\":null,\"nonselection_glyph\":{\"id\":\"7b0e0245-092e-49eb-bee4-03603ad39930\",\"type\":\"Line\"},\"selection_glyph\":null,\"view\":{\"id\":\"170b0cdf-01af-41da-900d-c6bf031cad00\",\"type\":\"CDSView\"}},\"id\":\"9a5cdd20-2f20-475f-8363-f7e519caf150\",\"type\":\"GlyphRenderer\"},{\"attributes\":{\"data_source\":{\"id\":\"fef98496-3391-4afe-a562-4b0afabae59b\",\"type\":\"ColumnDataSource\"},\"glyph\":{\"id\":\"851ad40d-f202-4081-85bb-d75b5aed5fec\",\"type\":\"Line\"},\"hover_glyph\":null,\"muted_glyph\":null,\"nonselection_glyph\":{\"id\":\"1d7f132a-de89-46af-b47d-1a6387a09c7d\",\"type\":\"Line\"},\"selection_glyph\":null,\"view\":{\"id\":\"752edeb4-b548-4be4-8930-6c3233cbeafc\",\"type\":\"CDSView\"}},\"id\":\"fa281603-5e41-4038-ab8a-9fc56c613793\",\"type\":\"GlyphRenderer\"},{\"attributes\":{\"line_alpha\":{\"value\":0.1},\"line_color\":{\"value\":\"#1f77b4\"},\"x\":{\"field\":\"x\"},\"y\":{\"field\":\"y\"}},\"id\":\"51632e8b-e72b-4b12-b2c6-e3444a50f8c4\",\"type\":\"Line\"},{\"attributes\":{\"plot\":null,\"text\":\"\"},\"id\":\"3a412aee-5ee5-4a82-9dc8-180f16d60bbd\",\"type\":\"Title\"},{\"attributes\":{\"below\":[{\"id\":\"0b3d58be-db9a-4f30-b7d0-98afac9d6ca2\",\"type\":\"LinearAxis\"}],\"left\":[{\"id\":\"4c815687-b7f2-49ee-9ac2-b36308fd9d3a\",\"type\":\"LinearAxis\"}],\"plot_height\":400,\"plot_width\":400,\"renderers\":[{\"id\":\"0b3d58be-db9a-4f30-b7d0-98afac9d6ca2\",\"type\":\"LinearAxis\"},{\"id\":\"d57d1cb7-07d0-4189-b79f-2ba4155cd3bc\",\"type\":\"Grid\"},{\"id\":\"4c815687-b7f2-49ee-9ac2-b36308fd9d3a\",\"type\":\"LinearAxis\"},{\"id\":\"9032c4a3-e5ef-46b2-a837-34610308d338\",\"type\":\"Grid\"},{\"id\":\"a360e688-da69-4fce-a316-ce7a7566563c\",\"type\":\"BoxAnnotation\"},{\"id\":\"e92ee974-10be-4739-80ca-85fde1824ac9\",\"type\":\"GlyphRenderer\"}],\"title\":{\"id\":\"fedc874c-3958-46e8-a892-9653f5020019\",\"type\":\"Title\"},\"toolbar\":{\"id\":\"b6f406d4-325b-4b40-81dd-ad04a9c54ed5\",\"type\":\"Toolbar\"},\"x_range\":{\"id\":\"105375db-a9ac-43d4-8970-0a7c7aa88ab6\",\"type\":\"DataRange1d\"},\"x_scale\":{\"id\":\"7287aa89-a2f2-4860-84ed-fd5d5e4f9b92\",\"type\":\"LinearScale\"},\"y_range\":{\"id\":\"50f435ab-0730-40a6-b13d-149c7dd1ec72\",\"type\":\"DataRange1d\"},\"y_scale\":{\"id\":\"29ff69df-f8f4-4311-a020-f9ccc6d83ac1\",\"type\":\"LinearScale\"}},\"id\":\"89dc8f19-8128-4a5a-8a09-c10dcc36cf08\",\"subtype\":\"Figure\",\"type\":\"Plot\"},{\"attributes\":{},\"id\":\"44b6d7a5-73fd-4d61-abba-2e40257a52c6\",\"type\":\"BasicTickFormatter\"},{\"attributes\":{},\"id\":\"84571142-b410-4d4e-b45d-659d3a800401\",\"type\":\"BasicTickFormatter\"},{\"attributes\":{\"active_drag\":\"auto\",\"active_inspect\":\"auto\",\"active_scroll\":\"auto\",\"active_tap\":\"auto\",\"tools\":[{\"id\":\"f7618827-9f53-419a-b66c-cf97e2098a1e\",\"type\":\"PanTool\"},{\"id\":\"e52ac536-ae5f-4226-8ce9-e63b11640957\",\"type\":\"WheelZoomTool\"},{\"id\":\"b4cea2dd-de21-425d-bf23-a06ec989a528\",\"type\":\"BoxZoomTool\"},{\"id\":\"dfed7272-297f-45c0-8932-68ddb914311d\",\"type\":\"SaveTool\"},{\"id\":\"0091cce4-99e4-4784-ae4e-149e22771128\",\"type\":\"ResetTool\"},{\"id\":\"2376e6bc-31fe-44cc-ab8b-064e9898a64e\",\"type\":\"HelpTool\"}]},\"id\":\"b6f406d4-325b-4b40-81dd-ad04a9c54ed5\",\"type\":\"Toolbar\"},{\"attributes\":{\"callback\":null,\"column_names\":[\"x\",\"y\"],\"data\":{\"x\":{\"__ndarray__\":\"mpmZmZmZyb8SERERERHBvxIREREREbG/AAAAAAAAAAAQERERERGxPxAREREREcE/mpmZmZmZyT8=\",\"dtype\":\"float64\",\"shape\":[7]},\"y\":{\"__ndarray__\":\"5mjTJxRbXMDwReJvDVJYwPci8bcGSVTAAAAAAABAUMARuh2Q8m1IwCV0OyDlW0DAblyyYK+TMMA=\",\"dtype\":\"float64\",\"shape\":[7]}}},\"id\":\"5fd2a414-c8f9-4602-aab4-c39d3bf4e6bd\",\"type\":\"ColumnDataSource\"},{\"attributes\":{\"data_source\":{\"id\":\"4dd3ff82-48b7-4568-9a2d-8e412a280145\",\"type\":\"ColumnDataSource\"},\"glyph\":{\"id\":\"5c2bee73-bbdf-4a51-a5ba-64b84b71815a\",\"type\":\"Line\"},\"hover_glyph\":null,\"muted_glyph\":null,\"nonselection_glyph\":{\"id\":\"1b000d87-7fa8-4741-b5f0-927d7f390b96\",\"type\":\"Line\"},\"selection_glyph\":null,\"view\":{\"id\":\"7fec00e7-fe5a-4133-9de0-b10356a952b3\",\"type\":\"CDSView\"}},\"id\":\"e83278db-9a28-4d97-92fa-4ae7be581a55\",\"type\":\"GlyphRenderer\"},{\"attributes\":{\"line_color\":{\"value\":\"#d95f02\"},\"x\":{\"field\":\"x\"},\"y\":{\"field\":\"y\"}},\"id\":\"8fa420b8-6194-431a-a7fe-4e329157ae46\",\"type\":\"Line\"},{\"attributes\":{\"source\":{\"id\":\"5fd2a414-c8f9-4602-aab4-c39d3bf4e6bd\",\"type\":\"ColumnDataSource\"}},\"id\":\"0e064c06-4bb5-4f7e-9bea-5a25b82a72bc\",\"type\":\"CDSView\"},{\"attributes\":{\"callback\":null,\"column_names\":[\"x\",\"y\"],\"data\":{\"x\":{\"__ndarray__\":\"mpmZmZmZyb8SERERERHBvxIREREREbG/AAAAAAAAAAAQERERERGxPxAREREREcE/mpmZmZmZyT8=\",\"dtype\":\"float64\",\"shape\":[7]},\"y\":{\"__ndarray__\":\"LnOfhxhNUcAbor+vZfNQwA3R39eymVDAAAAAAABAUMDlXUBQmsxPwMm7gKA0GU/ArBnB8M5lTsA=\",\"dtype\":\"float64\",\"shape\":[7]}}},\"id\":\"fef98496-3391-4afe-a562-4b0afabae59b\",\"type\":\"ColumnDataSource\"},{\"attributes\":{\"data_source\":{\"id\":\"18156327-6dea-4ea7-8268-973db246b657\",\"type\":\"ColumnDataSource\"},\"glyph\":{\"id\":\"e1123a81-7e5a-451e-8648-2f41dd428e6d\",\"type\":\"Line\"},\"hover_glyph\":null,\"muted_glyph\":null,\"nonselection_glyph\":{\"id\":\"d377c055-9259-4c8d-a018-aca6578be99f\",\"type\":\"Line\"},\"selection_glyph\":null,\"view\":{\"id\":\"f06cec1f-381b-444a-a110-42217a39f667\",\"type\":\"CDSView\"}},\"id\":\"d2e70987-7829-4de6-af5a-5e6b4c5b5a3e\",\"type\":\"GlyphRenderer\"},{\"attributes\":{\"callback\":null,\"column_names\":[\"x\",\"y\"],\"data\":{\"x\":{\"__ndarray__\":\"mpmZmZmZyb8SERERERHBvxIREREREbG/AAAAAAAAAAAQERERERGxPxAREREREcE/mpmZmZmZyT8=\",\"dtype\":\"float64\",\"shape\":[7]},\"y\":{\"__ndarray__\":\"pm0OPErJVcBsngko3PBTwDbPBBRuGFLAAAAAAABAUMCVYfbXI89MwCjD7K9HHknAuyTjh2ttRcA=\",\"dtype\":\"float64\",\"shape\":[7]}}},\"id\":\"2f7ea39a-00a4-46fc-9717-0f98270ecfc8\",\"type\":\"ColumnDataSource\"},{\"attributes\":{\"source\":{\"id\":\"2f7ea39a-00a4-46fc-9717-0f98270ecfc8\",\"type\":\"ColumnDataSource\"}},\"id\":\"69568f3c-d318-4dc3-b5ec-4d4a75e0cf39\",\"type\":\"CDSView\"},{\"attributes\":{\"callback\":null,\"column_names\":[\"x\",\"y\"],\"data\":{\"x\":{\"__ndarray__\":\"AAAAAAAAJEDrQ2N9aKwnQNaHxvrQWCtAwsspeDkFL0DWh8b60FgxQMwpeDkFLzNAwsspeDkFNUC3bdu2bds2QKwPjfWhsThAorE+NNaHOkCYU/ByCl48QI31obE+ND5AwsspeDkFQEC8nIKXU/BAQLdt27Zt20FAsj401ofGQkCsD431obFDQKjg5RS8nERAorE+NNaHRUCdgpdT8HJGQJhT8HIKXkdAkiRJkiRJSECN9aGxPjRJQIjG+tBYH0pAg5dT8HIKS0B+aKwPjfVLQHg5BS+n4ExAcwpeTsHLTUBu27Zt27ZOQGmsD431oU9Asj401odGUEAvp+DlFLxQQKwPjfWhMVFAKng5BS+nUUCo4OUUvBxSQCVJkiRJklJAorE+NNYHU0AfGutDY31TQJ2Cl1Pw8lNAGutDY31oVECYU/ByCt5UQBW8nIKXU1VAkiRJkiTJVUAQjfWhsT5WQI31obE+tFZAC15OwcspV0CIxvrQWJ9XQAUvp+DlFFhAg5dT8HKKWEAAAAAAAABZQA==\",\"dtype\":\"float64\",\"shape\":[50]},\"y\":{\"__ndarray__\":\"QStgOFmzTUDJ52QExDJFQPCj6eN/xT9Ak6gpdTSxOECXYXHcdr0zQN2LxN8aJDBASH/8mBPjKkAloSlPUL0mQL/z0/6JeyNAdj1/itzgIEBs80xA4YYdQMTmUVGCCxpArbhx2v0kF0DwMXNg8LMUQGvz8PfRoBJAszHY6bbZEECN/ickj6EOQPuqYWRf9gtAQ6dcvrqgCUC4ii4Y7JIHQMhxCw/iwQVANXM/opgkBEB1+hd9qLMCQG3fm3zxaAFA5c9HLFk/AEClUVMjMGX+P1VMlCQkfvw/e4R3hG7D+j9bBrNA1i/5P9AUb4/hvvc/q0P097Vs9j8wXgF2/jX1P2A242HWF/Q/4PesIrgP8z91eF/obhvyP3Bjd9YKOfE/UEzZJ9dm8D/LnQPco0bvPwtTRkFK2u0/1fSog0GG7D/ral7Na0jrP8sE4vrkHuo/gPEKY/sH6T8AWFWnKQLoPyuMEmIRDOc/IIyqj3Yk5j/VhSGWO0rlP5Uo+dJdfOQ/lTKCm/K54z8g3vWeJALjPw==\",\"dtype\":\"float64\",\"shape\":[50]}}},\"id\":\"2b0bef3b-1803-4262-99a3-caf22a2c97ec\",\"type\":\"ColumnDataSource\"},{\"attributes\":{\"line_alpha\":{\"value\":0.1},\"line_color\":{\"value\":\"#1f77b4\"},\"x\":{\"field\":\"x\"},\"y\":{\"field\":\"y\"}},\"id\":\"8a54a11f-7097-4631-a5dc-8f2bda90bd6b\",\"type\":\"Line\"},{\"attributes\":{\"source\":{\"id\":\"34c16267-a75d-45f3-ab78-46fbbd0a8f56\",\"type\":\"ColumnDataSource\"}},\"id\":\"170b0cdf-01af-41da-900d-c6bf031cad00\",\"type\":\"CDSView\"},{\"attributes\":{\"data_source\":{\"id\":\"2f7ea39a-00a4-46fc-9717-0f98270ecfc8\",\"type\":\"ColumnDataSource\"},\"glyph\":{\"id\":\"cf4aa2c8-f6f5-4c51-8e54-cf2af74b0a3c\",\"type\":\"Line\"},\"hover_glyph\":null,\"muted_glyph\":null,\"nonselection_glyph\":{\"id\":\"8a54a11f-7097-4631-a5dc-8f2bda90bd6b\",\"type\":\"Line\"},\"selection_glyph\":null,\"view\":{\"id\":\"69568f3c-d318-4dc3-b5ec-4d4a75e0cf39\",\"type\":\"CDSView\"}},\"id\":\"be531bc1-7168-4b88-8be1-2b15c06c4962\",\"type\":\"GlyphRenderer\"},{\"attributes\":{\"callback\":null,\"column_names\":[\"x\",\"y\"],\"data\":{\"x\":{\"__ndarray__\":\"mpmZmZmZyb8SERERERHBvxIREREREbG/AAAAAAAAAAAQERERERGxPxAREREREcE/mpmZmZmZyT8=\",\"dtype\":\"float64\",\"shape\":[7]},\"y\":{\"__ndarray__\":\"qpgNgqwOUcAYu7NWyMlQwIzdWSvkhFDAAAAAAABAUMDoREypN/ZPwM2JmFJvbE/Ar87k+6biTsA=\",\"dtype\":\"float64\",\"shape\":[7]}}},\"id\":\"34c16267-a75d-45f3-ab78-46fbbd0a8f56\",\"type\":\"ColumnDataSource\"},{\"attributes\":{\"callback\":null,\"column_names\":[\"x\",\"y\"],\"data\":{\"x\":{\"__ndarray__\":\"mpmZmZmZyb8SERERERHBvxIREREREbG/AAAAAAAAAAAQERERERGxPxAREREREcE/mpmZmZmZyT8=\",\"dtype\":\"float64\",\"shape\":[7]},\"y\":{\"__ndarray__\":\"Sv9dx9rEUMAxqj7akZhQwBpVH+1IbFDAAAAAAABAUMDmquAStxNQwKKrgkvczk/AcQFEcUp2T8A=\",\"dtype\":\"float64\",\"shape\":[7]}}},\"id\":\"4dd3ff82-48b7-4568-9a2d-8e412a280145\",\"type\":\"ColumnDataSource\"},{\"attributes\":{\"line_color\":{\"value\":\"#e7298a\"},\"x\":{\"field\":\"x\"},\"y\":{\"field\":\"y\"}},\"id\":\"e1123a81-7e5a-451e-8648-2f41dd428e6d\",\"type\":\"Line\"},{\"attributes\":{\"source\":{\"id\":\"fef98496-3391-4afe-a562-4b0afabae59b\",\"type\":\"ColumnDataSource\"}},\"id\":\"752edeb4-b548-4be4-8930-6c3233cbeafc\",\"type\":\"CDSView\"},{\"attributes\":{\"line_color\":{\"value\":\"#66a61e\"},\"x\":{\"field\":\"x\"},\"y\":{\"field\":\"y\"}},\"id\":\"5c2bee73-bbdf-4a51-a5ba-64b84b71815a\",\"type\":\"Line\"},{\"attributes\":{\"source\":{\"id\":\"18156327-6dea-4ea7-8268-973db246b657\",\"type\":\"ColumnDataSource\"}},\"id\":\"f06cec1f-381b-444a-a110-42217a39f667\",\"type\":\"CDSView\"},{\"attributes\":{\"callback\":null,\"column_names\":[\"x\",\"y\"],\"data\":{\"x\":{\"__ndarray__\":\"mpmZmZmZyb8SERERERHBvxIREREREbG/AAAAAAAAAAAQERERERGxPxAREREREcE/mpmZmZmZyT8=\",\"dtype\":\"float64\",\"shape\":[7]},\"y\":{\"__ndarray__\":\"gjbQhrLjUMCreTWvIa1QwNi8mteQdlDAAAAAAABAUMAoQ2UobwlQwKoMlaG8pU/A/pJf8po4T8A=\",\"dtype\":\"float64\",\"shape\":[7]}}},\"id\":\"18156327-6dea-4ea7-8268-973db246b657\",\"type\":\"ColumnDataSource\"},{\"attributes\":{\"line_alpha\":{\"value\":0.1},\"line_color\":{\"value\":\"#1f77b4\"},\"x\":{\"field\":\"x\"},\"y\":{\"field\":\"y\"}},\"id\":\"7b0e0245-092e-49eb-bee4-03603ad39930\",\"type\":\"Line\"},{\"attributes\":{\"callback\":null,\"column_names\":[\"x\",\"y\"],\"data\":{\"x\":{\"__ndarray__\":\"mpmZmZmZyb8SERERERHBvxIREREREbG/AAAAAAAAAAAQERERERGxPxAREREREcE/mpmZmZmZyT8=\",\"dtype\":\"float64\",\"shape\":[7]},\"y\":{\"__ndarray__\":\"qxJpMS1KUsAet/AgHpxRwIxbeBAP7lDAAAAAAABAUMDiSA/f4SNPwMiRHr7Dx03Aq9otnaVrTMA=\",\"dtype\":\"float64\",\"shape\":[7]}}},\"id\":\"d7d482e0-52a9-4278-ac09-0f6fc971f056\",\"type\":\"ColumnDataSource\"},{\"attributes\":{\"source\":{\"id\":\"8f5981fb-1a6b-4ce3-9ada-550e855707c8\",\"type\":\"ColumnDataSource\"}},\"id\":\"54cd8a4e-1ae9-4d2b-8d40-04300046b3e5\",\"type\":\"CDSView\"},{\"attributes\":{\"data_source\":{\"id\":\"8f5981fb-1a6b-4ce3-9ada-550e855707c8\",\"type\":\"ColumnDataSource\"},\"glyph\":{\"id\":\"60ede752-c9a8-45ff-bd6d-b5d0299bd8f9\",\"type\":\"Line\"},\"hover_glyph\":null,\"muted_glyph\":null,\"nonselection_glyph\":{\"id\":\"d44b1cc5-ba16-4e31-b574-139a90c60be3\",\"type\":\"Line\"},\"selection_glyph\":null,\"view\":{\"id\":\"54cd8a4e-1ae9-4d2b-8d40-04300046b3e5\",\"type\":\"CDSView\"}},\"id\":\"5d5fff68-e342-43b9-a89a-2af5a51dca34\",\"type\":\"GlyphRenderer\"},{\"attributes\":{\"line_color\":{\"value\":\"#e7298a\"},\"x\":{\"field\":\"x\"},\"y\":{\"field\":\"y\"}},\"id\":\"3b9b1aeb-06ef-46e5-a42f-a669ca5c280d\",\"type\":\"Line\"},{\"attributes\":{\"data_source\":{\"id\":\"93a4f0c2-cc78-45ca-b8f5-26d37b5b797f\",\"type\":\"ColumnDataSource\"},\"glyph\":{\"id\":\"3b9b1aeb-06ef-46e5-a42f-a669ca5c280d\",\"type\":\"Line\"},\"hover_glyph\":null,\"muted_glyph\":null,\"nonselection_glyph\":{\"id\":\"745dbc30-7c2c-43e1-8222-5ed219dfaab4\",\"type\":\"Line\"},\"selection_glyph\":null,\"view\":{\"id\":\"f138390a-d921-4ce8-9b8f-414823ea0278\",\"type\":\"CDSView\"}},\"id\":\"6d2e43eb-11dd-4c6d-93e5-7381c6e9ab8d\",\"type\":\"GlyphRenderer\"},{\"attributes\":{\"line_color\":{\"value\":\"#1b9e77\"},\"x\":{\"field\":\"x\"},\"y\":{\"field\":\"y\"}},\"id\":\"60ede752-c9a8-45ff-bd6d-b5d0299bd8f9\",\"type\":\"Line\"},{\"attributes\":{\"source\":{\"id\":\"93a4f0c2-cc78-45ca-b8f5-26d37b5b797f\",\"type\":\"ColumnDataSource\"}},\"id\":\"f138390a-d921-4ce8-9b8f-414823ea0278\",\"type\":\"CDSView\"},{\"attributes\":{},\"id\":\"79d7c325-a217-4ad7-893c-75ac064b633d\",\"type\":\"BasicTickFormatter\"},{\"attributes\":{\"line_color\":{\"value\":\"#7570b3\"},\"x\":{\"field\":\"x\"},\"y\":{\"field\":\"y\"}},\"id\":\"773a7dc7-88ba-4407-af71-35ff97b80b3c\",\"type\":\"Line\"},{\"attributes\":{\"source\":{\"id\":\"d7d482e0-52a9-4278-ac09-0f6fc971f056\",\"type\":\"ColumnDataSource\"}},\"id\":\"4a80531a-be1c-4c4c-a46a-b9e345d7486f\",\"type\":\"CDSView\"},{\"attributes\":{\"data_source\":{\"id\":\"d7d482e0-52a9-4278-ac09-0f6fc971f056\",\"type\":\"ColumnDataSource\"},\"glyph\":{\"id\":\"49b78404-b382-4542-bff5-f412623f8f55\",\"type\":\"Line\"},\"hover_glyph\":null,\"muted_glyph\":null,\"nonselection_glyph\":{\"id\":\"5e8bf02e-3646-41cb-9572-b18c87addc62\",\"type\":\"Line\"},\"selection_glyph\":null,\"view\":{\"id\":\"4a80531a-be1c-4c4c-a46a-b9e345d7486f\",\"type\":\"CDSView\"}},\"id\":\"275fa19c-3544-4c97-b4f2-1bd92fc49aa8\",\"type\":\"GlyphRenderer\"},{\"attributes\":{},\"id\":\"787c89cc-358c-4050-8aa8-354959635963\",\"type\":\"BasicTicker\"},{\"attributes\":{\"dimension\":1,\"plot\":{\"id\":\"89dc8f19-8128-4a5a-8a09-c10dcc36cf08\",\"subtype\":\"Figure\",\"type\":\"Plot\"},\"ticker\":{\"id\":\"a6ea3fe5-2233-4bfc-9e8f-f3e94ea3f8fa\",\"type\":\"BasicTicker\"}},\"id\":\"9032c4a3-e5ef-46b2-a837-34610308d338\",\"type\":\"Grid\"},{\"attributes\":{\"overlay\":{\"id\":\"a360e688-da69-4fce-a316-ce7a7566563c\",\"type\":\"BoxAnnotation\"}},\"id\":\"b4cea2dd-de21-425d-bf23-a06ec989a528\",\"type\":\"BoxZoomTool\"},{\"attributes\":{},\"id\":\"dfed7272-297f-45c0-8932-68ddb914311d\",\"type\":\"SaveTool\"},{\"attributes\":{},\"id\":\"0091cce4-99e4-4784-ae4e-149e22771128\",\"type\":\"ResetTool\"},{\"attributes\":{\"callback\":null,\"column_names\":[\"x\",\"y\"],\"data\":{\"x\":{\"__ndarray__\":\"mpmZmZmZyb8SERERERHBvxIREREREbG/AAAAAAAAAAAQERERERGxPxAREREREcE/mpmZmZmZyT8=\",\"dtype\":\"float64\",\"shape\":[7]},\"y\":{\"__ndarray__\":\"1eenQb6sUcCPmhqBKTNRwElNjcCUuVDAAAAAAABAUMBxZeV+1oxPwOPKyv2smU7AWzCwfIOmTcA=\",\"dtype\":\"float64\",\"shape\":[7]}}},\"id\":\"8f5981fb-1a6b-4ce3-9ada-550e855707c8\",\"type\":\"ColumnDataSource\"},{\"attributes\":{\"line_alpha\":{\"value\":0.1},\"line_color\":{\"value\":\"#1f77b4\"},\"x\":{\"field\":\"x\"},\"y\":{\"field\":\"y\"}},\"id\":\"afa9c624-74f6-48dc-aeef-6de5bf505ef5\",\"type\":\"Line\"},{\"attributes\":{\"below\":[{\"id\":\"8ea10946-852a-4ae4-a597-24b9371e3643\",\"type\":\"LinearAxis\"}],\"left\":[{\"id\":\"85bd5690-7533-4589-bf73-c4f9d8c90903\",\"type\":\"LinearAxis\"}],\"plot_height\":400,\"plot_width\":400,\"renderers\":[{\"id\":\"8ea10946-852a-4ae4-a597-24b9371e3643\",\"type\":\"LinearAxis\"},{\"id\":\"039a5322-17e5-409d-afe4-3c6357cec9a7\",\"type\":\"Grid\"},{\"id\":\"85bd5690-7533-4589-bf73-c4f9d8c90903\",\"type\":\"LinearAxis\"},{\"id\":\"f75a4700-7428-4ec5-a5bf-bca25606cbbf\",\"type\":\"Grid\"},{\"id\":\"085b28fe-9bdb-4e0c-8f7d-9e6b96a898d5\",\"type\":\"BoxAnnotation\"},{\"id\":\"39f78f13-09b0-4f47-a3ad-cbd936f4b52a\",\"type\":\"GlyphRenderer\"},{\"id\":\"ba1ae18a-a5c7-4e0b-a59b-ceb07b249b47\",\"type\":\"GlyphRenderer\"},{\"id\":\"be531bc1-7168-4b88-8be1-2b15c06c4962\",\"type\":\"GlyphRenderer\"},{\"id\":\"6d2e43eb-11dd-4c6d-93e5-7381c6e9ab8d\",\"type\":\"GlyphRenderer\"},{\"id\":\"275fa19c-3544-4c97-b4f2-1bd92fc49aa8\",\"type\":\"GlyphRenderer\"},{\"id\":\"5d5fff68-e342-43b9-a89a-2af5a51dca34\",\"type\":\"GlyphRenderer\"},{\"id\":\"fa281603-5e41-4038-ab8a-9fc56c613793\",\"type\":\"GlyphRenderer\"},{\"id\":\"9a5cdd20-2f20-475f-8363-f7e519caf150\",\"type\":\"GlyphRenderer\"},{\"id\":\"d2e70987-7829-4de6-af5a-5e6b4c5b5a3e\",\"type\":\"GlyphRenderer\"},{\"id\":\"e83278db-9a28-4d97-92fa-4ae7be581a55\",\"type\":\"GlyphRenderer\"}],\"title\":{\"id\":\"3a412aee-5ee5-4a82-9dc8-180f16d60bbd\",\"type\":\"Title\"},\"toolbar\":{\"id\":\"afd8302b-4ce9-4c06-beb5-d8dc0834b66e\",\"type\":\"Toolbar\"},\"x_range\":{\"id\":\"53f39a7c-b143-4542-8e38-52ea66655681\",\"type\":\"DataRange1d\"},\"x_scale\":{\"id\":\"46ba03fe-0198-4f94-858c-1bedbab6807b\",\"type\":\"LinearScale\"},\"y_range\":{\"id\":\"00536964-e85a-48bf-a3f5-7610cf7f31ab\",\"type\":\"DataRange1d\"},\"y_scale\":{\"id\":\"c6de0579-3b81-4ec2-be2c-ac55ae145a47\",\"type\":\"LinearScale\"}},\"id\":\"f039ad7b-9d0d-44f8-8156-da2559ed0b0d\",\"subtype\":\"Figure\",\"type\":\"Plot\"},{\"attributes\":{},\"id\":\"e52ac536-ae5f-4226-8ce9-e63b11640957\",\"type\":\"WheelZoomTool\"},{\"attributes\":{\"bottom_units\":\"screen\",\"fill_alpha\":{\"value\":0.5},\"fill_color\":{\"value\":\"lightgrey\"},\"left_units\":\"screen\",\"level\":\"overlay\",\"line_alpha\":{\"value\":1.0},\"line_color\":{\"value\":\"black\"},\"line_dash\":[4,4],\"line_width\":{\"value\":2},\"plot\":null,\"render_mode\":\"css\",\"right_units\":\"screen\",\"top_units\":\"screen\"},\"id\":\"a360e688-da69-4fce-a316-ce7a7566563c\",\"type\":\"BoxAnnotation\"},{\"attributes\":{},\"id\":\"f7618827-9f53-419a-b66c-cf97e2098a1e\",\"type\":\"PanTool\"},{\"attributes\":{\"source\":{\"id\":\"2b0bef3b-1803-4262-99a3-caf22a2c97ec\",\"type\":\"ColumnDataSource\"}},\"id\":\"793068d4-5f76-4f55-8aab-03e11f01a14e\",\"type\":\"CDSView\"},{\"attributes\":{\"children\":[{\"id\":\"f039ad7b-9d0d-44f8-8156-da2559ed0b0d\",\"subtype\":\"Figure\",\"type\":\"Plot\"},{\"id\":\"89dc8f19-8128-4a5a-8a09-c10dcc36cf08\",\"subtype\":\"Figure\",\"type\":\"Plot\"}]},\"id\":\"d4eff5dc-29e2-4085-b9a4-9750b372dcb9\",\"type\":\"Row\"},{\"attributes\":{},\"id\":\"2376e6bc-31fe-44cc-ab8b-064e9898a64e\",\"type\":\"HelpTool\"},{\"attributes\":{},\"id\":\"1298db28-48b9-4f7f-9149-ab4e5ed6040d\",\"type\":\"BasicTickFormatter\"},{\"attributes\":{\"plot\":null,\"text\":\"\"},\"id\":\"fedc874c-3958-46e8-a892-9653f5020019\",\"type\":\"Title\"}],\"root_ids\":[\"69c3b277-d2e2-402a-bd1e-fd9c6aa206d8\"]},\"title\":\"Bokeh Application\",\"version\":\"0.12.10\"}};\n",
       "    var render_items = [{\"docid\":\"8f2e6ff2-ad54-4311-8743-ed6b54783395\",\"elementid\":\"f658037f-9056-4bfd-b448-9f9ccdced275\",\"modelid\":\"69c3b277-d2e2-402a-bd1e-fd9c6aa206d8\"}];\n",
       "\n",
       "    root.Bokeh.embed.embed_items(docs_json, render_items);\n",
       "  }\n",
       "\n",
       "  if (root.Bokeh !== undefined) {\n",
       "    embed_document(root);\n",
       "  } else {\n",
       "    var attempts = 0;\n",
       "    var timer = setInterval(function(root) {\n",
       "      if (root.Bokeh !== undefined) {\n",
       "        embed_document(root);\n",
       "        clearInterval(timer);\n",
       "      }\n",
       "      attempts++;\n",
       "      if (attempts > 100) {\n",
       "        console.log(\"Bokeh: ERROR: Unable to embed document because BokehJS library is missing\")\n",
       "        clearInterval(timer);\n",
       "      }\n",
       "    }, 10, root)\n",
       "  }\n",
       "})(window);"
      ],
      "application/vnd.bokehjs_exec.v0+json": ""
     },
     "metadata": {
      "application/vnd.bokehjs_exec.v0+json": {
       "id": "69c3b277-d2e2-402a-bd1e-fd9c6aa206d8"
      }
     },
     "output_type": "display_data"
    }
   ],
   "source": [
    "# V-I slope vs diam\n",
    "diams = np.linspace(10,100,num=50)\n",
    "V_ss = np.zeros([I.shape[0],50])\n",
    "slope = np.zeros([50,])\n",
    "for i, diam in enumerate(list(diams)):  \n",
    "    V_ss[:,i], slope[i] = get_VI(diam,2800,1)\n",
    "    \n",
    "VI = bkp.figure(plot_height=400,plot_width=400)\n",
    "for i, color in zip(range(0,50,5),colors):\n",
    "    VI.line(I,V_ss[:,i],color=color)\n",
    "VI.xaxis.axis_label=\"I (mA)\"\n",
    "VI.yaxis.axis_label=\"mV\"\n",
    "    \n",
    "S = bkp.figure(plot_height=400,plot_width=400)\n",
    "S.yaxis.axis_label=\"V-I slope\"\n",
    "S.xaxis.axis_label=\"diameter\"\n",
    "S.line(diams,slope)\n",
    "bkp.show(bk.layouts.layout([[VI,S]]))\n",
    "\n"
   ]
  },
  {
   "cell_type": "code",
   "execution_count": 9,
   "metadata": {},
   "outputs": [
    {
     "data": {
      "text/html": [
       "\n",
       "<div class=\"bk-root\">\n",
       "    <div class=\"bk-plotdiv\" id=\"26b777a7-ed32-45ff-bd41-bee8dfdf147f\"></div>\n",
       "</div>"
      ]
     },
     "metadata": {},
     "output_type": "display_data"
    },
    {
     "data": {
      "application/javascript": [
       "(function(root) {\n",
       "  function embed_document(root) {\n",
       "    var docs_json = {\"3fd74983-6a47-47c9-8ce4-fbeb8e5b7049\":{\"roots\":{\"references\":[{\"attributes\":{\"line_color\":{\"value\":\"#66a61e\"},\"x\":{\"field\":\"x\"},\"y\":{\"field\":\"y\"}},\"id\":\"1888234d-1af5-423a-a4ea-87b7c8ccc3f4\",\"type\":\"Line\"},{\"attributes\":{\"data_source\":{\"id\":\"f378e35e-3c15-42e6-ab63-67f8013738c9\",\"type\":\"ColumnDataSource\"},\"glyph\":{\"id\":\"ccfb5d60-9777-4fae-9fb0-fcb9c3545978\",\"type\":\"Line\"},\"hover_glyph\":null,\"muted_glyph\":null,\"nonselection_glyph\":{\"id\":\"9ab3dea2-eea5-468b-882d-c88d5b69b7e6\",\"type\":\"Line\"},\"selection_glyph\":null,\"view\":{\"id\":\"318e6281-372d-4a39-8475-6cfa9eda4028\",\"type\":\"CDSView\"}},\"id\":\"7437f423-b734-4353-8bb6-499c4d2c2844\",\"type\":\"GlyphRenderer\"},{\"attributes\":{\"source\":{\"id\":\"f378e35e-3c15-42e6-ab63-67f8013738c9\",\"type\":\"ColumnDataSource\"}},\"id\":\"318e6281-372d-4a39-8475-6cfa9eda4028\",\"type\":\"CDSView\"},{\"attributes\":{\"data_source\":{\"id\":\"01625f66-0f59-4348-b7df-685dad34ff72\",\"type\":\"ColumnDataSource\"},\"glyph\":{\"id\":\"a3f57a14-0a74-4bd6-99a1-1193d13c1651\",\"type\":\"Line\"},\"hover_glyph\":null,\"muted_glyph\":null,\"nonselection_glyph\":{\"id\":\"07443f49-d2e5-4f5b-8775-bb0943fcc0f0\",\"type\":\"Line\"},\"selection_glyph\":null,\"view\":{\"id\":\"8a42af8b-9415-4dc0-9f49-a58e66c1f03b\",\"type\":\"CDSView\"}},\"id\":\"562ede22-a53b-4d04-b02d-26c23a2a379c\",\"type\":\"GlyphRenderer\"},{\"attributes\":{\"line_color\":{\"value\":\"#e7298a\"},\"x\":{\"field\":\"x\"},\"y\":{\"field\":\"y\"}},\"id\":\"758c462b-e54b-4001-a7d7-c20ccfe8bdd2\",\"type\":\"Line\"},{\"attributes\":{\"line_alpha\":{\"value\":0.1},\"line_color\":{\"value\":\"#1f77b4\"},\"x\":{\"field\":\"x\"},\"y\":{\"field\":\"y\"}},\"id\":\"07443f49-d2e5-4f5b-8775-bb0943fcc0f0\",\"type\":\"Line\"},{\"attributes\":{\"callback\":null,\"column_names\":[\"x\",\"y\"],\"data\":{\"x\":{\"__ndarray__\":\"mpmZmZmZyb8SERERERHBvxIREREREbG/AAAAAAAAAAAQERERERGxPxAREREREcE/mpmZmZmZyT8=\",\"dtype\":\"float64\",\"shape\":[7]},\"y\":{\"__ndarray__\":\"f4DicAyMU8CqVez1snJSwNUq9npZWVHAAAAAAABAUMBWqhMKTU1OwKxUJxSaGkzABP86HufnScA=\",\"dtype\":\"float64\",\"shape\":[7]}}},\"id\":\"583de207-b3c9-4751-96df-05750fa6f3a8\",\"type\":\"ColumnDataSource\"},{\"attributes\":{\"line_color\":{\"value\":\"#1b9e77\"},\"x\":{\"field\":\"x\"},\"y\":{\"field\":\"y\"}},\"id\":\"c5905324-05cd-477b-9543-4d9710637ded\",\"type\":\"Line\"},{\"attributes\":{\"source\":{\"id\":\"01625f66-0f59-4348-b7df-685dad34ff72\",\"type\":\"ColumnDataSource\"}},\"id\":\"8a42af8b-9415-4dc0-9f49-a58e66c1f03b\",\"type\":\"CDSView\"},{\"attributes\":{\"line_color\":{\"value\":\"#7570b3\"},\"x\":{\"field\":\"x\"},\"y\":{\"field\":\"y\"}},\"id\":\"b7086b0f-90f8-425e-a87c-fcdf743e6e75\",\"type\":\"Line\"},{\"attributes\":{\"source\":{\"id\":\"583de207-b3c9-4751-96df-05750fa6f3a8\",\"type\":\"ColumnDataSource\"}},\"id\":\"c104b3bf-f275-449e-bfb8-6a3f2ca972b3\",\"type\":\"CDSView\"},{\"attributes\":{\"callback\":null,\"column_names\":[\"x\",\"y\"],\"data\":{\"x\":{\"__ndarray__\":\"mpmZmZmZyb8SERERERHBvxIREREREbG/AAAAAAAAAAAQERERERGxPxAREREREcE/mpmZmZmZyT8=\",\"dtype\":\"float64\",\"shape\":[7]},\"y\":{\"__ndarray__\":\"X+TGgwHsVsDrQi+tq7JUwHahl9ZVeVLAAAAAAABAUMAWvdBSVA1MwCp6oaWomkfAPzdy+PwnQ8A=\",\"dtype\":\"float64\",\"shape\":[7]}}},\"id\":\"c6943152-1cc8-4b03-83b3-61f9604d20af\",\"type\":\"ColumnDataSource\"},{\"attributes\":{\"line_alpha\":{\"value\":0.1},\"line_color\":{\"value\":\"#1f77b4\"},\"x\":{\"field\":\"x\"},\"y\":{\"field\":\"y\"}},\"id\":\"0c735d06-f10b-491d-a950-6376489f349d\",\"type\":\"Line\"},{\"attributes\":{\"data_source\":{\"id\":\"583de207-b3c9-4751-96df-05750fa6f3a8\",\"type\":\"ColumnDataSource\"},\"glyph\":{\"id\":\"758c462b-e54b-4001-a7d7-c20ccfe8bdd2\",\"type\":\"Line\"},\"hover_glyph\":null,\"muted_glyph\":null,\"nonselection_glyph\":{\"id\":\"0c735d06-f10b-491d-a950-6376489f349d\",\"type\":\"Line\"},\"selection_glyph\":null,\"view\":{\"id\":\"c104b3bf-f275-449e-bfb8-6a3f2ca972b3\",\"type\":\"CDSView\"}},\"id\":\"7e31e44d-2f70-4838-8d4d-bd91ad8ec1e0\",\"type\":\"GlyphRenderer\"},{\"attributes\":{\"source\":{\"id\":\"c6943152-1cc8-4b03-83b3-61f9604d20af\",\"type\":\"ColumnDataSource\"}},\"id\":\"60854cd0-05c4-4ae1-a95f-dcb92819dcbf\",\"type\":\"CDSView\"},{\"attributes\":{\"data_source\":{\"id\":\"c6943152-1cc8-4b03-83b3-61f9604d20af\",\"type\":\"ColumnDataSource\"},\"glyph\":{\"id\":\"1888234d-1af5-423a-a4ea-87b7c8ccc3f4\",\"type\":\"Line\"},\"hover_glyph\":null,\"muted_glyph\":null,\"nonselection_glyph\":{\"id\":\"79a7136f-d797-4d3a-87ad-ec4fd1894280\",\"type\":\"Line\"},\"selection_glyph\":null,\"view\":{\"id\":\"60854cd0-05c4-4ae1-a95f-dcb92819dcbf\",\"type\":\"CDSView\"}},\"id\":\"849255b0-9674-4135-b0fc-4867f6b997ff\",\"type\":\"GlyphRenderer\"},{\"attributes\":{\"callback\":null,\"column_names\":[\"x\",\"y\"],\"data\":{\"x\":{\"__ndarray__\":\"mpmZmZmZyb8SERERERHBvxIREREREbG/AAAAAAAAAAAQERERERGxPxAREREREcE/mpmZmZmZyT8=\",\"dtype\":\"float64\",\"shape\":[7]},\"y\":{\"__ndarray__\":\"zxvfJUa8XcDbZz8ZhD1ZwPGznwzCvlTAAAAAAABAUMAmmMDme4JHwIRgApvvCT3AgiEH0c4dJsA=\",\"dtype\":\"float64\",\"shape\":[7]}}},\"id\":\"95020a29-e9d9-426d-90a7-142bfed8eb62\",\"type\":\"ColumnDataSource\"},{\"attributes\":{\"line_color\":{\"value\":\"#d95f02\"},\"x\":{\"field\":\"x\"},\"y\":{\"field\":\"y\"}},\"id\":\"932f9f4e-d3d2-4062-9b68-f3b5cc0401e3\",\"type\":\"Line\"},{\"attributes\":{\"line_alpha\":{\"value\":0.1},\"line_color\":{\"value\":\"#1f77b4\"},\"x\":{\"field\":\"x\"},\"y\":{\"field\":\"y\"}},\"id\":\"79a7136f-d797-4d3a-87ad-ec4fd1894280\",\"type\":\"Line\"},{\"attributes\":{\"data_source\":{\"id\":\"95020a29-e9d9-426d-90a7-142bfed8eb62\",\"type\":\"ColumnDataSource\"},\"glyph\":{\"id\":\"c5905324-05cd-477b-9543-4d9710637ded\",\"type\":\"Line\"},\"hover_glyph\":null,\"muted_glyph\":null,\"nonselection_glyph\":{\"id\":\"8ccac694-1ce1-4f30-a3f7-18d320d85f18\",\"type\":\"Line\"},\"selection_glyph\":null,\"view\":{\"id\":\"07bda3e0-4449-4558-ad91-bd27ff09eb11\",\"type\":\"CDSView\"}},\"id\":\"995d28de-44b2-4fe5-b27c-f7511ca3f760\",\"type\":\"GlyphRenderer\"},{\"attributes\":{\"line_alpha\":{\"value\":0.1},\"line_color\":{\"value\":\"#1f77b4\"},\"x\":{\"field\":\"x\"},\"y\":{\"field\":\"y\"}},\"id\":\"8ccac694-1ce1-4f30-a3f7-18d320d85f18\",\"type\":\"Line\"},{\"attributes\":{\"callback\":null,\"column_names\":[\"x\",\"y\"],\"data\":{\"x\":{\"__ndarray__\":\"mpmZmZmZyb8SERERERHBvxIREREREbG/AAAAAAAAAAAQERERERGxPxAREREREcE/mpmZmZmZyT8=\",\"dtype\":\"float64\",\"shape\":[7]},\"y\":{\"__ndarray__\":\"zFHJXZVNZcCJNoY+DulgwIg2hj4OCVnAAAAAAABAUMDmJecFx9s9wODQxtDHIRVAK0cld1U2REA=\",\"dtype\":\"float64\",\"shape\":[7]}}},\"id\":\"be7148d1-5df1-44d8-aabd-eea5877a169a\",\"type\":\"ColumnDataSource\"},{\"attributes\":{\"source\":{\"id\":\"95020a29-e9d9-426d-90a7-142bfed8eb62\",\"type\":\"ColumnDataSource\"}},\"id\":\"07bda3e0-4449-4558-ad91-bd27ff09eb11\",\"type\":\"CDSView\"},{\"attributes\":{\"line_color\":{\"value\":\"#66a61e\"},\"x\":{\"field\":\"x\"},\"y\":{\"field\":\"y\"}},\"id\":\"0a24c4af-df67-4e0e-bb98-292a63f263a9\",\"type\":\"Line\"},{\"attributes\":{\"line_alpha\":{\"value\":0.1},\"line_color\":{\"value\":\"#1f77b4\"},\"x\":{\"field\":\"x\"},\"y\":{\"field\":\"y\"}},\"id\":\"ef859cca-c435-4511-b7ae-df55a3b2bb06\",\"type\":\"Line\"},{\"attributes\":{\"line_color\":{\"value\":\"#e7298a\"},\"x\":{\"field\":\"x\"},\"y\":{\"field\":\"y\"}},\"id\":\"a2089bac-98f7-4a16-844d-230df72855f2\",\"type\":\"Line\"},{\"attributes\":{\"callback\":null,\"column_names\":[\"x\",\"y\"],\"data\":{\"x\":{\"__ndarray__\":\"mpmZmZmZyb8SERERERHBvxIREREREbG/AAAAAAAAAAAQERERERGxPxAREREREcE/mpmZmZmZyT8=\",\"dtype\":\"float64\",\"shape\":[7]},\"y\":{\"__ndarray__\":\"asdx9LZ6bsD0hPaiJAdnwP+E9qIkJ1/AAAAAAABAUMB+r5fQtY0VwBcU2ouSHEtA7Y7j6G11XEA=\",\"dtype\":\"float64\",\"shape\":[7]}}},\"id\":\"83825969-1033-4cd9-b0d3-2410c13b02da\",\"type\":\"ColumnDataSource\"},{\"attributes\":{\"data_source\":{\"id\":\"be7148d1-5df1-44d8-aabd-eea5877a169a\",\"type\":\"ColumnDataSource\"},\"glyph\":{\"id\":\"932f9f4e-d3d2-4062-9b68-f3b5cc0401e3\",\"type\":\"Line\"},\"hover_glyph\":null,\"muted_glyph\":null,\"nonselection_glyph\":{\"id\":\"ef859cca-c435-4511-b7ae-df55a3b2bb06\",\"type\":\"Line\"},\"selection_glyph\":null,\"view\":{\"id\":\"9450c302-a657-416e-92e8-789f6beb4ea6\",\"type\":\"CDSView\"}},\"id\":\"bba5c810-7d79-495a-ae82-cbf6295d092e\",\"type\":\"GlyphRenderer\"},{\"attributes\":{\"source\":{\"id\":\"be7148d1-5df1-44d8-aabd-eea5877a169a\",\"type\":\"ColumnDataSource\"}},\"id\":\"9450c302-a657-416e-92e8-789f6beb4ea6\",\"type\":\"CDSView\"},{\"attributes\":{\"callback\":null,\"column_names\":[\"x\",\"y\"],\"data\":{\"x\":{\"__ndarray__\":\"AAAAAAAAWUB7zOU47shcQBBQLcBGkmBALA5FmYkUY0BUjDG0CPhlQOHLsKN8S2lAb77uhdgfbUABhZ8yUMRwQLBPTVYmTnNAPppbVV46dkDHIqU13Zd5QO9fMUPJd31Ah4vfuvD2gEBAoccIcYiDQJddIEJ8fYZAAS0YZiTliUAkxhqJw9CNQDkMICEqKpFA76H3vWvDk0DyPEnXZMGWQKkrY+1UM5pAILxwecoqnkAXKvUy/l2hQHz2UokY/6NAScLBeBoGp0A6+xWMcYKqQML7bT/hha5AwsFkw26SsUAm/pOEeTu0QAslrZGfS7dAaOAPC33SukBpu94PC+K+QN3Z9qp9x8FAK8DMz5B4xED+FHyU9pHHQNufmDt6I8tAQJI9KUs/z0DtRMbHLP3RQHkSepFgttRAHscC+yHZ10CP4Xn3a3XbQLWz0NOknd9AiXWR/X0z4kDT+Zb26vTkQCVFj0YkIehAsuAYIVXI60AYg8dhG/3vQG6FyzVzavJAEEWwMjI09UAAAAAAAGr4QA==\",\"dtype\":\"float64\",\"shape\":[50]},\"y\":{\"__ndarray__\":\"i9HSsP354D9AY5k69IvjP8siO5aHgeY/ADWoeMzp6T8rHhYVINbtPyu2Kk1ALfE/G9rhivnG8z8gCIphfMX2P/sOYg8LOPo/NfbKNTcw/j+gauewHWEBQJDOWxGxAgRAO+cHXj4KB0C1H/jnNYcKQDvqCF1eiw5ATa1ir5eVEUDoSx7oHD8UQMML4fbPTxdAOY75xE/XGkDpnR5umOceQKoLvbSuyiFAubFyeDV8JECIxvUK/5UnQBH0PN9yJytAC8WVr4lBL0C/z34yCPsxQG3ciK8YqzRA4V98YyC4N0BvmjzJiiY7QE+c69W+9j5AD20MfRySQUAU9B4GotJDQNFbpHazNUZAwBKLzjeySEA5FUPl8T1LQOsJ7UVJzk1AG0Z2XIIsUEDzWnJhcGpRQCFOvLH7nFJAN0R+CvzAU0BbcPXuGtRUQEBuBHLK1FVABUQk9DDCVkBxoK+eDpxXQOBdeICgYlhAPf97I4QWWUBU1Cl2nbhZQDhV4Q8ASlpAHQVEOdzLWkAs7Gmzbz9bQA==\",\"dtype\":\"float64\",\"shape\":[50]}}},\"id\":\"7235f04c-500d-4a9a-9036-fca63bb39f01\",\"type\":\"ColumnDataSource\"},{\"attributes\":{\"source\":{\"id\":\"83825969-1033-4cd9-b0d3-2410c13b02da\",\"type\":\"ColumnDataSource\"}},\"id\":\"382b1e29-4373-4845-9508-1e07fa69fbb4\",\"type\":\"CDSView\"},{\"attributes\":{\"callback\":null,\"column_names\":[\"x\",\"y\"],\"data\":{\"x\":{\"__ndarray__\":\"mpmZmZmZyb8SERERERHBvxIREREREbG/AAAAAAAAAAAQERERERGxPxAREREREcE/mpmZmZmZyT8=\",\"dtype\":\"float64\",\"shape\":[7]},\"y\":{\"__ndarray__\":\"URQ4MxSvc8AxcPXuGvRswBe4encNimLAAAAAAABAUMBPwdW7a1AyQKfg6t01aFlAcChwZigeZ0A=\",\"dtype\":\"float64\",\"shape\":[7]}}},\"id\":\"6479d6f7-95d0-4df2-be0b-bf9178cf2f75\",\"type\":\"ColumnDataSource\"},{\"attributes\":{\"line_alpha\":{\"value\":0.1},\"line_color\":{\"value\":\"#1f77b4\"},\"x\":{\"field\":\"x\"},\"y\":{\"field\":\"y\"}},\"id\":\"5e1387ca-9c8a-4b56-929c-6b55e2139ce5\",\"type\":\"Line\"},{\"attributes\":{\"data_source\":{\"id\":\"83825969-1033-4cd9-b0d3-2410c13b02da\",\"type\":\"ColumnDataSource\"},\"glyph\":{\"id\":\"b7086b0f-90f8-425e-a87c-fcdf743e6e75\",\"type\":\"Line\"},\"hover_glyph\":null,\"muted_glyph\":null,\"nonselection_glyph\":{\"id\":\"5e1387ca-9c8a-4b56-929c-6b55e2139ce5\",\"type\":\"Line\"},\"selection_glyph\":null,\"view\":{\"id\":\"382b1e29-4373-4845-9508-1e07fa69fbb4\",\"type\":\"CDSView\"}},\"id\":\"73c797c2-2012-4651-9189-f5a50d831886\",\"type\":\"GlyphRenderer\"},{\"attributes\":{\"source\":{\"id\":\"6479d6f7-95d0-4df2-be0b-bf9178cf2f75\",\"type\":\"ColumnDataSource\"}},\"id\":\"b1c412be-2714-4ea0-89d3-bb3de74a6cc9\",\"type\":\"CDSView\"},{\"attributes\":{},\"id\":\"0557a897-7c3b-44a0-910e-f68827ae0801\",\"type\":\"BasicTickFormatter\"},{\"attributes\":{\"data_source\":{\"id\":\"6479d6f7-95d0-4df2-be0b-bf9178cf2f75\",\"type\":\"ColumnDataSource\"},\"glyph\":{\"id\":\"a2089bac-98f7-4a16-844d-230df72855f2\",\"type\":\"Line\"},\"hover_glyph\":null,\"muted_glyph\":null,\"nonselection_glyph\":{\"id\":\"9e1f0aaa-65ae-486f-8e73-638f5b5614b9\",\"type\":\"Line\"},\"selection_glyph\":null,\"view\":{\"id\":\"b1c412be-2714-4ea0-89d3-bb3de74a6cc9\",\"type\":\"CDSView\"}},\"id\":\"1e223cac-1232-471b-921a-25860e6db507\",\"type\":\"GlyphRenderer\"},{\"attributes\":{\"callback\":null,\"column_names\":[\"x\",\"y\"],\"data\":{\"x\":{\"__ndarray__\":\"mpmZmZmZyb8SERERERHBvxIREREREbG/AAAAAAAAAAAQERERERGxPxAREREREcE/mpmZmZmZyT8=\",\"dtype\":\"float64\",\"shape\":[7]},\"y\":{\"__ndarray__\":\"/bGVyBrhUcCmdg7bEVZRwE87h+0Iy1DAAAAAAABAUMBaifEk7mlPwKwS40ncU07A/pvUbso9TcA=\",\"dtype\":\"float64\",\"shape\":[7]}}},\"id\":\"01625f66-0f59-4348-b7df-685dad34ff72\",\"type\":\"ColumnDataSource\"},{\"attributes\":{\"callback\":null,\"column_names\":[\"x\",\"y\"],\"data\":{\"x\":{\"__ndarray__\":\"mpmZmZmZyb8SERERERHBvxIREREREbG/AAAAAAAAAAAQERERERGxPxAREREREcE/mpmZmZmZyT8=\",\"dtype\":\"float64\",\"shape\":[7]},\"y\":{\"__ndarray__\":\"gP+cGuPgdsCQ/70RQptwwJL/vRFCq2TAAAAAAABAUMA4/vdGCK1BQBz/eyOE9mBAuf45NcaBbUA=\",\"dtype\":\"float64\",\"shape\":[7]}}},\"id\":\"d9985ecb-f419-404b-9b54-b66dfdc5c2d1\",\"type\":\"ColumnDataSource\"},{\"attributes\":{\"data_source\":{\"id\":\"7235f04c-500d-4a9a-9036-fca63bb39f01\",\"type\":\"ColumnDataSource\"},\"glyph\":{\"id\":\"be6cf9cd-1c69-4541-8aaa-c6a4447db801\",\"type\":\"Line\"},\"hover_glyph\":null,\"muted_glyph\":null,\"nonselection_glyph\":{\"id\":\"4e0e0c82-dd0b-4e26-acb3-2f1898c0c881\",\"type\":\"Line\"},\"selection_glyph\":null,\"view\":{\"id\":\"08595e99-c54d-41e7-bc0c-369ef3cbcb25\",\"type\":\"CDSView\"}},\"id\":\"de40034e-ceac-488a-8107-7b1d3d907a18\",\"type\":\"GlyphRenderer\"},{\"attributes\":{\"line_alpha\":{\"value\":0.1},\"line_color\":{\"value\":\"#1f77b4\"},\"x\":{\"field\":\"x\"},\"y\":{\"field\":\"y\"}},\"id\":\"9e1f0aaa-65ae-486f-8e73-638f5b5614b9\",\"type\":\"Line\"},{\"attributes\":{\"data_source\":{\"id\":\"d9985ecb-f419-404b-9b54-b66dfdc5c2d1\",\"type\":\"ColumnDataSource\"},\"glyph\":{\"id\":\"0a24c4af-df67-4e0e-bb98-292a63f263a9\",\"type\":\"Line\"},\"hover_glyph\":null,\"muted_glyph\":null,\"nonselection_glyph\":{\"id\":\"ae4fd5d6-5235-4cc5-bdb0-7b1b5b990853\",\"type\":\"Line\"},\"selection_glyph\":null,\"view\":{\"id\":\"8223e0d3-4b5b-4ed8-975d-57dfb73ea22a\",\"type\":\"CDSView\"}},\"id\":\"e163a356-83d2-4dcf-8eaf-b4afc9f0ad82\",\"type\":\"GlyphRenderer\"},{\"attributes\":{\"line_alpha\":{\"value\":0.1},\"line_color\":{\"value\":\"#1f77b4\"},\"x\":{\"field\":\"x\"},\"y\":{\"field\":\"y\"}},\"id\":\"ae4fd5d6-5235-4cc5-bdb0-7b1b5b990853\",\"type\":\"Line\"},{\"attributes\":{\"children\":[{\"id\":\"effcb2d0-ee8b-423c-a701-110bf449e03f\",\"type\":\"Row\"}]},\"id\":\"340b8215-28b0-43c3-9c20-0c73cb73f8ec\",\"type\":\"Column\"},{\"attributes\":{\"line_alpha\":{\"value\":0.1},\"line_color\":{\"value\":\"#1f77b4\"},\"x\":{\"field\":\"x\"},\"y\":{\"field\":\"y\"}},\"id\":\"9ab3dea2-eea5-468b-882d-c88d5b69b7e6\",\"type\":\"Line\"},{\"attributes\":{\"source\":{\"id\":\"d9985ecb-f419-404b-9b54-b66dfdc5c2d1\",\"type\":\"ColumnDataSource\"}},\"id\":\"8223e0d3-4b5b-4ed8-975d-57dfb73ea22a\",\"type\":\"CDSView\"},{\"attributes\":{\"below\":[{\"id\":\"7f495785-f8d8-417f-b995-f7378f0581d1\",\"type\":\"LinearAxis\"}],\"left\":[{\"id\":\"507c36ae-3082-4bca-ba4a-5873d13ff47c\",\"type\":\"LinearAxis\"}],\"plot_height\":400,\"plot_width\":400,\"renderers\":[{\"id\":\"7f495785-f8d8-417f-b995-f7378f0581d1\",\"type\":\"LinearAxis\"},{\"id\":\"5b3cbd93-17a5-4d7f-8c8b-6a6976fdd18a\",\"type\":\"Grid\"},{\"id\":\"507c36ae-3082-4bca-ba4a-5873d13ff47c\",\"type\":\"LinearAxis\"},{\"id\":\"fa11b9ad-e41a-4a6b-b82b-e8657545e517\",\"type\":\"Grid\"},{\"id\":\"0ba0cb71-0c65-465c-9ec7-68805ad76d57\",\"type\":\"BoxAnnotation\"},{\"id\":\"497825b8-62f5-4dce-8546-8337dcccb2f8\",\"type\":\"GlyphRenderer\"},{\"id\":\"7437f423-b734-4353-8bb6-499c4d2c2844\",\"type\":\"GlyphRenderer\"},{\"id\":\"562ede22-a53b-4d04-b02d-26c23a2a379c\",\"type\":\"GlyphRenderer\"},{\"id\":\"7e31e44d-2f70-4838-8d4d-bd91ad8ec1e0\",\"type\":\"GlyphRenderer\"},{\"id\":\"849255b0-9674-4135-b0fc-4867f6b997ff\",\"type\":\"GlyphRenderer\"},{\"id\":\"995d28de-44b2-4fe5-b27c-f7511ca3f760\",\"type\":\"GlyphRenderer\"},{\"id\":\"bba5c810-7d79-495a-ae82-cbf6295d092e\",\"type\":\"GlyphRenderer\"},{\"id\":\"73c797c2-2012-4651-9189-f5a50d831886\",\"type\":\"GlyphRenderer\"},{\"id\":\"1e223cac-1232-471b-921a-25860e6db507\",\"type\":\"GlyphRenderer\"},{\"id\":\"e163a356-83d2-4dcf-8eaf-b4afc9f0ad82\",\"type\":\"GlyphRenderer\"}],\"title\":{\"id\":\"c51b2e03-bd61-4555-9d8e-01f98a10734c\",\"type\":\"Title\"},\"toolbar\":{\"id\":\"8f2836ae-ff14-4974-8b9f-988488e70685\",\"type\":\"Toolbar\"},\"x_range\":{\"id\":\"48a6625f-0a90-4d65-94b0-2efaba2b3f52\",\"type\":\"DataRange1d\"},\"x_scale\":{\"id\":\"59902202-b532-4680-bd19-2516bf9a8aef\",\"type\":\"LinearScale\"},\"y_range\":{\"id\":\"955a64e6-4d76-4b86-a753-5b31af92ffc7\",\"type\":\"DataRange1d\"},\"y_scale\":{\"id\":\"5ff5cc28-43a3-455f-bc54-2f31dd1b81cf\",\"type\":\"LinearScale\"}},\"id\":\"8c1dd3ea-52ed-432c-bf67-3632a054e02c\",\"subtype\":\"Figure\",\"type\":\"Plot\"},{\"attributes\":{},\"id\":\"dcda636b-2940-460e-a098-ea6b28c0c4b5\",\"type\":\"LinearScale\"},{\"attributes\":{\"callback\":null,\"column_names\":[\"x\",\"y\"],\"data\":{\"x\":{\"__ndarray__\":\"mpmZmZmZyb8SERERERHBvxIREREREbG/AAAAAAAAAAAQERERERGxPxAREREREcE/mpmZmZmZyT8=\",\"dtype\":\"float64\",\"shape\":[7]},\"y\":{\"__ndarray__\":\"6fAk8tulUMBFS8P254NQwKKlYfvzYVDAAAAAAABAUMBeWp4EDB5QwHRpeRIw+E/ALR62G0i0T8A=\",\"dtype\":\"float64\",\"shape\":[7]}}},\"id\":\"9d36836e-39c6-40a2-aa54-22011e355b36\",\"type\":\"ColumnDataSource\"},{\"attributes\":{\"active_drag\":\"auto\",\"active_inspect\":\"auto\",\"active_scroll\":\"auto\",\"active_tap\":\"auto\",\"tools\":[{\"id\":\"4ac4b140-5be3-48b0-8c0b-563748955805\",\"type\":\"PanTool\"},{\"id\":\"b377902f-fbcf-446d-b923-6f065e161887\",\"type\":\"WheelZoomTool\"},{\"id\":\"4149c42c-4114-4b1f-b992-09ee99f54413\",\"type\":\"BoxZoomTool\"},{\"id\":\"9e62972d-f827-4ad8-97f9-546c681a9d45\",\"type\":\"SaveTool\"},{\"id\":\"ec3fa5b3-4ec4-41e2-8683-8cf9e601109c\",\"type\":\"ResetTool\"},{\"id\":\"3e488c26-e839-4e52-bca2-06d846ecb783\",\"type\":\"HelpTool\"}]},\"id\":\"b62ee3f8-8157-4c04-a267-e7c187ede157\",\"type\":\"Toolbar\"},{\"attributes\":{\"source\":{\"id\":\"9d36836e-39c6-40a2-aa54-22011e355b36\",\"type\":\"ColumnDataSource\"}},\"id\":\"25209d37-84dc-480d-87ec-f497a1462cf1\",\"type\":\"CDSView\"},{\"attributes\":{\"callback\":null},\"id\":\"34449dcb-6847-447f-aeb4-61e2cc28b8a3\",\"type\":\"DataRange1d\"},{\"attributes\":{\"active_drag\":\"auto\",\"active_inspect\":\"auto\",\"active_scroll\":\"auto\",\"active_tap\":\"auto\",\"tools\":[{\"id\":\"801896c5-80d4-4deb-ac69-62ed3dcd1f5a\",\"type\":\"PanTool\"},{\"id\":\"b41322ca-bd37-4191-a580-f37d650a7746\",\"type\":\"WheelZoomTool\"},{\"id\":\"5ff55c91-9931-4672-a53c-a78f4f37fa33\",\"type\":\"BoxZoomTool\"},{\"id\":\"ee27f7f2-2e60-44d9-8414-5114840fb451\",\"type\":\"SaveTool\"},{\"id\":\"fd2108e0-9a7e-48fe-be80-a7e508bdf8a2\",\"type\":\"ResetTool\"},{\"id\":\"3edaaa16-a1a5-44d7-a9bf-24206833b2c0\",\"type\":\"HelpTool\"}]},\"id\":\"8f2836ae-ff14-4974-8b9f-988488e70685\",\"type\":\"Toolbar\"},{\"attributes\":{},\"id\":\"34aa4be3-6731-487e-9495-2b7f1c19649b\",\"type\":\"LinearScale\"},{\"attributes\":{\"callback\":null},\"id\":\"48a6625f-0a90-4d65-94b0-2efaba2b3f52\",\"type\":\"DataRange1d\"},{\"attributes\":{\"callback\":null},\"id\":\"c5a85df6-c59c-424f-8933-96a445329ee6\",\"type\":\"DataRange1d\"},{\"attributes\":{\"line_alpha\":{\"value\":0.1},\"line_color\":{\"value\":\"#1f77b4\"},\"x\":{\"field\":\"x\"},\"y\":{\"field\":\"y\"}},\"id\":\"1831edea-c86c-41a0-8053-784b5f1a4977\",\"type\":\"Line\"},{\"attributes\":{\"line_color\":{\"value\":\"#1f77b4\"},\"x\":{\"field\":\"x\"},\"y\":{\"field\":\"y\"}},\"id\":\"be6cf9cd-1c69-4541-8aaa-c6a4447db801\",\"type\":\"Line\"},{\"attributes\":{\"callback\":null},\"id\":\"955a64e6-4d76-4b86-a753-5b31af92ffc7\",\"type\":\"DataRange1d\"},{\"attributes\":{\"plot\":{\"id\":\"3d34a396-ddb1-403f-b179-0ad637f5b4b7\",\"subtype\":\"Figure\",\"type\":\"Plot\"},\"ticker\":{\"id\":\"30d30f94-c46a-439e-b8d9-4ee555aa1816\",\"type\":\"BasicTicker\"}},\"id\":\"5daa137c-70f8-40ac-917e-e263e885d8ea\",\"type\":\"Grid\"},{\"attributes\":{},\"id\":\"59902202-b532-4680-bd19-2516bf9a8aef\",\"type\":\"LinearScale\"},{\"attributes\":{\"axis_label\":\"Rm (MOhm)\",\"formatter\":{\"id\":\"41b2d5c6-b505-4372-8998-0f6bb7885df9\",\"type\":\"BasicTickFormatter\"},\"plot\":{\"id\":\"3d34a396-ddb1-403f-b179-0ad637f5b4b7\",\"subtype\":\"Figure\",\"type\":\"Plot\"},\"ticker\":{\"id\":\"30d30f94-c46a-439e-b8d9-4ee555aa1816\",\"type\":\"BasicTicker\"}},\"id\":\"a4b503c8-8a84-48af-aa3e-cbabba90068a\",\"type\":\"LinearAxis\"},{\"attributes\":{},\"id\":\"5ff5cc28-43a3-455f-bc54-2f31dd1b81cf\",\"type\":\"LinearScale\"},{\"attributes\":{},\"id\":\"30d30f94-c46a-439e-b8d9-4ee555aa1816\",\"type\":\"BasicTicker\"},{\"attributes\":{\"plot\":{\"id\":\"8c1dd3ea-52ed-432c-bf67-3632a054e02c\",\"subtype\":\"Figure\",\"type\":\"Plot\"},\"ticker\":{\"id\":\"eacb1a3e-4adc-4526-a588-48083e3a1b0c\",\"type\":\"BasicTicker\"}},\"id\":\"5b3cbd93-17a5-4d7f-8c8b-6a6976fdd18a\",\"type\":\"Grid\"},{\"attributes\":{\"axis_label\":\"V-I slope\",\"formatter\":{\"id\":\"b1290f60-bfcc-46db-b6e0-c9112d5a7395\",\"type\":\"BasicTickFormatter\"},\"plot\":{\"id\":\"3d34a396-ddb1-403f-b179-0ad637f5b4b7\",\"subtype\":\"Figure\",\"type\":\"Plot\"},\"ticker\":{\"id\":\"507cb4e9-8730-4452-b8ef-9d52bbbb1ea9\",\"type\":\"BasicTicker\"}},\"id\":\"9941fbed-898c-45da-be06-1e74e04e0113\",\"type\":\"LinearAxis\"},{\"attributes\":{\"axis_label\":\"I (mA)\",\"formatter\":{\"id\":\"0557a897-7c3b-44a0-910e-f68827ae0801\",\"type\":\"BasicTickFormatter\"},\"plot\":{\"id\":\"8c1dd3ea-52ed-432c-bf67-3632a054e02c\",\"subtype\":\"Figure\",\"type\":\"Plot\"},\"ticker\":{\"id\":\"eacb1a3e-4adc-4526-a588-48083e3a1b0c\",\"type\":\"BasicTicker\"}},\"id\":\"7f495785-f8d8-417f-b995-f7378f0581d1\",\"type\":\"LinearAxis\"},{\"attributes\":{},\"id\":\"507cb4e9-8730-4452-b8ef-9d52bbbb1ea9\",\"type\":\"BasicTicker\"},{\"attributes\":{},\"id\":\"eacb1a3e-4adc-4526-a588-48083e3a1b0c\",\"type\":\"BasicTicker\"},{\"attributes\":{\"dimension\":1,\"plot\":{\"id\":\"3d34a396-ddb1-403f-b179-0ad637f5b4b7\",\"subtype\":\"Figure\",\"type\":\"Plot\"},\"ticker\":{\"id\":\"507cb4e9-8730-4452-b8ef-9d52bbbb1ea9\",\"type\":\"BasicTicker\"}},\"id\":\"f08461c0-98bc-4e1d-bfa1-315446ec31e7\",\"type\":\"Grid\"},{\"attributes\":{\"axis_label\":\"mV\",\"formatter\":{\"id\":\"bb893719-39f8-416a-b45b-95ecb10c39ca\",\"type\":\"BasicTickFormatter\"},\"plot\":{\"id\":\"8c1dd3ea-52ed-432c-bf67-3632a054e02c\",\"subtype\":\"Figure\",\"type\":\"Plot\"},\"ticker\":{\"id\":\"037042f4-7ca0-4e90-888b-6a0f2b5ae15e\",\"type\":\"BasicTicker\"}},\"id\":\"507c36ae-3082-4bca-ba4a-5873d13ff47c\",\"type\":\"LinearAxis\"},{\"attributes\":{\"line_alpha\":{\"value\":0.1},\"line_color\":{\"value\":\"#1f77b4\"},\"x\":{\"field\":\"x\"},\"y\":{\"field\":\"y\"}},\"id\":\"4e0e0c82-dd0b-4e26-acb3-2f1898c0c881\",\"type\":\"Line\"},{\"attributes\":{},\"id\":\"037042f4-7ca0-4e90-888b-6a0f2b5ae15e\",\"type\":\"BasicTicker\"},{\"attributes\":{\"dimension\":1,\"plot\":{\"id\":\"8c1dd3ea-52ed-432c-bf67-3632a054e02c\",\"subtype\":\"Figure\",\"type\":\"Plot\"},\"ticker\":{\"id\":\"037042f4-7ca0-4e90-888b-6a0f2b5ae15e\",\"type\":\"BasicTicker\"}},\"id\":\"fa11b9ad-e41a-4a6b-b82b-e8657545e517\",\"type\":\"Grid\"},{\"attributes\":{\"children\":[{\"id\":\"8c1dd3ea-52ed-432c-bf67-3632a054e02c\",\"subtype\":\"Figure\",\"type\":\"Plot\"},{\"id\":\"3d34a396-ddb1-403f-b179-0ad637f5b4b7\",\"subtype\":\"Figure\",\"type\":\"Plot\"}]},\"id\":\"effcb2d0-ee8b-423c-a701-110bf449e03f\",\"type\":\"Row\"},{\"attributes\":{\"data_source\":{\"id\":\"9d36836e-39c6-40a2-aa54-22011e355b36\",\"type\":\"ColumnDataSource\"},\"glyph\":{\"id\":\"ca22b733-802a-467f-8dd4-413a568670eb\",\"type\":\"Line\"},\"hover_glyph\":null,\"muted_glyph\":null,\"nonselection_glyph\":{\"id\":\"1831edea-c86c-41a0-8053-784b5f1a4977\",\"type\":\"Line\"},\"selection_glyph\":null,\"view\":{\"id\":\"25209d37-84dc-480d-87ec-f497a1462cf1\",\"type\":\"CDSView\"}},\"id\":\"497825b8-62f5-4dce-8546-8337dcccb2f8\",\"type\":\"GlyphRenderer\"},{\"attributes\":{\"bottom_units\":\"screen\",\"fill_alpha\":{\"value\":0.5},\"fill_color\":{\"value\":\"lightgrey\"},\"left_units\":\"screen\",\"level\":\"overlay\",\"line_alpha\":{\"value\":1.0},\"line_color\":{\"value\":\"black\"},\"line_dash\":[4,4],\"line_width\":{\"value\":2},\"plot\":null,\"render_mode\":\"css\",\"right_units\":\"screen\",\"top_units\":\"screen\"},\"id\":\"df3645cd-7063-46db-af32-4a83c6d9fe12\",\"type\":\"BoxAnnotation\"},{\"attributes\":{\"line_color\":{\"value\":\"#1b9e77\"},\"x\":{\"field\":\"x\"},\"y\":{\"field\":\"y\"}},\"id\":\"ca22b733-802a-467f-8dd4-413a568670eb\",\"type\":\"Line\"},{\"attributes\":{},\"id\":\"4ac4b140-5be3-48b0-8c0b-563748955805\",\"type\":\"PanTool\"},{\"attributes\":{\"below\":[{\"id\":\"a4b503c8-8a84-48af-aa3e-cbabba90068a\",\"type\":\"LinearAxis\"}],\"left\":[{\"id\":\"9941fbed-898c-45da-be06-1e74e04e0113\",\"type\":\"LinearAxis\"}],\"plot_height\":400,\"plot_width\":400,\"renderers\":[{\"id\":\"a4b503c8-8a84-48af-aa3e-cbabba90068a\",\"type\":\"LinearAxis\"},{\"id\":\"5daa137c-70f8-40ac-917e-e263e885d8ea\",\"type\":\"Grid\"},{\"id\":\"9941fbed-898c-45da-be06-1e74e04e0113\",\"type\":\"LinearAxis\"},{\"id\":\"f08461c0-98bc-4e1d-bfa1-315446ec31e7\",\"type\":\"Grid\"},{\"id\":\"df3645cd-7063-46db-af32-4a83c6d9fe12\",\"type\":\"BoxAnnotation\"},{\"id\":\"de40034e-ceac-488a-8107-7b1d3d907a18\",\"type\":\"GlyphRenderer\"}],\"title\":{\"id\":\"77d67ebc-bb4c-4ec9-8300-f86cc42e7fad\",\"type\":\"Title\"},\"toolbar\":{\"id\":\"b62ee3f8-8157-4c04-a267-e7c187ede157\",\"type\":\"Toolbar\"},\"x_range\":{\"id\":\"c5a85df6-c59c-424f-8933-96a445329ee6\",\"type\":\"DataRange1d\"},\"x_scale\":{\"id\":\"34aa4be3-6731-487e-9495-2b7f1c19649b\",\"type\":\"LinearScale\"},\"y_range\":{\"id\":\"34449dcb-6847-447f-aeb4-61e2cc28b8a3\",\"type\":\"DataRange1d\"},\"y_scale\":{\"id\":\"dcda636b-2940-460e-a098-ea6b28c0c4b5\",\"type\":\"LinearScale\"}},\"id\":\"3d34a396-ddb1-403f-b179-0ad637f5b4b7\",\"subtype\":\"Figure\",\"type\":\"Plot\"},{\"attributes\":{\"source\":{\"id\":\"7235f04c-500d-4a9a-9036-fca63bb39f01\",\"type\":\"ColumnDataSource\"}},\"id\":\"08595e99-c54d-41e7-bc0c-369ef3cbcb25\",\"type\":\"CDSView\"},{\"attributes\":{\"bottom_units\":\"screen\",\"fill_alpha\":{\"value\":0.5},\"fill_color\":{\"value\":\"lightgrey\"},\"left_units\":\"screen\",\"level\":\"overlay\",\"line_alpha\":{\"value\":1.0},\"line_color\":{\"value\":\"black\"},\"line_dash\":[4,4],\"line_width\":{\"value\":2},\"plot\":null,\"render_mode\":\"css\",\"right_units\":\"screen\",\"top_units\":\"screen\"},\"id\":\"0ba0cb71-0c65-465c-9ec7-68805ad76d57\",\"type\":\"BoxAnnotation\"},{\"attributes\":{},\"id\":\"b377902f-fbcf-446d-b923-6f065e161887\",\"type\":\"WheelZoomTool\"},{\"attributes\":{},\"id\":\"801896c5-80d4-4deb-ac69-62ed3dcd1f5a\",\"type\":\"PanTool\"},{\"attributes\":{\"overlay\":{\"id\":\"df3645cd-7063-46db-af32-4a83c6d9fe12\",\"type\":\"BoxAnnotation\"}},\"id\":\"4149c42c-4114-4b1f-b992-09ee99f54413\",\"type\":\"BoxZoomTool\"},{\"attributes\":{\"line_color\":{\"value\":\"#d95f02\"},\"x\":{\"field\":\"x\"},\"y\":{\"field\":\"y\"}},\"id\":\"ccfb5d60-9777-4fae-9fb0-fcb9c3545978\",\"type\":\"Line\"},{\"attributes\":{},\"id\":\"9e62972d-f827-4ad8-97f9-546c681a9d45\",\"type\":\"SaveTool\"},{\"attributes\":{},\"id\":\"b41322ca-bd37-4191-a580-f37d650a7746\",\"type\":\"WheelZoomTool\"},{\"attributes\":{},\"id\":\"ec3fa5b3-4ec4-41e2-8683-8cf9e601109c\",\"type\":\"ResetTool\"},{\"attributes\":{\"overlay\":{\"id\":\"0ba0cb71-0c65-465c-9ec7-68805ad76d57\",\"type\":\"BoxAnnotation\"}},\"id\":\"5ff55c91-9931-4672-a53c-a78f4f37fa33\",\"type\":\"BoxZoomTool\"},{\"attributes\":{},\"id\":\"3e488c26-e839-4e52-bca2-06d846ecb783\",\"type\":\"HelpTool\"},{\"attributes\":{},\"id\":\"ee27f7f2-2e60-44d9-8414-5114840fb451\",\"type\":\"SaveTool\"},{\"attributes\":{\"line_color\":{\"value\":\"#7570b3\"},\"x\":{\"field\":\"x\"},\"y\":{\"field\":\"y\"}},\"id\":\"a3f57a14-0a74-4bd6-99a1-1193d13c1651\",\"type\":\"Line\"},{\"attributes\":{},\"id\":\"41b2d5c6-b505-4372-8998-0f6bb7885df9\",\"type\":\"BasicTickFormatter\"},{\"attributes\":{},\"id\":\"fd2108e0-9a7e-48fe-be80-a7e508bdf8a2\",\"type\":\"ResetTool\"},{\"attributes\":{},\"id\":\"3edaaa16-a1a5-44d7-a9bf-24206833b2c0\",\"type\":\"HelpTool\"},{\"attributes\":{\"plot\":null,\"text\":\"\"},\"id\":\"77d67ebc-bb4c-4ec9-8300-f86cc42e7fad\",\"type\":\"Title\"},{\"attributes\":{\"callback\":null,\"column_names\":[\"x\",\"y\"],\"data\":{\"x\":{\"__ndarray__\":\"mpmZmZmZyb8SERERERHBvxIREREREbG/AAAAAAAAAAAQERERERGxPxAREREREcE/mpmZmZmZyT8=\",\"dtype\":\"float64\",\"shape\":[7]},\"y\":{\"__ndarray__\":\"iQCeAx8OUcCvVWkCaslQwNaqNAG1hFDAAAAAAABAUMBRqpb9lfZPwJ1ULfsrbU/A6v7D+MHjTsA=\",\"dtype\":\"float64\",\"shape\":[7]}}},\"id\":\"f378e35e-3c15-42e6-ab63-67f8013738c9\",\"type\":\"ColumnDataSource\"},{\"attributes\":{\"plot\":null,\"text\":\"\"},\"id\":\"c51b2e03-bd61-4555-9d8e-01f98a10734c\",\"type\":\"Title\"},{\"attributes\":{},\"id\":\"b1290f60-bfcc-46db-b6e0-c9112d5a7395\",\"type\":\"BasicTickFormatter\"},{\"attributes\":{},\"id\":\"bb893719-39f8-416a-b45b-95ecb10c39ca\",\"type\":\"BasicTickFormatter\"}],\"root_ids\":[\"340b8215-28b0-43c3-9c20-0c73cb73f8ec\"]},\"title\":\"Bokeh Application\",\"version\":\"0.12.10\"}};\n",
       "    var render_items = [{\"docid\":\"3fd74983-6a47-47c9-8ce4-fbeb8e5b7049\",\"elementid\":\"26b777a7-ed32-45ff-bd41-bee8dfdf147f\",\"modelid\":\"340b8215-28b0-43c3-9c20-0c73cb73f8ec\"}];\n",
       "\n",
       "    root.Bokeh.embed.embed_items(docs_json, render_items);\n",
       "  }\n",
       "\n",
       "  if (root.Bokeh !== undefined) {\n",
       "    embed_document(root);\n",
       "  } else {\n",
       "    var attempts = 0;\n",
       "    var timer = setInterval(function(root) {\n",
       "      if (root.Bokeh !== undefined) {\n",
       "        embed_document(root);\n",
       "        clearInterval(timer);\n",
       "      }\n",
       "      attempts++;\n",
       "      if (attempts > 100) {\n",
       "        console.log(\"Bokeh: ERROR: Unable to embed document because BokehJS library is missing\")\n",
       "        clearInterval(timer);\n",
       "      }\n",
       "    }, 10, root)\n",
       "  }\n",
       "})(window);"
      ],
      "application/vnd.bokehjs_exec.v0+json": ""
     },
     "metadata": {
      "application/vnd.bokehjs_exec.v0+json": {
       "id": "340b8215-28b0-43c3-9c20-0c73cb73f8ec"
      }
     },
     "output_type": "display_data"
    }
   ],
   "source": [
    "# V-I slope vs Rm\n",
    "Rms = np.logspace(2,5,num=50)\n",
    "V_ss = np.zeros([I.shape[0],50])\n",
    "slope = np.zeros([50,])\n",
    "for i, Rm in enumerate(list(Rms)):  \n",
    "    V_ss[:,i], slope[i] = get_VI(20,Rm,1)\n",
    "    \n",
    "VI = bkp.figure(plot_height=400,plot_width=400)\n",
    "for i, color in zip(range(0,50,5),colors):\n",
    "    VI.line(I,V_ss[:,i],color=color)\n",
    "VI.xaxis.axis_label=\"I (mA)\"\n",
    "VI.yaxis.axis_label=\"mV\"\n",
    "    \n",
    "S = bkp.figure(plot_height=400,plot_width=400)\n",
    "S.yaxis.axis_label=\"V-I slope\"\n",
    "S.xaxis.axis_label=\"Rm (MOhm)\"\n",
    "S.line(Rms,slope)\n",
    "bkp.show(bk.layouts.layout([[VI,S]]))\n",
    "\n",
    "# V-i slope vs Cm"
   ]
  },
  {
   "cell_type": "code",
   "execution_count": 10,
   "metadata": {},
   "outputs": [
    {
     "data": {
      "text/html": [
       "\n",
       "<div class=\"bk-root\">\n",
       "    <div class=\"bk-plotdiv\" id=\"b68e7b10-1e1a-4593-98e1-0ccd303f90ad\"></div>\n",
       "</div>"
      ]
     },
     "metadata": {},
     "output_type": "display_data"
    },
    {
     "data": {
      "application/javascript": [
       "(function(root) {\n",
       "  function embed_document(root) {\n",
       "    var docs_json = {\"bc9736a8-2858-49d6-b919-02983884b429\":{\"roots\":{\"references\":[{\"attributes\":{\"line_alpha\":{\"value\":0.1},\"line_color\":{\"value\":\"#1f77b4\"},\"x\":{\"field\":\"x\"},\"y\":{\"field\":\"y\"}},\"id\":\"e24b7b7c-e49e-4c4c-80e3-ad142310756d\",\"type\":\"Line\"},{\"attributes\":{\"line_alpha\":{\"value\":0.1},\"line_color\":{\"value\":\"#1f77b4\"},\"x\":{\"field\":\"x\"},\"y\":{\"field\":\"y\"}},\"id\":\"04ab2a70-cd68-4918-89d4-07a50de300d2\",\"type\":\"Line\"},{\"attributes\":{\"callback\":null,\"column_names\":[\"x\",\"y\"],\"data\":{\"x\":{\"__ndarray__\":\"exSuR+F6hD//agAOVaG8P7iJhfmmWcs/+G4FtlEx1D8UGUjvz7XaP5hhRRQnneA/prbmMGbf4z+0C4hNpSHnP8JgKWrkY+o/0LXKhiOm7T9vBbZRMXTwP/avBuBQFfI/fVpXbnC28z8EBaj8j1f1P4uv+Iqv+PY/ElpJGc+Z+D+ZBJqn7jr6PyCv6jUO3Ps/p1k7xC19/T8uBIxSTR7/P1pXbnC2XwBAnqyWN0YwAUDhAb/+1QACQCRX58Vl0QJAaKwPjfWhA0CsAThUhXIEQO9WYBsVQwVAMqyI4qQTBkB2AbGpNOQGQLpW2XDEtAdA/asBOFSFCEBAASr/41UJQIRWUsZzJgpAyKt6jQP3CkALAaNUk8cLQE5WyxsjmAxAkqvz4rJoDUDWAByqQjkOQBlWRHHSCQ9AXKtsOGLaD0BQgMr/eFUQQPKqXuPAvRBAlNXyxggmEUA1AIeqUI4RQNcqG46Y9hFAeVWvceBeEkAagENVKMcSQLyq1zhwLxNAXtVrHLiXE0AAAAAAAAAUQA==\",\"dtype\":\"float64\",\"shape\":[50]},\"y\":{\"__ndarray__\":\"FO9w9Xu1LUAL73D1e7UtQADvcPV7tS1AtQdw9Xu1LUCdJrTze7UtQNDrvKh7tS1AoO4EG3i1LUDlBW65Y7UtQHtmCPAatS1A/0ygNV20LUAvQASIz7ItQDWhH4YGsC1As7LjPZOrLUDFv2mTDqUtQN3RO0EhnC1Az9AGKIiQLUBPWD6NFYItQANvFTKwcC1AyHWQHlFcLUBc7IrMAEUtQP1+yynUKi1Au3dlu+kNLUCVHSgLZ+4sQJgz+XB2zCxAEAZ8O0WoLEDV9vsyAoIsQBAiQG3cWSxAxTQ5ZwIwLEBfBFdZoQQsQECSDbzk1ytABSA28/WpK0BwoEIY/HorQCG1f9wbSytAtAfOfXcaK0DgkUXJLukqQPObGShftypA+CnUsyOFKkCTdJ5PlVIqQNX2zcTKHypAf8FW4djsKUB3IRiX0rkpQFjQOxvJhilAyfcUBcxTKUB98xVs6SApQAkrlAQu7ihAPWQqO6W7KEAoHJ1OWYkoQITyMmhTVyhA7Qx+spslKEBrSJtuOfQnQA==\",\"dtype\":\"float64\",\"shape\":[50]}}},\"id\":\"2a494d60-18f4-4e2e-a880-6f4aba7a59db\",\"type\":\"ColumnDataSource\"},{\"attributes\":{\"data_source\":{\"id\":\"e40dbd80-9f66-4dca-b2d4-fe68c4176619\",\"type\":\"ColumnDataSource\"},\"glyph\":{\"id\":\"60c9707d-bac4-4e5a-bfc8-81687364d581\",\"type\":\"Line\"},\"hover_glyph\":null,\"muted_glyph\":null,\"nonselection_glyph\":{\"id\":\"e24b7b7c-e49e-4c4c-80e3-ad142310756d\",\"type\":\"Line\"},\"selection_glyph\":null,\"view\":{\"id\":\"c8df5a05-ed61-4f3e-8ec1-cc687e35d1f9\",\"type\":\"CDSView\"}},\"id\":\"db16d835-6714-4573-ac3f-0bef589f70b2\",\"type\":\"GlyphRenderer\"},{\"attributes\":{\"source\":{\"id\":\"e40dbd80-9f66-4dca-b2d4-fe68c4176619\",\"type\":\"ColumnDataSource\"}},\"id\":\"c8df5a05-ed61-4f3e-8ec1-cc687e35d1f9\",\"type\":\"CDSView\"},{\"attributes\":{\"data_source\":{\"id\":\"2a494d60-18f4-4e2e-a880-6f4aba7a59db\",\"type\":\"ColumnDataSource\"},\"glyph\":{\"id\":\"0276b708-9873-48fe-9f47-e1c80e20248f\",\"type\":\"Line\"},\"hover_glyph\":null,\"muted_glyph\":null,\"nonselection_glyph\":{\"id\":\"d3afaf91-dbc3-42d5-a24e-60ac14403a0d\",\"type\":\"Line\"},\"selection_glyph\":null,\"view\":{\"id\":\"c74b892c-9a8b-44a8-909f-611d737ce2a0\",\"type\":\"CDSView\"}},\"id\":\"e1726f60-46d0-46d4-914c-7239865435a9\",\"type\":\"GlyphRenderer\"},{\"attributes\":{\"data_source\":{\"id\":\"46c44399-c00a-4a62-a38b-4639a207f4df\",\"type\":\"ColumnDataSource\"},\"glyph\":{\"id\":\"28b0b650-a0a6-4e43-b628-33abe5bc9779\",\"type\":\"Line\"},\"hover_glyph\":null,\"muted_glyph\":null,\"nonselection_glyph\":{\"id\":\"04ab2a70-cd68-4918-89d4-07a50de300d2\",\"type\":\"Line\"},\"selection_glyph\":null,\"view\":{\"id\":\"10b2ebd4-9db2-402c-9acc-cacef78989e0\",\"type\":\"CDSView\"}},\"id\":\"50117909-43b7-48ec-ac55-4d01b623a16f\",\"type\":\"GlyphRenderer\"},{\"attributes\":{\"active_drag\":\"auto\",\"active_inspect\":\"auto\",\"active_scroll\":\"auto\",\"active_tap\":\"auto\",\"tools\":[{\"id\":\"5482c88d-0b1b-4ad1-b478-5ea8507dc9fb\",\"type\":\"PanTool\"},{\"id\":\"99148b4e-80d7-4f9d-baea-49769d4189c8\",\"type\":\"WheelZoomTool\"},{\"id\":\"433851e7-363e-4b94-8187-366d0e236e25\",\"type\":\"BoxZoomTool\"},{\"id\":\"cd9eca5c-a3f8-479e-ad5c-7b9522efd43f\",\"type\":\"SaveTool\"},{\"id\":\"3012615f-ecec-4d58-85f8-4361d6f063f5\",\"type\":\"ResetTool\"},{\"id\":\"befc65fd-45c0-48b6-86f7-ab1a2fe2f716\",\"type\":\"HelpTool\"}]},\"id\":\"7015fc42-5502-4713-99ea-98308b705760\",\"type\":\"Toolbar\"},{\"attributes\":{\"below\":[{\"id\":\"340b2c8c-b808-4659-b854-e93d7d38f892\",\"type\":\"LinearAxis\"}],\"left\":[{\"id\":\"2cad0911-7a72-4069-b1a8-87f60a5095a2\",\"type\":\"LinearAxis\"}],\"plot_height\":400,\"plot_width\":400,\"renderers\":[{\"id\":\"340b2c8c-b808-4659-b854-e93d7d38f892\",\"type\":\"LinearAxis\"},{\"id\":\"465d864b-97d1-431f-bfcb-22b15b4a5da7\",\"type\":\"Grid\"},{\"id\":\"2cad0911-7a72-4069-b1a8-87f60a5095a2\",\"type\":\"LinearAxis\"},{\"id\":\"2a9a4e3f-e3df-475b-8437-94c440e16ab5\",\"type\":\"Grid\"},{\"id\":\"46a20dad-1105-4b63-810f-e21ea43b9fad\",\"type\":\"BoxAnnotation\"},{\"id\":\"09d43fb5-9314-46ca-8271-3e08530dbc85\",\"type\":\"GlyphRenderer\"},{\"id\":\"50117909-43b7-48ec-ac55-4d01b623a16f\",\"type\":\"GlyphRenderer\"},{\"id\":\"fbeae305-a854-4d76-b8fc-639576d5012e\",\"type\":\"GlyphRenderer\"},{\"id\":\"6844428f-6432-4253-bc62-53261fe396c0\",\"type\":\"GlyphRenderer\"},{\"id\":\"9dca5c0b-b4d0-489a-9830-dca645279a80\",\"type\":\"GlyphRenderer\"},{\"id\":\"64ef2bf5-c1fc-4f69-9c48-673130b5ed63\",\"type\":\"GlyphRenderer\"},{\"id\":\"14db2ac3-0138-4db0-ab04-de347829bbad\",\"type\":\"GlyphRenderer\"},{\"id\":\"a62afed7-316e-45fd-af18-47a915f27ae7\",\"type\":\"GlyphRenderer\"},{\"id\":\"20cb9e2b-520b-4364-8d4f-3010766f520c\",\"type\":\"GlyphRenderer\"},{\"id\":\"db16d835-6714-4573-ac3f-0bef589f70b2\",\"type\":\"GlyphRenderer\"}],\"title\":{\"id\":\"d3ca89dc-3bf9-4446-a1da-3b1d4dece05e\",\"type\":\"Title\"},\"toolbar\":{\"id\":\"0be745f8-e988-4eb4-99b4-680c5758f291\",\"type\":\"Toolbar\"},\"x_range\":{\"id\":\"e9b993e2-ba92-4e7f-a30a-6d563c273359\",\"type\":\"DataRange1d\"},\"x_scale\":{\"id\":\"bfc2b716-48e3-4182-9a8d-61f65782c434\",\"type\":\"LinearScale\"},\"y_range\":{\"id\":\"6f7c4d43-e119-45e1-9117-b06a0ce033ed\",\"type\":\"DataRange1d\"},\"y_scale\":{\"id\":\"1fd45356-83d8-43c5-9305-4a8492dc53bf\",\"type\":\"LinearScale\"}},\"id\":\"ddf9db01-e044-495c-b31c-dbfffcdc52af\",\"subtype\":\"Figure\",\"type\":\"Plot\"},{\"attributes\":{},\"id\":\"6aa6b319-ed91-4695-b83e-8f902e1290ff\",\"type\":\"LinearScale\"},{\"attributes\":{\"callback\":null,\"column_names\":[\"x\",\"y\"],\"data\":{\"x\":{\"__ndarray__\":\"mpmZmZmZyb8SERERERHBvxIREREREbG/AAAAAAAAAAAQERERERGxPxAREREREcE/mpmZmZmZyT8=\",\"dtype\":\"float64\",\"shape\":[7]},\"y\":{\"__ndarray__\":\"p1kKfA5kW8DFO1z9Xq1XwOIdrn6v9lPAAAAAAABAUMA8xKMCoRJJwHeIRwVCpUHAYpnWD8ZvNMA=\",\"dtype\":\"float64\",\"shape\":[7]}}},\"id\":\"e750bbad-5238-49c8-bfe5-02393a77d7ac\",\"type\":\"ColumnDataSource\"},{\"attributes\":{\"children\":[{\"id\":\"69a9742f-486e-41b2-ba2c-9865334d35f2\",\"type\":\"Row\"}]},\"id\":\"d70e4898-1348-485c-9e72-86281ff3b7db\",\"type\":\"Column\"},{\"attributes\":{\"source\":{\"id\":\"e750bbad-5238-49c8-bfe5-02393a77d7ac\",\"type\":\"ColumnDataSource\"}},\"id\":\"0e4d315f-a79e-4ab0-bf9c-65febc27dbf5\",\"type\":\"CDSView\"},{\"attributes\":{\"callback\":null},\"id\":\"456c4428-d87b-47f1-9bd1-26343d41bce1\",\"type\":\"DataRange1d\"},{\"attributes\":{\"active_drag\":\"auto\",\"active_inspect\":\"auto\",\"active_scroll\":\"auto\",\"active_tap\":\"auto\",\"tools\":[{\"id\":\"b4dab07a-6100-4734-9f5c-4d873b86dc14\",\"type\":\"PanTool\"},{\"id\":\"52ee1187-bdcf-4519-9ce0-4b2f8e79074d\",\"type\":\"WheelZoomTool\"},{\"id\":\"3c6b2075-64fb-4bc5-a079-e40ab61f6da3\",\"type\":\"BoxZoomTool\"},{\"id\":\"148c4703-04f5-429f-a47b-5d89bc31185f\",\"type\":\"SaveTool\"},{\"id\":\"0156889d-51f1-4f5f-a314-4a11d4994f83\",\"type\":\"ResetTool\"},{\"id\":\"ee88c89f-ae9f-4dfa-aa9c-a7d77c8a7a2d\",\"type\":\"HelpTool\"}]},\"id\":\"0be745f8-e988-4eb4-99b4-680c5758f291\",\"type\":\"Toolbar\"},{\"attributes\":{},\"id\":\"e968ccd9-17c6-450e-a0c2-d545ef7e77e4\",\"type\":\"LinearScale\"},{\"attributes\":{\"callback\":null},\"id\":\"e9b993e2-ba92-4e7f-a30a-6d563c273359\",\"type\":\"DataRange1d\"},{\"attributes\":{\"callback\":null},\"id\":\"9dd661e7-7ace-49a3-8e0d-f2bbd2f7a4d1\",\"type\":\"DataRange1d\"},{\"attributes\":{\"line_alpha\":{\"value\":0.1},\"line_color\":{\"value\":\"#1f77b4\"},\"x\":{\"field\":\"x\"},\"y\":{\"field\":\"y\"}},\"id\":\"221153cd-d0e7-4db3-bc30-fcc465fc5e62\",\"type\":\"Line\"},{\"attributes\":{\"line_color\":{\"value\":\"#1f77b4\"},\"x\":{\"field\":\"x\"},\"y\":{\"field\":\"y\"}},\"id\":\"0276b708-9873-48fe-9f47-e1c80e20248f\",\"type\":\"Line\"},{\"attributes\":{\"callback\":null},\"id\":\"6f7c4d43-e119-45e1-9117-b06a0ce033ed\",\"type\":\"DataRange1d\"},{\"attributes\":{\"plot\":{\"id\":\"67949094-c5e3-4ddd-b0ca-70e50d7e6fc1\",\"subtype\":\"Figure\",\"type\":\"Plot\"},\"ticker\":{\"id\":\"cf480a32-3819-4273-aff7-054e864a928a\",\"type\":\"BasicTicker\"}},\"id\":\"92bec085-8b2e-4280-9e31-9a8d1c99d55a\",\"type\":\"Grid\"},{\"attributes\":{},\"id\":\"bfc2b716-48e3-4182-9a8d-61f65782c434\",\"type\":\"LinearScale\"},{\"attributes\":{\"axis_label\":\"Cm (pF)\",\"formatter\":{\"id\":\"dd7eb8cf-df8c-4ca3-a941-e58c82beb760\",\"type\":\"BasicTickFormatter\"},\"plot\":{\"id\":\"67949094-c5e3-4ddd-b0ca-70e50d7e6fc1\",\"subtype\":\"Figure\",\"type\":\"Plot\"},\"ticker\":{\"id\":\"cf480a32-3819-4273-aff7-054e864a928a\",\"type\":\"BasicTicker\"}},\"id\":\"adfe4c76-fd1f-407a-858c-ec3e056f52f2\",\"type\":\"LinearAxis\"},{\"attributes\":{},\"id\":\"1fd45356-83d8-43c5-9305-4a8492dc53bf\",\"type\":\"LinearScale\"},{\"attributes\":{},\"id\":\"cf480a32-3819-4273-aff7-054e864a928a\",\"type\":\"BasicTicker\"},{\"attributes\":{\"plot\":{\"id\":\"ddf9db01-e044-495c-b31c-dbfffcdc52af\",\"subtype\":\"Figure\",\"type\":\"Plot\"},\"ticker\":{\"id\":\"d3a5d485-719c-4392-83a8-ed1bbf0d1a52\",\"type\":\"BasicTicker\"}},\"id\":\"465d864b-97d1-431f-bfcb-22b15b4a5da7\",\"type\":\"Grid\"},{\"attributes\":{\"axis_label\":\"V-I slope\",\"formatter\":{\"id\":\"a1372d94-b0ed-448d-9b78-4e1b3c671a96\",\"type\":\"BasicTickFormatter\"},\"plot\":{\"id\":\"67949094-c5e3-4ddd-b0ca-70e50d7e6fc1\",\"subtype\":\"Figure\",\"type\":\"Plot\"},\"ticker\":{\"id\":\"41aaf296-8491-4cbd-8e66-9aff7d5c1ca4\",\"type\":\"BasicTicker\"}},\"id\":\"d0a50635-b715-4a0c-82cf-34dd87b1d50f\",\"type\":\"LinearAxis\"},{\"attributes\":{\"axis_label\":\"I (mA)\",\"formatter\":{\"id\":\"ea2427dd-66e8-47be-afac-0cd1337c9988\",\"type\":\"BasicTickFormatter\"},\"plot\":{\"id\":\"ddf9db01-e044-495c-b31c-dbfffcdc52af\",\"subtype\":\"Figure\",\"type\":\"Plot\"},\"ticker\":{\"id\":\"d3a5d485-719c-4392-83a8-ed1bbf0d1a52\",\"type\":\"BasicTicker\"}},\"id\":\"340b2c8c-b808-4659-b854-e93d7d38f892\",\"type\":\"LinearAxis\"},{\"attributes\":{},\"id\":\"41aaf296-8491-4cbd-8e66-9aff7d5c1ca4\",\"type\":\"BasicTicker\"},{\"attributes\":{},\"id\":\"d3a5d485-719c-4392-83a8-ed1bbf0d1a52\",\"type\":\"BasicTicker\"},{\"attributes\":{\"dimension\":1,\"plot\":{\"id\":\"67949094-c5e3-4ddd-b0ca-70e50d7e6fc1\",\"subtype\":\"Figure\",\"type\":\"Plot\"},\"ticker\":{\"id\":\"41aaf296-8491-4cbd-8e66-9aff7d5c1ca4\",\"type\":\"BasicTicker\"}},\"id\":\"3594d457-0f22-4dc8-b58c-a25d52658f65\",\"type\":\"Grid\"},{\"attributes\":{\"axis_label\":\"mV\",\"formatter\":{\"id\":\"3730f3bc-f8c4-43a9-b027-abc28964f4b1\",\"type\":\"BasicTickFormatter\"},\"plot\":{\"id\":\"ddf9db01-e044-495c-b31c-dbfffcdc52af\",\"subtype\":\"Figure\",\"type\":\"Plot\"},\"ticker\":{\"id\":\"395a400f-5aa3-4fb1-b4c2-f36fabfce0ea\",\"type\":\"BasicTicker\"}},\"id\":\"2cad0911-7a72-4069-b1a8-87f60a5095a2\",\"type\":\"LinearAxis\"},{\"attributes\":{\"line_alpha\":{\"value\":0.1},\"line_color\":{\"value\":\"#1f77b4\"},\"x\":{\"field\":\"x\"},\"y\":{\"field\":\"y\"}},\"id\":\"d3afaf91-dbc3-42d5-a24e-60ac14403a0d\",\"type\":\"Line\"},{\"attributes\":{},\"id\":\"395a400f-5aa3-4fb1-b4c2-f36fabfce0ea\",\"type\":\"BasicTicker\"},{\"attributes\":{\"dimension\":1,\"plot\":{\"id\":\"ddf9db01-e044-495c-b31c-dbfffcdc52af\",\"subtype\":\"Figure\",\"type\":\"Plot\"},\"ticker\":{\"id\":\"395a400f-5aa3-4fb1-b4c2-f36fabfce0ea\",\"type\":\"BasicTicker\"}},\"id\":\"2a9a4e3f-e3df-475b-8437-94c440e16ab5\",\"type\":\"Grid\"},{\"attributes\":{\"children\":[{\"id\":\"ddf9db01-e044-495c-b31c-dbfffcdc52af\",\"subtype\":\"Figure\",\"type\":\"Plot\"},{\"id\":\"67949094-c5e3-4ddd-b0ca-70e50d7e6fc1\",\"subtype\":\"Figure\",\"type\":\"Plot\"}]},\"id\":\"69a9742f-486e-41b2-ba2c-9865334d35f2\",\"type\":\"Row\"},{\"attributes\":{\"data_source\":{\"id\":\"e750bbad-5238-49c8-bfe5-02393a77d7ac\",\"type\":\"ColumnDataSource\"},\"glyph\":{\"id\":\"f226b3be-858a-4ae9-aef8-9d2eda801c75\",\"type\":\"Line\"},\"hover_glyph\":null,\"muted_glyph\":null,\"nonselection_glyph\":{\"id\":\"221153cd-d0e7-4db3-bc30-fcc465fc5e62\",\"type\":\"Line\"},\"selection_glyph\":null,\"view\":{\"id\":\"0e4d315f-a79e-4ab0-bf9c-65febc27dbf5\",\"type\":\"CDSView\"}},\"id\":\"09d43fb5-9314-46ca-8271-3e08530dbc85\",\"type\":\"GlyphRenderer\"},{\"attributes\":{\"bottom_units\":\"screen\",\"fill_alpha\":{\"value\":0.5},\"fill_color\":{\"value\":\"lightgrey\"},\"left_units\":\"screen\",\"level\":\"overlay\",\"line_alpha\":{\"value\":1.0},\"line_color\":{\"value\":\"black\"},\"line_dash\":[4,4],\"line_width\":{\"value\":2},\"plot\":null,\"render_mode\":\"css\",\"right_units\":\"screen\",\"top_units\":\"screen\"},\"id\":\"442d24fd-16b2-47bf-bb06-a49633092f0b\",\"type\":\"BoxAnnotation\"},{\"attributes\":{\"line_color\":{\"value\":\"#1b9e77\"},\"x\":{\"field\":\"x\"},\"y\":{\"field\":\"y\"}},\"id\":\"f226b3be-858a-4ae9-aef8-9d2eda801c75\",\"type\":\"Line\"},{\"attributes\":{},\"id\":\"5482c88d-0b1b-4ad1-b478-5ea8507dc9fb\",\"type\":\"PanTool\"},{\"attributes\":{\"below\":[{\"id\":\"adfe4c76-fd1f-407a-858c-ec3e056f52f2\",\"type\":\"LinearAxis\"}],\"left\":[{\"id\":\"d0a50635-b715-4a0c-82cf-34dd87b1d50f\",\"type\":\"LinearAxis\"}],\"plot_height\":400,\"plot_width\":400,\"renderers\":[{\"id\":\"adfe4c76-fd1f-407a-858c-ec3e056f52f2\",\"type\":\"LinearAxis\"},{\"id\":\"92bec085-8b2e-4280-9e31-9a8d1c99d55a\",\"type\":\"Grid\"},{\"id\":\"d0a50635-b715-4a0c-82cf-34dd87b1d50f\",\"type\":\"LinearAxis\"},{\"id\":\"3594d457-0f22-4dc8-b58c-a25d52658f65\",\"type\":\"Grid\"},{\"id\":\"442d24fd-16b2-47bf-bb06-a49633092f0b\",\"type\":\"BoxAnnotation\"},{\"id\":\"e1726f60-46d0-46d4-914c-7239865435a9\",\"type\":\"GlyphRenderer\"}],\"title\":{\"id\":\"124c7bd9-448f-4a5b-9513-dcc4bf92e1b4\",\"type\":\"Title\"},\"toolbar\":{\"id\":\"7015fc42-5502-4713-99ea-98308b705760\",\"type\":\"Toolbar\"},\"x_range\":{\"id\":\"9dd661e7-7ace-49a3-8e0d-f2bbd2f7a4d1\",\"type\":\"DataRange1d\"},\"x_scale\":{\"id\":\"e968ccd9-17c6-450e-a0c2-d545ef7e77e4\",\"type\":\"LinearScale\"},\"y_range\":{\"id\":\"456c4428-d87b-47f1-9bd1-26343d41bce1\",\"type\":\"DataRange1d\"},\"y_scale\":{\"id\":\"6aa6b319-ed91-4695-b83e-8f902e1290ff\",\"type\":\"LinearScale\"}},\"id\":\"67949094-c5e3-4ddd-b0ca-70e50d7e6fc1\",\"subtype\":\"Figure\",\"type\":\"Plot\"},{\"attributes\":{\"source\":{\"id\":\"2a494d60-18f4-4e2e-a880-6f4aba7a59db\",\"type\":\"ColumnDataSource\"}},\"id\":\"c74b892c-9a8b-44a8-909f-611d737ce2a0\",\"type\":\"CDSView\"},{\"attributes\":{\"bottom_units\":\"screen\",\"fill_alpha\":{\"value\":0.5},\"fill_color\":{\"value\":\"lightgrey\"},\"left_units\":\"screen\",\"level\":\"overlay\",\"line_alpha\":{\"value\":1.0},\"line_color\":{\"value\":\"black\"},\"line_dash\":[4,4],\"line_width\":{\"value\":2},\"plot\":null,\"render_mode\":\"css\",\"right_units\":\"screen\",\"top_units\":\"screen\"},\"id\":\"46a20dad-1105-4b63-810f-e21ea43b9fad\",\"type\":\"BoxAnnotation\"},{\"attributes\":{},\"id\":\"99148b4e-80d7-4f9d-baea-49769d4189c8\",\"type\":\"WheelZoomTool\"},{\"attributes\":{},\"id\":\"b4dab07a-6100-4734-9f5c-4d873b86dc14\",\"type\":\"PanTool\"},{\"attributes\":{\"overlay\":{\"id\":\"442d24fd-16b2-47bf-bb06-a49633092f0b\",\"type\":\"BoxAnnotation\"}},\"id\":\"433851e7-363e-4b94-8187-366d0e236e25\",\"type\":\"BoxZoomTool\"},{\"attributes\":{\"line_color\":{\"value\":\"#66a61e\"},\"x\":{\"field\":\"x\"},\"y\":{\"field\":\"y\"}},\"id\":\"b88c43e0-5302-4f0d-8463-16913a0c9cfe\",\"type\":\"Line\"},{\"attributes\":{},\"id\":\"cd9eca5c-a3f8-479e-ad5c-7b9522efd43f\",\"type\":\"SaveTool\"},{\"attributes\":{},\"id\":\"52ee1187-bdcf-4519-9ce0-4b2f8e79074d\",\"type\":\"WheelZoomTool\"},{\"attributes\":{},\"id\":\"3012615f-ecec-4d58-85f8-4361d6f063f5\",\"type\":\"ResetTool\"},{\"attributes\":{\"overlay\":{\"id\":\"46a20dad-1105-4b63-810f-e21ea43b9fad\",\"type\":\"BoxAnnotation\"}},\"id\":\"3c6b2075-64fb-4bc5-a079-e40ab61f6da3\",\"type\":\"BoxZoomTool\"},{\"attributes\":{},\"id\":\"befc65fd-45c0-48b6-86f7-ab1a2fe2f716\",\"type\":\"HelpTool\"},{\"attributes\":{},\"id\":\"148c4703-04f5-429f-a47b-5d89bc31185f\",\"type\":\"SaveTool\"},{\"attributes\":{},\"id\":\"dd7eb8cf-df8c-4ca3-a941-e58c82beb760\",\"type\":\"BasicTickFormatter\"},{\"attributes\":{},\"id\":\"0156889d-51f1-4f5f-a314-4a11d4994f83\",\"type\":\"ResetTool\"},{\"attributes\":{},\"id\":\"ee88c89f-ae9f-4dfa-aa9c-a7d77c8a7a2d\",\"type\":\"HelpTool\"},{\"attributes\":{\"plot\":null,\"text\":\"\"},\"id\":\"124c7bd9-448f-4a5b-9513-dcc4bf92e1b4\",\"type\":\"Title\"},{\"attributes\":{\"line_color\":{\"value\":\"#1b9e77\"},\"x\":{\"field\":\"x\"},\"y\":{\"field\":\"y\"}},\"id\":\"9d632b50-5add-42c0-b216-48334d2c6a74\",\"type\":\"Line\"},{\"attributes\":{\"plot\":null,\"text\":\"\"},\"id\":\"d3ca89dc-3bf9-4446-a1da-3b1d4dece05e\",\"type\":\"Title\"},{\"attributes\":{},\"id\":\"ea2427dd-66e8-47be-afac-0cd1337c9988\",\"type\":\"BasicTickFormatter\"},{\"attributes\":{},\"id\":\"3730f3bc-f8c4-43a9-b027-abc28964f4b1\",\"type\":\"BasicTickFormatter\"},{\"attributes\":{},\"id\":\"a1372d94-b0ed-448d-9b78-4e1b3c671a96\",\"type\":\"BasicTickFormatter\"},{\"attributes\":{\"callback\":null,\"column_names\":[\"x\",\"y\"],\"data\":{\"x\":{\"__ndarray__\":\"mpmZmZmZyb8SERERERHBvxIREREREbG/AAAAAAAAAAAQERERERGxPxAREREREcE/mpmZmZmZyT8=\",\"dtype\":\"float64\",\"shape\":[7]},\"y\":{\"__ndarray__\":\"EZgB0w1jW8AREAHis6xXwASIAPFZ9lPAAAAAAABAUMDw7/4dTBNJwOjf/TuYpkHAuJ/5s8hzNMA=\",\"dtype\":\"float64\",\"shape\":[7]}}},\"id\":\"ef5e858f-a135-418e-8274-849d0b61e35f\",\"type\":\"ColumnDataSource\"},{\"attributes\":{\"callback\":null,\"column_names\":[\"x\",\"y\"],\"data\":{\"x\":{\"__ndarray__\":\"mpmZmZmZyb8SERERERHBvxIREREREbG/AAAAAAAAAAAQERERERGxPxAREREREcE/mpmZmZmZyT8=\",\"dtype\":\"float64\",\"shape\":[7]},\"y\":{\"__ndarray__\":\"bthGXw5kW8D1Oi/qXq1XwHqdF3Wv9lPAAAAAAABAUMAMxdAVoRJJwB2KoStCpUHATJ7kgsZvNMA=\",\"dtype\":\"float64\",\"shape\":[7]}}},\"id\":\"46c44399-c00a-4a62-a38b-4639a207f4df\",\"type\":\"ColumnDataSource\"},{\"attributes\":{\"line_color\":{\"value\":\"#d95f02\"},\"x\":{\"field\":\"x\"},\"y\":{\"field\":\"y\"}},\"id\":\"28b0b650-a0a6-4e43-b628-33abe5bc9779\",\"type\":\"Line\"},{\"attributes\":{\"line_color\":{\"value\":\"#e7298a\"},\"x\":{\"field\":\"x\"},\"y\":{\"field\":\"y\"}},\"id\":\"bcd4f306-0cca-4979-8e5f-8297da76896b\",\"type\":\"Line\"},{\"attributes\":{\"source\":{\"id\":\"46c44399-c00a-4a62-a38b-4639a207f4df\",\"type\":\"ColumnDataSource\"}},\"id\":\"10b2ebd4-9db2-402c-9acc-cacef78989e0\",\"type\":\"CDSView\"},{\"attributes\":{\"line_alpha\":{\"value\":0.1},\"line_color\":{\"value\":\"#1f77b4\"},\"x\":{\"field\":\"x\"},\"y\":{\"field\":\"y\"}},\"id\":\"ad5a9ac1-398e-437f-9f83-c36614219667\",\"type\":\"Line\"},{\"attributes\":{\"line_color\":{\"value\":\"#7570b3\"},\"x\":{\"field\":\"x\"},\"y\":{\"field\":\"y\"}},\"id\":\"75bde697-2d35-4404-85dc-8f6e097c2f80\",\"type\":\"Line\"},{\"attributes\":{\"callback\":null,\"column_names\":[\"x\",\"y\"],\"data\":{\"x\":{\"__ndarray__\":\"mpmZmZmZyb8SERERERHBvxIREREREbG/AAAAAAAAAAAQERERERGxPxAREREREcE/mpmZmZmZyT8=\",\"dtype\":\"float64\",\"shape\":[7]},\"y\":{\"__ndarray__\":\"S44CDzNWW8AutAEKIqRXwBzaAAUR8lPAAAAAAABAUMDOS/713RtJwJaX/Ou7t0HAwMb1wzOnNMA=\",\"dtype\":\"float64\",\"shape\":[7]}}},\"id\":\"df3b9cee-88b0-4fc4-875b-008aaab5cd5c\",\"type\":\"ColumnDataSource\"},{\"attributes\":{\"data_source\":{\"id\":\"ef5e858f-a135-418e-8274-849d0b61e35f\",\"type\":\"ColumnDataSource\"},\"glyph\":{\"id\":\"75bde697-2d35-4404-85dc-8f6e097c2f80\",\"type\":\"Line\"},\"hover_glyph\":null,\"muted_glyph\":null,\"nonselection_glyph\":{\"id\":\"ad5a9ac1-398e-437f-9f83-c36614219667\",\"type\":\"Line\"},\"selection_glyph\":null,\"view\":{\"id\":\"99486280-5fb5-4741-9789-f0cacd759e3f\",\"type\":\"CDSView\"}},\"id\":\"fbeae305-a854-4d76-b8fc-639576d5012e\",\"type\":\"GlyphRenderer\"},{\"attributes\":{\"source\":{\"id\":\"ef5e858f-a135-418e-8274-849d0b61e35f\",\"type\":\"ColumnDataSource\"}},\"id\":\"99486280-5fb5-4741-9789-f0cacd759e3f\",\"type\":\"CDSView\"},{\"attributes\":{\"line_color\":{\"value\":\"#7570b3\"},\"x\":{\"field\":\"x\"},\"y\":{\"field\":\"y\"}},\"id\":\"a328bd90-4ea4-4c8a-8cb0-8dc8466dd25f\",\"type\":\"Line\"},{\"attributes\":{\"source\":{\"id\":\"df3b9cee-88b0-4fc4-875b-008aaab5cd5c\",\"type\":\"ColumnDataSource\"}},\"id\":\"e5940c50-3cff-4f96-bb3d-c37cff650a1b\",\"type\":\"CDSView\"},{\"attributes\":{\"callback\":null,\"column_names\":[\"x\",\"y\"],\"data\":{\"x\":{\"__ndarray__\":\"mpmZmZmZyb8SERERERHBvxIREREREbG/AAAAAAAAAAAQERERERGxPxAREREREcE/mpmZmZmZyT8=\",\"dtype\":\"float64\",\"shape\":[7]},\"y\":{\"__ndarray__\":\"m0+sjw8wW8DA33IKtYpXwORvOYVa5VPAAAAAAABAUMA8II31SjVJwHlAGuuV6kHAcsFOwcE/NcA=\",\"dtype\":\"float64\",\"shape\":[7]}}},\"id\":\"0d9d61bf-c912-4677-8642-8d4c45abde7e\",\"type\":\"ColumnDataSource\"},{\"attributes\":{\"line_alpha\":{\"value\":0.1},\"line_color\":{\"value\":\"#1f77b4\"},\"x\":{\"field\":\"x\"},\"y\":{\"field\":\"y\"}},\"id\":\"1ec5a779-1caf-4aaf-8485-a77aa598cf48\",\"type\":\"Line\"},{\"attributes\":{\"data_source\":{\"id\":\"df3b9cee-88b0-4fc4-875b-008aaab5cd5c\",\"type\":\"ColumnDataSource\"},\"glyph\":{\"id\":\"bcd4f306-0cca-4979-8e5f-8297da76896b\",\"type\":\"Line\"},\"hover_glyph\":null,\"muted_glyph\":null,\"nonselection_glyph\":{\"id\":\"1ec5a779-1caf-4aaf-8485-a77aa598cf48\",\"type\":\"Line\"},\"selection_glyph\":null,\"view\":{\"id\":\"e5940c50-3cff-4f96-bb3d-c37cff650a1b\",\"type\":\"CDSView\"}},\"id\":\"6844428f-6432-4253-bc62-53261fe396c0\",\"type\":\"GlyphRenderer\"},{\"attributes\":{\"source\":{\"id\":\"0d9d61bf-c912-4677-8642-8d4c45abde7e\",\"type\":\"ColumnDataSource\"}},\"id\":\"bf1e07b3-4a8c-4f49-a80d-23561ef9b634\",\"type\":\"CDSView\"},{\"attributes\":{\"data_source\":{\"id\":\"0d9d61bf-c912-4677-8642-8d4c45abde7e\",\"type\":\"ColumnDataSource\"},\"glyph\":{\"id\":\"b88c43e0-5302-4f0d-8463-16913a0c9cfe\",\"type\":\"Line\"},\"hover_glyph\":null,\"muted_glyph\":null,\"nonselection_glyph\":{\"id\":\"63fb4bfa-ee93-4271-8c9c-bfd24b79efb3\",\"type\":\"Line\"},\"selection_glyph\":null,\"view\":{\"id\":\"bf1e07b3-4a8c-4f49-a80d-23561ef9b634\",\"type\":\"CDSView\"}},\"id\":\"9dca5c0b-b4d0-489a-9830-dca645279a80\",\"type\":\"GlyphRenderer\"},{\"attributes\":{\"callback\":null,\"column_names\":[\"x\",\"y\"],\"data\":{\"x\":{\"__ndarray__\":\"mpmZmZmZyb8SERERERHBvxIREREREbG/AAAAAAAAAAAQERERERGxPxAREREREcE/mpmZmZmZyT8=\",\"dtype\":\"float64\",\"shape\":[7]},\"y\":{\"__ndarray__\":\"j3we08DwWsCz/b6MgGBXwNx+X0ZA0FPAAAAAAABAUMBHAkFzf19JwIoEgub+PkLAuw2Gs/w8NsA=\",\"dtype\":\"float64\",\"shape\":[7]}}},\"id\":\"ae44f4f7-5d7f-4a46-824d-d6773f518904\",\"type\":\"ColumnDataSource\"},{\"attributes\":{\"line_color\":{\"value\":\"#d95f02\"},\"x\":{\"field\":\"x\"},\"y\":{\"field\":\"y\"}},\"id\":\"06e4924f-3325-47aa-9076-3f65d2b2d1c8\",\"type\":\"Line\"},{\"attributes\":{\"line_alpha\":{\"value\":0.1},\"line_color\":{\"value\":\"#1f77b4\"},\"x\":{\"field\":\"x\"},\"y\":{\"field\":\"y\"}},\"id\":\"63fb4bfa-ee93-4271-8c9c-bfd24b79efb3\",\"type\":\"Line\"},{\"attributes\":{\"data_source\":{\"id\":\"ae44f4f7-5d7f-4a46-824d-d6773f518904\",\"type\":\"ColumnDataSource\"},\"glyph\":{\"id\":\"9d632b50-5add-42c0-b216-48334d2c6a74\",\"type\":\"Line\"},\"hover_glyph\":null,\"muted_glyph\":null,\"nonselection_glyph\":{\"id\":\"bf5672cd-a1c7-4eb8-940e-aa95cc482ca8\",\"type\":\"Line\"},\"selection_glyph\":null,\"view\":{\"id\":\"6b4d26da-e793-42cc-ad66-35b58f71d365\",\"type\":\"CDSView\"}},\"id\":\"64ef2bf5-c1fc-4f69-9c48-673130b5ed63\",\"type\":\"GlyphRenderer\"},{\"attributes\":{\"line_alpha\":{\"value\":0.1},\"line_color\":{\"value\":\"#1f77b4\"},\"x\":{\"field\":\"x\"},\"y\":{\"field\":\"y\"}},\"id\":\"bf5672cd-a1c7-4eb8-940e-aa95cc482ca8\",\"type\":\"Line\"},{\"attributes\":{\"callback\":null,\"column_names\":[\"x\",\"y\"],\"data\":{\"x\":{\"__ndarray__\":\"mpmZmZmZyb8SERERERHBvxIREREREbG/AAAAAAAAAAAQERERERGxPxAREREREcE/mpmZmZmZyT8=\",\"dtype\":\"float64\",\"shape\":[7]},\"y\":{\"__ndarray__\":\"Akw0O7yfWsABiM18fSpXwPzDZr4+tVPAAAAAAABAUMD5dzKDgpVJwPvvZAYFq0LA9c8uEw+BN8A=\",\"dtype\":\"float64\",\"shape\":[7]}}},\"id\":\"ee1ed11c-145d-4155-8e54-efef15191dbd\",\"type\":\"ColumnDataSource\"},{\"attributes\":{\"source\":{\"id\":\"ae44f4f7-5d7f-4a46-824d-d6773f518904\",\"type\":\"ColumnDataSource\"}},\"id\":\"6b4d26da-e793-42cc-ad66-35b58f71d365\",\"type\":\"CDSView\"},{\"attributes\":{\"line_color\":{\"value\":\"#66a61e\"},\"x\":{\"field\":\"x\"},\"y\":{\"field\":\"y\"}},\"id\":\"60c9707d-bac4-4e5a-bfc8-81687364d581\",\"type\":\"Line\"},{\"attributes\":{\"line_alpha\":{\"value\":0.1},\"line_color\":{\"value\":\"#1f77b4\"},\"x\":{\"field\":\"x\"},\"y\":{\"field\":\"y\"}},\"id\":\"72035503-b6fb-465a-8cd6-59fe002ea18b\",\"type\":\"Line\"},{\"attributes\":{\"line_color\":{\"value\":\"#e7298a\"},\"x\":{\"field\":\"x\"},\"y\":{\"field\":\"y\"}},\"id\":\"e3401602-865c-450f-9df7-9c57cad40e71\",\"type\":\"Line\"},{\"attributes\":{\"callback\":null,\"column_names\":[\"x\",\"y\"],\"data\":{\"x\":{\"__ndarray__\":\"mpmZmZmZyb8SERERERHBvxIREREREbG/AAAAAAAAAAAQERERERGxPxAREREREcE/mpmZmZmZyT8=\",\"dtype\":\"float64\",\"shape\":[7]},\"y\":{\"__ndarray__\":\"eZoJr8NEWsD3ZgbK1+1WwIIzA+XrllPAAAAAAABAUMADmfk1KNJJwP0x82tQJEPAC5bZQ/HsOMA=\",\"dtype\":\"float64\",\"shape\":[7]}}},\"id\":\"5369f74d-aa65-4d01-bdff-b6cfca6d392a\",\"type\":\"ColumnDataSource\"},{\"attributes\":{\"data_source\":{\"id\":\"ee1ed11c-145d-4155-8e54-efef15191dbd\",\"type\":\"ColumnDataSource\"},\"glyph\":{\"id\":\"06e4924f-3325-47aa-9076-3f65d2b2d1c8\",\"type\":\"Line\"},\"hover_glyph\":null,\"muted_glyph\":null,\"nonselection_glyph\":{\"id\":\"72035503-b6fb-465a-8cd6-59fe002ea18b\",\"type\":\"Line\"},\"selection_glyph\":null,\"view\":{\"id\":\"5e3033d2-e11a-4337-8c9a-288df7813ed5\",\"type\":\"CDSView\"}},\"id\":\"14db2ac3-0138-4db0-ab04-de347829bbad\",\"type\":\"GlyphRenderer\"},{\"attributes\":{\"source\":{\"id\":\"ee1ed11c-145d-4155-8e54-efef15191dbd\",\"type\":\"ColumnDataSource\"}},\"id\":\"5e3033d2-e11a-4337-8c9a-288df7813ed5\",\"type\":\"CDSView\"},{\"attributes\":{\"line_alpha\":{\"value\":0.1},\"line_color\":{\"value\":\"#1f77b4\"},\"x\":{\"field\":\"x\"},\"y\":{\"field\":\"y\"}},\"id\":\"a5cf7e67-e130-46bc-a309-61d3b72b2c76\",\"type\":\"Line\"},{\"attributes\":{\"source\":{\"id\":\"5369f74d-aa65-4d01-bdff-b6cfca6d392a\",\"type\":\"ColumnDataSource\"}},\"id\":\"dce4d432-3315-43f9-b24d-9c9332f40a7f\",\"type\":\"CDSView\"},{\"attributes\":{\"callback\":null,\"column_names\":[\"x\",\"y\"],\"data\":{\"x\":{\"__ndarray__\":\"mpmZmZmZyb8SERERERHBvxIREREREbG/AAAAAAAAAAAQERERERGxPxAREREREcE/mpmZmZmZyT8=\",\"dtype\":\"float64\",\"shape\":[7]},\"y\":{\"__ndarray__\":\"iQyp+K7lWcBdCMaldK5WwC8E41I6d1PAAAAAAABAUMCe9zlaixFKwD3vc7QWo0PAv81bHURpOsA=\",\"dtype\":\"float64\",\"shape\":[7]}}},\"id\":\"685b7d40-309f-415a-a918-4934d36d240d\",\"type\":\"ColumnDataSource\"},{\"attributes\":{\"line_alpha\":{\"value\":0.1},\"line_color\":{\"value\":\"#1f77b4\"},\"x\":{\"field\":\"x\"},\"y\":{\"field\":\"y\"}},\"id\":\"482e5bd1-4be2-4faf-b3ac-f0160f4c32ac\",\"type\":\"Line\"},{\"attributes\":{\"data_source\":{\"id\":\"5369f74d-aa65-4d01-bdff-b6cfca6d392a\",\"type\":\"ColumnDataSource\"},\"glyph\":{\"id\":\"a328bd90-4ea4-4c8a-8cb0-8dc8466dd25f\",\"type\":\"Line\"},\"hover_glyph\":null,\"muted_glyph\":null,\"nonselection_glyph\":{\"id\":\"482e5bd1-4be2-4faf-b3ac-f0160f4c32ac\",\"type\":\"Line\"},\"selection_glyph\":null,\"view\":{\"id\":\"dce4d432-3315-43f9-b24d-9c9332f40a7f\",\"type\":\"CDSView\"}},\"id\":\"a62afed7-316e-45fd-af18-47a915f27ae7\",\"type\":\"GlyphRenderer\"},{\"attributes\":{\"source\":{\"id\":\"685b7d40-309f-415a-a918-4934d36d240d\",\"type\":\"ColumnDataSource\"}},\"id\":\"58514d45-cb4f-412f-ae3a-77c7ded1418c\",\"type\":\"CDSView\"},{\"attributes\":{\"data_source\":{\"id\":\"685b7d40-309f-415a-a918-4934d36d240d\",\"type\":\"ColumnDataSource\"},\"glyph\":{\"id\":\"e3401602-865c-450f-9df7-9c57cad40e71\",\"type\":\"Line\"},\"hover_glyph\":null,\"muted_glyph\":null,\"nonselection_glyph\":{\"id\":\"a5cf7e67-e130-46bc-a309-61d3b72b2c76\",\"type\":\"Line\"},\"selection_glyph\":null,\"view\":{\"id\":\"58514d45-cb4f-412f-ae3a-77c7ded1418c\",\"type\":\"CDSView\"}},\"id\":\"20cb9e2b-520b-4364-8d4f-3010766f520c\",\"type\":\"GlyphRenderer\"},{\"attributes\":{\"callback\":null,\"column_names\":[\"x\",\"y\"],\"data\":{\"x\":{\"__ndarray__\":\"mpmZmZmZyb8SERERERHBvxIREREREbG/AAAAAAAAAAAQERERERGxPxAREREREcE/mpmZmZmZyT8=\",\"dtype\":\"float64\",\"shape\":[7]},\"y\":{\"__ndarray__\":\"kuUv9l2GWcAJmcpO6W5WwIhMZad0V1PAAAAAAABAUMDvZjWxFlFKwNzNamItIkTAjmlAJ4jmO8A=\",\"dtype\":\"float64\",\"shape\":[7]}}},\"id\":\"e40dbd80-9f66-4dca-b2d4-fe68c4176619\",\"type\":\"ColumnDataSource\"}],\"root_ids\":[\"d70e4898-1348-485c-9e72-86281ff3b7db\"]},\"title\":\"Bokeh Application\",\"version\":\"0.12.10\"}};\n",
       "    var render_items = [{\"docid\":\"bc9736a8-2858-49d6-b919-02983884b429\",\"elementid\":\"b68e7b10-1e1a-4593-98e1-0ccd303f90ad\",\"modelid\":\"d70e4898-1348-485c-9e72-86281ff3b7db\"}];\n",
       "\n",
       "    root.Bokeh.embed.embed_items(docs_json, render_items);\n",
       "  }\n",
       "\n",
       "  if (root.Bokeh !== undefined) {\n",
       "    embed_document(root);\n",
       "  } else {\n",
       "    var attempts = 0;\n",
       "    var timer = setInterval(function(root) {\n",
       "      if (root.Bokeh !== undefined) {\n",
       "        embed_document(root);\n",
       "        clearInterval(timer);\n",
       "      }\n",
       "      attempts++;\n",
       "      if (attempts > 100) {\n",
       "        console.log(\"Bokeh: ERROR: Unable to embed document because BokehJS library is missing\")\n",
       "        clearInterval(timer);\n",
       "      }\n",
       "    }, 10, root)\n",
       "  }\n",
       "})(window);"
      ],
      "application/vnd.bokehjs_exec.v0+json": ""
     },
     "metadata": {
      "application/vnd.bokehjs_exec.v0+json": {
       "id": "d70e4898-1348-485c-9e72-86281ff3b7db"
      }
     },
     "output_type": "display_data"
    }
   ],
   "source": [
    "# V-i slope vs Cm\n",
    "cms = np.linspace(.01,5,num=50)\n",
    "V_ss = np.zeros([I.shape[0],50])\n",
    "slope = np.zeros([50,])\n",
    "for i, cm in enumerate(list(cms)):  \n",
    "    V_ss[:,i], slope[i] = get_VI(20,2800,cm)\n",
    "    \n",
    "VI = bkp.figure(plot_height=400,plot_width=400)\n",
    "for i, color in zip(range(0,50,5),colors):\n",
    "    #if i%5==0:\n",
    "    VI.line(I,V_ss[:,i],color=color)\n",
    "VI.xaxis.axis_label=\"I (mA)\"\n",
    "VI.yaxis.axis_label=\"mV\"\n",
    "    \n",
    "S = bkp.figure(plot_height=400,plot_width=400)\n",
    "S.yaxis.axis_label=\"V-I slope\"\n",
    "S.xaxis.axis_label=\"Cm (pF)\"\n",
    "S.line(cms,slope)\n",
    "bkp.show(bk.layouts.layout([[VI,S]]))\n",
    "\n"
   ]
  },
  {
   "cell_type": "markdown",
   "metadata": {},
   "source": [
    "# Dynamics\n",
    "## V_1/2 analysis\n"
   ]
  },
  {
   "cell_type": "code",
   "execution_count": 11,
   "metadata": {
    "collapsed": true
   },
   "outputs": [],
   "source": [
    "I = [.2]\n",
    "def get_Vhalf(diam,Rm,cm):\n",
    "    cell = branched_cable()\n",
    "    cell.make_cable(diam,diam,nseg = 1,Rm=Rm,cm=cm)\n",
    "    cell.add_IClamp('cable',.5,.001,500,delay = 20)\n",
    "    cell.recording_vecs([['cable',.5,'v']])\n",
    "\n",
    "    t, results = run_current_clamp(cell,'iclamp',I,tstop=700)\n",
    "    vArr =  results['cable:0.50:v']\n",
    "    \n",
    "    vZero = vArr+65\n",
    "    ss_ind = np.where(t>520)[0][0]\n",
    "    V_ss = vZero[ss_ind]\n",
    "    V_half = .5*V_ss\n",
    "    tau = np.where(vZero>V_half)[0][0]/t.size*80. -20\n",
    "    \n",
    "    return vArr, tau"
   ]
  },
  {
   "cell_type": "code",
   "execution_count": 12,
   "metadata": {},
   "outputs": [
    {
     "data": {
      "text/html": [
       "\n",
       "<div class=\"bk-root\">\n",
       "    <div class=\"bk-plotdiv\" id=\"74912ed2-3643-402f-9606-91f072e3f126\"></div>\n",
       "</div>"
      ]
     },
     "metadata": {},
     "output_type": "display_data"
    },
    {
     "data": {
      "application/javascript": [
       "(function(root) {\n",
       "  function embed_document(root) {\n",
       "    var docs_json = {\"3a2e222c-26d2-4978-bd15-5819d51983e6\":{\"roots\":{\"references\":[{\"attributes\":{},\"id\":\"cb146fc2-e5e0-4739-b21d-366b6bf1a176\",\"type\":\"PanTool\"},{\"attributes\":{\"source\":{\"id\":\"bb61ba41-8fb2-42c9-9f5e-84c2b4728454\",\"type\":\"ColumnDataSource\"}},\"id\":\"3624ff9b-8627-4ab1-a4cb-bcfe528a43b1\",\"type\":\"CDSView\"},{\"attributes\":{\"below\":[{\"id\":\"700501f0-4df4-4fe6-bda3-01ee40e9179e\",\"type\":\"LinearAxis\"}],\"left\":[{\"id\":\"400c78fc-d7b5-4ee2-a928-03bcdb87e869\",\"type\":\"LinearAxis\"}],\"plot_height\":400,\"plot_width\":400,\"renderers\":[{\"id\":\"700501f0-4df4-4fe6-bda3-01ee40e9179e\",\"type\":\"LinearAxis\"},{\"id\":\"2fced31f-e655-4c51-a56c-1236ef49a2cc\",\"type\":\"Grid\"},{\"id\":\"400c78fc-d7b5-4ee2-a928-03bcdb87e869\",\"type\":\"LinearAxis\"},{\"id\":\"756033ca-662e-4814-af13-754a5a4df181\",\"type\":\"Grid\"},{\"id\":\"0c42bdbe-5871-41d7-8ea0-24b8f113eb36\",\"type\":\"BoxAnnotation\"},{\"id\":\"a6f9ec91-71f3-4c5b-9e2b-8e09209c0017\",\"type\":\"GlyphRenderer\"}],\"title\":{\"id\":\"59a46403-553b-43c8-bd27-72a201d526b9\",\"type\":\"Title\"},\"toolbar\":{\"id\":\"e9dbb742-38dc-48a7-ba70-0f764cd392a1\",\"type\":\"Toolbar\"},\"x_range\":{\"id\":\"0b4795b4-1d65-472e-8ca6-abe61f8a8c25\",\"type\":\"DataRange1d\"},\"x_scale\":{\"id\":\"38ff4c5d-c1af-44cb-bd41-94ab92d90701\",\"type\":\"LinearScale\"},\"y_range\":{\"id\":\"6657582d-20bc-4a87-ba15-58578b7b4c7c\",\"type\":\"DataRange1d\"},\"y_scale\":{\"id\":\"0fddb24b-8f65-4a84-b89d-0ad845680337\",\"type\":\"LinearScale\"}},\"id\":\"f381d53f-33e6-4add-898b-d5e234c985c0\",\"subtype\":\"Figure\",\"type\":\"Plot\"},{\"attributes\":{\"active_drag\":\"auto\",\"active_inspect\":\"auto\",\"active_scroll\":\"auto\",\"active_tap\":\"auto\",\"tools\":[{\"id\":\"cb146fc2-e5e0-4739-b21d-366b6bf1a176\",\"type\":\"PanTool\"},{\"id\":\"d40933e0-7061-4454-b49f-c0f8e28efcc2\",\"type\":\"WheelZoomTool\"},{\"id\":\"12cde64f-2311-498d-b977-62340ec5a93b\",\"type\":\"BoxZoomTool\"},{\"id\":\"fecde9ae-e97a-4bd9-b802-d42d8b8206ad\",\"type\":\"SaveTool\"},{\"id\":\"9f895fc5-d5e7-418f-8571-b1b7dc407ccf\",\"type\":\"ResetTool\"},{\"id\":\"5518e592-6519-4105-87e2-17e92fffdb8a\",\"type\":\"HelpTool\"}]},\"id\":\"e9dbb742-38dc-48a7-ba70-0f764cd392a1\",\"type\":\"Toolbar\"},{\"attributes\":{\"plot\":null,\"text\":\"\"},\"id\":\"59a46403-553b-43c8-bd27-72a201d526b9\",\"type\":\"Title\"},{\"attributes\":{},\"id\":\"d40933e0-7061-4454-b49f-c0f8e28efcc2\",\"type\":\"WheelZoomTool\"},{\"attributes\":{\"overlay\":{\"id\":\"0c42bdbe-5871-41d7-8ea0-24b8f113eb36\",\"type\":\"BoxAnnotation\"}},\"id\":\"12cde64f-2311-498d-b977-62340ec5a93b\",\"type\":\"BoxZoomTool\"},{\"attributes\":{},\"id\":\"fecde9ae-e97a-4bd9-b802-d42d8b8206ad\",\"type\":\"SaveTool\"},{\"attributes\":{\"callback\":null},\"id\":\"0b4795b4-1d65-472e-8ca6-abe61f8a8c25\",\"type\":\"DataRange1d\"},{\"attributes\":{},\"id\":\"0fddb24b-8f65-4a84-b89d-0ad845680337\",\"type\":\"LinearScale\"},{\"attributes\":{},\"id\":\"9f895fc5-d5e7-418f-8571-b1b7dc407ccf\",\"type\":\"ResetTool\"},{\"attributes\":{},\"id\":\"38ff4c5d-c1af-44cb-bd41-94ab92d90701\",\"type\":\"LinearScale\"},{\"attributes\":{},\"id\":\"5518e592-6519-4105-87e2-17e92fffdb8a\",\"type\":\"HelpTool\"},{\"attributes\":{\"line_alpha\":{\"value\":0.1},\"line_color\":{\"value\":\"#1f77b4\"},\"x\":{\"field\":\"x\"},\"y\":{\"field\":\"y\"}},\"id\":\"892b9872-a044-4f52-affa-65ffee0c604f\",\"type\":\"Line\"},{\"attributes\":{\"callback\":null},\"id\":\"6657582d-20bc-4a87-ba15-58578b7b4c7c\",\"type\":\"DataRange1d\"},{\"attributes\":{},\"id\":\"a81214ba-bb57-4222-8d86-056489f1cc07\",\"type\":\"BasicTickFormatter\"},{\"attributes\":{\"plot\":{\"id\":\"f381d53f-33e6-4add-898b-d5e234c985c0\",\"subtype\":\"Figure\",\"type\":\"Plot\"},\"ticker\":{\"id\":\"83716e34-10b9-401e-b867-deaa38f338e4\",\"type\":\"BasicTicker\"}},\"id\":\"2fced31f-e655-4c51-a56c-1236ef49a2cc\",\"type\":\"Grid\"},{\"attributes\":{\"axis_label\":\"diameter\",\"formatter\":{\"id\":\"a81214ba-bb57-4222-8d86-056489f1cc07\",\"type\":\"BasicTickFormatter\"},\"plot\":{\"id\":\"f381d53f-33e6-4add-898b-d5e234c985c0\",\"subtype\":\"Figure\",\"type\":\"Plot\"},\"ticker\":{\"id\":\"83716e34-10b9-401e-b867-deaa38f338e4\",\"type\":\"BasicTicker\"}},\"id\":\"700501f0-4df4-4fe6-bda3-01ee40e9179e\",\"type\":\"LinearAxis\"},{\"attributes\":{},\"id\":\"0a39fab0-0d7a-4d4d-860d-fd783b6ce94d\",\"type\":\"BasicTickFormatter\"},{\"attributes\":{},\"id\":\"83716e34-10b9-401e-b867-deaa38f338e4\",\"type\":\"BasicTicker\"},{\"attributes\":{\"axis_label\":\"tau\",\"formatter\":{\"id\":\"0a39fab0-0d7a-4d4d-860d-fd783b6ce94d\",\"type\":\"BasicTickFormatter\"},\"plot\":{\"id\":\"f381d53f-33e6-4add-898b-d5e234c985c0\",\"subtype\":\"Figure\",\"type\":\"Plot\"},\"ticker\":{\"id\":\"820a4ebc-05c6-4036-bac9-0902c0aea083\",\"type\":\"BasicTicker\"}},\"id\":\"400c78fc-d7b5-4ee2-a928-03bcdb87e869\",\"type\":\"LinearAxis\"},{\"attributes\":{},\"id\":\"820a4ebc-05c6-4036-bac9-0902c0aea083\",\"type\":\"BasicTicker\"},{\"attributes\":{\"dimension\":1,\"plot\":{\"id\":\"f381d53f-33e6-4add-898b-d5e234c985c0\",\"subtype\":\"Figure\",\"type\":\"Plot\"},\"ticker\":{\"id\":\"820a4ebc-05c6-4036-bac9-0902c0aea083\",\"type\":\"BasicTicker\"}},\"id\":\"756033ca-662e-4814-af13-754a5a4df181\",\"type\":\"Grid\"},{\"attributes\":{\"data_source\":{\"id\":\"bb61ba41-8fb2-42c9-9f5e-84c2b4728454\",\"type\":\"ColumnDataSource\"},\"glyph\":{\"id\":\"81cdad10-4a8c-4249-b94c-39b18cfc792b\",\"type\":\"Line\"},\"hover_glyph\":null,\"muted_glyph\":null,\"nonselection_glyph\":{\"id\":\"892b9872-a044-4f52-affa-65ffee0c604f\",\"type\":\"Line\"},\"selection_glyph\":null,\"view\":{\"id\":\"3624ff9b-8627-4ab1-a4cb-bcfe528a43b1\",\"type\":\"CDSView\"}},\"id\":\"a6f9ec91-71f3-4c5b-9e2b-8e09209c0017\",\"type\":\"GlyphRenderer\"},{\"attributes\":{\"line_color\":{\"value\":\"#1f77b4\"},\"x\":{\"field\":\"x\"},\"y\":{\"field\":\"y\"}},\"id\":\"81cdad10-4a8c-4249-b94c-39b18cfc792b\",\"type\":\"Line\"},{\"attributes\":{\"callback\":null,\"column_names\":[\"x\",\"y\"],\"data\":{\"x\":{\"__ndarray__\":\"AAAAAAAAJEDrQ2N9aKwnQNaHxvrQWCtAwsspeDkFL0DWh8b60FgxQMwpeDkFLzNAwsspeDkFNUC3bdu2bds2QKwPjfWhsThAorE+NNaHOkCYU/ByCl48QI31obE+ND5AwsspeDkFQEC8nIKXU/BAQLdt27Zt20FAsj401ofGQkCsD431obFDQKjg5RS8nERAorE+NNaHRUCdgpdT8HJGQJhT8HIKXkdAkiRJkiRJSECN9aGxPjRJQIjG+tBYH0pAg5dT8HIKS0B+aKwPjfVLQHg5BS+n4ExAcwpeTsHLTUBu27Zt27ZOQGmsD431oU9Asj401odGUEAvp+DlFLxQQKwPjfWhMVFAKng5BS+nUUCo4OUUvBxSQCVJkiRJklJAorE+NNYHU0AfGutDY31TQJ2Cl1Pw8lNAGutDY31oVECYU/ByCt5UQBW8nIKXU1VAkiRJkiTJVUAQjfWhsT5WQI31obE+tFZAC15OwcspV0CIxvrQWJ9XQAUvp+DlFFhAg5dT8HKKWEAAAAAAAABZQA==\",\"dtype\":\"float64\",\"shape\":[50]},\"y\":{\"__ndarray__\":\"6MGHX49+McDowYdfj34xwOjBh1+PfjHA6MGHX49+McDowYdfj34xwOjBh1+PfjHA6MGHX49+McDowYdfj34xwOjBh1+PfjHA6MGHX49+McDowYdfj34xwOjBh1+PfjHA6MGHX49+McDowYdfj34xwOjBh1+PfjHA6MGHX49+McDowYdfj34xwOjBh1+PfjHA6MGHX49+McDowYdfj34xwOjBh1+PfjHA6MGHX49+McDowYdfj34xwOjBh1+PfjHA6MGHX49+McDowYdfj34xwOjBh1+PfjHA6MGHX49+McDowYdfj34xwOjBh1+PfjHA6MGHX49+McDowYdfj34xwOjBh1+PfjHA6MGHX49+McDowYdfj34xwOjBh1+PfjHA6MGHX49+McDowYdfj34xwOjBh1+PfjHA6MGHX49+McDowYdfj34xwOjBh1+PfjHA6MGHX49+McDowYdfj34xwOjBh1+PfjHA6MGHX49+McDowYdfj34xwOjBh1+PfjHA6MGHX49+McDowYdfj34xwA==\",\"dtype\":\"float64\",\"shape\":[50]}}},\"id\":\"bb61ba41-8fb2-42c9-9f5e-84c2b4728454\",\"type\":\"ColumnDataSource\"},{\"attributes\":{\"bottom_units\":\"screen\",\"fill_alpha\":{\"value\":0.5},\"fill_color\":{\"value\":\"lightgrey\"},\"left_units\":\"screen\",\"level\":\"overlay\",\"line_alpha\":{\"value\":1.0},\"line_color\":{\"value\":\"black\"},\"line_dash\":[4,4],\"line_width\":{\"value\":2},\"plot\":null,\"render_mode\":\"css\",\"right_units\":\"screen\",\"top_units\":\"screen\"},\"id\":\"0c42bdbe-5871-41d7-8ea0-24b8f113eb36\",\"type\":\"BoxAnnotation\"}],\"root_ids\":[\"f381d53f-33e6-4add-898b-d5e234c985c0\"]},\"title\":\"Bokeh Application\",\"version\":\"0.12.10\"}};\n",
       "    var render_items = [{\"docid\":\"3a2e222c-26d2-4978-bd15-5819d51983e6\",\"elementid\":\"74912ed2-3643-402f-9606-91f072e3f126\",\"modelid\":\"f381d53f-33e6-4add-898b-d5e234c985c0\"}];\n",
       "\n",
       "    root.Bokeh.embed.embed_items(docs_json, render_items);\n",
       "  }\n",
       "\n",
       "  if (root.Bokeh !== undefined) {\n",
       "    embed_document(root);\n",
       "  } else {\n",
       "    var attempts = 0;\n",
       "    var timer = setInterval(function(root) {\n",
       "      if (root.Bokeh !== undefined) {\n",
       "        embed_document(root);\n",
       "        clearInterval(timer);\n",
       "      }\n",
       "      attempts++;\n",
       "      if (attempts > 100) {\n",
       "        console.log(\"Bokeh: ERROR: Unable to embed document because BokehJS library is missing\")\n",
       "        clearInterval(timer);\n",
       "      }\n",
       "    }, 10, root)\n",
       "  }\n",
       "})(window);"
      ],
      "application/vnd.bokehjs_exec.v0+json": ""
     },
     "metadata": {
      "application/vnd.bokehjs_exec.v0+json": {
       "id": "f381d53f-33e6-4add-898b-d5e234c985c0"
      }
     },
     "output_type": "display_data"
    }
   ],
   "source": [
    "# Diam\n",
    "\n",
    "diams = np.linspace(10,100,num=50)\n",
    "tau = np.zeros([50,])\n",
    "for i, diam in enumerate(list(diams)):  \n",
    "    tmp, tau[i] = get_Vhalf(diam,2800,1)\n",
    "    \n",
    "    \n",
    "S = bkp.figure(plot_height=400,plot_width=400)\n",
    "S.yaxis.axis_label=\"tau\"\n",
    "S.xaxis.axis_label=\"diameter\"\n",
    "S.line(diams,tau)\n",
    "bkp.show(S)\n"
   ]
  },
  {
   "cell_type": "code",
   "execution_count": 13,
   "metadata": {},
   "outputs": [
    {
     "data": {
      "text/html": [
       "\n",
       "<div class=\"bk-root\">\n",
       "    <div class=\"bk-plotdiv\" id=\"16ae215f-527b-456d-b1a4-ab33e1f0b84f\"></div>\n",
       "</div>"
      ]
     },
     "metadata": {},
     "output_type": "display_data"
    },
    {
     "data": {
      "application/javascript": [
       "(function(root) {\n",
       "  function embed_document(root) {\n",
       "    var docs_json = {\"7e71b732-ee8b-40ca-81df-3a780cbb4f4e\":{\"roots\":{\"references\":[{\"attributes\":{\"bottom_units\":\"screen\",\"fill_alpha\":{\"value\":0.5},\"fill_color\":{\"value\":\"lightgrey\"},\"left_units\":\"screen\",\"level\":\"overlay\",\"line_alpha\":{\"value\":1.0},\"line_color\":{\"value\":\"black\"},\"line_dash\":[4,4],\"line_width\":{\"value\":2},\"plot\":null,\"render_mode\":\"css\",\"right_units\":\"screen\",\"top_units\":\"screen\"},\"id\":\"93d65f2e-884a-4c4d-868c-a591448a890d\",\"type\":\"BoxAnnotation\"},{\"attributes\":{\"axis_label\":\"tau\",\"formatter\":{\"id\":\"ba55d6e6-47c5-4045-90b2-cd689fcf6890\",\"type\":\"BasicTickFormatter\"},\"plot\":{\"id\":\"ee4d4ffb-0534-4a22-a423-f569e9b4c52f\",\"subtype\":\"Figure\",\"type\":\"Plot\"},\"ticker\":{\"id\":\"a1a47fdc-f31f-405e-8819-c5b5e1701c38\",\"type\":\"BasicTicker\"}},\"id\":\"3eaa68c7-a25a-4a0c-ba4a-fd3811b54f86\",\"type\":\"LinearAxis\"},{\"attributes\":{},\"id\":\"03ec5f78-303d-4e03-b669-843301b4651a\",\"type\":\"LinearScale\"},{\"attributes\":{},\"id\":\"c63a78e3-b9bf-4f75-be38-ff2c748511af\",\"type\":\"ResetTool\"},{\"attributes\":{\"data_source\":{\"id\":\"35c87e0f-65ee-4d53-9c5f-eea6bddd6663\",\"type\":\"ColumnDataSource\"},\"glyph\":{\"id\":\"5cc7bd4e-68c2-4a41-bc41-ea6e16597380\",\"type\":\"Line\"},\"hover_glyph\":null,\"muted_glyph\":null,\"nonselection_glyph\":{\"id\":\"50c4ddfc-dd81-4e8b-8cdd-267dca579d23\",\"type\":\"Line\"},\"selection_glyph\":null,\"view\":{\"id\":\"f451e217-e05a-4de3-a6e2-dcd7a1ad92d3\",\"type\":\"CDSView\"}},\"id\":\"951cc6a9-2420-425c-ac08-ddc8b825010f\",\"type\":\"GlyphRenderer\"},{\"attributes\":{\"plot\":null,\"text\":\"\"},\"id\":\"c36dc2a5-afbf-4d52-9ecf-c842021716dc\",\"type\":\"Title\"},{\"attributes\":{\"axis_label\":\"Rm\",\"formatter\":{\"id\":\"a33af0cf-627b-41fa-8175-49e6389118a5\",\"type\":\"BasicTickFormatter\"},\"plot\":{\"id\":\"ee4d4ffb-0534-4a22-a423-f569e9b4c52f\",\"subtype\":\"Figure\",\"type\":\"Plot\"},\"ticker\":{\"id\":\"fbca37da-6a2b-47f0-ada6-35b906ecdb60\",\"type\":\"BasicTicker\"}},\"id\":\"a3ca35f8-6bea-4c1a-9dea-0fb883309e08\",\"type\":\"LinearAxis\"},{\"attributes\":{\"line_alpha\":{\"value\":0.1},\"line_color\":{\"value\":\"#1f77b4\"},\"x\":{\"field\":\"x\"},\"y\":{\"field\":\"y\"}},\"id\":\"50c4ddfc-dd81-4e8b-8cdd-267dca579d23\",\"type\":\"Line\"},{\"attributes\":{},\"id\":\"a1a47fdc-f31f-405e-8819-c5b5e1701c38\",\"type\":\"BasicTicker\"},{\"attributes\":{},\"id\":\"fbca37da-6a2b-47f0-ada6-35b906ecdb60\",\"type\":\"BasicTicker\"},{\"attributes\":{\"active_drag\":\"auto\",\"active_inspect\":\"auto\",\"active_scroll\":\"auto\",\"active_tap\":\"auto\",\"tools\":[{\"id\":\"13577cae-685c-4f61-9b3d-68cad4800ec6\",\"type\":\"PanTool\"},{\"id\":\"8ef50dc9-3dec-485c-9233-3e2d4fcc66fe\",\"type\":\"WheelZoomTool\"},{\"id\":\"8bf4b500-daba-460b-b9ac-011c36997bbc\",\"type\":\"BoxZoomTool\"},{\"id\":\"ac2cc890-39fe-41f5-a6c5-6b2b541f38b4\",\"type\":\"SaveTool\"},{\"id\":\"c63a78e3-b9bf-4f75-be38-ff2c748511af\",\"type\":\"ResetTool\"},{\"id\":\"b64c2361-6d21-418d-b4ec-189712a8f6e9\",\"type\":\"HelpTool\"}]},\"id\":\"fe856d25-ff5e-4ef1-a69a-7a1b128d92f9\",\"type\":\"Toolbar\"},{\"attributes\":{},\"id\":\"b64c2361-6d21-418d-b4ec-189712a8f6e9\",\"type\":\"HelpTool\"},{\"attributes\":{\"callback\":null},\"id\":\"8fbedd81-a0b7-4a95-9268-90850a5dddfe\",\"type\":\"DataRange1d\"},{\"attributes\":{\"below\":[{\"id\":\"a3ca35f8-6bea-4c1a-9dea-0fb883309e08\",\"type\":\"LinearAxis\"}],\"left\":[{\"id\":\"3eaa68c7-a25a-4a0c-ba4a-fd3811b54f86\",\"type\":\"LinearAxis\"}],\"plot_height\":400,\"plot_width\":400,\"renderers\":[{\"id\":\"a3ca35f8-6bea-4c1a-9dea-0fb883309e08\",\"type\":\"LinearAxis\"},{\"id\":\"8aecfc37-a01b-4bd1-8896-0c9f95d4985e\",\"type\":\"Grid\"},{\"id\":\"3eaa68c7-a25a-4a0c-ba4a-fd3811b54f86\",\"type\":\"LinearAxis\"},{\"id\":\"653b8d34-e992-45ff-9890-f69f9663f6e7\",\"type\":\"Grid\"},{\"id\":\"93d65f2e-884a-4c4d-868c-a591448a890d\",\"type\":\"BoxAnnotation\"},{\"id\":\"951cc6a9-2420-425c-ac08-ddc8b825010f\",\"type\":\"GlyphRenderer\"}],\"title\":{\"id\":\"c36dc2a5-afbf-4d52-9ecf-c842021716dc\",\"type\":\"Title\"},\"toolbar\":{\"id\":\"fe856d25-ff5e-4ef1-a69a-7a1b128d92f9\",\"type\":\"Toolbar\"},\"x_range\":{\"id\":\"d9980d16-d66e-45de-aabe-13c961e34d73\",\"type\":\"DataRange1d\"},\"x_scale\":{\"id\":\"54062a96-c1e5-4db3-a24f-dd17f84e4cdb\",\"type\":\"LinearScale\"},\"y_range\":{\"id\":\"8fbedd81-a0b7-4a95-9268-90850a5dddfe\",\"type\":\"DataRange1d\"},\"y_scale\":{\"id\":\"03ec5f78-303d-4e03-b669-843301b4651a\",\"type\":\"LinearScale\"}},\"id\":\"ee4d4ffb-0534-4a22-a423-f569e9b4c52f\",\"subtype\":\"Figure\",\"type\":\"Plot\"},{\"attributes\":{},\"id\":\"ba55d6e6-47c5-4045-90b2-cd689fcf6890\",\"type\":\"BasicTickFormatter\"},{\"attributes\":{},\"id\":\"8ef50dc9-3dec-485c-9233-3e2d4fcc66fe\",\"type\":\"WheelZoomTool\"},{\"attributes\":{},\"id\":\"ac2cc890-39fe-41f5-a6c5-6b2b541f38b4\",\"type\":\"SaveTool\"},{\"attributes\":{},\"id\":\"a33af0cf-627b-41fa-8175-49e6389118a5\",\"type\":\"BasicTickFormatter\"},{\"attributes\":{\"line_color\":{\"value\":\"#1f77b4\"},\"x\":{\"field\":\"x\"},\"y\":{\"field\":\"y\"}},\"id\":\"5cc7bd4e-68c2-4a41-bc41-ea6e16597380\",\"type\":\"Line\"},{\"attributes\":{\"callback\":null},\"id\":\"d9980d16-d66e-45de-aabe-13c961e34d73\",\"type\":\"DataRange1d\"},{\"attributes\":{\"dimension\":1,\"plot\":{\"id\":\"ee4d4ffb-0534-4a22-a423-f569e9b4c52f\",\"subtype\":\"Figure\",\"type\":\"Plot\"},\"ticker\":{\"id\":\"a1a47fdc-f31f-405e-8819-c5b5e1701c38\",\"type\":\"BasicTicker\"}},\"id\":\"653b8d34-e992-45ff-9890-f69f9663f6e7\",\"type\":\"Grid\"},{\"attributes\":{},\"id\":\"54062a96-c1e5-4db3-a24f-dd17f84e4cdb\",\"type\":\"LinearScale\"},{\"attributes\":{},\"id\":\"13577cae-685c-4f61-9b3d-68cad4800ec6\",\"type\":\"PanTool\"},{\"attributes\":{\"source\":{\"id\":\"35c87e0f-65ee-4d53-9c5f-eea6bddd6663\",\"type\":\"ColumnDataSource\"}},\"id\":\"f451e217-e05a-4de3-a6e2-dcd7a1ad92d3\",\"type\":\"CDSView\"},{\"attributes\":{\"callback\":null,\"column_names\":[\"x\",\"y\"],\"data\":{\"x\":{\"__ndarray__\":\"AAAAAAAAWUB7zOU47shcQBBQLcBGkmBALA5FmYkUY0BUjDG0CPhlQOHLsKN8S2lAb77uhdgfbUABhZ8yUMRwQLBPTVYmTnNAPppbVV46dkDHIqU13Zd5QO9fMUPJd31Ah4vfuvD2gEBAoccIcYiDQJddIEJ8fYZAAS0YZiTliUAkxhqJw9CNQDkMICEqKpFA76H3vWvDk0DyPEnXZMGWQKkrY+1UM5pAILxwecoqnkAXKvUy/l2hQHz2UokY/6NAScLBeBoGp0A6+xWMcYKqQML7bT/hha5AwsFkw26SsUAm/pOEeTu0QAslrZGfS7dAaOAPC33SukBpu94PC+K+QN3Z9qp9x8FAK8DMz5B4xED+FHyU9pHHQNufmDt6I8tAQJI9KUs/z0DtRMbHLP3RQHkSepFgttRAHscC+yHZ10CP4Xn3a3XbQLWz0NOknd9AiXWR/X0z4kDT+Zb26vTkQCVFj0YkIehAsuAYIVXI60AYg8dhG/3vQG6FyzVzavJAEEWwMjI09UAAAAAAAGr4QA==\",\"dtype\":\"float64\",\"shape\":[50]},\"y\":{\"__ndarray__\":\"dEGpD6+0McB0QakPr7QxwN1eeNLzszHA3V540vOzMcBGfEeVOLMxwLCZFlh9sjHAsJkWWH2yMcAZt+UawrExwILUtN0GsTHAVQ9TY5CvMcC+LCIm1a4xwJFnwKterTHAZKJeMeirMcA23fy2caoxwHI1av8/qDHAro3XRw6mMcDr5USQ3KMxwJBbgZvvoDHAn+6MaUedMcCugZg3n5kxwCYyc8g7lTHABwAdHB2QMcBS65UyQ4oxwG8Rrc7ygjHA9lSTLed6McDmtUhPIHIxwKlRnPbiZzHAqEVd5nNbMcAQV+2YSU4xwB7euVYyPjHAaL3zXOkrMcBXEmpusxYxwOzcHIuQ/jDAjzrbdcXiMMCqSHTxlsIwwKckt8BJnTDAhc6j491yMMCBnqeiIUEwwDF38zrQCDDAomHp6W+PL8CW0fQmO/ouwLTu472eTS7Aoy7zua2GLcDaQf2rBKEswACePp+2mSvAXy4wqulqKsBC3krjww4pwCBeadvhgCfARJkEqWm7JcCByrrR5LwjwA==\",\"dtype\":\"float64\",\"shape\":[50]}}},\"id\":\"35c87e0f-65ee-4d53-9c5f-eea6bddd6663\",\"type\":\"ColumnDataSource\"},{\"attributes\":{\"plot\":{\"id\":\"ee4d4ffb-0534-4a22-a423-f569e9b4c52f\",\"subtype\":\"Figure\",\"type\":\"Plot\"},\"ticker\":{\"id\":\"fbca37da-6a2b-47f0-ada6-35b906ecdb60\",\"type\":\"BasicTicker\"}},\"id\":\"8aecfc37-a01b-4bd1-8896-0c9f95d4985e\",\"type\":\"Grid\"},{\"attributes\":{\"overlay\":{\"id\":\"93d65f2e-884a-4c4d-868c-a591448a890d\",\"type\":\"BoxAnnotation\"}},\"id\":\"8bf4b500-daba-460b-b9ac-011c36997bbc\",\"type\":\"BoxZoomTool\"}],\"root_ids\":[\"ee4d4ffb-0534-4a22-a423-f569e9b4c52f\"]},\"title\":\"Bokeh Application\",\"version\":\"0.12.10\"}};\n",
       "    var render_items = [{\"docid\":\"7e71b732-ee8b-40ca-81df-3a780cbb4f4e\",\"elementid\":\"16ae215f-527b-456d-b1a4-ab33e1f0b84f\",\"modelid\":\"ee4d4ffb-0534-4a22-a423-f569e9b4c52f\"}];\n",
       "\n",
       "    root.Bokeh.embed.embed_items(docs_json, render_items);\n",
       "  }\n",
       "\n",
       "  if (root.Bokeh !== undefined) {\n",
       "    embed_document(root);\n",
       "  } else {\n",
       "    var attempts = 0;\n",
       "    var timer = setInterval(function(root) {\n",
       "      if (root.Bokeh !== undefined) {\n",
       "        embed_document(root);\n",
       "        clearInterval(timer);\n",
       "      }\n",
       "      attempts++;\n",
       "      if (attempts > 100) {\n",
       "        console.log(\"Bokeh: ERROR: Unable to embed document because BokehJS library is missing\")\n",
       "        clearInterval(timer);\n",
       "      }\n",
       "    }, 10, root)\n",
       "  }\n",
       "})(window);"
      ],
      "application/vnd.bokehjs_exec.v0+json": ""
     },
     "metadata": {
      "application/vnd.bokehjs_exec.v0+json": {
       "id": "ee4d4ffb-0534-4a22-a423-f569e9b4c52f"
      }
     },
     "output_type": "display_data"
    }
   ],
   "source": [
    "# Vary Rm\n",
    "\n",
    "Rms = np.logspace(2,5,num=50)\n",
    "tau = np.zeros([50,])\n",
    "for i, Rm in enumerate(list(Rms)):  \n",
    "    tmp, tau[i] = get_Vhalf(20,Rm,1)\n",
    "    \n",
    "    \n",
    "S = bkp.figure(plot_height=400,plot_width=400)\n",
    "S.yaxis.axis_label=\"tau\"\n",
    "S.xaxis.axis_label=\"Rm\"\n",
    "S.line(Rms,tau)\n",
    "bkp.show(S)"
   ]
  },
  {
   "cell_type": "code",
   "execution_count": 14,
   "metadata": {},
   "outputs": [
    {
     "data": {
      "text/html": [
       "\n",
       "<div class=\"bk-root\">\n",
       "    <div class=\"bk-plotdiv\" id=\"1869c37e-af10-4c26-990b-bca07bb53630\"></div>\n",
       "</div>"
      ]
     },
     "metadata": {},
     "output_type": "display_data"
    },
    {
     "data": {
      "application/javascript": [
       "(function(root) {\n",
       "  function embed_document(root) {\n",
       "    var docs_json = {\"d6472c40-d8b0-41e4-9bd1-3609826b18ef\":{\"roots\":{\"references\":[{\"attributes\":{},\"id\":\"60899929-5898-4443-83ec-391f273b5e5e\",\"type\":\"BasicTicker\"},{\"attributes\":{\"axis_label\":\"tau\",\"formatter\":{\"id\":\"661f1ec1-5173-4bb4-8090-a3069ffb5941\",\"type\":\"BasicTickFormatter\"},\"plot\":{\"id\":\"92ac4d88-5b5d-46c5-8611-d86eb4a37ec3\",\"subtype\":\"Figure\",\"type\":\"Plot\"},\"ticker\":{\"id\":\"60899929-5898-4443-83ec-391f273b5e5e\",\"type\":\"BasicTicker\"}},\"id\":\"564eb023-10f9-4b1e-8d7c-049f9f2bd047\",\"type\":\"LinearAxis\"},{\"attributes\":{\"overlay\":{\"id\":\"676dca8d-5b04-453f-bb68-d37f0421f170\",\"type\":\"BoxAnnotation\"}},\"id\":\"7cd2f0fe-7b84-4fc7-a46d-e411ead372b4\",\"type\":\"BoxZoomTool\"},{\"attributes\":{\"below\":[{\"id\":\"d3ba8e9d-859a-4780-89ce-e1e3e2600001\",\"type\":\"LinearAxis\"}],\"left\":[{\"id\":\"564eb023-10f9-4b1e-8d7c-049f9f2bd047\",\"type\":\"LinearAxis\"}],\"plot_height\":400,\"plot_width\":400,\"renderers\":[{\"id\":\"d3ba8e9d-859a-4780-89ce-e1e3e2600001\",\"type\":\"LinearAxis\"},{\"id\":\"05b6e1a9-7ca8-4a38-a346-120b74f5fc96\",\"type\":\"Grid\"},{\"id\":\"564eb023-10f9-4b1e-8d7c-049f9f2bd047\",\"type\":\"LinearAxis\"},{\"id\":\"48b98969-c7d2-438c-a567-d14aa3d64165\",\"type\":\"Grid\"},{\"id\":\"676dca8d-5b04-453f-bb68-d37f0421f170\",\"type\":\"BoxAnnotation\"},{\"id\":\"8a92ab12-d33f-4147-b329-3052507faa92\",\"type\":\"GlyphRenderer\"}],\"title\":{\"id\":\"657742ab-8337-462e-91f2-b0b2a4ccb70a\",\"type\":\"Title\"},\"toolbar\":{\"id\":\"e83ec2b3-0166-4221-aabe-a0aadb7abe0b\",\"type\":\"Toolbar\"},\"x_range\":{\"id\":\"a868c20c-9c94-4ffc-8f10-086f40e349de\",\"type\":\"DataRange1d\"},\"x_scale\":{\"id\":\"74b2ec1f-f63c-4b5f-b1f2-ffbe032b3c35\",\"type\":\"LinearScale\"},\"y_range\":{\"id\":\"a1d36e3f-d0fb-47f1-8356-f8daa75b87fb\",\"type\":\"DataRange1d\"},\"y_scale\":{\"id\":\"4d1b8cb7-708c-48be-8062-941c85b1a28e\",\"type\":\"LinearScale\"}},\"id\":\"92ac4d88-5b5d-46c5-8611-d86eb4a37ec3\",\"subtype\":\"Figure\",\"type\":\"Plot\"},{\"attributes\":{\"active_drag\":\"auto\",\"active_inspect\":\"auto\",\"active_scroll\":\"auto\",\"active_tap\":\"auto\",\"tools\":[{\"id\":\"52406956-dc02-4da3-9316-be0145d98c02\",\"type\":\"PanTool\"},{\"id\":\"760f15f5-49d9-48cc-9593-06b77b5808c0\",\"type\":\"WheelZoomTool\"},{\"id\":\"7cd2f0fe-7b84-4fc7-a46d-e411ead372b4\",\"type\":\"BoxZoomTool\"},{\"id\":\"78076bd3-6072-4f53-bfcc-616c801f68bd\",\"type\":\"SaveTool\"},{\"id\":\"b6e4f247-95ca-490d-976e-fc4c3c6beadb\",\"type\":\"ResetTool\"},{\"id\":\"bf374467-b1cc-4781-84f1-01a293afb13a\",\"type\":\"HelpTool\"}]},\"id\":\"e83ec2b3-0166-4221-aabe-a0aadb7abe0b\",\"type\":\"Toolbar\"},{\"attributes\":{\"line_alpha\":{\"value\":0.1},\"line_color\":{\"value\":\"#1f77b4\"},\"x\":{\"field\":\"x\"},\"y\":{\"field\":\"y\"}},\"id\":\"0b7b1394-fd49-4346-ae4c-2e684478f2ca\",\"type\":\"Line\"},{\"attributes\":{},\"id\":\"661f1ec1-5173-4bb4-8090-a3069ffb5941\",\"type\":\"BasicTickFormatter\"},{\"attributes\":{},\"id\":\"3f8bdfb1-8114-4823-8704-d1c5a0e4d72c\",\"type\":\"BasicTicker\"},{\"attributes\":{\"dimension\":1,\"plot\":{\"id\":\"92ac4d88-5b5d-46c5-8611-d86eb4a37ec3\",\"subtype\":\"Figure\",\"type\":\"Plot\"},\"ticker\":{\"id\":\"60899929-5898-4443-83ec-391f273b5e5e\",\"type\":\"BasicTicker\"}},\"id\":\"48b98969-c7d2-438c-a567-d14aa3d64165\",\"type\":\"Grid\"},{\"attributes\":{\"plot\":null,\"text\":\"\"},\"id\":\"657742ab-8337-462e-91f2-b0b2a4ccb70a\",\"type\":\"Title\"},{\"attributes\":{},\"id\":\"b6e4f247-95ca-490d-976e-fc4c3c6beadb\",\"type\":\"ResetTool\"},{\"attributes\":{\"plot\":{\"id\":\"92ac4d88-5b5d-46c5-8611-d86eb4a37ec3\",\"subtype\":\"Figure\",\"type\":\"Plot\"},\"ticker\":{\"id\":\"3f8bdfb1-8114-4823-8704-d1c5a0e4d72c\",\"type\":\"BasicTicker\"}},\"id\":\"05b6e1a9-7ca8-4a38-a346-120b74f5fc96\",\"type\":\"Grid\"},{\"attributes\":{\"axis_label\":\"Cm\",\"formatter\":{\"id\":\"cb3fdf50-0eb5-486a-980b-525f250a3492\",\"type\":\"BasicTickFormatter\"},\"plot\":{\"id\":\"92ac4d88-5b5d-46c5-8611-d86eb4a37ec3\",\"subtype\":\"Figure\",\"type\":\"Plot\"},\"ticker\":{\"id\":\"3f8bdfb1-8114-4823-8704-d1c5a0e4d72c\",\"type\":\"BasicTicker\"}},\"id\":\"d3ba8e9d-859a-4780-89ce-e1e3e2600001\",\"type\":\"LinearAxis\"},{\"attributes\":{\"callback\":null},\"id\":\"a1d36e3f-d0fb-47f1-8356-f8daa75b87fb\",\"type\":\"DataRange1d\"},{\"attributes\":{\"bottom_units\":\"screen\",\"fill_alpha\":{\"value\":0.5},\"fill_color\":{\"value\":\"lightgrey\"},\"left_units\":\"screen\",\"level\":\"overlay\",\"line_alpha\":{\"value\":1.0},\"line_color\":{\"value\":\"black\"},\"line_dash\":[4,4],\"line_width\":{\"value\":2},\"plot\":null,\"render_mode\":\"css\",\"right_units\":\"screen\",\"top_units\":\"screen\"},\"id\":\"676dca8d-5b04-453f-bb68-d37f0421f170\",\"type\":\"BoxAnnotation\"},{\"attributes\":{\"data_source\":{\"id\":\"2fb89a7b-cad4-4963-a028-249cf2f998a2\",\"type\":\"ColumnDataSource\"},\"glyph\":{\"id\":\"46a6034d-e499-497e-8f9c-ae8efa552f7d\",\"type\":\"Line\"},\"hover_glyph\":null,\"muted_glyph\":null,\"nonselection_glyph\":{\"id\":\"0b7b1394-fd49-4346-ae4c-2e684478f2ca\",\"type\":\"Line\"},\"selection_glyph\":null,\"view\":{\"id\":\"7b8fb739-8582-41a7-ae18-5b2d2cdabd51\",\"type\":\"CDSView\"}},\"id\":\"8a92ab12-d33f-4147-b329-3052507faa92\",\"type\":\"GlyphRenderer\"},{\"attributes\":{\"line_color\":{\"value\":\"#1f77b4\"},\"x\":{\"field\":\"x\"},\"y\":{\"field\":\"y\"}},\"id\":\"46a6034d-e499-497e-8f9c-ae8efa552f7d\",\"type\":\"Line\"},{\"attributes\":{},\"id\":\"52406956-dc02-4da3-9316-be0145d98c02\",\"type\":\"PanTool\"},{\"attributes\":{},\"id\":\"4d1b8cb7-708c-48be-8062-941c85b1a28e\",\"type\":\"LinearScale\"},{\"attributes\":{},\"id\":\"cb3fdf50-0eb5-486a-980b-525f250a3492\",\"type\":\"BasicTickFormatter\"},{\"attributes\":{\"callback\":null,\"column_names\":[\"x\",\"y\"],\"data\":{\"x\":{\"__ndarray__\":\"exSuR+F6hD//agAOVaG8P7iJhfmmWcs/+G4FtlEx1D8UGUjvz7XaP5hhRRQnneA/prbmMGbf4z+0C4hNpSHnP8JgKWrkY+o/0LXKhiOm7T9vBbZRMXTwP/avBuBQFfI/fVpXbnC28z8EBaj8j1f1P4uv+Iqv+PY/ElpJGc+Z+D+ZBJqn7jr6PyCv6jUO3Ps/p1k7xC19/T8uBIxSTR7/P1pXbnC2XwBAnqyWN0YwAUDhAb/+1QACQCRX58Vl0QJAaKwPjfWhA0CsAThUhXIEQO9WYBsVQwVAMqyI4qQTBkB2AbGpNOQGQLpW2XDEtAdA/asBOFSFCEBAASr/41UJQIRWUsZzJgpAyKt6jQP3CkALAaNUk8cLQE5WyxsjmAxAkqvz4rJoDUDWAByqQjkOQBlWRHHSCQ9AXKtsOGLaD0BQgMr/eFUQQPKqXuPAvRBAlNXyxggmEUA1AIeqUI4RQNcqG46Y9hFAeVWvceBeEkAagENVKMcSQLyq1zhwLxNAXtVrHLiXE0AAAAAAAAAUQA==\",\"dtype\":\"float64\",\"shape\":[50]},\"y\":{\"__ndarray__\":\"oQYLiiW2McDs8YOgS7AxwM2/LfQsqzHAGKumClOlMcBjlh8heZ8xwK6BmDefmTHA+GwRTsWTMcBDWIpk640xwI5DA3sRiDHA2S58kTeCMcAkGvWnXXwxwG4Fbr6DdjHAUNMXEmVxMcCavpAoi2sxwOWpCT+xZTHAMJWCVddfMcB7gPtr/VkxwMZrdIIjVDHAEFftmElOMcBbQmavb0gxwKYt38WVQjHA8RhY3Ls8McA8BNHy4TYxwB3SekbDMTHAaL3zXOkrMcCzqGxzDyYxwP6T5Yk1IDHASH9eoFsaMcCTate2gRQxwN5VUM2nDjHAKUHJ480IMcB0LEL68wIxwL4XuxAa/TDACQM0J0D3MMDq0N16IfIwwDW8VpFH7DDAgKfPp23mMMDLkki+k+AwwBZ+wdS52jDAYGk669/UMMCrVLMBBs8wwPY/LBgsyTDAQSulLlLDMMCMFh5FeL0wwG3kx5hZuDDAuM9Ar3+yMMADu7nFpawwwE6mMtzLpjDAmJGr8vGgMMDjfCQJGJswwA==\",\"dtype\":\"float64\",\"shape\":[50]}}},\"id\":\"2fb89a7b-cad4-4963-a028-249cf2f998a2\",\"type\":\"ColumnDataSource\"},{\"attributes\":{\"source\":{\"id\":\"2fb89a7b-cad4-4963-a028-249cf2f998a2\",\"type\":\"ColumnDataSource\"}},\"id\":\"7b8fb739-8582-41a7-ae18-5b2d2cdabd51\",\"type\":\"CDSView\"},{\"attributes\":{},\"id\":\"bf374467-b1cc-4781-84f1-01a293afb13a\",\"type\":\"HelpTool\"},{\"attributes\":{},\"id\":\"78076bd3-6072-4f53-bfcc-616c801f68bd\",\"type\":\"SaveTool\"},{\"attributes\":{},\"id\":\"74b2ec1f-f63c-4b5f-b1f2-ffbe032b3c35\",\"type\":\"LinearScale\"},{\"attributes\":{},\"id\":\"760f15f5-49d9-48cc-9593-06b77b5808c0\",\"type\":\"WheelZoomTool\"},{\"attributes\":{\"callback\":null},\"id\":\"a868c20c-9c94-4ffc-8f10-086f40e349de\",\"type\":\"DataRange1d\"}],\"root_ids\":[\"92ac4d88-5b5d-46c5-8611-d86eb4a37ec3\"]},\"title\":\"Bokeh Application\",\"version\":\"0.12.10\"}};\n",
       "    var render_items = [{\"docid\":\"d6472c40-d8b0-41e4-9bd1-3609826b18ef\",\"elementid\":\"1869c37e-af10-4c26-990b-bca07bb53630\",\"modelid\":\"92ac4d88-5b5d-46c5-8611-d86eb4a37ec3\"}];\n",
       "\n",
       "    root.Bokeh.embed.embed_items(docs_json, render_items);\n",
       "  }\n",
       "\n",
       "  if (root.Bokeh !== undefined) {\n",
       "    embed_document(root);\n",
       "  } else {\n",
       "    var attempts = 0;\n",
       "    var timer = setInterval(function(root) {\n",
       "      if (root.Bokeh !== undefined) {\n",
       "        embed_document(root);\n",
       "        clearInterval(timer);\n",
       "      }\n",
       "      attempts++;\n",
       "      if (attempts > 100) {\n",
       "        console.log(\"Bokeh: ERROR: Unable to embed document because BokehJS library is missing\")\n",
       "        clearInterval(timer);\n",
       "      }\n",
       "    }, 10, root)\n",
       "  }\n",
       "})(window);"
      ],
      "application/vnd.bokehjs_exec.v0+json": ""
     },
     "metadata": {
      "application/vnd.bokehjs_exec.v0+json": {
       "id": "92ac4d88-5b5d-46c5-8611-d86eb4a37ec3"
      }
     },
     "output_type": "display_data"
    }
   ],
   "source": [
    "# Vary Cm\n",
    "cms = np.linspace(.01,5,num=50)\n",
    "tau = np.zeros([50,])\n",
    "for i, cm in enumerate(list(cms)):  \n",
    "    tmp, tau[i] = get_Vhalf(20,2800,cm)\n",
    "    \n",
    "    \n",
    "S = bkp.figure(plot_height=400,plot_width=400)\n",
    "S.yaxis.axis_label=\"tau\"\n",
    "S.xaxis.axis_label=\"Cm\"\n",
    "S.line(cms,tau)\n",
    "bkp.show(S)"
   ]
  }
 ],
 "metadata": {
  "kernelspec": {
   "display_name": "Python 3",
   "language": "python",
   "name": "python3"
  },
  "language_info": {
   "codemirror_mode": {
    "name": "ipython",
    "version": 3
   },
   "file_extension": ".py",
   "mimetype": "text/x-python",
   "name": "python",
   "nbconvert_exporter": "python",
   "pygments_lexer": "ipython3",
   "version": "3.6.3"
  }
 },
 "nbformat": 4,
 "nbformat_minor": 2
}
