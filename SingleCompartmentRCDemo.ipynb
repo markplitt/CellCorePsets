{
 "cells": [
  {
   "cell_type": "code",
   "execution_count": 17,
   "metadata": {},
   "outputs": [
    {
     "data": {
      "text/html": [
       "\n",
       "    <div class=\"bk-root\">\n",
       "        <a href=\"https://bokeh.pydata.org\" target=\"_blank\" class=\"bk-logo bk-logo-small bk-logo-notebook\"></a>\n",
       "        <span id=\"c4d31cc0-831e-4215-be2c-bad4380b55b2\">Loading BokehJS ...</span>\n",
       "    </div>"
      ]
     },
     "metadata": {},
     "output_type": "display_data"
    },
    {
     "data": {
      "application/javascript": [
       "\n",
       "(function(root) {\n",
       "  function now() {\n",
       "    return new Date();\n",
       "  }\n",
       "\n",
       "  var force = true;\n",
       "\n",
       "  if (typeof (root._bokeh_onload_callbacks) === \"undefined\" || force === true) {\n",
       "    root._bokeh_onload_callbacks = [];\n",
       "    root._bokeh_is_loading = undefined;\n",
       "  }\n",
       "\n",
       "  var JS_MIME_TYPE = 'application/javascript';\n",
       "  var HTML_MIME_TYPE = 'text/html';\n",
       "  var EXEC_MIME_TYPE = 'application/vnd.bokehjs_exec.v0+json';\n",
       "  var CLASS_NAME = 'output_bokeh rendered_html';\n",
       "\n",
       "  /**\n",
       "   * Render data to the DOM node\n",
       "   */\n",
       "  function render(props, node) {\n",
       "    var script = document.createElement(\"script\");\n",
       "    node.appendChild(script);\n",
       "  }\n",
       "\n",
       "  /**\n",
       "   * Handle when an output is cleared or removed\n",
       "   */\n",
       "  function handleClearOutput(event, handle) {\n",
       "    var cell = handle.cell;\n",
       "\n",
       "    var id = cell.output_area._bokeh_element_id;\n",
       "    var server_id = cell.output_area._bokeh_server_id;\n",
       "    // Clean up Bokeh references\n",
       "    if (id !== undefined) {\n",
       "      Bokeh.index[id].model.document.clear();\n",
       "      delete Bokeh.index[id];\n",
       "    }\n",
       "\n",
       "    if (server_id !== undefined) {\n",
       "      // Clean up Bokeh references\n",
       "      var cmd = \"from bokeh.io.state import curstate; print(curstate().uuid_to_server['\" + server_id + \"'].get_sessions()[0].document.roots[0]._id)\";\n",
       "      cell.notebook.kernel.execute(cmd, {\n",
       "        iopub: {\n",
       "          output: function(msg) {\n",
       "            var element_id = msg.content.text.trim();\n",
       "            Bokeh.index[element_id].model.document.clear();\n",
       "            delete Bokeh.index[element_id];\n",
       "          }\n",
       "        }\n",
       "      });\n",
       "      // Destroy server and session\n",
       "      var cmd = \"import bokeh.io.notebook as ion; ion.destroy_server('\" + server_id + \"')\";\n",
       "      cell.notebook.kernel.execute(cmd);\n",
       "    }\n",
       "  }\n",
       "\n",
       "  /**\n",
       "   * Handle when a new output is added\n",
       "   */\n",
       "  function handleAddOutput(event, handle) {\n",
       "    var output_area = handle.output_area;\n",
       "    var output = handle.output;\n",
       "\n",
       "    // limit handleAddOutput to display_data with EXEC_MIME_TYPE content only\n",
       "    if ((output.output_type != \"display_data\") || (!output.data.hasOwnProperty(EXEC_MIME_TYPE))) {\n",
       "      return\n",
       "    }\n",
       "\n",
       "    var toinsert = output_area.element.find(`.${CLASS_NAME.split(' ')[0]}`);\n",
       "\n",
       "    if (output.metadata[EXEC_MIME_TYPE][\"id\"] !== undefined) {\n",
       "      toinsert[0].firstChild.textContent = output.data[JS_MIME_TYPE];\n",
       "      // store reference to embed id on output_area\n",
       "      output_area._bokeh_element_id = output.metadata[EXEC_MIME_TYPE][\"id\"];\n",
       "    }\n",
       "    if (output.metadata[EXEC_MIME_TYPE][\"server_id\"] !== undefined) {\n",
       "      var bk_div = document.createElement(\"div\");\n",
       "      bk_div.innerHTML = output.data[HTML_MIME_TYPE];\n",
       "      var script_attrs = bk_div.children[0].attributes;\n",
       "      for (var i = 0; i < script_attrs.length; i++) {\n",
       "        toinsert[0].firstChild.setAttribute(script_attrs[i].name, script_attrs[i].value);\n",
       "      }\n",
       "      // store reference to server id on output_area\n",
       "      output_area._bokeh_server_id = output.metadata[EXEC_MIME_TYPE][\"server_id\"];\n",
       "    }\n",
       "  }\n",
       "\n",
       "  function register_renderer(events, OutputArea) {\n",
       "\n",
       "    function append_mime(data, metadata, element) {\n",
       "      // create a DOM node to render to\n",
       "      var toinsert = this.create_output_subarea(\n",
       "        metadata,\n",
       "        CLASS_NAME,\n",
       "        EXEC_MIME_TYPE\n",
       "      );\n",
       "      this.keyboard_manager.register_events(toinsert);\n",
       "      // Render to node\n",
       "      var props = {data: data, metadata: metadata[EXEC_MIME_TYPE]};\n",
       "      render(props, toinsert[0]);\n",
       "      element.append(toinsert);\n",
       "      return toinsert\n",
       "    }\n",
       "\n",
       "    /* Handle when an output is cleared or removed */\n",
       "    events.on('clear_output.CodeCell', handleClearOutput);\n",
       "    events.on('delete.Cell', handleClearOutput);\n",
       "\n",
       "    /* Handle when a new output is added */\n",
       "    events.on('output_added.OutputArea', handleAddOutput);\n",
       "\n",
       "    /**\n",
       "     * Register the mime type and append_mime function with output_area\n",
       "     */\n",
       "    OutputArea.prototype.register_mime_type(EXEC_MIME_TYPE, append_mime, {\n",
       "      /* Is output safe? */\n",
       "      safe: true,\n",
       "      /* Index of renderer in `output_area.display_order` */\n",
       "      index: 0\n",
       "    });\n",
       "  }\n",
       "\n",
       "  // register the mime type if in Jupyter Notebook environment and previously unregistered\n",
       "  if (root.Jupyter !== undefined) {\n",
       "    var events = require('base/js/events');\n",
       "    var OutputArea = require('notebook/js/outputarea').OutputArea;\n",
       "\n",
       "    if (OutputArea.prototype.mime_types().indexOf(EXEC_MIME_TYPE) == -1) {\n",
       "      register_renderer(events, OutputArea);\n",
       "    }\n",
       "  }\n",
       "\n",
       "  \n",
       "  if (typeof (root._bokeh_timeout) === \"undefined\" || force === true) {\n",
       "    root._bokeh_timeout = Date.now() + 5000;\n",
       "    root._bokeh_failed_load = false;\n",
       "  }\n",
       "\n",
       "  var NB_LOAD_WARNING = {'data': {'text/html':\n",
       "     \"<div style='background-color: #fdd'>\\n\"+\n",
       "     \"<p>\\n\"+\n",
       "     \"BokehJS does not appear to have successfully loaded. If loading BokehJS from CDN, this \\n\"+\n",
       "     \"may be due to a slow or bad network connection. Possible fixes:\\n\"+\n",
       "     \"</p>\\n\"+\n",
       "     \"<ul>\\n\"+\n",
       "     \"<li>re-rerun `output_notebook()` to attempt to load from CDN again, or</li>\\n\"+\n",
       "     \"<li>use INLINE resources instead, as so:</li>\\n\"+\n",
       "     \"</ul>\\n\"+\n",
       "     \"<code>\\n\"+\n",
       "     \"from bokeh.resources import INLINE\\n\"+\n",
       "     \"output_notebook(resources=INLINE)\\n\"+\n",
       "     \"</code>\\n\"+\n",
       "     \"</div>\"}};\n",
       "\n",
       "  function display_loaded() {\n",
       "    var el = document.getElementById(\"c4d31cc0-831e-4215-be2c-bad4380b55b2\");\n",
       "    if (el != null) {\n",
       "      el.textContent = \"BokehJS is loading...\";\n",
       "    }\n",
       "    if (root.Bokeh !== undefined) {\n",
       "      if (el != null) {\n",
       "        el.textContent = \"BokehJS \" + root.Bokeh.version + \" successfully loaded.\";\n",
       "      }\n",
       "    } else if (Date.now() < root._bokeh_timeout) {\n",
       "      setTimeout(display_loaded, 100)\n",
       "    }\n",
       "  }\n",
       "\n",
       "\n",
       "  function run_callbacks() {\n",
       "    try {\n",
       "      root._bokeh_onload_callbacks.forEach(function(callback) { callback() });\n",
       "    }\n",
       "    finally {\n",
       "      delete root._bokeh_onload_callbacks\n",
       "    }\n",
       "    console.info(\"Bokeh: all callbacks have finished\");\n",
       "  }\n",
       "\n",
       "  function load_libs(js_urls, callback) {\n",
       "    root._bokeh_onload_callbacks.push(callback);\n",
       "    if (root._bokeh_is_loading > 0) {\n",
       "      console.log(\"Bokeh: BokehJS is being loaded, scheduling callback at\", now());\n",
       "      return null;\n",
       "    }\n",
       "    if (js_urls == null || js_urls.length === 0) {\n",
       "      run_callbacks();\n",
       "      return null;\n",
       "    }\n",
       "    console.log(\"Bokeh: BokehJS not loaded, scheduling load and callback at\", now());\n",
       "    root._bokeh_is_loading = js_urls.length;\n",
       "    for (var i = 0; i < js_urls.length; i++) {\n",
       "      var url = js_urls[i];\n",
       "      var s = document.createElement('script');\n",
       "      s.src = url;\n",
       "      s.async = false;\n",
       "      s.onreadystatechange = s.onload = function() {\n",
       "        root._bokeh_is_loading--;\n",
       "        if (root._bokeh_is_loading === 0) {\n",
       "          console.log(\"Bokeh: all BokehJS libraries loaded\");\n",
       "          run_callbacks()\n",
       "        }\n",
       "      };\n",
       "      s.onerror = function() {\n",
       "        console.warn(\"failed to load library \" + url);\n",
       "      };\n",
       "      console.log(\"Bokeh: injecting script tag for BokehJS library: \", url);\n",
       "      document.getElementsByTagName(\"head\")[0].appendChild(s);\n",
       "    }\n",
       "  };var element = document.getElementById(\"c4d31cc0-831e-4215-be2c-bad4380b55b2\");\n",
       "  if (element == null) {\n",
       "    console.log(\"Bokeh: ERROR: autoload.js configured with elementid 'c4d31cc0-831e-4215-be2c-bad4380b55b2' but no matching script tag was found. \")\n",
       "    return false;\n",
       "  }\n",
       "\n",
       "  var js_urls = [\"https://cdn.pydata.org/bokeh/release/bokeh-0.12.10.min.js\", \"https://cdn.pydata.org/bokeh/release/bokeh-widgets-0.12.10.min.js\", \"https://cdn.pydata.org/bokeh/release/bokeh-tables-0.12.10.min.js\", \"https://cdn.pydata.org/bokeh/release/bokeh-gl-0.12.10.min.js\"];\n",
       "\n",
       "  var inline_js = [\n",
       "    function(Bokeh) {\n",
       "      Bokeh.set_log_level(\"info\");\n",
       "    },\n",
       "    \n",
       "    function(Bokeh) {\n",
       "      \n",
       "    },\n",
       "    function(Bokeh) {\n",
       "      console.log(\"Bokeh: injecting CSS: https://cdn.pydata.org/bokeh/release/bokeh-0.12.10.min.css\");\n",
       "      Bokeh.embed.inject_css(\"https://cdn.pydata.org/bokeh/release/bokeh-0.12.10.min.css\");\n",
       "      console.log(\"Bokeh: injecting CSS: https://cdn.pydata.org/bokeh/release/bokeh-widgets-0.12.10.min.css\");\n",
       "      Bokeh.embed.inject_css(\"https://cdn.pydata.org/bokeh/release/bokeh-widgets-0.12.10.min.css\");\n",
       "      console.log(\"Bokeh: injecting CSS: https://cdn.pydata.org/bokeh/release/bokeh-tables-0.12.10.min.css\");\n",
       "      Bokeh.embed.inject_css(\"https://cdn.pydata.org/bokeh/release/bokeh-tables-0.12.10.min.css\");\n",
       "    }\n",
       "  ];\n",
       "\n",
       "  function run_inline_js() {\n",
       "    \n",
       "    if ((root.Bokeh !== undefined) || (force === true)) {\n",
       "      for (var i = 0; i < inline_js.length; i++) {\n",
       "        inline_js[i].call(root, root.Bokeh);\n",
       "      }if (force === true) {\n",
       "        display_loaded();\n",
       "      }} else if (Date.now() < root._bokeh_timeout) {\n",
       "      setTimeout(run_inline_js, 100);\n",
       "    } else if (!root._bokeh_failed_load) {\n",
       "      console.log(\"Bokeh: BokehJS failed to load within specified timeout.\");\n",
       "      root._bokeh_failed_load = true;\n",
       "    } else if (force !== true) {\n",
       "      var cell = $(document.getElementById(\"c4d31cc0-831e-4215-be2c-bad4380b55b2\")).parents('.cell').data().cell;\n",
       "      cell.output_area.append_execute_result(NB_LOAD_WARNING)\n",
       "    }\n",
       "\n",
       "  }\n",
       "\n",
       "  if (root._bokeh_is_loading === 0) {\n",
       "    console.log(\"Bokeh: BokehJS loaded, going straight to plotting\");\n",
       "    run_inline_js();\n",
       "  } else {\n",
       "    load_libs(js_urls, function() {\n",
       "      console.log(\"Bokeh: BokehJS plotting callback run at\", now());\n",
       "      run_inline_js();\n",
       "    });\n",
       "  }\n",
       "}(window));"
      ],
      "application/vnd.bokehjs_load.v0+json": "\n(function(root) {\n  function now() {\n    return new Date();\n  }\n\n  var force = true;\n\n  if (typeof (root._bokeh_onload_callbacks) === \"undefined\" || force === true) {\n    root._bokeh_onload_callbacks = [];\n    root._bokeh_is_loading = undefined;\n  }\n\n  \n\n  \n  if (typeof (root._bokeh_timeout) === \"undefined\" || force === true) {\n    root._bokeh_timeout = Date.now() + 5000;\n    root._bokeh_failed_load = false;\n  }\n\n  var NB_LOAD_WARNING = {'data': {'text/html':\n     \"<div style='background-color: #fdd'>\\n\"+\n     \"<p>\\n\"+\n     \"BokehJS does not appear to have successfully loaded. If loading BokehJS from CDN, this \\n\"+\n     \"may be due to a slow or bad network connection. Possible fixes:\\n\"+\n     \"</p>\\n\"+\n     \"<ul>\\n\"+\n     \"<li>re-rerun `output_notebook()` to attempt to load from CDN again, or</li>\\n\"+\n     \"<li>use INLINE resources instead, as so:</li>\\n\"+\n     \"</ul>\\n\"+\n     \"<code>\\n\"+\n     \"from bokeh.resources import INLINE\\n\"+\n     \"output_notebook(resources=INLINE)\\n\"+\n     \"</code>\\n\"+\n     \"</div>\"}};\n\n  function display_loaded() {\n    var el = document.getElementById(\"c4d31cc0-831e-4215-be2c-bad4380b55b2\");\n    if (el != null) {\n      el.textContent = \"BokehJS is loading...\";\n    }\n    if (root.Bokeh !== undefined) {\n      if (el != null) {\n        el.textContent = \"BokehJS \" + root.Bokeh.version + \" successfully loaded.\";\n      }\n    } else if (Date.now() < root._bokeh_timeout) {\n      setTimeout(display_loaded, 100)\n    }\n  }\n\n\n  function run_callbacks() {\n    try {\n      root._bokeh_onload_callbacks.forEach(function(callback) { callback() });\n    }\n    finally {\n      delete root._bokeh_onload_callbacks\n    }\n    console.info(\"Bokeh: all callbacks have finished\");\n  }\n\n  function load_libs(js_urls, callback) {\n    root._bokeh_onload_callbacks.push(callback);\n    if (root._bokeh_is_loading > 0) {\n      console.log(\"Bokeh: BokehJS is being loaded, scheduling callback at\", now());\n      return null;\n    }\n    if (js_urls == null || js_urls.length === 0) {\n      run_callbacks();\n      return null;\n    }\n    console.log(\"Bokeh: BokehJS not loaded, scheduling load and callback at\", now());\n    root._bokeh_is_loading = js_urls.length;\n    for (var i = 0; i < js_urls.length; i++) {\n      var url = js_urls[i];\n      var s = document.createElement('script');\n      s.src = url;\n      s.async = false;\n      s.onreadystatechange = s.onload = function() {\n        root._bokeh_is_loading--;\n        if (root._bokeh_is_loading === 0) {\n          console.log(\"Bokeh: all BokehJS libraries loaded\");\n          run_callbacks()\n        }\n      };\n      s.onerror = function() {\n        console.warn(\"failed to load library \" + url);\n      };\n      console.log(\"Bokeh: injecting script tag for BokehJS library: \", url);\n      document.getElementsByTagName(\"head\")[0].appendChild(s);\n    }\n  };var element = document.getElementById(\"c4d31cc0-831e-4215-be2c-bad4380b55b2\");\n  if (element == null) {\n    console.log(\"Bokeh: ERROR: autoload.js configured with elementid 'c4d31cc0-831e-4215-be2c-bad4380b55b2' but no matching script tag was found. \")\n    return false;\n  }\n\n  var js_urls = [\"https://cdn.pydata.org/bokeh/release/bokeh-0.12.10.min.js\", \"https://cdn.pydata.org/bokeh/release/bokeh-widgets-0.12.10.min.js\", \"https://cdn.pydata.org/bokeh/release/bokeh-tables-0.12.10.min.js\", \"https://cdn.pydata.org/bokeh/release/bokeh-gl-0.12.10.min.js\"];\n\n  var inline_js = [\n    function(Bokeh) {\n      Bokeh.set_log_level(\"info\");\n    },\n    \n    function(Bokeh) {\n      \n    },\n    function(Bokeh) {\n      console.log(\"Bokeh: injecting CSS: https://cdn.pydata.org/bokeh/release/bokeh-0.12.10.min.css\");\n      Bokeh.embed.inject_css(\"https://cdn.pydata.org/bokeh/release/bokeh-0.12.10.min.css\");\n      console.log(\"Bokeh: injecting CSS: https://cdn.pydata.org/bokeh/release/bokeh-widgets-0.12.10.min.css\");\n      Bokeh.embed.inject_css(\"https://cdn.pydata.org/bokeh/release/bokeh-widgets-0.12.10.min.css\");\n      console.log(\"Bokeh: injecting CSS: https://cdn.pydata.org/bokeh/release/bokeh-tables-0.12.10.min.css\");\n      Bokeh.embed.inject_css(\"https://cdn.pydata.org/bokeh/release/bokeh-tables-0.12.10.min.css\");\n    }\n  ];\n\n  function run_inline_js() {\n    \n    if ((root.Bokeh !== undefined) || (force === true)) {\n      for (var i = 0; i < inline_js.length; i++) {\n        inline_js[i].call(root, root.Bokeh);\n      }if (force === true) {\n        display_loaded();\n      }} else if (Date.now() < root._bokeh_timeout) {\n      setTimeout(run_inline_js, 100);\n    } else if (!root._bokeh_failed_load) {\n      console.log(\"Bokeh: BokehJS failed to load within specified timeout.\");\n      root._bokeh_failed_load = true;\n    } else if (force !== true) {\n      var cell = $(document.getElementById(\"c4d31cc0-831e-4215-be2c-bad4380b55b2\")).parents('.cell').data().cell;\n      cell.output_area.append_execute_result(NB_LOAD_WARNING)\n    }\n\n  }\n\n  if (root._bokeh_is_loading === 0) {\n    console.log(\"Bokeh: BokehJS loaded, going straight to plotting\");\n    run_inline_js();\n  } else {\n    load_libs(js_urls, function() {\n      console.log(\"Bokeh: BokehJS plotting callback run at\", now());\n      run_inline_js();\n    });\n  }\n}(window));"
     },
     "metadata": {},
     "output_type": "display_data"
    }
   ],
   "source": [
    "from neuron import h, gui\n",
    "import bokeh as bk\n",
    "import bokeh.plotting as bkp\n",
    "import numpy as np\n",
    "from bokeh.palettes import Dark2_5 as palette\n",
    "import itertools \n",
    "import ipywidgets as widgets\n",
    "from branched_cable import branched_cable, run_current_clamp\n",
    "\n",
    "colors = itertools.cycle(palette)  \n",
    "bkp.output_notebook()"
   ]
  },
  {
   "cell_type": "code",
   "execution_count": 18,
   "metadata": {
    "collapsed": true
   },
   "outputs": [],
   "source": [
    "def plot_single_compartment_IClamp(diam=10,Rm=2800,cm=1):\n",
    "    \n",
    "    #t, vArr, I = run_single_compartment_IClamp(diam,Rm,cm)\n",
    "    cell = branched_cable()\n",
    "    cell.make_cable(diam,diam,nseg = 1,Rm=Rm,cm=cm)\n",
    "    cell.add_IClamp('cable',.5,.001,25,delay = 20)\n",
    "    cell.recording_vecs([['cable',.5,'v']])\n",
    "\n",
    "    I = np.linspace(-.2,.2,num=7)\n",
    "    t, results = run_current_clamp(cell,'iclamp',I,tstop=80)\n",
    "    \n",
    "    vArr =  results['cable:0.50:v']\n",
    "    \n",
    "    RC= bkp.figure(plot_width=400,plot_height=400)\n",
    "    RC.xaxis.axis_label=\"time\"\n",
    "    RC.yaxis.axis_label=\"V (mV)\"\n",
    "    colors = itertools.cycle(palette)  \n",
    "    \n",
    "    \n",
    "    for i, color in zip(range(vArr.shape[1]),colors):\n",
    "        RC.line(t,vArr[:,i],color=color) #,legend=str(I[i]))\n",
    "    #RC.legend.location=\"top_right\"\n",
    "    \n",
    "    #find steady state voltage\n",
    "    VI = bkp.figure(plot_height=400,plot_width=400)\n",
    "    VI.xaxis.axis_label=\"I (mA)\"\n",
    "    VI.yaxis.axis_label=\"V (mV)\"\n",
    "    ss_ind = np.where(t>43)[0][0]\n",
    "    V_ss = vArr[ss_ind,:]\n",
    "    VI.line(I,V_ss)\n",
    "    \n",
    "    \n",
    "    # time constant\n",
    "    vArr = vArr +65\n",
    "    V_half = (1-.37)*(V_ss+65.)\n",
    "    tau = np.zeros([7,])\n",
    "    for col in range(I.size):\n",
    "        tau[col] = np.where(vArr[:,i]>V_half[i])[0][0]/t.size*80. -20\n",
    "        \n",
    "    T = bkp.figure(plot_height=400,plot_width=400)\n",
    "    T.xaxis.axis_label=\"I (mA)\"\n",
    "    T.yaxis.axis_label= \"tau\"\n",
    "    T.line(I,tau)\n",
    "    \n",
    "    bkp.show(bk.layouts.layout([[RC,VI],[T]]))\n",
    "    \n",
    "             \n",
    "\n",
    "\n"
   ]
  },
  {
   "cell_type": "code",
   "execution_count": 19,
   "metadata": {},
   "outputs": [
    {
     "data": {
      "application/vnd.jupyter.widget-view+json": {
       "model_id": "f75a031b94db4233870a862c562a8c00",
       "version_major": 2,
       "version_minor": 0
      },
      "text/plain": [
       "A Jupyter Widget"
      ]
     },
     "metadata": {},
     "output_type": "display_data"
    },
    {
     "data": {
      "text/plain": [
       "<function __main__.plot_single_compartment_IClamp>"
      ]
     },
     "execution_count": 19,
     "metadata": {},
     "output_type": "execute_result"
    }
   ],
   "source": [
    "widgets.interact_manual(plot_single_compartment_IClamp,\n",
    "                 diam=widgets.FloatSlider(min=.1,max=100,continuous_update=False),\n",
    "                 Rm=widgets.FloatSlider(min=100,max=5000,continuous_update=False),\n",
    "                 cm = widgets.FloatSlider(min=.1,max=10,continous_update=False))"
   ]
  },
  {
   "cell_type": "markdown",
   "metadata": {},
   "source": [
    "Insert JPeg of circuit diagram\n",
    "\n",
    "Insert Latex of current equation"
   ]
  },
  {
   "cell_type": "markdown",
   "metadata": {},
   "source": [
    "# Steady State Properties\n",
    "## V-I curve analysis"
   ]
  },
  {
   "cell_type": "code",
   "execution_count": 20,
   "metadata": {
    "collapsed": true
   },
   "outputs": [],
   "source": [
    "I = np.linspace(-.2,.2,num=7)\n",
    "def get_VI(diam,Rm,cm):\n",
    "    cell = branched_cable()  \n",
    "    cell.make_cable(diam,diam,nseg = 1,Rm=Rm,cm=cm)\n",
    "    cell.add_IClamp('cable',.5,.001,25,delay = 20)\n",
    "    cell.recording_vecs([['cable',.5,'v']])\n",
    "\n",
    "    t, results = run_current_clamp(cell,'iclamp',I,tstop=80)\n",
    "    \n",
    "    vArr =  results['cable:0.50:v']\n",
    "    ss_ind = np.where(t>43)[0][0]\n",
    "    V_ss = vArr[ss_ind,:]\n",
    "    \n",
    "    slope = np.diff(V_ss).mean()\n",
    "    return V_ss,slope"
   ]
  },
  {
   "cell_type": "code",
   "execution_count": 21,
   "metadata": {},
   "outputs": [
    {
     "data": {
      "text/html": [
       "\n",
       "<div class=\"bk-root\">\n",
       "    <div class=\"bk-plotdiv\" id=\"398158f3-8de0-4ee8-8319-8578c01b96c6\"></div>\n",
       "</div>"
      ]
     },
     "metadata": {},
     "output_type": "display_data"
    },
    {
     "data": {
      "application/javascript": [
       "(function(root) {\n",
       "  function embed_document(root) {\n",
       "    var docs_json = {\"9319da12-d2b6-425b-9d63-f3ff07fe77e9\":{\"roots\":{\"references\":[{\"attributes\":{\"line_color\":{\"value\":\"#7570b3\"},\"x\":{\"field\":\"x\"},\"y\":{\"field\":\"y\"}},\"id\":\"ae65f7c4-d31a-478e-a9ea-64994598c1a1\",\"type\":\"Line\"},{\"attributes\":{\"line_color\":{\"value\":\"#1b9e77\"},\"x\":{\"field\":\"x\"},\"y\":{\"field\":\"y\"}},\"id\":\"69c699e8-4bff-4c80-94d9-20b74963c877\",\"type\":\"Line\"},{\"attributes\":{\"callback\":null,\"column_names\":[\"x\",\"y\"],\"data\":{\"x\":{\"__ndarray__\":\"mpmZmZmZyb8SERERERHBvxIREREREbG/AAAAAAAAAAAQERERERGxPxAREREREcE/mpmZmZmZyT8=\",\"dtype\":\"float64\",\"shape\":[7]},\"y\":{\"__ndarray__\":\"LnOfhxhNUcAbor+vZfNQwA3R39eymVDAAAAAAABAUMDlXUBQmsxPwMm7gKA0GU/ArBnB8M5lTsA=\",\"dtype\":\"float64\",\"shape\":[7]}}},\"id\":\"2c347921-bd8c-4691-a90e-4956ef186f6d\",\"type\":\"ColumnDataSource\"},{\"attributes\":{\"line_alpha\":{\"value\":0.1},\"line_color\":{\"value\":\"#1f77b4\"},\"x\":{\"field\":\"x\"},\"y\":{\"field\":\"y\"}},\"id\":\"12cb262a-a1af-4453-b710-5e9174b93a6f\",\"type\":\"Line\"},{\"attributes\":{\"line_color\":{\"value\":\"#66a61e\"},\"x\":{\"field\":\"x\"},\"y\":{\"field\":\"y\"}},\"id\":\"8969df78-27b9-44dc-98d6-fa02fe01d3bb\",\"type\":\"Line\"},{\"attributes\":{\"line_alpha\":{\"value\":0.1},\"line_color\":{\"value\":\"#1f77b4\"},\"x\":{\"field\":\"x\"},\"y\":{\"field\":\"y\"}},\"id\":\"8b037ac5-98f5-496a-8a3f-aceffe51bbdc\",\"type\":\"Line\"},{\"attributes\":{\"source\":{\"id\":\"b49709c7-0c0a-4e7f-b0f4-73a6f296ce71\",\"type\":\"ColumnDataSource\"}},\"id\":\"65bd93d1-4a54-4033-aca6-7270664aa14d\",\"type\":\"CDSView\"},{\"attributes\":{\"data_source\":{\"id\":\"b49709c7-0c0a-4e7f-b0f4-73a6f296ce71\",\"type\":\"ColumnDataSource\"},\"glyph\":{\"id\":\"69c699e8-4bff-4c80-94d9-20b74963c877\",\"type\":\"Line\"},\"hover_glyph\":null,\"muted_glyph\":null,\"nonselection_glyph\":{\"id\":\"8b037ac5-98f5-496a-8a3f-aceffe51bbdc\",\"type\":\"Line\"},\"selection_glyph\":null,\"view\":{\"id\":\"65bd93d1-4a54-4033-aca6-7270664aa14d\",\"type\":\"CDSView\"}},\"id\":\"1f167e8a-8878-442e-b3e2-4571a09d1cdf\",\"type\":\"GlyphRenderer\"},{\"attributes\":{\"bottom_units\":\"screen\",\"fill_alpha\":{\"value\":0.5},\"fill_color\":{\"value\":\"lightgrey\"},\"left_units\":\"screen\",\"level\":\"overlay\",\"line_alpha\":{\"value\":1.0},\"line_color\":{\"value\":\"black\"},\"line_dash\":[4,4],\"line_width\":{\"value\":2},\"plot\":null,\"render_mode\":\"css\",\"right_units\":\"screen\",\"top_units\":\"screen\"},\"id\":\"ca1efb64-109c-4fa4-a950-c73f49fef63f\",\"type\":\"BoxAnnotation\"},{\"attributes\":{\"line_color\":{\"value\":\"#d95f02\"},\"x\":{\"field\":\"x\"},\"y\":{\"field\":\"y\"}},\"id\":\"eec88c62-71e9-4e56-ba31-83131a14559a\",\"type\":\"Line\"},{\"attributes\":{\"line_color\":{\"value\":\"#e7298a\"},\"x\":{\"field\":\"x\"},\"y\":{\"field\":\"y\"}},\"id\":\"4a2338a2-eb9b-411d-a42e-1a73563fb38d\",\"type\":\"Line\"},{\"attributes\":{\"line_alpha\":{\"value\":0.1},\"line_color\":{\"value\":\"#1f77b4\"},\"x\":{\"field\":\"x\"},\"y\":{\"field\":\"y\"}},\"id\":\"7686ca5f-4b38-4db8-9438-c4888e9cedf2\",\"type\":\"Line\"},{\"attributes\":{\"source\":{\"id\":\"21b88334-976c-40d5-bc06-22c635a530fe\",\"type\":\"ColumnDataSource\"}},\"id\":\"00332e30-5b0a-4c88-8dff-20f8fc60260b\",\"type\":\"CDSView\"},{\"attributes\":{\"callback\":null,\"column_names\":[\"x\",\"y\"],\"data\":{\"x\":{\"__ndarray__\":\"mpmZmZmZyb8SERERERHBvxIREREREbG/AAAAAAAAAAAQERERERGxPxAREREREcE/mpmZmZmZyT8=\",\"dtype\":\"float64\",\"shape\":[7]},\"y\":{\"__ndarray__\":\"qpgNgqwOUcAYu7NWyMlQwIzdWSvkhFDAAAAAAABAUMDoREypN/ZPwM2JmFJvbE/Ar87k+6biTsA=\",\"dtype\":\"float64\",\"shape\":[7]}}},\"id\":\"f79e76bc-8cc1-4764-95a5-d10598b5cfbf\",\"type\":\"ColumnDataSource\"},{\"attributes\":{\"data_source\":{\"id\":\"21b88334-976c-40d5-bc06-22c635a530fe\",\"type\":\"ColumnDataSource\"},\"glyph\":{\"id\":\"8969df78-27b9-44dc-98d6-fa02fe01d3bb\",\"type\":\"Line\"},\"hover_glyph\":null,\"muted_glyph\":null,\"nonselection_glyph\":{\"id\":\"e5d9f1c0-e4f3-4d01-902a-71afb603ab2b\",\"type\":\"Line\"},\"selection_glyph\":null,\"view\":{\"id\":\"00332e30-5b0a-4c88-8dff-20f8fc60260b\",\"type\":\"CDSView\"}},\"id\":\"0d3c869e-9df5-47e9-8a6e-ea0ed03788d6\",\"type\":\"GlyphRenderer\"},{\"attributes\":{\"data_source\":{\"id\":\"2c347921-bd8c-4691-a90e-4956ef186f6d\",\"type\":\"ColumnDataSource\"},\"glyph\":{\"id\":\"eec88c62-71e9-4e56-ba31-83131a14559a\",\"type\":\"Line\"},\"hover_glyph\":null,\"muted_glyph\":null,\"nonselection_glyph\":{\"id\":\"12cb262a-a1af-4453-b710-5e9174b93a6f\",\"type\":\"Line\"},\"selection_glyph\":null,\"view\":{\"id\":\"9c1a7641-f559-4c68-b78d-10b079cb9a07\",\"type\":\"CDSView\"}},\"id\":\"3b7103a3-7647-480a-a9da-87db4bad16f6\",\"type\":\"GlyphRenderer\"},{\"attributes\":{\"axis_label\":\"diameter\",\"formatter\":{\"id\":\"196db22f-adfb-4196-9d7f-8005b7750bc6\",\"type\":\"BasicTickFormatter\"},\"plot\":{\"id\":\"05228896-7a4f-4a4e-ae3b-4c82e99b8343\",\"subtype\":\"Figure\",\"type\":\"Plot\"},\"ticker\":{\"id\":\"a5abd33e-9363-4f01-94c5-22a3475e4962\",\"type\":\"BasicTicker\"}},\"id\":\"557b473e-dcb9-4c7c-b73c-52506c96166a\",\"type\":\"LinearAxis\"},{\"attributes\":{\"source\":{\"id\":\"2c347921-bd8c-4691-a90e-4956ef186f6d\",\"type\":\"ColumnDataSource\"}},\"id\":\"9c1a7641-f559-4c68-b78d-10b079cb9a07\",\"type\":\"CDSView\"},{\"attributes\":{\"source\":{\"id\":\"f79e76bc-8cc1-4764-95a5-d10598b5cfbf\",\"type\":\"ColumnDataSource\"}},\"id\":\"1a1876a3-4cc0-40aa-becf-8c28514a85d3\",\"type\":\"CDSView\"},{\"attributes\":{\"callback\":null,\"column_names\":[\"x\",\"y\"],\"data\":{\"x\":{\"__ndarray__\":\"mpmZmZmZyb8SERERERHBvxIREREREbG/AAAAAAAAAAAQERERERGxPxAREREREcE/mpmZmZmZyT8=\",\"dtype\":\"float64\",\"shape\":[7]},\"y\":{\"__ndarray__\":\"gjbQhrLjUMCreTWvIa1QwNi8mteQdlDAAAAAAABAUMAoQ2UobwlQwKoMlaG8pU/A/pJf8po4T8A=\",\"dtype\":\"float64\",\"shape\":[7]}}},\"id\":\"d54ea96f-90bb-4cf7-9025-0a9243d365f2\",\"type\":\"ColumnDataSource\"},{\"attributes\":{\"line_alpha\":{\"value\":0.1},\"line_color\":{\"value\":\"#1f77b4\"},\"x\":{\"field\":\"x\"},\"y\":{\"field\":\"y\"}},\"id\":\"c2459893-034d-4d0f-a134-e334cf363a80\",\"type\":\"Line\"},{\"attributes\":{\"data_source\":{\"id\":\"f79e76bc-8cc1-4764-95a5-d10598b5cfbf\",\"type\":\"ColumnDataSource\"},\"glyph\":{\"id\":\"ae65f7c4-d31a-478e-a9ea-64994598c1a1\",\"type\":\"Line\"},\"hover_glyph\":null,\"muted_glyph\":null,\"nonselection_glyph\":{\"id\":\"7686ca5f-4b38-4db8-9438-c4888e9cedf2\",\"type\":\"Line\"},\"selection_glyph\":null,\"view\":{\"id\":\"1a1876a3-4cc0-40aa-becf-8c28514a85d3\",\"type\":\"CDSView\"}},\"id\":\"24a564a8-11d6-4f68-8740-798658585a84\",\"type\":\"GlyphRenderer\"},{\"attributes\":{\"source\":{\"id\":\"d54ea96f-90bb-4cf7-9025-0a9243d365f2\",\"type\":\"ColumnDataSource\"}},\"id\":\"c425237d-6e65-4751-b470-6548c7c38445\",\"type\":\"CDSView\"},{\"attributes\":{\"data_source\":{\"id\":\"d54ea96f-90bb-4cf7-9025-0a9243d365f2\",\"type\":\"ColumnDataSource\"},\"glyph\":{\"id\":\"4a2338a2-eb9b-411d-a42e-1a73563fb38d\",\"type\":\"Line\"},\"hover_glyph\":null,\"muted_glyph\":null,\"nonselection_glyph\":{\"id\":\"c2459893-034d-4d0f-a134-e334cf363a80\",\"type\":\"Line\"},\"selection_glyph\":null,\"view\":{\"id\":\"c425237d-6e65-4751-b470-6548c7c38445\",\"type\":\"CDSView\"}},\"id\":\"dd53e207-8ef7-457f-a2ee-507940b202af\",\"type\":\"GlyphRenderer\"},{\"attributes\":{\"data_source\":{\"id\":\"f243e10e-b579-4d10-b696-59df553a1646\",\"type\":\"ColumnDataSource\"},\"glyph\":{\"id\":\"a25d265e-1adb-47eb-876a-a33ccad33d37\",\"type\":\"Line\"},\"hover_glyph\":null,\"muted_glyph\":null,\"nonselection_glyph\":{\"id\":\"620ade3d-9c60-4ce6-951e-106a52afdcb8\",\"type\":\"Line\"},\"selection_glyph\":null,\"view\":{\"id\":\"f5b53383-a01f-4aae-86c3-f725ea18f5a6\",\"type\":\"CDSView\"}},\"id\":\"6b166ebf-c9fb-4dbc-8f3f-a9670dc417b9\",\"type\":\"GlyphRenderer\"},{\"attributes\":{\"callback\":null,\"column_names\":[\"x\",\"y\"],\"data\":{\"x\":{\"__ndarray__\":\"mpmZmZmZyb8SERERERHBvxIREREREbG/AAAAAAAAAAAQERERERGxPxAREREREcE/mpmZmZmZyT8=\",\"dtype\":\"float64\",\"shape\":[7]},\"y\":{\"__ndarray__\":\"Sv9dx9rEUMAxqj7akZhQwBpVH+1IbFDAAAAAAABAUMDmquAStxNQwKKrgkvczk/AcQFEcUp2T8A=\",\"dtype\":\"float64\",\"shape\":[7]}}},\"id\":\"21b88334-976c-40d5-bc06-22c635a530fe\",\"type\":\"ColumnDataSource\"},{\"attributes\":{\"data_source\":{\"id\":\"7a35f4ac-46b0-44ff-a717-415f55072e75\",\"type\":\"ColumnDataSource\"},\"glyph\":{\"id\":\"0b42634c-9429-4613-b4ca-303488b655b8\",\"type\":\"Line\"},\"hover_glyph\":null,\"muted_glyph\":null,\"nonselection_glyph\":{\"id\":\"93920f21-b040-4729-90d7-7c3c2b033705\",\"type\":\"Line\"},\"selection_glyph\":null,\"view\":{\"id\":\"09a62bc4-c2d0-41ee-a550-d14b1521411e\",\"type\":\"CDSView\"}},\"id\":\"377ba1ed-ae72-4a5f-8265-f1e068280bc7\",\"type\":\"GlyphRenderer\"},{\"attributes\":{\"callback\":null,\"column_names\":[\"x\",\"y\"],\"data\":{\"x\":{\"__ndarray__\":\"AAAAAAAAJEDrQ2N9aKwnQNaHxvrQWCtAwsspeDkFL0DWh8b60FgxQMwpeDkFLzNAwsspeDkFNUC3bdu2bds2QKwPjfWhsThAorE+NNaHOkCYU/ByCl48QI31obE+ND5AwsspeDkFQEC8nIKXU/BAQLdt27Zt20FAsj401ofGQkCsD431obFDQKjg5RS8nERAorE+NNaHRUCdgpdT8HJGQJhT8HIKXkdAkiRJkiRJSECN9aGxPjRJQIjG+tBYH0pAg5dT8HIKS0B+aKwPjfVLQHg5BS+n4ExAcwpeTsHLTUBu27Zt27ZOQGmsD431oU9Asj401odGUEAvp+DlFLxQQKwPjfWhMVFAKng5BS+nUUCo4OUUvBxSQCVJkiRJklJAorE+NNYHU0AfGutDY31TQJ2Cl1Pw8lNAGutDY31oVECYU/ByCt5UQBW8nIKXU1VAkiRJkiTJVUAQjfWhsT5WQI31obE+tFZAC15OwcspV0CIxvrQWJ9XQAUvp+DlFFhAg5dT8HKKWEAAAAAAAABZQA==\",\"dtype\":\"float64\",\"shape\":[50]},\"y\":{\"__ndarray__\":\"QStgOFmzTUDJ52QExDJFQPCj6eN/xT9Ak6gpdTSxOECXYXHcdr0zQN2LxN8aJDBASH/8mBPjKkAloSlPUL0mQL/z0/6JeyNAdj1/itzgIEBs80xA4YYdQMTmUVGCCxpArbhx2v0kF0DwMXNg8LMUQGvz8PfRoBJAszHY6bbZEECN/ickj6EOQPuqYWRf9gtAQ6dcvrqgCUC4ii4Y7JIHQMhxCw/iwQVANXM/opgkBEB1+hd9qLMCQG3fm3zxaAFA5c9HLFk/AEClUVMjMGX+P1VMlCQkfvw/e4R3hG7D+j9bBrNA1i/5P9AUb4/hvvc/q0P097Vs9j8wXgF2/jX1P2A242HWF/Q/4PesIrgP8z91eF/obhvyP3Bjd9YKOfE/UEzZJ9dm8D/LnQPco0bvPwtTRkFK2u0/1fSog0GG7D/ral7Na0jrP8sE4vrkHuo/gPEKY/sH6T8AWFWnKQLoPyuMEmIRDOc/IIyqj3Yk5j/VhSGWO0rlP5Uo+dJdfOQ/lTKCm/K54z8g3vWeJALjPw==\",\"dtype\":\"float64\",\"shape\":[50]}}},\"id\":\"f243e10e-b579-4d10-b696-59df553a1646\",\"type\":\"ColumnDataSource\"},{\"attributes\":{\"line_alpha\":{\"value\":0.1},\"line_color\":{\"value\":\"#1f77b4\"},\"x\":{\"field\":\"x\"},\"y\":{\"field\":\"y\"}},\"id\":\"a0184632-db4a-4c63-b7cf-3c208153ee4f\",\"type\":\"Line\"},{\"attributes\":{},\"id\":\"07e7a1f4-25bf-42ad-8d3f-227d15a71b18\",\"type\":\"SaveTool\"},{\"attributes\":{\"source\":{\"id\":\"26fe58aa-4b0e-4285-aa2e-9dd1a51dbd4f\",\"type\":\"ColumnDataSource\"}},\"id\":\"8121b0e4-843c-4d49-948d-1f2e95ba9887\",\"type\":\"CDSView\"},{\"attributes\":{},\"id\":\"4204fe3d-1360-40d9-a325-05791e85af80\",\"type\":\"ResetTool\"},{\"attributes\":{},\"id\":\"b126b035-82dd-4b2e-80f1-fd82ac82315c\",\"type\":\"BasicTickFormatter\"},{\"attributes\":{\"source\":{\"id\":\"f243e10e-b579-4d10-b696-59df553a1646\",\"type\":\"ColumnDataSource\"}},\"id\":\"f5b53383-a01f-4aae-86c3-f725ea18f5a6\",\"type\":\"CDSView\"},{\"attributes\":{\"callback\":null,\"column_names\":[\"x\",\"y\"],\"data\":{\"x\":{\"__ndarray__\":\"mpmZmZmZyb8SERERERHBvxIREREREbG/AAAAAAAAAAAQERERERGxPxAREREREcE/mpmZmZmZyT8=\",\"dtype\":\"float64\",\"shape\":[7]},\"y\":{\"__ndarray__\":\"UYnYS9JoU8A2BjvdNltSwBuDnW6bTVHAAAAAAABAUMDK+cQiyWROwJDziUWSSUzAXO1OaFsuSsA=\",\"dtype\":\"float64\",\"shape\":[7]}}},\"id\":\"5fb1aa4b-b667-467c-9cb9-a1ade1fb63cc\",\"type\":\"ColumnDataSource\"},{\"attributes\":{\"source\":{\"id\":\"7a35f4ac-46b0-44ff-a717-415f55072e75\",\"type\":\"ColumnDataSource\"}},\"id\":\"09a62bc4-c2d0-41ee-a550-d14b1521411e\",\"type\":\"CDSView\"},{\"attributes\":{},\"id\":\"cf6f61c7-37a8-4e58-a062-dd2f2cd49e67\",\"type\":\"WheelZoomTool\"},{\"attributes\":{\"below\":[{\"id\":\"14c80b94-54ee-4776-aae4-88ab36c3f045\",\"type\":\"LinearAxis\"}],\"left\":[{\"id\":\"a3534889-a009-439c-aded-b3f0fb83f274\",\"type\":\"LinearAxis\"}],\"plot_height\":400,\"plot_width\":400,\"renderers\":[{\"id\":\"14c80b94-54ee-4776-aae4-88ab36c3f045\",\"type\":\"LinearAxis\"},{\"id\":\"22350e72-9e7c-4667-96fc-b37e5bb40739\",\"type\":\"Grid\"},{\"id\":\"a3534889-a009-439c-aded-b3f0fb83f274\",\"type\":\"LinearAxis\"},{\"id\":\"9361522e-06a8-446d-8b46-34e73432eea8\",\"type\":\"Grid\"},{\"id\":\"bc5f82c9-119c-460e-9365-5b36aecf0ac5\",\"type\":\"BoxAnnotation\"},{\"id\":\"7c5a3199-cbd2-4b80-bf7b-59c473b72274\",\"type\":\"GlyphRenderer\"},{\"id\":\"377ba1ed-ae72-4a5f-8265-f1e068280bc7\",\"type\":\"GlyphRenderer\"},{\"id\":\"5eb21676-4e37-47e8-a3f7-7134d8c226f3\",\"type\":\"GlyphRenderer\"},{\"id\":\"a30e0a44-c450-4e31-bbfc-1eeff7289d5d\",\"type\":\"GlyphRenderer\"},{\"id\":\"06c3e9fb-1715-4235-9bc1-6504d16e5eb2\",\"type\":\"GlyphRenderer\"},{\"id\":\"1f167e8a-8878-442e-b3e2-4571a09d1cdf\",\"type\":\"GlyphRenderer\"},{\"id\":\"3b7103a3-7647-480a-a9da-87db4bad16f6\",\"type\":\"GlyphRenderer\"},{\"id\":\"24a564a8-11d6-4f68-8740-798658585a84\",\"type\":\"GlyphRenderer\"},{\"id\":\"dd53e207-8ef7-457f-a2ee-507940b202af\",\"type\":\"GlyphRenderer\"},{\"id\":\"0d3c869e-9df5-47e9-8a6e-ea0ed03788d6\",\"type\":\"GlyphRenderer\"}],\"title\":{\"id\":\"5af1fd84-42bd-49f7-91ee-1f1cf5596e25\",\"type\":\"Title\"},\"toolbar\":{\"id\":\"b3813994-353a-4a91-8436-9344abb4cb9d\",\"type\":\"Toolbar\"},\"x_range\":{\"id\":\"9e20da57-71b4-4374-9732-79a043476fc4\",\"type\":\"DataRange1d\"},\"x_scale\":{\"id\":\"a2c4e9c0-879a-48b5-aff1-9bbfb68881c2\",\"type\":\"LinearScale\"},\"y_range\":{\"id\":\"6d31824f-7db6-4877-ac42-d6d6b9ecf710\",\"type\":\"DataRange1d\"},\"y_scale\":{\"id\":\"ce2dbd50-4b6c-4a62-8495-08d0c24e95f8\",\"type\":\"LinearScale\"}},\"id\":\"b224fec0-ba5e-4dad-b712-95304eeee9cb\",\"subtype\":\"Figure\",\"type\":\"Plot\"},{\"attributes\":{\"plot\":null,\"text\":\"\"},\"id\":\"fb083014-8951-4f36-b078-f32e57c755d2\",\"type\":\"Title\"},{\"attributes\":{\"children\":[{\"id\":\"ac16c9b8-6be1-4efe-a847-9302f3491456\",\"type\":\"Row\"}]},\"id\":\"a2b906ae-f5ed-420d-a41d-a135995ac456\",\"type\":\"Column\"},{\"attributes\":{\"data_source\":{\"id\":\"5fb1aa4b-b667-467c-9cb9-a1ade1fb63cc\",\"type\":\"ColumnDataSource\"},\"glyph\":{\"id\":\"602cab0d-4323-42a1-b282-bec4e4c82042\",\"type\":\"Line\"},\"hover_glyph\":null,\"muted_glyph\":null,\"nonselection_glyph\":{\"id\":\"99307122-9600-4720-9f6f-c0ec7ea502bb\",\"type\":\"Line\"},\"selection_glyph\":null,\"view\":{\"id\":\"260ab00d-e4e2-4873-956c-f2571de67ce6\",\"type\":\"CDSView\"}},\"id\":\"a30e0a44-c450-4e31-bbfc-1eeff7289d5d\",\"type\":\"GlyphRenderer\"},{\"attributes\":{\"active_drag\":\"auto\",\"active_inspect\":\"auto\",\"active_scroll\":\"auto\",\"active_tap\":\"auto\",\"tools\":[{\"id\":\"0ac6b498-eb1f-490b-9ccc-11bcf6b98703\",\"type\":\"PanTool\"},{\"id\":\"eeabbf1c-8e46-4e30-8dc7-dd45f6b0320b\",\"type\":\"WheelZoomTool\"},{\"id\":\"e4ca472f-dd98-4676-a0e7-481251f50510\",\"type\":\"BoxZoomTool\"},{\"id\":\"183f0713-196e-41f0-a801-19319ace5b59\",\"type\":\"SaveTool\"},{\"id\":\"dfdb8707-0dc1-46e5-a0ce-b81c3392f4c2\",\"type\":\"ResetTool\"},{\"id\":\"c1a2116d-7c0d-4ad9-a705-011ec330e7a9\",\"type\":\"HelpTool\"}]},\"id\":\"b3813994-353a-4a91-8436-9344abb4cb9d\",\"type\":\"Toolbar\"},{\"attributes\":{},\"id\":\"9e64611c-a726-49fd-957b-b18db58bd266\",\"type\":\"PanTool\"},{\"attributes\":{\"data_source\":{\"id\":\"26fe58aa-4b0e-4285-aa2e-9dd1a51dbd4f\",\"type\":\"ColumnDataSource\"},\"glyph\":{\"id\":\"e2f7db96-c785-4377-b2af-629ece769a98\",\"type\":\"Line\"},\"hover_glyph\":null,\"muted_glyph\":null,\"nonselection_glyph\":{\"id\":\"a0184632-db4a-4c63-b7cf-3c208153ee4f\",\"type\":\"Line\"},\"selection_glyph\":null,\"view\":{\"id\":\"8121b0e4-843c-4d49-948d-1f2e95ba9887\",\"type\":\"CDSView\"}},\"id\":\"5eb21676-4e37-47e8-a3f7-7134d8c226f3\",\"type\":\"GlyphRenderer\"},{\"attributes\":{\"callback\":null},\"id\":\"9e20da57-71b4-4374-9732-79a043476fc4\",\"type\":\"DataRange1d\"},{\"attributes\":{\"line_alpha\":{\"value\":0.1},\"line_color\":{\"value\":\"#1f77b4\"},\"x\":{\"field\":\"x\"},\"y\":{\"field\":\"y\"}},\"id\":\"99307122-9600-4720-9f6f-c0ec7ea502bb\",\"type\":\"Line\"},{\"attributes\":{},\"id\":\"183f0713-196e-41f0-a801-19319ace5b59\",\"type\":\"SaveTool\"},{\"attributes\":{\"callback\":null},\"id\":\"6d31824f-7db6-4877-ac42-d6d6b9ecf710\",\"type\":\"DataRange1d\"},{\"attributes\":{},\"id\":\"a2c4e9c0-879a-48b5-aff1-9bbfb68881c2\",\"type\":\"LinearScale\"},{\"attributes\":{\"callback\":null,\"column_names\":[\"x\",\"y\"],\"data\":{\"x\":{\"__ndarray__\":\"mpmZmZmZyb8SERERERHBvxIREREREbG/AAAAAAAAAAAQERERERGxPxAREREREcE/mpmZmZmZyT8=\",\"dtype\":\"float64\",\"shape\":[7]},\"y\":{\"__ndarray__\":\"qxJpMS1KUsAet/AgHpxRwIxbeBAP7lDAAAAAAABAUMDiSA/f4SNPwMiRHr7Dx03Aq9otnaVrTMA=\",\"dtype\":\"float64\",\"shape\":[7]}}},\"id\":\"45bd3e9d-6c6c-49c7-9b22-b2788a4b0195\",\"type\":\"ColumnDataSource\"},{\"attributes\":{},\"id\":\"ce2dbd50-4b6c-4a62-8495-08d0c24e95f8\",\"type\":\"LinearScale\"},{\"attributes\":{},\"id\":\"346c882c-412a-4aed-a169-05ecdd26b639\",\"type\":\"HelpTool\"},{\"attributes\":{\"plot\":{\"id\":\"b224fec0-ba5e-4dad-b712-95304eeee9cb\",\"subtype\":\"Figure\",\"type\":\"Plot\"},\"ticker\":{\"id\":\"bb0eb3ba-b5a6-4053-aeff-f399661264c5\",\"type\":\"BasicTicker\"}},\"id\":\"22350e72-9e7c-4667-96fc-b37e5bb40739\",\"type\":\"Grid\"},{\"attributes\":{\"active_drag\":\"auto\",\"active_inspect\":\"auto\",\"active_scroll\":\"auto\",\"active_tap\":\"auto\",\"tools\":[{\"id\":\"9e64611c-a726-49fd-957b-b18db58bd266\",\"type\":\"PanTool\"},{\"id\":\"cf6f61c7-37a8-4e58-a062-dd2f2cd49e67\",\"type\":\"WheelZoomTool\"},{\"id\":\"01da7109-97fe-40ca-9865-d11fb2d124e9\",\"type\":\"BoxZoomTool\"},{\"id\":\"07e7a1f4-25bf-42ad-8d3f-227d15a71b18\",\"type\":\"SaveTool\"},{\"id\":\"4204fe3d-1360-40d9-a325-05791e85af80\",\"type\":\"ResetTool\"},{\"id\":\"346c882c-412a-4aed-a169-05ecdd26b639\",\"type\":\"HelpTool\"}]},\"id\":\"bd6cb70c-1a39-4d10-9c89-374a58f1c9ea\",\"type\":\"Toolbar\"},{\"attributes\":{\"axis_label\":\"I (mA)\",\"formatter\":{\"id\":\"6e0cd480-4476-4cfb-b414-bf2a9fa6f7c3\",\"type\":\"BasicTickFormatter\"},\"plot\":{\"id\":\"b224fec0-ba5e-4dad-b712-95304eeee9cb\",\"subtype\":\"Figure\",\"type\":\"Plot\"},\"ticker\":{\"id\":\"bb0eb3ba-b5a6-4053-aeff-f399661264c5\",\"type\":\"BasicTicker\"}},\"id\":\"14c80b94-54ee-4776-aae4-88ab36c3f045\",\"type\":\"LinearAxis\"},{\"attributes\":{\"dimension\":1,\"plot\":{\"id\":\"05228896-7a4f-4a4e-ae3b-4c82e99b8343\",\"subtype\":\"Figure\",\"type\":\"Plot\"},\"ticker\":{\"id\":\"3b4f16fd-9958-4c95-9ad1-04b2d9e3333e\",\"type\":\"BasicTicker\"}},\"id\":\"9871b71b-ef56-4dca-8f9d-c864c09154c4\",\"type\":\"Grid\"},{\"attributes\":{},\"id\":\"bb0eb3ba-b5a6-4053-aeff-f399661264c5\",\"type\":\"BasicTicker\"},{\"attributes\":{\"axis_label\":\"mV\",\"formatter\":{\"id\":\"067cb881-9b2e-4551-9a3f-69b02bce341c\",\"type\":\"BasicTickFormatter\"},\"plot\":{\"id\":\"b224fec0-ba5e-4dad-b712-95304eeee9cb\",\"subtype\":\"Figure\",\"type\":\"Plot\"},\"ticker\":{\"id\":\"39b1116a-c57d-40c4-9e4f-9929b4a6baa4\",\"type\":\"BasicTicker\"}},\"id\":\"a3534889-a009-439c-aded-b3f0fb83f274\",\"type\":\"LinearAxis\"},{\"attributes\":{},\"id\":\"39b1116a-c57d-40c4-9e4f-9929b4a6baa4\",\"type\":\"BasicTicker\"},{\"attributes\":{\"dimension\":1,\"plot\":{\"id\":\"b224fec0-ba5e-4dad-b712-95304eeee9cb\",\"subtype\":\"Figure\",\"type\":\"Plot\"},\"ticker\":{\"id\":\"39b1116a-c57d-40c4-9e4f-9929b4a6baa4\",\"type\":\"BasicTicker\"}},\"id\":\"9361522e-06a8-446d-8b46-34e73432eea8\",\"type\":\"Grid\"},{\"attributes\":{},\"id\":\"3b4f16fd-9958-4c95-9ad1-04b2d9e3333e\",\"type\":\"BasicTicker\"},{\"attributes\":{\"data_source\":{\"id\":\"45bd3e9d-6c6c-49c7-9b22-b2788a4b0195\",\"type\":\"ColumnDataSource\"},\"glyph\":{\"id\":\"ce0b7172-845a-41e3-b3e5-89db3db5000d\",\"type\":\"Line\"},\"hover_glyph\":null,\"muted_glyph\":null,\"nonselection_glyph\":{\"id\":\"63388d5d-6527-4857-b506-547c6d22a959\",\"type\":\"Line\"},\"selection_glyph\":null,\"view\":{\"id\":\"9a69e921-12fe-4648-99bc-ce958bfb8afb\",\"type\":\"CDSView\"}},\"id\":\"06c3e9fb-1715-4235-9bc1-6504d16e5eb2\",\"type\":\"GlyphRenderer\"},{\"attributes\":{},\"id\":\"0ac6b498-eb1f-490b-9ccc-11bcf6b98703\",\"type\":\"PanTool\"},{\"attributes\":{\"line_alpha\":{\"value\":0.1},\"line_color\":{\"value\":\"#1f77b4\"},\"x\":{\"field\":\"x\"},\"y\":{\"field\":\"y\"}},\"id\":\"e5d9f1c0-e4f3-4d01-902a-71afb603ab2b\",\"type\":\"Line\"},{\"attributes\":{},\"id\":\"067cb881-9b2e-4551-9a3f-69b02bce341c\",\"type\":\"BasicTickFormatter\"},{\"attributes\":{},\"id\":\"eeabbf1c-8e46-4e30-8dc7-dd45f6b0320b\",\"type\":\"WheelZoomTool\"},{\"attributes\":{\"callback\":null},\"id\":\"e0beb22f-a025-41a4-aa6d-1006022739c9\",\"type\":\"DataRange1d\"},{\"attributes\":{\"line_color\":{\"value\":\"#1b9e77\"},\"x\":{\"field\":\"x\"},\"y\":{\"field\":\"y\"}},\"id\":\"dddb3733-b087-4146-98fa-ab4d4fe053fe\",\"type\":\"Line\"},{\"attributes\":{\"line_color\":{\"value\":\"#e7298a\"},\"x\":{\"field\":\"x\"},\"y\":{\"field\":\"y\"}},\"id\":\"602cab0d-4323-42a1-b282-bec4e4c82042\",\"type\":\"Line\"},{\"attributes\":{\"overlay\":{\"id\":\"ca1efb64-109c-4fa4-a950-c73f49fef63f\",\"type\":\"BoxAnnotation\"}},\"id\":\"01da7109-97fe-40ca-9865-d11fb2d124e9\",\"type\":\"BoxZoomTool\"},{\"attributes\":{\"callback\":null,\"column_names\":[\"x\",\"y\"],\"data\":{\"x\":{\"__ndarray__\":\"mpmZmZmZyb8SERERERHBvxIREREREbG/AAAAAAAAAAAQERERERGxPxAREREREcE/mpmZmZmZyT8=\",\"dtype\":\"float64\",\"shape\":[7]},\"y\":{\"__ndarray__\":\"pm0OPErJVcBsngko3PBTwDbPBBRuGFLAAAAAAABAUMCVYfbXI89MwCjD7K9HHknAuyTjh2ttRcA=\",\"dtype\":\"float64\",\"shape\":[7]}}},\"id\":\"26fe58aa-4b0e-4285-aa2e-9dd1a51dbd4f\",\"type\":\"ColumnDataSource\"},{\"attributes\":{\"axis_label\":\"Input Resistance\",\"formatter\":{\"id\":\"b126b035-82dd-4b2e-80f1-fd82ac82315c\",\"type\":\"BasicTickFormatter\"},\"plot\":{\"id\":\"05228896-7a4f-4a4e-ae3b-4c82e99b8343\",\"subtype\":\"Figure\",\"type\":\"Plot\"},\"ticker\":{\"id\":\"3b4f16fd-9958-4c95-9ad1-04b2d9e3333e\",\"type\":\"BasicTicker\"}},\"id\":\"d4d62a1d-6f23-4d74-9d58-df6a18534b2f\",\"type\":\"LinearAxis\"},{\"attributes\":{\"callback\":null,\"column_names\":[\"x\",\"y\"],\"data\":{\"x\":{\"__ndarray__\":\"mpmZmZmZyb8SERERERHBvxIREREREbG/AAAAAAAAAAAQERERERGxPxAREREREcE/mpmZmZmZyT8=\",\"dtype\":\"float64\",\"shape\":[7]},\"y\":{\"__ndarray__\":\"cCBI6oJmbsCiFTCcrPlmwKIVMJysGV/AAAAAAABAUMD6pf48NmUWwIdWwHCy5kpA5UCQ1AVNXEA=\",\"dtype\":\"float64\",\"shape\":[7]}}},\"id\":\"91fcc531-73d8-40b2-930a-f1a425185e55\",\"type\":\"ColumnDataSource\"},{\"attributes\":{\"children\":[{\"id\":\"b224fec0-ba5e-4dad-b712-95304eeee9cb\",\"subtype\":\"Figure\",\"type\":\"Plot\"},{\"id\":\"05228896-7a4f-4a4e-ae3b-4c82e99b8343\",\"subtype\":\"Figure\",\"type\":\"Plot\"}]},\"id\":\"ac16c9b8-6be1-4efe-a847-9302f3491456\",\"type\":\"Row\"},{\"attributes\":{},\"id\":\"dfdb8707-0dc1-46e5-a0ce-b81c3392f4c2\",\"type\":\"ResetTool\"},{\"attributes\":{\"source\":{\"id\":\"5fb1aa4b-b667-467c-9cb9-a1ade1fb63cc\",\"type\":\"ColumnDataSource\"}},\"id\":\"260ab00d-e4e2-4873-956c-f2571de67ce6\",\"type\":\"CDSView\"},{\"attributes\":{\"source\":{\"id\":\"91fcc531-73d8-40b2-930a-f1a425185e55\",\"type\":\"ColumnDataSource\"}},\"id\":\"e4ca9e51-9d0b-4cfe-84b5-c75725a57f7f\",\"type\":\"CDSView\"},{\"attributes\":{},\"id\":\"59aa5c70-b106-4082-91ee-017067927f9e\",\"type\":\"LinearScale\"},{\"attributes\":{\"overlay\":{\"id\":\"bc5f82c9-119c-460e-9365-5b36aecf0ac5\",\"type\":\"BoxAnnotation\"}},\"id\":\"e4ca472f-dd98-4676-a0e7-481251f50510\",\"type\":\"BoxZoomTool\"},{\"attributes\":{\"line_color\":{\"value\":\"#d95f02\"},\"x\":{\"field\":\"x\"},\"y\":{\"field\":\"y\"}},\"id\":\"0b42634c-9429-4613-b4ca-303488b655b8\",\"type\":\"Line\"},{\"attributes\":{\"line_color\":{\"value\":\"#1f77b4\"},\"x\":{\"field\":\"x\"},\"y\":{\"field\":\"y\"}},\"id\":\"a25d265e-1adb-47eb-876a-a33ccad33d37\",\"type\":\"Line\"},{\"attributes\":{\"source\":{\"id\":\"45bd3e9d-6c6c-49c7-9b22-b2788a4b0195\",\"type\":\"ColumnDataSource\"}},\"id\":\"9a69e921-12fe-4648-99bc-ce958bfb8afb\",\"type\":\"CDSView\"},{\"attributes\":{},\"id\":\"6e0cd480-4476-4cfb-b414-bf2a9fa6f7c3\",\"type\":\"BasicTickFormatter\"},{\"attributes\":{\"plot\":{\"id\":\"05228896-7a4f-4a4e-ae3b-4c82e99b8343\",\"subtype\":\"Figure\",\"type\":\"Plot\"},\"ticker\":{\"id\":\"a5abd33e-9363-4f01-94c5-22a3475e4962\",\"type\":\"BasicTicker\"}},\"id\":\"e3689cd7-1abd-4817-a8a7-3727a82207c5\",\"type\":\"Grid\"},{\"attributes\":{\"data_source\":{\"id\":\"91fcc531-73d8-40b2-930a-f1a425185e55\",\"type\":\"ColumnDataSource\"},\"glyph\":{\"id\":\"dddb3733-b087-4146-98fa-ab4d4fe053fe\",\"type\":\"Line\"},\"hover_glyph\":null,\"muted_glyph\":null,\"nonselection_glyph\":{\"id\":\"9fad47ca-c2d3-4ecd-adf3-63022299350a\",\"type\":\"Line\"},\"selection_glyph\":null,\"view\":{\"id\":\"e4ca9e51-9d0b-4cfe-84b5-c75725a57f7f\",\"type\":\"CDSView\"}},\"id\":\"7c5a3199-cbd2-4b80-bf7b-59c473b72274\",\"type\":\"GlyphRenderer\"},{\"attributes\":{\"callback\":null,\"column_names\":[\"x\",\"y\"],\"data\":{\"x\":{\"__ndarray__\":\"mpmZmZmZyb8SERERERHBvxIREREREbG/AAAAAAAAAAAQERERERGxPxAREREREcE/mpmZmZmZyT8=\",\"dtype\":\"float64\",\"shape\":[7]},\"y\":{\"__ndarray__\":\"1eenQb6sUcCPmhqBKTNRwElNjcCUuVDAAAAAAABAUMBxZeV+1oxPwOPKyv2smU7AWzCwfIOmTcA=\",\"dtype\":\"float64\",\"shape\":[7]}}},\"id\":\"b49709c7-0c0a-4e7f-b0f4-73a6f296ce71\",\"type\":\"ColumnDataSource\"},{\"attributes\":{\"callback\":null},\"id\":\"87c638cb-6b7d-4a7f-86e4-4a26de4ca91c\",\"type\":\"DataRange1d\"},{\"attributes\":{\"bottom_units\":\"screen\",\"fill_alpha\":{\"value\":0.5},\"fill_color\":{\"value\":\"lightgrey\"},\"left_units\":\"screen\",\"level\":\"overlay\",\"line_alpha\":{\"value\":1.0},\"line_color\":{\"value\":\"black\"},\"line_dash\":[4,4],\"line_width\":{\"value\":2},\"plot\":null,\"render_mode\":\"css\",\"right_units\":\"screen\",\"top_units\":\"screen\"},\"id\":\"bc5f82c9-119c-460e-9365-5b36aecf0ac5\",\"type\":\"BoxAnnotation\"},{\"attributes\":{\"line_alpha\":{\"value\":0.1},\"line_color\":{\"value\":\"#1f77b4\"},\"x\":{\"field\":\"x\"},\"y\":{\"field\":\"y\"}},\"id\":\"63388d5d-6527-4857-b506-547c6d22a959\",\"type\":\"Line\"},{\"attributes\":{\"callback\":null,\"column_names\":[\"x\",\"y\"],\"data\":{\"x\":{\"__ndarray__\":\"mpmZmZmZyb8SERERERHBvxIREREREbG/AAAAAAAAAAAQERERERGxPxAREREREcE/mpmZmZmZyT8=\",\"dtype\":\"float64\",\"shape\":[7]},\"y\":{\"__ndarray__\":\"5mjTJxRbXMDwReJvDVJYwPci8bcGSVTAAAAAAABAUMARuh2Q8m1IwCV0OyDlW0DAblyyYK+TMMA=\",\"dtype\":\"float64\",\"shape\":[7]}}},\"id\":\"7a35f4ac-46b0-44ff-a717-415f55072e75\",\"type\":\"ColumnDataSource\"},{\"attributes\":{\"line_color\":{\"value\":\"#7570b3\"},\"x\":{\"field\":\"x\"},\"y\":{\"field\":\"y\"}},\"id\":\"e2f7db96-c785-4377-b2af-629ece769a98\",\"type\":\"Line\"},{\"attributes\":{},\"id\":\"9d236f67-e9a0-40f4-bb78-4dbec369b164\",\"type\":\"LinearScale\"},{\"attributes\":{},\"id\":\"c1a2116d-7c0d-4ad9-a705-011ec330e7a9\",\"type\":\"HelpTool\"},{\"attributes\":{\"line_color\":{\"value\":\"#66a61e\"},\"x\":{\"field\":\"x\"},\"y\":{\"field\":\"y\"}},\"id\":\"ce0b7172-845a-41e3-b3e5-89db3db5000d\",\"type\":\"Line\"},{\"attributes\":{\"line_alpha\":{\"value\":0.1},\"line_color\":{\"value\":\"#1f77b4\"},\"x\":{\"field\":\"x\"},\"y\":{\"field\":\"y\"}},\"id\":\"620ade3d-9c60-4ce6-951e-106a52afdcb8\",\"type\":\"Line\"},{\"attributes\":{\"line_alpha\":{\"value\":0.1},\"line_color\":{\"value\":\"#1f77b4\"},\"x\":{\"field\":\"x\"},\"y\":{\"field\":\"y\"}},\"id\":\"93920f21-b040-4729-90d7-7c3c2b033705\",\"type\":\"Line\"},{\"attributes\":{},\"id\":\"196db22f-adfb-4196-9d7f-8005b7750bc6\",\"type\":\"BasicTickFormatter\"},{\"attributes\":{\"plot\":null,\"text\":\"\"},\"id\":\"5af1fd84-42bd-49f7-91ee-1f1cf5596e25\",\"type\":\"Title\"},{\"attributes\":{\"below\":[{\"id\":\"557b473e-dcb9-4c7c-b73c-52506c96166a\",\"type\":\"LinearAxis\"}],\"left\":[{\"id\":\"d4d62a1d-6f23-4d74-9d58-df6a18534b2f\",\"type\":\"LinearAxis\"}],\"plot_height\":400,\"plot_width\":400,\"renderers\":[{\"id\":\"557b473e-dcb9-4c7c-b73c-52506c96166a\",\"type\":\"LinearAxis\"},{\"id\":\"e3689cd7-1abd-4817-a8a7-3727a82207c5\",\"type\":\"Grid\"},{\"id\":\"d4d62a1d-6f23-4d74-9d58-df6a18534b2f\",\"type\":\"LinearAxis\"},{\"id\":\"9871b71b-ef56-4dca-8f9d-c864c09154c4\",\"type\":\"Grid\"},{\"id\":\"ca1efb64-109c-4fa4-a950-c73f49fef63f\",\"type\":\"BoxAnnotation\"},{\"id\":\"6b166ebf-c9fb-4dbc-8f3f-a9670dc417b9\",\"type\":\"GlyphRenderer\"}],\"title\":{\"id\":\"fb083014-8951-4f36-b078-f32e57c755d2\",\"type\":\"Title\"},\"toolbar\":{\"id\":\"bd6cb70c-1a39-4d10-9c89-374a58f1c9ea\",\"type\":\"Toolbar\"},\"x_range\":{\"id\":\"e0beb22f-a025-41a4-aa6d-1006022739c9\",\"type\":\"DataRange1d\"},\"x_scale\":{\"id\":\"9d236f67-e9a0-40f4-bb78-4dbec369b164\",\"type\":\"LinearScale\"},\"y_range\":{\"id\":\"87c638cb-6b7d-4a7f-86e4-4a26de4ca91c\",\"type\":\"DataRange1d\"},\"y_scale\":{\"id\":\"59aa5c70-b106-4082-91ee-017067927f9e\",\"type\":\"LinearScale\"}},\"id\":\"05228896-7a4f-4a4e-ae3b-4c82e99b8343\",\"subtype\":\"Figure\",\"type\":\"Plot\"},{\"attributes\":{},\"id\":\"a5abd33e-9363-4f01-94c5-22a3475e4962\",\"type\":\"BasicTicker\"},{\"attributes\":{\"line_alpha\":{\"value\":0.1},\"line_color\":{\"value\":\"#1f77b4\"},\"x\":{\"field\":\"x\"},\"y\":{\"field\":\"y\"}},\"id\":\"9fad47ca-c2d3-4ecd-adf3-63022299350a\",\"type\":\"Line\"}],\"root_ids\":[\"a2b906ae-f5ed-420d-a41d-a135995ac456\"]},\"title\":\"Bokeh Application\",\"version\":\"0.12.10\"}};\n",
       "    var render_items = [{\"docid\":\"9319da12-d2b6-425b-9d63-f3ff07fe77e9\",\"elementid\":\"398158f3-8de0-4ee8-8319-8578c01b96c6\",\"modelid\":\"a2b906ae-f5ed-420d-a41d-a135995ac456\"}];\n",
       "\n",
       "    root.Bokeh.embed.embed_items(docs_json, render_items);\n",
       "  }\n",
       "\n",
       "  if (root.Bokeh !== undefined) {\n",
       "    embed_document(root);\n",
       "  } else {\n",
       "    var attempts = 0;\n",
       "    var timer = setInterval(function(root) {\n",
       "      if (root.Bokeh !== undefined) {\n",
       "        embed_document(root);\n",
       "        clearInterval(timer);\n",
       "      }\n",
       "      attempts++;\n",
       "      if (attempts > 100) {\n",
       "        console.log(\"Bokeh: ERROR: Unable to embed document because BokehJS library is missing\")\n",
       "        clearInterval(timer);\n",
       "      }\n",
       "    }, 10, root)\n",
       "  }\n",
       "})(window);"
      ],
      "application/vnd.bokehjs_exec.v0+json": ""
     },
     "metadata": {
      "application/vnd.bokehjs_exec.v0+json": {
       "id": "a2b906ae-f5ed-420d-a41d-a135995ac456"
      }
     },
     "output_type": "display_data"
    }
   ],
   "source": [
    "# V-I slope vs diam\n",
    "diams = np.linspace(10,100,num=50)\n",
    "V_ss = np.zeros([I.shape[0],50])\n",
    "slope = np.zeros([50,])\n",
    "for i, diam in enumerate(list(diams)):  \n",
    "    V_ss[:,i], slope[i] = get_VI(diam,2800,1)\n",
    "    \n",
    "VI = bkp.figure(plot_height=400,plot_width=400)\n",
    "for i, color in zip(range(0,50,5),colors):\n",
    "    VI.line(I,V_ss[:,i],color=color)\n",
    "VI.xaxis.axis_label=\"I (mA)\"\n",
    "VI.yaxis.axis_label=\"mV\"\n",
    "    \n",
    "S = bkp.figure(plot_height=400,plot_width=400)\n",
    "S.yaxis.axis_label=\"Input Resistance\"\n",
    "S.xaxis.axis_label=\"diameter\"\n",
    "S.line(diams,slope)\n",
    "bkp.show(bk.layouts.layout([[VI,S]]))\n",
    "\n"
   ]
  },
  {
   "cell_type": "code",
   "execution_count": 22,
   "metadata": {},
   "outputs": [
    {
     "data": {
      "text/html": [
       "\n",
       "<div class=\"bk-root\">\n",
       "    <div class=\"bk-plotdiv\" id=\"78419a1b-95a1-474e-8dcc-f43073ca62be\"></div>\n",
       "</div>"
      ]
     },
     "metadata": {},
     "output_type": "display_data"
    },
    {
     "data": {
      "application/javascript": [
       "(function(root) {\n",
       "  function embed_document(root) {\n",
       "    var docs_json = {\"bfacafd4-20af-419b-8417-c82bf1c1e7c8\":{\"roots\":{\"references\":[{\"attributes\":{\"line_color\":{\"value\":\"#7570b3\"},\"x\":{\"field\":\"x\"},\"y\":{\"field\":\"y\"}},\"id\":\"959f0610-38f1-40a8-b579-0f0cf9ea7b7e\",\"type\":\"Line\"},{\"attributes\":{\"line_color\":{\"value\":\"#d95f02\"},\"x\":{\"field\":\"x\"},\"y\":{\"field\":\"y\"}},\"id\":\"4d37b0f7-b603-4a14-b656-06e76b624ee4\",\"type\":\"Line\"},{\"attributes\":{\"source\":{\"id\":\"915aa4ca-0638-43dc-854e-feb90b25e289\",\"type\":\"ColumnDataSource\"}},\"id\":\"0ea76d61-7056-4bf5-afd8-3c782a592b08\",\"type\":\"CDSView\"},{\"attributes\":{\"line_color\":{\"value\":\"#e7298a\"},\"x\":{\"field\":\"x\"},\"y\":{\"field\":\"y\"}},\"id\":\"d5f43113-7a9f-40b6-a04c-b82dbbafdd04\",\"type\":\"Line\"},{\"attributes\":{\"line_alpha\":{\"value\":0.1},\"line_color\":{\"value\":\"#1f77b4\"},\"x\":{\"field\":\"x\"},\"y\":{\"field\":\"y\"}},\"id\":\"b892f607-884c-4fa9-b584-6f3a7dd86ca6\",\"type\":\"Line\"},{\"attributes\":{\"data_source\":{\"id\":\"915aa4ca-0638-43dc-854e-feb90b25e289\",\"type\":\"ColumnDataSource\"},\"glyph\":{\"id\":\"4d37b0f7-b603-4a14-b656-06e76b624ee4\",\"type\":\"Line\"},\"hover_glyph\":null,\"muted_glyph\":null,\"nonselection_glyph\":{\"id\":\"b892f607-884c-4fa9-b584-6f3a7dd86ca6\",\"type\":\"Line\"},\"selection_glyph\":null,\"view\":{\"id\":\"0ea76d61-7056-4bf5-afd8-3c782a592b08\",\"type\":\"CDSView\"}},\"id\":\"925d102b-e249-4655-84ce-37a0deed76a5\",\"type\":\"GlyphRenderer\"},{\"attributes\":{\"callback\":null,\"column_names\":[\"x\",\"y\"],\"data\":{\"x\":{\"__ndarray__\":\"mpmZmZmZyb8SERERERHBvxIREREREbG/AAAAAAAAAAAQERERERGxPxAREREREcE/mpmZmZmZyT8=\",\"dtype\":\"float64\",\"shape\":[7]},\"y\":{\"__ndarray__\":\"asdx9LZ6bsD0hPaiJAdnwP+E9qIkJ1/AAAAAAABAUMB+r5fQtY0VwBcU2ouSHEtA7Y7j6G11XEA=\",\"dtype\":\"float64\",\"shape\":[7]}}},\"id\":\"924b5fa4-c2b2-463c-bcde-d2122aa32740\",\"type\":\"ColumnDataSource\"},{\"attributes\":{\"line_color\":{\"value\":\"#66a61e\"},\"x\":{\"field\":\"x\"},\"y\":{\"field\":\"y\"}},\"id\":\"52f6807e-3bc2-4071-817c-ef10dd1a95be\",\"type\":\"Line\"},{\"attributes\":{\"callback\":null,\"column_names\":[\"x\",\"y\"],\"data\":{\"x\":{\"__ndarray__\":\"AAAAAAAAWUB7zOU47shcQBBQLcBGkmBALA5FmYkUY0BUjDG0CPhlQOHLsKN8S2lAb77uhdgfbUABhZ8yUMRwQLBPTVYmTnNAPppbVV46dkDHIqU13Zd5QO9fMUPJd31Ah4vfuvD2gEBAoccIcYiDQJddIEJ8fYZAAS0YZiTliUAkxhqJw9CNQDkMICEqKpFA76H3vWvDk0DyPEnXZMGWQKkrY+1UM5pAILxwecoqnkAXKvUy/l2hQHz2UokY/6NAScLBeBoGp0A6+xWMcYKqQML7bT/hha5AwsFkw26SsUAm/pOEeTu0QAslrZGfS7dAaOAPC33SukBpu94PC+K+QN3Z9qp9x8FAK8DMz5B4xED+FHyU9pHHQNufmDt6I8tAQJI9KUs/z0DtRMbHLP3RQHkSepFgttRAHscC+yHZ10CP4Xn3a3XbQLWz0NOknd9AiXWR/X0z4kDT+Zb26vTkQCVFj0YkIehAsuAYIVXI60AYg8dhG/3vQG6FyzVzavJAEEWwMjI09UAAAAAAAGr4QA==\",\"dtype\":\"float64\",\"shape\":[50]},\"y\":{\"__ndarray__\":\"i9HSsP354D9AY5k69IvjP8siO5aHgeY/ADWoeMzp6T8rHhYVINbtPyu2Kk1ALfE/G9rhivnG8z8gCIphfMX2P/sOYg8LOPo/NfbKNTcw/j+gauewHWEBQJDOWxGxAgRAO+cHXj4KB0C1H/jnNYcKQDvqCF1eiw5ATa1ir5eVEUDoSx7oHD8UQMML4fbPTxdAOY75xE/XGkDpnR5umOceQKoLvbSuyiFAubFyeDV8JECIxvUK/5UnQBH0PN9yJytAC8WVr4lBL0C/z34yCPsxQG3ciK8YqzRA4V98YyC4N0BvmjzJiiY7QE+c69W+9j5AD20MfRySQUAU9B4GotJDQNFbpHazNUZAwBKLzjeySEA5FUPl8T1LQOsJ7UVJzk1AG0Z2XIIsUEDzWnJhcGpRQCFOvLH7nFJAN0R+CvzAU0BbcPXuGtRUQEBuBHLK1FVABUQk9DDCVkBxoK+eDpxXQOBdeICgYlhAPf97I4QWWUBU1Cl2nbhZQDhV4Q8ASlpAHQVEOdzLWkAs7Gmzbz9bQA==\",\"dtype\":\"float64\",\"shape\":[50]}}},\"id\":\"661f1f27-c4af-430b-ad36-03841006bfd1\",\"type\":\"ColumnDataSource\"},{\"attributes\":{\"source\":{\"id\":\"924b5fa4-c2b2-463c-bcde-d2122aa32740\",\"type\":\"ColumnDataSource\"}},\"id\":\"ed4e43f0-4a93-4207-a6cd-27e587bdfc7f\",\"type\":\"CDSView\"},{\"attributes\":{\"callback\":null,\"column_names\":[\"x\",\"y\"],\"data\":{\"x\":{\"__ndarray__\":\"mpmZmZmZyb8SERERERHBvxIREREREbG/AAAAAAAAAAAQERERERGxPxAREREREcE/mpmZmZmZyT8=\",\"dtype\":\"float64\",\"shape\":[7]},\"y\":{\"__ndarray__\":\"URQ4MxSvc8AxcPXuGvRswBe4encNimLAAAAAAABAUMBPwdW7a1AyQKfg6t01aFlAcChwZigeZ0A=\",\"dtype\":\"float64\",\"shape\":[7]}}},\"id\":\"6e2cf4a2-8ed5-4a21-bbc5-f17592d875be\",\"type\":\"ColumnDataSource\"},{\"attributes\":{\"line_alpha\":{\"value\":0.1},\"line_color\":{\"value\":\"#1f77b4\"},\"x\":{\"field\":\"x\"},\"y\":{\"field\":\"y\"}},\"id\":\"ab76b446-87d2-4941-9d9b-1aa4b71fdcf4\",\"type\":\"Line\"},{\"attributes\":{\"data_source\":{\"id\":\"924b5fa4-c2b2-463c-bcde-d2122aa32740\",\"type\":\"ColumnDataSource\"},\"glyph\":{\"id\":\"959f0610-38f1-40a8-b579-0f0cf9ea7b7e\",\"type\":\"Line\"},\"hover_glyph\":null,\"muted_glyph\":null,\"nonselection_glyph\":{\"id\":\"ab76b446-87d2-4941-9d9b-1aa4b71fdcf4\",\"type\":\"Line\"},\"selection_glyph\":null,\"view\":{\"id\":\"ed4e43f0-4a93-4207-a6cd-27e587bdfc7f\",\"type\":\"CDSView\"}},\"id\":\"af9c55b5-0300-40f5-bbb9-abab385d51cb\",\"type\":\"GlyphRenderer\"},{\"attributes\":{\"source\":{\"id\":\"6e2cf4a2-8ed5-4a21-bbc5-f17592d875be\",\"type\":\"ColumnDataSource\"}},\"id\":\"b2e88b10-1c81-4417-a2a4-f2a3d4518966\",\"type\":\"CDSView\"},{\"attributes\":{\"data_source\":{\"id\":\"6e2cf4a2-8ed5-4a21-bbc5-f17592d875be\",\"type\":\"ColumnDataSource\"},\"glyph\":{\"id\":\"d5f43113-7a9f-40b6-a04c-b82dbbafdd04\",\"type\":\"Line\"},\"hover_glyph\":null,\"muted_glyph\":null,\"nonselection_glyph\":{\"id\":\"1ad74172-a089-41e1-8fd4-18475d70f3c6\",\"type\":\"Line\"},\"selection_glyph\":null,\"view\":{\"id\":\"b2e88b10-1c81-4417-a2a4-f2a3d4518966\",\"type\":\"CDSView\"}},\"id\":\"14bad062-b179-4d25-813f-fec7d658e883\",\"type\":\"GlyphRenderer\"},{\"attributes\":{\"callback\":null,\"column_names\":[\"x\",\"y\"],\"data\":{\"x\":{\"__ndarray__\":\"mpmZmZmZyb8SERERERHBvxIREREREbG/AAAAAAAAAAAQERERERGxPxAREREREcE/mpmZmZmZyT8=\",\"dtype\":\"float64\",\"shape\":[7]},\"y\":{\"__ndarray__\":\"gP+cGuPgdsCQ/70RQptwwJL/vRFCq2TAAAAAAABAUMA4/vdGCK1BQBz/eyOE9mBAuf45NcaBbUA=\",\"dtype\":\"float64\",\"shape\":[7]}}},\"id\":\"4631b2b8-572a-405a-b6da-c603d2012307\",\"type\":\"ColumnDataSource\"},{\"attributes\":{\"data_source\":{\"id\":\"661f1f27-c4af-430b-ad36-03841006bfd1\",\"type\":\"ColumnDataSource\"},\"glyph\":{\"id\":\"26e208f3-9d15-4b53-954b-cd0eb3c8ac58\",\"type\":\"Line\"},\"hover_glyph\":null,\"muted_glyph\":null,\"nonselection_glyph\":{\"id\":\"55e5d4a1-7a79-4c21-8fec-a3bbff0bcef9\",\"type\":\"Line\"},\"selection_glyph\":null,\"view\":{\"id\":\"97a642b5-5ba6-4457-9313-6b15f8c12306\",\"type\":\"CDSView\"}},\"id\":\"551c1109-6def-47ac-acca-bcb8343e908c\",\"type\":\"GlyphRenderer\"},{\"attributes\":{\"line_alpha\":{\"value\":0.1},\"line_color\":{\"value\":\"#1f77b4\"},\"x\":{\"field\":\"x\"},\"y\":{\"field\":\"y\"}},\"id\":\"1ad74172-a089-41e1-8fd4-18475d70f3c6\",\"type\":\"Line\"},{\"attributes\":{\"data_source\":{\"id\":\"4631b2b8-572a-405a-b6da-c603d2012307\",\"type\":\"ColumnDataSource\"},\"glyph\":{\"id\":\"52f6807e-3bc2-4071-817c-ef10dd1a95be\",\"type\":\"Line\"},\"hover_glyph\":null,\"muted_glyph\":null,\"nonselection_glyph\":{\"id\":\"645537ca-fa0a-4ae1-bb0f-0bb3ca0cd001\",\"type\":\"Line\"},\"selection_glyph\":null,\"view\":{\"id\":\"555baf9b-b840-47e8-ab14-5da32005ebde\",\"type\":\"CDSView\"}},\"id\":\"a711c39f-2609-473e-b28a-3be63d85df81\",\"type\":\"GlyphRenderer\"},{\"attributes\":{\"line_alpha\":{\"value\":0.1},\"line_color\":{\"value\":\"#1f77b4\"},\"x\":{\"field\":\"x\"},\"y\":{\"field\":\"y\"}},\"id\":\"645537ca-fa0a-4ae1-bb0f-0bb3ca0cd001\",\"type\":\"Line\"},{\"attributes\":{\"children\":[{\"id\":\"cce37b28-4e20-4c11-b814-24f096e45125\",\"type\":\"Row\"}]},\"id\":\"19cbf2c8-78f5-494e-a1b6-1967ae1ada34\",\"type\":\"Column\"},{\"attributes\":{\"callback\":null,\"column_names\":[\"x\",\"y\"],\"data\":{\"x\":{\"__ndarray__\":\"mpmZmZmZyb8SERERERHBvxIREREREbG/AAAAAAAAAAAQERERERGxPxAREREREcE/mpmZmZmZyT8=\",\"dtype\":\"float64\",\"shape\":[7]},\"y\":{\"__ndarray__\":\"/bGVyBrhUcCmdg7bEVZRwE87h+0Iy1DAAAAAAABAUMBaifEk7mlPwKwS40ncU07A/pvUbso9TcA=\",\"dtype\":\"float64\",\"shape\":[7]}}},\"id\":\"4f5b42d8-eb87-4551-b294-50f557898833\",\"type\":\"ColumnDataSource\"},{\"attributes\":{\"below\":[{\"id\":\"80c94f5a-f296-4fa6-acb8-e8c33e9ef626\",\"type\":\"LinearAxis\"}],\"left\":[{\"id\":\"76bdb6d5-2739-4a0a-81f6-a30b1b8840a1\",\"type\":\"LinearAxis\"}],\"plot_height\":400,\"plot_width\":400,\"renderers\":[{\"id\":\"80c94f5a-f296-4fa6-acb8-e8c33e9ef626\",\"type\":\"LinearAxis\"},{\"id\":\"a35cadfc-e849-4dd2-8409-daa8b5fe3e75\",\"type\":\"Grid\"},{\"id\":\"76bdb6d5-2739-4a0a-81f6-a30b1b8840a1\",\"type\":\"LinearAxis\"},{\"id\":\"b3535b7f-cf8b-4e00-b2c5-9ec0f5fd742d\",\"type\":\"Grid\"},{\"id\":\"1c7ff05c-a90a-4e2d-bce4-c8bf9c71be95\",\"type\":\"BoxAnnotation\"},{\"id\":\"ff529ea4-5cc1-4dae-9702-0c10a31896d6\",\"type\":\"GlyphRenderer\"},{\"id\":\"906c1b8c-7a99-4986-ae76-ab8353037941\",\"type\":\"GlyphRenderer\"},{\"id\":\"1db3fc95-bdd2-4319-8d45-25774cb5d001\",\"type\":\"GlyphRenderer\"},{\"id\":\"59feb266-a652-485c-b948-d8be080654d5\",\"type\":\"GlyphRenderer\"},{\"id\":\"bd478584-60cd-4937-a225-b417d22da59b\",\"type\":\"GlyphRenderer\"},{\"id\":\"aa00e2a3-eb1f-4538-b6fe-f2e4b490c3a3\",\"type\":\"GlyphRenderer\"},{\"id\":\"925d102b-e249-4655-84ce-37a0deed76a5\",\"type\":\"GlyphRenderer\"},{\"id\":\"af9c55b5-0300-40f5-bbb9-abab385d51cb\",\"type\":\"GlyphRenderer\"},{\"id\":\"14bad062-b179-4d25-813f-fec7d658e883\",\"type\":\"GlyphRenderer\"},{\"id\":\"a711c39f-2609-473e-b28a-3be63d85df81\",\"type\":\"GlyphRenderer\"}],\"title\":{\"id\":\"130e45c9-1248-4e09-a87c-2b451507b2c6\",\"type\":\"Title\"},\"toolbar\":{\"id\":\"7d06a3bc-8f85-4417-8c5a-1018f3cfe54b\",\"type\":\"Toolbar\"},\"x_range\":{\"id\":\"92c40ba2-f89d-4876-bf53-b7efd0861254\",\"type\":\"DataRange1d\"},\"x_scale\":{\"id\":\"22797039-dc10-41ce-91be-87d6f10a35aa\",\"type\":\"LinearScale\"},\"y_range\":{\"id\":\"4d16a5d2-ce64-479c-8013-b234b09f336f\",\"type\":\"DataRange1d\"},\"y_scale\":{\"id\":\"5bc8b935-6f73-47e3-9d69-91b950fe7896\",\"type\":\"LinearScale\"}},\"id\":\"0059ec3a-e980-42d8-945e-9725da8b5f87\",\"subtype\":\"Figure\",\"type\":\"Plot\"},{\"attributes\":{\"source\":{\"id\":\"4631b2b8-572a-405a-b6da-c603d2012307\",\"type\":\"ColumnDataSource\"}},\"id\":\"555baf9b-b840-47e8-ab14-5da32005ebde\",\"type\":\"CDSView\"},{\"attributes\":{},\"id\":\"ad6d7b8a-4879-4988-a39b-a6a959489706\",\"type\":\"LinearScale\"},{\"attributes\":{\"callback\":null,\"column_names\":[\"x\",\"y\"],\"data\":{\"x\":{\"__ndarray__\":\"mpmZmZmZyb8SERERERHBvxIREREREbG/AAAAAAAAAAAQERERERGxPxAREREREcE/mpmZmZmZyT8=\",\"dtype\":\"float64\",\"shape\":[7]},\"y\":{\"__ndarray__\":\"6fAk8tulUMBFS8P254NQwKKlYfvzYVDAAAAAAABAUMBeWp4EDB5QwHRpeRIw+E/ALR62G0i0T8A=\",\"dtype\":\"float64\",\"shape\":[7]}}},\"id\":\"8403fb2e-ece7-46b9-af42-a4f7413d4c0a\",\"type\":\"ColumnDataSource\"},{\"attributes\":{\"active_drag\":\"auto\",\"active_inspect\":\"auto\",\"active_scroll\":\"auto\",\"active_tap\":\"auto\",\"tools\":[{\"id\":\"2c97414f-116c-4390-8afb-8359752969ea\",\"type\":\"PanTool\"},{\"id\":\"9990f1b7-d2bb-477f-88f7-e15ffd37ad05\",\"type\":\"WheelZoomTool\"},{\"id\":\"018e6d76-07ed-4779-8037-edd87635a0de\",\"type\":\"BoxZoomTool\"},{\"id\":\"c5262134-e239-4fb0-8d45-1d80fda5f4b3\",\"type\":\"SaveTool\"},{\"id\":\"52593b95-93e2-4ec1-839e-92030aae8b09\",\"type\":\"ResetTool\"},{\"id\":\"cb76d585-b6c1-49aa-b5bd-1fb6a2a20001\",\"type\":\"HelpTool\"}]},\"id\":\"3dbaac27-e9dc-4a38-a2b8-58757a66cff2\",\"type\":\"Toolbar\"},{\"attributes\":{\"source\":{\"id\":\"8403fb2e-ece7-46b9-af42-a4f7413d4c0a\",\"type\":\"ColumnDataSource\"}},\"id\":\"430ae6e4-b7fe-4ccd-b86a-6bc30965f9eb\",\"type\":\"CDSView\"},{\"attributes\":{\"active_drag\":\"auto\",\"active_inspect\":\"auto\",\"active_scroll\":\"auto\",\"active_tap\":\"auto\",\"tools\":[{\"id\":\"e79444b5-19c4-4565-b7d4-a6477d00c42d\",\"type\":\"PanTool\"},{\"id\":\"6819164a-5d97-41d2-bf75-93c7ffbf32e1\",\"type\":\"WheelZoomTool\"},{\"id\":\"cc16223e-e27c-4549-9829-169a19c3441a\",\"type\":\"BoxZoomTool\"},{\"id\":\"e87f5c06-3bd9-49dc-a691-946f244ff488\",\"type\":\"SaveTool\"},{\"id\":\"c830d77e-b8f5-417c-9f29-53bcef0422f5\",\"type\":\"ResetTool\"},{\"id\":\"031959dc-b978-47ea-a05b-42cf6a7ee0fb\",\"type\":\"HelpTool\"}]},\"id\":\"7d06a3bc-8f85-4417-8c5a-1018f3cfe54b\",\"type\":\"Toolbar\"},{\"attributes\":{\"callback\":null},\"id\":\"173c8ce7-91c0-4d3a-a240-8059d697e42e\",\"type\":\"DataRange1d\"},{\"attributes\":{\"callback\":null,\"column_names\":[\"x\",\"y\"],\"data\":{\"x\":{\"__ndarray__\":\"mpmZmZmZyb8SERERERHBvxIREREREbG/AAAAAAAAAAAQERERERGxPxAREREREcE/mpmZmZmZyT8=\",\"dtype\":\"float64\",\"shape\":[7]},\"y\":{\"__ndarray__\":\"iQCeAx8OUcCvVWkCaslQwNaqNAG1hFDAAAAAAABAUMBRqpb9lfZPwJ1ULfsrbU/A6v7D+MHjTsA=\",\"dtype\":\"float64\",\"shape\":[7]}}},\"id\":\"af68270a-2dba-4525-a4a7-f230b92d78ec\",\"type\":\"ColumnDataSource\"},{\"attributes\":{\"callback\":null},\"id\":\"92c40ba2-f89d-4876-bf53-b7efd0861254\",\"type\":\"DataRange1d\"},{\"attributes\":{},\"id\":\"f7bff413-f6ec-4881-b9a5-b80e3dfa568b\",\"type\":\"LinearScale\"},{\"attributes\":{\"callback\":null},\"id\":\"e5295994-84ef-4bf3-af86-ffad0f943bbc\",\"type\":\"DataRange1d\"},{\"attributes\":{\"line_alpha\":{\"value\":0.1},\"line_color\":{\"value\":\"#1f77b4\"},\"x\":{\"field\":\"x\"},\"y\":{\"field\":\"y\"}},\"id\":\"a3fd6b63-d6ab-49b8-908d-c3674536ff01\",\"type\":\"Line\"},{\"attributes\":{\"callback\":null},\"id\":\"4d16a5d2-ce64-479c-8013-b234b09f336f\",\"type\":\"DataRange1d\"},{\"attributes\":{\"line_color\":{\"value\":\"#1f77b4\"},\"x\":{\"field\":\"x\"},\"y\":{\"field\":\"y\"}},\"id\":\"26e208f3-9d15-4b53-954b-cd0eb3c8ac58\",\"type\":\"Line\"},{\"attributes\":{},\"id\":\"22797039-dc10-41ce-91be-87d6f10a35aa\",\"type\":\"LinearScale\"},{\"attributes\":{\"plot\":{\"id\":\"59b0ab86-980a-4b00-a503-fa4c025ded98\",\"subtype\":\"Figure\",\"type\":\"Plot\"},\"ticker\":{\"id\":\"bce45b6f-a82d-4c85-bde4-41218915d12a\",\"type\":\"BasicTicker\"}},\"id\":\"1a9b614e-286d-48b4-b619-92eb369c3850\",\"type\":\"Grid\"},{\"attributes\":{},\"id\":\"5bc8b935-6f73-47e3-9d69-91b950fe7896\",\"type\":\"LinearScale\"},{\"attributes\":{\"axis_label\":\"Rm (MOhm/cm^2)\",\"formatter\":{\"id\":\"85837ade-d589-4f4a-a886-d4425ec3a7ff\",\"type\":\"BasicTickFormatter\"},\"plot\":{\"id\":\"59b0ab86-980a-4b00-a503-fa4c025ded98\",\"subtype\":\"Figure\",\"type\":\"Plot\"},\"ticker\":{\"id\":\"bce45b6f-a82d-4c85-bde4-41218915d12a\",\"type\":\"BasicTicker\"}},\"id\":\"b85f05b2-491c-4a21-8ca2-357c5dbb0812\",\"type\":\"LinearAxis\"},{\"attributes\":{\"plot\":{\"id\":\"0059ec3a-e980-42d8-945e-9725da8b5f87\",\"subtype\":\"Figure\",\"type\":\"Plot\"},\"ticker\":{\"id\":\"94128113-426e-49a6-9846-96f94fc25fc8\",\"type\":\"BasicTicker\"}},\"id\":\"a35cadfc-e849-4dd2-8409-daa8b5fe3e75\",\"type\":\"Grid\"},{\"attributes\":{},\"id\":\"bce45b6f-a82d-4c85-bde4-41218915d12a\",\"type\":\"BasicTicker\"},{\"attributes\":{\"axis_label\":\"I (mA)\",\"formatter\":{\"id\":\"d4a34018-fb54-4e4a-b628-1cd85faeb830\",\"type\":\"BasicTickFormatter\"},\"plot\":{\"id\":\"0059ec3a-e980-42d8-945e-9725da8b5f87\",\"subtype\":\"Figure\",\"type\":\"Plot\"},\"ticker\":{\"id\":\"94128113-426e-49a6-9846-96f94fc25fc8\",\"type\":\"BasicTicker\"}},\"id\":\"80c94f5a-f296-4fa6-acb8-e8c33e9ef626\",\"type\":\"LinearAxis\"},{\"attributes\":{\"axis_label\":\"Input Resistance\",\"formatter\":{\"id\":\"cc37d300-2ba5-4a50-bdf6-deed02c60e89\",\"type\":\"BasicTickFormatter\"},\"plot\":{\"id\":\"59b0ab86-980a-4b00-a503-fa4c025ded98\",\"subtype\":\"Figure\",\"type\":\"Plot\"},\"ticker\":{\"id\":\"353c2029-7d75-47ee-86f5-7012e53f2606\",\"type\":\"BasicTicker\"}},\"id\":\"2a6706db-5838-4606-9d7e-2856396e17d4\",\"type\":\"LinearAxis\"},{\"attributes\":{},\"id\":\"94128113-426e-49a6-9846-96f94fc25fc8\",\"type\":\"BasicTicker\"},{\"attributes\":{},\"id\":\"353c2029-7d75-47ee-86f5-7012e53f2606\",\"type\":\"BasicTicker\"},{\"attributes\":{\"dimension\":1,\"plot\":{\"id\":\"59b0ab86-980a-4b00-a503-fa4c025ded98\",\"subtype\":\"Figure\",\"type\":\"Plot\"},\"ticker\":{\"id\":\"353c2029-7d75-47ee-86f5-7012e53f2606\",\"type\":\"BasicTicker\"}},\"id\":\"b65b1411-70d6-4331-a3f5-182cde727035\",\"type\":\"Grid\"},{\"attributes\":{\"axis_label\":\"mV\",\"formatter\":{\"id\":\"f806852b-a8e7-44b4-b5e5-33323e5ef9d7\",\"type\":\"BasicTickFormatter\"},\"plot\":{\"id\":\"0059ec3a-e980-42d8-945e-9725da8b5f87\",\"subtype\":\"Figure\",\"type\":\"Plot\"},\"ticker\":{\"id\":\"2a6a81c6-c7ed-4618-997f-d4b91b52b202\",\"type\":\"BasicTicker\"}},\"id\":\"76bdb6d5-2739-4a0a-81f6-a30b1b8840a1\",\"type\":\"LinearAxis\"},{\"attributes\":{},\"id\":\"2a6a81c6-c7ed-4618-997f-d4b91b52b202\",\"type\":\"BasicTicker\"},{\"attributes\":{\"line_alpha\":{\"value\":0.1},\"line_color\":{\"value\":\"#1f77b4\"},\"x\":{\"field\":\"x\"},\"y\":{\"field\":\"y\"}},\"id\":\"55e5d4a1-7a79-4c21-8fec-a3bbff0bcef9\",\"type\":\"Line\"},{\"attributes\":{\"dimension\":1,\"plot\":{\"id\":\"0059ec3a-e980-42d8-945e-9725da8b5f87\",\"subtype\":\"Figure\",\"type\":\"Plot\"},\"ticker\":{\"id\":\"2a6a81c6-c7ed-4618-997f-d4b91b52b202\",\"type\":\"BasicTicker\"}},\"id\":\"b3535b7f-cf8b-4e00-b2c5-9ec0f5fd742d\",\"type\":\"Grid\"},{\"attributes\":{\"children\":[{\"id\":\"0059ec3a-e980-42d8-945e-9725da8b5f87\",\"subtype\":\"Figure\",\"type\":\"Plot\"},{\"id\":\"59b0ab86-980a-4b00-a503-fa4c025ded98\",\"subtype\":\"Figure\",\"type\":\"Plot\"}]},\"id\":\"cce37b28-4e20-4c11-b814-24f096e45125\",\"type\":\"Row\"},{\"attributes\":{\"data_source\":{\"id\":\"8403fb2e-ece7-46b9-af42-a4f7413d4c0a\",\"type\":\"ColumnDataSource\"},\"glyph\":{\"id\":\"ce810fd7-2d71-47b1-bb69-d8c9aca74e24\",\"type\":\"Line\"},\"hover_glyph\":null,\"muted_glyph\":null,\"nonselection_glyph\":{\"id\":\"a3fd6b63-d6ab-49b8-908d-c3674536ff01\",\"type\":\"Line\"},\"selection_glyph\":null,\"view\":{\"id\":\"430ae6e4-b7fe-4ccd-b86a-6bc30965f9eb\",\"type\":\"CDSView\"}},\"id\":\"ff529ea4-5cc1-4dae-9702-0c10a31896d6\",\"type\":\"GlyphRenderer\"},{\"attributes\":{\"bottom_units\":\"screen\",\"fill_alpha\":{\"value\":0.5},\"fill_color\":{\"value\":\"lightgrey\"},\"left_units\":\"screen\",\"level\":\"overlay\",\"line_alpha\":{\"value\":1.0},\"line_color\":{\"value\":\"black\"},\"line_dash\":[4,4],\"line_width\":{\"value\":2},\"plot\":null,\"render_mode\":\"css\",\"right_units\":\"screen\",\"top_units\":\"screen\"},\"id\":\"7a5605d8-357a-4688-940b-59d89466e7d9\",\"type\":\"BoxAnnotation\"},{\"attributes\":{\"line_color\":{\"value\":\"#1b9e77\"},\"x\":{\"field\":\"x\"},\"y\":{\"field\":\"y\"}},\"id\":\"ce810fd7-2d71-47b1-bb69-d8c9aca74e24\",\"type\":\"Line\"},{\"attributes\":{\"below\":[{\"id\":\"b85f05b2-491c-4a21-8ca2-357c5dbb0812\",\"type\":\"LinearAxis\"}],\"left\":[{\"id\":\"2a6706db-5838-4606-9d7e-2856396e17d4\",\"type\":\"LinearAxis\"}],\"plot_height\":400,\"plot_width\":400,\"renderers\":[{\"id\":\"b85f05b2-491c-4a21-8ca2-357c5dbb0812\",\"type\":\"LinearAxis\"},{\"id\":\"1a9b614e-286d-48b4-b619-92eb369c3850\",\"type\":\"Grid\"},{\"id\":\"2a6706db-5838-4606-9d7e-2856396e17d4\",\"type\":\"LinearAxis\"},{\"id\":\"b65b1411-70d6-4331-a3f5-182cde727035\",\"type\":\"Grid\"},{\"id\":\"7a5605d8-357a-4688-940b-59d89466e7d9\",\"type\":\"BoxAnnotation\"},{\"id\":\"551c1109-6def-47ac-acca-bcb8343e908c\",\"type\":\"GlyphRenderer\"}],\"title\":{\"id\":\"56cd0357-3737-4d31-898f-887ee040f041\",\"type\":\"Title\"},\"toolbar\":{\"id\":\"3dbaac27-e9dc-4a38-a2b8-58757a66cff2\",\"type\":\"Toolbar\"},\"x_range\":{\"id\":\"e5295994-84ef-4bf3-af86-ffad0f943bbc\",\"type\":\"DataRange1d\"},\"x_scale\":{\"id\":\"f7bff413-f6ec-4881-b9a5-b80e3dfa568b\",\"type\":\"LinearScale\"},\"y_range\":{\"id\":\"173c8ce7-91c0-4d3a-a240-8059d697e42e\",\"type\":\"DataRange1d\"},\"y_scale\":{\"id\":\"ad6d7b8a-4879-4988-a39b-a6a959489706\",\"type\":\"LinearScale\"}},\"id\":\"59b0ab86-980a-4b00-a503-fa4c025ded98\",\"subtype\":\"Figure\",\"type\":\"Plot\"},{\"attributes\":{},\"id\":\"2c97414f-116c-4390-8afb-8359752969ea\",\"type\":\"PanTool\"},{\"attributes\":{\"bottom_units\":\"screen\",\"fill_alpha\":{\"value\":0.5},\"fill_color\":{\"value\":\"lightgrey\"},\"left_units\":\"screen\",\"level\":\"overlay\",\"line_alpha\":{\"value\":1.0},\"line_color\":{\"value\":\"black\"},\"line_dash\":[4,4],\"line_width\":{\"value\":2},\"plot\":null,\"render_mode\":\"css\",\"right_units\":\"screen\",\"top_units\":\"screen\"},\"id\":\"1c7ff05c-a90a-4e2d-bce4-c8bf9c71be95\",\"type\":\"BoxAnnotation\"},{\"attributes\":{\"source\":{\"id\":\"661f1f27-c4af-430b-ad36-03841006bfd1\",\"type\":\"ColumnDataSource\"}},\"id\":\"97a642b5-5ba6-4457-9313-6b15f8c12306\",\"type\":\"CDSView\"},{\"attributes\":{},\"id\":\"e79444b5-19c4-4565-b7d4-a6477d00c42d\",\"type\":\"PanTool\"},{\"attributes\":{},\"id\":\"9990f1b7-d2bb-477f-88f7-e15ffd37ad05\",\"type\":\"WheelZoomTool\"},{\"attributes\":{\"source\":{\"id\":\"af68270a-2dba-4525-a4a7-f230b92d78ec\",\"type\":\"ColumnDataSource\"}},\"id\":\"b10c442a-19bc-41d3-849c-77818457910d\",\"type\":\"CDSView\"},{\"attributes\":{\"overlay\":{\"id\":\"7a5605d8-357a-4688-940b-59d89466e7d9\",\"type\":\"BoxAnnotation\"}},\"id\":\"018e6d76-07ed-4779-8037-edd87635a0de\",\"type\":\"BoxZoomTool\"},{\"attributes\":{},\"id\":\"6819164a-5d97-41d2-bf75-93c7ffbf32e1\",\"type\":\"WheelZoomTool\"},{\"attributes\":{},\"id\":\"c5262134-e239-4fb0-8d45-1d80fda5f4b3\",\"type\":\"SaveTool\"},{\"attributes\":{\"overlay\":{\"id\":\"1c7ff05c-a90a-4e2d-bce4-c8bf9c71be95\",\"type\":\"BoxAnnotation\"}},\"id\":\"cc16223e-e27c-4549-9829-169a19c3441a\",\"type\":\"BoxZoomTool\"},{\"attributes\":{},\"id\":\"52593b95-93e2-4ec1-839e-92030aae8b09\",\"type\":\"ResetTool\"},{\"attributes\":{},\"id\":\"e87f5c06-3bd9-49dc-a691-946f244ff488\",\"type\":\"SaveTool\"},{\"attributes\":{},\"id\":\"cb76d585-b6c1-49aa-b5bd-1fb6a2a20001\",\"type\":\"HelpTool\"},{\"attributes\":{},\"id\":\"c830d77e-b8f5-417c-9f29-53bcef0422f5\",\"type\":\"ResetTool\"},{\"attributes\":{},\"id\":\"85837ade-d589-4f4a-a886-d4425ec3a7ff\",\"type\":\"BasicTickFormatter\"},{\"attributes\":{},\"id\":\"031959dc-b978-47ea-a05b-42cf6a7ee0fb\",\"type\":\"HelpTool\"},{\"attributes\":{\"plot\":null,\"text\":\"\"},\"id\":\"56cd0357-3737-4d31-898f-887ee040f041\",\"type\":\"Title\"},{\"attributes\":{\"line_color\":{\"value\":\"#7570b3\"},\"x\":{\"field\":\"x\"},\"y\":{\"field\":\"y\"}},\"id\":\"1bbfe50a-ef55-4fb9-8a37-c544ab43710c\",\"type\":\"Line\"},{\"attributes\":{\"plot\":null,\"text\":\"\"},\"id\":\"130e45c9-1248-4e09-a87c-2b451507b2c6\",\"type\":\"Title\"},{\"attributes\":{},\"id\":\"d4a34018-fb54-4e4a-b628-1cd85faeb830\",\"type\":\"BasicTickFormatter\"},{\"attributes\":{},\"id\":\"f806852b-a8e7-44b4-b5e5-33323e5ef9d7\",\"type\":\"BasicTickFormatter\"},{\"attributes\":{\"line_alpha\":{\"value\":0.1},\"line_color\":{\"value\":\"#1f77b4\"},\"x\":{\"field\":\"x\"},\"y\":{\"field\":\"y\"}},\"id\":\"617b9445-394c-45c2-8fc9-ddd6494a1eeb\",\"type\":\"Line\"},{\"attributes\":{},\"id\":\"cc37d300-2ba5-4a50-bdf6-deed02c60e89\",\"type\":\"BasicTickFormatter\"},{\"attributes\":{\"line_color\":{\"value\":\"#d95f02\"},\"x\":{\"field\":\"x\"},\"y\":{\"field\":\"y\"}},\"id\":\"2be53f53-9289-4447-ba6c-c60068afd9cf\",\"type\":\"Line\"},{\"attributes\":{\"line_color\":{\"value\":\"#e7298a\"},\"x\":{\"field\":\"x\"},\"y\":{\"field\":\"y\"}},\"id\":\"66a5581d-3c58-47f4-b82d-1c0706ca6d22\",\"type\":\"Line\"},{\"attributes\":{\"data_source\":{\"id\":\"af68270a-2dba-4525-a4a7-f230b92d78ec\",\"type\":\"ColumnDataSource\"},\"glyph\":{\"id\":\"2be53f53-9289-4447-ba6c-c60068afd9cf\",\"type\":\"Line\"},\"hover_glyph\":null,\"muted_glyph\":null,\"nonselection_glyph\":{\"id\":\"f289ce81-c0f5-4a9c-aac5-017f7da658dd\",\"type\":\"Line\"},\"selection_glyph\":null,\"view\":{\"id\":\"b10c442a-19bc-41d3-849c-77818457910d\",\"type\":\"CDSView\"}},\"id\":\"906c1b8c-7a99-4986-ae76-ab8353037941\",\"type\":\"GlyphRenderer\"},{\"attributes\":{\"line_color\":{\"value\":\"#1b9e77\"},\"x\":{\"field\":\"x\"},\"y\":{\"field\":\"y\"}},\"id\":\"cf9cdd36-ff83-4264-9904-c604ae8019c7\",\"type\":\"Line\"},{\"attributes\":{\"line_alpha\":{\"value\":0.1},\"line_color\":{\"value\":\"#1f77b4\"},\"x\":{\"field\":\"x\"},\"y\":{\"field\":\"y\"}},\"id\":\"f289ce81-c0f5-4a9c-aac5-017f7da658dd\",\"type\":\"Line\"},{\"attributes\":{\"line_color\":{\"value\":\"#66a61e\"},\"x\":{\"field\":\"x\"},\"y\":{\"field\":\"y\"}},\"id\":\"420d840b-1265-4817-a400-0a0bce30d887\",\"type\":\"Line\"},{\"attributes\":{\"callback\":null,\"column_names\":[\"x\",\"y\"],\"data\":{\"x\":{\"__ndarray__\":\"mpmZmZmZyb8SERERERHBvxIREREREbG/AAAAAAAAAAAQERERERGxPxAREREREcE/mpmZmZmZyT8=\",\"dtype\":\"float64\",\"shape\":[7]},\"y\":{\"__ndarray__\":\"f4DicAyMU8CqVez1snJSwNUq9npZWVHAAAAAAABAUMBWqhMKTU1OwKxUJxSaGkzABP86HufnScA=\",\"dtype\":\"float64\",\"shape\":[7]}}},\"id\":\"56c0ff69-9b5e-48a2-acdf-e50b1a1a446b\",\"type\":\"ColumnDataSource\"},{\"attributes\":{\"data_source\":{\"id\":\"4f5b42d8-eb87-4551-b294-50f557898833\",\"type\":\"ColumnDataSource\"},\"glyph\":{\"id\":\"1bbfe50a-ef55-4fb9-8a37-c544ab43710c\",\"type\":\"Line\"},\"hover_glyph\":null,\"muted_glyph\":null,\"nonselection_glyph\":{\"id\":\"617b9445-394c-45c2-8fc9-ddd6494a1eeb\",\"type\":\"Line\"},\"selection_glyph\":null,\"view\":{\"id\":\"1a724ed9-7683-4d20-bc97-8967dc5c7b77\",\"type\":\"CDSView\"}},\"id\":\"1db3fc95-bdd2-4319-8d45-25774cb5d001\",\"type\":\"GlyphRenderer\"},{\"attributes\":{\"source\":{\"id\":\"4f5b42d8-eb87-4551-b294-50f557898833\",\"type\":\"ColumnDataSource\"}},\"id\":\"1a724ed9-7683-4d20-bc97-8967dc5c7b77\",\"type\":\"CDSView\"},{\"attributes\":{\"callback\":null,\"column_names\":[\"x\",\"y\"],\"data\":{\"x\":{\"__ndarray__\":\"mpmZmZmZyb8SERERERHBvxIREREREbG/AAAAAAAAAAAQERERERGxPxAREREREcE/mpmZmZmZyT8=\",\"dtype\":\"float64\",\"shape\":[7]},\"y\":{\"__ndarray__\":\"zFHJXZVNZcCJNoY+DulgwIg2hj4OCVnAAAAAAABAUMDmJecFx9s9wODQxtDHIRVAK0cld1U2REA=\",\"dtype\":\"float64\",\"shape\":[7]}}},\"id\":\"915aa4ca-0638-43dc-854e-feb90b25e289\",\"type\":\"ColumnDataSource\"},{\"attributes\":{\"source\":{\"id\":\"56c0ff69-9b5e-48a2-acdf-e50b1a1a446b\",\"type\":\"ColumnDataSource\"}},\"id\":\"2d84a631-59a9-4862-a93f-fe6edde773d8\",\"type\":\"CDSView\"},{\"attributes\":{\"callback\":null,\"column_names\":[\"x\",\"y\"],\"data\":{\"x\":{\"__ndarray__\":\"mpmZmZmZyb8SERERERHBvxIREREREbG/AAAAAAAAAAAQERERERGxPxAREREREcE/mpmZmZmZyT8=\",\"dtype\":\"float64\",\"shape\":[7]},\"y\":{\"__ndarray__\":\"X+TGgwHsVsDrQi+tq7JUwHahl9ZVeVLAAAAAAABAUMAWvdBSVA1MwCp6oaWomkfAPzdy+PwnQ8A=\",\"dtype\":\"float64\",\"shape\":[7]}}},\"id\":\"857ca9b3-6b1c-4e31-a79c-b14dfa1cd6cd\",\"type\":\"ColumnDataSource\"},{\"attributes\":{\"line_alpha\":{\"value\":0.1},\"line_color\":{\"value\":\"#1f77b4\"},\"x\":{\"field\":\"x\"},\"y\":{\"field\":\"y\"}},\"id\":\"30181705-26cc-4f86-9771-a354d452d401\",\"type\":\"Line\"},{\"attributes\":{\"data_source\":{\"id\":\"56c0ff69-9b5e-48a2-acdf-e50b1a1a446b\",\"type\":\"ColumnDataSource\"},\"glyph\":{\"id\":\"66a5581d-3c58-47f4-b82d-1c0706ca6d22\",\"type\":\"Line\"},\"hover_glyph\":null,\"muted_glyph\":null,\"nonselection_glyph\":{\"id\":\"30181705-26cc-4f86-9771-a354d452d401\",\"type\":\"Line\"},\"selection_glyph\":null,\"view\":{\"id\":\"2d84a631-59a9-4862-a93f-fe6edde773d8\",\"type\":\"CDSView\"}},\"id\":\"59feb266-a652-485c-b948-d8be080654d5\",\"type\":\"GlyphRenderer\"},{\"attributes\":{\"source\":{\"id\":\"857ca9b3-6b1c-4e31-a79c-b14dfa1cd6cd\",\"type\":\"ColumnDataSource\"}},\"id\":\"3e7e33f8-7881-4e9b-84c0-fb78fcf7ffc5\",\"type\":\"CDSView\"},{\"attributes\":{\"data_source\":{\"id\":\"857ca9b3-6b1c-4e31-a79c-b14dfa1cd6cd\",\"type\":\"ColumnDataSource\"},\"glyph\":{\"id\":\"420d840b-1265-4817-a400-0a0bce30d887\",\"type\":\"Line\"},\"hover_glyph\":null,\"muted_glyph\":null,\"nonselection_glyph\":{\"id\":\"11ddccf3-24f4-4a9d-8539-841f383a19ee\",\"type\":\"Line\"},\"selection_glyph\":null,\"view\":{\"id\":\"3e7e33f8-7881-4e9b-84c0-fb78fcf7ffc5\",\"type\":\"CDSView\"}},\"id\":\"bd478584-60cd-4937-a225-b417d22da59b\",\"type\":\"GlyphRenderer\"},{\"attributes\":{\"callback\":null,\"column_names\":[\"x\",\"y\"],\"data\":{\"x\":{\"__ndarray__\":\"mpmZmZmZyb8SERERERHBvxIREREREbG/AAAAAAAAAAAQERERERGxPxAREREREcE/mpmZmZmZyT8=\",\"dtype\":\"float64\",\"shape\":[7]},\"y\":{\"__ndarray__\":\"zxvfJUa8XcDbZz8ZhD1ZwPGznwzCvlTAAAAAAABAUMAmmMDme4JHwIRgApvvCT3AgiEH0c4dJsA=\",\"dtype\":\"float64\",\"shape\":[7]}}},\"id\":\"6f8bc044-70ca-49da-91cc-961252d77f5a\",\"type\":\"ColumnDataSource\"},{\"attributes\":{\"source\":{\"id\":\"6f8bc044-70ca-49da-91cc-961252d77f5a\",\"type\":\"ColumnDataSource\"}},\"id\":\"ed390120-00c1-42a0-be8a-5f234e11dd44\",\"type\":\"CDSView\"},{\"attributes\":{\"line_alpha\":{\"value\":0.1},\"line_color\":{\"value\":\"#1f77b4\"},\"x\":{\"field\":\"x\"},\"y\":{\"field\":\"y\"}},\"id\":\"11ddccf3-24f4-4a9d-8539-841f383a19ee\",\"type\":\"Line\"},{\"attributes\":{\"line_alpha\":{\"value\":0.1},\"line_color\":{\"value\":\"#1f77b4\"},\"x\":{\"field\":\"x\"},\"y\":{\"field\":\"y\"}},\"id\":\"9c9e6386-ed41-4f97-aee6-7cc5218986e6\",\"type\":\"Line\"},{\"attributes\":{\"data_source\":{\"id\":\"6f8bc044-70ca-49da-91cc-961252d77f5a\",\"type\":\"ColumnDataSource\"},\"glyph\":{\"id\":\"cf9cdd36-ff83-4264-9904-c604ae8019c7\",\"type\":\"Line\"},\"hover_glyph\":null,\"muted_glyph\":null,\"nonselection_glyph\":{\"id\":\"9c9e6386-ed41-4f97-aee6-7cc5218986e6\",\"type\":\"Line\"},\"selection_glyph\":null,\"view\":{\"id\":\"ed390120-00c1-42a0-be8a-5f234e11dd44\",\"type\":\"CDSView\"}},\"id\":\"aa00e2a3-eb1f-4538-b6fe-f2e4b490c3a3\",\"type\":\"GlyphRenderer\"}],\"root_ids\":[\"19cbf2c8-78f5-494e-a1b6-1967ae1ada34\"]},\"title\":\"Bokeh Application\",\"version\":\"0.12.10\"}};\n",
       "    var render_items = [{\"docid\":\"bfacafd4-20af-419b-8417-c82bf1c1e7c8\",\"elementid\":\"78419a1b-95a1-474e-8dcc-f43073ca62be\",\"modelid\":\"19cbf2c8-78f5-494e-a1b6-1967ae1ada34\"}];\n",
       "\n",
       "    root.Bokeh.embed.embed_items(docs_json, render_items);\n",
       "  }\n",
       "\n",
       "  if (root.Bokeh !== undefined) {\n",
       "    embed_document(root);\n",
       "  } else {\n",
       "    var attempts = 0;\n",
       "    var timer = setInterval(function(root) {\n",
       "      if (root.Bokeh !== undefined) {\n",
       "        embed_document(root);\n",
       "        clearInterval(timer);\n",
       "      }\n",
       "      attempts++;\n",
       "      if (attempts > 100) {\n",
       "        console.log(\"Bokeh: ERROR: Unable to embed document because BokehJS library is missing\")\n",
       "        clearInterval(timer);\n",
       "      }\n",
       "    }, 10, root)\n",
       "  }\n",
       "})(window);"
      ],
      "application/vnd.bokehjs_exec.v0+json": ""
     },
     "metadata": {
      "application/vnd.bokehjs_exec.v0+json": {
       "id": "19cbf2c8-78f5-494e-a1b6-1967ae1ada34"
      }
     },
     "output_type": "display_data"
    }
   ],
   "source": [
    "# V-I slope vs Rm\n",
    "Rms = np.logspace(2,5,num=50)\n",
    "V_ss = np.zeros([I.shape[0],50])\n",
    "slope = np.zeros([50,])\n",
    "for i, Rm in enumerate(list(Rms)):  \n",
    "    V_ss[:,i], slope[i] = get_VI(20,Rm,1)\n",
    "    \n",
    "VI = bkp.figure(plot_height=400,plot_width=400)\n",
    "for i, color in zip(range(0,50,5),colors):\n",
    "    VI.line(I,V_ss[:,i],color=color)\n",
    "VI.xaxis.axis_label=\"I (mA)\"\n",
    "VI.yaxis.axis_label=\"mV\"\n",
    "    \n",
    "S = bkp.figure(plot_height=400,plot_width=400)\n",
    "S.yaxis.axis_label=\"Input Resistance\"\n",
    "S.xaxis.axis_label=\"Rm (MOhm/cm^2)\"\n",
    "S.line(Rms,slope)\n",
    "bkp.show(bk.layouts.layout([[VI,S]]))\n",
    "\n",
    "# V-i slope vs Cm"
   ]
  },
  {
   "cell_type": "code",
   "execution_count": 23,
   "metadata": {},
   "outputs": [
    {
     "data": {
      "text/html": [
       "\n",
       "<div class=\"bk-root\">\n",
       "    <div class=\"bk-plotdiv\" id=\"cf357030-e932-4f93-9f39-c1d068ba820d\"></div>\n",
       "</div>"
      ]
     },
     "metadata": {},
     "output_type": "display_data"
    },
    {
     "data": {
      "application/javascript": [
       "(function(root) {\n",
       "  function embed_document(root) {\n",
       "    var docs_json = {\"69ca51f2-344e-4735-846f-7c0882b51ffe\":{\"roots\":{\"references\":[{\"attributes\":{},\"id\":\"7c932ae7-4a8e-4423-857d-b23b4657db24\",\"type\":\"BasicTicker\"},{\"attributes\":{\"line_color\":{\"value\":\"#7570b3\"},\"x\":{\"field\":\"x\"},\"y\":{\"field\":\"y\"}},\"id\":\"e50a4f89-2ec6-4b7e-9c4a-2361f976c7a3\",\"type\":\"Line\"},{\"attributes\":{},\"id\":\"d7621cff-66fa-40c2-bc74-b2aa717f9a81\",\"type\":\"WheelZoomTool\"},{\"attributes\":{},\"id\":\"aa1fe7da-45b1-4538-b968-80fca4d3b340\",\"type\":\"PanTool\"},{\"attributes\":{\"bottom_units\":\"screen\",\"fill_alpha\":{\"value\":0.5},\"fill_color\":{\"value\":\"lightgrey\"},\"left_units\":\"screen\",\"level\":\"overlay\",\"line_alpha\":{\"value\":1.0},\"line_color\":{\"value\":\"black\"},\"line_dash\":[4,4],\"line_width\":{\"value\":2},\"plot\":null,\"render_mode\":\"css\",\"right_units\":\"screen\",\"top_units\":\"screen\"},\"id\":\"450a4564-c3c5-45a4-afd9-86ef4579a194\",\"type\":\"BoxAnnotation\"},{\"attributes\":{\"data_source\":{\"id\":\"2b39f8b3-5cf9-4d44-9719-88943f3176b7\",\"type\":\"ColumnDataSource\"},\"glyph\":{\"id\":\"d038d64c-af6f-42d6-a6dc-f74b17eeed63\",\"type\":\"Line\"},\"hover_glyph\":null,\"muted_glyph\":null,\"nonselection_glyph\":{\"id\":\"6d99a302-0948-470e-8900-815017ceb445\",\"type\":\"Line\"},\"selection_glyph\":null,\"view\":{\"id\":\"45639fcc-94ae-49c7-8fe3-4015a53a96f9\",\"type\":\"CDSView\"}},\"id\":\"3d20bac2-631d-4e35-a2ae-1f71b97ca361\",\"type\":\"GlyphRenderer\"},{\"attributes\":{\"overlay\":{\"id\":\"450a4564-c3c5-45a4-afd9-86ef4579a194\",\"type\":\"BoxAnnotation\"}},\"id\":\"6019cf5a-5361-4f14-b490-5a449a58a89c\",\"type\":\"BoxZoomTool\"},{\"attributes\":{},\"id\":\"0400d0c4-3288-4a18-ab8c-e77f183a5c21\",\"type\":\"WheelZoomTool\"},{\"attributes\":{},\"id\":\"d83b1888-c463-4ab4-8ae9-892299617465\",\"type\":\"SaveTool\"},{\"attributes\":{\"dimension\":1,\"plot\":{\"id\":\"5f068b3d-9c33-4cdd-9160-4c8f1914e998\",\"subtype\":\"Figure\",\"type\":\"Plot\"},\"ticker\":{\"id\":\"7c932ae7-4a8e-4423-857d-b23b4657db24\",\"type\":\"BasicTicker\"}},\"id\":\"2dda0b00-3991-4882-ba9a-a83f785524d2\",\"type\":\"Grid\"},{\"attributes\":{\"overlay\":{\"id\":\"0df698c7-9f29-4bf4-b7f4-0431729e9c53\",\"type\":\"BoxAnnotation\"}},\"id\":\"344a4526-6490-4355-bd8d-3cf798db7b52\",\"type\":\"BoxZoomTool\"},{\"attributes\":{},\"id\":\"798037d8-60c9-428f-9417-3241af01f5c8\",\"type\":\"ResetTool\"},{\"attributes\":{\"bottom_units\":\"screen\",\"fill_alpha\":{\"value\":0.5},\"fill_color\":{\"value\":\"lightgrey\"},\"left_units\":\"screen\",\"level\":\"overlay\",\"line_alpha\":{\"value\":1.0},\"line_color\":{\"value\":\"black\"},\"line_dash\":[4,4],\"line_width\":{\"value\":2},\"plot\":null,\"render_mode\":\"css\",\"right_units\":\"screen\",\"top_units\":\"screen\"},\"id\":\"0df698c7-9f29-4bf4-b7f4-0431729e9c53\",\"type\":\"BoxAnnotation\"},{\"attributes\":{},\"id\":\"19e8152a-e7ed-444e-bfb9-77a8ce6509d0\",\"type\":\"SaveTool\"},{\"attributes\":{},\"id\":\"fd59347e-70fe-439c-bcb8-a17afcdc07fa\",\"type\":\"HelpTool\"},{\"attributes\":{},\"id\":\"71aae045-0d84-4533-833d-6f4a10cf0b73\",\"type\":\"ResetTool\"},{\"attributes\":{},\"id\":\"f8cf3362-d908-48e5-a3fc-fa032ecac357\",\"type\":\"BasicTickFormatter\"},{\"attributes\":{},\"id\":\"071f97c3-3239-4e00-a1d6-e31d5c86ec2d\",\"type\":\"HelpTool\"},{\"attributes\":{\"line_color\":{\"value\":\"#e7298a\"},\"x\":{\"field\":\"x\"},\"y\":{\"field\":\"y\"}},\"id\":\"9c791ada-ead9-4f22-9ae1-d0d20b4fdad2\",\"type\":\"Line\"},{\"attributes\":{},\"id\":\"1423b4b6-e29a-4f68-83c7-c21bf8702c0a\",\"type\":\"BasicTickFormatter\"},{\"attributes\":{},\"id\":\"57678c04-3769-4315-b542-f573ec82f489\",\"type\":\"BasicTickFormatter\"},{\"attributes\":{\"source\":{\"id\":\"2b39f8b3-5cf9-4d44-9719-88943f3176b7\",\"type\":\"ColumnDataSource\"}},\"id\":\"45639fcc-94ae-49c7-8fe3-4015a53a96f9\",\"type\":\"CDSView\"},{\"attributes\":{\"callback\":null,\"column_names\":[\"x\",\"y\"],\"data\":{\"x\":{\"__ndarray__\":\"mpmZmZmZyb8SERERERHBvxIREREREbG/AAAAAAAAAAAQERERERGxPxAREREREcE/mpmZmZmZyT8=\",\"dtype\":\"float64\",\"shape\":[7]},\"y\":{\"__ndarray__\":\"bthGXw5kW8D1Oi/qXq1XwHqdF3Wv9lPAAAAAAABAUMAMxdAVoRJJwB2KoStCpUHATJ7kgsZvNMA=\",\"dtype\":\"float64\",\"shape\":[7]}}},\"id\":\"2b39f8b3-5cf9-4d44-9719-88943f3176b7\",\"type\":\"ColumnDataSource\"},{\"attributes\":{\"line_color\":{\"value\":\"#d95f02\"},\"x\":{\"field\":\"x\"},\"y\":{\"field\":\"y\"}},\"id\":\"d038d64c-af6f-42d6-a6dc-f74b17eeed63\",\"type\":\"Line\"},{\"attributes\":{},\"id\":\"d24aa398-42d1-49e2-b244-137da4bb769f\",\"type\":\"BasicTickFormatter\"},{\"attributes\":{\"line_alpha\":{\"value\":0.1},\"line_color\":{\"value\":\"#1f77b4\"},\"x\":{\"field\":\"x\"},\"y\":{\"field\":\"y\"}},\"id\":\"6d99a302-0948-470e-8900-815017ceb445\",\"type\":\"Line\"},{\"attributes\":{\"line_color\":{\"value\":\"#1b9e77\"},\"x\":{\"field\":\"x\"},\"y\":{\"field\":\"y\"}},\"id\":\"e7653511-a1b1-4673-b28f-65c52556cafb\",\"type\":\"Line\"},{\"attributes\":{\"callback\":null,\"column_names\":[\"x\",\"y\"],\"data\":{\"x\":{\"__ndarray__\":\"mpmZmZmZyb8SERERERHBvxIREREREbG/AAAAAAAAAAAQERERERGxPxAREREREcE/mpmZmZmZyT8=\",\"dtype\":\"float64\",\"shape\":[7]},\"y\":{\"__ndarray__\":\"EZgB0w1jW8AREAHis6xXwASIAPFZ9lPAAAAAAABAUMDw7/4dTBNJwOjf/TuYpkHAuJ/5s8hzNMA=\",\"dtype\":\"float64\",\"shape\":[7]}}},\"id\":\"e98ae713-c8e3-435a-82b7-d89658b37837\",\"type\":\"ColumnDataSource\"},{\"attributes\":{\"data_source\":{\"id\":\"0a8da73b-d6f0-401d-b20e-d6e627ae87e6\",\"type\":\"ColumnDataSource\"},\"glyph\":{\"id\":\"e7653511-a1b1-4673-b28f-65c52556cafb\",\"type\":\"Line\"},\"hover_glyph\":null,\"muted_glyph\":null,\"nonselection_glyph\":{\"id\":\"6cd44a07-b6ee-45bb-bf3c-913d12389268\",\"type\":\"Line\"},\"selection_glyph\":null,\"view\":{\"id\":\"f6854223-1853-4007-a454-02ffb1fe3e06\",\"type\":\"CDSView\"}},\"id\":\"10997553-52aa-4f76-878e-cbaf9b88328f\",\"type\":\"GlyphRenderer\"},{\"attributes\":{\"line_color\":{\"value\":\"#1b9e77\"},\"x\":{\"field\":\"x\"},\"y\":{\"field\":\"y\"}},\"id\":\"61f48d9b-b8e2-4d02-8b95-4f4f388aeebf\",\"type\":\"Line\"},{\"attributes\":{\"axis_label\":\"I (mA)\",\"formatter\":{\"id\":\"57678c04-3769-4315-b542-f573ec82f489\",\"type\":\"BasicTickFormatter\"},\"plot\":{\"id\":\"5f068b3d-9c33-4cdd-9160-4c8f1914e998\",\"subtype\":\"Figure\",\"type\":\"Plot\"},\"ticker\":{\"id\":\"2cc31621-9db6-4bed-9ae1-57d5c16cf382\",\"type\":\"BasicTicker\"}},\"id\":\"1c9dc4a6-347b-43ee-9457-85584e308efd\",\"type\":\"LinearAxis\"},{\"attributes\":{\"line_alpha\":{\"value\":0.1},\"line_color\":{\"value\":\"#1f77b4\"},\"x\":{\"field\":\"x\"},\"y\":{\"field\":\"y\"}},\"id\":\"926d54af-a44c-49bf-8c9d-ed360cdc3554\",\"type\":\"Line\"},{\"attributes\":{\"line_color\":{\"value\":\"#66a61e\"},\"x\":{\"field\":\"x\"},\"y\":{\"field\":\"y\"}},\"id\":\"414701ab-986b-4c41-8f17-c787c7edb4e8\",\"type\":\"Line\"},{\"attributes\":{},\"id\":\"2cc31621-9db6-4bed-9ae1-57d5c16cf382\",\"type\":\"BasicTicker\"},{\"attributes\":{\"callback\":null,\"column_names\":[\"x\",\"y\"],\"data\":{\"x\":{\"__ndarray__\":\"mpmZmZmZyb8SERERERHBvxIREREREbG/AAAAAAAAAAAQERERERGxPxAREREREcE/mpmZmZmZyT8=\",\"dtype\":\"float64\",\"shape\":[7]},\"y\":{\"__ndarray__\":\"S44CDzNWW8AutAEKIqRXwBzaAAUR8lPAAAAAAABAUMDOS/713RtJwJaX/Ou7t0HAwMb1wzOnNMA=\",\"dtype\":\"float64\",\"shape\":[7]}}},\"id\":\"6b89aeaf-daa1-4d76-8bf8-0d3efe71bb68\",\"type\":\"ColumnDataSource\"},{\"attributes\":{\"axis_label\":\"mV\",\"formatter\":{\"id\":\"1423b4b6-e29a-4f68-83c7-c21bf8702c0a\",\"type\":\"BasicTickFormatter\"},\"plot\":{\"id\":\"5f068b3d-9c33-4cdd-9160-4c8f1914e998\",\"subtype\":\"Figure\",\"type\":\"Plot\"},\"ticker\":{\"id\":\"7c932ae7-4a8e-4423-857d-b23b4657db24\",\"type\":\"BasicTicker\"}},\"id\":\"18323365-aec1-4aec-9112-549d508bb049\",\"type\":\"LinearAxis\"},{\"attributes\":{\"data_source\":{\"id\":\"e98ae713-c8e3-435a-82b7-d89658b37837\",\"type\":\"ColumnDataSource\"},\"glyph\":{\"id\":\"e50a4f89-2ec6-4b7e-9c4a-2361f976c7a3\",\"type\":\"Line\"},\"hover_glyph\":null,\"muted_glyph\":null,\"nonselection_glyph\":{\"id\":\"926d54af-a44c-49bf-8c9d-ed360cdc3554\",\"type\":\"Line\"},\"selection_glyph\":null,\"view\":{\"id\":\"ed6985f1-72eb-457d-abc5-cfbf6d4b340e\",\"type\":\"CDSView\"}},\"id\":\"0ed85b32-4ed6-4567-8b80-1ba19512b1cf\",\"type\":\"GlyphRenderer\"},{\"attributes\":{\"source\":{\"id\":\"e98ae713-c8e3-435a-82b7-d89658b37837\",\"type\":\"ColumnDataSource\"}},\"id\":\"ed6985f1-72eb-457d-abc5-cfbf6d4b340e\",\"type\":\"CDSView\"},{\"attributes\":{\"line_color\":{\"value\":\"#7570b3\"},\"x\":{\"field\":\"x\"},\"y\":{\"field\":\"y\"}},\"id\":\"2cd3bd2c-a0fd-4a33-aca9-2f028269fe15\",\"type\":\"Line\"},{\"attributes\":{\"source\":{\"id\":\"6b89aeaf-daa1-4d76-8bf8-0d3efe71bb68\",\"type\":\"ColumnDataSource\"}},\"id\":\"a5ba48f7-8897-4f72-9027-489c0e95e401\",\"type\":\"CDSView\"},{\"attributes\":{\"callback\":null,\"column_names\":[\"x\",\"y\"],\"data\":{\"x\":{\"__ndarray__\":\"mpmZmZmZyb8SERERERHBvxIREREREbG/AAAAAAAAAAAQERERERGxPxAREREREcE/mpmZmZmZyT8=\",\"dtype\":\"float64\",\"shape\":[7]},\"y\":{\"__ndarray__\":\"m0+sjw8wW8DA33IKtYpXwORvOYVa5VPAAAAAAABAUMA8II31SjVJwHlAGuuV6kHAcsFOwcE/NcA=\",\"dtype\":\"float64\",\"shape\":[7]}}},\"id\":\"33940f4d-b067-4f8a-b1a6-1a442189cbbc\",\"type\":\"ColumnDataSource\"},{\"attributes\":{\"line_alpha\":{\"value\":0.1},\"line_color\":{\"value\":\"#1f77b4\"},\"x\":{\"field\":\"x\"},\"y\":{\"field\":\"y\"}},\"id\":\"a8426958-e31e-4d74-b7a1-9e725dbc6f7d\",\"type\":\"Line\"},{\"attributes\":{\"data_source\":{\"id\":\"6b89aeaf-daa1-4d76-8bf8-0d3efe71bb68\",\"type\":\"ColumnDataSource\"},\"glyph\":{\"id\":\"9c791ada-ead9-4f22-9ae1-d0d20b4fdad2\",\"type\":\"Line\"},\"hover_glyph\":null,\"muted_glyph\":null,\"nonselection_glyph\":{\"id\":\"a8426958-e31e-4d74-b7a1-9e725dbc6f7d\",\"type\":\"Line\"},\"selection_glyph\":null,\"view\":{\"id\":\"a5ba48f7-8897-4f72-9027-489c0e95e401\",\"type\":\"CDSView\"}},\"id\":\"ebecdcef-8f76-4996-be9c-1cba2456aa52\",\"type\":\"GlyphRenderer\"},{\"attributes\":{\"below\":[{\"id\":\"1c9dc4a6-347b-43ee-9457-85584e308efd\",\"type\":\"LinearAxis\"}],\"left\":[{\"id\":\"18323365-aec1-4aec-9112-549d508bb049\",\"type\":\"LinearAxis\"}],\"plot_height\":400,\"plot_width\":400,\"renderers\":[{\"id\":\"1c9dc4a6-347b-43ee-9457-85584e308efd\",\"type\":\"LinearAxis\"},{\"id\":\"f9857ee1-ef81-4998-ac7c-d2928411e926\",\"type\":\"Grid\"},{\"id\":\"18323365-aec1-4aec-9112-549d508bb049\",\"type\":\"LinearAxis\"},{\"id\":\"2dda0b00-3991-4882-ba9a-a83f785524d2\",\"type\":\"Grid\"},{\"id\":\"0df698c7-9f29-4bf4-b7f4-0431729e9c53\",\"type\":\"BoxAnnotation\"},{\"id\":\"10997553-52aa-4f76-878e-cbaf9b88328f\",\"type\":\"GlyphRenderer\"},{\"id\":\"3d20bac2-631d-4e35-a2ae-1f71b97ca361\",\"type\":\"GlyphRenderer\"},{\"id\":\"0ed85b32-4ed6-4567-8b80-1ba19512b1cf\",\"type\":\"GlyphRenderer\"},{\"id\":\"ebecdcef-8f76-4996-be9c-1cba2456aa52\",\"type\":\"GlyphRenderer\"},{\"id\":\"a5137c88-6382-4042-ac73-4f7c4bd37119\",\"type\":\"GlyphRenderer\"},{\"id\":\"21a5528c-a181-401a-8a1d-ffffdd81b3ef\",\"type\":\"GlyphRenderer\"},{\"id\":\"0375ba6c-d897-470e-aebc-d2cc20c5ce24\",\"type\":\"GlyphRenderer\"},{\"id\":\"3f316b6d-4636-4fb4-9f3c-764ce74bb937\",\"type\":\"GlyphRenderer\"},{\"id\":\"410dd134-b626-406a-9fcb-8f136055a852\",\"type\":\"GlyphRenderer\"},{\"id\":\"733bbae4-b0e0-4662-80a7-cf391e5dc84c\",\"type\":\"GlyphRenderer\"}],\"title\":{\"id\":\"622f91d1-c563-4269-8fb6-fe60d479fecf\",\"type\":\"Title\"},\"toolbar\":{\"id\":\"f89960d7-4973-43da-9a6d-98ee06d22643\",\"type\":\"Toolbar\"},\"x_range\":{\"id\":\"75beb404-87ca-4869-9d5b-3de107bff933\",\"type\":\"DataRange1d\"},\"x_scale\":{\"id\":\"4954cbc4-50a5-4d1e-8e2f-c744f398d809\",\"type\":\"LinearScale\"},\"y_range\":{\"id\":\"fd46f582-1beb-4c87-af40-066c4e2d6572\",\"type\":\"DataRange1d\"},\"y_scale\":{\"id\":\"463fc208-24e7-41c2-83a7-fe2636af3d2d\",\"type\":\"LinearScale\"}},\"id\":\"5f068b3d-9c33-4cdd-9160-4c8f1914e998\",\"subtype\":\"Figure\",\"type\":\"Plot\"},{\"attributes\":{\"source\":{\"id\":\"33940f4d-b067-4f8a-b1a6-1a442189cbbc\",\"type\":\"ColumnDataSource\"}},\"id\":\"daf09e0d-8058-4e13-83e4-ce231f56c346\",\"type\":\"CDSView\"},{\"attributes\":{\"data_source\":{\"id\":\"33940f4d-b067-4f8a-b1a6-1a442189cbbc\",\"type\":\"ColumnDataSource\"},\"glyph\":{\"id\":\"414701ab-986b-4c41-8f17-c787c7edb4e8\",\"type\":\"Line\"},\"hover_glyph\":null,\"muted_glyph\":null,\"nonselection_glyph\":{\"id\":\"a55313be-1fea-4c21-b01f-447ce84b6f24\",\"type\":\"Line\"},\"selection_glyph\":null,\"view\":{\"id\":\"daf09e0d-8058-4e13-83e4-ce231f56c346\",\"type\":\"CDSView\"}},\"id\":\"a5137c88-6382-4042-ac73-4f7c4bd37119\",\"type\":\"GlyphRenderer\"},{\"attributes\":{\"callback\":null,\"column_names\":[\"x\",\"y\"],\"data\":{\"x\":{\"__ndarray__\":\"mpmZmZmZyb8SERERERHBvxIREREREbG/AAAAAAAAAAAQERERERGxPxAREREREcE/mpmZmZmZyT8=\",\"dtype\":\"float64\",\"shape\":[7]},\"y\":{\"__ndarray__\":\"j3we08DwWsCz/b6MgGBXwNx+X0ZA0FPAAAAAAABAUMBHAkFzf19JwIoEgub+PkLAuw2Gs/w8NsA=\",\"dtype\":\"float64\",\"shape\":[7]}}},\"id\":\"da60434d-4f92-49bc-ad87-ac6db93789b5\",\"type\":\"ColumnDataSource\"},{\"attributes\":{\"plot\":null,\"text\":\"\"},\"id\":\"622f91d1-c563-4269-8fb6-fe60d479fecf\",\"type\":\"Title\"},{\"attributes\":{\"line_color\":{\"value\":\"#d95f02\"},\"x\":{\"field\":\"x\"},\"y\":{\"field\":\"y\"}},\"id\":\"0e2dadd3-a7d6-4fa2-a749-ce377a51c541\",\"type\":\"Line\"},{\"attributes\":{\"line_alpha\":{\"value\":0.1},\"line_color\":{\"value\":\"#1f77b4\"},\"x\":{\"field\":\"x\"},\"y\":{\"field\":\"y\"}},\"id\":\"a55313be-1fea-4c21-b01f-447ce84b6f24\",\"type\":\"Line\"},{\"attributes\":{\"data_source\":{\"id\":\"da60434d-4f92-49bc-ad87-ac6db93789b5\",\"type\":\"ColumnDataSource\"},\"glyph\":{\"id\":\"61f48d9b-b8e2-4d02-8b95-4f4f388aeebf\",\"type\":\"Line\"},\"hover_glyph\":null,\"muted_glyph\":null,\"nonselection_glyph\":{\"id\":\"3d414eff-8456-4f94-a180-bd2c0fc5d63a\",\"type\":\"Line\"},\"selection_glyph\":null,\"view\":{\"id\":\"f8fcf0b2-2bee-4ba7-8280-17ada7324022\",\"type\":\"CDSView\"}},\"id\":\"21a5528c-a181-401a-8a1d-ffffdd81b3ef\",\"type\":\"GlyphRenderer\"},{\"attributes\":{\"line_alpha\":{\"value\":0.1},\"line_color\":{\"value\":\"#1f77b4\"},\"x\":{\"field\":\"x\"},\"y\":{\"field\":\"y\"}},\"id\":\"3d414eff-8456-4f94-a180-bd2c0fc5d63a\",\"type\":\"Line\"},{\"attributes\":{\"callback\":null,\"column_names\":[\"x\",\"y\"],\"data\":{\"x\":{\"__ndarray__\":\"mpmZmZmZyb8SERERERHBvxIREREREbG/AAAAAAAAAAAQERERERGxPxAREREREcE/mpmZmZmZyT8=\",\"dtype\":\"float64\",\"shape\":[7]},\"y\":{\"__ndarray__\":\"Akw0O7yfWsABiM18fSpXwPzDZr4+tVPAAAAAAABAUMD5dzKDgpVJwPvvZAYFq0LA9c8uEw+BN8A=\",\"dtype\":\"float64\",\"shape\":[7]}}},\"id\":\"41256654-4e0d-4fd6-928a-f1d8f8ac1a00\",\"type\":\"ColumnDataSource\"},{\"attributes\":{\"source\":{\"id\":\"da60434d-4f92-49bc-ad87-ac6db93789b5\",\"type\":\"ColumnDataSource\"}},\"id\":\"f8fcf0b2-2bee-4ba7-8280-17ada7324022\",\"type\":\"CDSView\"},{\"attributes\":{\"line_color\":{\"value\":\"#66a61e\"},\"x\":{\"field\":\"x\"},\"y\":{\"field\":\"y\"}},\"id\":\"a79cf5ac-c798-4537-b4b8-5bf8cb453a0d\",\"type\":\"Line\"},{\"attributes\":{},\"id\":\"4954cbc4-50a5-4d1e-8e2f-c744f398d809\",\"type\":\"LinearScale\"},{\"attributes\":{\"line_alpha\":{\"value\":0.1},\"line_color\":{\"value\":\"#1f77b4\"},\"x\":{\"field\":\"x\"},\"y\":{\"field\":\"y\"}},\"id\":\"be2f54a6-a668-4760-b6a2-1a085f52f5bf\",\"type\":\"Line\"},{\"attributes\":{\"line_color\":{\"value\":\"#e7298a\"},\"x\":{\"field\":\"x\"},\"y\":{\"field\":\"y\"}},\"id\":\"0984e374-cfc7-43ae-9054-5817db3d49d2\",\"type\":\"Line\"},{\"attributes\":{\"active_drag\":\"auto\",\"active_inspect\":\"auto\",\"active_scroll\":\"auto\",\"active_tap\":\"auto\",\"tools\":[{\"id\":\"aa1fe7da-45b1-4538-b968-80fca4d3b340\",\"type\":\"PanTool\"},{\"id\":\"0400d0c4-3288-4a18-ab8c-e77f183a5c21\",\"type\":\"WheelZoomTool\"},{\"id\":\"344a4526-6490-4355-bd8d-3cf798db7b52\",\"type\":\"BoxZoomTool\"},{\"id\":\"19e8152a-e7ed-444e-bfb9-77a8ce6509d0\",\"type\":\"SaveTool\"},{\"id\":\"71aae045-0d84-4533-833d-6f4a10cf0b73\",\"type\":\"ResetTool\"},{\"id\":\"071f97c3-3239-4e00-a1d6-e31d5c86ec2d\",\"type\":\"HelpTool\"}]},\"id\":\"f89960d7-4973-43da-9a6d-98ee06d22643\",\"type\":\"Toolbar\"},{\"attributes\":{\"callback\":null,\"column_names\":[\"x\",\"y\"],\"data\":{\"x\":{\"__ndarray__\":\"mpmZmZmZyb8SERERERHBvxIREREREbG/AAAAAAAAAAAQERERERGxPxAREREREcE/mpmZmZmZyT8=\",\"dtype\":\"float64\",\"shape\":[7]},\"y\":{\"__ndarray__\":\"eZoJr8NEWsD3ZgbK1+1WwIIzA+XrllPAAAAAAABAUMADmfk1KNJJwP0x82tQJEPAC5bZQ/HsOMA=\",\"dtype\":\"float64\",\"shape\":[7]}}},\"id\":\"00beb735-fa75-4cee-b244-458e5d4dc09e\",\"type\":\"ColumnDataSource\"},{\"attributes\":{\"data_source\":{\"id\":\"41256654-4e0d-4fd6-928a-f1d8f8ac1a00\",\"type\":\"ColumnDataSource\"},\"glyph\":{\"id\":\"0e2dadd3-a7d6-4fa2-a749-ce377a51c541\",\"type\":\"Line\"},\"hover_glyph\":null,\"muted_glyph\":null,\"nonselection_glyph\":{\"id\":\"be2f54a6-a668-4760-b6a2-1a085f52f5bf\",\"type\":\"Line\"},\"selection_glyph\":null,\"view\":{\"id\":\"06952a8c-f39a-467d-9886-1af05556a0bd\",\"type\":\"CDSView\"}},\"id\":\"0375ba6c-d897-470e-aebc-d2cc20c5ce24\",\"type\":\"GlyphRenderer\"},{\"attributes\":{\"source\":{\"id\":\"41256654-4e0d-4fd6-928a-f1d8f8ac1a00\",\"type\":\"ColumnDataSource\"}},\"id\":\"06952a8c-f39a-467d-9886-1af05556a0bd\",\"type\":\"CDSView\"},{\"attributes\":{\"line_alpha\":{\"value\":0.1},\"line_color\":{\"value\":\"#1f77b4\"},\"x\":{\"field\":\"x\"},\"y\":{\"field\":\"y\"}},\"id\":\"6cd44a07-b6ee-45bb-bf3c-913d12389268\",\"type\":\"Line\"},{\"attributes\":{\"callback\":null,\"column_names\":[\"x\",\"y\"],\"data\":{\"x\":{\"__ndarray__\":\"exSuR+F6hD//agAOVaG8P7iJhfmmWcs/+G4FtlEx1D8UGUjvz7XaP5hhRRQnneA/prbmMGbf4z+0C4hNpSHnP8JgKWrkY+o/0LXKhiOm7T9vBbZRMXTwP/avBuBQFfI/fVpXbnC28z8EBaj8j1f1P4uv+Iqv+PY/ElpJGc+Z+D+ZBJqn7jr6PyCv6jUO3Ps/p1k7xC19/T8uBIxSTR7/P1pXbnC2XwBAnqyWN0YwAUDhAb/+1QACQCRX58Vl0QJAaKwPjfWhA0CsAThUhXIEQO9WYBsVQwVAMqyI4qQTBkB2AbGpNOQGQLpW2XDEtAdA/asBOFSFCEBAASr/41UJQIRWUsZzJgpAyKt6jQP3CkALAaNUk8cLQE5WyxsjmAxAkqvz4rJoDUDWAByqQjkOQBlWRHHSCQ9AXKtsOGLaD0BQgMr/eFUQQPKqXuPAvRBAlNXyxggmEUA1AIeqUI4RQNcqG46Y9hFAeVWvceBeEkAagENVKMcSQLyq1zhwLxNAXtVrHLiXE0AAAAAAAAAUQA==\",\"dtype\":\"float64\",\"shape\":[50]},\"y\":{\"__ndarray__\":\"FO9w9Xu1LUAL73D1e7UtQADvcPV7tS1AtQdw9Xu1LUCdJrTze7UtQNDrvKh7tS1AoO4EG3i1LUDlBW65Y7UtQHtmCPAatS1A/0ygNV20LUAvQASIz7ItQDWhH4YGsC1As7LjPZOrLUDFv2mTDqUtQN3RO0EhnC1Az9AGKIiQLUBPWD6NFYItQANvFTKwcC1AyHWQHlFcLUBc7IrMAEUtQP1+yynUKi1Au3dlu+kNLUCVHSgLZ+4sQJgz+XB2zCxAEAZ8O0WoLEDV9vsyAoIsQBAiQG3cWSxAxTQ5ZwIwLEBfBFdZoQQsQECSDbzk1ytABSA28/WpK0BwoEIY/HorQCG1f9wbSytAtAfOfXcaK0DgkUXJLukqQPObGShftypA+CnUsyOFKkCTdJ5PlVIqQNX2zcTKHypAf8FW4djsKUB3IRiX0rkpQFjQOxvJhilAyfcUBcxTKUB98xVs6SApQAkrlAQu7ihAPWQqO6W7KEAoHJ1OWYkoQITyMmhTVyhA7Qx+spslKEBrSJtuOfQnQA==\",\"dtype\":\"float64\",\"shape\":[50]}}},\"id\":\"9026acf0-b856-48c8-bf55-a4bee97dd43e\",\"type\":\"ColumnDataSource\"},{\"attributes\":{\"source\":{\"id\":\"00beb735-fa75-4cee-b244-458e5d4dc09e\",\"type\":\"ColumnDataSource\"}},\"id\":\"c9f63edc-13f2-4b77-b0e9-9dc728a983dd\",\"type\":\"CDSView\"},{\"attributes\":{\"callback\":null,\"column_names\":[\"x\",\"y\"],\"data\":{\"x\":{\"__ndarray__\":\"mpmZmZmZyb8SERERERHBvxIREREREbG/AAAAAAAAAAAQERERERGxPxAREREREcE/mpmZmZmZyT8=\",\"dtype\":\"float64\",\"shape\":[7]},\"y\":{\"__ndarray__\":\"iQyp+K7lWcBdCMaldK5WwC8E41I6d1PAAAAAAABAUMCe9zlaixFKwD3vc7QWo0PAv81bHURpOsA=\",\"dtype\":\"float64\",\"shape\":[7]}}},\"id\":\"f750e609-8d3a-4838-8e3f-dc39f5bb1e22\",\"type\":\"ColumnDataSource\"},{\"attributes\":{\"line_alpha\":{\"value\":0.1},\"line_color\":{\"value\":\"#1f77b4\"},\"x\":{\"field\":\"x\"},\"y\":{\"field\":\"y\"}},\"id\":\"4b7cc015-488a-485c-8627-99218c3aced5\",\"type\":\"Line\"},{\"attributes\":{\"data_source\":{\"id\":\"00beb735-fa75-4cee-b244-458e5d4dc09e\",\"type\":\"ColumnDataSource\"},\"glyph\":{\"id\":\"2cd3bd2c-a0fd-4a33-aca9-2f028269fe15\",\"type\":\"Line\"},\"hover_glyph\":null,\"muted_glyph\":null,\"nonselection_glyph\":{\"id\":\"4b7cc015-488a-485c-8627-99218c3aced5\",\"type\":\"Line\"},\"selection_glyph\":null,\"view\":{\"id\":\"c9f63edc-13f2-4b77-b0e9-9dc728a983dd\",\"type\":\"CDSView\"}},\"id\":\"3f316b6d-4636-4fb4-9f3c-764ce74bb937\",\"type\":\"GlyphRenderer\"},{\"attributes\":{\"callback\":null},\"id\":\"75beb404-87ca-4869-9d5b-3de107bff933\",\"type\":\"DataRange1d\"},{\"attributes\":{\"source\":{\"id\":\"f750e609-8d3a-4838-8e3f-dc39f5bb1e22\",\"type\":\"ColumnDataSource\"}},\"id\":\"e1fb131f-e6d1-4f69-9f00-dc090fab32dd\",\"type\":\"CDSView\"},{\"attributes\":{\"below\":[{\"id\":\"8d47f789-5422-4c69-bb74-c0d2f378c82c\",\"type\":\"LinearAxis\"}],\"left\":[{\"id\":\"4607add4-1d4c-481b-942b-79697164564e\",\"type\":\"LinearAxis\"}],\"plot_height\":400,\"plot_width\":400,\"renderers\":[{\"id\":\"8d47f789-5422-4c69-bb74-c0d2f378c82c\",\"type\":\"LinearAxis\"},{\"id\":\"6fc66bd6-516e-4862-9271-cb412734a9e5\",\"type\":\"Grid\"},{\"id\":\"4607add4-1d4c-481b-942b-79697164564e\",\"type\":\"LinearAxis\"},{\"id\":\"bdb6305b-ee01-47e4-87b5-df762cc8d86b\",\"type\":\"Grid\"},{\"id\":\"450a4564-c3c5-45a4-afd9-86ef4579a194\",\"type\":\"BoxAnnotation\"},{\"id\":\"6e8e328e-d38e-49f0-98d8-102c785caba1\",\"type\":\"GlyphRenderer\"}],\"title\":{\"id\":\"7b15765b-af1b-4651-b40a-e6cbf6faa14f\",\"type\":\"Title\"},\"toolbar\":{\"id\":\"d987c2be-8add-4af2-8c9c-846d44c4899c\",\"type\":\"Toolbar\"},\"x_range\":{\"id\":\"8c34f729-07cd-40de-8557-7c8f13b96615\",\"type\":\"DataRange1d\"},\"x_scale\":{\"id\":\"c9fbd2b2-cabd-4f62-aba6-d3687576a1e3\",\"type\":\"LinearScale\"},\"y_range\":{\"id\":\"9977ac2b-3e91-4f4c-b76b-6f22db3f732b\",\"type\":\"DataRange1d\"},\"y_scale\":{\"id\":\"14dd59ea-f923-475e-9371-ef0fe80951e7\",\"type\":\"LinearScale\"}},\"id\":\"3a89507a-46ee-494d-8266-258639666fb7\",\"subtype\":\"Figure\",\"type\":\"Plot\"},{\"attributes\":{\"data_source\":{\"id\":\"f750e609-8d3a-4838-8e3f-dc39f5bb1e22\",\"type\":\"ColumnDataSource\"},\"glyph\":{\"id\":\"0984e374-cfc7-43ae-9054-5817db3d49d2\",\"type\":\"Line\"},\"hover_glyph\":null,\"muted_glyph\":null,\"nonselection_glyph\":{\"id\":\"c89cdc88-0b91-4e51-a51f-191487687208\",\"type\":\"Line\"},\"selection_glyph\":null,\"view\":{\"id\":\"e1fb131f-e6d1-4f69-9f00-dc090fab32dd\",\"type\":\"CDSView\"}},\"id\":\"410dd134-b626-406a-9fcb-8f136055a852\",\"type\":\"GlyphRenderer\"},{\"attributes\":{\"callback\":null,\"column_names\":[\"x\",\"y\"],\"data\":{\"x\":{\"__ndarray__\":\"mpmZmZmZyb8SERERERHBvxIREREREbG/AAAAAAAAAAAQERERERGxPxAREREREcE/mpmZmZmZyT8=\",\"dtype\":\"float64\",\"shape\":[7]},\"y\":{\"__ndarray__\":\"p1kKfA5kW8DFO1z9Xq1XwOIdrn6v9lPAAAAAAABAUMA8xKMCoRJJwHeIRwVCpUHAYpnWD8ZvNMA=\",\"dtype\":\"float64\",\"shape\":[7]}}},\"id\":\"0a8da73b-d6f0-401d-b20e-d6e627ae87e6\",\"type\":\"ColumnDataSource\"},{\"attributes\":{\"callback\":null,\"column_names\":[\"x\",\"y\"],\"data\":{\"x\":{\"__ndarray__\":\"mpmZmZmZyb8SERERERHBvxIREREREbG/AAAAAAAAAAAQERERERGxPxAREREREcE/mpmZmZmZyT8=\",\"dtype\":\"float64\",\"shape\":[7]},\"y\":{\"__ndarray__\":\"kuUv9l2GWcAJmcpO6W5WwIhMZad0V1PAAAAAAABAUMDvZjWxFlFKwNzNamItIkTAjmlAJ4jmO8A=\",\"dtype\":\"float64\",\"shape\":[7]}}},\"id\":\"abb8a696-d62d-4a1c-9b10-df045770bb2f\",\"type\":\"ColumnDataSource\"},{\"attributes\":{\"data_source\":{\"id\":\"9026acf0-b856-48c8-bf55-a4bee97dd43e\",\"type\":\"ColumnDataSource\"},\"glyph\":{\"id\":\"c1030c40-1a76-47b4-9f69-54cef9eb0e8c\",\"type\":\"Line\"},\"hover_glyph\":null,\"muted_glyph\":null,\"nonselection_glyph\":{\"id\":\"dfc762a3-78a5-43b3-9531-0d21d71228e6\",\"type\":\"Line\"},\"selection_glyph\":null,\"view\":{\"id\":\"ce35cd8c-a66d-4151-b27d-b8efba80bb3a\",\"type\":\"CDSView\"}},\"id\":\"6e8e328e-d38e-49f0-98d8-102c785caba1\",\"type\":\"GlyphRenderer\"},{\"attributes\":{\"line_alpha\":{\"value\":0.1},\"line_color\":{\"value\":\"#1f77b4\"},\"x\":{\"field\":\"x\"},\"y\":{\"field\":\"y\"}},\"id\":\"c89cdc88-0b91-4e51-a51f-191487687208\",\"type\":\"Line\"},{\"attributes\":{\"data_source\":{\"id\":\"abb8a696-d62d-4a1c-9b10-df045770bb2f\",\"type\":\"ColumnDataSource\"},\"glyph\":{\"id\":\"a79cf5ac-c798-4537-b4b8-5bf8cb453a0d\",\"type\":\"Line\"},\"hover_glyph\":null,\"muted_glyph\":null,\"nonselection_glyph\":{\"id\":\"1a24cbf9-a189-47f5-a55c-01b00ba838fb\",\"type\":\"Line\"},\"selection_glyph\":null,\"view\":{\"id\":\"c9694f9c-4b4f-459c-acc7-c6c85d0a2353\",\"type\":\"CDSView\"}},\"id\":\"733bbae4-b0e0-4662-80a7-cf391e5dc84c\",\"type\":\"GlyphRenderer\"},{\"attributes\":{\"source\":{\"id\":\"0a8da73b-d6f0-401d-b20e-d6e627ae87e6\",\"type\":\"ColumnDataSource\"}},\"id\":\"f6854223-1853-4007-a454-02ffb1fe3e06\",\"type\":\"CDSView\"},{\"attributes\":{\"line_alpha\":{\"value\":0.1},\"line_color\":{\"value\":\"#1f77b4\"},\"x\":{\"field\":\"x\"},\"y\":{\"field\":\"y\"}},\"id\":\"1a24cbf9-a189-47f5-a55c-01b00ba838fb\",\"type\":\"Line\"},{\"attributes\":{\"children\":[{\"id\":\"15d2897f-319a-4dc2-a499-4c81d98a0a0b\",\"type\":\"Row\"}]},\"id\":\"e17823b2-e7f4-48d3-8120-2ac1e80f7763\",\"type\":\"Column\"},{\"attributes\":{},\"id\":\"463fc208-24e7-41c2-83a7-fe2636af3d2d\",\"type\":\"LinearScale\"},{\"attributes\":{\"source\":{\"id\":\"abb8a696-d62d-4a1c-9b10-df045770bb2f\",\"type\":\"ColumnDataSource\"}},\"id\":\"c9694f9c-4b4f-459c-acc7-c6c85d0a2353\",\"type\":\"CDSView\"},{\"attributes\":{\"callback\":null},\"id\":\"fd46f582-1beb-4c87-af40-066c4e2d6572\",\"type\":\"DataRange1d\"},{\"attributes\":{},\"id\":\"14dd59ea-f923-475e-9371-ef0fe80951e7\",\"type\":\"LinearScale\"},{\"attributes\":{\"active_drag\":\"auto\",\"active_inspect\":\"auto\",\"active_scroll\":\"auto\",\"active_tap\":\"auto\",\"tools\":[{\"id\":\"5e2c3d62-2449-432a-b079-63083ccf1fbe\",\"type\":\"PanTool\"},{\"id\":\"d7621cff-66fa-40c2-bc74-b2aa717f9a81\",\"type\":\"WheelZoomTool\"},{\"id\":\"6019cf5a-5361-4f14-b490-5a449a58a89c\",\"type\":\"BoxZoomTool\"},{\"id\":\"d83b1888-c463-4ab4-8ae9-892299617465\",\"type\":\"SaveTool\"},{\"id\":\"798037d8-60c9-428f-9417-3241af01f5c8\",\"type\":\"ResetTool\"},{\"id\":\"fd59347e-70fe-439c-bcb8-a17afcdc07fa\",\"type\":\"HelpTool\"}]},\"id\":\"d987c2be-8add-4af2-8c9c-846d44c4899c\",\"type\":\"Toolbar\"},{\"attributes\":{\"callback\":null},\"id\":\"9977ac2b-3e91-4f4c-b76b-6f22db3f732b\",\"type\":\"DataRange1d\"},{\"attributes\":{},\"id\":\"c9fbd2b2-cabd-4f62-aba6-d3687576a1e3\",\"type\":\"LinearScale\"},{\"attributes\":{\"callback\":null},\"id\":\"8c34f729-07cd-40de-8557-7c8f13b96615\",\"type\":\"DataRange1d\"},{\"attributes\":{\"plot\":{\"id\":\"5f068b3d-9c33-4cdd-9160-4c8f1914e998\",\"subtype\":\"Figure\",\"type\":\"Plot\"},\"ticker\":{\"id\":\"2cc31621-9db6-4bed-9ae1-57d5c16cf382\",\"type\":\"BasicTicker\"}},\"id\":\"f9857ee1-ef81-4998-ac7c-d2928411e926\",\"type\":\"Grid\"},{\"attributes\":{\"line_color\":{\"value\":\"#1f77b4\"},\"x\":{\"field\":\"x\"},\"y\":{\"field\":\"y\"}},\"id\":\"c1030c40-1a76-47b4-9f69-54cef9eb0e8c\",\"type\":\"Line\"},{\"attributes\":{\"plot\":{\"id\":\"3a89507a-46ee-494d-8266-258639666fb7\",\"subtype\":\"Figure\",\"type\":\"Plot\"},\"ticker\":{\"id\":\"c1e08508-8d28-4dbe-9eeb-1d566c3ba7fe\",\"type\":\"BasicTicker\"}},\"id\":\"6fc66bd6-516e-4862-9271-cb412734a9e5\",\"type\":\"Grid\"},{\"attributes\":{\"axis_label\":\"Cm (pF/cm^2)\",\"formatter\":{\"id\":\"f8cf3362-d908-48e5-a3fc-fa032ecac357\",\"type\":\"BasicTickFormatter\"},\"plot\":{\"id\":\"3a89507a-46ee-494d-8266-258639666fb7\",\"subtype\":\"Figure\",\"type\":\"Plot\"},\"ticker\":{\"id\":\"c1e08508-8d28-4dbe-9eeb-1d566c3ba7fe\",\"type\":\"BasicTicker\"}},\"id\":\"8d47f789-5422-4c69-bb74-c0d2f378c82c\",\"type\":\"LinearAxis\"},{\"attributes\":{},\"id\":\"c1e08508-8d28-4dbe-9eeb-1d566c3ba7fe\",\"type\":\"BasicTicker\"},{\"attributes\":{\"axis_label\":\"Input Resistance\",\"formatter\":{\"id\":\"d24aa398-42d1-49e2-b244-137da4bb769f\",\"type\":\"BasicTickFormatter\"},\"plot\":{\"id\":\"3a89507a-46ee-494d-8266-258639666fb7\",\"subtype\":\"Figure\",\"type\":\"Plot\"},\"ticker\":{\"id\":\"29fa91bf-c45d-4868-b9af-24062ea85f1b\",\"type\":\"BasicTicker\"}},\"id\":\"4607add4-1d4c-481b-942b-79697164564e\",\"type\":\"LinearAxis\"},{\"attributes\":{},\"id\":\"29fa91bf-c45d-4868-b9af-24062ea85f1b\",\"type\":\"BasicTicker\"},{\"attributes\":{\"dimension\":1,\"plot\":{\"id\":\"3a89507a-46ee-494d-8266-258639666fb7\",\"subtype\":\"Figure\",\"type\":\"Plot\"},\"ticker\":{\"id\":\"29fa91bf-c45d-4868-b9af-24062ea85f1b\",\"type\":\"BasicTicker\"}},\"id\":\"bdb6305b-ee01-47e4-87b5-df762cc8d86b\",\"type\":\"Grid\"},{\"attributes\":{\"line_alpha\":{\"value\":0.1},\"line_color\":{\"value\":\"#1f77b4\"},\"x\":{\"field\":\"x\"},\"y\":{\"field\":\"y\"}},\"id\":\"dfc762a3-78a5-43b3-9531-0d21d71228e6\",\"type\":\"Line\"},{\"attributes\":{\"plot\":null,\"text\":\"\"},\"id\":\"7b15765b-af1b-4651-b40a-e6cbf6faa14f\",\"type\":\"Title\"},{\"attributes\":{\"children\":[{\"id\":\"5f068b3d-9c33-4cdd-9160-4c8f1914e998\",\"subtype\":\"Figure\",\"type\":\"Plot\"},{\"id\":\"3a89507a-46ee-494d-8266-258639666fb7\",\"subtype\":\"Figure\",\"type\":\"Plot\"}]},\"id\":\"15d2897f-319a-4dc2-a499-4c81d98a0a0b\",\"type\":\"Row\"},{\"attributes\":{\"source\":{\"id\":\"9026acf0-b856-48c8-bf55-a4bee97dd43e\",\"type\":\"ColumnDataSource\"}},\"id\":\"ce35cd8c-a66d-4151-b27d-b8efba80bb3a\",\"type\":\"CDSView\"},{\"attributes\":{},\"id\":\"5e2c3d62-2449-432a-b079-63083ccf1fbe\",\"type\":\"PanTool\"}],\"root_ids\":[\"e17823b2-e7f4-48d3-8120-2ac1e80f7763\"]},\"title\":\"Bokeh Application\",\"version\":\"0.12.10\"}};\n",
       "    var render_items = [{\"docid\":\"69ca51f2-344e-4735-846f-7c0882b51ffe\",\"elementid\":\"cf357030-e932-4f93-9f39-c1d068ba820d\",\"modelid\":\"e17823b2-e7f4-48d3-8120-2ac1e80f7763\"}];\n",
       "\n",
       "    root.Bokeh.embed.embed_items(docs_json, render_items);\n",
       "  }\n",
       "\n",
       "  if (root.Bokeh !== undefined) {\n",
       "    embed_document(root);\n",
       "  } else {\n",
       "    var attempts = 0;\n",
       "    var timer = setInterval(function(root) {\n",
       "      if (root.Bokeh !== undefined) {\n",
       "        embed_document(root);\n",
       "        clearInterval(timer);\n",
       "      }\n",
       "      attempts++;\n",
       "      if (attempts > 100) {\n",
       "        console.log(\"Bokeh: ERROR: Unable to embed document because BokehJS library is missing\")\n",
       "        clearInterval(timer);\n",
       "      }\n",
       "    }, 10, root)\n",
       "  }\n",
       "})(window);"
      ],
      "application/vnd.bokehjs_exec.v0+json": ""
     },
     "metadata": {
      "application/vnd.bokehjs_exec.v0+json": {
       "id": "e17823b2-e7f4-48d3-8120-2ac1e80f7763"
      }
     },
     "output_type": "display_data"
    }
   ],
   "source": [
    "# V-i slope vs Cm\n",
    "cms = np.linspace(.01,5,num=50)\n",
    "V_ss = np.zeros([I.shape[0],50])\n",
    "slope = np.zeros([50,])\n",
    "for i, cm in enumerate(list(cms)):  \n",
    "    V_ss[:,i], slope[i] = get_VI(20,2800,cm)\n",
    "    \n",
    "VI = bkp.figure(plot_height=400,plot_width=400)\n",
    "for i, color in zip(range(0,50,5),colors):\n",
    "    #if i%5==0:\n",
    "    VI.line(I,V_ss[:,i],color=color)\n",
    "VI.xaxis.axis_label=\"I (mA)\"\n",
    "VI.yaxis.axis_label=\"mV\"\n",
    "    \n",
    "S = bkp.figure(plot_height=400,plot_width=400)\n",
    "S.yaxis.axis_label=\"Input Resistance\"\n",
    "S.xaxis.axis_label=\"Cm (pF/cm^2)\"\n",
    "S.line(cms,slope)\n",
    "bkp.show(bk.layouts.layout([[VI,S]]))\n",
    "\n"
   ]
  },
  {
   "cell_type": "markdown",
   "metadata": {},
   "source": [
    "# Dynamics\n",
    "## V_1/2 analysis\n"
   ]
  },
  {
   "cell_type": "code",
   "execution_count": 24,
   "metadata": {
    "collapsed": true
   },
   "outputs": [],
   "source": [
    "I = [.2]\n",
    "def get_tau(diam,Rm,cm):\n",
    "    cell = branched_cable()\n",
    "    cell.make_cable(diam,diam,nseg = 1,Rm=Rm,cm=cm)\n",
    "    cell.add_IClamp('cable',.5,.001,500,delay = 20)\n",
    "    cell.recording_vecs([['cable',.5,'v']])\n",
    "\n",
    "    t, results = run_current_clamp(cell,'iclamp',I,tstop=700)\n",
    "    vArr =  results['cable:0.50:v']\n",
    "    \n",
    "    vZero = vArr+65\n",
    "    ss_ind = np.where(t>520)[0][0]\n",
    "    V_ss = vZero[ss_ind]\n",
    "    V_half = (1-.37)*V_ss\n",
    "    tau = np.where(vZero>V_half)[0][0]/t.size*80. -20\n",
    "    \n",
    "    return vArr, tau"
   ]
  },
  {
   "cell_type": "code",
   "execution_count": 25,
   "metadata": {},
   "outputs": [
    {
     "data": {
      "text/html": [
       "\n",
       "<div class=\"bk-root\">\n",
       "    <div class=\"bk-plotdiv\" id=\"950186c6-c4c9-4052-98d3-bca6ccc0bdfc\"></div>\n",
       "</div>"
      ]
     },
     "metadata": {},
     "output_type": "display_data"
    },
    {
     "data": {
      "application/javascript": [
       "(function(root) {\n",
       "  function embed_document(root) {\n",
       "    var docs_json = {\"8395e16c-1c55-4bc5-b35b-8adaed54f5cf\":{\"roots\":{\"references\":[{\"attributes\":{\"active_drag\":\"auto\",\"active_inspect\":\"auto\",\"active_scroll\":\"auto\",\"active_tap\":\"auto\",\"tools\":[{\"id\":\"2ad38ef7-c97a-49e2-a3fe-40eea575425b\",\"type\":\"PanTool\"},{\"id\":\"ba4de938-c265-4b52-867b-b276185c8072\",\"type\":\"WheelZoomTool\"},{\"id\":\"bf312b80-f7cb-40a1-83b2-fd4fa7936953\",\"type\":\"BoxZoomTool\"},{\"id\":\"ac2ba080-1d6f-45b4-9b99-3f58dc8e01cb\",\"type\":\"SaveTool\"},{\"id\":\"8eb53f3c-b622-4e33-923a-e691e2491238\",\"type\":\"ResetTool\"},{\"id\":\"004b3870-6806-4248-bedd-7d1df0e26d3d\",\"type\":\"HelpTool\"}]},\"id\":\"7d4bb329-8db2-49dc-a173-010c755981db\",\"type\":\"Toolbar\"},{\"attributes\":{\"overlay\":{\"id\":\"aea97dfb-a1e0-4cd6-9b40-ac72209d1354\",\"type\":\"BoxAnnotation\"}},\"id\":\"bf312b80-f7cb-40a1-83b2-fd4fa7936953\",\"type\":\"BoxZoomTool\"},{\"attributes\":{},\"id\":\"de97a9a1-8259-4b12-8620-1a3a7245370d\",\"type\":\"BasicTickFormatter\"},{\"attributes\":{\"callback\":null},\"id\":\"9dd743dd-2a47-4288-a323-0afae54eca28\",\"type\":\"DataRange1d\"},{\"attributes\":{\"line_alpha\":{\"value\":0.1},\"line_color\":{\"value\":\"#1f77b4\"},\"x\":{\"field\":\"x\"},\"y\":{\"field\":\"y\"}},\"id\":\"8db20511-71e8-48e9-b5e9-1b04c16f86a6\",\"type\":\"Line\"},{\"attributes\":{},\"id\":\"8eb53f3c-b622-4e33-923a-e691e2491238\",\"type\":\"ResetTool\"},{\"attributes\":{\"callback\":null},\"id\":\"97e850ec-07e9-4546-ab76-0da37f5c35bf\",\"type\":\"DataRange1d\"},{\"attributes\":{\"callback\":null,\"column_names\":[\"x\",\"y\"],\"data\":{\"x\":{\"__ndarray__\":\"AAAAAAAAJEDrQ2N9aKwnQNaHxvrQWCtAwsspeDkFL0DWh8b60FgxQMwpeDkFLzNAwsspeDkFNUC3bdu2bds2QKwPjfWhsThAorE+NNaHOkCYU/ByCl48QI31obE+ND5AwsspeDkFQEC8nIKXU/BAQLdt27Zt20FAsj401ofGQkCsD431obFDQKjg5RS8nERAorE+NNaHRUCdgpdT8HJGQJhT8HIKXkdAkiRJkiRJSECN9aGxPjRJQIjG+tBYH0pAg5dT8HIKS0B+aKwPjfVLQHg5BS+n4ExAcwpeTsHLTUBu27Zt27ZOQGmsD431oU9Asj401odGUEAvp+DlFLxQQKwPjfWhMVFAKng5BS+nUUCo4OUUvBxSQCVJkiRJklJAorE+NNYHU0AfGutDY31TQJ2Cl1Pw8lNAGutDY31oVECYU/ByCt5UQBW8nIKXU1VAkiRJkiTJVUAQjfWhsT5WQI31obE+tFZAC15OwcspV0CIxvrQWJ9XQAUvp+DlFFhAg5dT8HKKWEAAAAAAAABZQA==\",\"dtype\":\"float64\",\"shape\":[50]},\"y\":{\"__ndarray__\":\"5akJP7FlMcDlqQk/sWUxwOWpCT+xZTHA5akJP7FlMcDlqQk/sWUxwOWpCT+xZTHA5akJP7FlMcDlqQk/sWUxwOWpCT+xZTHA5akJP7FlMcDlqQk/sWUxwOWpCT+xZTHA5akJP7FlMcDlqQk/sWUxwOWpCT+xZTHA5akJP7FlMcDlqQk/sWUxwOWpCT+xZTHA5akJP7FlMcDlqQk/sWUxwOWpCT+xZTHA5akJP7FlMcDlqQk/sWUxwOWpCT+xZTHA5akJP7FlMcDlqQk/sWUxwOWpCT+xZTHA5akJP7FlMcDlqQk/sWUxwOWpCT+xZTHA5akJP7FlMcDlqQk/sWUxwOWpCT+xZTHA5akJP7FlMcDlqQk/sWUxwOWpCT+xZTHA5akJP7FlMcDlqQk/sWUxwOWpCT+xZTHA5akJP7FlMcDlqQk/sWUxwOWpCT+xZTHA5akJP7FlMcDlqQk/sWUxwOWpCT+xZTHA5akJP7FlMcDlqQk/sWUxwOWpCT+xZTHA5akJP7FlMcDlqQk/sWUxwA==\",\"dtype\":\"float64\",\"shape\":[50]}}},\"id\":\"65015f89-b951-4851-a311-55594335b11c\",\"type\":\"ColumnDataSource\"},{\"attributes\":{\"plot\":null,\"text\":\"\"},\"id\":\"f3688df9-9822-447c-8ca5-a716dbe3c0e0\",\"type\":\"Title\"},{\"attributes\":{},\"id\":\"c0f3446d-2ebb-4be6-ae6a-3b44ac2f9e65\",\"type\":\"LinearScale\"},{\"attributes\":{},\"id\":\"e27f3125-b8c1-4d08-b3b4-a630437dd1a5\",\"type\":\"LinearScale\"},{\"attributes\":{},\"id\":\"004b3870-6806-4248-bedd-7d1df0e26d3d\",\"type\":\"HelpTool\"},{\"attributes\":{\"plot\":{\"id\":\"c40197a7-9997-451b-92d9-f9a1e7cefe1f\",\"subtype\":\"Figure\",\"type\":\"Plot\"},\"ticker\":{\"id\":\"9d83a7e4-67b5-4ff5-a542-da359eda8bb2\",\"type\":\"BasicTicker\"}},\"id\":\"859c8829-f2cb-4205-8d65-c502d038026f\",\"type\":\"Grid\"},{\"attributes\":{\"axis_label\":\"diameter\",\"formatter\":{\"id\":\"de97a9a1-8259-4b12-8620-1a3a7245370d\",\"type\":\"BasicTickFormatter\"},\"plot\":{\"id\":\"c40197a7-9997-451b-92d9-f9a1e7cefe1f\",\"subtype\":\"Figure\",\"type\":\"Plot\"},\"ticker\":{\"id\":\"9d83a7e4-67b5-4ff5-a542-da359eda8bb2\",\"type\":\"BasicTicker\"}},\"id\":\"8d7e8bb4-bb73-412c-94aa-969b59aa6964\",\"type\":\"LinearAxis\"},{\"attributes\":{\"source\":{\"id\":\"65015f89-b951-4851-a311-55594335b11c\",\"type\":\"ColumnDataSource\"}},\"id\":\"fa0b29a1-fd5f-401d-b77f-97db28162040\",\"type\":\"CDSView\"},{\"attributes\":{},\"id\":\"9d83a7e4-67b5-4ff5-a542-da359eda8bb2\",\"type\":\"BasicTicker\"},{\"attributes\":{},\"id\":\"ac2ba080-1d6f-45b4-9b99-3f58dc8e01cb\",\"type\":\"SaveTool\"},{\"attributes\":{},\"id\":\"ba4de938-c265-4b52-867b-b276185c8072\",\"type\":\"WheelZoomTool\"},{\"attributes\":{\"axis_label\":\"tau\",\"formatter\":{\"id\":\"886ef02f-fd09-4180-a6bd-83e30692a579\",\"type\":\"BasicTickFormatter\"},\"plot\":{\"id\":\"c40197a7-9997-451b-92d9-f9a1e7cefe1f\",\"subtype\":\"Figure\",\"type\":\"Plot\"},\"ticker\":{\"id\":\"c6b2d08c-daf9-447f-b9d4-49d1ee983337\",\"type\":\"BasicTicker\"}},\"id\":\"cc9986cf-32e8-4d01-ab51-e4ef2608c2b0\",\"type\":\"LinearAxis\"},{\"attributes\":{},\"id\":\"c6b2d08c-daf9-447f-b9d4-49d1ee983337\",\"type\":\"BasicTicker\"},{\"attributes\":{\"dimension\":1,\"plot\":{\"id\":\"c40197a7-9997-451b-92d9-f9a1e7cefe1f\",\"subtype\":\"Figure\",\"type\":\"Plot\"},\"ticker\":{\"id\":\"c6b2d08c-daf9-447f-b9d4-49d1ee983337\",\"type\":\"BasicTicker\"}},\"id\":\"c5746da1-cb23-43f8-8f1c-de17e0c5b57f\",\"type\":\"Grid\"},{\"attributes\":{\"line_color\":{\"value\":\"#1f77b4\"},\"x\":{\"field\":\"x\"},\"y\":{\"field\":\"y\"}},\"id\":\"2aa8e14c-1485-46c6-8cbe-cbfc5bfcf6e0\",\"type\":\"Line\"},{\"attributes\":{\"bottom_units\":\"screen\",\"fill_alpha\":{\"value\":0.5},\"fill_color\":{\"value\":\"lightgrey\"},\"left_units\":\"screen\",\"level\":\"overlay\",\"line_alpha\":{\"value\":1.0},\"line_color\":{\"value\":\"black\"},\"line_dash\":[4,4],\"line_width\":{\"value\":2},\"plot\":null,\"render_mode\":\"css\",\"right_units\":\"screen\",\"top_units\":\"screen\"},\"id\":\"aea97dfb-a1e0-4cd6-9b40-ac72209d1354\",\"type\":\"BoxAnnotation\"},{\"attributes\":{},\"id\":\"2ad38ef7-c97a-49e2-a3fe-40eea575425b\",\"type\":\"PanTool\"},{\"attributes\":{\"data_source\":{\"id\":\"65015f89-b951-4851-a311-55594335b11c\",\"type\":\"ColumnDataSource\"},\"glyph\":{\"id\":\"2aa8e14c-1485-46c6-8cbe-cbfc5bfcf6e0\",\"type\":\"Line\"},\"hover_glyph\":null,\"muted_glyph\":null,\"nonselection_glyph\":{\"id\":\"8db20511-71e8-48e9-b5e9-1b04c16f86a6\",\"type\":\"Line\"},\"selection_glyph\":null,\"view\":{\"id\":\"fa0b29a1-fd5f-401d-b77f-97db28162040\",\"type\":\"CDSView\"}},\"id\":\"eb84cdc2-af39-41a2-a853-ab933e4ec10e\",\"type\":\"GlyphRenderer\"},{\"attributes\":{\"below\":[{\"id\":\"8d7e8bb4-bb73-412c-94aa-969b59aa6964\",\"type\":\"LinearAxis\"}],\"left\":[{\"id\":\"cc9986cf-32e8-4d01-ab51-e4ef2608c2b0\",\"type\":\"LinearAxis\"}],\"plot_height\":400,\"plot_width\":400,\"renderers\":[{\"id\":\"8d7e8bb4-bb73-412c-94aa-969b59aa6964\",\"type\":\"LinearAxis\"},{\"id\":\"859c8829-f2cb-4205-8d65-c502d038026f\",\"type\":\"Grid\"},{\"id\":\"cc9986cf-32e8-4d01-ab51-e4ef2608c2b0\",\"type\":\"LinearAxis\"},{\"id\":\"c5746da1-cb23-43f8-8f1c-de17e0c5b57f\",\"type\":\"Grid\"},{\"id\":\"aea97dfb-a1e0-4cd6-9b40-ac72209d1354\",\"type\":\"BoxAnnotation\"},{\"id\":\"eb84cdc2-af39-41a2-a853-ab933e4ec10e\",\"type\":\"GlyphRenderer\"}],\"title\":{\"id\":\"f3688df9-9822-447c-8ca5-a716dbe3c0e0\",\"type\":\"Title\"},\"toolbar\":{\"id\":\"7d4bb329-8db2-49dc-a173-010c755981db\",\"type\":\"Toolbar\"},\"x_range\":{\"id\":\"9dd743dd-2a47-4288-a323-0afae54eca28\",\"type\":\"DataRange1d\"},\"x_scale\":{\"id\":\"c0f3446d-2ebb-4be6-ae6a-3b44ac2f9e65\",\"type\":\"LinearScale\"},\"y_range\":{\"id\":\"97e850ec-07e9-4546-ab76-0da37f5c35bf\",\"type\":\"DataRange1d\"},\"y_scale\":{\"id\":\"e27f3125-b8c1-4d08-b3b4-a630437dd1a5\",\"type\":\"LinearScale\"}},\"id\":\"c40197a7-9997-451b-92d9-f9a1e7cefe1f\",\"subtype\":\"Figure\",\"type\":\"Plot\"},{\"attributes\":{},\"id\":\"886ef02f-fd09-4180-a6bd-83e30692a579\",\"type\":\"BasicTickFormatter\"}],\"root_ids\":[\"c40197a7-9997-451b-92d9-f9a1e7cefe1f\"]},\"title\":\"Bokeh Application\",\"version\":\"0.12.10\"}};\n",
       "    var render_items = [{\"docid\":\"8395e16c-1c55-4bc5-b35b-8adaed54f5cf\",\"elementid\":\"950186c6-c4c9-4052-98d3-bca6ccc0bdfc\",\"modelid\":\"c40197a7-9997-451b-92d9-f9a1e7cefe1f\"}];\n",
       "\n",
       "    root.Bokeh.embed.embed_items(docs_json, render_items);\n",
       "  }\n",
       "\n",
       "  if (root.Bokeh !== undefined) {\n",
       "    embed_document(root);\n",
       "  } else {\n",
       "    var attempts = 0;\n",
       "    var timer = setInterval(function(root) {\n",
       "      if (root.Bokeh !== undefined) {\n",
       "        embed_document(root);\n",
       "        clearInterval(timer);\n",
       "      }\n",
       "      attempts++;\n",
       "      if (attempts > 100) {\n",
       "        console.log(\"Bokeh: ERROR: Unable to embed document because BokehJS library is missing\")\n",
       "        clearInterval(timer);\n",
       "      }\n",
       "    }, 10, root)\n",
       "  }\n",
       "})(window);"
      ],
      "application/vnd.bokehjs_exec.v0+json": ""
     },
     "metadata": {
      "application/vnd.bokehjs_exec.v0+json": {
       "id": "c40197a7-9997-451b-92d9-f9a1e7cefe1f"
      }
     },
     "output_type": "display_data"
    }
   ],
   "source": [
    "# Diam\n",
    "\n",
    "diams = np.linspace(10,100,num=50)\n",
    "tau = np.zeros([50,])\n",
    "for i, diam in enumerate(list(diams)):  \n",
    "    tmp, tau[i] = get_tau(diam,2800,1)\n",
    "    \n",
    "    \n",
    "S = bkp.figure(plot_height=400,plot_width=400)\n",
    "S.yaxis.axis_label=\"tau\"\n",
    "S.xaxis.axis_label=\"diameter\"\n",
    "S.line(diams,tau)\n",
    "bkp.show(S)\n"
   ]
  },
  {
   "cell_type": "code",
   "execution_count": 26,
   "metadata": {},
   "outputs": [
    {
     "data": {
      "text/html": [
       "\n",
       "<div class=\"bk-root\">\n",
       "    <div class=\"bk-plotdiv\" id=\"9b8a2c9e-578e-4f73-916d-da13b2f65752\"></div>\n",
       "</div>"
      ]
     },
     "metadata": {},
     "output_type": "display_data"
    },
    {
     "data": {
      "application/javascript": [
       "(function(root) {\n",
       "  function embed_document(root) {\n",
       "    var docs_json = {\"dd7c296f-5b4c-4f2f-a815-6a920d58fbbc\":{\"roots\":{\"references\":[{\"attributes\":{\"axis_label\":\"Rm\",\"formatter\":{\"id\":\"a320d249-2163-463c-803d-e7d4319ebc12\",\"type\":\"BasicTickFormatter\"},\"plot\":{\"id\":\"050ed0b4-b73b-4271-a67a-f422626a2c81\",\"subtype\":\"Figure\",\"type\":\"Plot\"},\"ticker\":{\"id\":\"eadc4577-3f75-43db-a473-d705c8e23e6a\",\"type\":\"BasicTicker\"}},\"id\":\"d5ba9fd3-5b78-4f45-b771-5199a7b71114\",\"type\":\"LinearAxis\"},{\"attributes\":{\"overlay\":{\"id\":\"4dc45cc8-ca55-4f91-aa76-0b53458f7d9f\",\"type\":\"BoxAnnotation\"}},\"id\":\"83cd5dc6-52bf-4fea-a558-99ad50c62105\",\"type\":\"BoxZoomTool\"},{\"attributes\":{\"data_source\":{\"id\":\"6a2b4945-b089-4a2f-b138-2c2e8f895c77\",\"type\":\"ColumnDataSource\"},\"glyph\":{\"id\":\"007044c1-a7d3-43d8-986f-57e9dda67e1a\",\"type\":\"Line\"},\"hover_glyph\":null,\"muted_glyph\":null,\"nonselection_glyph\":{\"id\":\"028adbab-9f5e-48a1-8943-9d4614286fa2\",\"type\":\"Line\"},\"selection_glyph\":null,\"view\":{\"id\":\"45207409-6843-45a9-9e20-81b6b85d337a\",\"type\":\"CDSView\"}},\"id\":\"9a800ca1-04c1-40cc-90a2-ca39a3d9a7b2\",\"type\":\"GlyphRenderer\"},{\"attributes\":{\"callback\":null},\"id\":\"3a65c5b6-2e65-495c-80ec-b4662038a1fb\",\"type\":\"DataRange1d\"},{\"attributes\":{},\"id\":\"61de3892-1da3-40ef-99f7-14c1aefdf0ec\",\"type\":\"ResetTool\"},{\"attributes\":{},\"id\":\"c4ce54fe-b152-4db4-81ff-e44407bff3b9\",\"type\":\"LinearScale\"},{\"attributes\":{\"dimension\":1,\"plot\":{\"id\":\"050ed0b4-b73b-4271-a67a-f422626a2c81\",\"subtype\":\"Figure\",\"type\":\"Plot\"},\"ticker\":{\"id\":\"1bedf730-d3dc-4f55-95a1-24762c97acfd\",\"type\":\"BasicTicker\"}},\"id\":\"1a9ca01d-a89b-4272-b028-f226f6ff5a52\",\"type\":\"Grid\"},{\"attributes\":{\"bottom_units\":\"screen\",\"fill_alpha\":{\"value\":0.5},\"fill_color\":{\"value\":\"lightgrey\"},\"left_units\":\"screen\",\"level\":\"overlay\",\"line_alpha\":{\"value\":1.0},\"line_color\":{\"value\":\"black\"},\"line_dash\":[4,4],\"line_width\":{\"value\":2},\"plot\":null,\"render_mode\":\"css\",\"right_units\":\"screen\",\"top_units\":\"screen\"},\"id\":\"4dc45cc8-ca55-4f91-aa76-0b53458f7d9f\",\"type\":\"BoxAnnotation\"},{\"attributes\":{},\"id\":\"68f398d2-6332-4627-8a56-96d06bea8cc9\",\"type\":\"BasicTickFormatter\"},{\"attributes\":{\"callback\":null,\"column_names\":[\"x\",\"y\"],\"data\":{\"x\":{\"__ndarray__\":\"AAAAAAAAWUB7zOU47shcQBBQLcBGkmBALA5FmYkUY0BUjDG0CPhlQOHLsKN8S2lAb77uhdgfbUABhZ8yUMRwQLBPTVYmTnNAPppbVV46dkDHIqU13Zd5QO9fMUPJd31Ah4vfuvD2gEBAoccIcYiDQJddIEJ8fYZAAS0YZiTliUAkxhqJw9CNQDkMICEqKpFA76H3vWvDk0DyPEnXZMGWQKkrY+1UM5pAILxwecoqnkAXKvUy/l2hQHz2UokY/6NAScLBeBoGp0A6+xWMcYKqQML7bT/hha5AwsFkw26SsUAm/pOEeTu0QAslrZGfS7dAaOAPC33SukBpu94PC+K+QN3Z9qp9x8FAK8DMz5B4xED+FHyU9pHHQNufmDt6I8tAQJI9KUs/z0DtRMbHLP3RQHkSepFgttRAHscC+yHZ10CP4Xn3a3XbQLWz0NOknd9AiXWR/X0z4kDT+Zb26vTkQCVFj0YkIehAsuAYIVXI60AYg8dhG/3vQG6FyzVzavJAEEWwMjI09UAAAAAAAGr4QA==\",\"dtype\":\"float64\",\"shape\":[50]},\"y\":{\"__ndarray__\":\"3V540vOzMcDdXnjS87MxwEZ8R5U4szHAsJkWWH2yMcAZt+UawrExwILUtN0GsTHA7PGDoEuwMcBVD1NjkK8xwChK8egZrjHA+oSPbqOsMcDNvy30LKsxwKD6y3m2qTHA3FI5woSnMcAYq6YKU6UxwL0g4xVmojHAY5YfIXmfMcBxKSvv0JsxwOrZBYBtlzHAy6ev006SMcCsdVknMI0xwGB+oQCbhjHAfqS4nEp/McBuBW6+g3YxwMiD8qIBbTHAXVrkz01hMcBcTqW/3lQxwAG4orqCRTHAeFw+O7A0McCUdhbH8CAxwFYGK15ECjHAJylLw+/vMMBv/EW5N9EwwMdiTH3XrjDAabTLV52GMMBW8cNIiVgwwGBU09UkIzDA5PWRg2nLL8DmBOie+z4vwEKGg46cnC7Am++gXV/hLcCYtnwXVwotwLCL8UwgEyzALlp4FOH1KsCL0uv+Na4pwOQaY6jONCjAKJSTMuSAJsDQ7lcuE44kwPpQxzcLVSLAKjcu4QqaH8CgJ1Km8O4ZwA==\",\"dtype\":\"float64\",\"shape\":[50]}}},\"id\":\"6a2b4945-b089-4a2f-b138-2c2e8f895c77\",\"type\":\"ColumnDataSource\"},{\"attributes\":{\"axis_label\":\"tau\",\"formatter\":{\"id\":\"68f398d2-6332-4627-8a56-96d06bea8cc9\",\"type\":\"BasicTickFormatter\"},\"plot\":{\"id\":\"050ed0b4-b73b-4271-a67a-f422626a2c81\",\"subtype\":\"Figure\",\"type\":\"Plot\"},\"ticker\":{\"id\":\"1bedf730-d3dc-4f55-95a1-24762c97acfd\",\"type\":\"BasicTicker\"}},\"id\":\"4072755e-ef1a-4505-8c76-0e9c1a560916\",\"type\":\"LinearAxis\"},{\"attributes\":{},\"id\":\"1bedf730-d3dc-4f55-95a1-24762c97acfd\",\"type\":\"BasicTicker\"},{\"attributes\":{\"plot\":null,\"text\":\"\"},\"id\":\"71d02758-4261-436b-b3d7-feabdcf73f43\",\"type\":\"Title\"},{\"attributes\":{},\"id\":\"eadc4577-3f75-43db-a473-d705c8e23e6a\",\"type\":\"BasicTicker\"},{\"attributes\":{\"plot\":{\"id\":\"050ed0b4-b73b-4271-a67a-f422626a2c81\",\"subtype\":\"Figure\",\"type\":\"Plot\"},\"ticker\":{\"id\":\"eadc4577-3f75-43db-a473-d705c8e23e6a\",\"type\":\"BasicTicker\"}},\"id\":\"5e94d108-3c99-4775-b047-3d852c0bd49b\",\"type\":\"Grid\"},{\"attributes\":{},\"id\":\"e26acb1c-f4a6-4a0e-93a2-aeb133bd07a8\",\"type\":\"WheelZoomTool\"},{\"attributes\":{\"active_drag\":\"auto\",\"active_inspect\":\"auto\",\"active_scroll\":\"auto\",\"active_tap\":\"auto\",\"tools\":[{\"id\":\"68d9eee8-30a4-430f-923d-130a0d6fcdeb\",\"type\":\"PanTool\"},{\"id\":\"e26acb1c-f4a6-4a0e-93a2-aeb133bd07a8\",\"type\":\"WheelZoomTool\"},{\"id\":\"83cd5dc6-52bf-4fea-a558-99ad50c62105\",\"type\":\"BoxZoomTool\"},{\"id\":\"8db336af-09e0-4a10-8c9a-a80d7b62c090\",\"type\":\"SaveTool\"},{\"id\":\"61de3892-1da3-40ef-99f7-14c1aefdf0ec\",\"type\":\"ResetTool\"},{\"id\":\"9e687740-21d9-44e8-8ba3-0779a0c3cf3c\",\"type\":\"HelpTool\"}]},\"id\":\"205a540c-2736-45c5-8608-f35bb6789cb4\",\"type\":\"Toolbar\"},{\"attributes\":{\"callback\":null},\"id\":\"c8e75c03-4036-436c-a969-8440b653aaf5\",\"type\":\"DataRange1d\"},{\"attributes\":{},\"id\":\"9e687740-21d9-44e8-8ba3-0779a0c3cf3c\",\"type\":\"HelpTool\"},{\"attributes\":{\"line_alpha\":{\"value\":0.1},\"line_color\":{\"value\":\"#1f77b4\"},\"x\":{\"field\":\"x\"},\"y\":{\"field\":\"y\"}},\"id\":\"028adbab-9f5e-48a1-8943-9d4614286fa2\",\"type\":\"Line\"},{\"attributes\":{},\"id\":\"68d9eee8-30a4-430f-923d-130a0d6fcdeb\",\"type\":\"PanTool\"},{\"attributes\":{},\"id\":\"8db336af-09e0-4a10-8c9a-a80d7b62c090\",\"type\":\"SaveTool\"},{\"attributes\":{},\"id\":\"6e9b2e00-1fb5-46e6-bca7-becbb8e7c5b0\",\"type\":\"LinearScale\"},{\"attributes\":{\"below\":[{\"id\":\"d5ba9fd3-5b78-4f45-b771-5199a7b71114\",\"type\":\"LinearAxis\"}],\"left\":[{\"id\":\"4072755e-ef1a-4505-8c76-0e9c1a560916\",\"type\":\"LinearAxis\"}],\"plot_height\":400,\"plot_width\":400,\"renderers\":[{\"id\":\"d5ba9fd3-5b78-4f45-b771-5199a7b71114\",\"type\":\"LinearAxis\"},{\"id\":\"5e94d108-3c99-4775-b047-3d852c0bd49b\",\"type\":\"Grid\"},{\"id\":\"4072755e-ef1a-4505-8c76-0e9c1a560916\",\"type\":\"LinearAxis\"},{\"id\":\"1a9ca01d-a89b-4272-b028-f226f6ff5a52\",\"type\":\"Grid\"},{\"id\":\"4dc45cc8-ca55-4f91-aa76-0b53458f7d9f\",\"type\":\"BoxAnnotation\"},{\"id\":\"9a800ca1-04c1-40cc-90a2-ca39a3d9a7b2\",\"type\":\"GlyphRenderer\"}],\"title\":{\"id\":\"71d02758-4261-436b-b3d7-feabdcf73f43\",\"type\":\"Title\"},\"toolbar\":{\"id\":\"205a540c-2736-45c5-8608-f35bb6789cb4\",\"type\":\"Toolbar\"},\"x_range\":{\"id\":\"c8e75c03-4036-436c-a969-8440b653aaf5\",\"type\":\"DataRange1d\"},\"x_scale\":{\"id\":\"6e9b2e00-1fb5-46e6-bca7-becbb8e7c5b0\",\"type\":\"LinearScale\"},\"y_range\":{\"id\":\"3a65c5b6-2e65-495c-80ec-b4662038a1fb\",\"type\":\"DataRange1d\"},\"y_scale\":{\"id\":\"c4ce54fe-b152-4db4-81ff-e44407bff3b9\",\"type\":\"LinearScale\"}},\"id\":\"050ed0b4-b73b-4271-a67a-f422626a2c81\",\"subtype\":\"Figure\",\"type\":\"Plot\"},{\"attributes\":{\"source\":{\"id\":\"6a2b4945-b089-4a2f-b138-2c2e8f895c77\",\"type\":\"ColumnDataSource\"}},\"id\":\"45207409-6843-45a9-9e20-81b6b85d337a\",\"type\":\"CDSView\"},{\"attributes\":{\"line_color\":{\"value\":\"#1f77b4\"},\"x\":{\"field\":\"x\"},\"y\":{\"field\":\"y\"}},\"id\":\"007044c1-a7d3-43d8-986f-57e9dda67e1a\",\"type\":\"Line\"},{\"attributes\":{},\"id\":\"a320d249-2163-463c-803d-e7d4319ebc12\",\"type\":\"BasicTickFormatter\"}],\"root_ids\":[\"050ed0b4-b73b-4271-a67a-f422626a2c81\"]},\"title\":\"Bokeh Application\",\"version\":\"0.12.10\"}};\n",
       "    var render_items = [{\"docid\":\"dd7c296f-5b4c-4f2f-a815-6a920d58fbbc\",\"elementid\":\"9b8a2c9e-578e-4f73-916d-da13b2f65752\",\"modelid\":\"050ed0b4-b73b-4271-a67a-f422626a2c81\"}];\n",
       "\n",
       "    root.Bokeh.embed.embed_items(docs_json, render_items);\n",
       "  }\n",
       "\n",
       "  if (root.Bokeh !== undefined) {\n",
       "    embed_document(root);\n",
       "  } else {\n",
       "    var attempts = 0;\n",
       "    var timer = setInterval(function(root) {\n",
       "      if (root.Bokeh !== undefined) {\n",
       "        embed_document(root);\n",
       "        clearInterval(timer);\n",
       "      }\n",
       "      attempts++;\n",
       "      if (attempts > 100) {\n",
       "        console.log(\"Bokeh: ERROR: Unable to embed document because BokehJS library is missing\")\n",
       "        clearInterval(timer);\n",
       "      }\n",
       "    }, 10, root)\n",
       "  }\n",
       "})(window);"
      ],
      "application/vnd.bokehjs_exec.v0+json": ""
     },
     "metadata": {
      "application/vnd.bokehjs_exec.v0+json": {
       "id": "050ed0b4-b73b-4271-a67a-f422626a2c81"
      }
     },
     "output_type": "display_data"
    }
   ],
   "source": [
    "# Vary Rm\n",
    "\n",
    "Rms = np.logspace(2,5,num=50)\n",
    "tau = np.zeros([50,])\n",
    "for i, Rm in enumerate(list(Rms)):  \n",
    "    tmp, tau[i] = get_tau(20,Rm,1)\n",
    "    \n",
    "    \n",
    "S = bkp.figure(plot_height=400,plot_width=400)\n",
    "S.yaxis.axis_label=\"tau\"\n",
    "S.xaxis.axis_label=\"Rm\"\n",
    "S.line(Rms,tau)\n",
    "bkp.show(S)"
   ]
  },
  {
   "cell_type": "code",
   "execution_count": 27,
   "metadata": {},
   "outputs": [
    {
     "data": {
      "text/html": [
       "\n",
       "<div class=\"bk-root\">\n",
       "    <div class=\"bk-plotdiv\" id=\"f766b1c9-1b91-43d1-957b-aca85affc8da\"></div>\n",
       "</div>"
      ]
     },
     "metadata": {},
     "output_type": "display_data"
    },
    {
     "data": {
      "application/javascript": [
       "(function(root) {\n",
       "  function embed_document(root) {\n",
       "    var docs_json = {\"7b3c09d4-c8d3-4a3c-9be9-20fdf7c75856\":{\"roots\":{\"references\":[{\"attributes\":{\"overlay\":{\"id\":\"75e0b603-9ffa-42ac-9294-424d1e44f1c8\",\"type\":\"BoxAnnotation\"}},\"id\":\"cadeb61a-4e21-4d23-917d-79790ab54fdf\",\"type\":\"BoxZoomTool\"},{\"attributes\":{},\"id\":\"f5d1cb68-c703-45ec-8b37-ba50ce22f3b1\",\"type\":\"LinearScale\"},{\"attributes\":{\"plot\":{\"id\":\"84c2291e-a878-42a4-9487-aeb11e9eeb85\",\"subtype\":\"Figure\",\"type\":\"Plot\"},\"ticker\":{\"id\":\"946b5061-882a-4dda-816d-b07ac4a81141\",\"type\":\"BasicTicker\"}},\"id\":\"ccfbab6c-638b-4de4-8bca-9b105a2555d6\",\"type\":\"Grid\"},{\"attributes\":{\"line_alpha\":{\"value\":0.1},\"line_color\":{\"value\":\"#1f77b4\"},\"x\":{\"field\":\"x\"},\"y\":{\"field\":\"y\"}},\"id\":\"6a5df446-66c2-48e6-882a-a417fe349555\",\"type\":\"Line\"},{\"attributes\":{},\"id\":\"f20e9655-74b5-4ff4-a1cf-907f1cae6a77\",\"type\":\"BasicTickFormatter\"},{\"attributes\":{\"active_drag\":\"auto\",\"active_inspect\":\"auto\",\"active_scroll\":\"auto\",\"active_tap\":\"auto\",\"tools\":[{\"id\":\"49fe65a7-4218-45dc-96ff-671ff7c8eae4\",\"type\":\"PanTool\"},{\"id\":\"10482bfd-f7b6-4e8a-8eb2-1ddd93ada5ed\",\"type\":\"WheelZoomTool\"},{\"id\":\"cadeb61a-4e21-4d23-917d-79790ab54fdf\",\"type\":\"BoxZoomTool\"},{\"id\":\"04b3f25d-6a40-4366-a202-ae8ed33bd8c4\",\"type\":\"SaveTool\"},{\"id\":\"2043cf5e-5993-4fa6-896d-f3fc002d17c9\",\"type\":\"ResetTool\"},{\"id\":\"4cffb4b6-cd5c-4569-a9de-cf31a525697d\",\"type\":\"HelpTool\"}]},\"id\":\"9d9f4ce0-45dd-4e2a-91c7-5ab812a74053\",\"type\":\"Toolbar\"},{\"attributes\":{\"bottom_units\":\"screen\",\"fill_alpha\":{\"value\":0.5},\"fill_color\":{\"value\":\"lightgrey\"},\"left_units\":\"screen\",\"level\":\"overlay\",\"line_alpha\":{\"value\":1.0},\"line_color\":{\"value\":\"black\"},\"line_dash\":[4,4],\"line_width\":{\"value\":2},\"plot\":null,\"render_mode\":\"css\",\"right_units\":\"screen\",\"top_units\":\"screen\"},\"id\":\"75e0b603-9ffa-42ac-9294-424d1e44f1c8\",\"type\":\"BoxAnnotation\"},{\"attributes\":{},\"id\":\"10482bfd-f7b6-4e8a-8eb2-1ddd93ada5ed\",\"type\":\"WheelZoomTool\"},{\"attributes\":{},\"id\":\"130cbf5e-9ff3-4f85-ad71-42442ce26e23\",\"type\":\"BasicTickFormatter\"},{\"attributes\":{},\"id\":\"2043cf5e-5993-4fa6-896d-f3fc002d17c9\",\"type\":\"ResetTool\"},{\"attributes\":{\"axis_label\":\"tau\",\"formatter\":{\"id\":\"130cbf5e-9ff3-4f85-ad71-42442ce26e23\",\"type\":\"BasicTickFormatter\"},\"plot\":{\"id\":\"84c2291e-a878-42a4-9487-aeb11e9eeb85\",\"subtype\":\"Figure\",\"type\":\"Plot\"},\"ticker\":{\"id\":\"0743e760-eec6-4b60-af61-ce0c0285fcd3\",\"type\":\"BasicTicker\"}},\"id\":\"e7ee4594-c208-404e-9600-5d68623d1758\",\"type\":\"LinearAxis\"},{\"attributes\":{},\"id\":\"d8e156f7-e79b-40f0-8318-5c4160a4d270\",\"type\":\"LinearScale\"},{\"attributes\":{\"source\":{\"id\":\"039e1c87-9067-4e08-a3ad-69da00c43e4d\",\"type\":\"ColumnDataSource\"}},\"id\":\"f3614e3d-70dc-49ab-97e7-cd93a497f63c\",\"type\":\"CDSView\"},{\"attributes\":{\"callback\":null},\"id\":\"f25af818-308b-4abb-af9b-b13c0f83e07e\",\"type\":\"DataRange1d\"},{\"attributes\":{},\"id\":\"4cffb4b6-cd5c-4569-a9de-cf31a525697d\",\"type\":\"HelpTool\"},{\"attributes\":{},\"id\":\"49fe65a7-4218-45dc-96ff-671ff7c8eae4\",\"type\":\"PanTool\"},{\"attributes\":{\"plot\":null,\"text\":\"\"},\"id\":\"407a1606-eb44-4f1d-932c-5628cd8fa4e9\",\"type\":\"Title\"},{\"attributes\":{\"dimension\":1,\"plot\":{\"id\":\"84c2291e-a878-42a4-9487-aeb11e9eeb85\",\"subtype\":\"Figure\",\"type\":\"Plot\"},\"ticker\":{\"id\":\"0743e760-eec6-4b60-af61-ce0c0285fcd3\",\"type\":\"BasicTicker\"}},\"id\":\"6a1d4226-3b30-4f94-ad26-c09ac69f6f90\",\"type\":\"Grid\"},{\"attributes\":{},\"id\":\"946b5061-882a-4dda-816d-b07ac4a81141\",\"type\":\"BasicTicker\"},{\"attributes\":{\"below\":[{\"id\":\"d056a2f6-2bf5-4c8e-a182-e72ee81b8833\",\"type\":\"LinearAxis\"}],\"left\":[{\"id\":\"e7ee4594-c208-404e-9600-5d68623d1758\",\"type\":\"LinearAxis\"}],\"plot_height\":400,\"plot_width\":400,\"renderers\":[{\"id\":\"d056a2f6-2bf5-4c8e-a182-e72ee81b8833\",\"type\":\"LinearAxis\"},{\"id\":\"ccfbab6c-638b-4de4-8bca-9b105a2555d6\",\"type\":\"Grid\"},{\"id\":\"e7ee4594-c208-404e-9600-5d68623d1758\",\"type\":\"LinearAxis\"},{\"id\":\"6a1d4226-3b30-4f94-ad26-c09ac69f6f90\",\"type\":\"Grid\"},{\"id\":\"75e0b603-9ffa-42ac-9294-424d1e44f1c8\",\"type\":\"BoxAnnotation\"},{\"id\":\"7872393c-13d1-4059-a8ee-9dffd83f3e5f\",\"type\":\"GlyphRenderer\"}],\"title\":{\"id\":\"407a1606-eb44-4f1d-932c-5628cd8fa4e9\",\"type\":\"Title\"},\"toolbar\":{\"id\":\"9d9f4ce0-45dd-4e2a-91c7-5ab812a74053\",\"type\":\"Toolbar\"},\"x_range\":{\"id\":\"567537d8-f86f-4477-834c-3b8d2683dc67\",\"type\":\"DataRange1d\"},\"x_scale\":{\"id\":\"d8e156f7-e79b-40f0-8318-5c4160a4d270\",\"type\":\"LinearScale\"},\"y_range\":{\"id\":\"f25af818-308b-4abb-af9b-b13c0f83e07e\",\"type\":\"DataRange1d\"},\"y_scale\":{\"id\":\"f5d1cb68-c703-45ec-8b37-ba50ce22f3b1\",\"type\":\"LinearScale\"}},\"id\":\"84c2291e-a878-42a4-9487-aeb11e9eeb85\",\"subtype\":\"Figure\",\"type\":\"Plot\"},{\"attributes\":{\"line_color\":{\"value\":\"#1f77b4\"},\"x\":{\"field\":\"x\"},\"y\":{\"field\":\"y\"}},\"id\":\"84447d7a-b946-41c4-80b3-527550132861\",\"type\":\"Line\"},{\"attributes\":{},\"id\":\"0743e760-eec6-4b60-af61-ce0c0285fcd3\",\"type\":\"BasicTicker\"},{\"attributes\":{\"axis_label\":\"Cm\",\"formatter\":{\"id\":\"f20e9655-74b5-4ff4-a1cf-907f1cae6a77\",\"type\":\"BasicTickFormatter\"},\"plot\":{\"id\":\"84c2291e-a878-42a4-9487-aeb11e9eeb85\",\"subtype\":\"Figure\",\"type\":\"Plot\"},\"ticker\":{\"id\":\"946b5061-882a-4dda-816d-b07ac4a81141\",\"type\":\"BasicTicker\"}},\"id\":\"d056a2f6-2bf5-4c8e-a182-e72ee81b8833\",\"type\":\"LinearAxis\"},{\"attributes\":{\"callback\":null},\"id\":\"567537d8-f86f-4477-834c-3b8d2683dc67\",\"type\":\"DataRange1d\"},{\"attributes\":{},\"id\":\"04b3f25d-6a40-4366-a202-ae8ed33bd8c4\",\"type\":\"SaveTool\"},{\"attributes\":{\"callback\":null,\"column_names\":[\"x\",\"y\"],\"data\":{\"x\":{\"__ndarray__\":\"exSuR+F6hD//agAOVaG8P7iJhfmmWcs/+G4FtlEx1D8UGUjvz7XaP5hhRRQnneA/prbmMGbf4z+0C4hNpSHnP8JgKWrkY+o/0LXKhiOm7T9vBbZRMXTwP/avBuBQFfI/fVpXbnC28z8EBaj8j1f1P4uv+Iqv+PY/ElpJGc+Z+D+ZBJqn7jr6PyCv6jUO3Ps/p1k7xC19/T8uBIxSTR7/P1pXbnC2XwBAnqyWN0YwAUDhAb/+1QACQCRX58Vl0QJAaKwPjfWhA0CsAThUhXIEQO9WYBsVQwVAMqyI4qQTBkB2AbGpNOQGQLpW2XDEtAdA/asBOFSFCEBAASr/41UJQIRWUsZzJgpAyKt6jQP3CkALAaNUk8cLQE5WyxsjmAxAkqvz4rJoDUDWAByqQjkOQBlWRHHSCQ9AXKtsOGLaD0BQgMr/eFUQQPKqXuPAvRBAlNXyxggmEUA1AIeqUI4RQNcqG46Y9hFAeVWvceBeEkAagENVKMcSQLyq1zhwLxNAXtVrHLiXE0AAAAAAAAAUQA==\",\"dtype\":\"float64\",\"shape\":[50]},\"y\":{\"__ndarray__\":\"oQYLiiW2McAoSvHoGa4xwK6N10cOpjHANdG9pgKeMcAmMnPIO5UxwKx1WScwjTHAM7k/hiSFMcAkGvWnXXwxwKpd2wZSdDHAMaHBZUZsMcAhAneHf2MxwKhFXeZzWzHAmKYSCK1SMcAf6vhmoUoxwKYt38WVQjHAlo6U5845McAd0npGwzExwKQVYaW3KTHAlHYWx/AgMcAbuvwl5RgxwKL94oTZEDHAkl6YphIIMcAZon4FBwAxwKDlZGT79zDAkEYahjTvMMAXigDlKOcwwJ7N5kMd3zDAji6cZVbWMMAUcoLESs4wwJy1aCM/xjDAjBYeRXi9MMASWgSkbLUwwJmd6gJhrTDAiv6fJJqkMMAQQoaDjpwwwJeFbOKClDDAiOYhBLyLMMAOKghjsIMwwJVt7sGkezDAhc6j491yMMAMEopC0mowwJNVcKHGYjDAg7Ylw/9ZMMAK+gsi9FEwwJE98oDoSTDAgZ6noiFBMMAI4o0BFjkwwI8ldGAKMTDAf4YpgkMoMMAGyg/hNyAwwA==\",\"dtype\":\"float64\",\"shape\":[50]}}},\"id\":\"039e1c87-9067-4e08-a3ad-69da00c43e4d\",\"type\":\"ColumnDataSource\"},{\"attributes\":{\"data_source\":{\"id\":\"039e1c87-9067-4e08-a3ad-69da00c43e4d\",\"type\":\"ColumnDataSource\"},\"glyph\":{\"id\":\"84447d7a-b946-41c4-80b3-527550132861\",\"type\":\"Line\"},\"hover_glyph\":null,\"muted_glyph\":null,\"nonselection_glyph\":{\"id\":\"6a5df446-66c2-48e6-882a-a417fe349555\",\"type\":\"Line\"},\"selection_glyph\":null,\"view\":{\"id\":\"f3614e3d-70dc-49ab-97e7-cd93a497f63c\",\"type\":\"CDSView\"}},\"id\":\"7872393c-13d1-4059-a8ee-9dffd83f3e5f\",\"type\":\"GlyphRenderer\"}],\"root_ids\":[\"84c2291e-a878-42a4-9487-aeb11e9eeb85\"]},\"title\":\"Bokeh Application\",\"version\":\"0.12.10\"}};\n",
       "    var render_items = [{\"docid\":\"7b3c09d4-c8d3-4a3c-9be9-20fdf7c75856\",\"elementid\":\"f766b1c9-1b91-43d1-957b-aca85affc8da\",\"modelid\":\"84c2291e-a878-42a4-9487-aeb11e9eeb85\"}];\n",
       "\n",
       "    root.Bokeh.embed.embed_items(docs_json, render_items);\n",
       "  }\n",
       "\n",
       "  if (root.Bokeh !== undefined) {\n",
       "    embed_document(root);\n",
       "  } else {\n",
       "    var attempts = 0;\n",
       "    var timer = setInterval(function(root) {\n",
       "      if (root.Bokeh !== undefined) {\n",
       "        embed_document(root);\n",
       "        clearInterval(timer);\n",
       "      }\n",
       "      attempts++;\n",
       "      if (attempts > 100) {\n",
       "        console.log(\"Bokeh: ERROR: Unable to embed document because BokehJS library is missing\")\n",
       "        clearInterval(timer);\n",
       "      }\n",
       "    }, 10, root)\n",
       "  }\n",
       "})(window);"
      ],
      "application/vnd.bokehjs_exec.v0+json": ""
     },
     "metadata": {
      "application/vnd.bokehjs_exec.v0+json": {
       "id": "84c2291e-a878-42a4-9487-aeb11e9eeb85"
      }
     },
     "output_type": "display_data"
    }
   ],
   "source": [
    "# Vary Cm\n",
    "cms = np.linspace(.01,5,num=50)\n",
    "tau = np.zeros([50,])\n",
    "for i, cm in enumerate(list(cms)):  \n",
    "    tmp, tau[i] = get_tau(20,2800,cm)\n",
    "    \n",
    "    \n",
    "S = bkp.figure(plot_height=400,plot_width=400)\n",
    "S.yaxis.axis_label=\"tau\"\n",
    "S.xaxis.axis_label=\"Cm\"\n",
    "S.line(cms,tau)\n",
    "bkp.show(S)"
   ]
  },
  {
   "cell_type": "code",
   "execution_count": null,
   "metadata": {
    "collapsed": true
   },
   "outputs": [],
   "source": []
  }
 ],
 "metadata": {
  "kernelspec": {
   "display_name": "Python 3",
   "language": "python",
   "name": "python3"
  },
  "language_info": {
   "codemirror_mode": {
    "name": "ipython",
    "version": 3
   },
   "file_extension": ".py",
   "mimetype": "text/x-python",
   "name": "python",
   "nbconvert_exporter": "python",
   "pygments_lexer": "ipython3",
   "version": "3.6.3"
  }
 },
 "nbformat": 4,
 "nbformat_minor": 2
}
