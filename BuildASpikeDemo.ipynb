{
 "cells": [
  {
   "cell_type": "code",
   "execution_count": null,
   "metadata": {
    "collapsed": true
   },
   "outputs": [],
   "source": [
    "# spherical cell: insert mechanisms to a cell one at a time\n",
    "\n",
    "# passive\n",
    "cell = branched_cable()\n",
    "cell.make_cable(12,12)\n",
    "cell.add_IClamp('cable',.5,1,50)\n",
    "cell.recording_vecs(['cable',.5,'v'])\n",
    "\n",
    "# run simulation and plot"
   ]
  },
  {
   "cell_type": "code",
   "execution_count": null,
   "metadata": {
    "collapsed": true
   },
   "outputs": [],
   "source": [
    "# K delayed rectifier\n",
    "# can currently vary conductance\n",
    "#     need to add capability to vary kinetics, voltage dependence (half activation and steepness)\n",
    "cell = branched_cable()\n",
    "cell.make_cable(12,12)\n",
    "cell.segments['cable'].g_pas = 0\n",
    "cell.segments['cable'].insert('kdr')\n",
    "cell.segments['cable'].gkdrbar_kdr = .003\n",
    "\n",
    "cell.add_IClamp('cable',.5,1,50)\n",
    "\n",
    "\n",
    "# run simulation and plot"
   ]
  },
  {
   "cell_type": "code",
   "execution_count": null,
   "metadata": {
    "collapsed": true
   },
   "outputs": [],
   "source": [
    "# K inactivating\n",
    "# I don't have  a good mod file for this at the moment\n",
    "#cell = branched_cable()\n",
    "#cell.make_cable(12,12)\n",
    "#cell.segments['cable'].g_pas = 0\n",
    "\n",
    "#cell.add_IClamp('cable',.5,1,50)\n"
   ]
  },
  {
   "cell_type": "code",
   "execution_count": null,
   "metadata": {
    "collapsed": true
   },
   "outputs": [],
   "source": [
    "# Ih \n",
    "# can change conductance and voltage dependence at the moment\n",
    "cell.segments['cable'].insert('hd')\n",
    "cell.segments['cable'].ghdbar_hd = .0006\n",
    "cell.segments['cable'].vhalfl_hd=-82\n",
    "\n",
    "# run and plot"
   ]
  },
  {
   "cell_type": "code",
   "execution_count": null,
   "metadata": {
    "collapsed": true
   },
   "outputs": [],
   "source": [
    "# Persistent sodium or rapid activating calcium\n",
    "# need mod file\n"
   ]
  },
  {
   "cell_type": "code",
   "execution_count": null,
   "metadata": {
    "collapsed": true
   },
   "outputs": [],
   "source": [
    "# inactivating sodium current\n",
    "cell.segments['cable'].insert('na3')\n",
    "\n",
    "cell.segments['cable'].gbar_na3 = .032\n"
   ]
  },
  {
   "cell_type": "code",
   "execution_count": null,
   "metadata": {
    "collapsed": true
   },
   "outputs": [],
   "source": [
    "# ball and stick cell\n",
    "cell = branched_cable()\n",
    "cell.make_cable(12,12)\n",
    "cell.add_branch('cable',1,200,1)\n",
    "cell.add_stim('branch',1)\n",
    "\n",
    "# add passive channels to dendrites\n",
    "\n",
    "# active channels to soma"
   ]
  },
  {
   "cell_type": "code",
   "execution_count": null,
   "metadata": {
    "collapsed": true
   },
   "outputs": [],
   "source": [
    "# add checkboxes for inserting different distributed mechanisms\n",
    "\n",
    "# plot response "
   ]
  }
 ],
 "metadata": {
  "kernelspec": {
   "display_name": "Python 3",
   "language": "python",
   "name": "python3"
  },
  "language_info": {
   "codemirror_mode": {
    "name": "ipython",
    "version": 3
   },
   "file_extension": ".py",
   "mimetype": "text/x-python",
   "name": "python",
   "nbconvert_exporter": "python",
   "pygments_lexer": "ipython3",
   "version": "3.6.3"
  }
 },
 "nbformat": 4,
 "nbformat_minor": 2
}
