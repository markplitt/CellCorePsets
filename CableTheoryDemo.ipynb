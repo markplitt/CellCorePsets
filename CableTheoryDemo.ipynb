{
 "cells": [
  {
   "cell_type": "code",
   "execution_count": 1,
   "metadata": {},
   "outputs": [
    {
     "data": {
      "text/html": [
       "\n",
       "    <div class=\"bk-root\">\n",
       "        <a href=\"https://bokeh.pydata.org\" target=\"_blank\" class=\"bk-logo bk-logo-small bk-logo-notebook\"></a>\n",
       "        <span id=\"b30758cb-3c6a-48ec-9be0-5e510e5e608e\">Loading BokehJS ...</span>\n",
       "    </div>"
      ]
     },
     "metadata": {},
     "output_type": "display_data"
    },
    {
     "data": {
      "application/javascript": [
       "\n",
       "(function(root) {\n",
       "  function now() {\n",
       "    return new Date();\n",
       "  }\n",
       "\n",
       "  var force = true;\n",
       "\n",
       "  if (typeof (root._bokeh_onload_callbacks) === \"undefined\" || force === true) {\n",
       "    root._bokeh_onload_callbacks = [];\n",
       "    root._bokeh_is_loading = undefined;\n",
       "  }\n",
       "\n",
       "  var JS_MIME_TYPE = 'application/javascript';\n",
       "  var HTML_MIME_TYPE = 'text/html';\n",
       "  var EXEC_MIME_TYPE = 'application/vnd.bokehjs_exec.v0+json';\n",
       "  var CLASS_NAME = 'output_bokeh rendered_html';\n",
       "\n",
       "  /**\n",
       "   * Render data to the DOM node\n",
       "   */\n",
       "  function render(props, node) {\n",
       "    var script = document.createElement(\"script\");\n",
       "    node.appendChild(script);\n",
       "  }\n",
       "\n",
       "  /**\n",
       "   * Handle when an output is cleared or removed\n",
       "   */\n",
       "  function handleClearOutput(event, handle) {\n",
       "    var cell = handle.cell;\n",
       "\n",
       "    var id = cell.output_area._bokeh_element_id;\n",
       "    var server_id = cell.output_area._bokeh_server_id;\n",
       "    // Clean up Bokeh references\n",
       "    if (id !== undefined) {\n",
       "      Bokeh.index[id].model.document.clear();\n",
       "      delete Bokeh.index[id];\n",
       "    }\n",
       "\n",
       "    if (server_id !== undefined) {\n",
       "      // Clean up Bokeh references\n",
       "      var cmd = \"from bokeh.io.state import curstate; print(curstate().uuid_to_server['\" + server_id + \"'].get_sessions()[0].document.roots[0]._id)\";\n",
       "      cell.notebook.kernel.execute(cmd, {\n",
       "        iopub: {\n",
       "          output: function(msg) {\n",
       "            var element_id = msg.content.text.trim();\n",
       "            Bokeh.index[element_id].model.document.clear();\n",
       "            delete Bokeh.index[element_id];\n",
       "          }\n",
       "        }\n",
       "      });\n",
       "      // Destroy server and session\n",
       "      var cmd = \"import bokeh.io.notebook as ion; ion.destroy_server('\" + server_id + \"')\";\n",
       "      cell.notebook.kernel.execute(cmd);\n",
       "    }\n",
       "  }\n",
       "\n",
       "  /**\n",
       "   * Handle when a new output is added\n",
       "   */\n",
       "  function handleAddOutput(event, handle) {\n",
       "    var output_area = handle.output_area;\n",
       "    var output = handle.output;\n",
       "\n",
       "    // limit handleAddOutput to display_data with EXEC_MIME_TYPE content only\n",
       "    if ((output.output_type != \"display_data\") || (!output.data.hasOwnProperty(EXEC_MIME_TYPE))) {\n",
       "      return\n",
       "    }\n",
       "\n",
       "    var toinsert = output_area.element.find(\".\" + CLASS_NAME.split(' ')[0]);\n",
       "\n",
       "    if (output.metadata[EXEC_MIME_TYPE][\"id\"] !== undefined) {\n",
       "      toinsert[0].firstChild.textContent = output.data[JS_MIME_TYPE];\n",
       "      // store reference to embed id on output_area\n",
       "      output_area._bokeh_element_id = output.metadata[EXEC_MIME_TYPE][\"id\"];\n",
       "    }\n",
       "    if (output.metadata[EXEC_MIME_TYPE][\"server_id\"] !== undefined) {\n",
       "      var bk_div = document.createElement(\"div\");\n",
       "      bk_div.innerHTML = output.data[HTML_MIME_TYPE];\n",
       "      var script_attrs = bk_div.children[0].attributes;\n",
       "      for (var i = 0; i < script_attrs.length; i++) {\n",
       "        toinsert[0].firstChild.setAttribute(script_attrs[i].name, script_attrs[i].value);\n",
       "      }\n",
       "      // store reference to server id on output_area\n",
       "      output_area._bokeh_server_id = output.metadata[EXEC_MIME_TYPE][\"server_id\"];\n",
       "    }\n",
       "  }\n",
       "\n",
       "  function register_renderer(events, OutputArea) {\n",
       "\n",
       "    function append_mime(data, metadata, element) {\n",
       "      // create a DOM node to render to\n",
       "      var toinsert = this.create_output_subarea(\n",
       "        metadata,\n",
       "        CLASS_NAME,\n",
       "        EXEC_MIME_TYPE\n",
       "      );\n",
       "      this.keyboard_manager.register_events(toinsert);\n",
       "      // Render to node\n",
       "      var props = {data: data, metadata: metadata[EXEC_MIME_TYPE]};\n",
       "      render(props, toinsert[0]);\n",
       "      element.append(toinsert);\n",
       "      return toinsert\n",
       "    }\n",
       "\n",
       "    /* Handle when an output is cleared or removed */\n",
       "    events.on('clear_output.CodeCell', handleClearOutput);\n",
       "    events.on('delete.Cell', handleClearOutput);\n",
       "\n",
       "    /* Handle when a new output is added */\n",
       "    events.on('output_added.OutputArea', handleAddOutput);\n",
       "\n",
       "    /**\n",
       "     * Register the mime type and append_mime function with output_area\n",
       "     */\n",
       "    OutputArea.prototype.register_mime_type(EXEC_MIME_TYPE, append_mime, {\n",
       "      /* Is output safe? */\n",
       "      safe: true,\n",
       "      /* Index of renderer in `output_area.display_order` */\n",
       "      index: 0\n",
       "    });\n",
       "  }\n",
       "\n",
       "  // register the mime type if in Jupyter Notebook environment and previously unregistered\n",
       "  if (root.Jupyter !== undefined) {\n",
       "    var events = require('base/js/events');\n",
       "    var OutputArea = require('notebook/js/outputarea').OutputArea;\n",
       "\n",
       "    if (OutputArea.prototype.mime_types().indexOf(EXEC_MIME_TYPE) == -1) {\n",
       "      register_renderer(events, OutputArea);\n",
       "    }\n",
       "  }\n",
       "\n",
       "  \n",
       "  if (typeof (root._bokeh_timeout) === \"undefined\" || force === true) {\n",
       "    root._bokeh_timeout = Date.now() + 5000;\n",
       "    root._bokeh_failed_load = false;\n",
       "  }\n",
       "\n",
       "  var NB_LOAD_WARNING = {'data': {'text/html':\n",
       "     \"<div style='background-color: #fdd'>\\n\"+\n",
       "     \"<p>\\n\"+\n",
       "     \"BokehJS does not appear to have successfully loaded. If loading BokehJS from CDN, this \\n\"+\n",
       "     \"may be due to a slow or bad network connection. Possible fixes:\\n\"+\n",
       "     \"</p>\\n\"+\n",
       "     \"<ul>\\n\"+\n",
       "     \"<li>re-rerun `output_notebook()` to attempt to load from CDN again, or</li>\\n\"+\n",
       "     \"<li>use INLINE resources instead, as so:</li>\\n\"+\n",
       "     \"</ul>\\n\"+\n",
       "     \"<code>\\n\"+\n",
       "     \"from bokeh.resources import INLINE\\n\"+\n",
       "     \"output_notebook(resources=INLINE)\\n\"+\n",
       "     \"</code>\\n\"+\n",
       "     \"</div>\"}};\n",
       "\n",
       "  function display_loaded() {\n",
       "    var el = document.getElementById(\"b30758cb-3c6a-48ec-9be0-5e510e5e608e\");\n",
       "    if (el != null) {\n",
       "      el.textContent = \"BokehJS is loading...\";\n",
       "    }\n",
       "    if (root.Bokeh !== undefined) {\n",
       "      if (el != null) {\n",
       "        el.textContent = \"BokehJS \" + root.Bokeh.version + \" successfully loaded.\";\n",
       "      }\n",
       "    } else if (Date.now() < root._bokeh_timeout) {\n",
       "      setTimeout(display_loaded, 100)\n",
       "    }\n",
       "  }\n",
       "\n",
       "\n",
       "  function run_callbacks() {\n",
       "    try {\n",
       "      root._bokeh_onload_callbacks.forEach(function(callback) { callback() });\n",
       "    }\n",
       "    finally {\n",
       "      delete root._bokeh_onload_callbacks\n",
       "    }\n",
       "    console.info(\"Bokeh: all callbacks have finished\");\n",
       "  }\n",
       "\n",
       "  function load_libs(js_urls, callback) {\n",
       "    root._bokeh_onload_callbacks.push(callback);\n",
       "    if (root._bokeh_is_loading > 0) {\n",
       "      console.log(\"Bokeh: BokehJS is being loaded, scheduling callback at\", now());\n",
       "      return null;\n",
       "    }\n",
       "    if (js_urls == null || js_urls.length === 0) {\n",
       "      run_callbacks();\n",
       "      return null;\n",
       "    }\n",
       "    console.log(\"Bokeh: BokehJS not loaded, scheduling load and callback at\", now());\n",
       "    root._bokeh_is_loading = js_urls.length;\n",
       "    for (var i = 0; i < js_urls.length; i++) {\n",
       "      var url = js_urls[i];\n",
       "      var s = document.createElement('script');\n",
       "      s.src = url;\n",
       "      s.async = false;\n",
       "      s.onreadystatechange = s.onload = function() {\n",
       "        root._bokeh_is_loading--;\n",
       "        if (root._bokeh_is_loading === 0) {\n",
       "          console.log(\"Bokeh: all BokehJS libraries loaded\");\n",
       "          run_callbacks()\n",
       "        }\n",
       "      };\n",
       "      s.onerror = function() {\n",
       "        console.warn(\"failed to load library \" + url);\n",
       "      };\n",
       "      console.log(\"Bokeh: injecting script tag for BokehJS library: \", url);\n",
       "      document.getElementsByTagName(\"head\")[0].appendChild(s);\n",
       "    }\n",
       "  };var element = document.getElementById(\"b30758cb-3c6a-48ec-9be0-5e510e5e608e\");\n",
       "  if (element == null) {\n",
       "    console.log(\"Bokeh: ERROR: autoload.js configured with elementid 'b30758cb-3c6a-48ec-9be0-5e510e5e608e' but no matching script tag was found. \")\n",
       "    return false;\n",
       "  }\n",
       "\n",
       "  var js_urls = [\"https://cdn.pydata.org/bokeh/release/bokeh-0.12.14.min.js\", \"https://cdn.pydata.org/bokeh/release/bokeh-widgets-0.12.14.min.js\", \"https://cdn.pydata.org/bokeh/release/bokeh-tables-0.12.14.min.js\", \"https://cdn.pydata.org/bokeh/release/bokeh-gl-0.12.14.min.js\"];\n",
       "\n",
       "  var inline_js = [\n",
       "    function(Bokeh) {\n",
       "      Bokeh.set_log_level(\"info\");\n",
       "    },\n",
       "    \n",
       "    function(Bokeh) {\n",
       "      \n",
       "    },\n",
       "    function(Bokeh) {\n",
       "      console.log(\"Bokeh: injecting CSS: https://cdn.pydata.org/bokeh/release/bokeh-0.12.14.min.css\");\n",
       "      Bokeh.embed.inject_css(\"https://cdn.pydata.org/bokeh/release/bokeh-0.12.14.min.css\");\n",
       "      console.log(\"Bokeh: injecting CSS: https://cdn.pydata.org/bokeh/release/bokeh-widgets-0.12.14.min.css\");\n",
       "      Bokeh.embed.inject_css(\"https://cdn.pydata.org/bokeh/release/bokeh-widgets-0.12.14.min.css\");\n",
       "      console.log(\"Bokeh: injecting CSS: https://cdn.pydata.org/bokeh/release/bokeh-tables-0.12.14.min.css\");\n",
       "      Bokeh.embed.inject_css(\"https://cdn.pydata.org/bokeh/release/bokeh-tables-0.12.14.min.css\");\n",
       "    }\n",
       "  ];\n",
       "\n",
       "  function run_inline_js() {\n",
       "    \n",
       "    if ((root.Bokeh !== undefined) || (force === true)) {\n",
       "      for (var i = 0; i < inline_js.length; i++) {\n",
       "        inline_js[i].call(root, root.Bokeh);\n",
       "      }if (force === true) {\n",
       "        display_loaded();\n",
       "      }} else if (Date.now() < root._bokeh_timeout) {\n",
       "      setTimeout(run_inline_js, 100);\n",
       "    } else if (!root._bokeh_failed_load) {\n",
       "      console.log(\"Bokeh: BokehJS failed to load within specified timeout.\");\n",
       "      root._bokeh_failed_load = true;\n",
       "    } else if (force !== true) {\n",
       "      var cell = $(document.getElementById(\"b30758cb-3c6a-48ec-9be0-5e510e5e608e\")).parents('.cell').data().cell;\n",
       "      cell.output_area.append_execute_result(NB_LOAD_WARNING)\n",
       "    }\n",
       "\n",
       "  }\n",
       "\n",
       "  if (root._bokeh_is_loading === 0) {\n",
       "    console.log(\"Bokeh: BokehJS loaded, going straight to plotting\");\n",
       "    run_inline_js();\n",
       "  } else {\n",
       "    load_libs(js_urls, function() {\n",
       "      console.log(\"Bokeh: BokehJS plotting callback run at\", now());\n",
       "      run_inline_js();\n",
       "    });\n",
       "  }\n",
       "}(window));"
      ],
      "application/vnd.bokehjs_load.v0+json": "\n(function(root) {\n  function now() {\n    return new Date();\n  }\n\n  var force = true;\n\n  if (typeof (root._bokeh_onload_callbacks) === \"undefined\" || force === true) {\n    root._bokeh_onload_callbacks = [];\n    root._bokeh_is_loading = undefined;\n  }\n\n  \n\n  \n  if (typeof (root._bokeh_timeout) === \"undefined\" || force === true) {\n    root._bokeh_timeout = Date.now() + 5000;\n    root._bokeh_failed_load = false;\n  }\n\n  var NB_LOAD_WARNING = {'data': {'text/html':\n     \"<div style='background-color: #fdd'>\\n\"+\n     \"<p>\\n\"+\n     \"BokehJS does not appear to have successfully loaded. If loading BokehJS from CDN, this \\n\"+\n     \"may be due to a slow or bad network connection. Possible fixes:\\n\"+\n     \"</p>\\n\"+\n     \"<ul>\\n\"+\n     \"<li>re-rerun `output_notebook()` to attempt to load from CDN again, or</li>\\n\"+\n     \"<li>use INLINE resources instead, as so:</li>\\n\"+\n     \"</ul>\\n\"+\n     \"<code>\\n\"+\n     \"from bokeh.resources import INLINE\\n\"+\n     \"output_notebook(resources=INLINE)\\n\"+\n     \"</code>\\n\"+\n     \"</div>\"}};\n\n  function display_loaded() {\n    var el = document.getElementById(\"b30758cb-3c6a-48ec-9be0-5e510e5e608e\");\n    if (el != null) {\n      el.textContent = \"BokehJS is loading...\";\n    }\n    if (root.Bokeh !== undefined) {\n      if (el != null) {\n        el.textContent = \"BokehJS \" + root.Bokeh.version + \" successfully loaded.\";\n      }\n    } else if (Date.now() < root._bokeh_timeout) {\n      setTimeout(display_loaded, 100)\n    }\n  }\n\n\n  function run_callbacks() {\n    try {\n      root._bokeh_onload_callbacks.forEach(function(callback) { callback() });\n    }\n    finally {\n      delete root._bokeh_onload_callbacks\n    }\n    console.info(\"Bokeh: all callbacks have finished\");\n  }\n\n  function load_libs(js_urls, callback) {\n    root._bokeh_onload_callbacks.push(callback);\n    if (root._bokeh_is_loading > 0) {\n      console.log(\"Bokeh: BokehJS is being loaded, scheduling callback at\", now());\n      return null;\n    }\n    if (js_urls == null || js_urls.length === 0) {\n      run_callbacks();\n      return null;\n    }\n    console.log(\"Bokeh: BokehJS not loaded, scheduling load and callback at\", now());\n    root._bokeh_is_loading = js_urls.length;\n    for (var i = 0; i < js_urls.length; i++) {\n      var url = js_urls[i];\n      var s = document.createElement('script');\n      s.src = url;\n      s.async = false;\n      s.onreadystatechange = s.onload = function() {\n        root._bokeh_is_loading--;\n        if (root._bokeh_is_loading === 0) {\n          console.log(\"Bokeh: all BokehJS libraries loaded\");\n          run_callbacks()\n        }\n      };\n      s.onerror = function() {\n        console.warn(\"failed to load library \" + url);\n      };\n      console.log(\"Bokeh: injecting script tag for BokehJS library: \", url);\n      document.getElementsByTagName(\"head\")[0].appendChild(s);\n    }\n  };var element = document.getElementById(\"b30758cb-3c6a-48ec-9be0-5e510e5e608e\");\n  if (element == null) {\n    console.log(\"Bokeh: ERROR: autoload.js configured with elementid 'b30758cb-3c6a-48ec-9be0-5e510e5e608e' but no matching script tag was found. \")\n    return false;\n  }\n\n  var js_urls = [\"https://cdn.pydata.org/bokeh/release/bokeh-0.12.14.min.js\", \"https://cdn.pydata.org/bokeh/release/bokeh-widgets-0.12.14.min.js\", \"https://cdn.pydata.org/bokeh/release/bokeh-tables-0.12.14.min.js\", \"https://cdn.pydata.org/bokeh/release/bokeh-gl-0.12.14.min.js\"];\n\n  var inline_js = [\n    function(Bokeh) {\n      Bokeh.set_log_level(\"info\");\n    },\n    \n    function(Bokeh) {\n      \n    },\n    function(Bokeh) {\n      console.log(\"Bokeh: injecting CSS: https://cdn.pydata.org/bokeh/release/bokeh-0.12.14.min.css\");\n      Bokeh.embed.inject_css(\"https://cdn.pydata.org/bokeh/release/bokeh-0.12.14.min.css\");\n      console.log(\"Bokeh: injecting CSS: https://cdn.pydata.org/bokeh/release/bokeh-widgets-0.12.14.min.css\");\n      Bokeh.embed.inject_css(\"https://cdn.pydata.org/bokeh/release/bokeh-widgets-0.12.14.min.css\");\n      console.log(\"Bokeh: injecting CSS: https://cdn.pydata.org/bokeh/release/bokeh-tables-0.12.14.min.css\");\n      Bokeh.embed.inject_css(\"https://cdn.pydata.org/bokeh/release/bokeh-tables-0.12.14.min.css\");\n    }\n  ];\n\n  function run_inline_js() {\n    \n    if ((root.Bokeh !== undefined) || (force === true)) {\n      for (var i = 0; i < inline_js.length; i++) {\n        inline_js[i].call(root, root.Bokeh);\n      }if (force === true) {\n        display_loaded();\n      }} else if (Date.now() < root._bokeh_timeout) {\n      setTimeout(run_inline_js, 100);\n    } else if (!root._bokeh_failed_load) {\n      console.log(\"Bokeh: BokehJS failed to load within specified timeout.\");\n      root._bokeh_failed_load = true;\n    } else if (force !== true) {\n      var cell = $(document.getElementById(\"b30758cb-3c6a-48ec-9be0-5e510e5e608e\")).parents('.cell').data().cell;\n      cell.output_area.append_execute_result(NB_LOAD_WARNING)\n    }\n\n  }\n\n  if (root._bokeh_is_loading === 0) {\n    console.log(\"Bokeh: BokehJS loaded, going straight to plotting\");\n    run_inline_js();\n  } else {\n    load_libs(js_urls, function() {\n      console.log(\"Bokeh: BokehJS plotting callback run at\", now());\n      run_inline_js();\n    });\n  }\n}(window));"
     },
     "metadata": {},
     "output_type": "display_data"
    }
   ],
   "source": [
    "from neuron import h, gui\n",
    "import bokeh as bk\n",
    "import bokeh.plotting as bkp\n",
    "import numpy as np\n",
    "from bokeh.palettes import Dark2_5 as palette\n",
    "import itertools \n",
    "import ipywidgets as widgets\n",
    "from branched_cable import branched_cable, run_current_clamp\n",
    "\n",
    "colors = itertools.cycle(palette)  \n",
    "bkp.output_notebook()"
   ]
  },
  {
   "cell_type": "code",
   "execution_count": 2,
   "metadata": {
    "collapsed": true
   },
   "outputs": [],
   "source": [
    "def plot_cable(L,diam,Ra,Rm,cm,I,stim_loc):\n",
    "    # make a cable, insert stimulus halfway down the process\n",
    "    cell = branched_cable()\n",
    "    cell.make_cable(L,diam,Ra=Ra,Rm=Rm,cm=cm)\n",
    "    cell.add_IClamp('cable',stim_loc,.001,50)\n",
    "\n",
    "    # record at a few different points along the cable\n",
    "    positions = list(np.linspace(0,1,num=51))\n",
    "    for pos in positions:   \n",
    "        cell.recording_vecs([['cable',pos,'v']])\n",
    "\n",
    "    #print(cell.record_vecs.keys())\n",
    "    t,results = run_current_clamp(cell,'iclamp',[I],tstop=200)\n",
    "\n",
    "    RC = bkp.figure(plot_height=400,plot_width=400)\n",
    "    #keys = list(results.record_vecs.keys())\n",
    "    for i, color in zip(range(0,len(positions),5),colors):\n",
    "        key = \"cable:%.2f:v\" % positions[i]\n",
    "        RC.line(t,np.squeeze(results[key][:,-1]),color=color,legend=str(positions[i]))\n",
    "    RC.xaxis.axis_label=\"I (mA)\"\n",
    "    RC.yaxis.axis_label=\"mV\"\n",
    "\n",
    "\n",
    "    # steady state V as a function of distance\n",
    "    ss_ind = np.where(t>95)[0][0]\n",
    "    V_ss = np.zeros([len(positions),])\n",
    "    \n",
    "    V_half = np.zeros([len(positions),])\n",
    "    tau = np.zeros([len(positions),])\n",
    "    for i,pos in enumerate(positions):\n",
    "        #print(pos)\n",
    "        key = \"cable:%.2f:v\" % pos\n",
    "        V_ss[i] = results[key][ss_ind,-1]\n",
    "        V_half[i] = .5*(V_ss[i]+65)-65\n",
    "        tau[i] = np.where(results[key][:,-1]>V_half[i])[0][0]/t.size*200. -20\n",
    "        \n",
    "        \n",
    "    VX = bkp.figure(plot_height = 400, plot_width=400)\n",
    "    VX.line(positions,V_ss)\n",
    "    VX.xaxis.axis_label = \"position\"\n",
    "    VX.yaxis.axis_label = \"Steady-state V (mV)\"\n",
    "    \n",
    "    \n",
    "    T = bkp.figure(plot_height=400, plot_width=400)\n",
    "    T.line(positions,tau)\n",
    "    T.xaxis.axis_label = \"position\"\n",
    "    T.yaxis.axis_label = \"tau\"\n",
    "    \n",
    "\n",
    "    bkp.show(bk.layouts.layout([[RC,VX],[T]]))\n",
    "             "
   ]
  },
  {
   "cell_type": "code",
   "execution_count": 3,
   "metadata": {},
   "outputs": [
    {
     "data": {
      "application/vnd.jupyter.widget-view+json": {
       "model_id": "1bbd2b1003864e6b91a7df1491b2f435",
       "version_major": 2,
       "version_minor": 0
      },
      "text/plain": [
       "A Jupyter Widget"
      ]
     },
     "metadata": {},
     "output_type": "display_data"
    },
    {
     "data": {
      "text/plain": [
       "<function __main__.plot_cable>"
      ]
     },
     "execution_count": 3,
     "metadata": {},
     "output_type": "execute_result"
    }
   ],
   "source": [
    "widgets.interact_manual(plot_cable,\n",
    "                 L=widgets.FloatSlider(min=50,max=1000,continous_update=False),\n",
    "                 diam=widgets.FloatSlider(min=.1,max=100,continuous_update=False),\n",
    "                 Rm=widgets.FloatSlider(min=100,max=5000,continuous_update=False),\n",
    "                 Ra = widgets.FloatSlider(min=10,max=1000,continuous_update=False),\n",
    "                 cm = widgets.FloatSlider(min=.1,max=10,continous_update=False),\n",
    "                 I = widgets.FloatSlider(min=.1,max=5,continuous_update=False),\n",
    "                 stim_loc = widgets.FloatSlider(min=0,max=1,contiuous_update=False))"
   ]
  },
  {
   "cell_type": "code",
   "execution_count": 4,
   "metadata": {},
   "outputs": [
    {
     "data": {
      "text/html": [
       "\n",
       "<div class=\"bk-root\">\n",
       "    <div class=\"bk-plotdiv\" id=\"9f2d72f0-f968-4ebe-83c6-280277e3a0d2\"></div>\n",
       "</div>"
      ]
     },
     "metadata": {},
     "output_type": "display_data"
    },
    {
     "data": {
      "application/javascript": [
       "(function(root) {\n",
       "  function embed_document(root) {\n",
       "    var docs_json = {\"53ba4d6d-c57c-46ce-a8d9-da8422e01b0a\":{\"roots\":{\"references\":[{\"attributes\":{},\"id\":\"ea8e3d4f-0aeb-4496-a8e9-6e40b071f52f\",\"type\":\"BasicTicker\"},{\"attributes\":{\"data_source\":{\"id\":\"cbfff2e0-507d-4d60-aa93-489ca71ee749\",\"type\":\"ColumnDataSource\"},\"glyph\":{\"id\":\"c5a1b292-03e4-4c46-aff9-7e9f1745f167\",\"type\":\"Line\"},\"hover_glyph\":null,\"muted_glyph\":null,\"nonselection_glyph\":{\"id\":\"b965c497-ac3b-4cdb-bd71-fe50fa9cb1f7\",\"type\":\"Line\"},\"selection_glyph\":null,\"view\":{\"id\":\"2e1fa098-c976-46c8-b29c-1ba795287c45\",\"type\":\"CDSView\"}},\"id\":\"66484426-dc49-41ff-bca5-e336856f0b03\",\"type\":\"GlyphRenderer\"},{\"attributes\":{\"plot\":{\"id\":\"472c45d0-9dcb-418a-a4e2-6582cc89de01\",\"subtype\":\"Figure\",\"type\":\"Plot\"},\"ticker\":{\"id\":\"ea8e3d4f-0aeb-4496-a8e9-6e40b071f52f\",\"type\":\"BasicTicker\"}},\"id\":\"821d9243-cce9-442a-a254-52a04d92ff5b\",\"type\":\"Grid\"},{\"attributes\":{\"axis_label\":\"Input Resistance\",\"formatter\":{\"id\":\"805e445b-07e4-47c4-9271-3549ef04aa4d\",\"type\":\"BasicTickFormatter\"},\"plot\":{\"id\":\"472c45d0-9dcb-418a-a4e2-6582cc89de01\",\"subtype\":\"Figure\",\"type\":\"Plot\"},\"ticker\":{\"id\":\"d6af3aab-b128-43d8-b28f-c512a05dadca\",\"type\":\"BasicTicker\"}},\"id\":\"43850720-a244-463f-b0b3-7c5a469ed9e3\",\"type\":\"LinearAxis\"},{\"attributes\":{},\"id\":\"d6af3aab-b128-43d8-b28f-c512a05dadca\",\"type\":\"BasicTicker\"},{\"attributes\":{\"dimension\":1,\"plot\":{\"id\":\"472c45d0-9dcb-418a-a4e2-6582cc89de01\",\"subtype\":\"Figure\",\"type\":\"Plot\"},\"ticker\":{\"id\":\"d6af3aab-b128-43d8-b28f-c512a05dadca\",\"type\":\"BasicTicker\"}},\"id\":\"703cb556-12b5-4041-959d-9f0097d8de09\",\"type\":\"Grid\"},{\"attributes\":{\"source\":{\"id\":\"cbfff2e0-507d-4d60-aa93-489ca71ee749\",\"type\":\"ColumnDataSource\"}},\"id\":\"2e1fa098-c976-46c8-b29c-1ba795287c45\",\"type\":\"CDSView\"},{\"attributes\":{\"line_alpha\":{\"value\":0.1},\"line_color\":{\"value\":\"#1f77b4\"},\"x\":{\"field\":\"x\"},\"y\":{\"field\":\"y\"}},\"id\":\"b965c497-ac3b-4cdb-bd71-fe50fa9cb1f7\",\"type\":\"Line\"},{\"attributes\":{},\"id\":\"4835f41d-ba94-452d-a054-ce19ae2f4cb2\",\"type\":\"BasicTickFormatter\"},{\"attributes\":{\"bottom_units\":\"screen\",\"fill_alpha\":{\"value\":0.5},\"fill_color\":{\"value\":\"lightgrey\"},\"left_units\":\"screen\",\"level\":\"overlay\",\"line_alpha\":{\"value\":1.0},\"line_color\":{\"value\":\"black\"},\"line_dash\":[4,4],\"line_width\":{\"value\":2},\"plot\":null,\"render_mode\":\"css\",\"right_units\":\"screen\",\"top_units\":\"screen\"},\"id\":\"4ebf9928-b85f-4232-a65b-4b5c223a7bc3\",\"type\":\"BoxAnnotation\"},{\"attributes\":{},\"id\":\"9cad432c-53b7-4852-8ced-b7803472a76b\",\"type\":\"PanTool\"},{\"attributes\":{},\"id\":\"5d96dc73-7778-408e-834b-9bcef8791ef6\",\"type\":\"LinearScale\"},{\"attributes\":{},\"id\":\"f1c44ca3-3f8e-4ac2-afdd-78359aaf8249\",\"type\":\"WheelZoomTool\"},{\"attributes\":{\"callback\":null},\"id\":\"8d8eff7c-a5af-48e5-880d-978a95d09e3e\",\"type\":\"DataRange1d\"},{\"attributes\":{\"overlay\":{\"id\":\"4ebf9928-b85f-4232-a65b-4b5c223a7bc3\",\"type\":\"BoxAnnotation\"}},\"id\":\"e7e33b88-9ee0-4f23-adb7-9f44902ce5f5\",\"type\":\"BoxZoomTool\"},{\"attributes\":{\"line_alpha\":{\"value\":0.1},\"line_color\":{\"value\":\"#1f77b4\"},\"x\":{\"field\":\"x\"},\"y\":{\"field\":\"y\"}},\"id\":\"0998fb6a-f426-4969-857d-a2a8bbbe1447\",\"type\":\"Line\"},{\"attributes\":{},\"id\":\"d2c19340-b921-4f80-ac96-7c92ebafe3db\",\"type\":\"SaveTool\"},{\"attributes\":{},\"id\":\"338073b4-e46d-4de5-b116-d5599375a7c0\",\"type\":\"ResetTool\"},{\"attributes\":{\"callback\":null},\"id\":\"87afd3f1-d6c5-4c04-8aae-b78ac7875d92\",\"type\":\"DataRange1d\"},{\"attributes\":{},\"id\":\"ea5252e6-9176-49e9-b0dd-ac86fdccc0af\",\"type\":\"HelpTool\"},{\"attributes\":{\"active_drag\":\"auto\",\"active_inspect\":\"auto\",\"active_scroll\":\"auto\",\"active_tap\":\"auto\",\"tools\":[{\"id\":\"7de70d99-e0a1-45d5-a14a-2b61b2b47f05\",\"type\":\"PanTool\"},{\"id\":\"8e55b350-0ad8-48dd-bac3-90c38f916e18\",\"type\":\"WheelZoomTool\"},{\"id\":\"299594b5-6756-4e43-a2a6-b8f92104cb35\",\"type\":\"BoxZoomTool\"},{\"id\":\"c746a713-3141-4bb6-a817-98928ad614c1\",\"type\":\"SaveTool\"},{\"id\":\"37db5235-1713-441d-9a0b-cef078c40117\",\"type\":\"ResetTool\"},{\"id\":\"aa7479c3-045e-41ec-bd1a-db859a8bb51e\",\"type\":\"HelpTool\"}]},\"id\":\"3360a28c-4553-4c4f-8f0b-fa54db5a385a\",\"type\":\"Toolbar\"},{\"attributes\":{\"callback\":null,\"column_names\":[\"x\",\"y\"],\"data\":{\"x\":{\"__ndarray__\":\"AAAAAAAA8L+amZmZmZnpvzMzMzMzM+O/mJmZmZmZ2b+YmZmZmZnJvwAAAAAAAAAAoJmZmZmZyT+cmZmZmZnZPzQzMzMzM+M/mpmZmZmZ6T8AAAAAAADwPw==\",\"dtype\":\"float64\",\"shape\":[11]},\"y\":{\"__ndarray__\":\"WvxRA2QUasDiyXTPHH1mwGmXl5vV5WLA4cl0zxydXsDxZLpnjm5XwAAAAAAAQFDAGzaLMOMiQsDMYbMIMy4ewE67vNysLjVAiSfTPXP0SEC1+KMGyKhTQA==\",\"dtype\":\"float64\",\"shape\":[11]}}},\"id\":\"1d565062-6944-4385-b1e6-1dcfeb7e2df8\",\"type\":\"ColumnDataSource\"},{\"attributes\":{},\"id\":\"805e445b-07e4-47c4-9271-3549ef04aa4d\",\"type\":\"BasicTickFormatter\"},{\"attributes\":{\"plot\":null,\"text\":\"\"},\"id\":\"1922fb17-cf1c-4e3c-a5e7-3aa24ae40bd4\",\"type\":\"Title\"},{\"attributes\":{\"source\":{\"id\":\"1d565062-6944-4385-b1e6-1dcfeb7e2df8\",\"type\":\"ColumnDataSource\"}},\"id\":\"bf8036a2-8bfa-47e3-a52e-436cc93a798b\",\"type\":\"CDSView\"},{\"attributes\":{},\"id\":\"6820193d-be49-47a0-ae73-2c07b77c9c9a\",\"type\":\"LinearScale\"},{\"attributes\":{\"plot\":{\"id\":\"87c3e25e-c4c8-42b0-af21-bb087be73c03\",\"subtype\":\"Figure\",\"type\":\"Plot\"},\"ticker\":{\"id\":\"2ac357a7-8033-4b63-9e42-ff124f4c7382\",\"type\":\"BasicTicker\"}},\"id\":\"2401f2b0-38cc-4b02-bcc7-a6886c82a05a\",\"type\":\"Grid\"},{\"attributes\":{\"axis_label\":\"I (mA)\",\"formatter\":{\"id\":\"b3be0728-7899-44ae-9fca-aebcb777d6c6\",\"type\":\"BasicTickFormatter\"},\"plot\":{\"id\":\"87c3e25e-c4c8-42b0-af21-bb087be73c03\",\"subtype\":\"Figure\",\"type\":\"Plot\"},\"ticker\":{\"id\":\"2ac357a7-8033-4b63-9e42-ff124f4c7382\",\"type\":\"BasicTicker\"}},\"id\":\"8aae4d92-487f-4a93-8d1b-29ecfc0a07eb\",\"type\":\"LinearAxis\"},{\"attributes\":{},\"id\":\"2ac357a7-8033-4b63-9e42-ff124f4c7382\",\"type\":\"BasicTicker\"},{\"attributes\":{\"children\":[{\"id\":\"87c3e25e-c4c8-42b0-af21-bb087be73c03\",\"subtype\":\"Figure\",\"type\":\"Plot\"},{\"id\":\"472c45d0-9dcb-418a-a4e2-6582cc89de01\",\"subtype\":\"Figure\",\"type\":\"Plot\"}]},\"id\":\"60b654cf-4bd0-4b6c-91ff-dc4587a2e275\",\"type\":\"Row\"},{\"attributes\":{\"axis_label\":\"Steady-State V (mV)\",\"formatter\":{\"id\":\"3bc927f6-b30e-448e-bb30-41b562b4fd5a\",\"type\":\"BasicTickFormatter\"},\"plot\":{\"id\":\"87c3e25e-c4c8-42b0-af21-bb087be73c03\",\"subtype\":\"Figure\",\"type\":\"Plot\"},\"ticker\":{\"id\":\"4b1a5cf7-37f0-459a-9e95-3405eae38025\",\"type\":\"BasicTicker\"}},\"id\":\"1520c6f1-a3b6-4b6c-a10e-79b046134434\",\"type\":\"LinearAxis\"},{\"attributes\":{},\"id\":\"4b1a5cf7-37f0-459a-9e95-3405eae38025\",\"type\":\"BasicTicker\"},{\"attributes\":{\"dimension\":1,\"plot\":{\"id\":\"87c3e25e-c4c8-42b0-af21-bb087be73c03\",\"subtype\":\"Figure\",\"type\":\"Plot\"},\"ticker\":{\"id\":\"4b1a5cf7-37f0-459a-9e95-3405eae38025\",\"type\":\"BasicTicker\"}},\"id\":\"ca12d8b6-b6c6-4690-8b18-773358779694\",\"type\":\"Grid\"},{\"attributes\":{\"data_source\":{\"id\":\"1d565062-6944-4385-b1e6-1dcfeb7e2df8\",\"type\":\"ColumnDataSource\"},\"glyph\":{\"id\":\"1e9fdf3e-f299-4b6c-a9e3-312d56d6ca3b\",\"type\":\"Line\"},\"hover_glyph\":null,\"muted_glyph\":null,\"nonselection_glyph\":{\"id\":\"0998fb6a-f426-4969-857d-a2a8bbbe1447\",\"type\":\"Line\"},\"selection_glyph\":null,\"view\":{\"id\":\"bf8036a2-8bfa-47e3-a52e-436cc93a798b\",\"type\":\"CDSView\"}},\"id\":\"56145dd6-3024-4e82-8338-5e41d33a8983\",\"type\":\"GlyphRenderer\"},{\"attributes\":{},\"id\":\"b3be0728-7899-44ae-9fca-aebcb777d6c6\",\"type\":\"BasicTickFormatter\"},{\"attributes\":{\"below\":[{\"id\":\"58b74c77-e3c4-465a-b871-8fd67dfe7a47\",\"type\":\"LinearAxis\"}],\"left\":[{\"id\":\"43850720-a244-463f-b0b3-7c5a469ed9e3\",\"type\":\"LinearAxis\"}],\"plot_height\":400,\"plot_width\":400,\"renderers\":[{\"id\":\"58b74c77-e3c4-465a-b871-8fd67dfe7a47\",\"type\":\"LinearAxis\"},{\"id\":\"821d9243-cce9-442a-a254-52a04d92ff5b\",\"type\":\"Grid\"},{\"id\":\"43850720-a244-463f-b0b3-7c5a469ed9e3\",\"type\":\"LinearAxis\"},{\"id\":\"703cb556-12b5-4041-959d-9f0097d8de09\",\"type\":\"Grid\"},{\"id\":\"4ebf9928-b85f-4232-a65b-4b5c223a7bc3\",\"type\":\"BoxAnnotation\"},{\"id\":\"66484426-dc49-41ff-bca5-e336856f0b03\",\"type\":\"GlyphRenderer\"}],\"title\":{\"id\":\"1922fb17-cf1c-4e3c-a5e7-3aa24ae40bd4\",\"type\":\"Title\"},\"toolbar\":{\"id\":\"0e5f0325-1311-4e21-9ea8-98ae3dd1ff1e\",\"type\":\"Toolbar\"},\"x_range\":{\"id\":\"e05abab6-555e-4390-b1f0-a36f260b7e6d\",\"type\":\"DataRange1d\"},\"x_scale\":{\"id\":\"e9e645f4-8e00-4c6e-b0d9-b0bf7fa24500\",\"type\":\"LinearScale\"},\"y_range\":{\"id\":\"364997e8-96b2-4906-92f3-f7e1f67ba8b6\",\"type\":\"DataRange1d\"},\"y_scale\":{\"id\":\"ed9653d1-e207-4302-b72c-b11462d409fa\",\"type\":\"LinearScale\"}},\"id\":\"472c45d0-9dcb-418a-a4e2-6582cc89de01\",\"subtype\":\"Figure\",\"type\":\"Plot\"},{\"attributes\":{\"below\":[{\"id\":\"8aae4d92-487f-4a93-8d1b-29ecfc0a07eb\",\"type\":\"LinearAxis\"}],\"left\":[{\"id\":\"1520c6f1-a3b6-4b6c-a10e-79b046134434\",\"type\":\"LinearAxis\"}],\"plot_height\":400,\"plot_width\":400,\"renderers\":[{\"id\":\"8aae4d92-487f-4a93-8d1b-29ecfc0a07eb\",\"type\":\"LinearAxis\"},{\"id\":\"2401f2b0-38cc-4b02-bcc7-a6886c82a05a\",\"type\":\"Grid\"},{\"id\":\"1520c6f1-a3b6-4b6c-a10e-79b046134434\",\"type\":\"LinearAxis\"},{\"id\":\"ca12d8b6-b6c6-4690-8b18-773358779694\",\"type\":\"Grid\"},{\"id\":\"d7e0d450-913e-4452-9407-242355bd5874\",\"type\":\"BoxAnnotation\"},{\"id\":\"56145dd6-3024-4e82-8338-5e41d33a8983\",\"type\":\"GlyphRenderer\"},{\"id\":\"8e441ae8-a0de-4591-8bd8-95e9db5b3250\",\"type\":\"GlyphRenderer\"},{\"id\":\"4680bc0c-35aa-44b9-96d0-b77a2d2e24c4\",\"type\":\"GlyphRenderer\"},{\"id\":\"4dd76b3e-a4c3-48ff-869a-f6faba394ef8\",\"type\":\"GlyphRenderer\"},{\"id\":\"db782193-d0d7-4735-a91b-62ebe797b1fd\",\"type\":\"GlyphRenderer\"},{\"id\":\"cc6e106f-1af4-47c4-a991-b5dd7d666f71\",\"type\":\"GlyphRenderer\"}],\"title\":{\"id\":\"dc0f549c-7297-4627-baf0-b9e4ad33faef\",\"type\":\"Title\"},\"toolbar\":{\"id\":\"3360a28c-4553-4c4f-8f0b-fa54db5a385a\",\"type\":\"Toolbar\"},\"x_range\":{\"id\":\"8d8eff7c-a5af-48e5-880d-978a95d09e3e\",\"type\":\"DataRange1d\"},\"x_scale\":{\"id\":\"5d96dc73-7778-408e-834b-9bcef8791ef6\",\"type\":\"LinearScale\"},\"y_range\":{\"id\":\"87afd3f1-d6c5-4c04-8aae-b78ac7875d92\",\"type\":\"DataRange1d\"},\"y_scale\":{\"id\":\"6820193d-be49-47a0-ae73-2c07b77c9c9a\",\"type\":\"LinearScale\"}},\"id\":\"87c3e25e-c4c8-42b0-af21-bb087be73c03\",\"subtype\":\"Figure\",\"type\":\"Plot\"},{\"attributes\":{\"bottom_units\":\"screen\",\"fill_alpha\":{\"value\":0.5},\"fill_color\":{\"value\":\"lightgrey\"},\"left_units\":\"screen\",\"level\":\"overlay\",\"line_alpha\":{\"value\":1.0},\"line_color\":{\"value\":\"black\"},\"line_dash\":[4,4],\"line_width\":{\"value\":2},\"plot\":null,\"render_mode\":\"css\",\"right_units\":\"screen\",\"top_units\":\"screen\"},\"id\":\"d7e0d450-913e-4452-9407-242355bd5874\",\"type\":\"BoxAnnotation\"},{\"attributes\":{},\"id\":\"7de70d99-e0a1-45d5-a14a-2b61b2b47f05\",\"type\":\"PanTool\"},{\"attributes\":{\"line_alpha\":{\"value\":0.1},\"line_color\":{\"value\":\"#1f77b4\"},\"x\":{\"field\":\"x\"},\"y\":{\"field\":\"y\"}},\"id\":\"984a166e-e031-4b4e-ba61-1fb861fb6a44\",\"type\":\"Line\"},{\"attributes\":{},\"id\":\"8e55b350-0ad8-48dd-bac3-90c38f916e18\",\"type\":\"WheelZoomTool\"},{\"attributes\":{\"overlay\":{\"id\":\"d7e0d450-913e-4452-9407-242355bd5874\",\"type\":\"BoxAnnotation\"}},\"id\":\"299594b5-6756-4e43-a2a6-b8f92104cb35\",\"type\":\"BoxZoomTool\"},{\"attributes\":{},\"id\":\"c746a713-3141-4bb6-a817-98928ad614c1\",\"type\":\"SaveTool\"},{\"attributes\":{},\"id\":\"37db5235-1713-441d-9a0b-cef078c40117\",\"type\":\"ResetTool\"},{\"attributes\":{},\"id\":\"aa7479c3-045e-41ec-bd1a-db859a8bb51e\",\"type\":\"HelpTool\"},{\"attributes\":{},\"id\":\"3bc927f6-b30e-448e-bb30-41b562b4fd5a\",\"type\":\"BasicTickFormatter\"},{\"attributes\":{\"plot\":null,\"text\":\"\"},\"id\":\"dc0f549c-7297-4627-baf0-b9e4ad33faef\",\"type\":\"Title\"},{\"attributes\":{\"callback\":null,\"column_names\":[\"x\",\"y\"],\"data\":{\"x\":{\"__ndarray__\":\"AAAAAAAA8L+amZmZmZnpvzMzMzMzM+O/mJmZmZmZ2b+YmZmZmZnJvwAAAAAAAAAAoJmZmZmZyT+cmZmZmZnZPzQzMzMzM+M/mpmZmZmZ6T8AAAAAAADwPw==\",\"dtype\":\"float64\",\"shape\":[11]},\"y\":{\"__ndarray__\":\"JRRaB4uSasCFdq7SCOJmwOPYAp6GMWPAg3au0ggCX8BCO1dpBKFXwAAAAAAAQFDAeIlRLfe9QcCklxjVct8XwBzHFvA0jDdAEtq5SiOISkBLKLQOFqVUQA==\",\"dtype\":\"float64\",\"shape\":[11]}}},\"id\":\"f4da9fa2-c4f9-44a7-9b21-98a134d294ae\",\"type\":\"ColumnDataSource\"},{\"attributes\":{\"line_color\":{\"value\":\"#7570b3\"},\"x\":{\"field\":\"x\"},\"y\":{\"field\":\"y\"}},\"id\":\"a356db0a-96ae-4502-bfbd-5136e0d3a3e2\",\"type\":\"Line\"},{\"attributes\":{\"source\":{\"id\":\"f4da9fa2-c4f9-44a7-9b21-98a134d294ae\",\"type\":\"ColumnDataSource\"}},\"id\":\"d56c91e9-01b7-470b-8310-f0f34c69bb19\",\"type\":\"CDSView\"},{\"attributes\":{\"callback\":null,\"column_names\":[\"x\",\"y\"],\"data\":{\"x\":{\"__ndarray__\":\"AAAAAAAA8L+amZmZmZnpvzMzMzMzM+O/mJmZmZmZ2b+YmZmZmZnJvwAAAAAAAAAAoJmZmZmZyT+cmZmZmZnZPzQzMzMzM+M/mpmZmZmZ6T8AAAAAAADwPw==\",\"dtype\":\"float64\",\"shape\":[11]},\"y\":{\"__ndarray__\":\"f9vR5NEObMAAFtuDQRJowH9Q5CKxFWTA/4rtwSAZYMD/iu3BIDlYwAAAAAAAQFDA/ekkfL6NQMC/fzoJn2/zv/+DIheJrT5A/1dsDwZJT0D/tqPJo51XQA==\",\"dtype\":\"float64\",\"shape\":[11]}}},\"id\":\"45a07d39-faba-43c8-8548-171f1a0ffe31\",\"type\":\"ColumnDataSource\"},{\"attributes\":{\"line_color\":{\"value\":\"#66a61e\"},\"x\":{\"field\":\"x\"},\"y\":{\"field\":\"y\"}},\"id\":\"b83a64b8-d4c9-4dd5-96a6-ff416bf91d99\",\"type\":\"Line\"},{\"attributes\":{\"data_source\":{\"id\":\"f4da9fa2-c4f9-44a7-9b21-98a134d294ae\",\"type\":\"ColumnDataSource\"},\"glyph\":{\"id\":\"a356db0a-96ae-4502-bfbd-5136e0d3a3e2\",\"type\":\"Line\"},\"hover_glyph\":null,\"muted_glyph\":null,\"nonselection_glyph\":{\"id\":\"984a166e-e031-4b4e-ba61-1fb861fb6a44\",\"type\":\"Line\"},\"selection_glyph\":null,\"view\":{\"id\":\"d56c91e9-01b7-470b-8310-f0f34c69bb19\",\"type\":\"CDSView\"}},\"id\":\"8e441ae8-a0de-4591-8bd8-95e9db5b3250\",\"type\":\"GlyphRenderer\"},{\"attributes\":{\"line_color\":{\"value\":\"#e7298a\"},\"x\":{\"field\":\"x\"},\"y\":{\"field\":\"y\"}},\"id\":\"e0dcdec8-af9b-4240-8550-09cdb9d8e9dc\",\"type\":\"Line\"},{\"attributes\":{\"source\":{\"id\":\"e4fe5d5b-d000-4db8-871c-1e09c8c44f3a\",\"type\":\"ColumnDataSource\"}},\"id\":\"86d3cc15-1b3e-4697-939b-f12fa2cd1294\",\"type\":\"CDSView\"},{\"attributes\":{\"callback\":null,\"column_names\":[\"x\",\"y\"],\"data\":{\"x\":{\"__ndarray__\":\"AAAAAAAA8L+amZmZmZnpvzMzMzMzM+O/mJmZmZmZ2b+YmZmZmZnJvwAAAAAAAAAAoJmZmZmZyT+cmZmZmZnZPzQzMzMzM+M/mpmZmZmZ6T8AAAAAAADwPw==\",\"dtype\":\"float64\",\"shape\":[11]},\"y\":{\"__ndarray__\":\"88LOJa+dbsD2m9i3JR5qwPh04kmcnmXA+k3s2xIfYcD6TezbEj9ZwAAAAAAAQFDAC8hOkLQDPcB6v4l9W+IbQOPTiSdxekVA7Dexb0u8U0DnhZ1LXrtcQA==\",\"dtype\":\"float64\",\"shape\":[11]}}},\"id\":\"e4fe5d5b-d000-4db8-871c-1e09c8c44f3a\",\"type\":\"ColumnDataSource\"},{\"attributes\":{\"line_color\":{\"value\":\"#d95f02\"},\"x\":{\"field\":\"x\"},\"y\":{\"field\":\"y\"}},\"id\":\"a07a6f6f-ddbf-4018-af0c-cc1c1fb145c1\",\"type\":\"Line\"},{\"attributes\":{\"line_alpha\":{\"value\":0.1},\"line_color\":{\"value\":\"#1f77b4\"},\"x\":{\"field\":\"x\"},\"y\":{\"field\":\"y\"}},\"id\":\"8149d68b-f8e9-4ba9-969a-377faba1db2d\",\"type\":\"Line\"},{\"attributes\":{\"data_source\":{\"id\":\"45a07d39-faba-43c8-8548-171f1a0ffe31\",\"type\":\"ColumnDataSource\"},\"glyph\":{\"id\":\"e0dcdec8-af9b-4240-8550-09cdb9d8e9dc\",\"type\":\"Line\"},\"hover_glyph\":null,\"muted_glyph\":null,\"nonselection_glyph\":{\"id\":\"8149d68b-f8e9-4ba9-969a-377faba1db2d\",\"type\":\"Line\"},\"selection_glyph\":null,\"view\":{\"id\":\"60497e03-046a-44af-b993-42b2c2ce3076\",\"type\":\"CDSView\"}},\"id\":\"4680bc0c-35aa-44b9-96d0-b77a2d2e24c4\",\"type\":\"GlyphRenderer\"},{\"attributes\":{\"source\":{\"id\":\"45a07d39-faba-43c8-8548-171f1a0ffe31\",\"type\":\"ColumnDataSource\"}},\"id\":\"60497e03-046a-44af-b993-42b2c2ce3076\",\"type\":\"CDSView\"},{\"attributes\":{\"line_color\":{\"value\":\"#d95f02\"},\"x\":{\"field\":\"x\"},\"y\":{\"field\":\"y\"}},\"id\":\"1e9fdf3e-f299-4b6c-a9e3-312d56d6ca3b\",\"type\":\"Line\"},{\"attributes\":{\"callback\":null,\"column_names\":[\"x\",\"y\"],\"data\":{\"x\":{\"__ndarray__\":\"AAAAAAAA8L+amZmZmZnpvzMzMzMzM+O/mJmZmZmZ2b+YmZmZmZnJvwAAAAAAAAAAoJmZmZmZyT+cmZmZmZnZPzQzMzMzM+M/mpmZmZmZ6T8AAAAAAADwPw==\",\"dtype\":\"float64\",\"shape\":[11]},\"y\":{\"__ndarray__\":\"2Ve29y8xccDCvyNZ5iFtwNHP2sJs4WfA4N+RLPOgYsDg35Es88BawAAAAAAAQFDAcoC4TTP8NsAP/45kmQczQEY/awuzhU5AhH9HsszDWUCyr2zvXyJiQA==\",\"dtype\":\"float64\",\"shape\":[11]}}},\"id\":\"997604d7-e5bf-4409-8ed5-0913f0d1e0d0\",\"type\":\"ColumnDataSource\"},{\"attributes\":{\"line_color\":{\"value\":\"#1b9e77\"},\"x\":{\"field\":\"x\"},\"y\":{\"field\":\"y\"}},\"id\":\"d6b889c2-745d-4997-a6b9-c84ac4ad21d3\",\"type\":\"Line\"},{\"attributes\":{\"data_source\":{\"id\":\"997604d7-e5bf-4409-8ed5-0913f0d1e0d0\",\"type\":\"ColumnDataSource\"},\"glyph\":{\"id\":\"d6b889c2-745d-4997-a6b9-c84ac4ad21d3\",\"type\":\"Line\"},\"hover_glyph\":null,\"muted_glyph\":null,\"nonselection_glyph\":{\"id\":\"85586928-d906-460c-a4d4-3844fca3eabc\",\"type\":\"Line\"},\"selection_glyph\":null,\"view\":{\"id\":\"0555dbf1-c20c-4821-9905-8dc2a312e141\",\"type\":\"CDSView\"}},\"id\":\"db782193-d0d7-4735-a91b-62ebe797b1fd\",\"type\":\"GlyphRenderer\"},{\"attributes\":{\"line_alpha\":{\"value\":0.1},\"line_color\":{\"value\":\"#1f77b4\"},\"x\":{\"field\":\"x\"},\"y\":{\"field\":\"y\"}},\"id\":\"e70ca1b4-6fda-4a60-a7b3-4f5a19549834\",\"type\":\"Line\"},{\"attributes\":{\"data_source\":{\"id\":\"e4fe5d5b-d000-4db8-871c-1e09c8c44f3a\",\"type\":\"ColumnDataSource\"},\"glyph\":{\"id\":\"b83a64b8-d4c9-4dd5-96a6-ff416bf91d99\",\"type\":\"Line\"},\"hover_glyph\":null,\"muted_glyph\":null,\"nonselection_glyph\":{\"id\":\"e70ca1b4-6fda-4a60-a7b3-4f5a19549834\",\"type\":\"Line\"},\"selection_glyph\":null,\"view\":{\"id\":\"86d3cc15-1b3e-4697-939b-f12fa2cd1294\",\"type\":\"CDSView\"}},\"id\":\"4dd76b3e-a4c3-48ff-869a-f6faba394ef8\",\"type\":\"GlyphRenderer\"},{\"attributes\":{\"callback\":null,\"column_names\":[\"x\",\"y\"],\"data\":{\"x\":{\"__ndarray__\":\"AAAAAAAA8L+amZmZmZnpvzMzMzMzM+O/mJmZmZmZ2b+YmZmZmZnJvwAAAAAAAAAAoJmZmZmZyT+cmZmZmZnZPzQzMzMzM+M/mpmZmZmZ6T8AAAAAAADwPw==\",\"dtype\":\"float64\",\"shape\":[11]},\"y\":{\"__ndarray__\":\"fb+4uGbIc8BkzJNghaNwwJay3RBI/WrAY8yTYIWzZMBjzJNghdNcwAAAAAAAQFDAxZxh+9RjLcCVMU+CFc5BQC1luyGQelVAyZgnwQoHYUD6fnFxzVBnQA==\",\"dtype\":\"float64\",\"shape\":[11]}}},\"id\":\"34a82530-a875-4f5e-b431-594b80e50c55\",\"type\":\"ColumnDataSource\"},{\"attributes\":{\"callback\":null,\"column_names\":[\"x\",\"y\"],\"data\":{\"x\":[0.52,0.54,0.56,0.58,0.6,0.62,0.64,0.66,0.68,0.7000000000000001,0.72,0.74,0.76,0.78,0.8,0.8200000000000001,0.84,0.86,0.88,0.9,0.92,0.9400000000000001,0.96,0.98,1.0],\"y\":{\"__ndarray__\":\"UbT0o545SEAXWtYofVlHQKhkllYrhkZAMMVwOzW/RUDyEHatLQRFQPpzpg6uVERAQiykFFawQ0AZqd6TyxZDQBpSGU66h0JAqNAyxNMCQkC4fxMLz4dBQJhgq6NoFkFAHKHpVWKuQECaYZkOg09AQKP/IYAt8z9AO3BFi9xYP0Ab432Tvs8+QFoHdF2IVz5ADm9R9PfvPUDyYZCF1Jg9QMKlzkHuUT1AQiGSQh4bPUBg9fB0RvQ8QKBWEYlR3TxAIxl45jLWPEA=\",\"dtype\":\"float64\",\"shape\":[25]}}},\"id\":\"cbfff2e0-507d-4d60-aa93-489ca71ee749\",\"type\":\"ColumnDataSource\"},{\"attributes\":{\"source\":{\"id\":\"997604d7-e5bf-4409-8ed5-0913f0d1e0d0\",\"type\":\"ColumnDataSource\"}},\"id\":\"0555dbf1-c20c-4821-9905-8dc2a312e141\",\"type\":\"CDSView\"},{\"attributes\":{\"line_alpha\":{\"value\":0.1},\"line_color\":{\"value\":\"#1f77b4\"},\"x\":{\"field\":\"x\"},\"y\":{\"field\":\"y\"}},\"id\":\"63959cf1-fe8f-4088-8d17-def66339d1ad\",\"type\":\"Line\"},{\"attributes\":{\"line_alpha\":{\"value\":0.1},\"line_color\":{\"value\":\"#1f77b4\"},\"x\":{\"field\":\"x\"},\"y\":{\"field\":\"y\"}},\"id\":\"85586928-d906-460c-a4d4-3844fca3eabc\",\"type\":\"Line\"},{\"attributes\":{\"line_color\":{\"value\":\"#1f77b4\"},\"x\":{\"field\":\"x\"},\"y\":{\"field\":\"y\"}},\"id\":\"c5a1b292-03e4-4c46-aff9-7e9f1745f167\",\"type\":\"Line\"},{\"attributes\":{\"children\":[{\"id\":\"60b654cf-4bd0-4b6c-91ff-dc4587a2e275\",\"type\":\"Row\"}]},\"id\":\"e2617f42-d598-4fd7-a0ba-c80af9af4c19\",\"type\":\"Column\"},{\"attributes\":{\"data_source\":{\"id\":\"34a82530-a875-4f5e-b431-594b80e50c55\",\"type\":\"ColumnDataSource\"},\"glyph\":{\"id\":\"a07a6f6f-ddbf-4018-af0c-cc1c1fb145c1\",\"type\":\"Line\"},\"hover_glyph\":null,\"muted_glyph\":null,\"nonselection_glyph\":{\"id\":\"63959cf1-fe8f-4088-8d17-def66339d1ad\",\"type\":\"Line\"},\"selection_glyph\":null,\"view\":{\"id\":\"ae61f191-2631-49b8-903b-15f159210a44\",\"type\":\"CDSView\"}},\"id\":\"cc6e106f-1af4-47c4-a991-b5dd7d666f71\",\"type\":\"GlyphRenderer\"},{\"attributes\":{\"source\":{\"id\":\"34a82530-a875-4f5e-b431-594b80e50c55\",\"type\":\"ColumnDataSource\"}},\"id\":\"ae61f191-2631-49b8-903b-15f159210a44\",\"type\":\"CDSView\"},{\"attributes\":{\"callback\":null},\"id\":\"364997e8-96b2-4906-92f3-f7e1f67ba8b6\",\"type\":\"DataRange1d\"},{\"attributes\":{},\"id\":\"e9e645f4-8e00-4c6e-b0d9-b0bf7fa24500\",\"type\":\"LinearScale\"},{\"attributes\":{},\"id\":\"ed9653d1-e207-4302-b72c-b11462d409fa\",\"type\":\"LinearScale\"},{\"attributes\":{\"active_drag\":\"auto\",\"active_inspect\":\"auto\",\"active_scroll\":\"auto\",\"active_tap\":\"auto\",\"tools\":[{\"id\":\"9cad432c-53b7-4852-8ced-b7803472a76b\",\"type\":\"PanTool\"},{\"id\":\"f1c44ca3-3f8e-4ac2-afdd-78359aaf8249\",\"type\":\"WheelZoomTool\"},{\"id\":\"e7e33b88-9ee0-4f23-adb7-9f44902ce5f5\",\"type\":\"BoxZoomTool\"},{\"id\":\"d2c19340-b921-4f80-ac96-7c92ebafe3db\",\"type\":\"SaveTool\"},{\"id\":\"338073b4-e46d-4de5-b116-d5599375a7c0\",\"type\":\"ResetTool\"},{\"id\":\"ea5252e6-9176-49e9-b0dd-ac86fdccc0af\",\"type\":\"HelpTool\"}]},\"id\":\"0e5f0325-1311-4e21-9ea8-98ae3dd1ff1e\",\"type\":\"Toolbar\"},{\"attributes\":{\"callback\":null},\"id\":\"e05abab6-555e-4390-b1f0-a36f260b7e6d\",\"type\":\"DataRange1d\"},{\"attributes\":{\"axis_label\":\"Distance\",\"formatter\":{\"id\":\"4835f41d-ba94-452d-a054-ce19ae2f4cb2\",\"type\":\"BasicTickFormatter\"},\"plot\":{\"id\":\"472c45d0-9dcb-418a-a4e2-6582cc89de01\",\"subtype\":\"Figure\",\"type\":\"Plot\"},\"ticker\":{\"id\":\"ea8e3d4f-0aeb-4496-a8e9-6e40b071f52f\",\"type\":\"BasicTicker\"}},\"id\":\"58b74c77-e3c4-465a-b871-8fd67dfe7a47\",\"type\":\"LinearAxis\"}],\"root_ids\":[\"e2617f42-d598-4fd7-a0ba-c80af9af4c19\"]},\"title\":\"Bokeh Application\",\"version\":\"0.12.10\"}};\n",
       "    var render_items = [{\"docid\":\"53ba4d6d-c57c-46ce-a8d9-da8422e01b0a\",\"elementid\":\"9f2d72f0-f968-4ebe-83c6-280277e3a0d2\",\"modelid\":\"e2617f42-d598-4fd7-a0ba-c80af9af4c19\"}];\n",
       "\n",
       "    root.Bokeh.embed.embed_items(docs_json, render_items);\n",
       "  }\n",
       "\n",
       "  if (root.Bokeh !== undefined) {\n",
       "    embed_document(root);\n",
       "  } else {\n",
       "    var attempts = 0;\n",
       "    var timer = setInterval(function(root) {\n",
       "      if (root.Bokeh !== undefined) {\n",
       "        embed_document(root);\n",
       "        clearInterval(timer);\n",
       "      }\n",
       "      attempts++;\n",
       "      if (attempts > 100) {\n",
       "        console.log(\"Bokeh: ERROR: Unable to embed document because BokehJS library is missing\")\n",
       "        clearInterval(timer);\n",
       "      }\n",
       "    }, 10, root)\n",
       "  }\n",
       "})(window);"
      ],
      "application/vnd.bokehjs_exec.v0+json": ""
     },
     "metadata": {
      "application/vnd.bokehjs_exec.v0+json": {
       "id": "e2617f42-d598-4fd7-a0ba-c80af9af4c19"
      }
     },
     "output_type": "display_data"
    }
   ],
   "source": [
    "\n",
    "I = np.linspace(-1,1,num=11)\n",
    "cell = branched_cable()\n",
    "cell.make_cable(500,1)\n",
    "cell.add_IClamp('cable',.5,.001,100)\n",
    "\n",
    "# record at a few different points along the cable\n",
    "positions = list(np.linspace(0,1,num=51))\n",
    "keys = []\n",
    "for pos in positions:   \n",
    "    keys.append('cable:%.2f:v' % pos)\n",
    "    cell.recording_vecs([['cable',pos,'v']])\n",
    "\n",
    "t,results = run_current_clamp(cell,'iclamp',I,tstop=400)\n",
    "\n",
    "V_ss = np.zeros([I.size,len(keys)])\n",
    "ss_ind = np.where(t>95)[0][0]\n",
    "for j,key in enumerate(keys):\n",
    "    V_ss[:,j] = np.squeeze(results[key][ss_ind,:])\n",
    "slope = np.squeeze(np.diff(V_ss,axis=0).mean(axis=0))\n",
    "\n",
    "\n",
    "VI = bkp.figure(plot_height=400,plot_width=400)\n",
    "for i, color in zip(range(0,int((len(positions)+1)/2),5),colors):\n",
    "    VI.line(I,V_ss[:,i],color=color)\n",
    "VI.xaxis.axis_label = \"I (mA)\"\n",
    "VI.yaxis.axis_label = \"Steady-State V (mV)\"\n",
    "    \n",
    "S = bkp.figure(plot_height=400,plot_width=400)\n",
    "S.line(positions[int((len(positions)+1)/2):],slope[int((len(positions)+1)/2):])\n",
    "S.xaxis.axis_label = \"Distance\"\n",
    "S.yaxis.axis_label = \"Input Resistance\"\n",
    "bkp.show(bk.layouts.layout([[VI,S]]))\n"
   ]
  },
  {
   "cell_type": "code",
   "execution_count": 21,
   "metadata": {
    "collapsed": true
   },
   "outputs": [],
   "source": [
    "def get_rho(L,diam,Ra,Rm,cm,I):\n",
    "    cell = branched_cable()\n",
    "    cell.make_cable(L,diam,Ra=Ra,Rm=Rm,cm=cm)\n",
    "    cell.add_IClamp('cable',0,.001,100)\n",
    "\n",
    "    # record at a few different points along the cable\n",
    "    positions = list(np.linspace(0,1,num=101))\n",
    "    keys = []\n",
    "    for pos in positions:   \n",
    "        keys.append('cable:%.2f:v' % pos)\n",
    "        cell.recording_vecs([['cable',pos,'v']])\n",
    "\n",
    "    t,results = run_current_clamp(cell,'iclamp',[I],tstop=400)\n",
    "    ss_ind = np.where(t>95)[0][0]\n",
    "    V_half = (1-.37)*(results['cable:0.00:v'][ss_ind,:]+65)-65\n",
    "    \n",
    "    V_ss = np.zeros([101,])\n",
    "    for j,key in enumerate(keys):\n",
    "        V_ss[j] = np.squeeze(results[key][ss_ind,:])\n",
    "    \n",
    "    if I<0:\n",
    "        rho = np.where(V_ss>=V_half)[0][0]/101.*L\n",
    "    if I>0:\n",
    "        rho = np.where(V_ss<=V_half)[0][0]/101.*L\n",
    "    else:\n",
    "        rho = np.nan\n",
    "    return rho"
   ]
  },
  {
   "cell_type": "code",
   "execution_count": 22,
   "metadata": {},
   "outputs": [
    {
     "data": {
      "text/html": [
       "\n",
       "<div class=\"bk-root\">\n",
       "    <div class=\"bk-plotdiv\" id=\"dec9f6a5-6dbe-40a2-bbc4-15a789fb1903\"></div>\n",
       "</div>"
      ]
     },
     "metadata": {},
     "output_type": "display_data"
    },
    {
     "data": {
      "application/javascript": [
       "(function(root) {\n",
       "  function embed_document(root) {\n",
       "    var docs_json = {\"2cde86cb-6db8-417d-8c8f-792a9b0052ea\":{\"roots\":{\"references\":[{\"attributes\":{},\"id\":\"4f6c87ab-3c06-4293-bb7e-5d31bd5a4095\",\"type\":\"BasicTicker\"},{\"attributes\":{\"source\":{\"id\":\"20110639-fd08-4d98-9dc3-fc4ade84f94e\",\"type\":\"ColumnDataSource\"}},\"id\":\"8845ff48-91ec-4994-9f82-210a2436c271\",\"type\":\"CDSView\"},{\"attributes\":{},\"id\":\"638fae93-dd65-4dcc-a4b1-d75e491d5763\",\"type\":\"PanTool\"},{\"attributes\":{\"dimension\":1,\"plot\":{\"id\":\"58cbac42-426f-4d27-bda7-337d1534f709\",\"subtype\":\"Figure\",\"type\":\"Plot\"},\"ticker\":{\"id\":\"088f7ed0-de3b-45b1-8b49-bac4f264672d\",\"type\":\"BasicTicker\"}},\"id\":\"d464c796-034e-42fb-945d-3daf4cd0c891\",\"type\":\"Grid\"},{\"attributes\":{\"plot\":{\"id\":\"58cbac42-426f-4d27-bda7-337d1534f709\",\"subtype\":\"Figure\",\"type\":\"Plot\"},\"ticker\":{\"id\":\"4f6c87ab-3c06-4293-bb7e-5d31bd5a4095\",\"type\":\"BasicTicker\"}},\"id\":\"4c00da3f-24cf-40f0-be3f-dff1e269659f\",\"type\":\"Grid\"},{\"attributes\":{\"below\":[{\"id\":\"db7d969f-24dc-4689-b216-6d15ba016094\",\"type\":\"LinearAxis\"}],\"left\":[{\"id\":\"473364f9-a6fe-4d36-979c-e7d58e6b9479\",\"type\":\"LinearAxis\"}],\"plot_height\":400,\"plot_width\":400,\"renderers\":[{\"id\":\"db7d969f-24dc-4689-b216-6d15ba016094\",\"type\":\"LinearAxis\"},{\"id\":\"4c00da3f-24cf-40f0-be3f-dff1e269659f\",\"type\":\"Grid\"},{\"id\":\"473364f9-a6fe-4d36-979c-e7d58e6b9479\",\"type\":\"LinearAxis\"},{\"id\":\"d464c796-034e-42fb-945d-3daf4cd0c891\",\"type\":\"Grid\"},{\"id\":\"aa84c59e-914c-4a78-8b5a-43b11020ffc4\",\"type\":\"BoxAnnotation\"},{\"id\":\"ff9f2312-846c-44b9-bde9-7974c7eda4d8\",\"type\":\"GlyphRenderer\"}],\"title\":{\"id\":\"498e07a4-9f90-43ff-8349-e0b3e1bd4f1d\",\"type\":\"Title\"},\"toolbar\":{\"id\":\"6be941a5-c6b9-48b4-bbeb-476f8f3d926e\",\"type\":\"Toolbar\"},\"x_range\":{\"id\":\"08d947aa-4279-4ac1-bd34-40e9bc3025fa\",\"type\":\"DataRange1d\"},\"x_scale\":{\"id\":\"08560a58-75e4-43cf-98c8-130c24ceb4a1\",\"type\":\"LinearScale\"},\"y_range\":{\"id\":\"1dee6bce-5b94-4354-86b2-303fc27575cc\",\"type\":\"DataRange1d\"},\"y_scale\":{\"id\":\"0531a33f-fdcf-414f-8d90-71c6191e94eb\",\"type\":\"LinearScale\"}},\"id\":\"58cbac42-426f-4d27-bda7-337d1534f709\",\"subtype\":\"Figure\",\"type\":\"Plot\"},{\"attributes\":{\"axis_label\":\"rho\",\"formatter\":{\"id\":\"fe82a23e-2e86-4891-b562-bf64801c18fe\",\"type\":\"BasicTickFormatter\"},\"plot\":{\"id\":\"58cbac42-426f-4d27-bda7-337d1534f709\",\"subtype\":\"Figure\",\"type\":\"Plot\"},\"ticker\":{\"id\":\"088f7ed0-de3b-45b1-8b49-bac4f264672d\",\"type\":\"BasicTicker\"}},\"id\":\"473364f9-a6fe-4d36-979c-e7d58e6b9479\",\"type\":\"LinearAxis\"},{\"attributes\":{},\"id\":\"cf1fa149-779a-4b9f-9b92-97e4e2905117\",\"type\":\"HelpTool\"},{\"attributes\":{},\"id\":\"088f7ed0-de3b-45b1-8b49-bac4f264672d\",\"type\":\"BasicTicker\"},{\"attributes\":{},\"id\":\"36b7a2c9-e1c8-4f6c-a170-d00b43e55218\",\"type\":\"SaveTool\"},{\"attributes\":{\"overlay\":{\"id\":\"aa84c59e-914c-4a78-8b5a-43b11020ffc4\",\"type\":\"BoxAnnotation\"}},\"id\":\"c2f2a058-1017-4bf5-a2cb-bf4a7713995a\",\"type\":\"BoxZoomTool\"},{\"attributes\":{\"callback\":null,\"column_names\":[\"x\",\"y\"],\"data\":{\"x\":{\"__ndarray__\":\"AAAAAAAA8L8AAAAAAADgvwAAAAAAAAAAAAAAAAAA4D8AAAAAAADwPw==\",\"dtype\":\"float64\",\"shape\":[5]},\"y\":{\"__ndarray__\":\"AAAAAAAA+H8AAAAAAAD4fwAAAAAAAPh/UWDSqXmQUkBRYNKpeZBSQA==\",\"dtype\":\"float64\",\"shape\":[5]}}},\"id\":\"20110639-fd08-4d98-9dc3-fc4ade84f94e\",\"type\":\"ColumnDataSource\"},{\"attributes\":{},\"id\":\"6a321847-22d5-4e21-bbda-e506158c2c1a\",\"type\":\"BasicTickFormatter\"},{\"attributes\":{\"callback\":null},\"id\":\"08d947aa-4279-4ac1-bd34-40e9bc3025fa\",\"type\":\"DataRange1d\"},{\"attributes\":{},\"id\":\"d3fb8d74-2a09-404e-a5f1-b5f53680d239\",\"type\":\"ResetTool\"},{\"attributes\":{\"plot\":null,\"text\":\"\"},\"id\":\"498e07a4-9f90-43ff-8349-e0b3e1bd4f1d\",\"type\":\"Title\"},{\"attributes\":{\"active_drag\":\"auto\",\"active_inspect\":\"auto\",\"active_scroll\":\"auto\",\"active_tap\":\"auto\",\"tools\":[{\"id\":\"638fae93-dd65-4dcc-a4b1-d75e491d5763\",\"type\":\"PanTool\"},{\"id\":\"1eb4a590-6196-4c27-9758-613790b63b0d\",\"type\":\"WheelZoomTool\"},{\"id\":\"c2f2a058-1017-4bf5-a2cb-bf4a7713995a\",\"type\":\"BoxZoomTool\"},{\"id\":\"36b7a2c9-e1c8-4f6c-a170-d00b43e55218\",\"type\":\"SaveTool\"},{\"id\":\"d3fb8d74-2a09-404e-a5f1-b5f53680d239\",\"type\":\"ResetTool\"},{\"id\":\"cf1fa149-779a-4b9f-9b92-97e4e2905117\",\"type\":\"HelpTool\"}]},\"id\":\"6be941a5-c6b9-48b4-bbeb-476f8f3d926e\",\"type\":\"Toolbar\"},{\"attributes\":{\"bottom_units\":\"screen\",\"fill_alpha\":{\"value\":0.5},\"fill_color\":{\"value\":\"lightgrey\"},\"left_units\":\"screen\",\"level\":\"overlay\",\"line_alpha\":{\"value\":1.0},\"line_color\":{\"value\":\"black\"},\"line_dash\":[4,4],\"line_width\":{\"value\":2},\"plot\":null,\"render_mode\":\"css\",\"right_units\":\"screen\",\"top_units\":\"screen\"},\"id\":\"aa84c59e-914c-4a78-8b5a-43b11020ffc4\",\"type\":\"BoxAnnotation\"},{\"attributes\":{\"callback\":null},\"id\":\"1dee6bce-5b94-4354-86b2-303fc27575cc\",\"type\":\"DataRange1d\"},{\"attributes\":{\"line_alpha\":{\"value\":0.1},\"line_color\":{\"value\":\"#1f77b4\"},\"x\":{\"field\":\"x\"},\"y\":{\"field\":\"y\"}},\"id\":\"c0ad277d-4032-49aa-9c69-0d069f48999c\",\"type\":\"Line\"},{\"attributes\":{},\"id\":\"08560a58-75e4-43cf-98c8-130c24ceb4a1\",\"type\":\"LinearScale\"},{\"attributes\":{},\"id\":\"0531a33f-fdcf-414f-8d90-71c6191e94eb\",\"type\":\"LinearScale\"},{\"attributes\":{\"data_source\":{\"id\":\"20110639-fd08-4d98-9dc3-fc4ade84f94e\",\"type\":\"ColumnDataSource\"},\"glyph\":{\"id\":\"e94b98eb-fe14-49df-a9af-91eab3d71686\",\"type\":\"Line\"},\"hover_glyph\":null,\"muted_glyph\":null,\"nonselection_glyph\":{\"id\":\"c0ad277d-4032-49aa-9c69-0d069f48999c\",\"type\":\"Line\"},\"selection_glyph\":null,\"view\":{\"id\":\"8845ff48-91ec-4994-9f82-210a2436c271\",\"type\":\"CDSView\"}},\"id\":\"ff9f2312-846c-44b9-bde9-7974c7eda4d8\",\"type\":\"GlyphRenderer\"},{\"attributes\":{},\"id\":\"fe82a23e-2e86-4891-b562-bf64801c18fe\",\"type\":\"BasicTickFormatter\"},{\"attributes\":{\"axis_label\":\"I (mA)\",\"formatter\":{\"id\":\"6a321847-22d5-4e21-bbda-e506158c2c1a\",\"type\":\"BasicTickFormatter\"},\"plot\":{\"id\":\"58cbac42-426f-4d27-bda7-337d1534f709\",\"subtype\":\"Figure\",\"type\":\"Plot\"},\"ticker\":{\"id\":\"4f6c87ab-3c06-4293-bb7e-5d31bd5a4095\",\"type\":\"BasicTicker\"}},\"id\":\"db7d969f-24dc-4689-b216-6d15ba016094\",\"type\":\"LinearAxis\"},{\"attributes\":{},\"id\":\"1eb4a590-6196-4c27-9758-613790b63b0d\",\"type\":\"WheelZoomTool\"},{\"attributes\":{\"line_color\":{\"value\":\"#1f77b4\"},\"x\":{\"field\":\"x\"},\"y\":{\"field\":\"y\"}},\"id\":\"e94b98eb-fe14-49df-a9af-91eab3d71686\",\"type\":\"Line\"}],\"root_ids\":[\"58cbac42-426f-4d27-bda7-337d1534f709\"]},\"title\":\"Bokeh Application\",\"version\":\"0.12.10\"}};\n",
       "    var render_items = [{\"docid\":\"2cde86cb-6db8-417d-8c8f-792a9b0052ea\",\"elementid\":\"dec9f6a5-6dbe-40a2-bbc4-15a789fb1903\",\"modelid\":\"58cbac42-426f-4d27-bda7-337d1534f709\"}];\n",
       "\n",
       "    root.Bokeh.embed.embed_items(docs_json, render_items);\n",
       "  }\n",
       "\n",
       "  if (root.Bokeh !== undefined) {\n",
       "    embed_document(root);\n",
       "  } else {\n",
       "    var attempts = 0;\n",
       "    var timer = setInterval(function(root) {\n",
       "      if (root.Bokeh !== undefined) {\n",
       "        embed_document(root);\n",
       "        clearInterval(timer);\n",
       "      }\n",
       "      attempts++;\n",
       "      if (attempts > 100) {\n",
       "        console.log(\"Bokeh: ERROR: Unable to embed document because BokehJS library is missing\")\n",
       "        clearInterval(timer);\n",
       "      }\n",
       "    }, 10, root)\n",
       "  }\n",
       "})(window);"
      ],
      "application/vnd.bokehjs_exec.v0+json": ""
     },
     "metadata": {
      "application/vnd.bokehjs_exec.v0+json": {
       "id": "58cbac42-426f-4d27-bda7-337d1534f709"
      }
     },
     "output_type": "display_data"
    }
   ],
   "source": [
    "# show rho (length constant) is invariant to current strength\n",
    "I = np.linspace(-1,1,num=5)\n",
    "RHO = np.zeros([I.size,])\n",
    "for i,curr in enumerate(list(I)):\n",
    "    RHO[i] = get_rho(500,1,300,2800,1,curr)\n",
    "\n",
    "R = bkp.figure(plot_height = 400,plot_width=400)\n",
    "R.line(I,RHO)\n",
    "R.xaxis.axis_label= \"I (mA)\"\n",
    "R.yaxis.axis_label = \"rho\"\n",
    "bkp.show(R)"
   ]
  },
  {
   "cell_type": "code",
   "execution_count": 23,
   "metadata": {},
   "outputs": [
    {
     "data": {
      "text/html": [
       "\n",
       "<div class=\"bk-root\">\n",
       "    <div class=\"bk-plotdiv\" id=\"d4482a88-4acf-439a-afc7-66310e7559a3\"></div>\n",
       "</div>"
      ]
     },
     "metadata": {},
     "output_type": "display_data"
    },
    {
     "data": {
      "application/javascript": [
       "(function(root) {\n",
       "  function embed_document(root) {\n",
       "    var docs_json = {\"e31fc030-14a7-49f1-906e-ee84f18e0c94\":{\"roots\":{\"references\":[{\"attributes\":{},\"id\":\"b3b83127-1d62-48df-b22a-64c59b0e82f0\",\"type\":\"BasicTicker\"},{\"attributes\":{},\"id\":\"462db06b-3501-4410-84cd-7415532ced50\",\"type\":\"LinearScale\"},{\"attributes\":{},\"id\":\"466ec86d-37bf-455f-a99f-867475035f6f\",\"type\":\"PanTool\"},{\"attributes\":{\"axis_label\":\"rho\",\"formatter\":{\"id\":\"1e33000c-5a8b-4301-9f62-c859bb24d8dd\",\"type\":\"BasicTickFormatter\"},\"plot\":{\"id\":\"9ec5ddfd-3661-48cb-9b13-3be72ed05be6\",\"subtype\":\"Figure\",\"type\":\"Plot\"},\"ticker\":{\"id\":\"b3b83127-1d62-48df-b22a-64c59b0e82f0\",\"type\":\"BasicTicker\"}},\"id\":\"ddbe7e2c-47c0-426f-86d9-e01a8234a30e\",\"type\":\"LinearAxis\"},{\"attributes\":{},\"id\":\"ab95b01f-bc2b-48c6-9a9b-56166b6f8190\",\"type\":\"SaveTool\"},{\"attributes\":{},\"id\":\"8e74851d-a42a-4b68-933e-e0c0cd94feeb\",\"type\":\"BasicTicker\"},{\"attributes\":{},\"id\":\"37ee82bc-e11d-462e-9b5e-2fc3cb65423a\",\"type\":\"BasicTickFormatter\"},{\"attributes\":{\"callback\":null,\"column_names\":[\"x\",\"y\"],\"data\":{\"x\":{\"__ndarray__\":\"mpmZmZmZuT80MzMzMzPzP2dmZmZmZgJANDMzMzMzC0AAAAAAAAASQGZmZmZmZhZAzczMzMzMGkA0MzMzMzMfQM3MzMzMzCFAAAAAAAAAJEA=\",\"dtype\":\"float64\",\"shape\":[10]},\"y\":{\"__ndarray__\":\"34gCk07NM0BOzYPc9bNNQG2xMnwjClVApFPzIHf9WUDc9bPFyvBeQApMOjUP8mFAJp2aB7lrZEBC7vrZYuVmQF4/W6wMX2lAwaRT8yB3bEA=\",\"dtype\":\"float64\",\"shape\":[10]}}},\"id\":\"9ebdb68b-1068-44ba-87da-18b20fc8043d\",\"type\":\"ColumnDataSource\"},{\"attributes\":{\"line_color\":{\"value\":\"#1f77b4\"},\"x\":{\"field\":\"x\"},\"y\":{\"field\":\"y\"}},\"id\":\"c9ab43d2-95e5-4a6b-81d5-c38fba24eced\",\"type\":\"Line\"},{\"attributes\":{\"callback\":null},\"id\":\"b26d42e7-224e-4d68-bc4b-2986424e0fcd\",\"type\":\"DataRange1d\"},{\"attributes\":{\"bottom_units\":\"screen\",\"fill_alpha\":{\"value\":0.5},\"fill_color\":{\"value\":\"lightgrey\"},\"left_units\":\"screen\",\"level\":\"overlay\",\"line_alpha\":{\"value\":1.0},\"line_color\":{\"value\":\"black\"},\"line_dash\":[4,4],\"line_width\":{\"value\":2},\"plot\":null,\"render_mode\":\"css\",\"right_units\":\"screen\",\"top_units\":\"screen\"},\"id\":\"cad33ff4-4fc1-4fc6-b96a-3450b1990292\",\"type\":\"BoxAnnotation\"},{\"attributes\":{\"plot\":null,\"text\":\"\"},\"id\":\"0209995b-7cf6-4886-82d9-17102ad809fa\",\"type\":\"Title\"},{\"attributes\":{},\"id\":\"e003fb5f-ae41-4013-80f7-1a1971a3874b\",\"type\":\"ResetTool\"},{\"attributes\":{\"plot\":{\"id\":\"9ec5ddfd-3661-48cb-9b13-3be72ed05be6\",\"subtype\":\"Figure\",\"type\":\"Plot\"},\"ticker\":{\"id\":\"8e74851d-a42a-4b68-933e-e0c0cd94feeb\",\"type\":\"BasicTicker\"}},\"id\":\"80f27aaf-7bcb-4763-9c56-e43c99f6d2a5\",\"type\":\"Grid\"},{\"attributes\":{},\"id\":\"255fc9c1-8cdc-4655-a937-416086efb845\",\"type\":\"LinearScale\"},{\"attributes\":{\"active_drag\":\"auto\",\"active_inspect\":\"auto\",\"active_scroll\":\"auto\",\"active_tap\":\"auto\",\"tools\":[{\"id\":\"466ec86d-37bf-455f-a99f-867475035f6f\",\"type\":\"PanTool\"},{\"id\":\"92348af0-8e3d-45b8-b40b-335ae9c0e2ba\",\"type\":\"WheelZoomTool\"},{\"id\":\"7969d232-c039-45fc-9773-d4bf3915d706\",\"type\":\"BoxZoomTool\"},{\"id\":\"ab95b01f-bc2b-48c6-9a9b-56166b6f8190\",\"type\":\"SaveTool\"},{\"id\":\"e003fb5f-ae41-4013-80f7-1a1971a3874b\",\"type\":\"ResetTool\"},{\"id\":\"31757860-34a4-4d46-87b8-6a31eca50dac\",\"type\":\"HelpTool\"}]},\"id\":\"c69945e9-9396-41d3-8112-93e1c7301916\",\"type\":\"Toolbar\"},{\"attributes\":{\"source\":{\"id\":\"9ebdb68b-1068-44ba-87da-18b20fc8043d\",\"type\":\"ColumnDataSource\"}},\"id\":\"924a62d5-d654-4a90-8b0f-0357fac5e9a5\",\"type\":\"CDSView\"},{\"attributes\":{\"overlay\":{\"id\":\"cad33ff4-4fc1-4fc6-b96a-3450b1990292\",\"type\":\"BoxAnnotation\"}},\"id\":\"7969d232-c039-45fc-9773-d4bf3915d706\",\"type\":\"BoxZoomTool\"},{\"attributes\":{},\"id\":\"31757860-34a4-4d46-87b8-6a31eca50dac\",\"type\":\"HelpTool\"},{\"attributes\":{\"data_source\":{\"id\":\"9ebdb68b-1068-44ba-87da-18b20fc8043d\",\"type\":\"ColumnDataSource\"},\"glyph\":{\"id\":\"c9ab43d2-95e5-4a6b-81d5-c38fba24eced\",\"type\":\"Line\"},\"hover_glyph\":null,\"muted_glyph\":null,\"nonselection_glyph\":{\"id\":\"9556b31a-caf6-4964-aaae-2f9ade998ea8\",\"type\":\"Line\"},\"selection_glyph\":null,\"view\":{\"id\":\"924a62d5-d654-4a90-8b0f-0357fac5e9a5\",\"type\":\"CDSView\"}},\"id\":\"b99ee33a-e880-4f88-a4b4-ddc58976cb60\",\"type\":\"GlyphRenderer\"},{\"attributes\":{},\"id\":\"92348af0-8e3d-45b8-b40b-335ae9c0e2ba\",\"type\":\"WheelZoomTool\"},{\"attributes\":{\"below\":[{\"id\":\"82af2c27-baa6-4d01-8b52-0cb34d89a4db\",\"type\":\"LinearAxis\"}],\"left\":[{\"id\":\"ddbe7e2c-47c0-426f-86d9-e01a8234a30e\",\"type\":\"LinearAxis\"}],\"plot_height\":400,\"plot_width\":400,\"renderers\":[{\"id\":\"82af2c27-baa6-4d01-8b52-0cb34d89a4db\",\"type\":\"LinearAxis\"},{\"id\":\"80f27aaf-7bcb-4763-9c56-e43c99f6d2a5\",\"type\":\"Grid\"},{\"id\":\"ddbe7e2c-47c0-426f-86d9-e01a8234a30e\",\"type\":\"LinearAxis\"},{\"id\":\"953df192-6c63-4034-9838-0d5dca5b58bd\",\"type\":\"Grid\"},{\"id\":\"cad33ff4-4fc1-4fc6-b96a-3450b1990292\",\"type\":\"BoxAnnotation\"},{\"id\":\"b99ee33a-e880-4f88-a4b4-ddc58976cb60\",\"type\":\"GlyphRenderer\"}],\"title\":{\"id\":\"0209995b-7cf6-4886-82d9-17102ad809fa\",\"type\":\"Title\"},\"toolbar\":{\"id\":\"c69945e9-9396-41d3-8112-93e1c7301916\",\"type\":\"Toolbar\"},\"x_range\":{\"id\":\"aad8e450-e1b3-42eb-8aa4-605c9dd1b4a9\",\"type\":\"DataRange1d\"},\"x_scale\":{\"id\":\"255fc9c1-8cdc-4655-a937-416086efb845\",\"type\":\"LinearScale\"},\"y_range\":{\"id\":\"b26d42e7-224e-4d68-bc4b-2986424e0fcd\",\"type\":\"DataRange1d\"},\"y_scale\":{\"id\":\"462db06b-3501-4410-84cd-7415532ced50\",\"type\":\"LinearScale\"}},\"id\":\"9ec5ddfd-3661-48cb-9b13-3be72ed05be6\",\"subtype\":\"Figure\",\"type\":\"Plot\"},{\"attributes\":{\"dimension\":1,\"plot\":{\"id\":\"9ec5ddfd-3661-48cb-9b13-3be72ed05be6\",\"subtype\":\"Figure\",\"type\":\"Plot\"},\"ticker\":{\"id\":\"b3b83127-1d62-48df-b22a-64c59b0e82f0\",\"type\":\"BasicTicker\"}},\"id\":\"953df192-6c63-4034-9838-0d5dca5b58bd\",\"type\":\"Grid\"},{\"attributes\":{},\"id\":\"1e33000c-5a8b-4301-9f62-c859bb24d8dd\",\"type\":\"BasicTickFormatter\"},{\"attributes\":{\"line_alpha\":{\"value\":0.1},\"line_color\":{\"value\":\"#1f77b4\"},\"x\":{\"field\":\"x\"},\"y\":{\"field\":\"y\"}},\"id\":\"9556b31a-caf6-4964-aaae-2f9ade998ea8\",\"type\":\"Line\"},{\"attributes\":{\"callback\":null},\"id\":\"aad8e450-e1b3-42eb-8aa4-605c9dd1b4a9\",\"type\":\"DataRange1d\"},{\"attributes\":{\"axis_label\":\"diameter (microns)\",\"formatter\":{\"id\":\"37ee82bc-e11d-462e-9b5e-2fc3cb65423a\",\"type\":\"BasicTickFormatter\"},\"plot\":{\"id\":\"9ec5ddfd-3661-48cb-9b13-3be72ed05be6\",\"subtype\":\"Figure\",\"type\":\"Plot\"},\"ticker\":{\"id\":\"8e74851d-a42a-4b68-933e-e0c0cd94feeb\",\"type\":\"BasicTicker\"}},\"id\":\"82af2c27-baa6-4d01-8b52-0cb34d89a4db\",\"type\":\"LinearAxis\"}],\"root_ids\":[\"9ec5ddfd-3661-48cb-9b13-3be72ed05be6\"]},\"title\":\"Bokeh Application\",\"version\":\"0.12.10\"}};\n",
       "    var render_items = [{\"docid\":\"e31fc030-14a7-49f1-906e-ee84f18e0c94\",\"elementid\":\"d4482a88-4acf-439a-afc7-66310e7559a3\",\"modelid\":\"9ec5ddfd-3661-48cb-9b13-3be72ed05be6\"}];\n",
       "\n",
       "    root.Bokeh.embed.embed_items(docs_json, render_items);\n",
       "  }\n",
       "\n",
       "  if (root.Bokeh !== undefined) {\n",
       "    embed_document(root);\n",
       "  } else {\n",
       "    var attempts = 0;\n",
       "    var timer = setInterval(function(root) {\n",
       "      if (root.Bokeh !== undefined) {\n",
       "        embed_document(root);\n",
       "        clearInterval(timer);\n",
       "      }\n",
       "      attempts++;\n",
       "      if (attempts > 100) {\n",
       "        console.log(\"Bokeh: ERROR: Unable to embed document because BokehJS library is missing\")\n",
       "        clearInterval(timer);\n",
       "      }\n",
       "    }, 10, root)\n",
       "  }\n",
       "})(window);"
      ],
      "application/vnd.bokehjs_exec.v0+json": ""
     },
     "metadata": {
      "application/vnd.bokehjs_exec.v0+json": {
       "id": "9ec5ddfd-3661-48cb-9b13-3be72ed05be6"
      }
     },
     "output_type": "display_data"
    }
   ],
   "source": [
    "# rho as a function of diam\n",
    "diams = np.linspace(.1,10,num=10)\n",
    "RHO = np.zeros([diams.size,])\n",
    "for i,d in enumerate(list(diams)):\n",
    "    RHO[i] = get_rho(500,d,500,2800,1,1)\n",
    "    \n",
    "R = bkp.figure(plot_height = 400,plot_width=400)\n",
    "R.line(diams,RHO)\n",
    "R.xaxis.axis_label= \"diameter (microns)\"\n",
    "R.yaxis.axis_label = \"rho\"\n",
    "bkp.show(R)"
   ]
  },
  {
   "cell_type": "code",
   "execution_count": 24,
   "metadata": {},
   "outputs": [
    {
     "data": {
      "text/html": [
       "\n",
       "<div class=\"bk-root\">\n",
       "    <div class=\"bk-plotdiv\" id=\"b7e03d42-6c24-4aa1-92f6-531c455d29e3\"></div>\n",
       "</div>"
      ]
     },
     "metadata": {},
     "output_type": "display_data"
    },
    {
     "data": {
      "application/javascript": [
       "(function(root) {\n",
       "  function embed_document(root) {\n",
       "    var docs_json = {\"b34c515f-89eb-44d1-874d-15e96ae2a2ef\":{\"roots\":{\"references\":[{\"attributes\":{\"line_alpha\":{\"value\":0.1},\"line_color\":{\"value\":\"#1f77b4\"},\"x\":{\"field\":\"x\"},\"y\":{\"field\":\"y\"}},\"id\":\"f8912eac-6a41-4a79-a807-3f1b58df7f5d\",\"type\":\"Line\"},{\"attributes\":{\"callback\":null,\"column_names\":[\"x\",\"y\"],\"data\":{\"x\":{\"__ndarray__\":\"AAAAAAAAWUB+L+jlMO5qQBCJR8mKAn1AAAAAAABAj0CqHbGP3tSgQKq1zL2WIbJAAAAAAACIw0AUZZ0zFgrVQA7jP238qeZAAAAAAABq+EA=\",\"dtype\":\"float64\",\"shape\":[10]},\"y\":{\"__ndarray__\":\"34gCk07NI0BOzYPc9bMtQBcrwzeiwDhAxDeiwKRTQUAXK8M3osBIQFFg0ql5kFJAM3wjCkw6W0AmnZoHuWtkQHqQu3622GtAxDeiwKRTcUA=\",\"dtype\":\"float64\",\"shape\":[10]}}},\"id\":\"698d221e-862c-43a1-be65-74c0e48668de\",\"type\":\"ColumnDataSource\"},{\"attributes\":{\"axis_label\":\"membrane resistance\",\"formatter\":{\"id\":\"f96208fc-9037-4bea-8b26-d1b20409ef25\",\"type\":\"BasicTickFormatter\"},\"plot\":{\"id\":\"fe37bc6d-3074-47b1-a435-18ade9749619\",\"subtype\":\"Figure\",\"type\":\"Plot\"},\"ticker\":{\"id\":\"aa3ba291-fc39-4632-a1c1-64e63856d1b6\",\"type\":\"BasicTicker\"}},\"id\":\"00ff139e-fcef-4c0c-b50f-e532d94719f7\",\"type\":\"LinearAxis\"},{\"attributes\":{\"overlay\":{\"id\":\"ade7d690-9c7d-4212-9ea7-200466878ff4\",\"type\":\"BoxAnnotation\"}},\"id\":\"21453e85-e8ac-437b-b9c8-3ccc558a788a\",\"type\":\"BoxZoomTool\"},{\"attributes\":{},\"id\":\"ef20c3f9-c709-4ca8-9421-d91948e817bb\",\"type\":\"BasicTicker\"},{\"attributes\":{\"below\":[{\"id\":\"00ff139e-fcef-4c0c-b50f-e532d94719f7\",\"type\":\"LinearAxis\"}],\"left\":[{\"id\":\"411748e2-db5c-4823-b77f-c52238d7d5d8\",\"type\":\"LinearAxis\"}],\"plot_height\":400,\"plot_width\":400,\"renderers\":[{\"id\":\"00ff139e-fcef-4c0c-b50f-e532d94719f7\",\"type\":\"LinearAxis\"},{\"id\":\"460cfba6-f678-4a23-9be4-a2139b90ccc1\",\"type\":\"Grid\"},{\"id\":\"411748e2-db5c-4823-b77f-c52238d7d5d8\",\"type\":\"LinearAxis\"},{\"id\":\"995cb814-56d0-400f-b006-f4564faf75ee\",\"type\":\"Grid\"},{\"id\":\"ade7d690-9c7d-4212-9ea7-200466878ff4\",\"type\":\"BoxAnnotation\"},{\"id\":\"001e146c-fbcf-4dcd-8799-0dce4d70c33d\",\"type\":\"GlyphRenderer\"}],\"title\":{\"id\":\"7748610e-3207-4400-81ff-c7fb95d4936a\",\"type\":\"Title\"},\"toolbar\":{\"id\":\"d56b4161-20bc-4473-b1d7-51407f39b753\",\"type\":\"Toolbar\"},\"x_range\":{\"id\":\"33b3640c-02d0-4ec0-a43a-f1d57b02ea48\",\"type\":\"DataRange1d\"},\"x_scale\":{\"id\":\"8600f4b9-3c37-4aa0-81bd-e76e4d64ef6b\",\"type\":\"LinearScale\"},\"y_range\":{\"id\":\"dff61e13-6bc1-4b86-90b0-74be7ae76f7f\",\"type\":\"DataRange1d\"},\"y_scale\":{\"id\":\"38946932-4229-4abb-9d13-51a1e2a5c70a\",\"type\":\"LinearScale\"}},\"id\":\"fe37bc6d-3074-47b1-a435-18ade9749619\",\"subtype\":\"Figure\",\"type\":\"Plot\"},{\"attributes\":{\"bottom_units\":\"screen\",\"fill_alpha\":{\"value\":0.5},\"fill_color\":{\"value\":\"lightgrey\"},\"left_units\":\"screen\",\"level\":\"overlay\",\"line_alpha\":{\"value\":1.0},\"line_color\":{\"value\":\"black\"},\"line_dash\":[4,4],\"line_width\":{\"value\":2},\"plot\":null,\"render_mode\":\"css\",\"right_units\":\"screen\",\"top_units\":\"screen\"},\"id\":\"ade7d690-9c7d-4212-9ea7-200466878ff4\",\"type\":\"BoxAnnotation\"},{\"attributes\":{\"source\":{\"id\":\"698d221e-862c-43a1-be65-74c0e48668de\",\"type\":\"ColumnDataSource\"}},\"id\":\"0a12809d-a58a-4338-b229-13c8e285b26a\",\"type\":\"CDSView\"},{\"attributes\":{\"line_color\":{\"value\":\"#1f77b4\"},\"x\":{\"field\":\"x\"},\"y\":{\"field\":\"y\"}},\"id\":\"aaf34b61-41dd-4758-b162-2f6b23042d65\",\"type\":\"Line\"},{\"attributes\":{\"plot\":null,\"text\":\"\"},\"id\":\"7748610e-3207-4400-81ff-c7fb95d4936a\",\"type\":\"Title\"},{\"attributes\":{},\"id\":\"38946932-4229-4abb-9d13-51a1e2a5c70a\",\"type\":\"LinearScale\"},{\"attributes\":{},\"id\":\"36b7fd28-b20b-46bc-84ab-e5f2fe28fff7\",\"type\":\"BasicTickFormatter\"},{\"attributes\":{},\"id\":\"b633ba92-3f4f-43f0-9049-6f571c18ac83\",\"type\":\"SaveTool\"},{\"attributes\":{},\"id\":\"13ef66cc-2a6a-4832-8673-09adab60f69c\",\"type\":\"HelpTool\"},{\"attributes\":{},\"id\":\"aa3ba291-fc39-4632-a1c1-64e63856d1b6\",\"type\":\"BasicTicker\"},{\"attributes\":{\"data_source\":{\"id\":\"698d221e-862c-43a1-be65-74c0e48668de\",\"type\":\"ColumnDataSource\"},\"glyph\":{\"id\":\"aaf34b61-41dd-4758-b162-2f6b23042d65\",\"type\":\"Line\"},\"hover_glyph\":null,\"muted_glyph\":null,\"nonselection_glyph\":{\"id\":\"f8912eac-6a41-4a79-a807-3f1b58df7f5d\",\"type\":\"Line\"},\"selection_glyph\":null,\"view\":{\"id\":\"0a12809d-a58a-4338-b229-13c8e285b26a\",\"type\":\"CDSView\"}},\"id\":\"001e146c-fbcf-4dcd-8799-0dce4d70c33d\",\"type\":\"GlyphRenderer\"},{\"attributes\":{},\"id\":\"8600f4b9-3c37-4aa0-81bd-e76e4d64ef6b\",\"type\":\"LinearScale\"},{\"attributes\":{},\"id\":\"659f2200-cbdc-4a32-8225-12b675d6fc42\",\"type\":\"PanTool\"},{\"attributes\":{\"active_drag\":\"auto\",\"active_inspect\":\"auto\",\"active_scroll\":\"auto\",\"active_tap\":\"auto\",\"tools\":[{\"id\":\"659f2200-cbdc-4a32-8225-12b675d6fc42\",\"type\":\"PanTool\"},{\"id\":\"dc838f8c-218b-4d3b-99ad-60b1cfda5209\",\"type\":\"WheelZoomTool\"},{\"id\":\"21453e85-e8ac-437b-b9c8-3ccc558a788a\",\"type\":\"BoxZoomTool\"},{\"id\":\"b633ba92-3f4f-43f0-9049-6f571c18ac83\",\"type\":\"SaveTool\"},{\"id\":\"06036d6b-d268-497b-bd99-ba056e1825ea\",\"type\":\"ResetTool\"},{\"id\":\"13ef66cc-2a6a-4832-8673-09adab60f69c\",\"type\":\"HelpTool\"}]},\"id\":\"d56b4161-20bc-4473-b1d7-51407f39b753\",\"type\":\"Toolbar\"},{\"attributes\":{},\"id\":\"06036d6b-d268-497b-bd99-ba056e1825ea\",\"type\":\"ResetTool\"},{\"attributes\":{},\"id\":\"dc838f8c-218b-4d3b-99ad-60b1cfda5209\",\"type\":\"WheelZoomTool\"},{\"attributes\":{\"axis_label\":\"rho\",\"formatter\":{\"id\":\"36b7fd28-b20b-46bc-84ab-e5f2fe28fff7\",\"type\":\"BasicTickFormatter\"},\"plot\":{\"id\":\"fe37bc6d-3074-47b1-a435-18ade9749619\",\"subtype\":\"Figure\",\"type\":\"Plot\"},\"ticker\":{\"id\":\"ef20c3f9-c709-4ca8-9421-d91948e817bb\",\"type\":\"BasicTicker\"}},\"id\":\"411748e2-db5c-4823-b77f-c52238d7d5d8\",\"type\":\"LinearAxis\"},{\"attributes\":{\"plot\":{\"id\":\"fe37bc6d-3074-47b1-a435-18ade9749619\",\"subtype\":\"Figure\",\"type\":\"Plot\"},\"ticker\":{\"id\":\"aa3ba291-fc39-4632-a1c1-64e63856d1b6\",\"type\":\"BasicTicker\"}},\"id\":\"460cfba6-f678-4a23-9be4-a2139b90ccc1\",\"type\":\"Grid\"},{\"attributes\":{},\"id\":\"f96208fc-9037-4bea-8b26-d1b20409ef25\",\"type\":\"BasicTickFormatter\"},{\"attributes\":{\"dimension\":1,\"plot\":{\"id\":\"fe37bc6d-3074-47b1-a435-18ade9749619\",\"subtype\":\"Figure\",\"type\":\"Plot\"},\"ticker\":{\"id\":\"ef20c3f9-c709-4ca8-9421-d91948e817bb\",\"type\":\"BasicTicker\"}},\"id\":\"995cb814-56d0-400f-b006-f4564faf75ee\",\"type\":\"Grid\"},{\"attributes\":{\"callback\":null},\"id\":\"dff61e13-6bc1-4b86-90b0-74be7ae76f7f\",\"type\":\"DataRange1d\"},{\"attributes\":{\"callback\":null},\"id\":\"33b3640c-02d0-4ec0-a43a-f1d57b02ea48\",\"type\":\"DataRange1d\"}],\"root_ids\":[\"fe37bc6d-3074-47b1-a435-18ade9749619\"]},\"title\":\"Bokeh Application\",\"version\":\"0.12.10\"}};\n",
       "    var render_items = [{\"docid\":\"b34c515f-89eb-44d1-874d-15e96ae2a2ef\",\"elementid\":\"b7e03d42-6c24-4aa1-92f6-531c455d29e3\",\"modelid\":\"fe37bc6d-3074-47b1-a435-18ade9749619\"}];\n",
       "\n",
       "    root.Bokeh.embed.embed_items(docs_json, render_items);\n",
       "  }\n",
       "\n",
       "  if (root.Bokeh !== undefined) {\n",
       "    embed_document(root);\n",
       "  } else {\n",
       "    var attempts = 0;\n",
       "    var timer = setInterval(function(root) {\n",
       "      if (root.Bokeh !== undefined) {\n",
       "        embed_document(root);\n",
       "        clearInterval(timer);\n",
       "      }\n",
       "      attempts++;\n",
       "      if (attempts > 100) {\n",
       "        console.log(\"Bokeh: ERROR: Unable to embed document because BokehJS library is missing\")\n",
       "        clearInterval(timer);\n",
       "      }\n",
       "    }, 10, root)\n",
       "  }\n",
       "})(window);"
      ],
      "application/vnd.bokehjs_exec.v0+json": ""
     },
     "metadata": {
      "application/vnd.bokehjs_exec.v0+json": {
       "id": "fe37bc6d-3074-47b1-a435-18ade9749619"
      }
     },
     "output_type": "display_data"
    }
   ],
   "source": [
    "# rho as a function of Rm\n",
    "Rms = np.logspace(2,5,num=10)\n",
    "RHO = np.zeros([Rms.size,])\n",
    "for i,Rm in enumerate(list(Rms)):\n",
    "    RHO[i] = get_rho(500,1,500,Rm,1,1)\n",
    "    \n",
    "R = bkp.figure(plot_height = 400,plot_width=400)\n",
    "R.line(Rms,RHO)\n",
    "R.xaxis.axis_label= \"membrane resistance\"\n",
    "R.yaxis.axis_label = \"rho\"\n",
    "bkp.show(R)"
   ]
  },
  {
   "cell_type": "code",
   "execution_count": 25,
   "metadata": {},
   "outputs": [
    {
     "data": {
      "text/html": [
       "\n",
       "<div class=\"bk-root\">\n",
       "    <div class=\"bk-plotdiv\" id=\"c21bef0f-c210-4817-84c0-d25d9f957b51\"></div>\n",
       "</div>"
      ]
     },
     "metadata": {},
     "output_type": "display_data"
    },
    {
     "data": {
      "application/javascript": [
       "(function(root) {\n",
       "  function embed_document(root) {\n",
       "    var docs_json = {\"d98e5841-fde0-430e-a63c-fe420ce639ab\":{\"roots\":{\"references\":[{\"attributes\":{\"axis_label\":\"rho\",\"formatter\":{\"id\":\"14858c10-cfcd-4b3a-a2a6-a03dd4b8dfba\",\"type\":\"BasicTickFormatter\"},\"plot\":{\"id\":\"11cd0b45-51e6-47b4-9f65-6a417595ffe4\",\"subtype\":\"Figure\",\"type\":\"Plot\"},\"ticker\":{\"id\":\"1b31ae32-d048-4642-9a6a-62150c27e697\",\"type\":\"BasicTicker\"}},\"id\":\"aa87501e-d773-4d6f-9089-fc7a753ce86d\",\"type\":\"LinearAxis\"},{\"attributes\":{},\"id\":\"39165a18-8a29-47a1-a14b-f26e62356d58\",\"type\":\"LinearScale\"},{\"attributes\":{\"line_color\":{\"value\":\"#1f77b4\"},\"x\":{\"field\":\"x\"},\"y\":{\"field\":\"y\"}},\"id\":\"3dd04ddb-3c76-4486-8b4b-66f0ca89fef0\",\"type\":\"Line\"},{\"attributes\":{},\"id\":\"a50056e6-c0dd-4649-9b7d-ff5dea29ed89\",\"type\":\"BasicTicker\"},{\"attributes\":{\"data_source\":{\"id\":\"c605bd89-402c-4792-b07c-b1f722a1b675\",\"type\":\"ColumnDataSource\"},\"glyph\":{\"id\":\"3dd04ddb-3c76-4486-8b4b-66f0ca89fef0\",\"type\":\"Line\"},\"hover_glyph\":null,\"muted_glyph\":null,\"nonselection_glyph\":{\"id\":\"d7618660-f0b7-43fb-aa6c-120cbf9adc58\",\"type\":\"Line\"},\"selection_glyph\":null,\"view\":{\"id\":\"15f0443f-25ce-4be9-9f2d-2841c70edbff\",\"type\":\"CDSView\"}},\"id\":\"a90fa69b-bb92-4a9d-824d-7fa0782cdc80\",\"type\":\"GlyphRenderer\"},{\"attributes\":{\"callback\":null},\"id\":\"91afca92-9dac-4e4a-88a8-12b8456ce045\",\"type\":\"DataRange1d\"},{\"attributes\":{\"below\":[{\"id\":\"14a17532-d3f3-4980-9522-2f375490279d\",\"type\":\"LinearAxis\"}],\"left\":[{\"id\":\"aa87501e-d773-4d6f-9089-fc7a753ce86d\",\"type\":\"LinearAxis\"}],\"plot_height\":400,\"plot_width\":400,\"renderers\":[{\"id\":\"14a17532-d3f3-4980-9522-2f375490279d\",\"type\":\"LinearAxis\"},{\"id\":\"949621ae-70f7-4548-90a1-4f1299d36724\",\"type\":\"Grid\"},{\"id\":\"aa87501e-d773-4d6f-9089-fc7a753ce86d\",\"type\":\"LinearAxis\"},{\"id\":\"dec95777-d845-4a22-bda2-f33ecddfae8b\",\"type\":\"Grid\"},{\"id\":\"2ba0fccc-63fc-4889-ab95-03ac0c6dd31e\",\"type\":\"BoxAnnotation\"},{\"id\":\"a90fa69b-bb92-4a9d-824d-7fa0782cdc80\",\"type\":\"GlyphRenderer\"}],\"title\":{\"id\":\"1d00a58e-9cd1-4059-b758-fa8a7cd66416\",\"type\":\"Title\"},\"toolbar\":{\"id\":\"286198ae-507d-48c2-8c15-51e7bee9aaff\",\"type\":\"Toolbar\"},\"x_range\":{\"id\":\"d65d5745-4326-47fe-9db8-890832bede40\",\"type\":\"DataRange1d\"},\"x_scale\":{\"id\":\"b6d95913-e468-4183-b25b-d68e16a44f92\",\"type\":\"LinearScale\"},\"y_range\":{\"id\":\"91afca92-9dac-4e4a-88a8-12b8456ce045\",\"type\":\"DataRange1d\"},\"y_scale\":{\"id\":\"39165a18-8a29-47a1-a14b-f26e62356d58\",\"type\":\"LinearScale\"}},\"id\":\"11cd0b45-51e6-47b4-9f65-6a417595ffe4\",\"subtype\":\"Figure\",\"type\":\"Plot\"},{\"attributes\":{\"axis_label\":\"Cm\",\"formatter\":{\"id\":\"56958729-c8dd-4337-bc91-a2d2c2a874b4\",\"type\":\"BasicTickFormatter\"},\"plot\":{\"id\":\"11cd0b45-51e6-47b4-9f65-6a417595ffe4\",\"subtype\":\"Figure\",\"type\":\"Plot\"},\"ticker\":{\"id\":\"a50056e6-c0dd-4649-9b7d-ff5dea29ed89\",\"type\":\"BasicTicker\"}},\"id\":\"14a17532-d3f3-4980-9522-2f375490279d\",\"type\":\"LinearAxis\"},{\"attributes\":{\"plot\":{\"id\":\"11cd0b45-51e6-47b4-9f65-6a417595ffe4\",\"subtype\":\"Figure\",\"type\":\"Plot\"},\"ticker\":{\"id\":\"a50056e6-c0dd-4649-9b7d-ff5dea29ed89\",\"type\":\"BasicTicker\"}},\"id\":\"949621ae-70f7-4548-90a1-4f1299d36724\",\"type\":\"Grid\"},{\"attributes\":{\"bottom_units\":\"screen\",\"fill_alpha\":{\"value\":0.5},\"fill_color\":{\"value\":\"lightgrey\"},\"left_units\":\"screen\",\"level\":\"overlay\",\"line_alpha\":{\"value\":1.0},\"line_color\":{\"value\":\"black\"},\"line_dash\":[4,4],\"line_width\":{\"value\":2},\"plot\":null,\"render_mode\":\"css\",\"right_units\":\"screen\",\"top_units\":\"screen\"},\"id\":\"2ba0fccc-63fc-4889-ab95-03ac0c6dd31e\",\"type\":\"BoxAnnotation\"},{\"attributes\":{},\"id\":\"b6d95913-e468-4183-b25b-d68e16a44f92\",\"type\":\"LinearScale\"},{\"attributes\":{\"plot\":null,\"text\":\"\"},\"id\":\"1d00a58e-9cd1-4059-b758-fa8a7cd66416\",\"type\":\"Title\"},{\"attributes\":{\"line_alpha\":{\"value\":0.1},\"line_color\":{\"value\":\"#1f77b4\"},\"x\":{\"field\":\"x\"},\"y\":{\"field\":\"y\"}},\"id\":\"d7618660-f0b7-43fb-aa6c-120cbf9adc58\",\"type\":\"Line\"},{\"attributes\":{\"overlay\":{\"id\":\"2ba0fccc-63fc-4889-ab95-03ac0c6dd31e\",\"type\":\"BoxAnnotation\"}},\"id\":\"d88ece27-0ffd-425e-8ae8-b16c74ca40a2\",\"type\":\"BoxZoomTool\"},{\"attributes\":{},\"id\":\"f4155b6a-74b5-43fb-a282-f4f010d22a2e\",\"type\":\"PanTool\"},{\"attributes\":{},\"id\":\"4aad6150-5f4d-4de5-b08f-ec7adddbc182\",\"type\":\"HelpTool\"},{\"attributes\":{\"active_drag\":\"auto\",\"active_inspect\":\"auto\",\"active_scroll\":\"auto\",\"active_tap\":\"auto\",\"tools\":[{\"id\":\"f4155b6a-74b5-43fb-a282-f4f010d22a2e\",\"type\":\"PanTool\"},{\"id\":\"f5806af5-e5de-4b10-86a0-14b17a0a4c8e\",\"type\":\"WheelZoomTool\"},{\"id\":\"d88ece27-0ffd-425e-8ae8-b16c74ca40a2\",\"type\":\"BoxZoomTool\"},{\"id\":\"caf4c12e-b623-462b-b00b-6a5a83f31d12\",\"type\":\"SaveTool\"},{\"id\":\"bdc0ebf7-9b7f-4260-b77f-1a2d4310201d\",\"type\":\"ResetTool\"},{\"id\":\"4aad6150-5f4d-4de5-b08f-ec7adddbc182\",\"type\":\"HelpTool\"}]},\"id\":\"286198ae-507d-48c2-8c15-51e7bee9aaff\",\"type\":\"Toolbar\"},{\"attributes\":{},\"id\":\"caf4c12e-b623-462b-b00b-6a5a83f31d12\",\"type\":\"SaveTool\"},{\"attributes\":{},\"id\":\"1b31ae32-d048-4642-9a6a-62150c27e697\",\"type\":\"BasicTicker\"},{\"attributes\":{},\"id\":\"56958729-c8dd-4337-bc91-a2d2c2a874b4\",\"type\":\"BasicTickFormatter\"},{\"attributes\":{\"source\":{\"id\":\"c605bd89-402c-4792-b07c-b1f722a1b675\",\"type\":\"ColumnDataSource\"}},\"id\":\"15f0443f-25ce-4be9-9f2d-2841c70edbff\",\"type\":\"CDSView\"},{\"attributes\":{},\"id\":\"bdc0ebf7-9b7f-4260-b77f-1a2d4310201d\",\"type\":\"ResetTool\"},{\"attributes\":{},\"id\":\"f5806af5-e5de-4b10-86a0-14b17a0a4c8e\",\"type\":\"WheelZoomTool\"},{\"attributes\":{},\"id\":\"14858c10-cfcd-4b3a-a2a6-a03dd4b8dfba\",\"type\":\"BasicTickFormatter\"},{\"attributes\":{\"callback\":null},\"id\":\"d65d5745-4326-47fe-9db8-890832bede40\",\"type\":\"DataRange1d\"},{\"attributes\":{\"callback\":null,\"column_names\":[\"x\",\"y\"],\"data\":{\"x\":{\"__ndarray__\":\"exSuR+F6hD/sUbgehevxP9ejcD0K1wFAuB6F61G4CkDNzMzMzMwRQD4K16NwPRZArkfhehSuGkAfhetRuB4fQEjhehSuxyFAAAAAAAAAJEA=\",\"dtype\":\"float64\",\"shape\":[10]},\"y\":{\"__ndarray__\":\"0BYrwzciaEDQFivDNyJoQNAWK8M3ImhA0BYrwzciaECJApNOzYNnQELu+tli5WZA+9liZfhGZkC0xcrwjahlQCadmge5a2RA34gCk07NY0A=\",\"dtype\":\"float64\",\"shape\":[10]}}},\"id\":\"c605bd89-402c-4792-b07c-b1f722a1b675\",\"type\":\"ColumnDataSource\"},{\"attributes\":{\"dimension\":1,\"plot\":{\"id\":\"11cd0b45-51e6-47b4-9f65-6a417595ffe4\",\"subtype\":\"Figure\",\"type\":\"Plot\"},\"ticker\":{\"id\":\"1b31ae32-d048-4642-9a6a-62150c27e697\",\"type\":\"BasicTicker\"}},\"id\":\"dec95777-d845-4a22-bda2-f33ecddfae8b\",\"type\":\"Grid\"}],\"root_ids\":[\"11cd0b45-51e6-47b4-9f65-6a417595ffe4\"]},\"title\":\"Bokeh Application\",\"version\":\"0.12.10\"}};\n",
       "    var render_items = [{\"docid\":\"d98e5841-fde0-430e-a63c-fe420ce639ab\",\"elementid\":\"c21bef0f-c210-4817-84c0-d25d9f957b51\",\"modelid\":\"11cd0b45-51e6-47b4-9f65-6a417595ffe4\"}];\n",
       "\n",
       "    root.Bokeh.embed.embed_items(docs_json, render_items);\n",
       "  }\n",
       "\n",
       "  if (root.Bokeh !== undefined) {\n",
       "    embed_document(root);\n",
       "  } else {\n",
       "    var attempts = 0;\n",
       "    var timer = setInterval(function(root) {\n",
       "      if (root.Bokeh !== undefined) {\n",
       "        embed_document(root);\n",
       "        clearInterval(timer);\n",
       "      }\n",
       "      attempts++;\n",
       "      if (attempts > 100) {\n",
       "        console.log(\"Bokeh: ERROR: Unable to embed document because BokehJS library is missing\")\n",
       "        clearInterval(timer);\n",
       "      }\n",
       "    }, 10, root)\n",
       "  }\n",
       "})(window);"
      ],
      "application/vnd.bokehjs_exec.v0+json": ""
     },
     "metadata": {
      "application/vnd.bokehjs_exec.v0+json": {
       "id": "11cd0b45-51e6-47b4-9f65-6a417595ffe4"
      }
     },
     "output_type": "display_data"
    }
   ],
   "source": [
    "# rho as a function of cm\n",
    "cms = np.linspace(.01,10,num=10)\n",
    "RHO = np.zeros([cms.size,])\n",
    "for i,cm in enumerate(list(cms)):\n",
    "    RHO[i] = get_rho(500,5,300,2800,cm,1)\n",
    "    \n",
    "R = bkp.figure(plot_height = 400,plot_width=400)\n",
    "R.line(cms,RHO)\n",
    "R.xaxis.axis_label= \"Cm\"\n",
    "R.yaxis.axis_label = \"rho\"\n",
    "bkp.show(R)"
   ]
  },
  {
   "cell_type": "code",
   "execution_count": 26,
   "metadata": {},
   "outputs": [
    {
     "data": {
      "text/html": [
       "\n",
       "<div class=\"bk-root\">\n",
       "    <div class=\"bk-plotdiv\" id=\"b9fd2f45-1d49-4b68-bc7a-59117f4ab37a\"></div>\n",
       "</div>"
      ]
     },
     "metadata": {},
     "output_type": "display_data"
    },
    {
     "data": {
      "application/javascript": [
       "(function(root) {\n",
       "  function embed_document(root) {\n",
       "    var docs_json = {\"d1827e4e-f867-468b-8609-8b793e305722\":{\"roots\":{\"references\":[{\"attributes\":{},\"id\":\"f3589209-531f-45c7-bff2-6f2006890191\",\"type\":\"PanTool\"},{\"attributes\":{\"active_drag\":\"auto\",\"active_inspect\":\"auto\",\"active_scroll\":\"auto\",\"active_tap\":\"auto\",\"tools\":[{\"id\":\"f3589209-531f-45c7-bff2-6f2006890191\",\"type\":\"PanTool\"},{\"id\":\"09e7b04d-15e9-4cf4-9964-e2fc451df4f8\",\"type\":\"WheelZoomTool\"},{\"id\":\"6554d0a6-bc07-45eb-b8e9-13e1de8194d3\",\"type\":\"BoxZoomTool\"},{\"id\":\"7175a992-b468-4c30-892e-af49faed2558\",\"type\":\"SaveTool\"},{\"id\":\"01f67c6c-db09-4f07-8498-de15e8147fd3\",\"type\":\"ResetTool\"},{\"id\":\"98ccf6b7-a448-41d2-b12d-6aace49ed687\",\"type\":\"HelpTool\"}]},\"id\":\"19504956-0a8a-4643-90a0-3a1d4d183319\",\"type\":\"Toolbar\"},{\"attributes\":{\"line_alpha\":{\"value\":0.1},\"line_color\":{\"value\":\"#1f77b4\"},\"x\":{\"field\":\"x\"},\"y\":{\"field\":\"y\"}},\"id\":\"01b65ab9-eefd-4942-8a80-07b016acd492\",\"type\":\"Line\"},{\"attributes\":{\"data_source\":{\"id\":\"e06f170f-b266-4bfb-8daa-13f2aa7da4b0\",\"type\":\"ColumnDataSource\"},\"glyph\":{\"id\":\"200fec8d-ae70-4e36-a0e3-292f0bb9ec12\",\"type\":\"Line\"},\"hover_glyph\":null,\"muted_glyph\":null,\"nonselection_glyph\":{\"id\":\"01b65ab9-eefd-4942-8a80-07b016acd492\",\"type\":\"Line\"},\"selection_glyph\":null,\"view\":{\"id\":\"848ee66c-2d72-4941-a291-03cdf24cc887\",\"type\":\"CDSView\"}},\"id\":\"9b6ec7fa-2fa4-4f38-8d13-0dd912a10e6b\",\"type\":\"GlyphRenderer\"},{\"attributes\":{},\"id\":\"c87e3d68-75b2-48e6-91a3-7e4291215f70\",\"type\":\"BasicTickFormatter\"},{\"attributes\":{\"bottom_units\":\"screen\",\"fill_alpha\":{\"value\":0.5},\"fill_color\":{\"value\":\"lightgrey\"},\"left_units\":\"screen\",\"level\":\"overlay\",\"line_alpha\":{\"value\":1.0},\"line_color\":{\"value\":\"black\"},\"line_dash\":[4,4],\"line_width\":{\"value\":2},\"plot\":null,\"render_mode\":\"css\",\"right_units\":\"screen\",\"top_units\":\"screen\"},\"id\":\"f056e079-8628-4604-959f-d8571c13617e\",\"type\":\"BoxAnnotation\"},{\"attributes\":{\"below\":[{\"id\":\"74206761-0825-4011-b4de-912a762a2ef0\",\"type\":\"LinearAxis\"}],\"left\":[{\"id\":\"207e8505-988d-4cf1-b768-a54243f20f5e\",\"type\":\"LinearAxis\"}],\"plot_height\":400,\"plot_width\":400,\"renderers\":[{\"id\":\"74206761-0825-4011-b4de-912a762a2ef0\",\"type\":\"LinearAxis\"},{\"id\":\"4db55302-011e-4b5c-be82-7787fc1f6f6f\",\"type\":\"Grid\"},{\"id\":\"207e8505-988d-4cf1-b768-a54243f20f5e\",\"type\":\"LinearAxis\"},{\"id\":\"96ddd08b-89e9-4f2e-8e79-ca1fe3376201\",\"type\":\"Grid\"},{\"id\":\"f056e079-8628-4604-959f-d8571c13617e\",\"type\":\"BoxAnnotation\"},{\"id\":\"9b6ec7fa-2fa4-4f38-8d13-0dd912a10e6b\",\"type\":\"GlyphRenderer\"}],\"title\":{\"id\":\"c0f17fdd-cddd-43bc-ae44-83c50ea55d94\",\"type\":\"Title\"},\"toolbar\":{\"id\":\"19504956-0a8a-4643-90a0-3a1d4d183319\",\"type\":\"Toolbar\"},\"x_range\":{\"id\":\"549c8bc3-5aaf-401e-87c0-113dba82e080\",\"type\":\"DataRange1d\"},\"x_scale\":{\"id\":\"7f7d56db-5508-4b14-ac22-7d212c4f4523\",\"type\":\"LinearScale\"},\"y_range\":{\"id\":\"705f76a3-d728-4ec7-bc59-10ce2fa9a9c9\",\"type\":\"DataRange1d\"},\"y_scale\":{\"id\":\"aeb23a2b-d585-428b-aa57-11a045d44c06\",\"type\":\"LinearScale\"}},\"id\":\"efea8eb6-450c-4005-b5c0-446228099874\",\"subtype\":\"Figure\",\"type\":\"Plot\"},{\"attributes\":{},\"id\":\"e4b653d8-1693-4693-8970-d07f24ac0f29\",\"type\":\"BasicTicker\"},{\"attributes\":{\"callback\":null},\"id\":\"705f76a3-d728-4ec7-bc59-10ce2fa9a9c9\",\"type\":\"DataRange1d\"},{\"attributes\":{\"axis_label\":\"rho\",\"formatter\":{\"id\":\"c87e3d68-75b2-48e6-91a3-7e4291215f70\",\"type\":\"BasicTickFormatter\"},\"plot\":{\"id\":\"efea8eb6-450c-4005-b5c0-446228099874\",\"subtype\":\"Figure\",\"type\":\"Plot\"},\"ticker\":{\"id\":\"eea90ef2-db59-4d22-b58e-9ee90ce25fd2\",\"type\":\"BasicTicker\"}},\"id\":\"207e8505-988d-4cf1-b768-a54243f20f5e\",\"type\":\"LinearAxis\"},{\"attributes\":{\"axis_label\":\"axial resistance\",\"formatter\":{\"id\":\"2ea9d328-3f51-4a67-ab07-e7835bafc5a3\",\"type\":\"BasicTickFormatter\"},\"plot\":{\"id\":\"efea8eb6-450c-4005-b5c0-446228099874\",\"subtype\":\"Figure\",\"type\":\"Plot\"},\"ticker\":{\"id\":\"e4b653d8-1693-4693-8970-d07f24ac0f29\",\"type\":\"BasicTicker\"}},\"id\":\"74206761-0825-4011-b4de-912a762a2ef0\",\"type\":\"LinearAxis\"},{\"attributes\":{},\"id\":\"2ea9d328-3f51-4a67-ab07-e7835bafc5a3\",\"type\":\"BasicTickFormatter\"},{\"attributes\":{},\"id\":\"eea90ef2-db59-4d22-b58e-9ee90ce25fd2\",\"type\":\"BasicTicker\"},{\"attributes\":{\"callback\":null,\"column_names\":[\"x\",\"y\"],\"data\":{\"x\":{\"__ndarray__\":\"AAAAAADAckDctm3btt2DQLdt27ZtW45ASZIkSZJslEC3bdu2bauZQCVJkiRJ6p5ASZIkSZIUokAAAAAAALSkQLdt27ZtU6dAbtu2bdvyqUAlSZIkSZKsQNy2bdu2Ma9ASZIkSZLosEAlSZIkSTiyQAAAAAAAiLNA\",\"dtype\":\"float64\",\"shape\":[15]},\"y\":{\"__ndarray__\":\"0BYrwzciaEDBpFPzIHdcQPvZYmX4RlZA34gCk07NU0DEN6LApFNRQDUPctfPFlBATs2D3PWzTUAzfCMKTDpLQBcrwzeiwEhAFyvDN6LASED72WJl+EZGQPvZYmX4RkZA+9liZfhGRkDfiAKTTs1DQN+IApNOzUNA\",\"dtype\":\"float64\",\"shape\":[15]}}},\"id\":\"e06f170f-b266-4bfb-8daa-13f2aa7da4b0\",\"type\":\"ColumnDataSource\"},{\"attributes\":{},\"id\":\"aeb23a2b-d585-428b-aa57-11a045d44c06\",\"type\":\"LinearScale\"},{\"attributes\":{\"dimension\":1,\"plot\":{\"id\":\"efea8eb6-450c-4005-b5c0-446228099874\",\"subtype\":\"Figure\",\"type\":\"Plot\"},\"ticker\":{\"id\":\"eea90ef2-db59-4d22-b58e-9ee90ce25fd2\",\"type\":\"BasicTicker\"}},\"id\":\"96ddd08b-89e9-4f2e-8e79-ca1fe3376201\",\"type\":\"Grid\"},{\"attributes\":{\"plot\":null,\"text\":\"\"},\"id\":\"c0f17fdd-cddd-43bc-ae44-83c50ea55d94\",\"type\":\"Title\"},{\"attributes\":{\"line_color\":{\"value\":\"#1f77b4\"},\"x\":{\"field\":\"x\"},\"y\":{\"field\":\"y\"}},\"id\":\"200fec8d-ae70-4e36-a0e3-292f0bb9ec12\",\"type\":\"Line\"},{\"attributes\":{},\"id\":\"7f7d56db-5508-4b14-ac22-7d212c4f4523\",\"type\":\"LinearScale\"},{\"attributes\":{\"source\":{\"id\":\"e06f170f-b266-4bfb-8daa-13f2aa7da4b0\",\"type\":\"ColumnDataSource\"}},\"id\":\"848ee66c-2d72-4941-a291-03cdf24cc887\",\"type\":\"CDSView\"},{\"attributes\":{},\"id\":\"7175a992-b468-4c30-892e-af49faed2558\",\"type\":\"SaveTool\"},{\"attributes\":{},\"id\":\"09e7b04d-15e9-4cf4-9964-e2fc451df4f8\",\"type\":\"WheelZoomTool\"},{\"attributes\":{},\"id\":\"98ccf6b7-a448-41d2-b12d-6aace49ed687\",\"type\":\"HelpTool\"},{\"attributes\":{\"callback\":null},\"id\":\"549c8bc3-5aaf-401e-87c0-113dba82e080\",\"type\":\"DataRange1d\"},{\"attributes\":{\"overlay\":{\"id\":\"f056e079-8628-4604-959f-d8571c13617e\",\"type\":\"BoxAnnotation\"}},\"id\":\"6554d0a6-bc07-45eb-b8e9-13e1de8194d3\",\"type\":\"BoxZoomTool\"},{\"attributes\":{},\"id\":\"01f67c6c-db09-4f07-8498-de15e8147fd3\",\"type\":\"ResetTool\"},{\"attributes\":{\"plot\":{\"id\":\"efea8eb6-450c-4005-b5c0-446228099874\",\"subtype\":\"Figure\",\"type\":\"Plot\"},\"ticker\":{\"id\":\"e4b653d8-1693-4693-8970-d07f24ac0f29\",\"type\":\"BasicTicker\"}},\"id\":\"4db55302-011e-4b5c-be82-7787fc1f6f6f\",\"type\":\"Grid\"}],\"root_ids\":[\"efea8eb6-450c-4005-b5c0-446228099874\"]},\"title\":\"Bokeh Application\",\"version\":\"0.12.10\"}};\n",
       "    var render_items = [{\"docid\":\"d1827e4e-f867-468b-8609-8b793e305722\",\"elementid\":\"b9fd2f45-1d49-4b68-bc7a-59117f4ab37a\",\"modelid\":\"efea8eb6-450c-4005-b5c0-446228099874\"}];\n",
       "\n",
       "    root.Bokeh.embed.embed_items(docs_json, render_items);\n",
       "  }\n",
       "\n",
       "  if (root.Bokeh !== undefined) {\n",
       "    embed_document(root);\n",
       "  } else {\n",
       "    var attempts = 0;\n",
       "    var timer = setInterval(function(root) {\n",
       "      if (root.Bokeh !== undefined) {\n",
       "        embed_document(root);\n",
       "        clearInterval(timer);\n",
       "      }\n",
       "      attempts++;\n",
       "      if (attempts > 100) {\n",
       "        console.log(\"Bokeh: ERROR: Unable to embed document because BokehJS library is missing\")\n",
       "        clearInterval(timer);\n",
       "      }\n",
       "    }, 10, root)\n",
       "  }\n",
       "})(window);"
      ],
      "application/vnd.bokehjs_exec.v0+json": ""
     },
     "metadata": {
      "application/vnd.bokehjs_exec.v0+json": {
       "id": "efea8eb6-450c-4005-b5c0-446228099874"
      }
     },
     "output_type": "display_data"
    }
   ],
   "source": [
    "# rho as function of Ra\n",
    "Ras = np.linspace(300,5000,num=15)\n",
    "RHO = np.zeros([Ras.size,])\n",
    "for i,Ra in enumerate(list(Ras)):\n",
    "    RHO[i] = get_rho(500,5,Ra,2800,1,1)\n",
    "    \n",
    "R = bkp.figure(plot_height = 400,plot_width=400)\n",
    "R.line(Ras,RHO)\n",
    "R.xaxis.axis_label= \"axial resistance\"\n",
    "R.yaxis.axis_label = \"rho\"\n",
    "bkp.show(R)"
   ]
  },
  {
   "cell_type": "code",
   "execution_count": 4,
   "metadata": {
    "collapsed": true
   },
   "outputs": [],
   "source": [
    "def plot_branched_cable(branch_pos,L,diam,I):\n",
    "    # make a cable, insert stimulus halfway down the process\n",
    "    cell = branched_cable()\n",
    "    cell.make_cable(500,5,Ra=300)\n",
    "    cell.add_branch('cable',branch_pos,L,diam,Ra=300)\n",
    "    cell.add_IClamp('cable',0,1,50)\n",
    "\n",
    "    # record along entire length of cable and one point on the branch\n",
    "    positions = np.linspace(0,1,num=101)\n",
    "    for pos in positions:\n",
    "        cell.recording_vecs([['cable',pos,'v'],['branch',pos,'v']])\n",
    "        \n",
    "    #cell.recording_vecs([['branch',.5,'v']])\n",
    "\n",
    "    #print(cell.record_vecs.keys())\n",
    "    t,results = run_current_clamp(cell,'iclamp',[I],tstop=200)\n",
    "\n",
    "    RC = bkp.figure(plot_height=400,plot_width=400)\n",
    "    #keys = list(results.record_vecs.keys())\n",
    "    for i, color in zip(range(0,len(positions),10),colors):\n",
    "        key = \"cable:%.2f:v\" % positions[i]\n",
    "        RC.line(t,np.squeeze(results[key][:,-1]),color=color,legend=str(positions[i]))\n",
    "    RC.line(t,np.squeeze(results['branch:0.50:v'][:,-1]),line_dash='dotted',legend='branch')\n",
    "    RC.xaxis.axis_label=\"I (mA)\"\n",
    "    RC.yaxis.axis_label=\"mV\"\n",
    "\n",
    "\n",
    "    # steady state V as a function of distance\n",
    "    ss_ind = np.where(t>95)[0][0]\n",
    "    V_ss = np.zeros([len(positions),])\n",
    "    V_ss_br = np.zeros([len(positions),])\n",
    "    \n",
    "    V_half = np.zeros([len(positions),])\n",
    "    tau = np.zeros([len(positions),])\n",
    "    for i,pos in enumerate(positions):\n",
    "        #print(pos)\n",
    "        key = \"cable:%.2f:v\" % pos\n",
    "        V_ss[i] = results[key][ss_ind,-1]\n",
    "        \n",
    "        br_key = \"branch:%.2f:v\" % pos\n",
    "        V_ss_br[i] = results[br_key][ss_ind,-1]\n",
    "        \n",
    "        V_half[i] = (1-.37)*(V_ss[i]+65)-65\n",
    "        tau[i] = np.where(results[key][:,-1]>V_half[i])[0][0]/t.size*200. -20\n",
    "        \n",
    "        \n",
    "    VX = bkp.figure(plot_height = 400, plot_width=400)\n",
    "    VX.line(positions*500,V_ss)\n",
    "    VX.xaxis.axis_label = \"position\"\n",
    "    VX.yaxis.axis_label = \"Steady-state V (mV)\"\n",
    "    \n",
    "    VX.line(500*branch_pos + positions*L,V_ss_br,line_color='red',line_dash='dashed')\n",
    "    \n",
    "    \n",
    "    T = bkp.figure(plot_height=400, plot_width=400)\n",
    "    T.line(positions,tau)\n",
    "    T.xaxis.axis_label = \"position\"\n",
    "    T.yaxis.axis_label = \"tau\"\n",
    "    \n",
    "\n",
    "    bkp.show(bk.layouts.layout([[RC,VX],[T]]))\n"
   ]
  },
  {
   "cell_type": "code",
   "execution_count": 5,
   "metadata": {},
   "outputs": [
    {
     "data": {
      "application/vnd.jupyter.widget-view+json": {
       "model_id": "9a95c94ab3ee4fa9985e92377e0423ab",
       "version_major": 2,
       "version_minor": 0
      },
      "text/plain": [
       "A Jupyter Widget"
      ]
     },
     "metadata": {},
     "output_type": "display_data"
    },
    {
     "data": {
      "text/plain": [
       "<function __main__.plot_branched_cable>"
      ]
     },
     "execution_count": 5,
     "metadata": {},
     "output_type": "execute_result"
    }
   ],
   "source": [
    "widgets.interact_manual(plot_branched_cable,\n",
    "                 branch_pos = widgets.FloatSlider(min=0,max=1,continuosu_update=False),\n",
    "                 L=widgets.FloatSlider(min=10,max=500,continous_update=False),\n",
    "                 diam=widgets.FloatSlider(min=.1,max=10,continuous_update=False),\n",
    "                 I = widgets.FloatSlider(min=.1,max=5,continuous_update=False))"
   ]
  },
  {
   "cell_type": "code",
   "execution_count": null,
   "metadata": {
    "collapsed": true
   },
   "outputs": [],
   "source": []
  }
 ],
 "metadata": {
  "kernelspec": {
   "display_name": "Python 3",
   "language": "python",
   "name": "python3"
  },
  "language_info": {
   "codemirror_mode": {
    "name": "ipython",
    "version": 3
   },
   "file_extension": ".py",
   "mimetype": "text/x-python",
   "name": "python",
   "nbconvert_exporter": "python",
   "pygments_lexer": "ipython3",
   "version": "3.6.3"
  }
 },
 "nbformat": 4,
 "nbformat_minor": 2
}
