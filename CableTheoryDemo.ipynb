{
 "cells": [
  {
   "cell_type": "code",
   "execution_count": 1,
   "metadata": {},
   "outputs": [
    {
     "data": {
      "text/html": [
       "\n",
       "    <div class=\"bk-root\">\n",
       "        <a href=\"https://bokeh.pydata.org\" target=\"_blank\" class=\"bk-logo bk-logo-small bk-logo-notebook\"></a>\n",
       "        <span id=\"fb5b00c9-fe59-4a98-8087-3bfc103a28ee\">Loading BokehJS ...</span>\n",
       "    </div>"
      ]
     },
     "metadata": {},
     "output_type": "display_data"
    },
    {
     "data": {
      "application/javascript": [
       "\n",
       "(function(root) {\n",
       "  function now() {\n",
       "    return new Date();\n",
       "  }\n",
       "\n",
       "  var force = true;\n",
       "\n",
       "  if (typeof (root._bokeh_onload_callbacks) === \"undefined\" || force === true) {\n",
       "    root._bokeh_onload_callbacks = [];\n",
       "    root._bokeh_is_loading = undefined;\n",
       "  }\n",
       "\n",
       "  var JS_MIME_TYPE = 'application/javascript';\n",
       "  var HTML_MIME_TYPE = 'text/html';\n",
       "  var EXEC_MIME_TYPE = 'application/vnd.bokehjs_exec.v0+json';\n",
       "  var CLASS_NAME = 'output_bokeh rendered_html';\n",
       "\n",
       "  /**\n",
       "   * Render data to the DOM node\n",
       "   */\n",
       "  function render(props, node) {\n",
       "    var script = document.createElement(\"script\");\n",
       "    node.appendChild(script);\n",
       "  }\n",
       "\n",
       "  /**\n",
       "   * Handle when an output is cleared or removed\n",
       "   */\n",
       "  function handleClearOutput(event, handle) {\n",
       "    var cell = handle.cell;\n",
       "\n",
       "    var id = cell.output_area._bokeh_element_id;\n",
       "    var server_id = cell.output_area._bokeh_server_id;\n",
       "    // Clean up Bokeh references\n",
       "    if (id !== undefined) {\n",
       "      Bokeh.index[id].model.document.clear();\n",
       "      delete Bokeh.index[id];\n",
       "    }\n",
       "\n",
       "    if (server_id !== undefined) {\n",
       "      // Clean up Bokeh references\n",
       "      var cmd = \"from bokeh.io.state import curstate; print(curstate().uuid_to_server['\" + server_id + \"'].get_sessions()[0].document.roots[0]._id)\";\n",
       "      cell.notebook.kernel.execute(cmd, {\n",
       "        iopub: {\n",
       "          output: function(msg) {\n",
       "            var element_id = msg.content.text.trim();\n",
       "            Bokeh.index[element_id].model.document.clear();\n",
       "            delete Bokeh.index[element_id];\n",
       "          }\n",
       "        }\n",
       "      });\n",
       "      // Destroy server and session\n",
       "      var cmd = \"import bokeh.io.notebook as ion; ion.destroy_server('\" + server_id + \"')\";\n",
       "      cell.notebook.kernel.execute(cmd);\n",
       "    }\n",
       "  }\n",
       "\n",
       "  /**\n",
       "   * Handle when a new output is added\n",
       "   */\n",
       "  function handleAddOutput(event, handle) {\n",
       "    var output_area = handle.output_area;\n",
       "    var output = handle.output;\n",
       "\n",
       "    // limit handleAddOutput to display_data with EXEC_MIME_TYPE content only\n",
       "    if ((output.output_type != \"display_data\") || (!output.data.hasOwnProperty(EXEC_MIME_TYPE))) {\n",
       "      return\n",
       "    }\n",
       "\n",
       "    var toinsert = output_area.element.find(`.${CLASS_NAME.split(' ')[0]}`);\n",
       "\n",
       "    if (output.metadata[EXEC_MIME_TYPE][\"id\"] !== undefined) {\n",
       "      toinsert[0].firstChild.textContent = output.data[JS_MIME_TYPE];\n",
       "      // store reference to embed id on output_area\n",
       "      output_area._bokeh_element_id = output.metadata[EXEC_MIME_TYPE][\"id\"];\n",
       "    }\n",
       "    if (output.metadata[EXEC_MIME_TYPE][\"server_id\"] !== undefined) {\n",
       "      var bk_div = document.createElement(\"div\");\n",
       "      bk_div.innerHTML = output.data[HTML_MIME_TYPE];\n",
       "      var script_attrs = bk_div.children[0].attributes;\n",
       "      for (var i = 0; i < script_attrs.length; i++) {\n",
       "        toinsert[0].firstChild.setAttribute(script_attrs[i].name, script_attrs[i].value);\n",
       "      }\n",
       "      // store reference to server id on output_area\n",
       "      output_area._bokeh_server_id = output.metadata[EXEC_MIME_TYPE][\"server_id\"];\n",
       "    }\n",
       "  }\n",
       "\n",
       "  function register_renderer(events, OutputArea) {\n",
       "\n",
       "    function append_mime(data, metadata, element) {\n",
       "      // create a DOM node to render to\n",
       "      var toinsert = this.create_output_subarea(\n",
       "        metadata,\n",
       "        CLASS_NAME,\n",
       "        EXEC_MIME_TYPE\n",
       "      );\n",
       "      this.keyboard_manager.register_events(toinsert);\n",
       "      // Render to node\n",
       "      var props = {data: data, metadata: metadata[EXEC_MIME_TYPE]};\n",
       "      render(props, toinsert[0]);\n",
       "      element.append(toinsert);\n",
       "      return toinsert\n",
       "    }\n",
       "\n",
       "    /* Handle when an output is cleared or removed */\n",
       "    events.on('clear_output.CodeCell', handleClearOutput);\n",
       "    events.on('delete.Cell', handleClearOutput);\n",
       "\n",
       "    /* Handle when a new output is added */\n",
       "    events.on('output_added.OutputArea', handleAddOutput);\n",
       "\n",
       "    /**\n",
       "     * Register the mime type and append_mime function with output_area\n",
       "     */\n",
       "    OutputArea.prototype.register_mime_type(EXEC_MIME_TYPE, append_mime, {\n",
       "      /* Is output safe? */\n",
       "      safe: true,\n",
       "      /* Index of renderer in `output_area.display_order` */\n",
       "      index: 0\n",
       "    });\n",
       "  }\n",
       "\n",
       "  // register the mime type if in Jupyter Notebook environment and previously unregistered\n",
       "  if (root.Jupyter !== undefined) {\n",
       "    var events = require('base/js/events');\n",
       "    var OutputArea = require('notebook/js/outputarea').OutputArea;\n",
       "\n",
       "    if (OutputArea.prototype.mime_types().indexOf(EXEC_MIME_TYPE) == -1) {\n",
       "      register_renderer(events, OutputArea);\n",
       "    }\n",
       "  }\n",
       "\n",
       "  \n",
       "  if (typeof (root._bokeh_timeout) === \"undefined\" || force === true) {\n",
       "    root._bokeh_timeout = Date.now() + 5000;\n",
       "    root._bokeh_failed_load = false;\n",
       "  }\n",
       "\n",
       "  var NB_LOAD_WARNING = {'data': {'text/html':\n",
       "     \"<div style='background-color: #fdd'>\\n\"+\n",
       "     \"<p>\\n\"+\n",
       "     \"BokehJS does not appear to have successfully loaded. If loading BokehJS from CDN, this \\n\"+\n",
       "     \"may be due to a slow or bad network connection. Possible fixes:\\n\"+\n",
       "     \"</p>\\n\"+\n",
       "     \"<ul>\\n\"+\n",
       "     \"<li>re-rerun `output_notebook()` to attempt to load from CDN again, or</li>\\n\"+\n",
       "     \"<li>use INLINE resources instead, as so:</li>\\n\"+\n",
       "     \"</ul>\\n\"+\n",
       "     \"<code>\\n\"+\n",
       "     \"from bokeh.resources import INLINE\\n\"+\n",
       "     \"output_notebook(resources=INLINE)\\n\"+\n",
       "     \"</code>\\n\"+\n",
       "     \"</div>\"}};\n",
       "\n",
       "  function display_loaded() {\n",
       "    var el = document.getElementById(\"fb5b00c9-fe59-4a98-8087-3bfc103a28ee\");\n",
       "    if (el != null) {\n",
       "      el.textContent = \"BokehJS is loading...\";\n",
       "    }\n",
       "    if (root.Bokeh !== undefined) {\n",
       "      if (el != null) {\n",
       "        el.textContent = \"BokehJS \" + root.Bokeh.version + \" successfully loaded.\";\n",
       "      }\n",
       "    } else if (Date.now() < root._bokeh_timeout) {\n",
       "      setTimeout(display_loaded, 100)\n",
       "    }\n",
       "  }\n",
       "\n",
       "\n",
       "  function run_callbacks() {\n",
       "    try {\n",
       "      root._bokeh_onload_callbacks.forEach(function(callback) { callback() });\n",
       "    }\n",
       "    finally {\n",
       "      delete root._bokeh_onload_callbacks\n",
       "    }\n",
       "    console.info(\"Bokeh: all callbacks have finished\");\n",
       "  }\n",
       "\n",
       "  function load_libs(js_urls, callback) {\n",
       "    root._bokeh_onload_callbacks.push(callback);\n",
       "    if (root._bokeh_is_loading > 0) {\n",
       "      console.log(\"Bokeh: BokehJS is being loaded, scheduling callback at\", now());\n",
       "      return null;\n",
       "    }\n",
       "    if (js_urls == null || js_urls.length === 0) {\n",
       "      run_callbacks();\n",
       "      return null;\n",
       "    }\n",
       "    console.log(\"Bokeh: BokehJS not loaded, scheduling load and callback at\", now());\n",
       "    root._bokeh_is_loading = js_urls.length;\n",
       "    for (var i = 0; i < js_urls.length; i++) {\n",
       "      var url = js_urls[i];\n",
       "      var s = document.createElement('script');\n",
       "      s.src = url;\n",
       "      s.async = false;\n",
       "      s.onreadystatechange = s.onload = function() {\n",
       "        root._bokeh_is_loading--;\n",
       "        if (root._bokeh_is_loading === 0) {\n",
       "          console.log(\"Bokeh: all BokehJS libraries loaded\");\n",
       "          run_callbacks()\n",
       "        }\n",
       "      };\n",
       "      s.onerror = function() {\n",
       "        console.warn(\"failed to load library \" + url);\n",
       "      };\n",
       "      console.log(\"Bokeh: injecting script tag for BokehJS library: \", url);\n",
       "      document.getElementsByTagName(\"head\")[0].appendChild(s);\n",
       "    }\n",
       "  };var element = document.getElementById(\"fb5b00c9-fe59-4a98-8087-3bfc103a28ee\");\n",
       "  if (element == null) {\n",
       "    console.log(\"Bokeh: ERROR: autoload.js configured with elementid 'fb5b00c9-fe59-4a98-8087-3bfc103a28ee' but no matching script tag was found. \")\n",
       "    return false;\n",
       "  }\n",
       "\n",
       "  var js_urls = [\"https://cdn.pydata.org/bokeh/release/bokeh-0.12.10.min.js\", \"https://cdn.pydata.org/bokeh/release/bokeh-widgets-0.12.10.min.js\", \"https://cdn.pydata.org/bokeh/release/bokeh-tables-0.12.10.min.js\", \"https://cdn.pydata.org/bokeh/release/bokeh-gl-0.12.10.min.js\"];\n",
       "\n",
       "  var inline_js = [\n",
       "    function(Bokeh) {\n",
       "      Bokeh.set_log_level(\"info\");\n",
       "    },\n",
       "    \n",
       "    function(Bokeh) {\n",
       "      \n",
       "    },\n",
       "    function(Bokeh) {\n",
       "      console.log(\"Bokeh: injecting CSS: https://cdn.pydata.org/bokeh/release/bokeh-0.12.10.min.css\");\n",
       "      Bokeh.embed.inject_css(\"https://cdn.pydata.org/bokeh/release/bokeh-0.12.10.min.css\");\n",
       "      console.log(\"Bokeh: injecting CSS: https://cdn.pydata.org/bokeh/release/bokeh-widgets-0.12.10.min.css\");\n",
       "      Bokeh.embed.inject_css(\"https://cdn.pydata.org/bokeh/release/bokeh-widgets-0.12.10.min.css\");\n",
       "      console.log(\"Bokeh: injecting CSS: https://cdn.pydata.org/bokeh/release/bokeh-tables-0.12.10.min.css\");\n",
       "      Bokeh.embed.inject_css(\"https://cdn.pydata.org/bokeh/release/bokeh-tables-0.12.10.min.css\");\n",
       "    }\n",
       "  ];\n",
       "\n",
       "  function run_inline_js() {\n",
       "    \n",
       "    if ((root.Bokeh !== undefined) || (force === true)) {\n",
       "      for (var i = 0; i < inline_js.length; i++) {\n",
       "        inline_js[i].call(root, root.Bokeh);\n",
       "      }if (force === true) {\n",
       "        display_loaded();\n",
       "      }} else if (Date.now() < root._bokeh_timeout) {\n",
       "      setTimeout(run_inline_js, 100);\n",
       "    } else if (!root._bokeh_failed_load) {\n",
       "      console.log(\"Bokeh: BokehJS failed to load within specified timeout.\");\n",
       "      root._bokeh_failed_load = true;\n",
       "    } else if (force !== true) {\n",
       "      var cell = $(document.getElementById(\"fb5b00c9-fe59-4a98-8087-3bfc103a28ee\")).parents('.cell').data().cell;\n",
       "      cell.output_area.append_execute_result(NB_LOAD_WARNING)\n",
       "    }\n",
       "\n",
       "  }\n",
       "\n",
       "  if (root._bokeh_is_loading === 0) {\n",
       "    console.log(\"Bokeh: BokehJS loaded, going straight to plotting\");\n",
       "    run_inline_js();\n",
       "  } else {\n",
       "    load_libs(js_urls, function() {\n",
       "      console.log(\"Bokeh: BokehJS plotting callback run at\", now());\n",
       "      run_inline_js();\n",
       "    });\n",
       "  }\n",
       "}(window));"
      ],
      "application/vnd.bokehjs_load.v0+json": "\n(function(root) {\n  function now() {\n    return new Date();\n  }\n\n  var force = true;\n\n  if (typeof (root._bokeh_onload_callbacks) === \"undefined\" || force === true) {\n    root._bokeh_onload_callbacks = [];\n    root._bokeh_is_loading = undefined;\n  }\n\n  \n\n  \n  if (typeof (root._bokeh_timeout) === \"undefined\" || force === true) {\n    root._bokeh_timeout = Date.now() + 5000;\n    root._bokeh_failed_load = false;\n  }\n\n  var NB_LOAD_WARNING = {'data': {'text/html':\n     \"<div style='background-color: #fdd'>\\n\"+\n     \"<p>\\n\"+\n     \"BokehJS does not appear to have successfully loaded. If loading BokehJS from CDN, this \\n\"+\n     \"may be due to a slow or bad network connection. Possible fixes:\\n\"+\n     \"</p>\\n\"+\n     \"<ul>\\n\"+\n     \"<li>re-rerun `output_notebook()` to attempt to load from CDN again, or</li>\\n\"+\n     \"<li>use INLINE resources instead, as so:</li>\\n\"+\n     \"</ul>\\n\"+\n     \"<code>\\n\"+\n     \"from bokeh.resources import INLINE\\n\"+\n     \"output_notebook(resources=INLINE)\\n\"+\n     \"</code>\\n\"+\n     \"</div>\"}};\n\n  function display_loaded() {\n    var el = document.getElementById(\"fb5b00c9-fe59-4a98-8087-3bfc103a28ee\");\n    if (el != null) {\n      el.textContent = \"BokehJS is loading...\";\n    }\n    if (root.Bokeh !== undefined) {\n      if (el != null) {\n        el.textContent = \"BokehJS \" + root.Bokeh.version + \" successfully loaded.\";\n      }\n    } else if (Date.now() < root._bokeh_timeout) {\n      setTimeout(display_loaded, 100)\n    }\n  }\n\n\n  function run_callbacks() {\n    try {\n      root._bokeh_onload_callbacks.forEach(function(callback) { callback() });\n    }\n    finally {\n      delete root._bokeh_onload_callbacks\n    }\n    console.info(\"Bokeh: all callbacks have finished\");\n  }\n\n  function load_libs(js_urls, callback) {\n    root._bokeh_onload_callbacks.push(callback);\n    if (root._bokeh_is_loading > 0) {\n      console.log(\"Bokeh: BokehJS is being loaded, scheduling callback at\", now());\n      return null;\n    }\n    if (js_urls == null || js_urls.length === 0) {\n      run_callbacks();\n      return null;\n    }\n    console.log(\"Bokeh: BokehJS not loaded, scheduling load and callback at\", now());\n    root._bokeh_is_loading = js_urls.length;\n    for (var i = 0; i < js_urls.length; i++) {\n      var url = js_urls[i];\n      var s = document.createElement('script');\n      s.src = url;\n      s.async = false;\n      s.onreadystatechange = s.onload = function() {\n        root._bokeh_is_loading--;\n        if (root._bokeh_is_loading === 0) {\n          console.log(\"Bokeh: all BokehJS libraries loaded\");\n          run_callbacks()\n        }\n      };\n      s.onerror = function() {\n        console.warn(\"failed to load library \" + url);\n      };\n      console.log(\"Bokeh: injecting script tag for BokehJS library: \", url);\n      document.getElementsByTagName(\"head\")[0].appendChild(s);\n    }\n  };var element = document.getElementById(\"fb5b00c9-fe59-4a98-8087-3bfc103a28ee\");\n  if (element == null) {\n    console.log(\"Bokeh: ERROR: autoload.js configured with elementid 'fb5b00c9-fe59-4a98-8087-3bfc103a28ee' but no matching script tag was found. \")\n    return false;\n  }\n\n  var js_urls = [\"https://cdn.pydata.org/bokeh/release/bokeh-0.12.10.min.js\", \"https://cdn.pydata.org/bokeh/release/bokeh-widgets-0.12.10.min.js\", \"https://cdn.pydata.org/bokeh/release/bokeh-tables-0.12.10.min.js\", \"https://cdn.pydata.org/bokeh/release/bokeh-gl-0.12.10.min.js\"];\n\n  var inline_js = [\n    function(Bokeh) {\n      Bokeh.set_log_level(\"info\");\n    },\n    \n    function(Bokeh) {\n      \n    },\n    function(Bokeh) {\n      console.log(\"Bokeh: injecting CSS: https://cdn.pydata.org/bokeh/release/bokeh-0.12.10.min.css\");\n      Bokeh.embed.inject_css(\"https://cdn.pydata.org/bokeh/release/bokeh-0.12.10.min.css\");\n      console.log(\"Bokeh: injecting CSS: https://cdn.pydata.org/bokeh/release/bokeh-widgets-0.12.10.min.css\");\n      Bokeh.embed.inject_css(\"https://cdn.pydata.org/bokeh/release/bokeh-widgets-0.12.10.min.css\");\n      console.log(\"Bokeh: injecting CSS: https://cdn.pydata.org/bokeh/release/bokeh-tables-0.12.10.min.css\");\n      Bokeh.embed.inject_css(\"https://cdn.pydata.org/bokeh/release/bokeh-tables-0.12.10.min.css\");\n    }\n  ];\n\n  function run_inline_js() {\n    \n    if ((root.Bokeh !== undefined) || (force === true)) {\n      for (var i = 0; i < inline_js.length; i++) {\n        inline_js[i].call(root, root.Bokeh);\n      }if (force === true) {\n        display_loaded();\n      }} else if (Date.now() < root._bokeh_timeout) {\n      setTimeout(run_inline_js, 100);\n    } else if (!root._bokeh_failed_load) {\n      console.log(\"Bokeh: BokehJS failed to load within specified timeout.\");\n      root._bokeh_failed_load = true;\n    } else if (force !== true) {\n      var cell = $(document.getElementById(\"fb5b00c9-fe59-4a98-8087-3bfc103a28ee\")).parents('.cell').data().cell;\n      cell.output_area.append_execute_result(NB_LOAD_WARNING)\n    }\n\n  }\n\n  if (root._bokeh_is_loading === 0) {\n    console.log(\"Bokeh: BokehJS loaded, going straight to plotting\");\n    run_inline_js();\n  } else {\n    load_libs(js_urls, function() {\n      console.log(\"Bokeh: BokehJS plotting callback run at\", now());\n      run_inline_js();\n    });\n  }\n}(window));"
     },
     "metadata": {},
     "output_type": "display_data"
    }
   ],
   "source": [
    "from neuron import h, gui\n",
    "import bokeh as bk\n",
    "import bokeh.plotting as bkp\n",
    "import numpy as np\n",
    "from bokeh.palettes import Dark2_5 as palette\n",
    "import itertools \n",
    "import ipywidgets as widgets\n",
    "from branched_cable import branched_cable, run_current_clamp\n",
    "\n",
    "colors = itertools.cycle(palette)  \n",
    "bkp.output_notebook()"
   ]
  },
  {
   "cell_type": "code",
   "execution_count": 2,
   "metadata": {
    "collapsed": true
   },
   "outputs": [],
   "source": [
    "def plot_cable(L,diam,Ra,Rm,cm,I,stim_loc):\n",
    "    # make a cable, insert stimulus halfway down the process\n",
    "    cell = branched_cable()\n",
    "    cell.make_cable(L,diam,Ra=Ra,Rm=Rm,cm=cm)\n",
    "    cell.add_IClamp('cable',stim_loc,.001,50)\n",
    "\n",
    "    # record at a few different points along the cable\n",
    "    positions = list(np.linspace(0,1,num=51))\n",
    "    for pos in positions:   \n",
    "        cell.recording_vecs([['cable',pos,'v']])\n",
    "\n",
    "    #print(cell.record_vecs.keys())\n",
    "    t,results = run_current_clamp(cell,'iclamp',[I],tstop=200)\n",
    "\n",
    "    RC = bkp.figure(plot_height=400,plot_width=400)\n",
    "    #keys = list(results.record_vecs.keys())\n",
    "    for i, color in zip(range(0,len(positions),5),colors):\n",
    "        key = \"cable:%.2f:v\" % positions[i]\n",
    "        RC.line(t,np.squeeze(results[key][:,-1]),color=color,legend=str(positions[i]))\n",
    "    RC.xaxis.axis_label=\"I (mA)\"\n",
    "    RC.yaxis.axis_label=\"mV\"\n",
    "\n",
    "\n",
    "    # steady state V as a function of distance\n",
    "    ss_ind = np.where(t>95)[0][0]\n",
    "    V_ss = np.zeros([len(positions),])\n",
    "    \n",
    "    V_half = np.zeros([len(positions),])\n",
    "    tau = np.zeros([len(positions),])\n",
    "    for i,pos in enumerate(positions):\n",
    "        #print(pos)\n",
    "        key = \"cable:%.2f:v\" % pos\n",
    "        V_ss[i] = results[key][ss_ind,-1]\n",
    "        V_half[i] = .5*(V_ss[i]+65)-65\n",
    "        tau[i] = np.where(results[key][:,-1]>V_half[i])[0][0]/t.size*200. -20\n",
    "        \n",
    "        \n",
    "    VX = bkp.figure(plot_height = 400, plot_width=400)\n",
    "    VX.line(positions,V_ss)\n",
    "    VX.xaxis.axis_label = \"position\"\n",
    "    VX.yaxis.axis_label = \"Steady-state V (mV)\"\n",
    "    \n",
    "    \n",
    "    T = bkp.figure(plot_height=400, plot_width=400)\n",
    "    T.line(positions,tau)\n",
    "    T.xaxis.axis_label = \"position\"\n",
    "    T.yaxis.axis_label = \"tau\"\n",
    "    \n",
    "\n",
    "    bkp.show(bk.layouts.layout([[RC,VX],[T]]))\n",
    "             "
   ]
  },
  {
   "cell_type": "code",
   "execution_count": 3,
   "metadata": {},
   "outputs": [
    {
     "data": {
      "application/vnd.jupyter.widget-view+json": {
       "model_id": "d7b3f4d54fbf492db3ff878590ac3d35",
       "version_major": 2,
       "version_minor": 0
      },
      "text/plain": [
       "A Jupyter Widget"
      ]
     },
     "metadata": {},
     "output_type": "display_data"
    },
    {
     "data": {
      "text/plain": [
       "<function __main__.plot_cable>"
      ]
     },
     "execution_count": 3,
     "metadata": {},
     "output_type": "execute_result"
    }
   ],
   "source": [
    "widgets.interact_manual(plot_cable,\n",
    "                 L=widgets.FloatSlider(min=50,max=1000,continoust_update=False),\n",
    "                 diam=widgets.FloatSlider(min=.1,max=100,continuous_update=False),\n",
    "                 Rm=widgets.FloatSlider(min=100,max=5000,continuous_update=False),\n",
    "                 Ra = widgets.FloatSlider(min=10,max=1000,continuous_update=False),\n",
    "                 cm = widgets.FloatSlider(min=.1,max=10,continous_update=False),\n",
    "                 I = widgets.FloatSlider(min=.1,max=5,continuous_update=False),\n",
    "                 stim_loc = widgets.FloatSlider(min=0,max=1,contiuous_update=False))"
   ]
  },
  {
   "cell_type": "code",
   "execution_count": 4,
   "metadata": {},
   "outputs": [
    {
     "data": {
      "text/html": [
       "\n",
       "<div class=\"bk-root\">\n",
       "    <div class=\"bk-plotdiv\" id=\"9f2d72f0-f968-4ebe-83c6-280277e3a0d2\"></div>\n",
       "</div>"
      ]
     },
     "metadata": {},
     "output_type": "display_data"
    },
    {
     "data": {
      "application/javascript": [
       "(function(root) {\n",
       "  function embed_document(root) {\n",
       "    var docs_json = {\"53ba4d6d-c57c-46ce-a8d9-da8422e01b0a\":{\"roots\":{\"references\":[{\"attributes\":{},\"id\":\"ea8e3d4f-0aeb-4496-a8e9-6e40b071f52f\",\"type\":\"BasicTicker\"},{\"attributes\":{\"data_source\":{\"id\":\"cbfff2e0-507d-4d60-aa93-489ca71ee749\",\"type\":\"ColumnDataSource\"},\"glyph\":{\"id\":\"c5a1b292-03e4-4c46-aff9-7e9f1745f167\",\"type\":\"Line\"},\"hover_glyph\":null,\"muted_glyph\":null,\"nonselection_glyph\":{\"id\":\"b965c497-ac3b-4cdb-bd71-fe50fa9cb1f7\",\"type\":\"Line\"},\"selection_glyph\":null,\"view\":{\"id\":\"2e1fa098-c976-46c8-b29c-1ba795287c45\",\"type\":\"CDSView\"}},\"id\":\"66484426-dc49-41ff-bca5-e336856f0b03\",\"type\":\"GlyphRenderer\"},{\"attributes\":{\"plot\":{\"id\":\"472c45d0-9dcb-418a-a4e2-6582cc89de01\",\"subtype\":\"Figure\",\"type\":\"Plot\"},\"ticker\":{\"id\":\"ea8e3d4f-0aeb-4496-a8e9-6e40b071f52f\",\"type\":\"BasicTicker\"}},\"id\":\"821d9243-cce9-442a-a254-52a04d92ff5b\",\"type\":\"Grid\"},{\"attributes\":{\"axis_label\":\"Input Resistance\",\"formatter\":{\"id\":\"805e445b-07e4-47c4-9271-3549ef04aa4d\",\"type\":\"BasicTickFormatter\"},\"plot\":{\"id\":\"472c45d0-9dcb-418a-a4e2-6582cc89de01\",\"subtype\":\"Figure\",\"type\":\"Plot\"},\"ticker\":{\"id\":\"d6af3aab-b128-43d8-b28f-c512a05dadca\",\"type\":\"BasicTicker\"}},\"id\":\"43850720-a244-463f-b0b3-7c5a469ed9e3\",\"type\":\"LinearAxis\"},{\"attributes\":{},\"id\":\"d6af3aab-b128-43d8-b28f-c512a05dadca\",\"type\":\"BasicTicker\"},{\"attributes\":{\"dimension\":1,\"plot\":{\"id\":\"472c45d0-9dcb-418a-a4e2-6582cc89de01\",\"subtype\":\"Figure\",\"type\":\"Plot\"},\"ticker\":{\"id\":\"d6af3aab-b128-43d8-b28f-c512a05dadca\",\"type\":\"BasicTicker\"}},\"id\":\"703cb556-12b5-4041-959d-9f0097d8de09\",\"type\":\"Grid\"},{\"attributes\":{\"source\":{\"id\":\"cbfff2e0-507d-4d60-aa93-489ca71ee749\",\"type\":\"ColumnDataSource\"}},\"id\":\"2e1fa098-c976-46c8-b29c-1ba795287c45\",\"type\":\"CDSView\"},{\"attributes\":{\"line_alpha\":{\"value\":0.1},\"line_color\":{\"value\":\"#1f77b4\"},\"x\":{\"field\":\"x\"},\"y\":{\"field\":\"y\"}},\"id\":\"b965c497-ac3b-4cdb-bd71-fe50fa9cb1f7\",\"type\":\"Line\"},{\"attributes\":{},\"id\":\"4835f41d-ba94-452d-a054-ce19ae2f4cb2\",\"type\":\"BasicTickFormatter\"},{\"attributes\":{\"bottom_units\":\"screen\",\"fill_alpha\":{\"value\":0.5},\"fill_color\":{\"value\":\"lightgrey\"},\"left_units\":\"screen\",\"level\":\"overlay\",\"line_alpha\":{\"value\":1.0},\"line_color\":{\"value\":\"black\"},\"line_dash\":[4,4],\"line_width\":{\"value\":2},\"plot\":null,\"render_mode\":\"css\",\"right_units\":\"screen\",\"top_units\":\"screen\"},\"id\":\"4ebf9928-b85f-4232-a65b-4b5c223a7bc3\",\"type\":\"BoxAnnotation\"},{\"attributes\":{},\"id\":\"9cad432c-53b7-4852-8ced-b7803472a76b\",\"type\":\"PanTool\"},{\"attributes\":{},\"id\":\"5d96dc73-7778-408e-834b-9bcef8791ef6\",\"type\":\"LinearScale\"},{\"attributes\":{},\"id\":\"f1c44ca3-3f8e-4ac2-afdd-78359aaf8249\",\"type\":\"WheelZoomTool\"},{\"attributes\":{\"callback\":null},\"id\":\"8d8eff7c-a5af-48e5-880d-978a95d09e3e\",\"type\":\"DataRange1d\"},{\"attributes\":{\"overlay\":{\"id\":\"4ebf9928-b85f-4232-a65b-4b5c223a7bc3\",\"type\":\"BoxAnnotation\"}},\"id\":\"e7e33b88-9ee0-4f23-adb7-9f44902ce5f5\",\"type\":\"BoxZoomTool\"},{\"attributes\":{\"line_alpha\":{\"value\":0.1},\"line_color\":{\"value\":\"#1f77b4\"},\"x\":{\"field\":\"x\"},\"y\":{\"field\":\"y\"}},\"id\":\"0998fb6a-f426-4969-857d-a2a8bbbe1447\",\"type\":\"Line\"},{\"attributes\":{},\"id\":\"d2c19340-b921-4f80-ac96-7c92ebafe3db\",\"type\":\"SaveTool\"},{\"attributes\":{},\"id\":\"338073b4-e46d-4de5-b116-d5599375a7c0\",\"type\":\"ResetTool\"},{\"attributes\":{\"callback\":null},\"id\":\"87afd3f1-d6c5-4c04-8aae-b78ac7875d92\",\"type\":\"DataRange1d\"},{\"attributes\":{},\"id\":\"ea5252e6-9176-49e9-b0dd-ac86fdccc0af\",\"type\":\"HelpTool\"},{\"attributes\":{\"active_drag\":\"auto\",\"active_inspect\":\"auto\",\"active_scroll\":\"auto\",\"active_tap\":\"auto\",\"tools\":[{\"id\":\"7de70d99-e0a1-45d5-a14a-2b61b2b47f05\",\"type\":\"PanTool\"},{\"id\":\"8e55b350-0ad8-48dd-bac3-90c38f916e18\",\"type\":\"WheelZoomTool\"},{\"id\":\"299594b5-6756-4e43-a2a6-b8f92104cb35\",\"type\":\"BoxZoomTool\"},{\"id\":\"c746a713-3141-4bb6-a817-98928ad614c1\",\"type\":\"SaveTool\"},{\"id\":\"37db5235-1713-441d-9a0b-cef078c40117\",\"type\":\"ResetTool\"},{\"id\":\"aa7479c3-045e-41ec-bd1a-db859a8bb51e\",\"type\":\"HelpTool\"}]},\"id\":\"3360a28c-4553-4c4f-8f0b-fa54db5a385a\",\"type\":\"Toolbar\"},{\"attributes\":{\"callback\":null,\"column_names\":[\"x\",\"y\"],\"data\":{\"x\":{\"__ndarray__\":\"AAAAAAAA8L+amZmZmZnpvzMzMzMzM+O/mJmZmZmZ2b+YmZmZmZnJvwAAAAAAAAAAoJmZmZmZyT+cmZmZmZnZPzQzMzMzM+M/mpmZmZmZ6T8AAAAAAADwPw==\",\"dtype\":\"float64\",\"shape\":[11]},\"y\":{\"__ndarray__\":\"WvxRA2QUasDiyXTPHH1mwGmXl5vV5WLA4cl0zxydXsDxZLpnjm5XwAAAAAAAQFDAGzaLMOMiQsDMYbMIMy4ewE67vNysLjVAiSfTPXP0SEC1+KMGyKhTQA==\",\"dtype\":\"float64\",\"shape\":[11]}}},\"id\":\"1d565062-6944-4385-b1e6-1dcfeb7e2df8\",\"type\":\"ColumnDataSource\"},{\"attributes\":{},\"id\":\"805e445b-07e4-47c4-9271-3549ef04aa4d\",\"type\":\"BasicTickFormatter\"},{\"attributes\":{\"plot\":null,\"text\":\"\"},\"id\":\"1922fb17-cf1c-4e3c-a5e7-3aa24ae40bd4\",\"type\":\"Title\"},{\"attributes\":{\"source\":{\"id\":\"1d565062-6944-4385-b1e6-1dcfeb7e2df8\",\"type\":\"ColumnDataSource\"}},\"id\":\"bf8036a2-8bfa-47e3-a52e-436cc93a798b\",\"type\":\"CDSView\"},{\"attributes\":{},\"id\":\"6820193d-be49-47a0-ae73-2c07b77c9c9a\",\"type\":\"LinearScale\"},{\"attributes\":{\"plot\":{\"id\":\"87c3e25e-c4c8-42b0-af21-bb087be73c03\",\"subtype\":\"Figure\",\"type\":\"Plot\"},\"ticker\":{\"id\":\"2ac357a7-8033-4b63-9e42-ff124f4c7382\",\"type\":\"BasicTicker\"}},\"id\":\"2401f2b0-38cc-4b02-bcc7-a6886c82a05a\",\"type\":\"Grid\"},{\"attributes\":{\"axis_label\":\"I (mA)\",\"formatter\":{\"id\":\"b3be0728-7899-44ae-9fca-aebcb777d6c6\",\"type\":\"BasicTickFormatter\"},\"plot\":{\"id\":\"87c3e25e-c4c8-42b0-af21-bb087be73c03\",\"subtype\":\"Figure\",\"type\":\"Plot\"},\"ticker\":{\"id\":\"2ac357a7-8033-4b63-9e42-ff124f4c7382\",\"type\":\"BasicTicker\"}},\"id\":\"8aae4d92-487f-4a93-8d1b-29ecfc0a07eb\",\"type\":\"LinearAxis\"},{\"attributes\":{},\"id\":\"2ac357a7-8033-4b63-9e42-ff124f4c7382\",\"type\":\"BasicTicker\"},{\"attributes\":{\"children\":[{\"id\":\"87c3e25e-c4c8-42b0-af21-bb087be73c03\",\"subtype\":\"Figure\",\"type\":\"Plot\"},{\"id\":\"472c45d0-9dcb-418a-a4e2-6582cc89de01\",\"subtype\":\"Figure\",\"type\":\"Plot\"}]},\"id\":\"60b654cf-4bd0-4b6c-91ff-dc4587a2e275\",\"type\":\"Row\"},{\"attributes\":{\"axis_label\":\"Steady-State V (mV)\",\"formatter\":{\"id\":\"3bc927f6-b30e-448e-bb30-41b562b4fd5a\",\"type\":\"BasicTickFormatter\"},\"plot\":{\"id\":\"87c3e25e-c4c8-42b0-af21-bb087be73c03\",\"subtype\":\"Figure\",\"type\":\"Plot\"},\"ticker\":{\"id\":\"4b1a5cf7-37f0-459a-9e95-3405eae38025\",\"type\":\"BasicTicker\"}},\"id\":\"1520c6f1-a3b6-4b6c-a10e-79b046134434\",\"type\":\"LinearAxis\"},{\"attributes\":{},\"id\":\"4b1a5cf7-37f0-459a-9e95-3405eae38025\",\"type\":\"BasicTicker\"},{\"attributes\":{\"dimension\":1,\"plot\":{\"id\":\"87c3e25e-c4c8-42b0-af21-bb087be73c03\",\"subtype\":\"Figure\",\"type\":\"Plot\"},\"ticker\":{\"id\":\"4b1a5cf7-37f0-459a-9e95-3405eae38025\",\"type\":\"BasicTicker\"}},\"id\":\"ca12d8b6-b6c6-4690-8b18-773358779694\",\"type\":\"Grid\"},{\"attributes\":{\"data_source\":{\"id\":\"1d565062-6944-4385-b1e6-1dcfeb7e2df8\",\"type\":\"ColumnDataSource\"},\"glyph\":{\"id\":\"1e9fdf3e-f299-4b6c-a9e3-312d56d6ca3b\",\"type\":\"Line\"},\"hover_glyph\":null,\"muted_glyph\":null,\"nonselection_glyph\":{\"id\":\"0998fb6a-f426-4969-857d-a2a8bbbe1447\",\"type\":\"Line\"},\"selection_glyph\":null,\"view\":{\"id\":\"bf8036a2-8bfa-47e3-a52e-436cc93a798b\",\"type\":\"CDSView\"}},\"id\":\"56145dd6-3024-4e82-8338-5e41d33a8983\",\"type\":\"GlyphRenderer\"},{\"attributes\":{},\"id\":\"b3be0728-7899-44ae-9fca-aebcb777d6c6\",\"type\":\"BasicTickFormatter\"},{\"attributes\":{\"below\":[{\"id\":\"58b74c77-e3c4-465a-b871-8fd67dfe7a47\",\"type\":\"LinearAxis\"}],\"left\":[{\"id\":\"43850720-a244-463f-b0b3-7c5a469ed9e3\",\"type\":\"LinearAxis\"}],\"plot_height\":400,\"plot_width\":400,\"renderers\":[{\"id\":\"58b74c77-e3c4-465a-b871-8fd67dfe7a47\",\"type\":\"LinearAxis\"},{\"id\":\"821d9243-cce9-442a-a254-52a04d92ff5b\",\"type\":\"Grid\"},{\"id\":\"43850720-a244-463f-b0b3-7c5a469ed9e3\",\"type\":\"LinearAxis\"},{\"id\":\"703cb556-12b5-4041-959d-9f0097d8de09\",\"type\":\"Grid\"},{\"id\":\"4ebf9928-b85f-4232-a65b-4b5c223a7bc3\",\"type\":\"BoxAnnotation\"},{\"id\":\"66484426-dc49-41ff-bca5-e336856f0b03\",\"type\":\"GlyphRenderer\"}],\"title\":{\"id\":\"1922fb17-cf1c-4e3c-a5e7-3aa24ae40bd4\",\"type\":\"Title\"},\"toolbar\":{\"id\":\"0e5f0325-1311-4e21-9ea8-98ae3dd1ff1e\",\"type\":\"Toolbar\"},\"x_range\":{\"id\":\"e05abab6-555e-4390-b1f0-a36f260b7e6d\",\"type\":\"DataRange1d\"},\"x_scale\":{\"id\":\"e9e645f4-8e00-4c6e-b0d9-b0bf7fa24500\",\"type\":\"LinearScale\"},\"y_range\":{\"id\":\"364997e8-96b2-4906-92f3-f7e1f67ba8b6\",\"type\":\"DataRange1d\"},\"y_scale\":{\"id\":\"ed9653d1-e207-4302-b72c-b11462d409fa\",\"type\":\"LinearScale\"}},\"id\":\"472c45d0-9dcb-418a-a4e2-6582cc89de01\",\"subtype\":\"Figure\",\"type\":\"Plot\"},{\"attributes\":{\"below\":[{\"id\":\"8aae4d92-487f-4a93-8d1b-29ecfc0a07eb\",\"type\":\"LinearAxis\"}],\"left\":[{\"id\":\"1520c6f1-a3b6-4b6c-a10e-79b046134434\",\"type\":\"LinearAxis\"}],\"plot_height\":400,\"plot_width\":400,\"renderers\":[{\"id\":\"8aae4d92-487f-4a93-8d1b-29ecfc0a07eb\",\"type\":\"LinearAxis\"},{\"id\":\"2401f2b0-38cc-4b02-bcc7-a6886c82a05a\",\"type\":\"Grid\"},{\"id\":\"1520c6f1-a3b6-4b6c-a10e-79b046134434\",\"type\":\"LinearAxis\"},{\"id\":\"ca12d8b6-b6c6-4690-8b18-773358779694\",\"type\":\"Grid\"},{\"id\":\"d7e0d450-913e-4452-9407-242355bd5874\",\"type\":\"BoxAnnotation\"},{\"id\":\"56145dd6-3024-4e82-8338-5e41d33a8983\",\"type\":\"GlyphRenderer\"},{\"id\":\"8e441ae8-a0de-4591-8bd8-95e9db5b3250\",\"type\":\"GlyphRenderer\"},{\"id\":\"4680bc0c-35aa-44b9-96d0-b77a2d2e24c4\",\"type\":\"GlyphRenderer\"},{\"id\":\"4dd76b3e-a4c3-48ff-869a-f6faba394ef8\",\"type\":\"GlyphRenderer\"},{\"id\":\"db782193-d0d7-4735-a91b-62ebe797b1fd\",\"type\":\"GlyphRenderer\"},{\"id\":\"cc6e106f-1af4-47c4-a991-b5dd7d666f71\",\"type\":\"GlyphRenderer\"}],\"title\":{\"id\":\"dc0f549c-7297-4627-baf0-b9e4ad33faef\",\"type\":\"Title\"},\"toolbar\":{\"id\":\"3360a28c-4553-4c4f-8f0b-fa54db5a385a\",\"type\":\"Toolbar\"},\"x_range\":{\"id\":\"8d8eff7c-a5af-48e5-880d-978a95d09e3e\",\"type\":\"DataRange1d\"},\"x_scale\":{\"id\":\"5d96dc73-7778-408e-834b-9bcef8791ef6\",\"type\":\"LinearScale\"},\"y_range\":{\"id\":\"87afd3f1-d6c5-4c04-8aae-b78ac7875d92\",\"type\":\"DataRange1d\"},\"y_scale\":{\"id\":\"6820193d-be49-47a0-ae73-2c07b77c9c9a\",\"type\":\"LinearScale\"}},\"id\":\"87c3e25e-c4c8-42b0-af21-bb087be73c03\",\"subtype\":\"Figure\",\"type\":\"Plot\"},{\"attributes\":{\"bottom_units\":\"screen\",\"fill_alpha\":{\"value\":0.5},\"fill_color\":{\"value\":\"lightgrey\"},\"left_units\":\"screen\",\"level\":\"overlay\",\"line_alpha\":{\"value\":1.0},\"line_color\":{\"value\":\"black\"},\"line_dash\":[4,4],\"line_width\":{\"value\":2},\"plot\":null,\"render_mode\":\"css\",\"right_units\":\"screen\",\"top_units\":\"screen\"},\"id\":\"d7e0d450-913e-4452-9407-242355bd5874\",\"type\":\"BoxAnnotation\"},{\"attributes\":{},\"id\":\"7de70d99-e0a1-45d5-a14a-2b61b2b47f05\",\"type\":\"PanTool\"},{\"attributes\":{\"line_alpha\":{\"value\":0.1},\"line_color\":{\"value\":\"#1f77b4\"},\"x\":{\"field\":\"x\"},\"y\":{\"field\":\"y\"}},\"id\":\"984a166e-e031-4b4e-ba61-1fb861fb6a44\",\"type\":\"Line\"},{\"attributes\":{},\"id\":\"8e55b350-0ad8-48dd-bac3-90c38f916e18\",\"type\":\"WheelZoomTool\"},{\"attributes\":{\"overlay\":{\"id\":\"d7e0d450-913e-4452-9407-242355bd5874\",\"type\":\"BoxAnnotation\"}},\"id\":\"299594b5-6756-4e43-a2a6-b8f92104cb35\",\"type\":\"BoxZoomTool\"},{\"attributes\":{},\"id\":\"c746a713-3141-4bb6-a817-98928ad614c1\",\"type\":\"SaveTool\"},{\"attributes\":{},\"id\":\"37db5235-1713-441d-9a0b-cef078c40117\",\"type\":\"ResetTool\"},{\"attributes\":{},\"id\":\"aa7479c3-045e-41ec-bd1a-db859a8bb51e\",\"type\":\"HelpTool\"},{\"attributes\":{},\"id\":\"3bc927f6-b30e-448e-bb30-41b562b4fd5a\",\"type\":\"BasicTickFormatter\"},{\"attributes\":{\"plot\":null,\"text\":\"\"},\"id\":\"dc0f549c-7297-4627-baf0-b9e4ad33faef\",\"type\":\"Title\"},{\"attributes\":{\"callback\":null,\"column_names\":[\"x\",\"y\"],\"data\":{\"x\":{\"__ndarray__\":\"AAAAAAAA8L+amZmZmZnpvzMzMzMzM+O/mJmZmZmZ2b+YmZmZmZnJvwAAAAAAAAAAoJmZmZmZyT+cmZmZmZnZPzQzMzMzM+M/mpmZmZmZ6T8AAAAAAADwPw==\",\"dtype\":\"float64\",\"shape\":[11]},\"y\":{\"__ndarray__\":\"JRRaB4uSasCFdq7SCOJmwOPYAp6GMWPAg3au0ggCX8BCO1dpBKFXwAAAAAAAQFDAeIlRLfe9QcCklxjVct8XwBzHFvA0jDdAEtq5SiOISkBLKLQOFqVUQA==\",\"dtype\":\"float64\",\"shape\":[11]}}},\"id\":\"f4da9fa2-c4f9-44a7-9b21-98a134d294ae\",\"type\":\"ColumnDataSource\"},{\"attributes\":{\"line_color\":{\"value\":\"#7570b3\"},\"x\":{\"field\":\"x\"},\"y\":{\"field\":\"y\"}},\"id\":\"a356db0a-96ae-4502-bfbd-5136e0d3a3e2\",\"type\":\"Line\"},{\"attributes\":{\"source\":{\"id\":\"f4da9fa2-c4f9-44a7-9b21-98a134d294ae\",\"type\":\"ColumnDataSource\"}},\"id\":\"d56c91e9-01b7-470b-8310-f0f34c69bb19\",\"type\":\"CDSView\"},{\"attributes\":{\"callback\":null,\"column_names\":[\"x\",\"y\"],\"data\":{\"x\":{\"__ndarray__\":\"AAAAAAAA8L+amZmZmZnpvzMzMzMzM+O/mJmZmZmZ2b+YmZmZmZnJvwAAAAAAAAAAoJmZmZmZyT+cmZmZmZnZPzQzMzMzM+M/mpmZmZmZ6T8AAAAAAADwPw==\",\"dtype\":\"float64\",\"shape\":[11]},\"y\":{\"__ndarray__\":\"f9vR5NEObMAAFtuDQRJowH9Q5CKxFWTA/4rtwSAZYMD/iu3BIDlYwAAAAAAAQFDA/ekkfL6NQMC/fzoJn2/zv/+DIheJrT5A/1dsDwZJT0D/tqPJo51XQA==\",\"dtype\":\"float64\",\"shape\":[11]}}},\"id\":\"45a07d39-faba-43c8-8548-171f1a0ffe31\",\"type\":\"ColumnDataSource\"},{\"attributes\":{\"line_color\":{\"value\":\"#66a61e\"},\"x\":{\"field\":\"x\"},\"y\":{\"field\":\"y\"}},\"id\":\"b83a64b8-d4c9-4dd5-96a6-ff416bf91d99\",\"type\":\"Line\"},{\"attributes\":{\"data_source\":{\"id\":\"f4da9fa2-c4f9-44a7-9b21-98a134d294ae\",\"type\":\"ColumnDataSource\"},\"glyph\":{\"id\":\"a356db0a-96ae-4502-bfbd-5136e0d3a3e2\",\"type\":\"Line\"},\"hover_glyph\":null,\"muted_glyph\":null,\"nonselection_glyph\":{\"id\":\"984a166e-e031-4b4e-ba61-1fb861fb6a44\",\"type\":\"Line\"},\"selection_glyph\":null,\"view\":{\"id\":\"d56c91e9-01b7-470b-8310-f0f34c69bb19\",\"type\":\"CDSView\"}},\"id\":\"8e441ae8-a0de-4591-8bd8-95e9db5b3250\",\"type\":\"GlyphRenderer\"},{\"attributes\":{\"line_color\":{\"value\":\"#e7298a\"},\"x\":{\"field\":\"x\"},\"y\":{\"field\":\"y\"}},\"id\":\"e0dcdec8-af9b-4240-8550-09cdb9d8e9dc\",\"type\":\"Line\"},{\"attributes\":{\"source\":{\"id\":\"e4fe5d5b-d000-4db8-871c-1e09c8c44f3a\",\"type\":\"ColumnDataSource\"}},\"id\":\"86d3cc15-1b3e-4697-939b-f12fa2cd1294\",\"type\":\"CDSView\"},{\"attributes\":{\"callback\":null,\"column_names\":[\"x\",\"y\"],\"data\":{\"x\":{\"__ndarray__\":\"AAAAAAAA8L+amZmZmZnpvzMzMzMzM+O/mJmZmZmZ2b+YmZmZmZnJvwAAAAAAAAAAoJmZmZmZyT+cmZmZmZnZPzQzMzMzM+M/mpmZmZmZ6T8AAAAAAADwPw==\",\"dtype\":\"float64\",\"shape\":[11]},\"y\":{\"__ndarray__\":\"88LOJa+dbsD2m9i3JR5qwPh04kmcnmXA+k3s2xIfYcD6TezbEj9ZwAAAAAAAQFDAC8hOkLQDPcB6v4l9W+IbQOPTiSdxekVA7Dexb0u8U0DnhZ1LXrtcQA==\",\"dtype\":\"float64\",\"shape\":[11]}}},\"id\":\"e4fe5d5b-d000-4db8-871c-1e09c8c44f3a\",\"type\":\"ColumnDataSource\"},{\"attributes\":{\"line_color\":{\"value\":\"#d95f02\"},\"x\":{\"field\":\"x\"},\"y\":{\"field\":\"y\"}},\"id\":\"a07a6f6f-ddbf-4018-af0c-cc1c1fb145c1\",\"type\":\"Line\"},{\"attributes\":{\"line_alpha\":{\"value\":0.1},\"line_color\":{\"value\":\"#1f77b4\"},\"x\":{\"field\":\"x\"},\"y\":{\"field\":\"y\"}},\"id\":\"8149d68b-f8e9-4ba9-969a-377faba1db2d\",\"type\":\"Line\"},{\"attributes\":{\"data_source\":{\"id\":\"45a07d39-faba-43c8-8548-171f1a0ffe31\",\"type\":\"ColumnDataSource\"},\"glyph\":{\"id\":\"e0dcdec8-af9b-4240-8550-09cdb9d8e9dc\",\"type\":\"Line\"},\"hover_glyph\":null,\"muted_glyph\":null,\"nonselection_glyph\":{\"id\":\"8149d68b-f8e9-4ba9-969a-377faba1db2d\",\"type\":\"Line\"},\"selection_glyph\":null,\"view\":{\"id\":\"60497e03-046a-44af-b993-42b2c2ce3076\",\"type\":\"CDSView\"}},\"id\":\"4680bc0c-35aa-44b9-96d0-b77a2d2e24c4\",\"type\":\"GlyphRenderer\"},{\"attributes\":{\"source\":{\"id\":\"45a07d39-faba-43c8-8548-171f1a0ffe31\",\"type\":\"ColumnDataSource\"}},\"id\":\"60497e03-046a-44af-b993-42b2c2ce3076\",\"type\":\"CDSView\"},{\"attributes\":{\"line_color\":{\"value\":\"#d95f02\"},\"x\":{\"field\":\"x\"},\"y\":{\"field\":\"y\"}},\"id\":\"1e9fdf3e-f299-4b6c-a9e3-312d56d6ca3b\",\"type\":\"Line\"},{\"attributes\":{\"callback\":null,\"column_names\":[\"x\",\"y\"],\"data\":{\"x\":{\"__ndarray__\":\"AAAAAAAA8L+amZmZmZnpvzMzMzMzM+O/mJmZmZmZ2b+YmZmZmZnJvwAAAAAAAAAAoJmZmZmZyT+cmZmZmZnZPzQzMzMzM+M/mpmZmZmZ6T8AAAAAAADwPw==\",\"dtype\":\"float64\",\"shape\":[11]},\"y\":{\"__ndarray__\":\"2Ve29y8xccDCvyNZ5iFtwNHP2sJs4WfA4N+RLPOgYsDg35Es88BawAAAAAAAQFDAcoC4TTP8NsAP/45kmQczQEY/awuzhU5AhH9HsszDWUCyr2zvXyJiQA==\",\"dtype\":\"float64\",\"shape\":[11]}}},\"id\":\"997604d7-e5bf-4409-8ed5-0913f0d1e0d0\",\"type\":\"ColumnDataSource\"},{\"attributes\":{\"line_color\":{\"value\":\"#1b9e77\"},\"x\":{\"field\":\"x\"},\"y\":{\"field\":\"y\"}},\"id\":\"d6b889c2-745d-4997-a6b9-c84ac4ad21d3\",\"type\":\"Line\"},{\"attributes\":{\"data_source\":{\"id\":\"997604d7-e5bf-4409-8ed5-0913f0d1e0d0\",\"type\":\"ColumnDataSource\"},\"glyph\":{\"id\":\"d6b889c2-745d-4997-a6b9-c84ac4ad21d3\",\"type\":\"Line\"},\"hover_glyph\":null,\"muted_glyph\":null,\"nonselection_glyph\":{\"id\":\"85586928-d906-460c-a4d4-3844fca3eabc\",\"type\":\"Line\"},\"selection_glyph\":null,\"view\":{\"id\":\"0555dbf1-c20c-4821-9905-8dc2a312e141\",\"type\":\"CDSView\"}},\"id\":\"db782193-d0d7-4735-a91b-62ebe797b1fd\",\"type\":\"GlyphRenderer\"},{\"attributes\":{\"line_alpha\":{\"value\":0.1},\"line_color\":{\"value\":\"#1f77b4\"},\"x\":{\"field\":\"x\"},\"y\":{\"field\":\"y\"}},\"id\":\"e70ca1b4-6fda-4a60-a7b3-4f5a19549834\",\"type\":\"Line\"},{\"attributes\":{\"data_source\":{\"id\":\"e4fe5d5b-d000-4db8-871c-1e09c8c44f3a\",\"type\":\"ColumnDataSource\"},\"glyph\":{\"id\":\"b83a64b8-d4c9-4dd5-96a6-ff416bf91d99\",\"type\":\"Line\"},\"hover_glyph\":null,\"muted_glyph\":null,\"nonselection_glyph\":{\"id\":\"e70ca1b4-6fda-4a60-a7b3-4f5a19549834\",\"type\":\"Line\"},\"selection_glyph\":null,\"view\":{\"id\":\"86d3cc15-1b3e-4697-939b-f12fa2cd1294\",\"type\":\"CDSView\"}},\"id\":\"4dd76b3e-a4c3-48ff-869a-f6faba394ef8\",\"type\":\"GlyphRenderer\"},{\"attributes\":{\"callback\":null,\"column_names\":[\"x\",\"y\"],\"data\":{\"x\":{\"__ndarray__\":\"AAAAAAAA8L+amZmZmZnpvzMzMzMzM+O/mJmZmZmZ2b+YmZmZmZnJvwAAAAAAAAAAoJmZmZmZyT+cmZmZmZnZPzQzMzMzM+M/mpmZmZmZ6T8AAAAAAADwPw==\",\"dtype\":\"float64\",\"shape\":[11]},\"y\":{\"__ndarray__\":\"fb+4uGbIc8BkzJNghaNwwJay3RBI/WrAY8yTYIWzZMBjzJNghdNcwAAAAAAAQFDAxZxh+9RjLcCVMU+CFc5BQC1luyGQelVAyZgnwQoHYUD6fnFxzVBnQA==\",\"dtype\":\"float64\",\"shape\":[11]}}},\"id\":\"34a82530-a875-4f5e-b431-594b80e50c55\",\"type\":\"ColumnDataSource\"},{\"attributes\":{\"callback\":null,\"column_names\":[\"x\",\"y\"],\"data\":{\"x\":[0.52,0.54,0.56,0.58,0.6,0.62,0.64,0.66,0.68,0.7000000000000001,0.72,0.74,0.76,0.78,0.8,0.8200000000000001,0.84,0.86,0.88,0.9,0.92,0.9400000000000001,0.96,0.98,1.0],\"y\":{\"__ndarray__\":\"UbT0o545SEAXWtYofVlHQKhkllYrhkZAMMVwOzW/RUDyEHatLQRFQPpzpg6uVERAQiykFFawQ0AZqd6TyxZDQBpSGU66h0JAqNAyxNMCQkC4fxMLz4dBQJhgq6NoFkFAHKHpVWKuQECaYZkOg09AQKP/IYAt8z9AO3BFi9xYP0Ab432Tvs8+QFoHdF2IVz5ADm9R9PfvPUDyYZCF1Jg9QMKlzkHuUT1AQiGSQh4bPUBg9fB0RvQ8QKBWEYlR3TxAIxl45jLWPEA=\",\"dtype\":\"float64\",\"shape\":[25]}}},\"id\":\"cbfff2e0-507d-4d60-aa93-489ca71ee749\",\"type\":\"ColumnDataSource\"},{\"attributes\":{\"source\":{\"id\":\"997604d7-e5bf-4409-8ed5-0913f0d1e0d0\",\"type\":\"ColumnDataSource\"}},\"id\":\"0555dbf1-c20c-4821-9905-8dc2a312e141\",\"type\":\"CDSView\"},{\"attributes\":{\"line_alpha\":{\"value\":0.1},\"line_color\":{\"value\":\"#1f77b4\"},\"x\":{\"field\":\"x\"},\"y\":{\"field\":\"y\"}},\"id\":\"63959cf1-fe8f-4088-8d17-def66339d1ad\",\"type\":\"Line\"},{\"attributes\":{\"line_alpha\":{\"value\":0.1},\"line_color\":{\"value\":\"#1f77b4\"},\"x\":{\"field\":\"x\"},\"y\":{\"field\":\"y\"}},\"id\":\"85586928-d906-460c-a4d4-3844fca3eabc\",\"type\":\"Line\"},{\"attributes\":{\"line_color\":{\"value\":\"#1f77b4\"},\"x\":{\"field\":\"x\"},\"y\":{\"field\":\"y\"}},\"id\":\"c5a1b292-03e4-4c46-aff9-7e9f1745f167\",\"type\":\"Line\"},{\"attributes\":{\"children\":[{\"id\":\"60b654cf-4bd0-4b6c-91ff-dc4587a2e275\",\"type\":\"Row\"}]},\"id\":\"e2617f42-d598-4fd7-a0ba-c80af9af4c19\",\"type\":\"Column\"},{\"attributes\":{\"data_source\":{\"id\":\"34a82530-a875-4f5e-b431-594b80e50c55\",\"type\":\"ColumnDataSource\"},\"glyph\":{\"id\":\"a07a6f6f-ddbf-4018-af0c-cc1c1fb145c1\",\"type\":\"Line\"},\"hover_glyph\":null,\"muted_glyph\":null,\"nonselection_glyph\":{\"id\":\"63959cf1-fe8f-4088-8d17-def66339d1ad\",\"type\":\"Line\"},\"selection_glyph\":null,\"view\":{\"id\":\"ae61f191-2631-49b8-903b-15f159210a44\",\"type\":\"CDSView\"}},\"id\":\"cc6e106f-1af4-47c4-a991-b5dd7d666f71\",\"type\":\"GlyphRenderer\"},{\"attributes\":{\"source\":{\"id\":\"34a82530-a875-4f5e-b431-594b80e50c55\",\"type\":\"ColumnDataSource\"}},\"id\":\"ae61f191-2631-49b8-903b-15f159210a44\",\"type\":\"CDSView\"},{\"attributes\":{\"callback\":null},\"id\":\"364997e8-96b2-4906-92f3-f7e1f67ba8b6\",\"type\":\"DataRange1d\"},{\"attributes\":{},\"id\":\"e9e645f4-8e00-4c6e-b0d9-b0bf7fa24500\",\"type\":\"LinearScale\"},{\"attributes\":{},\"id\":\"ed9653d1-e207-4302-b72c-b11462d409fa\",\"type\":\"LinearScale\"},{\"attributes\":{\"active_drag\":\"auto\",\"active_inspect\":\"auto\",\"active_scroll\":\"auto\",\"active_tap\":\"auto\",\"tools\":[{\"id\":\"9cad432c-53b7-4852-8ced-b7803472a76b\",\"type\":\"PanTool\"},{\"id\":\"f1c44ca3-3f8e-4ac2-afdd-78359aaf8249\",\"type\":\"WheelZoomTool\"},{\"id\":\"e7e33b88-9ee0-4f23-adb7-9f44902ce5f5\",\"type\":\"BoxZoomTool\"},{\"id\":\"d2c19340-b921-4f80-ac96-7c92ebafe3db\",\"type\":\"SaveTool\"},{\"id\":\"338073b4-e46d-4de5-b116-d5599375a7c0\",\"type\":\"ResetTool\"},{\"id\":\"ea5252e6-9176-49e9-b0dd-ac86fdccc0af\",\"type\":\"HelpTool\"}]},\"id\":\"0e5f0325-1311-4e21-9ea8-98ae3dd1ff1e\",\"type\":\"Toolbar\"},{\"attributes\":{\"callback\":null},\"id\":\"e05abab6-555e-4390-b1f0-a36f260b7e6d\",\"type\":\"DataRange1d\"},{\"attributes\":{\"axis_label\":\"Distance\",\"formatter\":{\"id\":\"4835f41d-ba94-452d-a054-ce19ae2f4cb2\",\"type\":\"BasicTickFormatter\"},\"plot\":{\"id\":\"472c45d0-9dcb-418a-a4e2-6582cc89de01\",\"subtype\":\"Figure\",\"type\":\"Plot\"},\"ticker\":{\"id\":\"ea8e3d4f-0aeb-4496-a8e9-6e40b071f52f\",\"type\":\"BasicTicker\"}},\"id\":\"58b74c77-e3c4-465a-b871-8fd67dfe7a47\",\"type\":\"LinearAxis\"}],\"root_ids\":[\"e2617f42-d598-4fd7-a0ba-c80af9af4c19\"]},\"title\":\"Bokeh Application\",\"version\":\"0.12.10\"}};\n",
       "    var render_items = [{\"docid\":\"53ba4d6d-c57c-46ce-a8d9-da8422e01b0a\",\"elementid\":\"9f2d72f0-f968-4ebe-83c6-280277e3a0d2\",\"modelid\":\"e2617f42-d598-4fd7-a0ba-c80af9af4c19\"}];\n",
       "\n",
       "    root.Bokeh.embed.embed_items(docs_json, render_items);\n",
       "  }\n",
       "\n",
       "  if (root.Bokeh !== undefined) {\n",
       "    embed_document(root);\n",
       "  } else {\n",
       "    var attempts = 0;\n",
       "    var timer = setInterval(function(root) {\n",
       "      if (root.Bokeh !== undefined) {\n",
       "        embed_document(root);\n",
       "        clearInterval(timer);\n",
       "      }\n",
       "      attempts++;\n",
       "      if (attempts > 100) {\n",
       "        console.log(\"Bokeh: ERROR: Unable to embed document because BokehJS library is missing\")\n",
       "        clearInterval(timer);\n",
       "      }\n",
       "    }, 10, root)\n",
       "  }\n",
       "})(window);"
      ],
      "application/vnd.bokehjs_exec.v0+json": ""
     },
     "metadata": {
      "application/vnd.bokehjs_exec.v0+json": {
       "id": "e2617f42-d598-4fd7-a0ba-c80af9af4c19"
      }
     },
     "output_type": "display_data"
    }
   ],
   "source": [
    "\n",
    "I = np.linspace(-1,1,num=11)\n",
    "cell = branched_cable()\n",
    "cell.make_cable(500,1)\n",
    "cell.add_IClamp('cable',.5,.001,100)\n",
    "\n",
    "# record at a few different points along the cable\n",
    "positions = list(np.linspace(0,1,num=51))\n",
    "keys = []\n",
    "for pos in positions:   \n",
    "    keys.append('cable:%.2f:v' % pos)\n",
    "    cell.recording_vecs([['cable',pos,'v']])\n",
    "\n",
    "t,results = run_current_clamp(cell,'iclamp',I,tstop=400)\n",
    "\n",
    "V_ss = np.zeros([I.size,len(keys)])\n",
    "ss_ind = np.where(t>95)[0][0]\n",
    "for j,key in enumerate(keys):\n",
    "    V_ss[:,j] = np.squeeze(results[key][ss_ind,:])\n",
    "slope = np.squeeze(np.diff(V_ss,axis=0).mean(axis=0))\n",
    "\n",
    "\n",
    "VI = bkp.figure(plot_height=400,plot_width=400)\n",
    "for i, color in zip(range(0,int((len(positions)+1)/2),5),colors):\n",
    "    VI.line(I,V_ss[:,i],color=color)\n",
    "VI.xaxis.axis_label = \"I (mA)\"\n",
    "VI.yaxis.axis_label = \"Steady-State V (mV)\"\n",
    "    \n",
    "S = bkp.figure(plot_height=400,plot_width=400)\n",
    "S.line(positions[int((len(positions)+1)/2):],slope[int((len(positions)+1)/2):])\n",
    "S.xaxis.axis_label = \"Distance\"\n",
    "S.yaxis.axis_label = \"Input Resistance\"\n",
    "bkp.show(bk.layouts.layout([[VI,S]]))\n"
   ]
  },
  {
   "cell_type": "code",
   "execution_count": 5,
   "metadata": {
    "collapsed": true
   },
   "outputs": [],
   "source": [
    "def get_rho(L,diam,Ra,Rm,cm,I):\n",
    "    cell = branched_cable()\n",
    "    cell.make_cable(L,diam,Ra=Ra,Rm=Rm,cm=cm)\n",
    "    cell.add_IClamp('cable',0,.001,100)\n",
    "\n",
    "    # record at a few different points along the cable\n",
    "    positions = list(np.linspace(0,1,num=101))\n",
    "    keys = []\n",
    "    for pos in positions:   \n",
    "        keys.append('cable:%.2f:v' % pos)\n",
    "        cell.recording_vecs([['cable',pos,'v']])\n",
    "\n",
    "    t,results = run_current_clamp(cell,'iclamp',[I],tstop=400)\n",
    "    ss_ind = np.where(t>95)[0][0]\n",
    "    V_half = (1-.37)*(results['cable:0.00:v'][ss_ind,:]+65)-65\n",
    "    \n",
    "    V_ss = np.zeros([101,])\n",
    "    for j,key in enumerate(keys):\n",
    "        V_ss[j] = np.squeeze(results[key][ss_ind,:])\n",
    "    \n",
    "    if I<0:\n",
    "        rho = np.where(V_ss>=V_half)[0][0]/101.*L\n",
    "    if I>0:\n",
    "        rho = np.where(V_ss<=V_half)[0][0]/101.*L\n",
    "    else:\n",
    "        rho = np.nan\n",
    "    return rho"
   ]
  },
  {
   "cell_type": "code",
   "execution_count": 6,
   "metadata": {},
   "outputs": [
    {
     "data": {
      "text/html": [
       "\n",
       "<div class=\"bk-root\">\n",
       "    <div class=\"bk-plotdiv\" id=\"e6a3deab-e706-457c-88ea-5909c5f072b9\"></div>\n",
       "</div>"
      ]
     },
     "metadata": {},
     "output_type": "display_data"
    },
    {
     "data": {
      "application/javascript": [
       "(function(root) {\n",
       "  function embed_document(root) {\n",
       "    var docs_json = {\"4d8aafeb-cbee-4dc6-a367-c279849343d0\":{\"roots\":{\"references\":[{\"attributes\":{\"plot\":{\"id\":\"fece2f4c-524f-4d3c-a6c2-e4df11b755b4\",\"subtype\":\"Figure\",\"type\":\"Plot\"},\"ticker\":{\"id\":\"7868e4db-97ee-4f17-9df7-33488ff6ea0f\",\"type\":\"BasicTicker\"}},\"id\":\"a98dbcaf-30f6-4426-8b19-842bbb3b0fcb\",\"type\":\"Grid\"},{\"attributes\":{\"overlay\":{\"id\":\"814080e8-3eeb-4979-b976-342549112fd7\",\"type\":\"BoxAnnotation\"}},\"id\":\"ce7d7ca4-206f-44b7-81cd-c379b7699013\",\"type\":\"BoxZoomTool\"},{\"attributes\":{},\"id\":\"4f85ebd4-9f88-4b61-b7f1-72daa548bdbb\",\"type\":\"SaveTool\"},{\"attributes\":{},\"id\":\"aae25e1a-3073-445a-acc5-1af687e96c5c\",\"type\":\"HelpTool\"},{\"attributes\":{},\"id\":\"198b9916-f6ee-474f-9c1e-4c3300435750\",\"type\":\"BasicTicker\"},{\"attributes\":{\"callback\":null},\"id\":\"922e4e2b-7691-4be0-aa7e-cfe2ca5d97f1\",\"type\":\"DataRange1d\"},{\"attributes\":{\"plot\":null,\"text\":\"\"},\"id\":\"b6a0f695-f450-44c9-b1ce-2305613b5a74\",\"type\":\"Title\"},{\"attributes\":{\"data_source\":{\"id\":\"429f5332-facb-4ff5-bb3d-ef7f428a5035\",\"type\":\"ColumnDataSource\"},\"glyph\":{\"id\":\"c62c2780-1e0d-438c-ac53-93593cfed0ae\",\"type\":\"Line\"},\"hover_glyph\":null,\"muted_glyph\":null,\"nonselection_glyph\":{\"id\":\"afb97476-abbc-4dfc-a419-b06a5fd69bd8\",\"type\":\"Line\"},\"selection_glyph\":null,\"view\":{\"id\":\"2a2e5dda-e0b5-4c63-93da-348ec6249fef\",\"type\":\"CDSView\"}},\"id\":\"496216bb-2eed-4ffd-966b-f8dfd19816c8\",\"type\":\"GlyphRenderer\"},{\"attributes\":{\"callback\":null},\"id\":\"18bdf195-d551-4f2c-b884-812c135ff941\",\"type\":\"DataRange1d\"},{\"attributes\":{\"source\":{\"id\":\"429f5332-facb-4ff5-bb3d-ef7f428a5035\",\"type\":\"ColumnDataSource\"}},\"id\":\"2a2e5dda-e0b5-4c63-93da-348ec6249fef\",\"type\":\"CDSView\"},{\"attributes\":{},\"id\":\"7868e4db-97ee-4f17-9df7-33488ff6ea0f\",\"type\":\"BasicTicker\"},{\"attributes\":{\"line_alpha\":{\"value\":0.1},\"line_color\":{\"value\":\"#1f77b4\"},\"x\":{\"field\":\"x\"},\"y\":{\"field\":\"y\"}},\"id\":\"afb97476-abbc-4dfc-a419-b06a5fd69bd8\",\"type\":\"Line\"},{\"attributes\":{},\"id\":\"4044eb2f-e783-4417-98ba-cc5c7db5320b\",\"type\":\"LinearScale\"},{\"attributes\":{\"line_color\":{\"value\":\"#1f77b4\"},\"x\":{\"field\":\"x\"},\"y\":{\"field\":\"y\"}},\"id\":\"c62c2780-1e0d-438c-ac53-93593cfed0ae\",\"type\":\"Line\"},{\"attributes\":{},\"id\":\"d55ed752-a7f5-4406-aa5d-bafbbf06e03a\",\"type\":\"LinearScale\"},{\"attributes\":{\"callback\":null,\"column_names\":[\"x\",\"y\"],\"data\":{\"x\":{\"__ndarray__\":\"AAAAAAAA8L8AAAAAAADgvwAAAAAAAAAAAAAAAAAA4D8AAAAAAADwPw==\",\"dtype\":\"float64\",\"shape\":[5]},\"y\":{\"__ndarray__\":\"AAAAAAAA+H8AAAAAAAD4fwAAAAAAAPh/UWDSqXmQUkBRYNKpeZBSQA==\",\"dtype\":\"float64\",\"shape\":[5]}}},\"id\":\"429f5332-facb-4ff5-bb3d-ef7f428a5035\",\"type\":\"ColumnDataSource\"},{\"attributes\":{\"axis_label\":\"rho\",\"formatter\":{\"id\":\"cba7024b-6686-4c66-9b23-270845a56f87\",\"type\":\"BasicTickFormatter\"},\"plot\":{\"id\":\"fece2f4c-524f-4d3c-a6c2-e4df11b755b4\",\"subtype\":\"Figure\",\"type\":\"Plot\"},\"ticker\":{\"id\":\"198b9916-f6ee-474f-9c1e-4c3300435750\",\"type\":\"BasicTicker\"}},\"id\":\"df033fe4-3649-4610-887f-387fa15be86a\",\"type\":\"LinearAxis\"},{\"attributes\":{\"axis_label\":\"I (mA)\",\"formatter\":{\"id\":\"93e967dc-dcdc-4f8c-9a44-bdf32015f351\",\"type\":\"BasicTickFormatter\"},\"plot\":{\"id\":\"fece2f4c-524f-4d3c-a6c2-e4df11b755b4\",\"subtype\":\"Figure\",\"type\":\"Plot\"},\"ticker\":{\"id\":\"7868e4db-97ee-4f17-9df7-33488ff6ea0f\",\"type\":\"BasicTicker\"}},\"id\":\"0d76693d-d965-4f97-9bd1-a22700dd63af\",\"type\":\"LinearAxis\"},{\"attributes\":{},\"id\":\"a048163f-ebfa-4571-915a-8e8bd9112d55\",\"type\":\"PanTool\"},{\"attributes\":{},\"id\":\"93e967dc-dcdc-4f8c-9a44-bdf32015f351\",\"type\":\"BasicTickFormatter\"},{\"attributes\":{\"active_drag\":\"auto\",\"active_inspect\":\"auto\",\"active_scroll\":\"auto\",\"active_tap\":\"auto\",\"tools\":[{\"id\":\"a048163f-ebfa-4571-915a-8e8bd9112d55\",\"type\":\"PanTool\"},{\"id\":\"6b23b9bd-0219-4591-9c54-f0b6d2d281b9\",\"type\":\"WheelZoomTool\"},{\"id\":\"ce7d7ca4-206f-44b7-81cd-c379b7699013\",\"type\":\"BoxZoomTool\"},{\"id\":\"4f85ebd4-9f88-4b61-b7f1-72daa548bdbb\",\"type\":\"SaveTool\"},{\"id\":\"226e0043-e8b0-4578-bcbb-d7cc1f344b6c\",\"type\":\"ResetTool\"},{\"id\":\"aae25e1a-3073-445a-acc5-1af687e96c5c\",\"type\":\"HelpTool\"}]},\"id\":\"5dee86cb-02ce-4ff6-b965-64613b23eb9f\",\"type\":\"Toolbar\"},{\"attributes\":{},\"id\":\"6b23b9bd-0219-4591-9c54-f0b6d2d281b9\",\"type\":\"WheelZoomTool\"},{\"attributes\":{},\"id\":\"226e0043-e8b0-4578-bcbb-d7cc1f344b6c\",\"type\":\"ResetTool\"},{\"attributes\":{\"dimension\":1,\"plot\":{\"id\":\"fece2f4c-524f-4d3c-a6c2-e4df11b755b4\",\"subtype\":\"Figure\",\"type\":\"Plot\"},\"ticker\":{\"id\":\"198b9916-f6ee-474f-9c1e-4c3300435750\",\"type\":\"BasicTicker\"}},\"id\":\"3c5858b5-49c0-4e07-8e51-f383a94ec642\",\"type\":\"Grid\"},{\"attributes\":{},\"id\":\"cba7024b-6686-4c66-9b23-270845a56f87\",\"type\":\"BasicTickFormatter\"},{\"attributes\":{\"below\":[{\"id\":\"0d76693d-d965-4f97-9bd1-a22700dd63af\",\"type\":\"LinearAxis\"}],\"left\":[{\"id\":\"df033fe4-3649-4610-887f-387fa15be86a\",\"type\":\"LinearAxis\"}],\"plot_height\":400,\"plot_width\":400,\"renderers\":[{\"id\":\"0d76693d-d965-4f97-9bd1-a22700dd63af\",\"type\":\"LinearAxis\"},{\"id\":\"a98dbcaf-30f6-4426-8b19-842bbb3b0fcb\",\"type\":\"Grid\"},{\"id\":\"df033fe4-3649-4610-887f-387fa15be86a\",\"type\":\"LinearAxis\"},{\"id\":\"3c5858b5-49c0-4e07-8e51-f383a94ec642\",\"type\":\"Grid\"},{\"id\":\"814080e8-3eeb-4979-b976-342549112fd7\",\"type\":\"BoxAnnotation\"},{\"id\":\"496216bb-2eed-4ffd-966b-f8dfd19816c8\",\"type\":\"GlyphRenderer\"}],\"title\":{\"id\":\"b6a0f695-f450-44c9-b1ce-2305613b5a74\",\"type\":\"Title\"},\"toolbar\":{\"id\":\"5dee86cb-02ce-4ff6-b965-64613b23eb9f\",\"type\":\"Toolbar\"},\"x_range\":{\"id\":\"18bdf195-d551-4f2c-b884-812c135ff941\",\"type\":\"DataRange1d\"},\"x_scale\":{\"id\":\"d55ed752-a7f5-4406-aa5d-bafbbf06e03a\",\"type\":\"LinearScale\"},\"y_range\":{\"id\":\"922e4e2b-7691-4be0-aa7e-cfe2ca5d97f1\",\"type\":\"DataRange1d\"},\"y_scale\":{\"id\":\"4044eb2f-e783-4417-98ba-cc5c7db5320b\",\"type\":\"LinearScale\"}},\"id\":\"fece2f4c-524f-4d3c-a6c2-e4df11b755b4\",\"subtype\":\"Figure\",\"type\":\"Plot\"},{\"attributes\":{\"bottom_units\":\"screen\",\"fill_alpha\":{\"value\":0.5},\"fill_color\":{\"value\":\"lightgrey\"},\"left_units\":\"screen\",\"level\":\"overlay\",\"line_alpha\":{\"value\":1.0},\"line_color\":{\"value\":\"black\"},\"line_dash\":[4,4],\"line_width\":{\"value\":2},\"plot\":null,\"render_mode\":\"css\",\"right_units\":\"screen\",\"top_units\":\"screen\"},\"id\":\"814080e8-3eeb-4979-b976-342549112fd7\",\"type\":\"BoxAnnotation\"}],\"root_ids\":[\"fece2f4c-524f-4d3c-a6c2-e4df11b755b4\"]},\"title\":\"Bokeh Application\",\"version\":\"0.12.10\"}};\n",
       "    var render_items = [{\"docid\":\"4d8aafeb-cbee-4dc6-a367-c279849343d0\",\"elementid\":\"e6a3deab-e706-457c-88ea-5909c5f072b9\",\"modelid\":\"fece2f4c-524f-4d3c-a6c2-e4df11b755b4\"}];\n",
       "\n",
       "    root.Bokeh.embed.embed_items(docs_json, render_items);\n",
       "  }\n",
       "\n",
       "  if (root.Bokeh !== undefined) {\n",
       "    embed_document(root);\n",
       "  } else {\n",
       "    var attempts = 0;\n",
       "    var timer = setInterval(function(root) {\n",
       "      if (root.Bokeh !== undefined) {\n",
       "        embed_document(root);\n",
       "        clearInterval(timer);\n",
       "      }\n",
       "      attempts++;\n",
       "      if (attempts > 100) {\n",
       "        console.log(\"Bokeh: ERROR: Unable to embed document because BokehJS library is missing\")\n",
       "        clearInterval(timer);\n",
       "      }\n",
       "    }, 10, root)\n",
       "  }\n",
       "})(window);"
      ],
      "application/vnd.bokehjs_exec.v0+json": ""
     },
     "metadata": {
      "application/vnd.bokehjs_exec.v0+json": {
       "id": "fece2f4c-524f-4d3c-a6c2-e4df11b755b4"
      }
     },
     "output_type": "display_data"
    }
   ],
   "source": [
    "# show rho (length constant) is invariant to current strength\n",
    "I = np.linspace(-1,1,num=5)\n",
    "RHO = np.zeros([I.size,])\n",
    "for i,curr in enumerate(list(I)):\n",
    "    RHO[i] = get_rho(500,1,300,2800,1,curr)\n",
    "\n",
    "R = bkp.figure(plot_height = 400,plot_width=400)\n",
    "R.line(I,RHO)\n",
    "R.xaxis.axis_label= \"I (mA)\"\n",
    "R.yaxis.axis_label = \"rho\"\n",
    "bkp.show(R)"
   ]
  },
  {
   "cell_type": "code",
   "execution_count": 7,
   "metadata": {},
   "outputs": [
    {
     "data": {
      "text/html": [
       "\n",
       "<div class=\"bk-root\">\n",
       "    <div class=\"bk-plotdiv\" id=\"21aba600-4b5a-466a-a88f-f217f022a953\"></div>\n",
       "</div>"
      ]
     },
     "metadata": {},
     "output_type": "display_data"
    },
    {
     "data": {
      "application/javascript": [
       "(function(root) {\n",
       "  function embed_document(root) {\n",
       "    var docs_json = {\"4f0e41bf-3550-4f4b-93f5-a339448a3322\":{\"roots\":{\"references\":[{\"attributes\":{\"line_color\":{\"value\":\"#1f77b4\"},\"x\":{\"field\":\"x\"},\"y\":{\"field\":\"y\"}},\"id\":\"40e756ca-327e-4565-af3e-be22b4bcdc07\",\"type\":\"Line\"},{\"attributes\":{},\"id\":\"f754dfe0-c567-4d18-8bf6-3ccb2c2ab60c\",\"type\":\"BasicTicker\"},{\"attributes\":{\"callback\":null,\"column_names\":[\"x\",\"y\"],\"data\":{\"x\":{\"__ndarray__\":\"mpmZmZmZuT80MzMzMzPzP2dmZmZmZgJANDMzMzMzC0AAAAAAAAASQGZmZmZmZhZAzczMzMzMGkA0MzMzMzMfQM3MzMzMzCFAAAAAAAAAJEA=\",\"dtype\":\"float64\",\"shape\":[10]},\"y\":{\"__ndarray__\":\"34gCk07NM0BOzYPc9bNNQG2xMnwjClVApFPzIHf9WUDc9bPFyvBeQApMOjUP8mFAJp2aB7lrZEBC7vrZYuVmQF4/W6wMX2lAwaRT8yB3bEA=\",\"dtype\":\"float64\",\"shape\":[10]}}},\"id\":\"5196a8f6-c263-46fe-96aa-7b4f19d4d600\",\"type\":\"ColumnDataSource\"},{\"attributes\":{\"plot\":null,\"text\":\"\"},\"id\":\"dfd0e04e-51ff-4ac0-9fb9-43c4a096630e\",\"type\":\"Title\"},{\"attributes\":{},\"id\":\"5314884e-a4bb-47d7-b510-b1d4f1589f57\",\"type\":\"BasicTickFormatter\"},{\"attributes\":{\"bottom_units\":\"screen\",\"fill_alpha\":{\"value\":0.5},\"fill_color\":{\"value\":\"lightgrey\"},\"left_units\":\"screen\",\"level\":\"overlay\",\"line_alpha\":{\"value\":1.0},\"line_color\":{\"value\":\"black\"},\"line_dash\":[4,4],\"line_width\":{\"value\":2},\"plot\":null,\"render_mode\":\"css\",\"right_units\":\"screen\",\"top_units\":\"screen\"},\"id\":\"35d3b61c-fbe5-43b0-95de-896a2c913ce9\",\"type\":\"BoxAnnotation\"},{\"attributes\":{},\"id\":\"8366f30e-167f-4229-bf5a-9162f9e5d280\",\"type\":\"WheelZoomTool\"},{\"attributes\":{\"below\":[{\"id\":\"ff45579f-9000-41bb-ab2c-cef0cc7c6079\",\"type\":\"LinearAxis\"}],\"left\":[{\"id\":\"a9ee0268-dd90-42d3-9d2b-4068531d48a4\",\"type\":\"LinearAxis\"}],\"plot_height\":400,\"plot_width\":400,\"renderers\":[{\"id\":\"ff45579f-9000-41bb-ab2c-cef0cc7c6079\",\"type\":\"LinearAxis\"},{\"id\":\"14fad5c1-765a-46d4-8dfc-22d17aac3987\",\"type\":\"Grid\"},{\"id\":\"a9ee0268-dd90-42d3-9d2b-4068531d48a4\",\"type\":\"LinearAxis\"},{\"id\":\"8228381e-741d-44e2-b66f-4846983f27f8\",\"type\":\"Grid\"},{\"id\":\"35d3b61c-fbe5-43b0-95de-896a2c913ce9\",\"type\":\"BoxAnnotation\"},{\"id\":\"66433b29-77b3-4a9c-9937-5ad29e94cdc3\",\"type\":\"GlyphRenderer\"}],\"title\":{\"id\":\"dfd0e04e-51ff-4ac0-9fb9-43c4a096630e\",\"type\":\"Title\"},\"toolbar\":{\"id\":\"b5dcc95e-0dc8-4864-8278-4e39420c90f7\",\"type\":\"Toolbar\"},\"x_range\":{\"id\":\"1af16da2-91e4-44c2-8b60-5585b043f173\",\"type\":\"DataRange1d\"},\"x_scale\":{\"id\":\"a184ff80-668b-4b66-87da-a9ca37085350\",\"type\":\"LinearScale\"},\"y_range\":{\"id\":\"0c04c70e-8f22-4b45-b2d5-1ccda621cb94\",\"type\":\"DataRange1d\"},\"y_scale\":{\"id\":\"3b3ae459-3b1a-41e2-a74a-d0fe1939cc56\",\"type\":\"LinearScale\"}},\"id\":\"85f5e5b6-e085-49ff-9810-6f37e5c45231\",\"subtype\":\"Figure\",\"type\":\"Plot\"},{\"attributes\":{},\"id\":\"3b3ae459-3b1a-41e2-a74a-d0fe1939cc56\",\"type\":\"LinearScale\"},{\"attributes\":{\"callback\":null},\"id\":\"0c04c70e-8f22-4b45-b2d5-1ccda621cb94\",\"type\":\"DataRange1d\"},{\"attributes\":{},\"id\":\"3355ac62-289e-4079-94d0-8c98b74b5c23\",\"type\":\"PanTool\"},{\"attributes\":{\"callback\":null},\"id\":\"1af16da2-91e4-44c2-8b60-5585b043f173\",\"type\":\"DataRange1d\"},{\"attributes\":{\"dimension\":1,\"plot\":{\"id\":\"85f5e5b6-e085-49ff-9810-6f37e5c45231\",\"subtype\":\"Figure\",\"type\":\"Plot\"},\"ticker\":{\"id\":\"0299a69a-c4af-4a88-a05f-4269bca0110d\",\"type\":\"BasicTicker\"}},\"id\":\"8228381e-741d-44e2-b66f-4846983f27f8\",\"type\":\"Grid\"},{\"attributes\":{},\"id\":\"a184ff80-668b-4b66-87da-a9ca37085350\",\"type\":\"LinearScale\"},{\"attributes\":{\"axis_label\":\"diameter (microns)\",\"formatter\":{\"id\":\"5314884e-a4bb-47d7-b510-b1d4f1589f57\",\"type\":\"BasicTickFormatter\"},\"plot\":{\"id\":\"85f5e5b6-e085-49ff-9810-6f37e5c45231\",\"subtype\":\"Figure\",\"type\":\"Plot\"},\"ticker\":{\"id\":\"f754dfe0-c567-4d18-8bf6-3ccb2c2ab60c\",\"type\":\"BasicTicker\"}},\"id\":\"ff45579f-9000-41bb-ab2c-cef0cc7c6079\",\"type\":\"LinearAxis\"},{\"attributes\":{\"overlay\":{\"id\":\"35d3b61c-fbe5-43b0-95de-896a2c913ce9\",\"type\":\"BoxAnnotation\"}},\"id\":\"b24f3c13-9c5e-4503-a4e0-2b697ef4280a\",\"type\":\"BoxZoomTool\"},{\"attributes\":{},\"id\":\"0299a69a-c4af-4a88-a05f-4269bca0110d\",\"type\":\"BasicTicker\"},{\"attributes\":{\"axis_label\":\"rho\",\"formatter\":{\"id\":\"de011d63-24c4-4933-a5bc-8a21ba100cd0\",\"type\":\"BasicTickFormatter\"},\"plot\":{\"id\":\"85f5e5b6-e085-49ff-9810-6f37e5c45231\",\"subtype\":\"Figure\",\"type\":\"Plot\"},\"ticker\":{\"id\":\"0299a69a-c4af-4a88-a05f-4269bca0110d\",\"type\":\"BasicTicker\"}},\"id\":\"a9ee0268-dd90-42d3-9d2b-4068531d48a4\",\"type\":\"LinearAxis\"},{\"attributes\":{\"data_source\":{\"id\":\"5196a8f6-c263-46fe-96aa-7b4f19d4d600\",\"type\":\"ColumnDataSource\"},\"glyph\":{\"id\":\"40e756ca-327e-4565-af3e-be22b4bcdc07\",\"type\":\"Line\"},\"hover_glyph\":null,\"muted_glyph\":null,\"nonselection_glyph\":{\"id\":\"84b8489a-8869-4120-aff1-774adfcec0f3\",\"type\":\"Line\"},\"selection_glyph\":null,\"view\":{\"id\":\"520f8647-26cf-4d21-b1a6-92e2f7db15af\",\"type\":\"CDSView\"}},\"id\":\"66433b29-77b3-4a9c-9937-5ad29e94cdc3\",\"type\":\"GlyphRenderer\"},{\"attributes\":{},\"id\":\"df0ad35f-17b7-489c-895c-ba5ac6ca80b6\",\"type\":\"SaveTool\"},{\"attributes\":{\"active_drag\":\"auto\",\"active_inspect\":\"auto\",\"active_scroll\":\"auto\",\"active_tap\":\"auto\",\"tools\":[{\"id\":\"3355ac62-289e-4079-94d0-8c98b74b5c23\",\"type\":\"PanTool\"},{\"id\":\"8366f30e-167f-4229-bf5a-9162f9e5d280\",\"type\":\"WheelZoomTool\"},{\"id\":\"b24f3c13-9c5e-4503-a4e0-2b697ef4280a\",\"type\":\"BoxZoomTool\"},{\"id\":\"df0ad35f-17b7-489c-895c-ba5ac6ca80b6\",\"type\":\"SaveTool\"},{\"id\":\"447417b5-735c-4dfb-801f-eb7ed35dc076\",\"type\":\"ResetTool\"},{\"id\":\"121dd974-0f9e-4e6c-954f-477523b88fd2\",\"type\":\"HelpTool\"}]},\"id\":\"b5dcc95e-0dc8-4864-8278-4e39420c90f7\",\"type\":\"Toolbar\"},{\"attributes\":{},\"id\":\"de011d63-24c4-4933-a5bc-8a21ba100cd0\",\"type\":\"BasicTickFormatter\"},{\"attributes\":{\"plot\":{\"id\":\"85f5e5b6-e085-49ff-9810-6f37e5c45231\",\"subtype\":\"Figure\",\"type\":\"Plot\"},\"ticker\":{\"id\":\"f754dfe0-c567-4d18-8bf6-3ccb2c2ab60c\",\"type\":\"BasicTicker\"}},\"id\":\"14fad5c1-765a-46d4-8dfc-22d17aac3987\",\"type\":\"Grid\"},{\"attributes\":{\"source\":{\"id\":\"5196a8f6-c263-46fe-96aa-7b4f19d4d600\",\"type\":\"ColumnDataSource\"}},\"id\":\"520f8647-26cf-4d21-b1a6-92e2f7db15af\",\"type\":\"CDSView\"},{\"attributes\":{},\"id\":\"447417b5-735c-4dfb-801f-eb7ed35dc076\",\"type\":\"ResetTool\"},{\"attributes\":{\"line_alpha\":{\"value\":0.1},\"line_color\":{\"value\":\"#1f77b4\"},\"x\":{\"field\":\"x\"},\"y\":{\"field\":\"y\"}},\"id\":\"84b8489a-8869-4120-aff1-774adfcec0f3\",\"type\":\"Line\"},{\"attributes\":{},\"id\":\"121dd974-0f9e-4e6c-954f-477523b88fd2\",\"type\":\"HelpTool\"}],\"root_ids\":[\"85f5e5b6-e085-49ff-9810-6f37e5c45231\"]},\"title\":\"Bokeh Application\",\"version\":\"0.12.10\"}};\n",
       "    var render_items = [{\"docid\":\"4f0e41bf-3550-4f4b-93f5-a339448a3322\",\"elementid\":\"21aba600-4b5a-466a-a88f-f217f022a953\",\"modelid\":\"85f5e5b6-e085-49ff-9810-6f37e5c45231\"}];\n",
       "\n",
       "    root.Bokeh.embed.embed_items(docs_json, render_items);\n",
       "  }\n",
       "\n",
       "  if (root.Bokeh !== undefined) {\n",
       "    embed_document(root);\n",
       "  } else {\n",
       "    var attempts = 0;\n",
       "    var timer = setInterval(function(root) {\n",
       "      if (root.Bokeh !== undefined) {\n",
       "        embed_document(root);\n",
       "        clearInterval(timer);\n",
       "      }\n",
       "      attempts++;\n",
       "      if (attempts > 100) {\n",
       "        console.log(\"Bokeh: ERROR: Unable to embed document because BokehJS library is missing\")\n",
       "        clearInterval(timer);\n",
       "      }\n",
       "    }, 10, root)\n",
       "  }\n",
       "})(window);"
      ],
      "application/vnd.bokehjs_exec.v0+json": ""
     },
     "metadata": {
      "application/vnd.bokehjs_exec.v0+json": {
       "id": "85f5e5b6-e085-49ff-9810-6f37e5c45231"
      }
     },
     "output_type": "display_data"
    }
   ],
   "source": [
    "# rho as a function of diam\n",
    "diams = np.linspace(.1,10,num=10)\n",
    "RHO = np.zeros([diams.size,])\n",
    "for i,d in enumerate(list(diams)):\n",
    "    RHO[i] = get_rho(500,d,500,2800,1,1)\n",
    "    \n",
    "R = bkp.figure(plot_height = 400,plot_width=400)\n",
    "R.line(diams,RHO)\n",
    "R.xaxis.axis_label= \"diameter (microns)\"\n",
    "R.yaxis.axis_label = \"rho\"\n",
    "bkp.show(R)"
   ]
  },
  {
   "cell_type": "code",
   "execution_count": 8,
   "metadata": {},
   "outputs": [
    {
     "data": {
      "text/html": [
       "\n",
       "<div class=\"bk-root\">\n",
       "    <div class=\"bk-plotdiv\" id=\"d1073d35-5660-4932-91e1-667220261216\"></div>\n",
       "</div>"
      ]
     },
     "metadata": {},
     "output_type": "display_data"
    },
    {
     "data": {
      "application/javascript": [
       "(function(root) {\n",
       "  function embed_document(root) {\n",
       "    var docs_json = {\"ee8c35f5-299c-40c6-8d13-0735f5ad6ae3\":{\"roots\":{\"references\":[{\"attributes\":{\"source\":{\"id\":\"a35bfc72-e8e6-4b6f-899f-345c0a515305\",\"type\":\"ColumnDataSource\"}},\"id\":\"d3c9423f-514b-4e13-94cb-5f84f32328f1\",\"type\":\"CDSView\"},{\"attributes\":{\"callback\":null},\"id\":\"9bde5e5c-abee-40e7-a594-fb6f99adf7a7\",\"type\":\"DataRange1d\"},{\"attributes\":{},\"id\":\"90bc81ad-e9a5-4c5c-9eb0-963c3e4f3535\",\"type\":\"SaveTool\"},{\"attributes\":{},\"id\":\"16507836-6c54-4672-b4bb-78f5563dbe67\",\"type\":\"LinearScale\"},{\"attributes\":{\"bottom_units\":\"screen\",\"fill_alpha\":{\"value\":0.5},\"fill_color\":{\"value\":\"lightgrey\"},\"left_units\":\"screen\",\"level\":\"overlay\",\"line_alpha\":{\"value\":1.0},\"line_color\":{\"value\":\"black\"},\"line_dash\":[4,4],\"line_width\":{\"value\":2},\"plot\":null,\"render_mode\":\"css\",\"right_units\":\"screen\",\"top_units\":\"screen\"},\"id\":\"e064739f-0af5-4ef6-aca1-01829b2cbf53\",\"type\":\"BoxAnnotation\"},{\"attributes\":{},\"id\":\"f06132d3-8b3a-41fd-aa76-87540865d4ab\",\"type\":\"WheelZoomTool\"},{\"attributes\":{},\"id\":\"e634dcd4-e67f-4f2d-87a7-704b4ff06390\",\"type\":\"ResetTool\"},{\"attributes\":{\"axis_label\":\"rho\",\"formatter\":{\"id\":\"60b99e10-35c0-427c-acd9-24469bd042fc\",\"type\":\"BasicTickFormatter\"},\"plot\":{\"id\":\"c105366d-b975-4154-b136-f80195c848de\",\"subtype\":\"Figure\",\"type\":\"Plot\"},\"ticker\":{\"id\":\"20253db1-eaad-42b8-b94a-39b776900e70\",\"type\":\"BasicTicker\"}},\"id\":\"ea359384-e378-4c6a-bde8-911ac37af41d\",\"type\":\"LinearAxis\"},{\"attributes\":{},\"id\":\"60ab34bb-5489-4120-b1f3-813c066fcc67\",\"type\":\"HelpTool\"},{\"attributes\":{\"plot\":null,\"text\":\"\"},\"id\":\"59db1987-7200-4a07-b204-02dbb2007b0c\",\"type\":\"Title\"},{\"attributes\":{},\"id\":\"06c51c60-b45d-4017-b461-229996b08a28\",\"type\":\"BasicTicker\"},{\"attributes\":{},\"id\":\"b42fd707-991f-4ed4-b43a-ad39a474f76b\",\"type\":\"BasicTickFormatter\"},{\"attributes\":{\"overlay\":{\"id\":\"e064739f-0af5-4ef6-aca1-01829b2cbf53\",\"type\":\"BoxAnnotation\"}},\"id\":\"2c2ee8c3-1fdb-46cd-b80e-74efdd155cee\",\"type\":\"BoxZoomTool\"},{\"attributes\":{\"line_alpha\":{\"value\":0.1},\"line_color\":{\"value\":\"#1f77b4\"},\"x\":{\"field\":\"x\"},\"y\":{\"field\":\"y\"}},\"id\":\"6df16402-73b4-4ac5-9ea1-b68ae83566f8\",\"type\":\"Line\"},{\"attributes\":{},\"id\":\"60b99e10-35c0-427c-acd9-24469bd042fc\",\"type\":\"BasicTickFormatter\"},{\"attributes\":{},\"id\":\"20253db1-eaad-42b8-b94a-39b776900e70\",\"type\":\"BasicTicker\"},{\"attributes\":{\"dimension\":1,\"plot\":{\"id\":\"c105366d-b975-4154-b136-f80195c848de\",\"subtype\":\"Figure\",\"type\":\"Plot\"},\"ticker\":{\"id\":\"20253db1-eaad-42b8-b94a-39b776900e70\",\"type\":\"BasicTicker\"}},\"id\":\"e480d074-ee3b-4528-a6ff-9e16cc8608f8\",\"type\":\"Grid\"},{\"attributes\":{\"active_drag\":\"auto\",\"active_inspect\":\"auto\",\"active_scroll\":\"auto\",\"active_tap\":\"auto\",\"tools\":[{\"id\":\"1c687fb0-ab5c-43ad-a877-4c76cd6282fb\",\"type\":\"PanTool\"},{\"id\":\"f06132d3-8b3a-41fd-aa76-87540865d4ab\",\"type\":\"WheelZoomTool\"},{\"id\":\"2c2ee8c3-1fdb-46cd-b80e-74efdd155cee\",\"type\":\"BoxZoomTool\"},{\"id\":\"90bc81ad-e9a5-4c5c-9eb0-963c3e4f3535\",\"type\":\"SaveTool\"},{\"id\":\"e634dcd4-e67f-4f2d-87a7-704b4ff06390\",\"type\":\"ResetTool\"},{\"id\":\"60ab34bb-5489-4120-b1f3-813c066fcc67\",\"type\":\"HelpTool\"}]},\"id\":\"7121bb8b-45b2-4f60-9f95-68d43d062f57\",\"type\":\"Toolbar\"},{\"attributes\":{\"callback\":null},\"id\":\"c2665ce3-38ec-4c9f-8229-c754217c83c2\",\"type\":\"DataRange1d\"},{\"attributes\":{\"below\":[{\"id\":\"674d23ee-6eba-43d2-a9d8-57b227d4fb36\",\"type\":\"LinearAxis\"}],\"left\":[{\"id\":\"ea359384-e378-4c6a-bde8-911ac37af41d\",\"type\":\"LinearAxis\"}],\"plot_height\":400,\"plot_width\":400,\"renderers\":[{\"id\":\"674d23ee-6eba-43d2-a9d8-57b227d4fb36\",\"type\":\"LinearAxis\"},{\"id\":\"5707c3b1-ed9a-4344-b53f-058805902374\",\"type\":\"Grid\"},{\"id\":\"ea359384-e378-4c6a-bde8-911ac37af41d\",\"type\":\"LinearAxis\"},{\"id\":\"e480d074-ee3b-4528-a6ff-9e16cc8608f8\",\"type\":\"Grid\"},{\"id\":\"e064739f-0af5-4ef6-aca1-01829b2cbf53\",\"type\":\"BoxAnnotation\"},{\"id\":\"ced3cd5f-758d-4759-8e55-98be305f6a59\",\"type\":\"GlyphRenderer\"}],\"title\":{\"id\":\"59db1987-7200-4a07-b204-02dbb2007b0c\",\"type\":\"Title\"},\"toolbar\":{\"id\":\"7121bb8b-45b2-4f60-9f95-68d43d062f57\",\"type\":\"Toolbar\"},\"x_range\":{\"id\":\"c2665ce3-38ec-4c9f-8229-c754217c83c2\",\"type\":\"DataRange1d\"},\"x_scale\":{\"id\":\"16507836-6c54-4672-b4bb-78f5563dbe67\",\"type\":\"LinearScale\"},\"y_range\":{\"id\":\"9bde5e5c-abee-40e7-a594-fb6f99adf7a7\",\"type\":\"DataRange1d\"},\"y_scale\":{\"id\":\"4f0e823c-0118-4707-adad-57fc42a456fc\",\"type\":\"LinearScale\"}},\"id\":\"c105366d-b975-4154-b136-f80195c848de\",\"subtype\":\"Figure\",\"type\":\"Plot\"},{\"attributes\":{},\"id\":\"4f0e823c-0118-4707-adad-57fc42a456fc\",\"type\":\"LinearScale\"},{\"attributes\":{\"data_source\":{\"id\":\"a35bfc72-e8e6-4b6f-899f-345c0a515305\",\"type\":\"ColumnDataSource\"},\"glyph\":{\"id\":\"57ae9744-c29e-4f30-b2f5-b0b075d8a740\",\"type\":\"Line\"},\"hover_glyph\":null,\"muted_glyph\":null,\"nonselection_glyph\":{\"id\":\"6df16402-73b4-4ac5-9ea1-b68ae83566f8\",\"type\":\"Line\"},\"selection_glyph\":null,\"view\":{\"id\":\"d3c9423f-514b-4e13-94cb-5f84f32328f1\",\"type\":\"CDSView\"}},\"id\":\"ced3cd5f-758d-4759-8e55-98be305f6a59\",\"type\":\"GlyphRenderer\"},{\"attributes\":{},\"id\":\"1c687fb0-ab5c-43ad-a877-4c76cd6282fb\",\"type\":\"PanTool\"},{\"attributes\":{\"line_color\":{\"value\":\"#1f77b4\"},\"x\":{\"field\":\"x\"},\"y\":{\"field\":\"y\"}},\"id\":\"57ae9744-c29e-4f30-b2f5-b0b075d8a740\",\"type\":\"Line\"},{\"attributes\":{\"axis_label\":\"membrane resistance\",\"formatter\":{\"id\":\"b42fd707-991f-4ed4-b43a-ad39a474f76b\",\"type\":\"BasicTickFormatter\"},\"plot\":{\"id\":\"c105366d-b975-4154-b136-f80195c848de\",\"subtype\":\"Figure\",\"type\":\"Plot\"},\"ticker\":{\"id\":\"06c51c60-b45d-4017-b461-229996b08a28\",\"type\":\"BasicTicker\"}},\"id\":\"674d23ee-6eba-43d2-a9d8-57b227d4fb36\",\"type\":\"LinearAxis\"},{\"attributes\":{\"callback\":null,\"column_names\":[\"x\",\"y\"],\"data\":{\"x\":{\"__ndarray__\":\"AAAAAAAAWUB+L+jlMO5qQBCJR8mKAn1AAAAAAABAj0CqHbGP3tSgQKq1zL2WIbJAAAAAAACIw0AUZZ0zFgrVQA7jP238qeZAAAAAAABq+EA=\",\"dtype\":\"float64\",\"shape\":[10]},\"y\":{\"__ndarray__\":\"34gCk07NI0BOzYPc9bMtQBcrwzeiwDhAxDeiwKRTQUAXK8M3osBIQFFg0ql5kFJAM3wjCkw6W0AmnZoHuWtkQHqQu3622GtAxDeiwKRTcUA=\",\"dtype\":\"float64\",\"shape\":[10]}}},\"id\":\"a35bfc72-e8e6-4b6f-899f-345c0a515305\",\"type\":\"ColumnDataSource\"},{\"attributes\":{\"plot\":{\"id\":\"c105366d-b975-4154-b136-f80195c848de\",\"subtype\":\"Figure\",\"type\":\"Plot\"},\"ticker\":{\"id\":\"06c51c60-b45d-4017-b461-229996b08a28\",\"type\":\"BasicTicker\"}},\"id\":\"5707c3b1-ed9a-4344-b53f-058805902374\",\"type\":\"Grid\"}],\"root_ids\":[\"c105366d-b975-4154-b136-f80195c848de\"]},\"title\":\"Bokeh Application\",\"version\":\"0.12.10\"}};\n",
       "    var render_items = [{\"docid\":\"ee8c35f5-299c-40c6-8d13-0735f5ad6ae3\",\"elementid\":\"d1073d35-5660-4932-91e1-667220261216\",\"modelid\":\"c105366d-b975-4154-b136-f80195c848de\"}];\n",
       "\n",
       "    root.Bokeh.embed.embed_items(docs_json, render_items);\n",
       "  }\n",
       "\n",
       "  if (root.Bokeh !== undefined) {\n",
       "    embed_document(root);\n",
       "  } else {\n",
       "    var attempts = 0;\n",
       "    var timer = setInterval(function(root) {\n",
       "      if (root.Bokeh !== undefined) {\n",
       "        embed_document(root);\n",
       "        clearInterval(timer);\n",
       "      }\n",
       "      attempts++;\n",
       "      if (attempts > 100) {\n",
       "        console.log(\"Bokeh: ERROR: Unable to embed document because BokehJS library is missing\")\n",
       "        clearInterval(timer);\n",
       "      }\n",
       "    }, 10, root)\n",
       "  }\n",
       "})(window);"
      ],
      "application/vnd.bokehjs_exec.v0+json": ""
     },
     "metadata": {
      "application/vnd.bokehjs_exec.v0+json": {
       "id": "c105366d-b975-4154-b136-f80195c848de"
      }
     },
     "output_type": "display_data"
    }
   ],
   "source": [
    "# rho as a function of Rm\n",
    "Rms = np.logspace(2,5,num=10)\n",
    "RHO = np.zeros([Rms.size,])\n",
    "for i,Rm in enumerate(list(Rms)):\n",
    "    RHO[i] = get_rho(500,1,500,Rm,1,1)\n",
    "    \n",
    "R = bkp.figure(plot_height = 400,plot_width=400)\n",
    "R.line(Rms,RHO)\n",
    "R.xaxis.axis_label= \"membrane resistance\"\n",
    "R.yaxis.axis_label = \"rho\"\n",
    "bkp.show(R)"
   ]
  },
  {
   "cell_type": "code",
   "execution_count": 9,
   "metadata": {},
   "outputs": [
    {
     "data": {
      "text/html": [
       "\n",
       "<div class=\"bk-root\">\n",
       "    <div class=\"bk-plotdiv\" id=\"53e2eea2-7c18-4ad2-81b0-b5d041ec0e28\"></div>\n",
       "</div>"
      ]
     },
     "metadata": {},
     "output_type": "display_data"
    },
    {
     "data": {
      "application/javascript": [
       "(function(root) {\n",
       "  function embed_document(root) {\n",
       "    var docs_json = {\"152e9f37-ecec-4c71-b59d-657a87830361\":{\"roots\":{\"references\":[{\"attributes\":{\"axis_label\":\"Cm\",\"formatter\":{\"id\":\"f1f5e63e-b5cb-4002-86e2-65da70e7338a\",\"type\":\"BasicTickFormatter\"},\"plot\":{\"id\":\"39b8085a-6833-4696-b387-54329584ac8c\",\"subtype\":\"Figure\",\"type\":\"Plot\"},\"ticker\":{\"id\":\"cf812250-81d9-41de-8bb5-bd906fd1ac54\",\"type\":\"BasicTicker\"}},\"id\":\"6f983a5e-b799-407a-8ee2-60591021bce0\",\"type\":\"LinearAxis\"},{\"attributes\":{\"dimension\":1,\"plot\":{\"id\":\"39b8085a-6833-4696-b387-54329584ac8c\",\"subtype\":\"Figure\",\"type\":\"Plot\"},\"ticker\":{\"id\":\"294f43a6-df68-48b3-9dd1-1026079b6cfa\",\"type\":\"BasicTicker\"}},\"id\":\"26cc8738-0b88-4498-8f94-6aef61d932a0\",\"type\":\"Grid\"},{\"attributes\":{\"active_drag\":\"auto\",\"active_inspect\":\"auto\",\"active_scroll\":\"auto\",\"active_tap\":\"auto\",\"tools\":[{\"id\":\"fdf32049-4b00-412f-b21a-f5dc976725ba\",\"type\":\"PanTool\"},{\"id\":\"7657313f-ecac-45d8-8647-78b68ad94a46\",\"type\":\"WheelZoomTool\"},{\"id\":\"1e1b9f75-d8af-4cbc-ac9b-954ed7e824c7\",\"type\":\"BoxZoomTool\"},{\"id\":\"ce5172c4-5e76-4eea-a2bf-17a96eb9fdea\",\"type\":\"SaveTool\"},{\"id\":\"ed717f5b-7e56-4674-819f-1f8251a4e861\",\"type\":\"ResetTool\"},{\"id\":\"7f508c9e-cb22-4977-9a05-81af26ebf52b\",\"type\":\"HelpTool\"}]},\"id\":\"5ba4148a-8dfa-46bc-be38-59953ad4031e\",\"type\":\"Toolbar\"},{\"attributes\":{},\"id\":\"e294c840-631f-42d6-ac9e-1f24067f8b8b\",\"type\":\"LinearScale\"},{\"attributes\":{},\"id\":\"401f8533-a46f-4e98-98ec-1e2b8ac36f94\",\"type\":\"BasicTickFormatter\"},{\"attributes\":{\"source\":{\"id\":\"413e6e1e-b4c5-45b4-b377-a22fbf853a22\",\"type\":\"ColumnDataSource\"}},\"id\":\"7b269024-d645-49bb-9201-8462e93c150c\",\"type\":\"CDSView\"},{\"attributes\":{\"plot\":null,\"text\":\"\"},\"id\":\"b4069af5-4611-4777-ab61-aed86f713c4f\",\"type\":\"Title\"},{\"attributes\":{\"callback\":null},\"id\":\"1bfbc881-8e39-4864-b5c4-9c5bb1a7dac2\",\"type\":\"DataRange1d\"},{\"attributes\":{\"line_alpha\":{\"value\":0.1},\"line_color\":{\"value\":\"#1f77b4\"},\"x\":{\"field\":\"x\"},\"y\":{\"field\":\"y\"}},\"id\":\"5b8ba8db-d5ca-4110-8fa5-f43e27b0f2bb\",\"type\":\"Line\"},{\"attributes\":{\"overlay\":{\"id\":\"adbebc47-b157-4802-9560-44d83858c0f9\",\"type\":\"BoxAnnotation\"}},\"id\":\"1e1b9f75-d8af-4cbc-ac9b-954ed7e824c7\",\"type\":\"BoxZoomTool\"},{\"attributes\":{},\"id\":\"fdf32049-4b00-412f-b21a-f5dc976725ba\",\"type\":\"PanTool\"},{\"attributes\":{},\"id\":\"ed717f5b-7e56-4674-819f-1f8251a4e861\",\"type\":\"ResetTool\"},{\"attributes\":{},\"id\":\"7f508c9e-cb22-4977-9a05-81af26ebf52b\",\"type\":\"HelpTool\"},{\"attributes\":{},\"id\":\"294f43a6-df68-48b3-9dd1-1026079b6cfa\",\"type\":\"BasicTicker\"},{\"attributes\":{\"plot\":{\"id\":\"39b8085a-6833-4696-b387-54329584ac8c\",\"subtype\":\"Figure\",\"type\":\"Plot\"},\"ticker\":{\"id\":\"cf812250-81d9-41de-8bb5-bd906fd1ac54\",\"type\":\"BasicTicker\"}},\"id\":\"141833de-df32-465d-9670-2875cd28c565\",\"type\":\"Grid\"},{\"attributes\":{\"data_source\":{\"id\":\"413e6e1e-b4c5-45b4-b377-a22fbf853a22\",\"type\":\"ColumnDataSource\"},\"glyph\":{\"id\":\"8871796d-e1ec-42b7-ba14-5e494cc9b73b\",\"type\":\"Line\"},\"hover_glyph\":null,\"muted_glyph\":null,\"nonselection_glyph\":{\"id\":\"5b8ba8db-d5ca-4110-8fa5-f43e27b0f2bb\",\"type\":\"Line\"},\"selection_glyph\":null,\"view\":{\"id\":\"7b269024-d645-49bb-9201-8462e93c150c\",\"type\":\"CDSView\"}},\"id\":\"fe654181-5bfc-42d0-baec-8faae048df10\",\"type\":\"GlyphRenderer\"},{\"attributes\":{},\"id\":\"a5ec8986-5cd2-4813-8e0a-b3cc202d5bc7\",\"type\":\"LinearScale\"},{\"attributes\":{},\"id\":\"7657313f-ecac-45d8-8647-78b68ad94a46\",\"type\":\"WheelZoomTool\"},{\"attributes\":{\"callback\":null},\"id\":\"4ac4869c-e855-4675-9d6b-5ab8d821c842\",\"type\":\"DataRange1d\"},{\"attributes\":{},\"id\":\"cf812250-81d9-41de-8bb5-bd906fd1ac54\",\"type\":\"BasicTicker\"},{\"attributes\":{\"line_color\":{\"value\":\"#1f77b4\"},\"x\":{\"field\":\"x\"},\"y\":{\"field\":\"y\"}},\"id\":\"8871796d-e1ec-42b7-ba14-5e494cc9b73b\",\"type\":\"Line\"},{\"attributes\":{\"axis_label\":\"rho\",\"formatter\":{\"id\":\"401f8533-a46f-4e98-98ec-1e2b8ac36f94\",\"type\":\"BasicTickFormatter\"},\"plot\":{\"id\":\"39b8085a-6833-4696-b387-54329584ac8c\",\"subtype\":\"Figure\",\"type\":\"Plot\"},\"ticker\":{\"id\":\"294f43a6-df68-48b3-9dd1-1026079b6cfa\",\"type\":\"BasicTicker\"}},\"id\":\"64a184e6-e5bb-4705-924b-6f27609527b9\",\"type\":\"LinearAxis\"},{\"attributes\":{},\"id\":\"f1f5e63e-b5cb-4002-86e2-65da70e7338a\",\"type\":\"BasicTickFormatter\"},{\"attributes\":{\"bottom_units\":\"screen\",\"fill_alpha\":{\"value\":0.5},\"fill_color\":{\"value\":\"lightgrey\"},\"left_units\":\"screen\",\"level\":\"overlay\",\"line_alpha\":{\"value\":1.0},\"line_color\":{\"value\":\"black\"},\"line_dash\":[4,4],\"line_width\":{\"value\":2},\"plot\":null,\"render_mode\":\"css\",\"right_units\":\"screen\",\"top_units\":\"screen\"},\"id\":\"adbebc47-b157-4802-9560-44d83858c0f9\",\"type\":\"BoxAnnotation\"},{\"attributes\":{\"below\":[{\"id\":\"6f983a5e-b799-407a-8ee2-60591021bce0\",\"type\":\"LinearAxis\"}],\"left\":[{\"id\":\"64a184e6-e5bb-4705-924b-6f27609527b9\",\"type\":\"LinearAxis\"}],\"plot_height\":400,\"plot_width\":400,\"renderers\":[{\"id\":\"6f983a5e-b799-407a-8ee2-60591021bce0\",\"type\":\"LinearAxis\"},{\"id\":\"141833de-df32-465d-9670-2875cd28c565\",\"type\":\"Grid\"},{\"id\":\"64a184e6-e5bb-4705-924b-6f27609527b9\",\"type\":\"LinearAxis\"},{\"id\":\"26cc8738-0b88-4498-8f94-6aef61d932a0\",\"type\":\"Grid\"},{\"id\":\"adbebc47-b157-4802-9560-44d83858c0f9\",\"type\":\"BoxAnnotation\"},{\"id\":\"fe654181-5bfc-42d0-baec-8faae048df10\",\"type\":\"GlyphRenderer\"}],\"title\":{\"id\":\"b4069af5-4611-4777-ab61-aed86f713c4f\",\"type\":\"Title\"},\"toolbar\":{\"id\":\"5ba4148a-8dfa-46bc-be38-59953ad4031e\",\"type\":\"Toolbar\"},\"x_range\":{\"id\":\"4ac4869c-e855-4675-9d6b-5ab8d821c842\",\"type\":\"DataRange1d\"},\"x_scale\":{\"id\":\"e294c840-631f-42d6-ac9e-1f24067f8b8b\",\"type\":\"LinearScale\"},\"y_range\":{\"id\":\"1bfbc881-8e39-4864-b5c4-9c5bb1a7dac2\",\"type\":\"DataRange1d\"},\"y_scale\":{\"id\":\"a5ec8986-5cd2-4813-8e0a-b3cc202d5bc7\",\"type\":\"LinearScale\"}},\"id\":\"39b8085a-6833-4696-b387-54329584ac8c\",\"subtype\":\"Figure\",\"type\":\"Plot\"},{\"attributes\":{},\"id\":\"ce5172c4-5e76-4eea-a2bf-17a96eb9fdea\",\"type\":\"SaveTool\"},{\"attributes\":{\"callback\":null,\"column_names\":[\"x\",\"y\"],\"data\":{\"x\":{\"__ndarray__\":\"exSuR+F6hD/sUbgehevxP9ejcD0K1wFAuB6F61G4CkDNzMzMzMwRQD4K16NwPRZArkfhehSuGkAfhetRuB4fQEjhehSuxyFAAAAAAAAAJEA=\",\"dtype\":\"float64\",\"shape\":[10]},\"y\":{\"__ndarray__\":\"0BYrwzciaEDQFivDNyJoQNAWK8M3ImhA0BYrwzciaECJApNOzYNnQELu+tli5WZA+9liZfhGZkC0xcrwjahlQCadmge5a2RA34gCk07NY0A=\",\"dtype\":\"float64\",\"shape\":[10]}}},\"id\":\"413e6e1e-b4c5-45b4-b377-a22fbf853a22\",\"type\":\"ColumnDataSource\"}],\"root_ids\":[\"39b8085a-6833-4696-b387-54329584ac8c\"]},\"title\":\"Bokeh Application\",\"version\":\"0.12.10\"}};\n",
       "    var render_items = [{\"docid\":\"152e9f37-ecec-4c71-b59d-657a87830361\",\"elementid\":\"53e2eea2-7c18-4ad2-81b0-b5d041ec0e28\",\"modelid\":\"39b8085a-6833-4696-b387-54329584ac8c\"}];\n",
       "\n",
       "    root.Bokeh.embed.embed_items(docs_json, render_items);\n",
       "  }\n",
       "\n",
       "  if (root.Bokeh !== undefined) {\n",
       "    embed_document(root);\n",
       "  } else {\n",
       "    var attempts = 0;\n",
       "    var timer = setInterval(function(root) {\n",
       "      if (root.Bokeh !== undefined) {\n",
       "        embed_document(root);\n",
       "        clearInterval(timer);\n",
       "      }\n",
       "      attempts++;\n",
       "      if (attempts > 100) {\n",
       "        console.log(\"Bokeh: ERROR: Unable to embed document because BokehJS library is missing\")\n",
       "        clearInterval(timer);\n",
       "      }\n",
       "    }, 10, root)\n",
       "  }\n",
       "})(window);"
      ],
      "application/vnd.bokehjs_exec.v0+json": ""
     },
     "metadata": {
      "application/vnd.bokehjs_exec.v0+json": {
       "id": "39b8085a-6833-4696-b387-54329584ac8c"
      }
     },
     "output_type": "display_data"
    }
   ],
   "source": [
    "# rho as a function of cm\n",
    "cms = np.linspace(.01,10,num=10)\n",
    "RHO = np.zeros([cms.size,])\n",
    "for i,cm in enumerate(list(cms)):\n",
    "    RHO[i] = get_rho(500,5,300,2800,cm,1)\n",
    "    \n",
    "R = bkp.figure(plot_height = 400,plot_width=400)\n",
    "R.line(cms,RHO)\n",
    "R.xaxis.axis_label= \"Cm\"\n",
    "R.yaxis.axis_label = \"rho\"\n",
    "bkp.show(R)"
   ]
  },
  {
   "cell_type": "code",
   "execution_count": 10,
   "metadata": {},
   "outputs": [
    {
     "data": {
      "text/html": [
       "\n",
       "<div class=\"bk-root\">\n",
       "    <div class=\"bk-plotdiv\" id=\"f795d299-0f31-4743-9a3d-336618d92d48\"></div>\n",
       "</div>"
      ]
     },
     "metadata": {},
     "output_type": "display_data"
    },
    {
     "data": {
      "application/javascript": [
       "(function(root) {\n",
       "  function embed_document(root) {\n",
       "    var docs_json = {\"58743552-f992-4c24-9a52-9f1124bcfaa6\":{\"roots\":{\"references\":[{\"attributes\":{},\"id\":\"836df76b-f96d-47b7-8408-3a67d3b3f134\",\"type\":\"HelpTool\"},{\"attributes\":{},\"id\":\"bed84fc2-ed87-4d0f-9c04-11564e9e5b76\",\"type\":\"BasicTicker\"},{\"attributes\":{\"active_drag\":\"auto\",\"active_inspect\":\"auto\",\"active_scroll\":\"auto\",\"active_tap\":\"auto\",\"tools\":[{\"id\":\"ea12a1ac-bddf-4c4e-a5c9-162dbebb0555\",\"type\":\"PanTool\"},{\"id\":\"77ba2326-a8f3-4138-bc93-811c8c1fb304\",\"type\":\"WheelZoomTool\"},{\"id\":\"7d8bd778-239d-42e4-bfb8-2700caf05fe3\",\"type\":\"BoxZoomTool\"},{\"id\":\"a95139d6-eaf4-4e8f-8e3b-f71cbb67f0a2\",\"type\":\"SaveTool\"},{\"id\":\"aeb14f1f-f67b-4e1e-9998-7cba8fb7fb66\",\"type\":\"ResetTool\"},{\"id\":\"836df76b-f96d-47b7-8408-3a67d3b3f134\",\"type\":\"HelpTool\"}]},\"id\":\"53d28ba9-cf82-4551-91a6-6bb115c3c9b5\",\"type\":\"Toolbar\"},{\"attributes\":{\"callback\":null,\"column_names\":[\"x\",\"y\"],\"data\":{\"x\":{\"__ndarray__\":\"AAAAAADAckDctm3btt2DQLdt27ZtW45ASZIkSZJslEC3bdu2bauZQCVJkiRJ6p5ASZIkSZIUokAAAAAAALSkQLdt27ZtU6dAbtu2bdvyqUAlSZIkSZKsQNy2bdu2Ma9ASZIkSZLosEAlSZIkSTiyQAAAAAAAiLNA\",\"dtype\":\"float64\",\"shape\":[15]},\"y\":{\"__ndarray__\":\"0BYrwzciaEDBpFPzIHdcQPvZYmX4RlZA34gCk07NU0DEN6LApFNRQDUPctfPFlBATs2D3PWzTUAzfCMKTDpLQBcrwzeiwEhAFyvDN6LASED72WJl+EZGQPvZYmX4RkZA+9liZfhGRkDfiAKTTs1DQN+IApNOzUNA\",\"dtype\":\"float64\",\"shape\":[15]}}},\"id\":\"0c0cecc0-4b39-440e-ace5-f2a4208d2e44\",\"type\":\"ColumnDataSource\"},{\"attributes\":{},\"id\":\"f4fc4cd3-0d79-4897-a37a-151cc890e8b4\",\"type\":\"BasicTicker\"},{\"attributes\":{\"callback\":null},\"id\":\"67ca2efa-b8be-4153-99f0-70ddd0b3ef87\",\"type\":\"DataRange1d\"},{\"attributes\":{\"data_source\":{\"id\":\"0c0cecc0-4b39-440e-ace5-f2a4208d2e44\",\"type\":\"ColumnDataSource\"},\"glyph\":{\"id\":\"79ac280b-885f-4738-92e1-e1c14b566d27\",\"type\":\"Line\"},\"hover_glyph\":null,\"muted_glyph\":null,\"nonselection_glyph\":{\"id\":\"a90d886d-4873-42ea-a7ad-f6f8dd34fbf5\",\"type\":\"Line\"},\"selection_glyph\":null,\"view\":{\"id\":\"3e08081b-2bd2-477b-bd21-371463c1f891\",\"type\":\"CDSView\"}},\"id\":\"eacabf42-9409-481d-aab8-0f87e5d387f0\",\"type\":\"GlyphRenderer\"},{\"attributes\":{\"below\":[{\"id\":\"2c7564f1-43cf-4a0d-b0cd-11ad64c78c76\",\"type\":\"LinearAxis\"}],\"left\":[{\"id\":\"700c21ec-decc-4e64-9264-9221a2cf1f04\",\"type\":\"LinearAxis\"}],\"plot_height\":400,\"plot_width\":400,\"renderers\":[{\"id\":\"2c7564f1-43cf-4a0d-b0cd-11ad64c78c76\",\"type\":\"LinearAxis\"},{\"id\":\"68798000-d7dc-4ac1-9d57-4194944ca2fe\",\"type\":\"Grid\"},{\"id\":\"700c21ec-decc-4e64-9264-9221a2cf1f04\",\"type\":\"LinearAxis\"},{\"id\":\"69e4ff7d-593f-4d33-a938-77dfd91f3b2d\",\"type\":\"Grid\"},{\"id\":\"e23304f0-69d0-4306-8290-4efeeceb4bf4\",\"type\":\"BoxAnnotation\"},{\"id\":\"eacabf42-9409-481d-aab8-0f87e5d387f0\",\"type\":\"GlyphRenderer\"}],\"title\":{\"id\":\"a043af19-665d-43a1-891f-f7fd1d29c4f1\",\"type\":\"Title\"},\"toolbar\":{\"id\":\"53d28ba9-cf82-4551-91a6-6bb115c3c9b5\",\"type\":\"Toolbar\"},\"x_range\":{\"id\":\"67ca2efa-b8be-4153-99f0-70ddd0b3ef87\",\"type\":\"DataRange1d\"},\"x_scale\":{\"id\":\"8c024bb5-ba18-4d1a-a663-30d52ab127bb\",\"type\":\"LinearScale\"},\"y_range\":{\"id\":\"63b04b40-e2dd-445f-b6c8-c276847dbc91\",\"type\":\"DataRange1d\"},\"y_scale\":{\"id\":\"9f74649c-491c-406c-86bc-0eef28661b14\",\"type\":\"LinearScale\"}},\"id\":\"20ce279b-bac5-478c-b821-7fb1285d367c\",\"subtype\":\"Figure\",\"type\":\"Plot\"},{\"attributes\":{\"axis_label\":\"axial resistance\",\"formatter\":{\"id\":\"b5cd1b71-3b6b-4b04-980e-4e62d6c67219\",\"type\":\"BasicTickFormatter\"},\"plot\":{\"id\":\"20ce279b-bac5-478c-b821-7fb1285d367c\",\"subtype\":\"Figure\",\"type\":\"Plot\"},\"ticker\":{\"id\":\"f4fc4cd3-0d79-4897-a37a-151cc890e8b4\",\"type\":\"BasicTicker\"}},\"id\":\"2c7564f1-43cf-4a0d-b0cd-11ad64c78c76\",\"type\":\"LinearAxis\"},{\"attributes\":{},\"id\":\"ea12a1ac-bddf-4c4e-a5c9-162dbebb0555\",\"type\":\"PanTool\"},{\"attributes\":{\"source\":{\"id\":\"0c0cecc0-4b39-440e-ace5-f2a4208d2e44\",\"type\":\"ColumnDataSource\"}},\"id\":\"3e08081b-2bd2-477b-bd21-371463c1f891\",\"type\":\"CDSView\"},{\"attributes\":{},\"id\":\"8c024bb5-ba18-4d1a-a663-30d52ab127bb\",\"type\":\"LinearScale\"},{\"attributes\":{\"bottom_units\":\"screen\",\"fill_alpha\":{\"value\":0.5},\"fill_color\":{\"value\":\"lightgrey\"},\"left_units\":\"screen\",\"level\":\"overlay\",\"line_alpha\":{\"value\":1.0},\"line_color\":{\"value\":\"black\"},\"line_dash\":[4,4],\"line_width\":{\"value\":2},\"plot\":null,\"render_mode\":\"css\",\"right_units\":\"screen\",\"top_units\":\"screen\"},\"id\":\"e23304f0-69d0-4306-8290-4efeeceb4bf4\",\"type\":\"BoxAnnotation\"},{\"attributes\":{},\"id\":\"a95139d6-eaf4-4e8f-8e3b-f71cbb67f0a2\",\"type\":\"SaveTool\"},{\"attributes\":{\"callback\":null},\"id\":\"63b04b40-e2dd-445f-b6c8-c276847dbc91\",\"type\":\"DataRange1d\"},{\"attributes\":{},\"id\":\"44f72f12-5250-4afb-88a3-ed47d1207a20\",\"type\":\"BasicTickFormatter\"},{\"attributes\":{\"overlay\":{\"id\":\"e23304f0-69d0-4306-8290-4efeeceb4bf4\",\"type\":\"BoxAnnotation\"}},\"id\":\"7d8bd778-239d-42e4-bfb8-2700caf05fe3\",\"type\":\"BoxZoomTool\"},{\"attributes\":{\"axis_label\":\"rho\",\"formatter\":{\"id\":\"44f72f12-5250-4afb-88a3-ed47d1207a20\",\"type\":\"BasicTickFormatter\"},\"plot\":{\"id\":\"20ce279b-bac5-478c-b821-7fb1285d367c\",\"subtype\":\"Figure\",\"type\":\"Plot\"},\"ticker\":{\"id\":\"bed84fc2-ed87-4d0f-9c04-11564e9e5b76\",\"type\":\"BasicTicker\"}},\"id\":\"700c21ec-decc-4e64-9264-9221a2cf1f04\",\"type\":\"LinearAxis\"},{\"attributes\":{},\"id\":\"9f74649c-491c-406c-86bc-0eef28661b14\",\"type\":\"LinearScale\"},{\"attributes\":{\"line_color\":{\"value\":\"#1f77b4\"},\"x\":{\"field\":\"x\"},\"y\":{\"field\":\"y\"}},\"id\":\"79ac280b-885f-4738-92e1-e1c14b566d27\",\"type\":\"Line\"},{\"attributes\":{\"dimension\":1,\"plot\":{\"id\":\"20ce279b-bac5-478c-b821-7fb1285d367c\",\"subtype\":\"Figure\",\"type\":\"Plot\"},\"ticker\":{\"id\":\"bed84fc2-ed87-4d0f-9c04-11564e9e5b76\",\"type\":\"BasicTicker\"}},\"id\":\"69e4ff7d-593f-4d33-a938-77dfd91f3b2d\",\"type\":\"Grid\"},{\"attributes\":{\"line_alpha\":{\"value\":0.1},\"line_color\":{\"value\":\"#1f77b4\"},\"x\":{\"field\":\"x\"},\"y\":{\"field\":\"y\"}},\"id\":\"a90d886d-4873-42ea-a7ad-f6f8dd34fbf5\",\"type\":\"Line\"},{\"attributes\":{},\"id\":\"77ba2326-a8f3-4138-bc93-811c8c1fb304\",\"type\":\"WheelZoomTool\"},{\"attributes\":{\"plot\":null,\"text\":\"\"},\"id\":\"a043af19-665d-43a1-891f-f7fd1d29c4f1\",\"type\":\"Title\"},{\"attributes\":{\"plot\":{\"id\":\"20ce279b-bac5-478c-b821-7fb1285d367c\",\"subtype\":\"Figure\",\"type\":\"Plot\"},\"ticker\":{\"id\":\"f4fc4cd3-0d79-4897-a37a-151cc890e8b4\",\"type\":\"BasicTicker\"}},\"id\":\"68798000-d7dc-4ac1-9d57-4194944ca2fe\",\"type\":\"Grid\"},{\"attributes\":{},\"id\":\"aeb14f1f-f67b-4e1e-9998-7cba8fb7fb66\",\"type\":\"ResetTool\"},{\"attributes\":{},\"id\":\"b5cd1b71-3b6b-4b04-980e-4e62d6c67219\",\"type\":\"BasicTickFormatter\"}],\"root_ids\":[\"20ce279b-bac5-478c-b821-7fb1285d367c\"]},\"title\":\"Bokeh Application\",\"version\":\"0.12.10\"}};\n",
       "    var render_items = [{\"docid\":\"58743552-f992-4c24-9a52-9f1124bcfaa6\",\"elementid\":\"f795d299-0f31-4743-9a3d-336618d92d48\",\"modelid\":\"20ce279b-bac5-478c-b821-7fb1285d367c\"}];\n",
       "\n",
       "    root.Bokeh.embed.embed_items(docs_json, render_items);\n",
       "  }\n",
       "\n",
       "  if (root.Bokeh !== undefined) {\n",
       "    embed_document(root);\n",
       "  } else {\n",
       "    var attempts = 0;\n",
       "    var timer = setInterval(function(root) {\n",
       "      if (root.Bokeh !== undefined) {\n",
       "        embed_document(root);\n",
       "        clearInterval(timer);\n",
       "      }\n",
       "      attempts++;\n",
       "      if (attempts > 100) {\n",
       "        console.log(\"Bokeh: ERROR: Unable to embed document because BokehJS library is missing\")\n",
       "        clearInterval(timer);\n",
       "      }\n",
       "    }, 10, root)\n",
       "  }\n",
       "})(window);"
      ],
      "application/vnd.bokehjs_exec.v0+json": ""
     },
     "metadata": {
      "application/vnd.bokehjs_exec.v0+json": {
       "id": "20ce279b-bac5-478c-b821-7fb1285d367c"
      }
     },
     "output_type": "display_data"
    }
   ],
   "source": [
    "# rho as function of Ra\n",
    "Ras = np.linspace(300,5000,num=15)\n",
    "RHO = np.zeros([Ras.size,])\n",
    "for i,Ra in enumerate(list(Ras)):\n",
    "    RHO[i] = get_rho(500,5,Ra,2800,1,1)\n",
    "    \n",
    "R = bkp.figure(plot_height = 400,plot_width=400)\n",
    "R.line(Ras,RHO)\n",
    "R.xaxis.axis_label= \"axial resistance\"\n",
    "R.yaxis.axis_label = \"rho\"\n",
    "bkp.show(R)"
   ]
  },
  {
   "cell_type": "code",
   "execution_count": 11,
   "metadata": {
    "collapsed": true
   },
   "outputs": [],
   "source": [
    "def plot_branched_cable(branch_pos,L,diam,I):\n",
    "    # make a cable, insert stimulus halfway down the process\n",
    "    cell = branched_cable()\n",
    "    cell.make_cable(500,5,Ra=300)\n",
    "    cell.add_branch('cable',branch_pos,L,diam,Ra=300)\n",
    "    cell.add_IClamp('cable',0,1,50)\n",
    "\n",
    "    # record along entire length of cable and one point on the branch\n",
    "    positions = np.linspace(0,1,num=101)\n",
    "    for pos in positions:\n",
    "        cell.recording_vecs([['cable',pos,'v'],['branch',pos,'v']])\n",
    "        \n",
    "    #cell.recording_vecs([['branch',.5,'v']])\n",
    "\n",
    "    #print(cell.record_vecs.keys())\n",
    "    t,results = run_current_clamp(cell,'iclamp',[I],tstop=200)\n",
    "\n",
    "    RC = bkp.figure(plot_height=400,plot_width=400)\n",
    "    #keys = list(results.record_vecs.keys())\n",
    "    for i, color in zip(range(0,len(positions),10),colors):\n",
    "        key = \"cable:%.2f:v\" % positions[i]\n",
    "        RC.line(t,np.squeeze(results[key][:,-1]),color=color,legend=str(positions[i]))\n",
    "    RC.line(t,np.squeeze(results['branch:0.50:v'][:,-1]),line_dash='dotted',legend='branch')\n",
    "    RC.xaxis.axis_label=\"I (mA)\"\n",
    "    RC.yaxis.axis_label=\"mV\"\n",
    "\n",
    "\n",
    "    # steady state V as a function of distance\n",
    "    ss_ind = np.where(t>95)[0][0]\n",
    "    V_ss = np.zeros([len(positions),])\n",
    "    V_ss_br = np.zeros([len(positions),])\n",
    "    \n",
    "    V_half = np.zeros([len(positions),])\n",
    "    tau = np.zeros([len(positions),])\n",
    "    for i,pos in enumerate(positions):\n",
    "        #print(pos)\n",
    "        key = \"cable:%.2f:v\" % pos\n",
    "        V_ss[i] = results[key][ss_ind,-1]\n",
    "        \n",
    "        br_key = \"branch:%.2f:v\" % pos\n",
    "        V_ss_br[i] = results[br_key][ss_ind,-1]\n",
    "        \n",
    "        V_half[i] = .5*(V_ss[i]+65)-65\n",
    "        tau[i] = np.where(results[key][:,-1]>V_half[i])[0][0]/t.size*200. -20\n",
    "        \n",
    "        \n",
    "    VX = bkp.figure(plot_height = 400, plot_width=400)\n",
    "    VX.line(positions*500,V_ss)\n",
    "    VX.xaxis.axis_label = \"position\"\n",
    "    VX.yaxis.axis_label = \"Steady-state V (mV)\"\n",
    "    \n",
    "    VX.line(500*branch_pos + positions*L,V_ss_br,line_color='red',line_dash='dashed')\n",
    "    \n",
    "    \n",
    "    T = bkp.figure(plot_height=400, plot_width=400)\n",
    "    T.line(positions,tau)\n",
    "    T.xaxis.axis_label = \"position\"\n",
    "    T.yaxis.axis_label = \"tau\"\n",
    "    \n",
    "\n",
    "    bkp.show(bk.layouts.layout([[RC,VX],[T]]))\n"
   ]
  },
  {
   "cell_type": "code",
   "execution_count": 12,
   "metadata": {},
   "outputs": [
    {
     "data": {
      "application/vnd.jupyter.widget-view+json": {
       "model_id": "12129970e9614e9aa82b8973eee7c9a1",
       "version_major": 2,
       "version_minor": 0
      },
      "text/plain": [
       "A Jupyter Widget"
      ]
     },
     "metadata": {},
     "output_type": "display_data"
    },
    {
     "data": {
      "text/plain": [
       "<function __main__.plot_branched_cable>"
      ]
     },
     "execution_count": 12,
     "metadata": {},
     "output_type": "execute_result"
    }
   ],
   "source": [
    "widgets.interact_manual(plot_branched_cable,\n",
    "                 branch_pos = widgets.FloatSlider(min=0,max=1,continuosu_update=False),\n",
    "                 L=widgets.FloatSlider(min=10,max=500,continous_update=False),\n",
    "                 diam=widgets.FloatSlider(min=.1,max=10,continuous_update=False),\n",
    "                 I = widgets.FloatSlider(min=.1,max=5,continuous_update=False))"
   ]
  },
  {
   "cell_type": "code",
   "execution_count": null,
   "metadata": {
    "collapsed": true
   },
   "outputs": [],
   "source": []
  }
 ],
 "metadata": {
  "kernelspec": {
   "display_name": "Python 3",
   "language": "python",
   "name": "python3"
  },
  "language_info": {
   "codemirror_mode": {
    "name": "ipython",
    "version": 3
   },
   "file_extension": ".py",
   "mimetype": "text/x-python",
   "name": "python",
   "nbconvert_exporter": "python",
   "pygments_lexer": "ipython3",
   "version": "3.6.3"
  }
 },
 "nbformat": 4,
 "nbformat_minor": 2
}
