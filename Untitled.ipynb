{
 "cells": [
  {
   "cell_type": "code",
   "execution_count": 12,
   "metadata": {
    "collapsed": true
   },
   "outputs": [],
   "source": [
    "import numpy as np\n",
    "import matplotlib.pyplot as plt\n",
    "%matplotlib inline"
   ]
  },
  {
   "cell_type": "code",
   "execution_count": 6,
   "metadata": {
    "collapsed": true
   },
   "outputs": [],
   "source": [
    "def trap0(v,th,a,q):\n",
    "    return np.divide(a*(v-th),(1-np.exp(-(v-th)/q)))"
   ]
  },
  {
   "cell_type": "code",
   "execution_count": 60,
   "metadata": {},
   "outputs": [],
   "source": [
    "sh   = 15 \n",
    "gbar = 0.010\n",
    "tha  =  -30 # v 1/2 for act\t *****************\n",
    "qa   = 7.2 #(mV) act slope (4.5) ***************\n",
    "Ra   = 0.4 #: open (v)\n",
    "Rb   = 0.124 #(/ms): close (v)\n",
    "\n",
    "thi1  = -45 # v 1/2 for inact  ********\n",
    "thi2  = -45 # v 1/2 for inact \n",
    "qd   = 1.5 #(mV)        : inact tau slope *************\n",
    "qg   = qd #1.5    #  (mV)\n",
    "mmin=0.02\n",
    "hmin=0.5\n",
    "q10=2\n",
    "Rg   = 0.01 #(/ms): inact recov (v) \n",
    "Rd   = .03 #(/ms: inact (v)\n",
    "\n",
    "thinf  = -50 #(mV) : inact inf slope\n",
    "qinf  = 4 #(mV) : inact inf slope \n",
    "\n",
    "a0m = 1. # global gain on kinetics\n",
    "a0h = 1. \n",
    "\n",
    "celsius = 27\n",
    "vm = np.linspace(-120,40)"
   ]
  },
  {
   "cell_type": "code",
   "execution_count": 61,
   "metadata": {},
   "outputs": [],
   "source": [
    "qt=q10**((celsius-24)/10)\n",
    "a = trap0(vm,tha+sh,Ra,qa)\n",
    "b = trap0(-vm,-tha-sh,Rb,qa)\n",
    "mtau = 1/(a+b)/qt/a0m\n",
    "minf = np.divide(a,(a+b))\n",
    "\n",
    "a = trap0(vm,thi1+sh,Rd,qd)\n",
    "b = trap0(-vm,-thi2-sh,Rg,qg)\n",
    "htau =  1/(a+b)/qt/a0h\n",
    "        \n",
    "hinf = 1/(1+np.exp((vm-thinf-sh)/qinf))"
   ]
  },
  {
   "cell_type": "code",
   "execution_count": 62,
   "metadata": {},
   "outputs": [
    {
     "data": {
      "text/plain": [
       "[<matplotlib.lines.Line2D at 0x10f74ed30>]"
      ]
     },
     "execution_count": 62,
     "metadata": {},
     "output_type": "execute_result"
    },
    {
     "data": {
      "image/png": "[encoded data removed]",
      "text/plain": [
       "<matplotlib.figure.Figure at 0x10f09a438>"
      ]
     },
     "metadata": {},
     "output_type": "display_data"
    }
   ],
   "source": [
    "f,axarr = plt.subplots(2,2)\n",
    "axarr[0,0].plot(vm,minf)\n",
    "axarr[0,1].plot(vm,mtau)\n",
    "axarr[1,0].plot(vm,hinf)\n",
    "axarr[1,1].plot(vm,htau)\n"
   ]
  },
  {
   "cell_type": "code",
   "execution_count": null,
   "metadata": {
    "collapsed": true
   },
   "outputs": [],
   "source": []
  }
 ],
 "metadata": {
  "kernelspec": {
   "display_name": "Python 3",
   "language": "python",
   "name": "python3"
  },
  "language_info": {
   "codemirror_mode": {
    "name": "ipython",
    "version": 3
   },
   "file_extension": ".py",
   "mimetype": "text/x-python",
   "name": "python",
   "nbconvert_exporter": "python",
   "pygments_lexer": "ipython3",
   "version": "3.6.3"
  }
 },
 "nbformat": 4,
 "nbformat_minor": 2
}
